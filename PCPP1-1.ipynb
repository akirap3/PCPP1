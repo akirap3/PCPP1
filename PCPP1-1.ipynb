{
 "cells": [
  {
   "cell_type": "markdown",
   "metadata": {},
   "source": [
    "## PCPP1 | Advanced Perspective of Classes and Object-Oriented Programming in Python"
   ]
  },
  {
   "cell_type": "markdown",
   "metadata": {},
   "source": [
    "In this course, you will learn about:\n",
    "\n",
    "- Classes, instances, attributes, methods, as well as working with class and instance data;\n",
    "- shallow and deep operations;\n",
    "- abstract classes, method overriding, static and class methods, special methods;\n",
    "- inheritance, polymorphism, subclasses, and encapsulation;\n",
    "- advanced exception handling techniques;\n",
    "- the pickle and shelve modules;\n",
    "- metaclasses."
   ]
  },
  {
   "cell_type": "markdown",
   "metadata": {},
   "source": [
    "### 1.1.1.1 Classes, Instances, Attributes, Methods — introduction"
   ]
  },
  {
   "cell_type": "markdown",
   "metadata": {},
   "source": [
    "#### Introduction to Object-Oriented Programming"
   ]
  },
  {
   "cell_type": "markdown",
   "metadata": {},
   "source": [
    "This chapter assumes that you are familiar with the basics of OOP, so to establish an understanding of common terms, we should agree on the following definitions:\n",
    "\n",
    "- `class` — an idea, blueprint, or recipe for an instance;\n",
    "- `instance` — an instantiation of the class; very often used interchangeably with the term 'object';\n",
    "- `object` — Python's representation of data and methods; objects could be aggregates of instances;\n",
    "- `attribute` — any object or class trait; could be a variable or method;\n",
    "- `method` — a function built into a class that is executed on behalf of the class or object; some say that it’s a 'callable attribute';\n",
    "- `type` — refers to the class that was used to instantiate the object."
   ]
  },
  {
   "cell_type": "markdown",
   "metadata": {},
   "source": [
    "Now that we’re starting to discuss more advanced OOP topics, it’s important to remember that in Python everything is an object (functions, modules, lists, etc.). In the very last section of this module, you'll see that even classes are instances.\n",
    "\n",
    "Why is everything in Python organized as objects?\n",
    "\n",
    "Because an object is a very useful culmination of all the terms described above:\n",
    "\n",
    "- it is an independent instance of class, and it contains and aggregates some specific and valuable data in attributes relevant to individual objects;\n",
    "- it owns and shares methods used to perform actions.\n",
    "\n",
    "The following issues will be addressed during this and the next module:\n",
    "\n",
    "- creation and use of decorators;\n",
    "- implementation of core syntax;\n",
    "- class and static methods;\n",
    "- abstract methods;\n",
    "- comparison of inheritance and composition;\n",
    "- attribute encapsulation;\n",
    "- exception chaining;\n",
    "- object persistence;\n",
    "- metaprogramming."
   ]
  },
  {
   "cell_type": "markdown",
   "metadata": {},
   "source": [
    "### 1.1.1.2 Classes, Instances, Attributes, Methods — what is a class?"
   ]
  },
  {
   "cell_type": "markdown",
   "metadata": {},
   "source": [
    "- Classes describe attributes and functionalities together to represent an idea as accurately as possible.\n",
    "\n",
    "- You can build a class from scratch or, something that is more interesting and useful, employ inheritance to get a more specialized class based on another class.\n",
    "\n",
    "- Additionally, your classes could be used as superclasses for newly derived classes (subclasses).\n",
    "\n",
    "- Python’s class mechanism adds classes with a minimum of new syntax and semantics:"
   ]
  },
  {
   "cell_type": "code",
   "execution_count": 43,
   "metadata": {},
   "outputs": [],
   "source": [
    "class Duck:\n",
    "    def __init__(self, height, weight, sex):\n",
    "        self.height = height\n",
    "        self.weight = weight\n",
    "        self.sex = sex\n",
    "\n",
    "    def walk(self):\n",
    "        pass\n",
    "\n",
    "    def quack(self):\n",
    "        return print('Quack')"
   ]
  },
  {
   "cell_type": "markdown",
   "metadata": {},
   "source": [
    "### 1.1.1.3 What is an instance, what is an object?"
   ]
  },
  {
   "cell_type": "markdown",
   "metadata": {},
   "source": [
    "- An ***instance*** is one particular physical instantiation of a class that occupies memory and has data elements. This is what 'self' refers to when we deal with class instances.\n",
    "\n",
    "\n",
    "- An ***object*** is everything in Python that you can operate on, like a class, instance, list, or dictionary.\n",
    "\n",
    "\n",
    "- The term ***instance*** is very often used interchangeably with the term ***object***, because ***object*** refers to a particular instance of a class. It’s a bit of a simplification, because the term ***object*** is more general than ***instance***.\n",
    "\n",
    "\n",
    "- The relation between instances and classes is quite simple: we have one class of a given type and an unlimited number of instances of a given class.\n",
    "\n",
    "\n",
    "- Each instance has its own, individual state (expressed as variables, so objects again) and shares its behavior (expressed as methods, so objects again).\n",
    "\n",
    "\n",
    "- To create instances, we have to instantiate the class:"
   ]
  },
  {
   "cell_type": "code",
   "execution_count": 44,
   "metadata": {},
   "outputs": [],
   "source": [
    "duckling = Duck(height=10, weight=3.4, sex=\"male\")\n",
    "drake = Duck(height=25, weight=3.7, sex=\"male\")\n",
    "hen = Duck(height=20, weight=3.4, sex=\"female\")"
   ]
  },
  {
   "cell_type": "markdown",
   "metadata": {},
   "source": [
    "### 1.1.1.4 What is an attribute, what is a method?"
   ]
  },
  {
   "cell_type": "markdown",
   "metadata": {},
   "source": [
    "- An ***attribute*** is a capacious term that can refer to two major kinds of class traits:\n",
    "\n",
    "\n",
    "    - variables, containing information about the class itself or a class instance; classes and class instances can own many variables;\n",
    "    - methods, formulated as Python functions; they represent a behavior that could be applied to the object.\n",
    "\n",
    "\n",
    "- Each Python object has its own individual set of attributes. We can extend that set by adding new attributes to existing objects, change (reassign) them or control access to those attributes.\n",
    "\n",
    "\n",
    "- It is said that methods are the 'callable attributes' of Python objects. By 'callable' we should understand anything that can be called; such objects allow you to use round parentheses () and eventually pass some parameters, just like functions.\n",
    "\n",
    "\n",
    "- This is a very important fact to remember: methods are called on behalf of an object and are usually executed on object data.\n",
    "\n",
    "\n",
    "- Class attributes are most often addressed with 'dot' notation, i.e., `<class>dot<attribute>`. The other way to access attributes (variables) it to use the `getattr()` and `setattr()` functions."
   ]
  },
  {
   "cell_type": "markdown",
   "metadata": {},
   "source": [
    "### 1.1.1.5 What is a type?"
   ]
  },
  {
   "cell_type": "markdown",
   "metadata": {},
   "source": [
    "- A type is one of the most fundamental and abstract terms of Python:\n",
    "    - it is the foremost type that any class can be inherited from;\n",
    "    - as a result, if you’re looking for the type of class, then `type` is returned;\n",
    "    - in all other cases, it refers to the class that was used to instantiate the object; it’s a general term describing the type/kind of any object;\n",
    "    - it’s the name of a very handy Python function that returns the class information about the objects passed as arguments to that function;\n",
    "    - it returns a new type object when `type()` is called with three arguments; we'll talk about this in the 'metaclass' section.\n",
    "\n",
    "\n",
    "- Python comes with a number of built-in types, like numbers, strings, lists, etc., that are used to build more complex types. Creating a new class creates a new type of object, allowing new instances of that type to be made.\n",
    "\n",
    "\n",
    "- Information about an object’s class is contained in `__class__`."
   ]
  },
  {
   "cell_type": "code",
   "execution_count": 45,
   "metadata": {},
   "outputs": [
    {
     "name": "stdout",
     "output_type": "stream",
     "text": [
      "<class 'type'>\n",
      "<class '__main__.Duck'>\n",
      "<class 'str'>\n",
      "<class 'method'>\n"
     ]
    }
   ],
   "source": [
    "class Duck:\n",
    "    def __init__(self, height, weight, sex):\n",
    "        self.height = height\n",
    "        self.weight = weight\n",
    "        self.sex = sex\n",
    "\n",
    "    def walk(self):\n",
    "        pass\n",
    "\n",
    "    def quack(self):\n",
    "        return print('Quack')\n",
    "\n",
    "duckling = Duck(height=10, weight=3.4, sex=\"male\")\n",
    "drake = Duck(height=25, weight=3.7, sex=\"male\")\n",
    "hen = Duck(height=20, weight=3.4, sex=\"female\")\n",
    "\n",
    "print(Duck.__class__)\n",
    "print(duckling.__class__)\n",
    "print(duckling.sex.__class__)\n",
    "print(duckling.quack.__class__)"
   ]
  },
  {
   "cell_type": "markdown",
   "metadata": {},
   "source": [
    "### 1.1.1.6 Classes, Instances, Attributes, Methods — the LAB"
   ]
  },
  {
   "cell_type": "markdown",
   "metadata": {},
   "source": [
    "#### Scenario\n",
    "- create a class representing a mobile phone;\n",
    "- your class should implement the following methods:\n",
    "    - `__init__` expects a number to be passed as an argument; this method stores the number in an instance variable `self.number`\n",
    "    - `turn_on()` should return the message 'mobile phone {number} is turned on'. Curly brackets are used to mark the place to insert the object's number variable;\n",
    "    - `turn_off()` should return the message 'mobile phone is turned off';\n",
    "    - `call(number)` should return the message 'calling {number}'. Curly brackets are used to mark the place to insert the object's number variable;\n",
    "\n",
    "- create two objects representing two different mobile phones; assign any random phone numbers to them;\n",
    "- implement a sequence of method calls on the objects to turn them on, call any number. Print the methods' outcomes;\n",
    "- turn off both mobiles."
   ]
  },
  {
   "cell_type": "code",
   "execution_count": 46,
   "metadata": {},
   "outputs": [
    {
     "name": "stdout",
     "output_type": "stream",
     "text": [
      "mobile phone 01632-960004 is turned on\n",
      "mobile phone 01632-960012 is turned on\n",
      "calling 555-34343\n",
      "mobile phone is turned off\n",
      "mobile phone is turned off\n"
     ]
    }
   ],
   "source": [
    "class MobilePhone:\n",
    "    def __init__(self, number):\n",
    "        self.number = number\n",
    "    def turn_on(self):\n",
    "        return \"mobile phone \" + self.number + \" is turned on\"\n",
    "    def turn_off(self):\n",
    "        return \"mobile phone is turned off\"\n",
    "    def call(self, number):\n",
    "        return \"calling \" + number\n",
    "    \n",
    "mobilephone1 = MobilePhone(\"01632-960004\")\n",
    "mobilephone2 = MobilePhone(\"01632-960012\")\n",
    "print(mobilephone1.turn_on())\n",
    "print(mobilephone2.turn_on())\n",
    "print(mobilephone1.call(\"555-34343\"))\n",
    "print(mobilephone1.turn_off())\n",
    "print(mobilephone2.turn_off())"
   ]
  },
  {
   "cell_type": "markdown",
   "metadata": {},
   "source": [
    "### 1.2.1.1 Working with class and instance data – instance variables\n"
   ]
  },
  {
   "cell_type": "markdown",
   "metadata": {},
   "source": [
    "Python allows for variables to be used at the instance level or the class level. Those used at the instance level are referred to as ***instance variables***, whereas variables used at the class level are referred to as ***class variables***."
   ]
  },
  {
   "cell_type": "markdown",
   "metadata": {},
   "source": [
    "#### Instance variables"
   ]
  },
  {
   "cell_type": "markdown",
   "metadata": {},
   "source": [
    "- This kind of variable exists when and only when it is explicitly created and added to an object. This can be done during the object's initialization, performed by the `__init__` method, or later at any moment of the object's life. Furthermore, any existing property can be removed at any time.\n",
    "\n",
    "\n",
    "- Each object carries its own set of variables – they don't interfere with one another in any way. The word instance suggests that they are closely connected to the objects (which are class instances), not to the classes themselves. To get access to the instance variable, you should address the variable in the following way: `object`dot`variable_name`.\n",
    "\n",
    "\n",
    "- Let's look at how the instance variable is created and accessed in the code presented below."
   ]
  },
  {
   "cell_type": "code",
   "execution_count": 47,
   "metadata": {},
   "outputs": [
    {
     "name": "stdout",
     "output_type": "stream",
     "text": [
      "d1's instance variable is equal to: 100\n",
      "d2's instance variable is equal to: 200\n"
     ]
    }
   ],
   "source": [
    "class Demo:\n",
    "    def __init__(self, value):\n",
    "        self.instance_var = value\n",
    "\n",
    "d1 = Demo(100)\n",
    "d2 = Demo(200)\n",
    "\n",
    "print(\"d1's instance variable is equal to:\", d1.instance_var)\n",
    "print(\"d2's instance variable is equal to:\", d2.instance_var)\n"
   ]
  },
  {
   "cell_type": "markdown",
   "metadata": {},
   "source": [
    "### 1.2.1.2 Working with class and instance data – instance variables\n"
   ]
  },
  {
   "cell_type": "markdown",
   "metadata": {},
   "source": [
    "- Another snippet shows that instance variables can be created during any moment of an object's life. Moreover, it lists the contents of each object, using the built-in `__dict__` property that is present for every Python object.\n",
    "\n",
    "\n",
    "- This example shows that modifying the instance variable of any object has no impact on all the remaining objects. Instance variables are completely isolated from each other."
   ]
  },
  {
   "cell_type": "code",
   "execution_count": 48,
   "metadata": {},
   "outputs": [
    {
     "name": "stdout",
     "output_type": "stream",
     "text": [
      "contents of d1: {'instance_var': 100, 'another_var': 'another variable in the object'}\n",
      "contents of d2: {'instance_var': 200}\n"
     ]
    }
   ],
   "source": [
    "class Demo:\n",
    "    def __init__(self, value):\n",
    "        self.instance_var = value\n",
    "\n",
    "d1 = Demo(100)\n",
    "d2 = Demo(200)\n",
    "\n",
    "d1.another_var = 'another variable in the object'\n",
    "\n",
    "print('contents of d1:', d1.__dict__)\n",
    "print('contents of d2:', d2.__dict__)\n"
   ]
  },
  {
   "cell_type": "markdown",
   "metadata": {},
   "source": [
    "### 1.2.1.3 Working with class and instance data – class variables\n"
   ]
  },
  {
   "cell_type": "markdown",
   "metadata": {},
   "source": [
    "#### Class variables"
   ]
  },
  {
   "cell_type": "markdown",
   "metadata": {},
   "source": [
    "- Class variables are defined within the class construction, so these variables are available before any class instance is created. To get access to a class variable, simply access it using the class name, and then provide the variable name."
   ]
  },
  {
   "cell_type": "code",
   "execution_count": 49,
   "metadata": {},
   "outputs": [
    {
     "name": "stdout",
     "output_type": "stream",
     "text": [
      "shared variable\n",
      "{'__module__': '__main__', 'class_var': 'shared variable', '__dict__': <attribute '__dict__' of 'Demo' objects>, '__weakref__': <attribute '__weakref__' of 'Demo' objects>, '__doc__': None}\n"
     ]
    }
   ],
   "source": [
    "class Demo:\n",
    "    class_var = 'shared variable'\n",
    "\n",
    "print(Demo.class_var)\n",
    "print(Demo.__dict__)\n"
   ]
  },
  {
   "cell_type": "markdown",
   "metadata": {},
   "source": [
    "- As a class variable is present before any instance of the class is created, it can be used to store some meta data relevant to the class, rather than to the instances:\n",
    "    - fixed information like description, configuration, or identification values;\n",
    "    - mutable information like the number of instances created (if we add a code to increment the value of a designated variable every time we create a class instance)\n",
    "\n",
    "\n",
    "- A class variable is a class property that exists in just one copy, and it is stored outside any class instance. Because it is owned by the class itself, all class variables are shared by all instances of the class. They will therefore generally have the same value for every instance; butas the class variable is defined outside the object, it is not listed in the object's `__dict__`.\n",
    "\n",
    "\n",
    "- **Conclusion**: when you want to read the class variable value, you can use a class or class instance to access it."
   ]
  },
  {
   "cell_type": "code",
   "execution_count": 50,
   "metadata": {},
   "outputs": [
    {
     "name": "stdout",
     "output_type": "stream",
     "text": [
      "shared variable\n",
      "shared variable\n",
      "shared variable\n",
      "contents of d1: {}\n"
     ]
    }
   ],
   "source": [
    "class Demo:\n",
    "    class_var = 'shared variable'\n",
    "\n",
    "d1 = Demo()\n",
    "d2 = Demo()\n",
    "\n",
    "print(Demo.class_var)\n",
    "print(d1.class_var)\n",
    "print(d2.class_var)\n",
    "\n",
    "print('contents of d1:', d1.__dict__)\n"
   ]
  },
  {
   "cell_type": "markdown",
   "metadata": {},
   "source": [
    "- When you want to set or change a value of the class variable, you should access it via the class, but not the class instance, as you can do for reading.\n",
    "\n",
    "\n",
    "- When you try to set a value for the class variable using the object (a variable referring to the object or `self` keyword) but not the class, you are creating an instance variable that holds the same name as the class variable. The following snippet shows such a case – remember this in order to avoid wasting time hunting for bugs!"
   ]
  },
  {
   "cell_type": "code",
   "execution_count": 51,
   "metadata": {},
   "outputs": [
    {
     "name": "stdout",
     "output_type": "stream",
     "text": [
      "shared variable\n",
      "shared variable\n",
      "....................\n",
      "contents of d1: {}\n",
      "....................\n",
      "contents of d1: {'class_var': \"I'm messing with the class variable\"}\n",
      "I'm messing with the class variable\n",
      "....................\n",
      "contents of d2: {}\n",
      "contents of class variable accessed via d2: shared variable\n"
     ]
    }
   ],
   "source": [
    "class Demo:\n",
    "    class_var = 'shared variable'\n",
    "\n",
    "d1 = Demo()\n",
    "d2 = Demo()\n",
    "\n",
    "# both instances allow access to the class variable\n",
    "print(d1.class_var)\n",
    "print(d2.class_var)\n",
    "print('.' * 20)\n",
    "\n",
    "# d1 object has no instance variable\n",
    "print('contents of d1:', d1.__dict__)\n",
    "print('.' * 20)\n",
    "\n",
    "# d1 object receives an instance variable named 'class_var'\n",
    "d1.class_var = \"I'm messing with the class variable\"\n",
    "\n",
    "# d1 object owns the variable named 'class_var' which holds a different value than the class variable named in the same way\n",
    "print('contents of d1:', d1.__dict__)\n",
    "print(d1.class_var)\n",
    "print('.' * 20)\n",
    "\n",
    "# d2 object variables were not influenced\n",
    "print('contents of d2:', d2.__dict__)\n",
    "\n",
    "# d2 object variables were not influenced\n",
    "print('contents of class variable accessed via d2:', d2.class_var)\n"
   ]
  },
  {
   "cell_type": "markdown",
   "metadata": {},
   "source": [
    "- Class variables and instance variables are often utilized at the same time, but for different purposes. As mentioned before, class variables can refer to some meta information or common information shared amongst instances of the same class.\n",
    "\n",
    "\n",
    "- The example below demonstrates both topics: each class owns a counter variable that holds the number of class instances created. Moreover, each class owns information that helps identify the class instance origins. Similar functionality could be achieved with the `isinstance()` function, but we want to check if class variables can be helpful in this domain."
   ]
  },
  {
   "cell_type": "code",
   "execution_count": 52,
   "metadata": {},
   "outputs": [
    {
     "name": "stdout",
     "output_type": "stream",
     "text": [
      "So many ducks were born: 3\n",
      "duck quacks\n",
      "duck quacks\n",
      "duck quacks\n",
      "chicken clucks\n"
     ]
    }
   ],
   "source": [
    "class Duck:\n",
    "    counter = 0\n",
    "    species = 'duck'\n",
    "\n",
    "    def __init__(self, height, weight, sex):\n",
    "        self.height = height\n",
    "        self.weight = weight\n",
    "        self.sex = sex\n",
    "        Duck.counter +=1\n",
    "\n",
    "    def walk(self):\n",
    "        pass\n",
    "\n",
    "    def quack(self):\n",
    "        print('quacks')\n",
    "\n",
    "class Chicken:\n",
    "    species = 'chicken'\n",
    "\n",
    "    def walk(self):\n",
    "        pass\n",
    "\n",
    "    def cluck(self):\n",
    "        print('clucks')\n",
    "\n",
    "duckling = Duck(height=10, weight=3.4, sex=\"male\")\n",
    "drake = Duck(height=25, weight=3.7, sex=\"male\")\n",
    "hen = Duck(height=20, weight=3.4, sex=\"female\")\n",
    "\n",
    "chicken = Chicken()\n",
    "\n",
    "print('So many ducks were born:', Duck.counter)\n",
    "\n",
    "for poultry in duckling, drake, hen, chicken:\n",
    "    print(poultry.species, end=' ')\n",
    "    if poultry.species == 'duck':\n",
    "        poultry.quack()\n",
    "    elif poultry.species == 'chicken':\n",
    "        poultry.cluck()\n"
   ]
  },
  {
   "cell_type": "markdown",
   "metadata": {},
   "source": [
    "### 1.2.1.7 Working with class and instance data"
   ]
  },
  {
   "cell_type": "markdown",
   "metadata": {},
   "source": [
    "- Another example shows that a class variable of a super class can be used to count the number of all objects created from the descendant classes (subclasses). We'll achieve this by calling the superclass `__init__` method.\n",
    "\n",
    "\n",
    "- Another class variable is used to keep track of the serial numbers (which in fact are also counters) of particular subclass instances. In this example, we are also storing instance data (phone numbers) in instance variables.\n",
    "\n",
    "\n",
    "- The class `Phone` is a class representing a blueprint of generic devices used for calling. This class definition delivers the `call` method, which displays the object’s variable, which holds the phone number. This class also holds a class variable that is used to count the number of instances created by its subclasses.\n",
    "\n",
    "\n",
    "- Subclasses make use of the superclass `__init__` method, then instances are created. This gives us the possibility to increment the superclass variable."
   ]
  },
  {
   "cell_type": "code",
   "execution_count": 53,
   "metadata": {},
   "outputs": [
    {
     "name": "stdout",
     "output_type": "stream",
     "text": [
      "Total number of phone devices created: 0\n",
      "Creating 2 devices\n",
      "Total number of phone devices created: 2\n",
      "Total number of mobile phones created: 1\n",
      "Calling 01632-960004 using own number 555-2368\n",
      "Fixed phone received \"FP-1\" serial number\n",
      "Mobile phone received \"MP-1\" serial number\n"
     ]
    }
   ],
   "source": [
    "class Phone:\n",
    "    counter = 0\n",
    "\n",
    "    def __init__(self, number):\n",
    "        self.number = number\n",
    "        Phone.counter += 1\n",
    "\n",
    "    def call(self, number):\n",
    "        message = 'Calling {} using own number {}'.format(number, self.number)\n",
    "        return message\n",
    "\n",
    "\n",
    "class FixedPhone(Phone):\n",
    "    last_SN = 0\n",
    "\n",
    "    def __init__(self, number):\n",
    "        super().__init__(number)\n",
    "        FixedPhone.last_SN += 1\n",
    "        self.SN = 'FP-{}'.format(FixedPhone.last_SN)\n",
    "\n",
    "\n",
    "class MobilePhone(Phone):\n",
    "    last_SN = 0\n",
    "\n",
    "    def __init__(self, number):\n",
    "        super().__init__(number)\n",
    "        MobilePhone.last_SN += 1\n",
    "        self.SN = 'MP-{}'.format(MobilePhone.last_SN)\n",
    "\n",
    "\n",
    "print('Total number of phone devices created:', Phone.counter)\n",
    "print('Creating 2 devices')\n",
    "fphone = FixedPhone('555-2368')\n",
    "mphone = MobilePhone('01632-960004')\n",
    "\n",
    "print('Total number of phone devices created:', Phone.counter)\n",
    "print('Total number of mobile phones created:', MobilePhone.last_SN)\n",
    "\n",
    "print(fphone.call('01632-960004'))\n",
    "print('Fixed phone received \"{}\" serial number'.format(fphone.SN))\n",
    "print('Mobile phone received \"{}\" serial number'.format(mphone.SN))\n"
   ]
  },
  {
   "cell_type": "markdown",
   "metadata": {},
   "source": [
    "### 1.2.1.8 Working with class and instance data – the LAB\n"
   ]
  },
  {
   "cell_type": "markdown",
   "metadata": {},
   "source": [
    "### Scenario\n",
    "- Imagine that you receive a task description of an application that monitors the process of apple packaging before the apples are sent to a shop.\n",
    "\n",
    "\n",
    "- A shop owner has asked for 1000 apples, but the total weight limitation cannot exceed 300 units.\n",
    "\n",
    "\n",
    "- Write a code that creates objects representing apples as long as both limitations are met. When any limitation is exceeded, than the packaging process is stopped, and your application should print the number of apple class objects created, and the total weight.\n",
    "\n",
    "\n",
    "- Your application should keep track of two parameters:\n",
    "\n",
    "    - the number of apples processed, stored as a class variable;\n",
    "    - the total weight of the apples processed; stored as a class variable. Assume that each apple's weight is random, and can vary between 0.2 and 0.5 of an imaginary weight unit;\n",
    "    \n",
    "    \n",
    "- Hint: Use a `random.uniform(lower, upper)` function to create a random number between the lower and upper float values."
   ]
  },
  {
   "cell_type": "code",
   "execution_count": 54,
   "metadata": {},
   "outputs": [
    {
     "name": "stdout",
     "output_type": "stream",
     "text": [
      "Apple Count: 862, Total weight: 299.83572035160216\n"
     ]
    }
   ],
   "source": [
    "import random\n",
    "\n",
    "class Apple:\n",
    "    def __init__(self, weight):\n",
    "        self.weight = weight\n",
    "\n",
    "class Packaging:\n",
    "    apple_count = 0\n",
    "    total_weight = 0\n",
    "    \n",
    "    def __init__(self, apple):\n",
    "        Packaging.apple_count += 1\n",
    "        Packaging.total_weight += apple.weight\n",
    "        if Packaging.total_weight > 300:\n",
    "            Packaging.apple_count -= 1\n",
    "            Packaging.total_weight -= apple.weight\n",
    "    \n",
    "    def __str__(self):\n",
    "        message = \"Apple Count: {}, Total weight: {}\".format(Packaging.apple_count, Packaging.total_weight)\n",
    "        return message\n",
    "    \n",
    "\n",
    "apple_weight_list =[random.uniform(0.2,0.5) for x in range(1000)]\n",
    "apple_list = [Apple(i) for i in apple_weight_list]\n",
    "\n",
    "for apple in apple_list:\n",
    "    package = Packaging(apple)\n",
    "    \n",
    "print(package)"
   ]
  },
  {
   "cell_type": "markdown",
   "metadata": {},
   "source": [
    "### 2.1.1.1 Python core syntax"
   ]
  },
  {
   "cell_type": "markdown",
   "metadata": {},
   "source": [
    "#### Python core syntax"
   ]
  },
  {
   "cell_type": "markdown",
   "metadata": {},
   "source": [
    "This is Python core syntax – an ability to perform specific operations on different data types, when operations are formulated using the same operators or instructions, or even functions.\n",
    "\n",
    "Python core syntax covers:\n",
    "\n",
    "- operators like '+', '-', '*', '/', '%' and many others;\n",
    "- operators like '==', '<', '>', '<=', 'in' and many others;\n",
    "- indexing, slicing, subscripting;\n",
    "- built-in functions like str(), len()\n",
    "- reflexion – isinstance(), issubclass()\n",
    "\n",
    "and a few more elements."
   ]
  },
  {
   "cell_type": "markdown",
   "metadata": {},
   "source": [
    "### 2.1.1.3 Python core syntax"
   ]
  },
  {
   "cell_type": "markdown",
   "metadata": {},
   "source": [
    "- When called, functions and operators that state the core syntax are translated into magic methods delivered by specific classes.\n",
    "\n",
    "\n",
    "- In Python, these magic methods are sometimes called special purpose methods, because these methods are designated by design to handle specific operations.\n",
    "\n",
    "\n",
    "- The name of each magic method ***is surrounded by double underscores*** (***Pythonistas would say “dunder” for double underscores***, as it’s a shorter and more convenient phrase). **Dunders** indicate that such methods are not called directly, but called in a process of expression evaluation, according to Python core syntax rules.\n",
    "\n",
    "\n",
    "- The '+' operator is in fact converted to the `__add__()` method and the `len()` function is converted to the `__len__()` method. These methods must be delivered by a class (now it’s clear why we treat classes as blueprints) to perform the appropriate action."
   ]
  },
  {
   "cell_type": "code",
   "execution_count": 55,
   "metadata": {},
   "outputs": [
    {
     "name": "stdout",
     "output_type": "stream",
     "text": [
      "30\n",
      "30\n"
     ]
    }
   ],
   "source": [
    "number = 10\n",
    "print(number + 20)\n",
    "\n",
    "number = 10\n",
    "print(number.__add__(20))"
   ]
  },
  {
   "cell_type": "markdown",
   "metadata": {},
   "source": [
    "### 2.1.1.4 Python core syntax"
   ]
  },
  {
   "cell_type": "code",
   "execution_count": 56,
   "metadata": {},
   "outputs": [
    {
     "name": "stdout",
     "output_type": "stream",
     "text": [
      "65\n"
     ]
    }
   ],
   "source": [
    "class Person:\n",
    "    def __init__(self, weight, age, salary):\n",
    "        self.weight = weight\n",
    "        self.age = age\n",
    "        self.salary = salary\n",
    "\n",
    "    def __add__(self, other):\n",
    "        return self.weight + other.weight\n",
    "\n",
    "\n",
    "p1 = Person(30, 40, 50)\n",
    "p2 = Person(35, 45, 55)\n",
    "\n",
    "print(p1 + p2)\n"
   ]
  },
  {
   "cell_type": "markdown",
   "metadata": {},
   "source": [
    "### 2.1.1.6 Python core syntax"
   ]
  },
  {
   "cell_type": "markdown",
   "metadata": {},
   "source": [
    "- You could ask: how can I know what magic method is responsible for a specific operation?\n",
    "\n",
    "\n",
    "- The answer could be: start with the `dir()` and `help()` functions.\n",
    "\n",
    "\n",
    "- The `dir()` function gives you a quick glance at an object’s capabilities and returns a list of the attributes and methods of the object. When you call `dir()` on integer 10, you'll get:"
   ]
  },
  {
   "cell_type": "code",
   "execution_count": 57,
   "metadata": {},
   "outputs": [
    {
     "name": "stdout",
     "output_type": "stream",
     "text": [
      "['__abs__', '__add__', '__and__', '__bool__', '__ceil__', '__class__', '__delattr__', '__dir__', '__divmod__', '__doc__', '__eq__', '__float__', '__floor__', '__floordiv__', '__format__', '__ge__', '__getattribute__', '__getnewargs__', '__gt__', '__hash__', '__index__', '__init__', '__init_subclass__', '__int__', '__invert__', '__le__', '__lshift__', '__lt__', '__mod__', '__mul__', '__ne__', '__neg__', '__new__', '__or__', '__pos__', '__pow__', '__radd__', '__rand__', '__rdivmod__', '__reduce__', '__reduce_ex__', '__repr__', '__rfloordiv__', '__rlshift__', '__rmod__', '__rmul__', '__ror__', '__round__', '__rpow__', '__rrshift__', '__rshift__', '__rsub__', '__rtruediv__', '__rxor__', '__setattr__', '__sizeof__', '__str__', '__sub__', '__subclasshook__', '__truediv__', '__trunc__', '__xor__', 'bit_length', 'conjugate', 'denominator', 'from_bytes', 'imag', 'numerator', 'real', 'to_bytes']\n"
     ]
    }
   ],
   "source": [
    "print(dir(10))"
   ]
  },
  {
   "cell_type": "markdown",
   "metadata": {},
   "source": [
    "- The names listed above look somehow familiar, so let's see the details delivered by Python itself."
   ]
  },
  {
   "cell_type": "markdown",
   "metadata": {},
   "source": [
    "- To get more help on each attribute and method, issue the `help()` function on an object, as below:"
   ]
  },
  {
   "cell_type": "code",
   "execution_count": 58,
   "metadata": {},
   "outputs": [
    {
     "name": "stdout",
     "output_type": "stream",
     "text": [
      "Help on int object:\n",
      "\n",
      "class int(object)\n",
      " |  int([x]) -> integer\n",
      " |  int(x, base=10) -> integer\n",
      " |  \n",
      " |  Convert a number or string to an integer, or return 0 if no arguments\n",
      " |  are given.  If x is a number, return x.__int__().  For floating point\n",
      " |  numbers, this truncates towards zero.\n",
      " |  \n",
      " |  If x is not a number or if base is given, then x must be a string,\n",
      " |  bytes, or bytearray instance representing an integer literal in the\n",
      " |  given base.  The literal can be preceded by '+' or '-' and be surrounded\n",
      " |  by whitespace.  The base defaults to 10.  Valid bases are 0 and 2-36.\n",
      " |  Base 0 means to interpret the base from the string as an integer literal.\n",
      " |  >>> int('0b100', base=0)\n",
      " |  4\n",
      " |  \n",
      " |  Methods defined here:\n",
      " |  \n",
      " |  __abs__(self, /)\n",
      " |      abs(self)\n",
      " |  \n",
      " |  __add__(self, value, /)\n",
      " |      Return self+value.\n",
      " |  \n",
      " |  __and__(self, value, /)\n",
      " |      Return self&value.\n",
      " |  \n",
      " |  __bool__(self, /)\n",
      " |      self != 0\n",
      " |  \n",
      " |  __ceil__(...)\n",
      " |      Ceiling of an Integral returns itself.\n",
      " |  \n",
      " |  __divmod__(self, value, /)\n",
      " |      Return divmod(self, value).\n",
      " |  \n",
      " |  __eq__(self, value, /)\n",
      " |      Return self==value.\n",
      " |  \n",
      " |  __float__(self, /)\n",
      " |      float(self)\n",
      " |  \n",
      " |  __floor__(...)\n",
      " |      Flooring an Integral returns itself.\n",
      " |  \n",
      " |  __floordiv__(self, value, /)\n",
      " |      Return self//value.\n",
      " |  \n",
      " |  __format__(self, format_spec, /)\n",
      " |      Default object formatter.\n",
      " |  \n",
      " |  __ge__(self, value, /)\n",
      " |      Return self>=value.\n",
      " |  \n",
      " |  __getattribute__(self, name, /)\n",
      " |      Return getattr(self, name).\n",
      " |  \n",
      " |  __getnewargs__(self, /)\n",
      " |  \n",
      " |  __gt__(self, value, /)\n",
      " |      Return self>value.\n",
      " |  \n",
      " |  __hash__(self, /)\n",
      " |      Return hash(self).\n",
      " |  \n",
      " |  __index__(self, /)\n",
      " |      Return self converted to an integer, if self is suitable for use as an index into a list.\n",
      " |  \n",
      " |  __int__(self, /)\n",
      " |      int(self)\n",
      " |  \n",
      " |  __invert__(self, /)\n",
      " |      ~self\n",
      " |  \n",
      " |  __le__(self, value, /)\n",
      " |      Return self<=value.\n",
      " |  \n",
      " |  __lshift__(self, value, /)\n",
      " |      Return self<<value.\n",
      " |  \n",
      " |  __lt__(self, value, /)\n",
      " |      Return self<value.\n",
      " |  \n",
      " |  __mod__(self, value, /)\n",
      " |      Return self%value.\n",
      " |  \n",
      " |  __mul__(self, value, /)\n",
      " |      Return self*value.\n",
      " |  \n",
      " |  __ne__(self, value, /)\n",
      " |      Return self!=value.\n",
      " |  \n",
      " |  __neg__(self, /)\n",
      " |      -self\n",
      " |  \n",
      " |  __or__(self, value, /)\n",
      " |      Return self|value.\n",
      " |  \n",
      " |  __pos__(self, /)\n",
      " |      +self\n",
      " |  \n",
      " |  __pow__(self, value, mod=None, /)\n",
      " |      Return pow(self, value, mod).\n",
      " |  \n",
      " |  __radd__(self, value, /)\n",
      " |      Return value+self.\n",
      " |  \n",
      " |  __rand__(self, value, /)\n",
      " |      Return value&self.\n",
      " |  \n",
      " |  __rdivmod__(self, value, /)\n",
      " |      Return divmod(value, self).\n",
      " |  \n",
      " |  __repr__(self, /)\n",
      " |      Return repr(self).\n",
      " |  \n",
      " |  __rfloordiv__(self, value, /)\n",
      " |      Return value//self.\n",
      " |  \n",
      " |  __rlshift__(self, value, /)\n",
      " |      Return value<<self.\n",
      " |  \n",
      " |  __rmod__(self, value, /)\n",
      " |      Return value%self.\n",
      " |  \n",
      " |  __rmul__(self, value, /)\n",
      " |      Return value*self.\n",
      " |  \n",
      " |  __ror__(self, value, /)\n",
      " |      Return value|self.\n",
      " |  \n",
      " |  __round__(...)\n",
      " |      Rounding an Integral returns itself.\n",
      " |      Rounding with an ndigits argument also returns an integer.\n",
      " |  \n",
      " |  __rpow__(self, value, mod=None, /)\n",
      " |      Return pow(value, self, mod).\n",
      " |  \n",
      " |  __rrshift__(self, value, /)\n",
      " |      Return value>>self.\n",
      " |  \n",
      " |  __rshift__(self, value, /)\n",
      " |      Return self>>value.\n",
      " |  \n",
      " |  __rsub__(self, value, /)\n",
      " |      Return value-self.\n",
      " |  \n",
      " |  __rtruediv__(self, value, /)\n",
      " |      Return value/self.\n",
      " |  \n",
      " |  __rxor__(self, value, /)\n",
      " |      Return value^self.\n",
      " |  \n",
      " |  __sizeof__(self, /)\n",
      " |      Returns size in memory, in bytes.\n",
      " |  \n",
      " |  __str__(self, /)\n",
      " |      Return str(self).\n",
      " |  \n",
      " |  __sub__(self, value, /)\n",
      " |      Return self-value.\n",
      " |  \n",
      " |  __truediv__(self, value, /)\n",
      " |      Return self/value.\n",
      " |  \n",
      " |  __trunc__(...)\n",
      " |      Truncating an Integral returns itself.\n",
      " |  \n",
      " |  __xor__(self, value, /)\n",
      " |      Return self^value.\n",
      " |  \n",
      " |  bit_length(self, /)\n",
      " |      Number of bits necessary to represent self in binary.\n",
      " |      \n",
      " |      >>> bin(37)\n",
      " |      '0b100101'\n",
      " |      >>> (37).bit_length()\n",
      " |      6\n",
      " |  \n",
      " |  conjugate(...)\n",
      " |      Returns self, the complex conjugate of any int.\n",
      " |  \n",
      " |  to_bytes(self, /, length, byteorder, *, signed=False)\n",
      " |      Return an array of bytes representing an integer.\n",
      " |      \n",
      " |      length\n",
      " |        Length of bytes object to use.  An OverflowError is raised if the\n",
      " |        integer is not representable with the given number of bytes.\n",
      " |      byteorder\n",
      " |        The byte order used to represent the integer.  If byteorder is 'big',\n",
      " |        the most significant byte is at the beginning of the byte array.  If\n",
      " |        byteorder is 'little', the most significant byte is at the end of the\n",
      " |        byte array.  To request the native byte order of the host system, use\n",
      " |        `sys.byteorder' as the byte order value.\n",
      " |      signed\n",
      " |        Determines whether two's complement is used to represent the integer.\n",
      " |        If signed is False and a negative integer is given, an OverflowError\n",
      " |        is raised.\n",
      " |  \n",
      " |  ----------------------------------------------------------------------\n",
      " |  Class methods defined here:\n",
      " |  \n",
      " |  from_bytes(bytes, byteorder, *, signed=False) from builtins.type\n",
      " |      Return the integer represented by the given array of bytes.\n",
      " |      \n",
      " |      bytes\n",
      " |        Holds the array of bytes to convert.  The argument must either\n",
      " |        support the buffer protocol or be an iterable object producing bytes.\n",
      " |        Bytes and bytearray are examples of built-in objects that support the\n",
      " |        buffer protocol.\n",
      " |      byteorder\n",
      " |        The byte order used to represent the integer.  If byteorder is 'big',\n",
      " |        the most significant byte is at the beginning of the byte array.  If\n",
      " |        byteorder is 'little', the most significant byte is at the end of the\n",
      " |        byte array.  To request the native byte order of the host system, use\n",
      " |        `sys.byteorder' as the byte order value.\n",
      " |      signed\n",
      " |        Indicates whether two's complement is used to represent the integer.\n",
      " |  \n",
      " |  ----------------------------------------------------------------------\n",
      " |  Static methods defined here:\n",
      " |  \n",
      " |  __new__(*args, **kwargs) from builtins.type\n",
      " |      Create and return a new object.  See help(type) for accurate signature.\n",
      " |  \n",
      " |  ----------------------------------------------------------------------\n",
      " |  Data descriptors defined here:\n",
      " |  \n",
      " |  denominator\n",
      " |      the denominator of a rational number in lowest terms\n",
      " |  \n",
      " |  imag\n",
      " |      the imaginary part of a complex number\n",
      " |  \n",
      " |  numerator\n",
      " |      the numerator of a rational number in lowest terms\n",
      " |  \n",
      " |  real\n",
      " |      the real part of a complex number\n",
      "\n",
      "None\n"
     ]
    }
   ],
   "source": [
    "print(help(10))"
   ]
  },
  {
   "cell_type": "markdown",
   "metadata": {},
   "source": [
    "- The Python `help()` function is used to display the documentation (if delivered!) of modules, functions, classes, and keywords. In our example, we have displayed the documentation for the built-in integer type. Look at the last lines of the output – it contains information about the `__abs__` and `__add__` special methods."
   ]
  },
  {
   "cell_type": "markdown",
   "metadata": {},
   "source": [
    "### 2.1.1.7 Python core syntax\n"
   ]
  },
  {
   "cell_type": "markdown",
   "metadata": {},
   "source": [
    "Now it’s time to get familiar with Python core syntax expressions and their corresponding magic methods. The following tables will help you in situations where you'd like to implement a custom method for a Python core operation, as the tables enumerate the most popular operators and functions that own magic method counterparts. Treat it as a list from a universal map, unrelated to any special data type."
   ]
  },
  {
   "cell_type": "markdown",
   "metadata": {},
   "source": [
    "#### Comparison methods"
   ]
  },
  {
   "cell_type": "markdown",
   "metadata": {},
   "source": [
    "![](./images/1_compare_methods.png)"
   ]
  },
  {
   "cell_type": "markdown",
   "metadata": {},
   "source": [
    "#### Numeric methods\n",
    "#### Unary operators and functions"
   ]
  },
  {
   "cell_type": "markdown",
   "metadata": {},
   "source": [
    "![](./images/2_unary_operators_and_functions.png)"
   ]
  },
  {
   "cell_type": "markdown",
   "metadata": {},
   "source": [
    "#### Common, binary operators and functions"
   ]
  },
  {
   "cell_type": "markdown",
   "metadata": {},
   "source": [
    "![](./images/3_binary_operators_and_functions.png)"
   ]
  },
  {
   "cell_type": "markdown",
   "metadata": {},
   "source": [
    "#### Augumented operators and functions"
   ]
  },
  {
   "cell_type": "markdown",
   "metadata": {},
   "source": [
    "- By augumented assignment we should understand a sequence of unary operators and assignments like `a += 20`"
   ]
  },
  {
   "cell_type": "markdown",
   "metadata": {},
   "source": [
    "![](./images/4_argumented_operatios_and_functions.png)"
   ]
  },
  {
   "cell_type": "markdown",
   "metadata": {},
   "source": [
    "#### Type conversion methods"
   ]
  },
  {
   "cell_type": "markdown",
   "metadata": {},
   "source": [
    "- Python offers a set of methods responsible for the conversion of built-in data types."
   ]
  },
  {
   "cell_type": "markdown",
   "metadata": {},
   "source": [
    "![](./images/5_type_conversion_methods.png)"
   ]
  },
  {
   "cell_type": "markdown",
   "metadata": {},
   "source": [
    "#### Object introspection"
   ]
  },
  {
   "cell_type": "markdown",
   "metadata": {},
   "source": [
    "- Python offers a set of methods responsible for representing object details using ordinary strings."
   ]
  },
  {
   "cell_type": "markdown",
   "metadata": {},
   "source": [
    "![](./images/6_object_introspection.png)"
   ]
  },
  {
   "cell_type": "markdown",
   "metadata": {},
   "source": [
    "#### Object retrospection"
   ]
  },
  {
   "cell_type": "markdown",
   "metadata": {},
   "source": [
    "- Following the topic of object introspection, there are methods responsible for object reflection."
   ]
  },
  {
   "cell_type": "markdown",
   "metadata": {},
   "source": [
    "![](./images/7_object_retrospection.png)"
   ]
  },
  {
   "cell_type": "markdown",
   "metadata": {},
   "source": [
    "#### Object attribute access"
   ]
  },
  {
   "cell_type": "markdown",
   "metadata": {},
   "source": [
    "- Access to object attributes can be controlled via the following magic methods"
   ]
  },
  {
   "cell_type": "markdown",
   "metadata": {},
   "source": [
    "![](./images/8_object_attribute_access.png)"
   ]
  },
  {
   "cell_type": "markdown",
   "metadata": {},
   "source": [
    "#### Methods allowing access to containers"
   ]
  },
  {
   "cell_type": "markdown",
   "metadata": {},
   "source": [
    "- Containers are any object that holds an arbitrary number of other objects; containers provide a way to access the contained objects and to iterate over them. Container examples: list, dictionary, tuple, and set."
   ]
  },
  {
   "cell_type": "markdown",
   "metadata": {},
   "source": [
    "![](./images/9_methods_allowing_access_to_containers.png)"
   ]
  },
  {
   "cell_type": "markdown",
   "metadata": {},
   "source": [
    "- The list of special methods built-in in Python contains more entities. For more information, refer to https://docs.python.org/3/reference/datamodel.html#special-method-names."
   ]
  },
  {
   "cell_type": "markdown",
   "metadata": {},
   "source": [
    "### 2.1.1.9 Python core syntax"
   ]
  },
  {
   "cell_type": "markdown",
   "metadata": {},
   "source": [
    "- What are some real life cases which could be implemented using special methods?\n",
    "\n",
    "- Think of any complex problems that we solve every day like:\n",
    "    - adding time intervals, like: add 21 hours 58 minutes 50 seconds to 1hr 45 minutes 22 seconds;\n",
    "    - adding length measurements expressed in the imperial measurement system, like: add 2 feet 8 inches to 1 yard 1 foot 4 inches.\n",
    "\n",
    "- With classes equipped with custom special methods, the tasks may start to look simpler.\n",
    "\n",
    "- Of course, don’t forget to check the type of the objects passed as arguments to special methods. If someone uses your classes, they might use them incorrectly, so a good `__add__` method should check whether it’s possible to perform the addition before doing it, or else raise an exception."
   ]
  },
  {
   "cell_type": "markdown",
   "metadata": {},
   "source": [
    "### 2.1.1.10 Python core syntax: LAB #1"
   ]
  },
  {
   "cell_type": "markdown",
   "metadata": {},
   "source": [
    "#### Scenario\n",
    "- Create a class representing a time interval;\n",
    "- the class should implement its own method for addition, subtraction on time interval class objects;\n",
    "- the class should implement its own method for multiplication of time interval class objects by an integer-type value;\n",
    "- the `__init__` method should be based on keywords to allow accurate and convenient object initialization, but limit it to hours, minutes, and seconds parameters;\n",
    "- the `__str__` method should return an HH:MM:SS string, where HH represents hours, MM represents minutes and SS represents the seconds attributes of the time interval object;\n",
    "- check the argument type, and in case of a mismatch, raise a TypeError exception.\n",
    "\n",
    "- Hint1:\n",
    "- just before doing the math, convert each time interval to a corresponding number of seconds to simplify the algorithm;\n",
    "- for addition and subtraction, you can use one internal method, as subtraction is just ... negative addition.\n",
    "- Test data:\n",
    "    - the first time interval (fti) is hours=21, minutes=58, seconds=50\n",
    "    - the second time interval (sti) is hours=1, minutes=45, seconds=22\n",
    "    - the expected result of addition (fti + sti) is 23:44:12\n",
    "    - the expected result of subtraction (fti - sti) is 20:13:28\n",
    "    - the expected result of multiplication (fti * 2) is 43:57:40\n",
    "    \n",
    "- Hint2:\n",
    "    - you can use the `assert` statement to validate if the output of the `__str__` method applied to a time interval object equals the expected value."
   ]
  },
  {
   "cell_type": "code",
   "execution_count": 59,
   "metadata": {},
   "outputs": [
    {
     "name": "stdout",
     "output_type": "stream",
     "text": [
      "First Time Interval:\t\t 21:58:50\n",
      "Second Time Interval:\t\t 1:45:22\n",
      "The result of (fit + sti):\t 23:44:12\n",
      "The result of (fti - sti):\t 20:13:28\n",
      "The result of (fti * 2):\t 43:57:40\n"
     ]
    }
   ],
   "source": [
    "class Interval:\n",
    "       \n",
    "    def __init__(self, hours=0, minutes=0, seconds=0):\n",
    "        self.hours = hours\n",
    "        self.minutes = minutes\n",
    "        self.seconds = seconds\n",
    "        self.total_seconds = 60*60*self.hours + 60*self.minutes + self.seconds\n",
    "        \n",
    "    def __str__(self):\n",
    "        self.init_str = \"{}:{}:{}\".format(self.hours, self.minutes, self.seconds)\n",
    "        return self.init_str\n",
    "        \n",
    "    def output(self, result):\n",
    "        self.result_hours = self.result // 3600\n",
    "        self.result_minutes = (self.result - self.result_hours*3600) // 60\n",
    "        self.result_seconds = self.result - self.result_hours*3600 - self.result_minutes*60\n",
    "        self.message = \"{}:{}:{}\".format(self.result_hours, self.result_minutes, self.result_seconds)\n",
    "        return self.message\n",
    "                \n",
    "    def __add__(self, other):\n",
    "        self.result = self.total_seconds + other.total_seconds\n",
    "        return self.output(self.result)\n",
    "                \n",
    "    def __sub__(self, other):\n",
    "        self.result = self.total_seconds - other.total_seconds\n",
    "        return self.output(self.result)\n",
    "    \n",
    "    def __mul__(self, other):\n",
    "        self.result = self.total_seconds * other\n",
    "        return self.output(self.result)\n",
    "\n",
    "fti = Interval(21,58,50)\n",
    "sti = Interval(1,45,22)\n",
    "try:\n",
    "    if isinstance(fti, Interval) and isinstance(sti, Interval):\n",
    "        print(\"First Time Interval:\\t\\t\", fti)\n",
    "        print(\"Second Time Interval:\\t\\t\",sti)\n",
    "        print(\"The result of (fit + sti):\\t\", fti + sti)\n",
    "        print(\"The result of (fti - sti):\\t\", fti - sti)\n",
    "        print(\"The result of (fti * 2):\\t\", fti * 2)\n",
    "    else:\n",
    "        raise TypeError\n",
    "except:\n",
    "    print(\"TypeError\")"
   ]
  },
  {
   "cell_type": "markdown",
   "metadata": {},
   "source": [
    "### 2.1.1.11 Python core syntax: LAB #2"
   ]
  },
  {
   "cell_type": "markdown",
   "metadata": {},
   "source": [
    "#### Scenario\n",
    "\n",
    "\n",
    "- Extend the class implementation prepared in the previous lab to support the addition and subtraction of integers to time interval objects;\n",
    "- to add an integer to a time interval object means to add seconds;\n",
    "- to subtract an integer from a time interval object means to remove seconds.\n",
    "\n",
    "\n",
    "- Hint\n",
    "    - in the case when a special method receives an integer type argument, instead of a time interval object, create a new time interval object based on the integer value.\n",
    "\n",
    "\n",
    "- Test data:\n",
    "\n",
    "    - the time interval (tti) is hours=21, minutes=58, seconds=50\n",
    "    - the expected result of addition (tti + 62) is 21:59:52\n",
    "    - the expected result of subtraction (tti - 62) is 21:57:48"
   ]
  },
  {
   "cell_type": "code",
   "execution_count": 60,
   "metadata": {},
   "outputs": [
    {
     "name": "stdout",
     "output_type": "stream",
     "text": [
      "The Time Interval:\t\t 21:58:50\n",
      "The result of (ttl + 62):\t 21:59:52\n",
      "The result of (ttl - 62):\t 21:57:48\n"
     ]
    }
   ],
   "source": [
    "class Interval:\n",
    "       \n",
    "    def __init__(self, hours=0, minutes=0, seconds=0):\n",
    "        self.hours = hours\n",
    "        self.minutes = minutes\n",
    "        self.seconds = seconds\n",
    "        self.total_seconds = 60*60*self.hours + 60*self.minutes + self.seconds\n",
    "        \n",
    "    def __str__(self):\n",
    "        self.init_str = \"{}:{}:{}\".format(self.hours, self.minutes, self.seconds)\n",
    "        return self.init_str\n",
    "        \n",
    "    def output(self, result):\n",
    "        self.result_hours = self.result // 3600\n",
    "        self.result_minutes = (self.result - self.result_hours*3600) // 60\n",
    "        self.result_seconds = self.result - self.result_hours*3600 - self.result_minutes*60\n",
    "        self.message = \"{}:{}:{}\".format(self.result_hours, self.result_minutes, self.result_seconds)\n",
    "        return self.message\n",
    "                \n",
    "    def __add__(self, other):\n",
    "        if isinstance(other, Interval):\n",
    "            self.result = self.total_seconds + other.total_seconds\n",
    "        elif isinstance(other, int):\n",
    "            self.result = self.total_seconds + other\n",
    "        else:\n",
    "            raise TypeError()\n",
    "        return self.output(self.result)\n",
    "                \n",
    "    def __sub__(self, other):\n",
    "        if isinstance(other, Interval):\n",
    "            self.result = self.total_seconds - other.total_seconds\n",
    "        elif isinstance(other, int):\n",
    "            self.result = self.total_seconds - other\n",
    "        else:\n",
    "            raise TypeError()\n",
    "        return self.output(self.result)\n",
    "    \n",
    "    def __mul__(self, other):\n",
    "        self.result = self.total_seconds * other\n",
    "        return self.output(self.result)\n",
    "\n",
    "ttl = Interval(21,58,50)\n",
    "print(\"The Time Interval:\\t\\t\", ttl)\n",
    "print(\"The result of (ttl + 62):\\t\", ttl + 62)\n",
    "print(\"The result of (ttl - 62):\\t\", ttl - 62)\n"
   ]
  },
  {
   "cell_type": "markdown",
   "metadata": {},
   "source": [
    "### 2.2.1.1 Inheritance and polymorphism — Inheritance as a pillar of OOP"
   ]
  },
  {
   "cell_type": "markdown",
   "metadata": {},
   "source": [
    "- Inheritance is one of the fundamental concepts of object oriented programming, and expresses the fundamental relationships between classes: superclasses (parents) and their subclasses (descendants). Inheritance creates a class hierarchy. Any object bound to a specific level of class hierarchy inherits all the traits (methods and attributes) defined inside any of the superclasses.\n",
    "\n",
    "\n",
    "- This means that inheritance is a way of building a new class, not from scratch, but by using an already defined repertoire of traits. The new class inherits (and this is the key) all the already existing equipment, but is able to add some new features if needed.\n",
    "\n",
    "\n",
    "- Each subclass is more specialized (or more specific) than its superclass. Conversely, each superclass is more general (more abstract) than any of its subclasses. Note that we've presumed that a class may only have one superclass — this is not always true, but we'll discuss this issue more a bit later."
   ]
  },
  {
   "cell_type": "markdown",
   "metadata": {},
   "source": [
    "![](./images/10_inhetitance.png)"
   ]
  },
  {
   "cell_type": "markdown",
   "metadata": {},
   "source": [
    "### 2.2.1.2 Inheritance and polymorphism — Single inheritance vs. multiple inheritance"
   ]
  },
  {
   "cell_type": "markdown",
   "metadata": {},
   "source": [
    "- There are no obstacles to using multiple inheritance in Python. You can derive any new class from more than one previously defined class.\n",
    "\n",
    "- But multiple inheritance should be used with more prudence than single inheritance because:\n",
    "\n",
    "    - a single inheritance class is always simpler, safer, and easier to understand and maintain;\n",
    "    - multiple inheritance may make method overriding somewhat tricky; moreover, using the super() function can lead to ambiguity;\n",
    "    - it is highly probable that by implementing multiple inheritance you are violating the single responsibility principle;\n",
    "    \n",
    "- If your solution tends to require multiple inheritance, it might be a good idea to think about implementing composition"
   ]
  },
  {
   "cell_type": "markdown",
   "metadata": {},
   "source": [
    "#### MRO — Method Resolution Order"
   ]
  },
  {
   "cell_type": "markdown",
   "metadata": {},
   "source": [
    "- The spectrum of issues possibly coming from multiple inheritance is illustrated by a classical problem named the diamond problem, or even the deadly diamond of death. The name reflects the shape of the inheritance diagram — take a look at the picture.\n",
    "\n",
    "    - There is the top-most superclass named A;\n",
    "    - there are two subclasses derived from A — B and C;\n",
    "    - and there is also the bottom-most subclass named D, derived from B and C (or C and B, as these two variants mean different things in Python)\n"
   ]
  },
  {
   "cell_type": "markdown",
   "metadata": {},
   "source": [
    "![](./images/11_MRO.png)"
   ]
  },
  {
   "cell_type": "markdown",
   "metadata": {},
   "source": [
    "### 2.2.1.3 Inheritance and polymorphism — Single inheritance vs. multiple inheritance"
   ]
  },
  {
   "cell_type": "markdown",
   "metadata": {},
   "source": [
    "- The ambiguity that arises here is caused by the fact that class B and class C are inherited from superclass A, and class D is inherited from both classes B and C. If you want to call the method info(), which part of the code would be executed then?"
   ]
  },
  {
   "cell_type": "code",
   "execution_count": 61,
   "metadata": {},
   "outputs": [
    {
     "name": "stdout",
     "output_type": "stream",
     "text": [
      "Class B\n"
     ]
    }
   ],
   "source": [
    "class A:\n",
    "    def info(self):\n",
    "        print('Class A')\n",
    "\n",
    "class B(A):\n",
    "    def info(self):\n",
    "        print('Class B')\n",
    "\n",
    "class C(A):\n",
    "    def info(self):\n",
    "        print('Class C')\n",
    "\n",
    "class D(B, C):\n",
    "    pass\n",
    "\n",
    "D().info()\n"
   ]
  },
  {
   "cell_type": "markdown",
   "metadata": {},
   "source": [
    "- In the multiple inheritance scenario, any specified attribute is searched for first in the current class. If it is not found, the search continues into the direct parent classes in depth-first level (the first level above), from the left to the right, according to the class definition. This is the result of the MRO algorithm.\n",
    "\n",
    "- In our case:\n",
    "\n",
    "    - class D does not define the method info(), so Python has to look for it in the class hierarchy;\n",
    "    - class D is constructed in this order:\n",
    "        - the definition of class B is fetched;\n",
    "        - the definition of class C is fetched;\n",
    "    - Python finds the requested method in the class B definition and stops searching;\n",
    "    - Python executes the method."
   ]
  },
  {
   "cell_type": "markdown",
   "metadata": {},
   "source": [
    "#### Possible pitfalls — MRO inconsistency"
   ]
  },
  {
   "cell_type": "markdown",
   "metadata": {},
   "source": [
    "- ***MRO*** can report definition inconsistencies when a subtle change in the class D definition is introduced, which is possible when you work with complex class hierarchies."
   ]
  },
  {
   "cell_type": "code",
   "execution_count": 62,
   "metadata": {},
   "outputs": [
    {
     "ename": "TypeError",
     "evalue": "Cannot create a consistent method resolution\norder (MRO) for bases A, C",
     "output_type": "error",
     "traceback": [
      "\u001b[1;31m---------------------------------------------------------------------------\u001b[0m",
      "\u001b[1;31mTypeError\u001b[0m                                 Traceback (most recent call last)",
      "\u001b[1;32m<ipython-input-62-06a32aaacb11>\u001b[0m in \u001b[0;36m<module>\u001b[1;34m\u001b[0m\n\u001b[0;32m     11\u001b[0m         \u001b[0mprint\u001b[0m\u001b[1;33m(\u001b[0m\u001b[1;34m'Class C'\u001b[0m\u001b[1;33m)\u001b[0m\u001b[1;33m\u001b[0m\u001b[1;33m\u001b[0m\u001b[0m\n\u001b[0;32m     12\u001b[0m \u001b[1;33m\u001b[0m\u001b[0m\n\u001b[1;32m---> 13\u001b[1;33m \u001b[1;32mclass\u001b[0m \u001b[0mD\u001b[0m\u001b[1;33m(\u001b[0m\u001b[0mA\u001b[0m\u001b[1;33m,\u001b[0m \u001b[0mC\u001b[0m\u001b[1;33m)\u001b[0m\u001b[1;33m:\u001b[0m\u001b[1;33m\u001b[0m\u001b[1;33m\u001b[0m\u001b[0m\n\u001b[0m\u001b[0;32m     14\u001b[0m     \u001b[1;32mpass\u001b[0m\u001b[1;33m\u001b[0m\u001b[1;33m\u001b[0m\u001b[0m\n\u001b[0;32m     15\u001b[0m \u001b[1;33m\u001b[0m\u001b[0m\n",
      "\u001b[1;31mTypeError\u001b[0m: Cannot create a consistent method resolution\norder (MRO) for bases A, C"
     ]
    }
   ],
   "source": [
    "class A:\n",
    "    def info(self):\n",
    "        print('Class A')\n",
    "\n",
    "class B(A):\n",
    "    def info(self):\n",
    "        print('Class B')\n",
    "\n",
    "class C(A):\n",
    "    def info(self):\n",
    "        print('Class C')\n",
    "\n",
    "class D(A, C):\n",
    "    pass\n",
    "\n",
    "D().info()\n"
   ]
  },
  {
   "cell_type": "markdown",
   "metadata": {},
   "source": [
    "- This message informs us that the MRO algorithm had problems determining which method (originating from the A or C classes) should be called."
   ]
  },
  {
   "cell_type": "markdown",
   "metadata": {},
   "source": [
    "### 2.2.1.5 Inheritance and polymorphism — Single inheritance vs. multiple inheritance"
   ]
  },
  {
   "cell_type": "markdown",
   "metadata": {},
   "source": [
    "- Due to MRO, you should knowingly list the superclasses in the subclass definition. In the following example, class D is based on classes B and C, whereas class E is based on classes C and B (the order matters!)."
   ]
  },
  {
   "cell_type": "code",
   "execution_count": 63,
   "metadata": {},
   "outputs": [
    {
     "name": "stdout",
     "output_type": "stream",
     "text": [
      "Class B\n",
      "Class C\n"
     ]
    }
   ],
   "source": [
    "class A:\n",
    "    def info(self):\n",
    "        print('Class A')\n",
    "\n",
    "class B(A):\n",
    "    def info(self):\n",
    "        print('Class B')\n",
    "\n",
    "class C(A):\n",
    "    def info(self):\n",
    "        print('Class C')\n",
    "\n",
    "class D(B, C):\n",
    "    pass\n",
    "\n",
    "class E(C, B):\n",
    "    pass\n",
    "\n",
    "D().info()\n",
    "E().info()\n"
   ]
  },
  {
   "cell_type": "markdown",
   "metadata": {},
   "source": [
    "### 2.2.1.6 Multiple inheritance — the LAB"
   ]
  },
  {
   "cell_type": "markdown",
   "metadata": {},
   "source": [
    "#### Scenario\n",
    "- Your task is to build a multifunction device (MFD) class consisting of methods responsible for document scanning, printing, and sending via fax.\n",
    "- The methods are delivered by the following classes:\n",
    "    - `scan()`, delivered by the Scanner class;\n",
    "    - `print()`, delivered by the Printer class;\n",
    "    - `send()` and `print()`, delivered by the Fax class.\n",
    "- Each method should print a message indicating its purpose and origin, like:\n",
    "    - 'print() method from Printer class'\n",
    "    - 'send() method from Fax class'\n",
    "- create an `MFD_SPF` class ('SPF' means 'Scanner', 'Printer', 'Fax'), then instantiate it;\n",
    "- create an `MFD_SFP` class ('SFP' means 'Scanner', 'Fax', 'Printer'), then instantiate it;\n",
    "- on each object call the methods: `scan()`, `print()`, `send()`;\n",
    "- observe the output differences. Was the Printer class utilized each time?"
   ]
  },
  {
   "cell_type": "code",
   "execution_count": 64,
   "metadata": {},
   "outputs": [
    {
     "name": "stdout",
     "output_type": "stream",
     "text": [
      "scan() method from Scanner class\n",
      "print() method from Printer class\n",
      "send() method from Fax class\n",
      "scan() method from Scanner class\n",
      "print() method from Fax class\n",
      "send() method from Fax class\n"
     ]
    }
   ],
   "source": [
    "class Scanner:\n",
    "    def __init__(self):\n",
    "        pass\n",
    "    def scan(self):\n",
    "        print(\"scan() method from Scanner class\")\n",
    "        \n",
    "class Printer:\n",
    "    def __init__(self):\n",
    "        pass\n",
    "    def print(self):\n",
    "        print(\"print() method from Printer class\")\n",
    "        \n",
    "class Fax:\n",
    "    def __init__(self):\n",
    "        pass\n",
    "    def send(self):\n",
    "        print(\"send() method from Fax class\")\n",
    "        \n",
    "    def print(self):\n",
    "        print(\"print() method from Fax class\")\n",
    "        \n",
    "class MFD_SPF(Scanner, Printer, Fax):\n",
    "    def __init__(self):\n",
    "        super().__init__()\n",
    "        \n",
    "class MFD_SFP(Scanner, Fax, Printer):\n",
    "    def __init__(self):\n",
    "        super().__init__()\n",
    "        \n",
    "mfd1 = MFD_SPF()\n",
    "mfd2 = MFD_SFP()\n",
    "\n",
    "mfd1.scan()\n",
    "mfd1.print()\n",
    "mfd1.send()\n",
    "\n",
    "mfd2.scan()\n",
    "mfd2.print()\n",
    "mfd2.send()"
   ]
  },
  {
   "cell_type": "markdown",
   "metadata": {},
   "source": [
    "### 2.2.1.7 Inheritance and polymorphism — Inheritance as a pillar of OOP\n"
   ]
  },
  {
   "cell_type": "markdown",
   "metadata": {},
   "source": [
    "- In Python, polymorphism is the provision of a single interface to objects of different types. In other words, it is the ability to create abstract methods from specific types in order to treat those types in a uniform way.\n",
    "\n",
    "- Imagine that you have to print a string or an integer — it is more convenient when a function is called simply `print`, not `print_string` or `print_integer`.\n",
    "\n",
    "- However, the string must be handled differently than the integer, so there will be two implementations of the function that lead to printing, but naming them with a common name creates a convenient abstract interface independent of the type of value to be printed.\n",
    "\n",
    "- The same rule applies to the operation of addition. We know that addition is expressed with the '+' operator, and we can apply that operator when we add two integers or concatenate two strings or two lists.\n",
    "\n",
    "- Let's see what methods are present for both built-in types (string and integer) responsible for handling the '+' operator. Once again, we'll use the `dir(object)` function, which returns a list of object attributes."
   ]
  },
  {
   "cell_type": "code",
   "execution_count": 65,
   "metadata": {},
   "outputs": [
    {
     "name": "stdout",
     "output_type": "stream",
     "text": [
      "['__abs__', '__add__', '__and__', '__bool__', '__ceil__', '__class__', '__delattr__', '__dir__', '__divmod__', '__doc__', '__eq__', '__float__', '__floor__', '__floordiv__', '__format__', '__ge__', '__getattribute__', '__getnewargs__', '__gt__', '__hash__', '__index__', '__init__', '__init_subclass__', '__int__', '__invert__', '__le__', '__lshift__', '__lt__', '__mod__', '__mul__', '__ne__', '__neg__', '__new__', '__or__', '__pos__', '__pow__', '__radd__', '__rand__', '__rdivmod__', '__reduce__', '__reduce_ex__', '__repr__', '__rfloordiv__', '__rlshift__', '__rmod__', '__rmul__', '__ror__', '__round__', '__rpow__', '__rrshift__', '__rshift__', '__rsub__', '__rtruediv__', '__rxor__', '__setattr__', '__sizeof__', '__str__', '__sub__', '__subclasshook__', '__truediv__', '__trunc__', '__xor__', 'bit_length', 'conjugate', 'denominator', 'from_bytes', 'imag', 'numerator', 'real', 'to_bytes']\n"
     ]
    }
   ],
   "source": [
    "print(dir(1))"
   ]
  },
  {
   "cell_type": "code",
   "execution_count": 66,
   "metadata": {},
   "outputs": [
    {
     "name": "stdout",
     "output_type": "stream",
     "text": [
      "['__add__', '__class__', '__contains__', '__delattr__', '__dir__', '__doc__', '__eq__', '__format__', '__ge__', '__getattribute__', '__getitem__', '__getnewargs__', '__gt__', '__hash__', '__init__', '__init_subclass__', '__iter__', '__le__', '__len__', '__lt__', '__mod__', '__mul__', '__ne__', '__new__', '__reduce__', '__reduce_ex__', '__repr__', '__rmod__', '__rmul__', '__setattr__', '__sizeof__', '__str__', '__subclasshook__', 'capitalize', 'casefold', 'center', 'count', 'encode', 'endswith', 'expandtabs', 'find', 'format', 'format_map', 'index', 'isalnum', 'isalpha', 'isascii', 'isdecimal', 'isdigit', 'isidentifier', 'islower', 'isnumeric', 'isprintable', 'isspace', 'istitle', 'isupper', 'join', 'ljust', 'lower', 'lstrip', 'maketrans', 'partition', 'replace', 'rfind', 'rindex', 'rjust', 'rpartition', 'rsplit', 'rstrip', 'split', 'splitlines', 'startswith', 'strip', 'swapcase', 'title', 'translate', 'upper', 'zfill']\n"
     ]
    }
   ],
   "source": [
    "print(dir('a'))"
   ]
  },
  {
   "cell_type": "markdown",
   "metadata": {},
   "source": [
    "- As you can see, there are many attributes available for the string and integer types, many of them carrying the same names. The first name common to both lists is `__add__`, which is a special method responsible for handling addition, as you may remember from the previous slides.\n",
    "\n",
    "- To briefly demonstrate polymorphism on integers and strings, execute the following code in the Python interpreter:"
   ]
  },
  {
   "cell_type": "code",
   "execution_count": 67,
   "metadata": {},
   "outputs": [
    {
     "name": "stdout",
     "output_type": "stream",
     "text": [
      "30\n",
      "abcdef\n"
     ]
    }
   ],
   "source": [
    "a = 10\n",
    "print(a.__add__(20))\n",
    "\n",
    "b = 'abc'\n",
    "print(b.__add__('def'))"
   ]
  },
  {
   "cell_type": "markdown",
   "metadata": {},
   "source": [
    "- By the way, if you look for a method that is used when you print a value associated with an object, the `__str__` method is called to prepare a string that is used in turn for printing."
   ]
  },
  {
   "cell_type": "markdown",
   "metadata": {},
   "source": [
    "### 2.2.1.8 Inheritance and polymorphism — two pillars of OOP combined"
   ]
  },
  {
   "cell_type": "markdown",
   "metadata": {},
   "source": [
    "- One way to carry out polymorphism is inheritance, when subclasses make use of base class methods, or override them. By combining both approaches, the programmer is given a very convenient way of creating applications, as:\n",
    "\n",
    "    - most of the code could be reused and only specific methods are implemented, which saves a lot of development time and improves code quality;\n",
    "    - the code is clearly structured;\n",
    "    - there is a uniform way of calling methods responsible for the same operations, implemented accordingly for the types.\n",
    "    \n",
    "- Remember\n",
    "    - You can use inheritance to create polymorphic behavior, and usually that's what you do, but that's not what polymorphism is about."
   ]
  },
  {
   "cell_type": "code",
   "execution_count": 68,
   "metadata": {},
   "outputs": [
    {
     "name": "stdout",
     "output_type": "stream",
     "text": [
      "The device was turned on\n",
      "The device was turned on\n",
      "PortableRadio type object was turned on\n",
      "TvSet type object was turned on\n"
     ]
    }
   ],
   "source": [
    "class Device:\n",
    "    def turn_on(self):\n",
    "        print('The device was turned on')\n",
    "\n",
    "class Radio(Device):\n",
    "    pass\n",
    "\n",
    "class PortableRadio(Device):\n",
    "    def turn_on(self):\n",
    "        print('PortableRadio type object was turned on')\n",
    "\n",
    "class TvSet(Device):\n",
    "    def turn_on(self):\n",
    "        print('TvSet type object was turned on')\n",
    "\n",
    "device = Device()\n",
    "radio = Radio()\n",
    "portableRadio = PortableRadio()\n",
    "tvset = TvSet()\n",
    "\n",
    "for element in (device, radio, portableRadio, tvset):\n",
    "    element.turn_on()\n"
   ]
  },
  {
   "cell_type": "markdown",
   "metadata": {},
   "source": [
    "### 2.2.1.9 Inheritance and polymorphism — duck typing"
   ]
  },
  {
   "cell_type": "markdown",
   "metadata": {},
   "source": [
    "- Duck typing is a fancy name for the term describing an application of the duck test: \"If it walks like a duck and it quacks like a duck, then it must be a duck\", which determines whether an object can be used for a particular purpose. An object's suitability is determined by the presence of certain attributes, rather than by the type of the object itself.\n",
    "\n",
    "- Duck typing is another way of achieving polymorphism, and represents a more general approach than polymorphism achieved by inheritance. When we talk about inheritance, all subclasses are equipped with methods named the same way as the methods present in the superclass.\n",
    "\n",
    "- In duck typing, we believe that objects own the methods that are called. If they do not own them, then we should be prepared to handle exceptions."
   ]
  },
  {
   "cell_type": "code",
   "execution_count": 69,
   "metadata": {},
   "outputs": [
    {
     "name": "stdout",
     "output_type": "stream",
     "text": [
      "Wax can be used to form a tool\n",
      "Cheese can be eaten\n",
      "No melt() method\n"
     ]
    }
   ],
   "source": [
    "class Wax:\n",
    "    def melt(self):\n",
    "        print(\"Wax can be used to form a tool\")\n",
    "\n",
    "class Cheese:\n",
    "    def melt(self):\n",
    "        print(\"Cheese can be eaten\")\n",
    "\n",
    "class Wood:\n",
    "    def fire(self):\n",
    "        print(\"A fire has been started!\")\n",
    "\n",
    "for element in Wax(), Cheese(), Wood():\n",
    "    try:\n",
    "        element.melt()\n",
    "    except AttributeError:\n",
    "        print('No melt() method')"
   ]
  },
  {
   "cell_type": "markdown",
   "metadata": {},
   "source": [
    "Summary:\n",
    "\n",
    "- polymorphism is used when different class objects share conceptually similar methods (but are not always inherited)\n",
    "\n",
    "\n",
    "- polymorphism leverages clarity and expressiveness of the application design and development;\n",
    "\n",
    "\n",
    "- when polymorphism is assumed, it is wise to handle exceptions that could pop up."
   ]
  },
  {
   "cell_type": "markdown",
   "metadata": {},
   "source": [
    "### 2.3.1.1 Extended function argument syntax"
   ]
  },
  {
   "cell_type": "markdown",
   "metadata": {},
   "source": [
    "- How is it possible for Python functions to deal with a variable number of arguments? Can we prepare such functions ourselves?\n",
    "\n",
    "- The answer is yes, but it may look strange at first glance: \\*args and \\*\\*kwargs. Don't worry, we'll tame them in a short moment."
   ]
  },
  {
   "cell_type": "markdown",
   "metadata": {},
   "source": [
    "### 2.3.1.2 Extended function argument syntax\n"
   ]
  },
  {
   "cell_type": "markdown",
   "metadata": {},
   "source": [
    "- These two special identifiers (named \\*args and \\*\\*kwargs) should be put as the last two parameters in a function definition. Their names could be changed because it is just a convention to name them 'args' and 'kwargs', but it’s more important to sustain the order of the parameters and leading asterisks.\n",
    "\n",
    "\n",
    "- Those two special parameters are responsible for handling any number of additional arguments (placed next after the expected arguments) passed to a called function:\n",
    "    - \\*args – refers to a tuple of all additional, not explicitly expected positional arguments, so arguments passed without keywords and passed next after the expected arguments. In other words, *args collects all unmatched positional arguments;\n",
    "    - \\*\\*kwargs (keyword arguments) – refers to a dictionary of all unexpected arguments that were passed in the form of keyword=value pairs. Likewise, \\*\\*kwargs collects all unmatched keyword arguments.\n",
    "    \n",
    "    \n",
    "- In Python, asterisks are used to denote that args and kwargs parameters are not ordinary parameters and should be unpacked, as they carry multiple items.\n",
    "\n",
    "\n",
    "- If you’ve ever programmed in the C or C++ languages, then you should remember that the asterisk character has another meaning (it denotes a pointer) which could be misleading for you."
   ]
  },
  {
   "cell_type": "code",
   "execution_count": 70,
   "metadata": {},
   "outputs": [
    {
     "name": "stdout",
     "output_type": "stream",
     "text": [
      "10 <class 'int'>\n",
      "20 <class 'str'>\n",
      "(40, 60, 30) <class 'tuple'>\n",
      "{'argument1': 50, 'argument2': '66'} <class 'dict'>\n"
     ]
    }
   ],
   "source": [
    "def combiner(a, b, *args, **kwargs):\n",
    "    print(a, type(a))\n",
    "    print(b, type(b))\n",
    "    print(args, type(args))\n",
    "    print(kwargs, type(kwargs))\n",
    "\n",
    "\n",
    "combiner(10, '20', 40, 60, 30, argument1=50, argument2='66')\n"
   ]
  },
  {
   "cell_type": "markdown",
   "metadata": {},
   "source": [
    "### 2.3.1.3 Extended function argument syntax"
   ]
  },
  {
   "cell_type": "markdown",
   "metadata": {},
   "source": [
    "#### Extended function argument syntax – forwarding arguments to other functions"
   ]
  },
  {
   "cell_type": "markdown",
   "metadata": {},
   "source": [
    "- When you want to forward arguments received by your very smart and universal function (defined with \\*args and \\*\\*kwargs, of course) to another handy and smart function, you should do that in the following way:"
   ]
  },
  {
   "cell_type": "code",
   "execution_count": 71,
   "metadata": {},
   "outputs": [
    {
     "name": "stdout",
     "output_type": "stream",
     "text": [
      "my_args: (40, 60, 30)\n",
      "my_kwargs:  {'argument1': 50, 'argument2': '66'}\n"
     ]
    }
   ],
   "source": [
    "def combiner(a, b, *args, **kwargs):\n",
    "    super_combiner(*args, **kwargs)\n",
    "    \n",
    "def super_combiner(*my_args, **my_kwargs):\n",
    "    print('my_args:', my_args)\n",
    "    print('my_kwargs: ', my_kwargs)\n",
    "    \n",
    "combiner(10, '20', 40, 60, 30, argument1=50, argument2='66')"
   ]
  },
  {
   "cell_type": "markdown",
   "metadata": {},
   "source": [
    "### 2.3.1.4 Extended function argument syntax"
   ]
  },
  {
   "cell_type": "markdown",
   "metadata": {},
   "source": [
    "- The last example in this section shows how to combine \\*args, a key word, and \\*\\*kwargs in one definition:"
   ]
  },
  {
   "cell_type": "code",
   "execution_count": 72,
   "metadata": {},
   "outputs": [
    {
     "name": "stdout",
     "output_type": "stream",
     "text": [
      "my_args: (1, 1)\n",
      "my_c: 2\n",
      "my_kwargs {'argument1': 1, 'argument2': '1'}\n"
     ]
    }
   ],
   "source": [
    "def combiner(a, b, *args, c=20, **kwargs):\n",
    "    super_combiner(c, *args, **kwargs)\n",
    "def super_combiner(my_c, *my_args, **my_kwargs):\n",
    "    print('my_args:', my_args)\n",
    "    print('my_c:', my_c)\n",
    "    print('my_kwargs', my_kwargs)\n",
    "combiner(1, '1', 1, 1, c=2, argument1=1, argument2='1')"
   ]
  },
  {
   "cell_type": "markdown",
   "metadata": {},
   "source": [
    "- As you can see, Python offers complex parameter handling:\n",
    "\n",
    "    - positional arguments (a,b) are distinguished from all other positional arguments (args)\n",
    "    - the keyword 'c' is distinguished from all other keyworded parameters.\n",
    "    \n",
    "    \n",
    "- Now that we know the purpose of special parameters, we can move on to decorators that make intensive use of those parameters."
   ]
  },
  {
   "cell_type": "markdown",
   "metadata": {},
   "source": [
    "### 2.4.1.1 Decorators"
   ]
  },
  {
   "cell_type": "markdown",
   "metadata": {},
   "source": [
    "- A decorator is one of the design patterns that describes the structure of related objects. Python is able to decorate functions, methods, and classes.\n",
    "\n",
    "\n",
    "- The decorator's operation is based on wrapping the original function with a new \"decorating\" function (or class), hence the name \"decoration\". This is done by passing the original function (i.e., the decorated function) as a parameter to the decorating function so that the decorating function can call the passed function. The decorating function returns a function that can be called later.\n",
    "\n",
    "\n",
    "- Of course, the decorating function does more, because it can take the parameters of the decorated function and perform additional actions and that make it a real decorating function.\n",
    "\n",
    "\n",
    "- The same principle is applied when we decorate classes.\n",
    "\n",
    "\n",
    "- So from now on, the term 'decorator' will be understood as a decorating class or a decorating function.\n",
    "\n",
    "\n",
    "- ***Decorators are used to perform operations before and after a call to a wrapped object or even to prevent its execution, depending on the circumstances. As a result, we can change the operation of the packaged object without directly modifying it***.\n",
    "\n",
    "\n",
    "- Decorators are used in:\n",
    "\n",
    "    - the validation of arguments;\n",
    "    - the modification of arguments;\n",
    "    - the modification of returned objects;\n",
    "    - the measurement of execution time;\n",
    "    - message logging;\n",
    "    - thread synchronization;\n",
    "    - code refactorization;\n",
    "    - caching.\n"
   ]
  },
  {
   "cell_type": "markdown",
   "metadata": {},
   "source": [
    "### 2.4.1.2 Decorators"
   ]
  },
  {
   "cell_type": "markdown",
   "metadata": {},
   "source": [
    "- Let's analyze some examples before we get down to the next dose of theory."
   ]
  },
  {
   "cell_type": "code",
   "execution_count": 73,
   "metadata": {},
   "outputs": [
    {
     "name": "stdout",
     "output_type": "stream",
     "text": [
      "We are about to call \"simple_hello\"\n",
      "Hello from simple function!\n"
     ]
    }
   ],
   "source": [
    "def simple_hello():\n",
    "    print(\"Hello from simple function!\")\n",
    "    \n",
    "def simple_decorator(function):\n",
    "    print('We are about to call \"{}\"'.format(function.__name__))\n",
    "    return function\n",
    "\n",
    "decorated = simple_decorator(simple_hello)\n",
    "decorated()"
   ]
  },
  {
   "cell_type": "markdown",
   "metadata": {},
   "source": [
    "### 2.4.1.3 Decorators"
   ]
  },
  {
   "cell_type": "markdown",
   "metadata": {},
   "source": [
    "- As you can see, the definition of the `simple_hello()` function is literally decorated with '@simple_decorator' – isn't that a nice syntax?\n",
    "\n",
    "\n",
    "- This means that:\n",
    "\n",
    "    - operations are performed on object names;\n",
    "    - ***this is the most important thing to remember***: the name of the simple_function object ceases to indicate the object representing our simple_function() and from that moment on it indicates the object returned by the decorator, the simple_decorator.\n",
    "    \n",
    "    \n",
    "- The implementation of the decorator pattern introduces this syntax, which appears to be very important and useful to developers. That is why decorators have gained great popularity and are widely used in Python code. It should be mentioned that decorators are very useful for refactoring or debugging the code."
   ]
  },
  {
   "cell_type": "code",
   "execution_count": 74,
   "metadata": {},
   "outputs": [
    {
     "name": "stdout",
     "output_type": "stream",
     "text": [
      "We are about ot call \"simple_hello\"\n",
      "Hello from simple function!\n"
     ]
    }
   ],
   "source": [
    "def simple_decorator(function):\n",
    "    print('We are about ot call \"{}\"'.format(function.__name__))\n",
    "    return function\n",
    "\n",
    "@simple_decorator\n",
    "def simple_hello():\n",
    "    print(\"Hello from simple function!\")\n",
    "    \n",
    "simple_hello()"
   ]
  },
  {
   "cell_type": "markdown",
   "metadata": {},
   "source": [
    "### 2.4.1.4 Decorators"
   ]
  },
  {
   "cell_type": "markdown",
   "metadata": {},
   "source": [
    "#### Decorators should be universal"
   ]
  },
  {
   "cell_type": "markdown",
   "metadata": {},
   "source": [
    "- Consider a function that accepts arguments and should also be decorated. Decorators, which should be universal, must support any function, regardless of the number and type of arguments passed. In such a situation, we can use the *args and **kwargs concepts. We can also employ a closure technique to persist arguments."
   ]
  },
  {
   "cell_type": "code",
   "execution_count": 75,
   "metadata": {},
   "outputs": [
    {
     "name": "stdout",
     "output_type": "stream",
     "text": [
      "\"combiner\" was called with the following arguments\n",
      "\t('a', 'b')\n",
      "\t{'exec': 'yes'}\n",
      "\n",
      "\tHello from the decorated function; received arguments: ('a', 'b') {'exec': 'yes'}\n",
      "Decorator is still operating\n"
     ]
    }
   ],
   "source": [
    "def simple_decorator(own_function):\n",
    "\n",
    "    def internal_wrapper(*args, **kwargs):\n",
    "        print('\"{}\" was called with the following arguments'.format(own_function.__name__))\n",
    "        print('\\t{}\\n\\t{}\\n'.format(args, kwargs))\n",
    "        own_function(*args, **kwargs)\n",
    "        print('Decorator is still operating')\n",
    "\n",
    "    return internal_wrapper\n",
    "\n",
    "\n",
    "@simple_decorator\n",
    "def combiner(*args, **kwargs):\n",
    "    print(\"\\tHello from the decorated function; received arguments:\", args, kwargs)\n",
    "\n",
    "combiner('a', 'b', exec='yes')\n"
   ]
  },
  {
   "cell_type": "markdown",
   "metadata": {},
   "source": [
    "- Arguments passed to the decorated function are available to the decorator, so the decorator can print them. This is a simple example, as the arguments were just printed, but not processed further.\n",
    "\n",
    "- A nested function (internal_wrapper) could reference an object (own_function) in its enclosing scope thanks to the closure."
   ]
  },
  {
   "cell_type": "markdown",
   "metadata": {},
   "source": [
    "### 2.4.1.5 Decorators"
   ]
  },
  {
   "cell_type": "markdown",
   "metadata": {},
   "source": [
    "#### Decorators can accept their own attributes"
   ]
  },
  {
   "cell_type": "markdown",
   "metadata": {},
   "source": [
    "- The `warehouse_decorator()` function created in this way has become much more flexible and universal than 'simple_decorator', because it can handle different materials.\n",
    "\n",
    "\n",
    "- Note that our decorator is enriched with one more function to make it able to handle arguments at all call levels.\n",
    "\n",
    "\n",
    "- The `pack_books` function will be executed as follows:\n",
    "\n",
    "    - the `warehouse_decorator('kraft')` function will return the wrapper function;\n",
    "    - the returned wrapper function will take the function it is supposed to decorate as an argument;\n",
    "    - the wrapper function will return the ***internal_wrapper*** function, which adds new functionality (material display) and runs the decorated function.\n",
    "    \n",
    "    \n",
    "- The biggest advantage of decorators is now clearly visible:\n",
    "    - we don’t have to change every 'pack' function to display the material being used;\n",
    "    - we just have to add a simple one liner in front of each function definition."
   ]
  },
  {
   "cell_type": "code",
   "execution_count": 76,
   "metadata": {},
   "outputs": [
    {
     "name": "stdout",
     "output_type": "stream",
     "text": [
      "<strong>*</strong> Wrapping items from pack_books with kraft\n",
      "We'll pack books: ('Alice in Wonderland', 'Winnie the Pooh')\n",
      "\n",
      "<strong>*</strong> Wrapping items from pack_toys with foil\n",
      "We'll pack toys: ('doll', 'car')\n",
      "\n",
      "<strong>*</strong> Wrapping items from pack_fruits with cardboard\n",
      "We'll pack fruits: ('plum', 'pear')\n",
      "\n"
     ]
    }
   ],
   "source": [
    "def warehouse_decorator(material):\n",
    "    def wrapper(our_function):\n",
    "        def internal_wrapper(*args):\n",
    "            print('<strong>*</strong> Wrapping items from {} with {}'.format(our_function.__name__, material))\n",
    "            our_function(*args)\n",
    "            print()\n",
    "        return internal_wrapper\n",
    "    return wrapper\n",
    "\n",
    "\n",
    "@warehouse_decorator('kraft')\n",
    "def pack_books(*args):\n",
    "    print(\"We'll pack books:\", args)\n",
    "\n",
    "\n",
    "@warehouse_decorator('foil')\n",
    "def pack_toys(*args):\n",
    "    print(\"We'll pack toys:\", args)\n",
    "\n",
    "\n",
    "@warehouse_decorator('cardboard')\n",
    "def pack_fruits(*args):\n",
    "    print(\"We'll pack fruits:\", args)\n",
    "\n",
    "\n",
    "pack_books('Alice in Wonderland', 'Winnie the Pooh')\n",
    "pack_toys('doll', 'car')\n",
    "pack_fruits('plum', 'pear')\n"
   ]
  },
  {
   "cell_type": "markdown",
   "metadata": {},
   "source": [
    "#### 2.4.1.6 Decorators"
   ]
  },
  {
   "cell_type": "markdown",
   "metadata": {},
   "source": [
    "#### Decorator stacking"
   ]
  },
  {
   "cell_type": "markdown",
   "metadata": {},
   "source": [
    "- Python allows you to apply multiple decorators to a callable object (function, method or class).\n",
    "\n",
    "- The most important thing to remember is the order in which the decorators are listed in your code, because it determines the order of the executed decorators. When your function is decorated with multiple decorators:"
   ]
  },
  {
   "cell_type": "code",
   "execution_count": null,
   "metadata": {},
   "outputs": [],
   "source": [
    "@outer_decorator\n",
    "@inner_decorator\n",
    "def function():\n",
    "    pass\n",
    "\n",
    "abcd = subject_matter_function()"
   ]
  },
  {
   "cell_type": "markdown",
   "metadata": {},
   "source": [
    "- the call sequence will look like the following:\n",
    "    - the outer_decorator is called to call the inner_decorator, then the inner_decorator calls your function;\n",
    "    - when your function ends it execution, the inner_decorator takes over control, and after it finishes its execution, the outer_decorator is able to finish its job.\n",
    "    \n",
    "    \n",
    "- This routing mimics the classic stack concept.\n",
    "\n",
    "\n",
    "- The syntactic sugar presented above is the equivalent of the following nested calls:"
   ]
  },
  {
   "cell_type": "code",
   "execution_count": null,
   "metadata": {},
   "outputs": [],
   "source": [
    "subject_matter_function = outer_decorator(inner_decorator(subject_matter_function())))\n",
    "abcd = subject_matter_function()"
   ]
  },
  {
   "cell_type": "markdown",
   "metadata": {},
   "source": [
    "- ***Another advantage becomes clear when you think about the number of modifications you should add to gain the same functionality***, because you'd have to modify each call to your function."
   ]
  },
  {
   "cell_type": "code",
   "execution_count": 78,
   "metadata": {},
   "outputs": [
    {
     "name": "stdout",
     "output_type": "stream",
     "text": [
      "We'll pack books: ('Alice in Wonderland', 'Winnie the Pooh')\n",
      "<strong>*</strong> Wrapping items from pack_books with bubble foil\n",
      "<strong>*</strong> The whole order would be packed with plain cardboard\n",
      "\n",
      "We'll pack toys: ('doll', 'car')\n",
      "<strong>*</strong> Wrapping items from pack_toys with foil\n",
      "<strong>*</strong> The whole order would be packed with colourful cardboard\n",
      "\n",
      "We'll pack fruits: ('plum', 'pear')\n",
      "<strong>*</strong> Wrapping items from pack_fruits with cardboard\n",
      "<strong>*</strong> The whole order would be packed with strong cardboard\n",
      "\n"
     ]
    }
   ],
   "source": [
    "def big_container(collective_material):\n",
    "    def wrapper(our_function):\n",
    "        def internal_wrapper(*args):\n",
    "            our_function(*args)\n",
    "            print('<strong>*</strong> The whole order would be packed with', collective_material)\n",
    "            print()\n",
    "        return internal_wrapper\n",
    "    return wrapper\n",
    "\n",
    "def warehouse_decorator(material):\n",
    "    def wrapper(our_function):\n",
    "        def internal_wrapper(*args):\n",
    "            our_function(*args)\n",
    "            print('<strong>*</strong> Wrapping items from {} with {}'.format(our_function.__name__, material))\n",
    "        return internal_wrapper\n",
    "    return wrapper\n",
    "\n",
    "@big_container('plain cardboard')\n",
    "@warehouse_decorator('bubble foil')\n",
    "def pack_books(*args):\n",
    "    print(\"We'll pack books:\", args)\n",
    "\n",
    "@big_container('colourful cardboard')\n",
    "@warehouse_decorator('foil')\n",
    "def pack_toys(*args):\n",
    "    print(\"We'll pack toys:\", args)\n",
    "\n",
    "@big_container('strong cardboard')\n",
    "@warehouse_decorator('cardboard')\n",
    "def pack_fruits(*args):\n",
    "    print(\"We'll pack fruits:\", args)\n",
    "\n",
    "\n",
    "pack_books('Alice in Wonderland', 'Winnie the Pooh')\n",
    "pack_toys('doll', 'car')\n",
    "pack_fruits('plum', 'pear')\n"
   ]
  },
  {
   "cell_type": "markdown",
   "metadata": {},
   "source": [
    "- This example demonstrates that packaging functions are called simply (and could be called many times in different places in your code) and every time those functions' behavior would be extended in a relevant way."
   ]
  },
  {
   "cell_type": "markdown",
   "metadata": {},
   "source": [
    "### 2.4.1.7 Lab – timestamping logger"
   ]
  },
  {
   "cell_type": "markdown",
   "metadata": {},
   "source": [
    "#### Scenario\n",
    "\n",
    "- Create a function decorator that prints a timestamp (in a form like year-month-day hour:minute:seconds, eg. 2019-11-05 08:33:22)\n",
    "\n",
    "\n",
    "- Create a few ordinary functions that do some simple tasks, like adding or multiplying two numbers.\n",
    "\n",
    "\n",
    "- Apply your decorator to those functions to ensure that the time of the function executions can be monitored."
   ]
  },
  {
   "cell_type": "code",
   "execution_count": 79,
   "metadata": {},
   "outputs": [
    {
     "name": "stdout",
     "output_type": "stream",
     "text": [
      "2021-03-05 12:51:06\n",
      "The sum is:  12\n"
     ]
    }
   ],
   "source": [
    "from datetime import datetime\n",
    "\n",
    "def timeStamp(own_function):\n",
    "    def internal_wrapper(*args, **kwargs):\n",
    "        timestamp = datetime.now()\n",
    "        string_timestamp = timestamp.strftime('%Y-%m-%d %H:%M:%S')\n",
    "        print(string_timestamp)\n",
    "        own_function(*args, **kwargs)\n",
    "    return internal_wrapper\n",
    "    \n",
    "@timeStamp\n",
    "def adding(*args, **kwargs):\n",
    "    s = sum(args) + sum(kwargs.values())\n",
    "    print('The sum is: ',s)\n",
    "\n",
    "\n",
    "adding(1,2,3,a=1,b=2,c=3)\n"
   ]
  },
  {
   "cell_type": "markdown",
   "metadata": {},
   "source": [
    "### 2.4.1.8 Decorators"
   ]
  },
  {
   "cell_type": "markdown",
   "metadata": {},
   "source": [
    "#### Decorating functions with classes"
   ]
  },
  {
   "cell_type": "markdown",
   "metadata": {},
   "source": [
    "A decorator does not have to be a function. In Python, it could be a class that plays the role of a decorator as a function.\n",
    "\n",
    "We can define a decorator as a class, and in order to do that, we have to use a `__call__` special class method. When a user needs to create an object that acts as a function (i.e., it is callable) then the function decorator needs to return an object that is callable, so the `__call__` special method will be very useful.\n",
    "\n",
    "Our previous example code:"
   ]
  },
  {
   "cell_type": "code",
   "execution_count": 80,
   "metadata": {},
   "outputs": [],
   "source": [
    "def simple_decorator(own_function):\n",
    "\n",
    "    def internal_wrapper(*args, **kwargs):\n",
    "        print('\"{}\" was called with the following arguments'.format(own_function.__name__))\n",
    "        print('\\t{}\\n\\t{}\\n'.format(args, kwargs))\n",
    "        own_function(*args, **kwargs)\n",
    "        print('Decorator is still operating')\n",
    "\n",
    "    return internal_wrapper\n"
   ]
  },
  {
   "cell_type": "markdown",
   "metadata": {},
   "source": [
    "could be transcribed to the code presented on the right. Run it to see the output and compare it to the output of the previously retrieved output."
   ]
  },
  {
   "cell_type": "code",
   "execution_count": 81,
   "metadata": {},
   "outputs": [
    {
     "name": "stdout",
     "output_type": "stream",
     "text": [
      "\"combiner\" was called with the following arguments\n",
      "\t('a', 'b')\n",
      "\t{'exec': 'yes'}\n",
      "\n",
      "\tHello from the decorated function; received arguments: ('a', 'b') {'exec': 'yes'}\n",
      "Decorator is still operating\n"
     ]
    }
   ],
   "source": [
    "class SimpleDecorator:\n",
    "    def __init__(self, own_function):\n",
    "        self.func = own_function\n",
    "\n",
    "    def __call__(self, *args, **kwargs):\n",
    "        print('\"{}\" was called with the following arguments'.format(self.func.__name__))\n",
    "        print('\\t{}\\n\\t{}\\n'.format(args, kwargs))\n",
    "        self.func(*args, **kwargs)\n",
    "        print('Decorator is still operating')\n",
    "\n",
    "\n",
    "@SimpleDecorator\n",
    "def combiner(*args, **kwargs):\n",
    "    print(\"\\tHello from the decorated function; received arguments:\", args, kwargs)\n",
    "\n",
    "\n",
    "combiner('a', 'b', exec='yes')"
   ]
  },
  {
   "cell_type": "markdown",
   "metadata": {},
   "source": [
    "A short explanation of special methods:\n",
    "\n",
    "- the `__init__` method assigns a decorated function reference to the self.attribute for later use;\n",
    "- the `__call__` method, which is responsible for supporting a case when an object is called, calls a previously referenced function.\n",
    "\n",
    "The advantage of this approach, when compared to decorators expressed with functions, is:\n",
    "- classes bring all the subsidiarity they can offer, like inheritance and the ability to create dedicated supportive methods."
   ]
  },
  {
   "cell_type": "code",
   "execution_count": 82,
   "metadata": {},
   "outputs": [
    {
     "name": "stdout",
     "output_type": "stream",
     "text": [
      "\"combiner\" was called with the following arguments\n",
      "\t('a', 'b')\n",
      "\t{'exec': 'yes'}\n",
      "\n",
      "\tHello from the decorated function; received arguments: ('a', 'b') {'exec': 'yes'}\n",
      "Decorator is still operating\n"
     ]
    }
   ],
   "source": [
    "class SimpleDecorator:\n",
    "    def __init__(self, own_function):\n",
    "        self.func = own_function\n",
    "\n",
    "    def __call__(self, *args, **kwargs):\n",
    "        print('\"{}\" was called with the following arguments'.format(self.func.__name__))\n",
    "        print('\\t{}\\n\\t{}\\n'.format(args, kwargs))\n",
    "        self.func(*args, **kwargs)\n",
    "        print('Decorator is still operating')\n",
    "\n",
    "\n",
    "@SimpleDecorator\n",
    "def combiner(*args, **kwargs):\n",
    "    print(\"\\tHello from the decorated function; received arguments:\", args, kwargs)\n",
    "\n",
    "\n",
    "combiner('a', 'b', exec='yes')"
   ]
  },
  {
   "cell_type": "markdown",
   "metadata": {},
   "source": [
    "### 2.4.1.9 Decorators"
   ]
  },
  {
   "cell_type": "markdown",
   "metadata": {},
   "source": [
    "#### Decorators with arguments"
   ]
  },
  {
   "cell_type": "markdown",
   "metadata": {},
   "source": [
    "And this code could be transcribed to a decorator expressed as a class, presented in the right pane.\n",
    "\n",
    "When you pass arguments to the decorator, the decorator mechanism behaves quite differently than presented in example of decorator that does not accept arguments (previous slide):\n",
    "\n",
    "- the reference to function to be decorated is passed to __call__ method which is called only once during decoration process,\n",
    "- the decorator arguments are passed to __init__ method"
   ]
  },
  {
   "cell_type": "code",
   "execution_count": 83,
   "metadata": {},
   "outputs": [
    {
     "name": "stdout",
     "output_type": "stream",
     "text": [
      "<strong>*</strong> Wrapping items from pack_books with kraft\n",
      "We'll pack books: ('Alice in Wonderland', 'Winnie the Pooh')\n",
      "\n",
      "<strong>*</strong> Wrapping items from pack_toys with foil\n",
      "We'll pack toys: ('doll', 'car')\n",
      "\n",
      "<strong>*</strong> Wrapping items from pack_fruits with cardboard\n",
      "We'll pack fruits: ('plum', 'pear')\n",
      "\n"
     ]
    }
   ],
   "source": [
    "class WarehouseDecorator:\n",
    "    def __init__(self, material):\n",
    "        self.material = material\n",
    "\n",
    "    def __call__(self, own_function):\n",
    "        def internal_wrapper(*args, **kwargs):\n",
    "            print('<strong>*</strong> Wrapping items from {} with {}'.format(own_function.__name__, self.material))\n",
    "            own_function(*args, **kwargs)\n",
    "            print()\n",
    "        return internal_wrapper\n",
    "\n",
    "\n",
    "@WarehouseDecorator('kraft')\n",
    "def pack_books(*args):\n",
    "    print(\"We'll pack books:\", args)\n",
    "\n",
    "\n",
    "@WarehouseDecorator('foil')\n",
    "def pack_toys(*args):\n",
    "    print(\"We'll pack toys:\", args)\n",
    "\n",
    "\n",
    "@WarehouseDecorator('cardboard')\n",
    "def pack_fruits(*args):\n",
    "    print(\"We'll pack fruits:\", args)\n",
    "\n",
    "\n",
    "pack_books('Alice in Wonderland', 'Winnie the Pooh')\n",
    "pack_toys('doll', 'car')\n",
    "pack_fruits('plum', 'pear')"
   ]
  },
  {
   "cell_type": "markdown",
   "metadata": {},
   "source": [
    "### 2.4.1.10 Decorators"
   ]
  },
  {
   "cell_type": "markdown",
   "metadata": {},
   "source": [
    "#### Class decorators"
   ]
  },
  {
   "cell_type": "markdown",
   "metadata": {},
   "source": [
    "Class decorators strongly refer to function decorators, because they use the same syntax and implement the same concepts.\n",
    "\n",
    "Instead of wrapping individual methods with function decorators, class decorators are ways to manage classes or wrap special method calls into additional logic that manages or extends instances that are created.\n",
    "\n",
    "If we consider syntax, class decorators appear just before the 'class' instructions that begin the class definition (similar to function decorators, they appear just before the function definitions).\n",
    "\n"
   ]
  },
  {
   "cell_type": "markdown",
   "metadata": {},
   "source": [
    "The simplest use can be presented as follows:"
   ]
  },
  {
   "cell_type": "code",
   "execution_count": null,
   "metadata": {},
   "outputs": [],
   "source": [
    "@my_decorator\n",
    "class MyClass:\n",
    "\n",
    "obj = MyClass()"
   ]
  },
  {
   "cell_type": "markdown",
   "metadata": {},
   "source": [
    "and it is adequate for the following snippet:"
   ]
  },
  {
   "cell_type": "code",
   "execution_count": null,
   "metadata": {},
   "outputs": [],
   "source": [
    "def my_decorator(A):\n",
    "   ...\n",
    "\n",
    "class MyClass:\n",
    "   ...\n",
    "\n",
    "MyClass = my_decorator(MyClass())\n",
    "\n",
    "obj = MyClass()"
   ]
  },
  {
   "cell_type": "markdown",
   "metadata": {},
   "source": [
    "Like function decorators, the new (decorated) class is available under the name 'MyClass' and is used to create an instance. The original class named 'MyClass' is no longer available in your name space. The callable object returned by the class decorator creates and returns a new instance of the original class, extended in some way."
   ]
  },
  {
   "cell_type": "markdown",
   "metadata": {},
   "source": [
    "### 2.4.1.11 Decorators"
   ]
  },
  {
   "cell_type": "markdown",
   "metadata": {},
   "source": [
    "Now we’ll talk about a class decorated with a function that allows us to monitor the fact that some code gets access to the class object attributes. When you’re debugging your code or optimizing it, you might be curious how many times the object attributes are accessed. In such a situation, a class decorator might be handy.\n",
    "\n",
    "Let's create a simple class representing a car. Each object should own two attributes: mileage and VIN, and it should be possible to read the values of those attributes."
   ]
  },
  {
   "cell_type": "code",
   "execution_count": 85,
   "metadata": {},
   "outputs": [
    {
     "name": "stdout",
     "output_type": "stream",
     "text": [
      "The mileage is 0\n",
      "The VIN is ABC123\n"
     ]
    }
   ],
   "source": [
    "class Car:\n",
    "    def __init__(self, VIN):\n",
    "        self.mileage = 0\n",
    "        self.VIN = VIN\n",
    "\n",
    "car = Car('ABC123')\n",
    "print('The mileage is', car.mileage)\n",
    "print('The VIN is', car.VIN)"
   ]
  },
  {
   "cell_type": "markdown",
   "metadata": {},
   "source": [
    "### 2.4.1.12 Decorators\n"
   ]
  },
  {
   "cell_type": "markdown",
   "metadata": {},
   "source": [
    "Now let's create a function that will decorate a class with a method that issues alerts whenever the 'mileage' attribute is read."
   ]
  },
  {
   "cell_type": "code",
   "execution_count": 86,
   "metadata": {},
   "outputs": [],
   "source": [
    "def object_counter(class_):\n",
    "    class_.__getattr__orig = class_.__getattribute__\n",
    "\n",
    "    def new_getattr(self, name):\n",
    "        if name == 'mileage':\n",
    "            print('We noticed that the mileage attribute was read')\n",
    "        return class_.__getattr__orig(self, name)\n",
    "\n",
    "    class_.__getattribute__ = new_getattr\n",
    "    return class_\n"
   ]
  },
  {
   "cell_type": "markdown",
   "metadata": {},
   "source": [
    "Look at the code in the editor. Let's analyze it:\n",
    "\n",
    "- line 1: def object_counter(class_): – this line defines a decorating function that accepts one parameter 'class_' (note the underscore)\n",
    "- line 2: class_.__getattr__orig = class_.__getattribute__ – the decorator makes a copy of the reference to the __getattribute__ special method. This method is responsible for returning the attribute values. The reference to this original method will be used in a modified method;\n",
    "- line 4: def new_getattr(self, name): – a definition of the method playing the role of the new __getattribute__ method starts here. This method accepts an attribute name – it’s a string;\n",
    "- line 5: if name == 'mileage': – in case some code asks for the 'mileage' attribute, the next line will be executed;\n",
    "- line 6: print('We noticed that the mileage attribute was read') – a simple alert is issued;\n",
    "- line 7: return class_.__getattr__orig(self, name) – the original method __getattribute__ referenced by class.__getattr__orig is called. This ends the 'new_getattr' function definition;\n",
    "- line 9: class_.__getattribute__ = new_getattr – now the 'new_getattr' is defined, so it can now be referenced as the new '__getattribute__' method by a decorated class;\n",
    "- line 10: return class_ – every well behaved and developed decorator should return the decorated object – in our case it is a decorated class."
   ]
  },
  {
   "cell_type": "markdown",
   "metadata": {},
   "source": [
    "The last thing we should do is decorate the Car class:"
   ]
  },
  {
   "cell_type": "code",
   "execution_count": null,
   "metadata": {},
   "outputs": [],
   "source": [
    "@object_counter\n",
    "class Car:"
   ]
  },
  {
   "cell_type": "markdown",
   "metadata": {},
   "source": [
    "When you run the code, you can see that access to the 'mileage' attribute has been detected:\n",
    "\n",
    "```bash\n",
    "We noticed that the mileage attribute was read\n",
    "The mileage is 0\n",
    "The VIN is ABC123\n",
    "```"
   ]
  },
  {
   "cell_type": "markdown",
   "metadata": {},
   "source": [
    "### Decorators – summary"
   ]
  },
  {
   "cell_type": "markdown",
   "metadata": {},
   "source": [
    "A decorator is a very powerful and useful tool in Python, because it allows programmers to modify the behavior of a function, method, or class.\n",
    "\n",
    "Decorators allow us to wrap another callable object in order to extend its behavior.\n",
    "\n",
    "Decorators rely heavily on closures and *args and **kwargs.\n",
    "\n",
    "Interesting note:\n",
    "\n",
    "- the idea of decorators was described in two documents – PEP 318 and PEP 3129. Don't be discouraged that the first PEP was prepared for Python 2, because what matters here is the idea, not the implementation in a specific Python."
   ]
  },
  {
   "cell_type": "markdown",
   "metadata": {},
   "source": [
    "### 2.5.1.1 Different faces of Python methods\n"
   ]
  },
  {
   "cell_type": "markdown",
   "metadata": {},
   "source": [
    "Until now, we’ve been implementing methods that have performed operations on the instances (objects), and in particular the attributes of the instance, so we’ve called them ***instance methods***.\n",
    "\n",
    "The instance methods, as the first parameter, take the `self` parameter, which is their hallmark. It’s worth emphasizing and remembering that `self` allows you to refer to the instance. Of course, it follows that in order to successfully use the instance method, the instance must have previously existed.\n",
    "\n",
    "The code in the editor demonstrates the idea presented above.\n",
    "\n",
    "Each of the Example class objects has its own copy of the instance variable `__internal`, and the `get_internal()` method allows you to read the instance variable specific to the indicated instance. This is possible thanks to using `self`.\n",
    "\n",
    "The name of the parameter `self` was chosen arbitrarily and you can use a different word, but you must do it consistently in your code. It follows from the convention that self literally means a reference to the instance.\n",
    "\n"
   ]
  },
  {
   "cell_type": "code",
   "execution_count": 88,
   "metadata": {},
   "outputs": [
    {
     "name": "stdout",
     "output_type": "stream",
     "text": [
      "10\n",
      "99\n"
     ]
    }
   ],
   "source": [
    "class Example:\n",
    "    def __init__(self, value):\n",
    "        self.__internal = value\n",
    "\n",
    "    def get_internal(self):\n",
    "        return self.__internal\n",
    "\n",
    "example1 = Example(10)\n",
    "example2 = Example(99)\n",
    "print(example1.get_internal())\n",
    "print(example2.get_internal())\n"
   ]
  },
  {
   "cell_type": "markdown",
   "metadata": {},
   "source": [
    "### 2.5.1.2 The static and class methods"
   ]
  },
  {
   "cell_type": "markdown",
   "metadata": {},
   "source": [
    "#### The static and class methods"
   ]
  },
  {
   "cell_type": "markdown",
   "metadata": {},
   "source": [
    "Two other types of method can also be used in the Object Oriented Approach (OOP):\n",
    "\n",
    "- class methods;\n",
    "- static methods."
   ]
  },
  {
   "cell_type": "markdown",
   "metadata": {},
   "source": [
    "These alternative types of method should be understood as tool methods, extending our ability to use classes, not necessarily requiring the creation of class instances to use them.\n",
    "\n",
    "As a result, our perception of the Python class concept is extended by two types of specialized methods."
   ]
  },
  {
   "cell_type": "markdown",
   "metadata": {},
   "source": [
    "### 2.5.1.3 Class methods\n"
   ]
  },
  {
   "cell_type": "markdown",
   "metadata": {},
   "source": [
    "### Class methods"
   ]
  },
  {
   "cell_type": "markdown",
   "metadata": {},
   "source": [
    "Class methods are methods that, like class variables, work on the class itself, and not on the class objects that are instantiated. You can say that they are methods bound to the class, not to the object.\n",
    "\n",
    "When can this be useful?\n",
    "\n",
    "There are several possibilities, here are the two most popular:\n",
    "\n",
    "1. we control access to class variables, e.g., to a class variable containing information about the number of created instances or the serial number given to the last produced object, or we modify the state of the class variables;\n",
    "2. we need to create a class instance in an alternative way, so the class method can be implemented by an alternative constructor.\n",
    "\n",
    "Convention\n",
    "\n",
    "- To be able to distinguish a class method from an instance method, the programmer signals it with the `@classmethod` decorator preceding the class method definition.\n",
    "- Additionally, the first parameter of the class method is `cls`, which is used to refer to the class methods and class attributes.\n",
    "\n",
    "As with self, cls was chosen arbitrarily (i.e., you can use a different name, but you must do it consistently).\n"
   ]
  },
  {
   "cell_type": "code",
   "execution_count": 89,
   "metadata": {},
   "outputs": [
    {
     "name": "stdout",
     "output_type": "stream",
     "text": [
      "# of objects created: 0\n",
      "# of objects created: 1\n",
      "# of objects created: 2\n"
     ]
    }
   ],
   "source": [
    "class Example:\n",
    "    __internal_counter = 0\n",
    "\n",
    "    def __init__(self, value):\n",
    "        Example.__internal_counter +=1\n",
    "\n",
    "    @classmethod\n",
    "    def get_internal(cls):\n",
    "        return '# of objects created: {}'.format(cls.__internal_counter)\n",
    "\n",
    "print(Example.get_internal())\n",
    "\n",
    "example1 = Example(10)\n",
    "print(Example.get_internal())\n",
    "\n",
    "example2 = Example(99)\n",
    "print(Example.get_internal())\n"
   ]
  },
  {
   "cell_type": "markdown",
   "metadata": {},
   "source": [
    "\n",
    "The `get_internal()` method is a class method. This has been signaled to the Python interpreter by using an appropriate decorator. Additionally, the method uses the `cls` parameter to access the class variable appropriate for the Example class.\n",
    "\n",
    "Of course, you can use the reference to “Example.__internal_counter”, but this will be inconsistent with the convention and the code loses its effectiveness in communicating its own meaning.\n",
    "\n",
    "An exception is the `__init__()` method, which by definition is an instance method, so it can’t use “cls”, and as a result it references the class variable by the “Example” prefix."
   ]
  },
  {
   "cell_type": "code",
   "execution_count": 90,
   "metadata": {},
   "outputs": [
    {
     "name": "stdout",
     "output_type": "stream",
     "text": [
      "# of objects created: 0\n",
      "# of objects created: 1\n",
      "# of objects created: 2\n"
     ]
    }
   ],
   "source": [
    "class Example:\n",
    "    __internal_counter = 0\n",
    "\n",
    "    def __init__(self, value):\n",
    "        Example.__internal_counter +=1\n",
    "\n",
    "    @classmethod\n",
    "    def get_internal(cls):\n",
    "        return '# of objects created: {}'.format(cls.__internal_counter)\n",
    "\n",
    "print(Example.get_internal())\n",
    "\n",
    "example1 = Example(10)\n",
    "print(Example.get_internal())\n",
    "\n",
    "example2 = Example(99)\n",
    "print(Example.get_internal())\n"
   ]
  },
  {
   "cell_type": "markdown",
   "metadata": {},
   "source": [
    "### 2.5.1.5 Class methods"
   ]
  },
  {
   "cell_type": "code",
   "execution_count": 91,
   "metadata": {},
   "outputs": [
    {
     "name": "stdout",
     "output_type": "stream",
     "text": [
      "Ordinary __init__ was called for ABCD1234\n",
      "Class method was called\n",
      "Ordinary __init__ was called for DEF567\n",
      "ABCD1234 \n",
      "DEF567 NewBrand\n"
     ]
    }
   ],
   "source": [
    "class Car:\n",
    "    def __init__(self, vin):\n",
    "        print('Ordinary __init__ was called for', vin)\n",
    "        self.vin = vin\n",
    "        self.brand = ''\n",
    "\n",
    "    @classmethod\n",
    "    def including_brand(cls, vin, brand):\n",
    "        print('Class method was called')\n",
    "        _car = cls(vin)\n",
    "        _car.brand = brand\n",
    "        return _car\n",
    "\n",
    "car1 = Car('ABCD1234')\n",
    "car2 = Car.including_brand('DEF567', 'NewBrand')\n",
    "\n",
    "print(car1.vin, car1.brand)\n",
    "print(car2.vin, car2.brand)\n"
   ]
  },
  {
   "cell_type": "markdown",
   "metadata": {},
   "source": [
    "---"
   ]
  },
  {
   "cell_type": "markdown",
   "metadata": {},
   "source": [
    "The code presented in the editor shows how to use the class method as an alternative constructor, allowing you to handle an additional argument.\n",
    "\n",
    "The including_brand method is a class method, and expects a call with two parameters ('`vin`' and '`brand`'). The first parameter is used to create an object using the standard `__init__` method.\n",
    "\n",
    "In accordance with the convention, the creation of a class object (i.e., calling the `__init__` method, among other things) is done using `cls(vin)`.\n",
    "\n",
    "Then the class method performs an additional task – in this case, it supplements the brand instance variable and finally returns the newly created object."
   ]
  },
  {
   "cell_type": "markdown",
   "metadata": {},
   "source": [
    "### 2.5.1.6 Static methods"
   ]
  },
  {
   "cell_type": "markdown",
   "metadata": {},
   "source": [
    "### Static methods"
   ]
  },
  {
   "cell_type": "code",
   "execution_count": 92,
   "metadata": {},
   "outputs": [],
   "source": [
    "class Bank_Account:\n",
    "    def __init__(self, iban):\n",
    "        print('__init__ called')\n",
    "        self.iban = iban\n",
    "            \n",
    "    @staticmethod\n",
    "    def validate(iban):\n",
    "        if len(iban) == 20:\n",
    "            return True\n",
    "        else:\n",
    "            return False"
   ]
  },
  {
   "cell_type": "markdown",
   "metadata": {},
   "source": [
    "Static methods are methods that do not require (and do not expect!) a parameter indicating the class object or the class itself in order to execute their code.\n",
    "\n",
    "When can it be useful?\n",
    "\n",
    "1. When you need a utility method that comes in a class because it is semantically related, but does not require an object of that class to execute its code;\n",
    "2. consequently, when the static method does not need to know the state of the objects or classes.\n",
    "Convention\n",
    "\n",
    "1. To be able to distinguish a static method from a class method or instance method, the programmer signals it with the `@staticmethod` decorator preceding the class method definition.\n",
    "2. Static methods do not have the ability to modify the state of objects or classes, because they lack the parameters that would allow this."
   ]
  },
  {
   "cell_type": "markdown",
   "metadata": {},
   "source": [
    "### An example of using the static method"
   ]
  },
  {
   "cell_type": "code",
   "execution_count": 93,
   "metadata": {},
   "outputs": [
    {
     "name": "stdout",
     "output_type": "stream",
     "text": [
      "We can use 88888888888888888888  to create a bank account\n",
      "The account number 7777 is invalid\n",
      "The account number 2222 is invalid\n"
     ]
    }
   ],
   "source": [
    "class Bank_Account:\n",
    "    def __init__(self, iban):\n",
    "        print('__init__ called')\n",
    "        self.iban = iban\n",
    "            \n",
    "    @staticmethod\n",
    "    def validate(iban):\n",
    "        if len(iban) == 20:\n",
    "            return True\n",
    "        else:\n",
    "            return False\n",
    "\n",
    "\n",
    "account_numbers = ['8' * 20, '7' * 4, '2222']\n",
    "\n",
    "for element in account_numbers:\n",
    "    if Bank_Account.validate(element):\n",
    "        print('We can use', element, ' to create a bank account')\n",
    "    else:\n",
    "        print('The account number', element, 'is invalid')\n"
   ]
  },
  {
   "cell_type": "markdown",
   "metadata": {},
   "source": [
    "---"
   ]
  },
  {
   "cell_type": "markdown",
   "metadata": {},
   "source": [
    "Imagine a class that represents a bank account, that is, a class that provides methods to operate on bank accounts. This may include a method that validates the correctness of the account number recorded in accordance with the IBAN standard.\n",
    "\n",
    "This is a great place to introduce a static method, which, provided by the bank account class, will be used to validate the character string and will answer the question: can a given character string be an account number before the object is created?\n",
    "\n",
    "To shorten the size of the sample code, the static method responsible for validation checks only the length of the string, and only those numbers whose length is 20 characters are treated as valid.\n",
    "\n",
    "Note that for the purpose of validating three different character strings, it isn’t necessary to create class objects."
   ]
  },
  {
   "cell_type": "markdown",
   "metadata": {},
   "source": [
    "### 2.5.1.8 The static and class methods - comparison"
   ]
  },
  {
   "cell_type": "markdown",
   "metadata": {},
   "source": [
    "### Using static and class methods - comparison"
   ]
  },
  {
   "cell_type": "markdown",
   "metadata": {},
   "source": [
    "The time has come to compare the use of class and static methods:\n",
    "\n",
    "- a class method requires 'cls' as the first parameter and a static method does not;\n",
    "- a class method has the ability to access the state or methods of the class, and a static method does not;\n",
    "- a class method is decorated by '@classmethod' and a static method by '@staticmethod';\n",
    "- a class method can be used as an alternative way to create objects, and a static method is only a utility method."
   ]
  },
  {
   "cell_type": "markdown",
   "metadata": {},
   "source": [
    "### 2.5.1.9 LAB"
   ]
  },
  {
   "cell_type": "markdown",
   "metadata": {},
   "source": [
    "### Scenario\n",
    "\n",
    "- Create a class representing a luxury watch;\n",
    "- The class should allow you to hold a number of watches created in the `watches_created` class variable. The number could be fetched using a class method named `get_number_of_watches_created`;\n",
    "- the class may allow you to create a watch with a dedicated engraving (text). As this is an extra option, the watch with the engraving should be created using an alternative constructor (a class method), as a regular `__init__` method should not allow ordering engravings;\n",
    "- the regular `__init_` method should only increase the value of the appropriate class variable;\n",
    "\n",
    "The text intended to be engraved should follow some restrictions:\n",
    "\n",
    "- it should not be longer than 40 characters;\n",
    "- it should consist of alphanumerical characters, so no space characters are allowed;\n",
    "- if the text does not comply with restrictions, an exception should be raised;\n",
    "\n",
    "before engraving the desired text, the text should be validated against restrictions using a dedicated static method.\n",
    "\n",
    "- Create a watch with no engraving\n",
    "- Create a watch with correct text for engraving\n",
    "- Try to create a watch with incorrect text, like 'foo@baz.com'. Handle the exception\n",
    "- After each watch is created, call class method to see if the counter variable was increased\n"
   ]
  },
  {
   "cell_type": "code",
   "execution_count": 94,
   "metadata": {},
   "outputs": [
    {
     "name": "stdout",
     "output_type": "stream",
     "text": [
      "Engraving Error\n",
      "The number of created watches 2\n"
     ]
    }
   ],
   "source": [
    "class EngravingError(Exception):\n",
    "    def __str__(self):\n",
    "        return \"Engraving Error\"\n",
    "    \n",
    "class LUXWATCH:\n",
    "    watches_created = 0\n",
    "    def __init__(self):\n",
    "        LUXWATCH.watches_created += 1 \n",
    "        \n",
    "    @classmethod\n",
    "    def get_number_of_wtaches_created(cls):\n",
    "        return cls.watches_created\n",
    "\n",
    "    @staticmethod\n",
    "    def watch_validate(engraving):\n",
    "        if (len(engraving) < 40) & (engraving.isalnum()):\n",
    "            return True\n",
    "        else:\n",
    "            return False    \n",
    "    \n",
    "    @classmethod\n",
    "    def including_engraving(cls, engraving):\n",
    "        _LUXWATCH = cls()\n",
    "        try:\n",
    "            if cls.watch_validate(engraving):\n",
    "                _LUXWATCH.engraving = engraving\n",
    "            else:\n",
    "                raise EngravingError\n",
    "        except EngravingError:\n",
    "            print(EngravingError())\n",
    "            cls.watches_created -= 1\n",
    "        return _LUXWATCH\n",
    "\n",
    "watch1 = LUXWATCH()\n",
    "watch2 = LUXWATCH.including_engraving('foo@baz.com')\n",
    "watch3 = LUXWATCH.including_engraving('IlovePython')\n",
    "print(\"The number of created watches {}\".format(LUXWATCH.get_number_of_wtaches_created()))"
   ]
  },
  {
   "cell_type": "markdown",
   "metadata": {},
   "source": [
    "### 2.6.1.1 Abstract classes"
   ]
  },
  {
   "cell_type": "markdown",
   "metadata": {},
   "source": [
    "### Abstract classes\n",
    "Python is considered to be a very flexible programming language, but that **doesn’t** mean that there are no controls to impose a set of functionalities or an order in a class hierarchy. When you develop a system in a group of programmers, it would be useful to have some means of establishing requirements for classes in matters of interfaces (methods) exposed by each class.\n",
    "\n",
    "### What is an abstract class?\n",
    "An *abstract class* should be considered a blueprint for other classes, a kind of contract between a <u>class designe</u> and a <u>programmer</u>:\n",
    "\n",
    "- the class designer sets requirements regarding methods that must be implemented by just declaring them, but not defining them in detail. Such methods are called ***abstract methods***.\n",
    "- The programmer has to deliver all method definitions and the completeness would be validated by another, dedicated module. The programmer delivers the method definitions by <u>overriding</u> the method declarations received from the class designer.\n",
    "\n",
    "This contract assures you that a child class, built upon your abstract class, will be equipped with a set of concrete methods imposed by the abstract class.\n",
    "\n",
    "### Why do we want to use abstract classes?\n",
    "The very important reason is: we want our code to be polymorphic, so all subclasses have to deliver a set of their own method implementations in order to call them by using common method names.\n",
    "\n",
    "Furthermore, a class which contains one or more abstract methods is called an abstract class. This means that abstract classes are not limited to containing only abstract methods – some of the methods can already be defined, but if any of the methods is an abstract one, then the class becomes abstract.\n",
    "\n",
    "### What is an abstract method?\n",
    "An abstract method is a method that has a declaration, but does not have any implementation. We'll give some examples of such methods to emphasize their abstract nature."
   ]
  },
  {
   "cell_type": "markdown",
   "metadata": {},
   "source": [
    "Let's talk about an example:\n",
    "\n",
    "Assume that you’re designing a music player application, intended to support multiple file formats. Some of the formats are known now, but some are not yet known. The idea is to design an abstract class representing a base music format and corresponding methods for “open”, “play”, “get details”, “rewind”, etc., to maintain polymorphism.\n",
    "\n",
    "Your team should implement concrete classes for each format you'd like to support. Whenever new format specifications become available, you won’t have to rework your music player code, you’ll just have to deliver a class supporting the new file format, fulfilling the contract imposed by the abstract class.\n",
    "\n",
    "Remember that it isn’t possible to instantiate an abstract class, and it needs subclasses to provide implementations for those abstract methods which are declared in the abstract classes. This behavior is a test performed by a dedicated Python module to validate if the developer has implemented a subclass that overrides all abstract methods."
   ]
  },
  {
   "cell_type": "markdown",
   "metadata": {},
   "source": [
    "When we’re designing large functional units, in the form of classes, we should use an abstract class. When we want to provide common implemented functionality for all implementations of the class, we could also use an abstract class, because abstract classes partially allow us to implement classes by delivering concrete definitions for some of the methods, not only declarations.\n",
    "\n",
    "We have just defined the means by which to provide a common Application Program Interface (API) for a set of subclasses. This capability is especially useful in situations where your team or third-party is going to provide implementations, such as with plugins in an application, even after the main application development is finished.\n",
    "\n"
   ]
  },
  {
   "cell_type": "markdown",
   "metadata": {},
   "source": [
    "### 2.6.1.3 Abstract classes vs. method overriding\n"
   ]
  },
  {
   "cell_type": "markdown",
   "metadata": {},
   "source": [
    "Let's start with a typical class that can be instantiated:"
   ]
  },
  {
   "cell_type": "code",
   "execution_count": 95,
   "metadata": {},
   "outputs": [
    {
     "name": "stdout",
     "output_type": "stream",
     "text": [
      "Nothing is blue unless you need it\n"
     ]
    }
   ],
   "source": [
    "class BluePrint:\n",
    "    def hello(self):\n",
    "        print('Nothing is blue unless you need it')\n",
    "\n",
    "\n",
    "bp = BluePrint()\n",
    "bp.hello()\n"
   ]
  },
  {
   "cell_type": "markdown",
   "metadata": {},
   "source": [
    "### 2.6.1.4 Abstract classes vs. method overriding"
   ]
  },
  {
   "cell_type": "code",
   "execution_count": 96,
   "metadata": {},
   "outputs": [
    {
     "name": "stdout",
     "output_type": "stream",
     "text": [
      "Welcome to Green Field!\n"
     ]
    }
   ],
   "source": [
    "import abc\n",
    "\n",
    "class BluePrint(abc.ABC):\n",
    "    @abc.abstractmethod\n",
    "    def hello(self):\n",
    "        pass\n",
    "\n",
    "class GreenField(BluePrint):\n",
    "    def hello(self):\n",
    "        print('Welcome to Green Field!')\n",
    "\n",
    "\n",
    "gf = GreenField()\n",
    "gf.hello()\n"
   ]
  },
  {
   "cell_type": "markdown",
   "metadata": {},
   "source": [
    "Python has come up with a module which provides the helper class for defining Abstract Base Classes (ABC) and that module name is abc.\n",
    "\n",
    "The ABC allows you to mark classes as abstract ones and distinguish which methods of the base abstract class are abstract. A method becomes abstract by being decorated with an @abstractmethod decorator.\n",
    "\n",
    "To start with ABC you should:\n",
    "\n",
    "1. import the abc module;\n",
    "2. make your base class inherit the helper class ABC, which is delivered by the abc module;\n",
    "3. decorate abstract methods with @abstractmethod, which is delivered by the abc module."
   ]
  },
  {
   "cell_type": "markdown",
   "metadata": {},
   "source": [
    "### 2.6.1.5 Abstract classes vs. method overriding"
   ]
  },
  {
   "cell_type": "code",
   "execution_count": 97,
   "metadata": {},
   "outputs": [
    {
     "name": "stdout",
     "output_type": "stream",
     "text": [
      "Welcome to Green Field!\n"
     ]
    },
    {
     "ename": "TypeError",
     "evalue": "Can't instantiate abstract class BluePrint with abstract methods hello",
     "output_type": "error",
     "traceback": [
      "\u001b[1;31m---------------------------------------------------------------------------\u001b[0m",
      "\u001b[1;31mTypeError\u001b[0m                                 Traceback (most recent call last)",
      "\u001b[1;32m<ipython-input-97-c362861a6a25>\u001b[0m in \u001b[0;36m<module>\u001b[1;34m\u001b[0m\n\u001b[0;32m     14\u001b[0m \u001b[0mgf\u001b[0m\u001b[1;33m.\u001b[0m\u001b[0mhello\u001b[0m\u001b[1;33m(\u001b[0m\u001b[1;33m)\u001b[0m\u001b[1;33m\u001b[0m\u001b[1;33m\u001b[0m\u001b[0m\n\u001b[0;32m     15\u001b[0m \u001b[1;33m\u001b[0m\u001b[0m\n\u001b[1;32m---> 16\u001b[1;33m \u001b[0mbp\u001b[0m \u001b[1;33m=\u001b[0m \u001b[0mBluePrint\u001b[0m\u001b[1;33m(\u001b[0m\u001b[1;33m)\u001b[0m\u001b[1;33m\u001b[0m\u001b[1;33m\u001b[0m\u001b[0m\n\u001b[0m",
      "\u001b[1;31mTypeError\u001b[0m: Can't instantiate abstract class BluePrint with abstract methods hello"
     ]
    }
   ],
   "source": [
    "import abc\n",
    "\n",
    "class BluePrint(abc.ABC):\n",
    "    @abc.abstractmethod\n",
    "    def hello(self):\n",
    "        pass\n",
    "\n",
    "class GreenField(BluePrint):\n",
    "    def hello(self):\n",
    "        print('Welcome to Green Field!')\n",
    "\n",
    "\n",
    "gf = GreenField()\n",
    "gf.hello()\n",
    "\n",
    "bp = BluePrint()\n"
   ]
  },
  {
   "cell_type": "markdown",
   "metadata": {},
   "source": [
    "The outpust indicates that:\n",
    "\n",
    "- it’s possible to instantiate the `GreenField` class and call the `hello` method, because the Python developer has provided a concrete definition of the `hello` method.\n",
    "\n",
    "- In other words, the Python developer has overridden the abstract method `hello` with their own implementation. When the base class provides more abstract methods, all of them must be overridden in a subclass before the subclass can be instantiated.\n",
    "\n",
    "- Python raises a `TypeError` exception when we try to instantiate the base BluePrint class, because it contains an abstract method."
   ]
  },
  {
   "cell_type": "markdown",
   "metadata": {},
   "source": [
    "### 2.6.1.6 Abstract classes vs. method overriding"
   ]
  },
  {
   "cell_type": "markdown",
   "metadata": {},
   "source": [
    "Now we'll try to inherit the abstract class and forget about overriding the abstract method by creating a RedField class that does not override the hello method."
   ]
  },
  {
   "cell_type": "code",
   "execution_count": 98,
   "metadata": {},
   "outputs": [
    {
     "name": "stdout",
     "output_type": "stream",
     "text": [
      "Welcome to Green Field!\n"
     ]
    },
    {
     "ename": "TypeError",
     "evalue": "Can't instantiate abstract class RedField with abstract methods hello",
     "output_type": "error",
     "traceback": [
      "\u001b[1;31m---------------------------------------------------------------------------\u001b[0m",
      "\u001b[1;31mTypeError\u001b[0m                                 Traceback (most recent call last)",
      "\u001b[1;32m<ipython-input-98-4de21b670f5f>\u001b[0m in \u001b[0;36m<module>\u001b[1;34m\u001b[0m\n\u001b[0;32m     21\u001b[0m \u001b[0mgf\u001b[0m\u001b[1;33m.\u001b[0m\u001b[0mhello\u001b[0m\u001b[1;33m(\u001b[0m\u001b[1;33m)\u001b[0m\u001b[1;33m\u001b[0m\u001b[1;33m\u001b[0m\u001b[0m\n\u001b[0;32m     22\u001b[0m \u001b[1;33m\u001b[0m\u001b[0m\n\u001b[1;32m---> 23\u001b[1;33m \u001b[0mrf\u001b[0m \u001b[1;33m=\u001b[0m \u001b[0mRedField\u001b[0m\u001b[1;33m(\u001b[0m\u001b[1;33m)\u001b[0m\u001b[1;33m\u001b[0m\u001b[1;33m\u001b[0m\u001b[0m\n\u001b[0m",
      "\u001b[1;31mTypeError\u001b[0m: Can't instantiate abstract class RedField with abstract methods hello"
     ]
    }
   ],
   "source": [
    "import abc\n",
    "\n",
    "\n",
    "class BluePrint(abc.ABC):\n",
    "    @abc.abstractmethod\n",
    "    def hello(self):\n",
    "        pass\n",
    "\n",
    "\n",
    "class GreenField(BluePrint):\n",
    "    def hello(self):\n",
    "        print('Welcome to Green Field!')\n",
    "\n",
    "\n",
    "class RedField(BluePrint):\n",
    "    def yellow(self):\n",
    "        pass\n",
    "\n",
    "\n",
    "gf = GreenField()\n",
    "gf.hello()\n",
    "\n",
    "rf = RedField()\n"
   ]
  },
  {
   "cell_type": "markdown",
   "metadata": {},
   "source": [
    "The output indicates that:\n",
    "\n",
    "1. it’s possible to instantiate the `GreenField` class and call the `hello` method;\n",
    "2. the `RedField` class is still recognized as an abstract one, because it inherits all elements of its super class, which is abstract, and the `RedField` class does not override the abstract `hello` method.\n"
   ]
  },
  {
   "cell_type": "markdown",
   "metadata": {},
   "source": [
    "### 2.6.1.7 Abstract classes vs. method overriding – multiple inheritance"
   ]
  },
  {
   "cell_type": "markdown",
   "metadata": {},
   "source": [
    "### Multiple inheritance\n",
    "\n",
    "When you plan to implement a multiple inheritance from abstract classes, remember that an effective subclass should override all abstract methods inherited from its super classes.\n",
    "\n",
    "### Summary:\n",
    "- Abstract Base Class (ABC) is a class that cannot be instantiated. Such a class is a base class for concrete classes;\n",
    "- ABC can only be inherited from;\n",
    "- we are forced to override all abstract methods by delivering concrete method implementations."
   ]
  },
  {
   "cell_type": "markdown",
   "metadata": {},
   "source": [
    "### A note:\n",
    "\n",
    "It’s tempting to call a module “abc” and then try to import it, but by doing so Python imports the module containing the ABC class instead of your local file. This could cause some confusion – why does such a common name as “abc” conflict with my simple module “abc”?"
   ]
  },
  {
   "cell_type": "markdown",
   "metadata": {},
   "source": [
    "### 2.6.1.8 LAB"
   ]
  },
  {
   "cell_type": "markdown",
   "metadata": {},
   "source": [
    "### Scenario\n",
    "- You are about to create a multifunction device (MFD) that can scan and print documents;\n",
    "- the system consists of a scanner and a printer;\n",
    "- your task is to create blueprints for it and deliver the implementations;\n",
    "- create an abstract class representing a scanner that enforces the following methods:\n",
    "    - scan_document – returns a string indicating that the document has been scanned;\n",
    "    - get_scanner_status – returns information about the scanner (max. resolution, serial number)\n",
    "- Create an abstract class representing a printer that enforces the following methods:\n",
    "    - print_document – returns a string indicating that the document has been printed;\n",
    "    - get_printer_status – returns information about the printer (max. resolution, serial number)\n",
    "- Create MFD1, MFD2 and MFD3 classes that inherit the abstract classes responsible for scanning and printing:\n",
    "    - MFD1 – should be a cheap device, made of a cheap printer and a cheap scanner, so device capabilities (resolution) should be low;\n",
    "    - MFD2 – should be a medium-priced device allowing additional operations like printing operation history, and the resolution is better than the lower-priced device;\n",
    "    - MFD3 – should be a premium device allowing additional operations like printing operation history and fax machine.\n",
    "- Instantiate MFD1, MFD2 and MFD3 to demonstrate their abilities. All devices should be capable of serving generic feature sets."
   ]
  },
  {
   "cell_type": "code",
   "execution_count": 99,
   "metadata": {},
   "outputs": [
    {
     "name": "stdout",
     "output_type": "stream",
     "text": [
      "Document has been scanned\n",
      "Scanner max resolution is low resolutin, scanner SN is SC-1\n",
      "Document has been printed\n",
      "Printer max resolution is low resolutin, Printer SN is PC-1\n",
      "Scanner max resolution is low resolutin, scanner SN is SC-2\n",
      "Document has been scanned\n",
      "Scanner max resolution is medium resolutin, scanner SN is SM-1\n",
      "Document has been printed\n",
      "Printer max resolution is medium resolutin, Printer SN is PM-1\n",
      "Print operations history\n",
      "Scanner max resolution is medium resolutin, scanner SN is SM-2\n",
      "Document has been scanned\n",
      "Scanner max resolution is premium resolutin, scanner SN is SP-1\n",
      "Document has been printed\n",
      "Printer max resolution is premium resolutin, Printer SN is PP-1\n",
      "Print operations history\n",
      "Document has been faxed\n",
      "Scanner max resolution is premium resolutin, scanner SN is SP-2\n"
     ]
    }
   ],
   "source": [
    "import abc\n",
    "\n",
    "class Scanner(abc.ABC):\n",
    "    @abc.abstractmethod\n",
    "    def scan_document(self):\n",
    "        return \"Document has been scanned\"\n",
    "    \n",
    "    @abc.abstractmethod\n",
    "    def get_scanner_status(self, max_resolution, SN):\n",
    "        return \"Max resolution is {}, SN is {}\".format(max_resolution, SN)\n",
    "\n",
    "class Printer:\n",
    "    @abc.abstractmethod\n",
    "    def print_document(self):\n",
    "        return \"Document has been printed\"\n",
    "    \n",
    "    @abc.abstractmethod\n",
    "    def get_printer_status(self, max_resolution, SN):\n",
    "        return \"Max resolution is {}, SN is {}\".format(max_resolution, SN)\n",
    "    \n",
    "# Cheap Multifunctional Device\n",
    "class MFD1(Scanner, Printer):\n",
    "    _max_resolution = \"low resolutin\"\n",
    "    _SN = 0\n",
    "    \n",
    "    def __init__(self):\n",
    "        MFD1._SN += 1\n",
    "        self.SN = MFD1._SN\n",
    "    \n",
    "    def scan_document(self):\n",
    "        return \"Document has been scanned\"\n",
    "        \n",
    "    def get_scanner_status(self):\n",
    "        return \"Scanner max resolution is {}, scanner SN is {}\".format(MFD1._max_resolution, \"SC-\" + str(self.SN))\n",
    "        \n",
    "    def print_document(self):\n",
    "        return \"Document has been printed\"\n",
    "    \n",
    "    def get_printer_status(self):\n",
    "        return \"Printer max resolution is {}, Printer SN is {}\".format(MFD1._max_resolution, \"PC-\" + str(self.SN))\n",
    "    \n",
    "# Medium Multifunctional Device\n",
    "class MFD2(Scanner, Printer):\n",
    "    _max_resolution = \"medium resolutin\"\n",
    "    _SN = 0\n",
    "    \n",
    "    def __init__(self):\n",
    "        MFD2._SN += 1\n",
    "        self.SN = MFD2._SN\n",
    "    \n",
    "    def scan_document(self):\n",
    "        return \"Document has been scanned\"\n",
    "        \n",
    "    def get_scanner_status(self):\n",
    "        return \"Scanner max resolution is {}, scanner SN is {}\".format(MFD2._max_resolution, \"SM-\" + str(self.SN))\n",
    "        \n",
    "    def print_document(self):\n",
    "        return \"Document has been printed\"\n",
    "    \n",
    "    def get_printer_status(self):\n",
    "        return \"Printer max resolution is {}, Printer SN is {}\".format(MFD2._max_resolution, \"PM-\" + str(self.SN))\n",
    "\n",
    "    def get_operations_history(self):\n",
    "        return \"Print operations history\"\n",
    "    \n",
    "    \n",
    "# Premium Multifunctional Device\n",
    "class MFD3(Scanner, Printer):\n",
    "    _max_resolution = \"premium resolutin\"\n",
    "    _SN = 0\n",
    "    \n",
    "    def __init__(self):\n",
    "        MFD3._SN += 1\n",
    "        self.SN = MFD3._SN\n",
    "    \n",
    "    def scan_document(self):\n",
    "        return \"Document has been scanned\"\n",
    "        \n",
    "    def get_scanner_status(self):\n",
    "        return \"Scanner max resolution is {}, scanner SN is {}\".format(MFD3._max_resolution, \"SP-\" + str(self.SN))\n",
    "        \n",
    "    def print_document(self):\n",
    "        return \"Document has been printed\"\n",
    "    \n",
    "    def get_printer_status(self):\n",
    "        return \"Printer max resolution is {}, Printer SN is {}\".format(MFD3._max_resolution, \"PP-\" + str(self.SN))\n",
    "\n",
    "    def get_operations_history(self):\n",
    "        return \"Print operations history\"\n",
    "    \n",
    "    def fax_document(self):\n",
    "        return \"Document has been faxed\"\n",
    "    \n",
    "# cheap device test\n",
    "cheap1 = MFD1()\n",
    "cheap2 = MFD1()\n",
    "print(cheap1.scan_document())\n",
    "print(cheap1.get_scanner_status())\n",
    "print(cheap1.print_document())\n",
    "print(cheap1.get_printer_status())\n",
    "print(cheap2.get_scanner_status())\n",
    "\n",
    "# medium device test\n",
    "medium1 = MFD2()\n",
    "medium2 = MFD2()\n",
    "print(medium1.scan_document())\n",
    "print(medium1.get_scanner_status())\n",
    "print(medium1.print_document())\n",
    "print(medium1.get_printer_status())\n",
    "print(medium1.get_operations_history())\n",
    "print(medium2.get_scanner_status())\n",
    "\n",
    "# premium device test\n",
    "premium1 = MFD3()\n",
    "premium2 = MFD3()\n",
    "print(premium1.scan_document())\n",
    "print(premium1.get_scanner_status())\n",
    "print(premium1.print_document())\n",
    "print(premium1.get_printer_status())\n",
    "print(premium1.get_operations_history())\n",
    "print(premium1.fax_document())\n",
    "print(premium2.get_scanner_status())\n",
    "\n",
    "    "
   ]
  },
  {
   "cell_type": "markdown",
   "metadata": {},
   "source": [
    "### 2.7.1.1 Encapsulation\n"
   ]
  },
  {
   "cell_type": "markdown",
   "metadata": {},
   "source": [
    "### Attribute encapsulation"
   ]
  },
  {
   "cell_type": "markdown",
   "metadata": {},
   "source": [
    "Encapsulation is one of the fundamental concepts in object-oriented programming (amongst inheritance, polymorphism, and abstraction). It describes the idea of bundling attributes and methods that work on those attributes within a class.\n",
    "\n",
    "Encapsulation is used to hide the attributes inside a class like in a capsule, preventing unauthorized parties' direct access to them. Publicly accessible methods are provided in the class to access the values, and other objects call those methods to retrieve and modify the values within the object. This can be a way to enforce a certain amount of privacy for the attributes.\n",
    "\n",
    "This picture presents the idea: direct access to the object attribute should not be possible, but you can always invoke methods, acting like proxies, to perform some actions on the attributes.\n",
    "\n",
    "Python introduces the concept of properties that act like proxies to encapsulated attributes.\n",
    "\n",
    "This concept has some interesting features:\n",
    "\n",
    "- the code calling the proxy methods might not realize if it is \"talking\" to the real attributes or to the methods controlling access to the attributes;\n",
    "- in Python, you can change your class implementation from a class that allows simple and direct access to attributes to a class that fully controls access to the attributes, and what is most important –consumer implementation does not have to be changed; by consumer we understand someone or something (it could be a legacy code) that makes use of your objects."
   ]
  },
  {
   "cell_type": "markdown",
   "metadata": {},
   "source": [
    "![](./images/12_attribute_encapsulation.png)"
   ]
  },
  {
   "cell_type": "markdown",
   "metadata": {},
   "source": [
    "### 2.7.1.2 Encapsulation"
   ]
  },
  {
   "cell_type": "markdown",
   "metadata": {},
   "source": [
    "Let's start with a few analogies from real life:"
   ]
  },
  {
   "cell_type": "markdown",
   "metadata": {},
   "source": [
    "![](./images/13_launtry_machine.png)"
   ]
  },
  {
   "cell_type": "markdown",
   "metadata": {},
   "source": [
    "Imagine a washing machine door ( **object** ) that protects access to your laundry ( **attribute values** ) while your appliance is washing it ( **processing** ). You have a set of controls ( **methods** ) that allow you to manage your laundry, or even see it (many wash machines are equipped with a transparent window).\n",
    "\n",
    "So, while the washing machine is processing your laundry, you are not able to directly access the laundry. This is how attribute encapsulation works."
   ]
  },
  {
   "cell_type": "markdown",
   "metadata": {},
   "source": [
    "![](./images/14_bank.png)"
   ]
  },
  {
   "cell_type": "markdown",
   "metadata": {},
   "source": [
    "Another good example is a money bank; this time it’s a more IT-related example:\n",
    "\n",
    "When your money ( **attribute value** ) is deposited in the bank account ( **object** ), you **cannot** access it directly and without some checks or security. This is a basic countermeasure to protect your account from withdrawals exceeding certain limits or the account balance. But you can always make use of some dedicated interfaces (methods like a mobile application or a web application) to spend money up to an appropriate amount."
   ]
  },
  {
   "cell_type": "markdown",
   "metadata": {},
   "source": [
    "Attribute encapsulation can be also used to limit unauthorized access: reading and modifying the account balance. <u>***Remember that this is not full access control, the programmer can still get access to your attributes intentionally as Python does not deliver true privacy***</u>.\n",
    "\n",
    "Why?\n",
    "\n",
    "Guido Van Rossum, best known as the author of Python, once said: \"We're all consenting adults here\" justifying the absence of such access restrictions.\n",
    "\n",
    "So, if your code does intentionally access the attributes marked as private (**prefixed with a double underscore**) in a direct way, then remember that this behavior is **unpythonic**."
   ]
  },
  {
   "cell_type": "markdown",
   "metadata": {},
   "source": [
    "![](./images/15_fuel_tank.png)"
   ]
  },
  {
   "cell_type": "markdown",
   "metadata": {},
   "source": [
    "The last example could be presented with the behavior of a class representing a water or fuel tank:\n",
    "\n",
    "It would not be wise to pour any amount of liquid **directly** into the tank ( **object** ) exceeding the total tank capacity, or request setting the liquid level to a negative value."
   ]
  },
  {
   "cell_type": "markdown",
   "metadata": {},
   "source": [
    "### 2.7.1.3 Encapsulation\n"
   ]
  },
  {
   "cell_type": "code",
   "execution_count": 100,
   "metadata": {},
   "outputs": [],
   "source": [
    "class TankError(Exception):\n",
    "    pass\n",
    "\n",
    "\n",
    "class Tank:\n",
    "    def __init__(self, capacity):\n",
    "        self.capacity = capacity\n",
    "        self.__level = 0\n",
    "\n",
    "    @property\n",
    "    def level(self):\n",
    "        return self.__level\n",
    "\n",
    "    @level.setter\n",
    "    def level(self, amount):\n",
    "        if amount > 0:\n",
    "            # fueling\n",
    "            if amount <= self.capacity:\n",
    "                self.__level = amount\n",
    "            else:\n",
    "                raise TankError('Too much liquid in the tank')\n",
    "        elif amount < 0:\n",
    "            raise TankError('Not possible to set negative liquid level')\n",
    "\n",
    "    @level.deleter\n",
    "    def level(self):\n",
    "        if self.__level > 0:\n",
    "            print('It is good to remember to sanitize the remains from the tank!')\n",
    "        self.__level = None\n"
   ]
  },
  {
   "cell_type": "markdown",
   "metadata": {},
   "source": [
    "Python allows you to control access to attributes with the built-in `property()` function and corresponding decorator `@property`.\n",
    "\n",
    "This decorator plays a very important role:\n",
    "\n",
    "- it designates a method which will be called automatically when another object wants to read the encapsulated attribute value;\n",
    "- the name of the designated method will be used as the name of the instance attribute corresponding to the encapsulated attribute;\n",
    "- it should be defined before the method responsible for setting the value of the encapsulated attribute, and before the method responsible for deleting the encapsulated attribute.\n",
    "\n",
    "Let's have look at the code in the editor.\n",
    "\n",
    "We see that every **Tank** class object has a `__level` attribute, and the class delivers the methods responsible for handling access to that attribute.\n",
    "\n",
    "The @property decorated method is a method to be called when some other code wants to read the level of liquid in our tank. We call such a read method **getter**.\n",
    "\n",
    "Pay attention to the fact that the method following the decorator gives the name (tank) to the attribute visible outside of the class. Moreover, we see that two other methods are named the same way, but as we are using specially crafted decorators to distinguish them, this won’t cause any problems:\n",
    "\n",
    "- `@tank.setter()` – designates the method called for setting the encapsulated attribute value;\n",
    "- `@tank.deleter()` – designates the method called when other code wants to delete the encapsulated attribute.\n"
   ]
  },
  {
   "cell_type": "markdown",
   "metadata": {},
   "source": [
    "### 2.7.1.4 Encapsulation"
   ]
  },
  {
   "cell_type": "markdown",
   "metadata": {},
   "source": [
    "As those attribute name repetitions could be misleading, let's explain the naming convention:\n",
    "\n",
    "- the getter method is decorated with '@property'. It designates the name of the attribute to be used by the external code;\n",
    "- the setter method is decorated with '@name.setter'. The method name should be the attribute name;\n",
    "- the deleter method is decorated with '@name.deleter'. The method name should should be the attribute name.\n",
    "\n",
    "Let's instantiate the class and perform some operations on the object's attribute:\n",
    "\n",
    "As you can see, access to the `__level` attribute is handled by the designated methods by allowing the other code accessing the 'level' attribute. We can also react to operations when someone wants to break some constraints associated with the tank capacity.\n",
    "\n",
    "The other code can make use of the 'level' attribute in a convenient way, without even knowing about the logic hidden behind it. So, whenever you'd like to control access to an attribute, you should prepare dedicated properties, because properties control only designated attributes.\n",
    "\n",
    "It’s worth mentioning another useful and interesting feature of properties: properties are inherited, so you can call setters as if they were attributes.\n",
    "\n",
    "Examine the code and run it to see if it follows your expectations."
   ]
  },
  {
   "cell_type": "code",
   "execution_count": 101,
   "metadata": {},
   "outputs": [
    {
     "name": "stdout",
     "output_type": "stream",
     "text": [
      "Current liquid level: 10\n",
      "Current liquid level: 13\n",
      "Trying to set liquid level to 21 units, result: Too much liquid in the tank\n",
      "Trying to add an additional 15 units, result: Too much liquid in the tank\n",
      "Trying to set liquid level to -3 units, result: Not possible to set negative liquid level\n",
      "Current liquid level: 13\n",
      "It is good to remember to sanitize the remains from the tank!\n"
     ]
    }
   ],
   "source": [
    "class TankError(Exception):\n",
    "    pass\n",
    "\n",
    "\n",
    "class Tank:\n",
    "    def __init__(self, capacity):\n",
    "        self.capacity = capacity\n",
    "        self.__level = 0\n",
    "\n",
    "    @property\n",
    "    def level(self):\n",
    "        return self.__level\n",
    "\n",
    "    @level.setter\n",
    "    def level(self, amount):\n",
    "        if amount > 0:\n",
    "            # fueling\n",
    "            if amount <= self.capacity:\n",
    "                self.__level = amount\n",
    "            else:\n",
    "                raise TankError('Too much liquid in the tank')\n",
    "        elif amount < 0:\n",
    "            raise TankError('Not possible to set negative liquid level')\n",
    "\n",
    "    @level.deleter\n",
    "    def level(self):\n",
    "        if self.__level > 0:\n",
    "            print('It is good to remember to sanitize the remains from the tank!')\n",
    "        self.__level = None\n",
    "\n",
    "# our_tank object has a capacity of 20 units\n",
    "our_tank = Tank(20)\n",
    "\n",
    "# our_tank's current liquid level is set to 10 units\n",
    "our_tank.level = 10\n",
    "print('Current liquid level:', our_tank.level)\n",
    "\n",
    "# adding additional 3 units (setting liquid level to 13)\n",
    "our_tank.level += 3\n",
    "print('Current liquid level:', our_tank.level)\n",
    "\n",
    "# let's try to set the current level to 21 units\n",
    "# this should be rejected as the tank's capacity is 20 units\n",
    "try:\n",
    "    our_tank.level = 21\n",
    "except TankError as e:\n",
    "    print('Trying to set liquid level to 21 units, result:', e)\n",
    "\n",
    "# similar example - let's try to add an additional 15 units\n",
    "# this should be rejected as the total capacity is 20 units\n",
    "try:\n",
    "    our_tank.level += 15\n",
    "except TankError as e:\n",
    "    print('Trying to add an additional 15 units, result:', e)\n",
    "\n",
    "# let's try to set the liquid level to a negative amount\n",
    "# this should be rejected as it is senseless\n",
    "try:\n",
    "    our_tank.level = -3\n",
    "except TankError as e:\n",
    "    print('Trying to set liquid level to -3 units, result:', e)\n",
    "\n",
    "print('Current liquid level:', our_tank.level)\n",
    "\n",
    "del our_tank.level\n"
   ]
  },
  {
   "cell_type": "markdown",
   "metadata": {},
   "source": [
    "### 2.7.1.5 LAB"
   ]
  },
  {
   "cell_type": "markdown",
   "metadata": {},
   "source": [
    "#### Estimated time\n",
    "\n",
    "30-60 minutes\n",
    "\n",
    "#### Level of difficulty\n",
    "Medium\n",
    "\n",
    "#### Objectives\n",
    "- improving the student's skills in operating with the getter, setter, and deleter methods;\n",
    "- improving the student's skills in creating their own exceptions.\n",
    "\n",
    "#### Scenario\n",
    "- Implement a class representing an account exception,\n",
    "- Implement a class representing a single bank account,\n",
    "- This class should control access to the account number and account balance attributes by implementing the properties:\n",
    "    - it should be possible to read the account number only, not change it. In case someone tries to change the account number, raise an alarm by raising an exception;\n",
    "    - it should not be possible to set a negative balance. In case someone tries to set a negative balance, raise an alarm by raising an exception;\n",
    "    - when the bank operation (deposit or withdrawal) is above 100.000, then additional message should be printed on the standard output (screen) for auditing purposes;\n",
    "    - it should not be possible to delete an account as long as the balance is not zero;\n",
    "- test your class behavior by:\n",
    "    - setting the balance to 1000;\n",
    "    - trying to set the balance to -200;\n",
    "    - trying to set a new value for the account number;\n",
    "    - trying to deposit 1.000.000;\n",
    "    - trying to delete the account attribute containing a non-zero balance."
   ]
  },
  {
   "cell_type": "code",
   "execution_count": 102,
   "metadata": {},
   "outputs": [
    {
     "name": "stdout",
     "output_type": "stream",
     "text": [
      "Result: The balance cannot be less than 0\n",
      "Deposit is greater than 100.\n",
      "Withdrawl is greater than 100.\n",
      "The balance is:  0\n",
      "The account1 number is:  1\n",
      "The account2 number is:  2\n",
      "The account2 number is:  None\n"
     ]
    }
   ],
   "source": [
    "class AccountError(Exception):\n",
    "    pass\n",
    "    \n",
    "class Bankaccount:\n",
    "    account_number = 0\n",
    "    \n",
    "    def __init__(self):\n",
    "        Bankaccount.account_number += 1\n",
    "        self.__accountNumber = Bankaccount.account_number\n",
    "        self.__balance = 0\n",
    "                \n",
    "    @property\n",
    "    def account(self):\n",
    "        return self.__accountNumber\n",
    "    \n",
    "    @account.setter\n",
    "    def account(self):\n",
    "        raise AccountError(\"You cannnot set account number\")\n",
    "        \n",
    "    @account.deleter\n",
    "    def account(self):\n",
    "        if self.__balance == 0:\n",
    "            self.__accountNumber = None\n",
    "        else:\n",
    "            raise AccountError(\"The balance is not zero\")\n",
    "        \n",
    "    @property\n",
    "    def balance(self):\n",
    "        return self.__balance\n",
    "    \n",
    "    @balance.setter\n",
    "    def balance(self, money):\n",
    "        # For auditing purpose\n",
    "        if money < -100000:\n",
    "            print(\"Withdrawl is greater than 100.\")\n",
    "        elif money > 100000:\n",
    "            print(\"Deposit is greater than 100.\")\n",
    "        \n",
    "        if (self.__balance + money) < 0:\n",
    "            raise AccountError(\"The balance cannot be less than 0\")\n",
    "        else:\n",
    "            self.__balance += money\n",
    "            \n",
    "        return self.__balance        \n",
    "#test account1        \n",
    "account1 = Bankaccount()\n",
    "\n",
    "try:\n",
    "    account1.balance = -200\n",
    "except AccountError as e:\n",
    "    print(\"Result:\", e)\n",
    "    \n",
    "try:\n",
    "    account1.balance = 10000000000\n",
    "    account1.balance = -10000000000\n",
    "    #del account1.account\n",
    "except AccountError as e:\n",
    "    print(\"Result:\", e)\n",
    "    \n",
    "print(\"The balance is: \", account1.balance)\n",
    "print(\"The account1 number is: \", account1.account)\n",
    "\n",
    "\n",
    "#test account2\n",
    "account2 = Bankaccount()\n",
    "print(\"The account2 number is: \", account2.account)\n",
    "\n",
    "del account2.account\n",
    "print(\"The account2 number is: \", account2.account)\n",
    "    "
   ]
  },
  {
   "cell_type": "markdown",
   "metadata": {},
   "source": [
    "### 2.8.1.1 Composition vs Inheritance - two ways to the same destination"
   ]
  },
  {
   "cell_type": "markdown",
   "metadata": {},
   "source": [
    "### Composition vs Inheritance - two ways to the same destination: Inheritance"
   ]
  },
  {
   "cell_type": "markdown",
   "metadata": {},
   "source": [
    "So far we've been using and following the inheritance concept when modeling our classes to represent real-life issues. Inheritance is a great concept, one of the most important foundations of object-oriented programming that models a tight relation between two classes: the base class and the derived class, called a subclass.\n",
    "\n",
    "The result of this relation is a subclass class that inherits all methods and all properties of the base class, and allows a subclass to extend everything that has been inherited. By extending a base class, you are creating a more specialized class. Moreover, we say that these classes are tightly coupled.\n",
    "\n",
    "Inheritance models what is called an is a relation.\n",
    "Examples:\n",
    "\n",
    "- a Laptop **is a** (specialized form of) Computer;\n",
    "- a Square **is a** (specialized form of) Figure;\n",
    "- a Hovercraft **is a** Vehicle.\n",
    "\n",
    "The primary use of inheritance is to reuse the code. If two classes perform similar tasks, we can create a common base class for them, to which we transfer identical methods and properties. This will facilitate testing and potentially increase application reliability in case of changes. In case of any problems, it will also be easier to find the cause of the error.\n",
    "\n",
    "As a result, your inheriting classes could form a tree."
   ]
  },
  {
   "cell_type": "markdown",
   "metadata": {},
   "source": [
    "![](./images/16_vehicles_class.png)"
   ]
  },
  {
   "cell_type": "markdown",
   "metadata": {},
   "source": [
    "Note: the hierarchy grows from top to bottom, like tree roots, not branches. The most general, and the widest, class is always at the top (the superclass) while its descendants are located below (the subclasses).\n",
    "\n",
    "What could be inherited in this “Vehicles” structure?\n",
    "\n",
    "All classes derived from Vehicles own properties and methods responsible for informing the user of its mileage, starting and stopping the vehicle, fueling, etc. Once you inherit a “mileage” property from the base class, then it is present in all subclasses.\n",
    "\n",
    "The same principle should apply to the `tank()` method responsible for fueling every vehicle object, so the polymorphism, another pillar of the OOP allowing you to call the `tank()` method on every “vehicle” object, is easily achieved.\n",
    "\n",
    "The inheritance concept is a powerful one, but you should remember that with great power comes great responsibility. When you are reckless, then with the inheritance (especially multiple inheritances) you can create a huge, complex, and hierarchical structure of classes.\n",
    "\n",
    "This hierarchy would be hard to understand, debug, and extend. This phenomenon is known as the class explosion problem, and is one of the antipatterns of programming."
   ]
  },
  {
   "cell_type": "markdown",
   "metadata": {},
   "source": [
    "---"
   ]
  },
  {
   "cell_type": "markdown",
   "metadata": {},
   "source": [
    "Inheritance is not the only way of constructing adaptable objects. You can achieve similar goals by using a concept named composition.\n",
    "\n",
    "This concept models another kind of relation between objects; it models what is called a has a relation.\n",
    "\n",
    "Examples:\n",
    "\n",
    "- a Laptop **has a** network card;\n",
    "- a Hovercraft **has a** specific engine.\n",
    "\n",
    "Composition is the process of composing an object using other different objects. The objects used in the composition deliver a set of desired traits (properties and/or methods) so we can say that they act like blocks used to build a more complicated structure.\n"
   ]
  },
  {
   "cell_type": "markdown",
   "metadata": {},
   "source": [
    "It can be said that:\n",
    "\n",
    "- inheritance extends a class's capabilities by adding new components and modifying existing ones; in other words, the complete recipe is contained inside the class itself and all its ancestors; the object takes all the class's belongings and makes use of them;\n",
    "- composition projects a class as a container (called a composite) able to store and use other objects (derived from other classes) where each of the objects implements a part of a desired class's behavior. It’s worth mentioning that blocks are loosely coupled with the composite, and those blocks could be exchanged any time, even during program runtime.\n"
   ]
  },
  {
   "cell_type": "markdown",
   "metadata": {},
   "source": [
    "---"
   ]
  },
  {
   "cell_type": "markdown",
   "metadata": {},
   "source": [
    "Let's try to write some code to see how composition works.\n",
    "\n",
    "Look at the simple code presented in the editor pane.\n",
    "\n",
    "The “Car” class is loosely coupled with the “engine” component. It’s a composite object.\n",
    "\n",
    "The main advantages are:\n",
    "\n",
    "whenever a change is applied to the engine object, it does not influence the “Car” class object structure;\n",
    "you can decide what your car should be equipped with.\n",
    "Our “Car” could be equipped with two different kinds of engine – a gas one or a diesel one. The developer's responsibility is to provide methods for both engine classes, named in the same way (here is thestart() method) to make it work in a polymorphic manner."
   ]
  },
  {
   "cell_type": "code",
   "execution_count": 103,
   "metadata": {},
   "outputs": [
    {
     "name": "stdout",
     "output_type": "stream",
     "text": [
      "Starting 4hp gas engine\n",
      "Starting 2hp diesel engine\n"
     ]
    }
   ],
   "source": [
    "class Car:\n",
    "    def __init__(self, engine):\n",
    "        self.engine = engine\n",
    "\n",
    "\n",
    "class GasEngine:\n",
    "    def __init__(self, horse_power):\n",
    "        self.hp = horse_power\n",
    "\n",
    "    def start(self):\n",
    "        print('Starting {}hp gas engine'.format(self.hp))\n",
    "\n",
    "\n",
    "class DieselEngine:\n",
    "    def __init__(self, horse_power):\n",
    "        self.hp = horse_power\n",
    "\n",
    "    def start(self):\n",
    "        print('Starting {}hp diesel engine'.format(self.hp))\n",
    "\n",
    "\n",
    "my_car = Car(GasEngine(4))\n",
    "my_car.engine.start()\n",
    "my_car.engine = DieselEngine(2)\n",
    "my_car.engine.start()"
   ]
  },
  {
   "cell_type": "markdown",
   "metadata": {},
   "source": [
    "---"
   ]
  },
  {
   "cell_type": "markdown",
   "metadata": {},
   "source": [
    "To favor composition over inheritance is a design principle that gives the design higher flexibility, as you can choose which domain-specific objects should be incorporated into your ultimate object. It's like arming your base machine with tooling, dedicated to running a specific task, but not building a wide hierarchy structure of classes covering all possible hardware combinations.\n",
    "\n",
    "In fact, with the composition approach you can more easily respond to the requirement changes regarding classes, as it does not require deep dependency investigations which you would spot while implementing code with the inheritance approach.\n"
   ]
  },
  {
   "cell_type": "markdown",
   "metadata": {},
   "source": [
    "On the other hand, there is a clear drawback: composition transfers additional responsibilities to the developer. The developer should assure that all component classes that are used to build the composite should implement the methods named in the same manner to provide a common interface.\n",
    "\n",
    "In the case of inheritance, if the developer forgets to implement a specific method, the inherited method with the same name will be called. Additionally, in the case of inheritance, the developer has to re-implement only the specific methods, not all of them, to gain a common interface.\n",
    "\n"
   ]
  },
  {
   "cell_type": "markdown",
   "metadata": {},
   "source": [
    "---"
   ]
  },
  {
   "cell_type": "markdown",
   "metadata": {},
   "source": [
    "Which way should you choose?\n",
    "\n",
    "Before we answer the question, let's mention a few more things:\n",
    "\n",
    "- inheritance and composition are not mutually exclusive. Real-life problems are hardly every pure “is a” or “has a” cases;\n",
    "- treat both inheritance and composition as supplementary means for solving problems;\n",
    "- there is nothing wrong with composing objects of ... classes that were built using inheritance. The next example code should shed some light on this case.\n",
    "\n",
    "You should always examine the problem your code is about to solve before you start coding. If the problem can be modeled using an “is a” relation, then the inheritance approach should be implemented.\n",
    "\n",
    "Otherwise, if the problem can be modeled using a “has a” relation, then the choice is clear – composition is the solution.\n",
    "\n",
    "Don't hesitate to experiment and re-implement your solution."
   ]
  },
  {
   "cell_type": "code",
   "execution_count": 104,
   "metadata": {},
   "outputs": [
    {
     "name": "stdout",
     "output_type": "stream",
     "text": [
      "The computer costs $1000\n",
      "Dialling the access number ...          Downloading at 9600bit/s\n",
      "Waking up modem  ...                    Downloading at 2Mbit/s\n",
      "Constantly connected...                 Downloading at 10Mbit/s\n"
     ]
    }
   ],
   "source": [
    "class Base_Computer:\n",
    "    def __init__(self, serial_number):\n",
    "        self.serial_number = serial_number\n",
    "\n",
    "\n",
    "class Personal_Computer(Base_Computer):\n",
    "    def __init__(self, sn, connection):\n",
    "        super().__init__(sn)\n",
    "        self.connection = connection\n",
    "        print('The computer costs $1000')\n",
    "\n",
    "\n",
    "class Connection:\n",
    "    def __init__(self, speed):\n",
    "        self.speed = speed\n",
    "\n",
    "    def download(self):\n",
    "        print('Downloading at {}'.format(self.speed))\n",
    "\n",
    "\n",
    "class DialUp(Connection):\n",
    "    def __init__(self):\n",
    "        super().__init__('9600bit/s')\n",
    "\n",
    "    def download(self):\n",
    "        print('Dialling the access number ... '.ljust(40), end='')\n",
    "        super().download()\n",
    "\n",
    "\n",
    "class ADSL(Connection):\n",
    "    def __init__(self):\n",
    "        super().__init__('2Mbit/s')\n",
    "\n",
    "    def download(self):\n",
    "        print('Waking up modem  ... '.ljust(40), end='')\n",
    "        super().download()\n",
    "\n",
    "\n",
    "class Ethernet(Connection):\n",
    "    def __init__(self):\n",
    "        super().__init__('10Mbit/s')\n",
    "\n",
    "    def download(self):\n",
    "        print('Constantly connected... '.ljust(40), end='')\n",
    "        super().download()\n",
    "\n",
    "# I started my IT adventure with an old-school dial up connection\n",
    "my_computer = Personal_Computer('1995', DialUp())\n",
    "my_computer.connection.download()\n",
    "\n",
    "# then it came year 1999 with ADSL\n",
    "my_computer.connection = ADSL()\n",
    "my_computer.connection.download()\n",
    "\n",
    "# finally I upgraded to Ethernet\n",
    "my_computer.connection = Ethernet()\n",
    "my_computer.connection.download()\n"
   ]
  },
  {
   "cell_type": "markdown",
   "metadata": {},
   "source": [
    "---"
   ]
  },
  {
   "cell_type": "markdown",
   "metadata": {},
   "source": [
    "Look at the code presented in the editor pane.\n",
    "\n",
    "- There is a “Base_Computer” class that represents a generic computer. A generic computer has only a serial number;\n",
    "- there is a “Personal_Computer” class that is built upon the “Base_Computer” class and represents a computer that is able to connect to the internet;\n",
    "- there is a generic “Connection” class that holds information about the connection speed and handles the download() method. This class is independent of any computer class;\n",
    "- there are the “Connection” subclasses, more specialized than the “Connection” class:\n",
    "    - “Dialup”\n",
    "    - “ADSL”\n",
    "    - “Ethernet”\n",
    "    \n",
    "When we start with our personal computer, we set the serial number to 1995 and equip it with a dialup connection. This an example of composition.\n",
    "\n",
    "- It is possible to download some data using a slow dialup connection;\n",
    "- later, we equip our personal computer with a more advanced connection device. There is no need to recreate the computer object – we just arm it with a new component;\n",
    "- the last steps are about arming our old computer with a fast connection and downloading some data."
   ]
  },
  {
   "cell_type": "markdown",
   "metadata": {},
   "source": [
    "### 2.8.1.7 LAB"
   ]
  },
  {
   "cell_type": "markdown",
   "metadata": {},
   "source": [
    "### Estimated time\n",
    "45 minutes\n",
    "\n",
    "### Level of difficulty\n",
    "Medium\n",
    "\n",
    "### Objectives\n",
    "improving the student's skills in operating with inheritance and composition\n",
    "\n",
    "### Scenario\n",
    "Imagine that you are an automotive fan, and you are able to build a car from a limited set of components.\n",
    "\n",
    "Your task is to :\n",
    "\n",
    "- define classes representing:\n",
    "    - tires (as a bundle needed by a car to operate); methods available: `get_pressure()`, `pump()`; attribute available: size\n",
    "    - engine; methods available: `start()`, `stop()`, `get_state()`; attribute available: fuel type\n",
    "    - vehicle; method available: `__init__(VIN, engine, tires)`; attribute available: VIN\n",
    "- based on the classes defined above, create the following objects:\n",
    "    - two sets of tires: city tires (size: 15), off-road tires (size: 18)\n",
    "    - two engines: electric engine, petrol engine\n",
    "- instantiate two objects representing cars:\n",
    "    - the first one is a city car, built of an electric engine and city tires\n",
    "    - the second one is an all-terrain car build of a petrol engine and off-road tires\n",
    "- play with the cars by calling methods responsible for interaction with components."
   ]
  },
  {
   "cell_type": "code",
   "execution_count": 105,
   "metadata": {},
   "outputs": [
    {
     "name": "stdout",
     "output_type": "stream",
     "text": [
      "Electric Engine start\n",
      "Electric Engine stop\n",
      "Electric Engine start\n",
      "Get the electric engine state\n",
      "To get the city tires pressure\n",
      "To pump city tires\n",
      "Petrol Engine start\n",
      "Petrol Engine stop\n",
      "Get the petrol engine state\n",
      "To get the off road tires pressure\n",
      "To pump the off road tires\n"
     ]
    }
   ],
   "source": [
    "class Tires:\n",
    "    def __init__(self,size):\n",
    "        self.size = size\n",
    "        \n",
    "    def get_pressure():\n",
    "        print(\"To get the tires pressure\")\n",
    "        \n",
    "    def pump():\n",
    "        print(\"To pump\")    \n",
    "    \n",
    "class Engine:\n",
    "    def __init__(self, fuel_type):\n",
    "        self.fuel_type = fuel_type\n",
    "        \n",
    "    def start():\n",
    "        print(\"Engine start\")\n",
    "        \n",
    "    def stop():\n",
    "        print(\"Engine stop\")\n",
    "        \n",
    "    def get_state():\n",
    "        print(\"Get the engine state\")\n",
    "        \n",
    "# vehicle identification number (VIN)    \n",
    "class Vehicle:\n",
    "    def __init__(self,VIN, engine, tires):\n",
    "        self.VIN = VIN\n",
    "        self.engine = engine\n",
    "        self.tires = tires\n",
    "\n",
    "        \n",
    "class CityTires(Tires):\n",
    "    def __init__(self):\n",
    "        super().__init__(self, 15)\n",
    "    \n",
    "    def get_pressure():\n",
    "        print(\"To get the city tires pressure\")\n",
    "        \n",
    "    def pump():\n",
    "        print(\"To pump city tires\")  \n",
    "    \n",
    "class OffRoadTires(Tires):\n",
    "    def __init__(self):\n",
    "        super().__init__(self, 18)\n",
    "        \n",
    "    def get_pressure():\n",
    "        print(\"To get the off road tires pressure\")\n",
    "        \n",
    "    def pump():\n",
    "        print(\"To pump the off road tires\")  \n",
    "    \n",
    "class ElectricEngine(Engine):\n",
    "    def __init__(self):\n",
    "        super().__init__(self, \"Electric\")\n",
    "        \n",
    "    def start():\n",
    "        print(\"Electric Engine start\")\n",
    "        \n",
    "    def stop():\n",
    "        print(\"Electric Engine stop\")\n",
    "        \n",
    "    def get_state():\n",
    "        print(\"Get the electric engine state\")\n",
    "    \n",
    "class PetrolEngine(Engine):\n",
    "    def __init__(self):\n",
    "        super().__init__(self, \"Petrol\")\n",
    "    \n",
    "    def start():\n",
    "        print(\"Petrol Engine start\")\n",
    "        \n",
    "    def stop():\n",
    "        print(\"Petrol Engine stop\")\n",
    "        \n",
    "    def get_state():\n",
    "        print(\"Get the petrol engine state\")\n",
    "\n",
    "        \n",
    "CityCar = Vehicle(\"P-123\", ElectricEngine, CityTires)\n",
    "AllTerrainCar = Vehicle(\"P-234\", PetrolEngine, OffRoadTires)\n",
    "        \n",
    "CityCar.engine.start()\n",
    "CityCar.engine.stop()\n",
    "CityCar.engine.start()\n",
    "CityCar.engine.get_state()\n",
    "CityCar.tires.get_pressure()\n",
    "CityCar.tires.pump()\n",
    "\n",
    "AllTerrainCar.engine.start()\n",
    "AllTerrainCar.engine.stop()\n",
    "AllTerrainCar.engine.get_state()\n",
    "AllTerrainCar.tires.get_pressure()\n",
    "AllTerrainCar.tires.pump()"
   ]
  },
  {
   "cell_type": "markdown",
   "metadata": {},
   "source": [
    "### 2.9.1.1 Inheriting properties from built-in classes"
   ]
  },
  {
   "cell_type": "markdown",
   "metadata": {},
   "source": [
    "### Inheriting properties from built-in classes"
   ]
  },
  {
   "cell_type": "markdown",
   "metadata": {},
   "source": [
    "Python gives you the ability to create a class that inherits properties from any Python built-in class in order to get a new class that can enrich the parent's attributes or methods. As a result, your newly-created class has the advantage of all of the well-known functionalities inherited from its parent or even parents and you can still access those attributes and methods.\n",
    "\n",
    "Later, you can override the methods by delivering your own modifications for the selected methods.\n",
    "\n",
    "In the following example, we’ll create an implementation of our own list class, which will only accept elements of the integer type. But, wait – why might you need such an object?\n",
    "\n",
    "Imagine that you need to collect the serial numbers of sold tickets. Sound reasonable enough?"
   ]
  },
  {
   "cell_type": "markdown",
   "metadata": {},
   "source": [
    "Your new class will be based on the Python list implementation and will also validate the type of elements that are about to be placed onto it.\n",
    "\n",
    "Such a list can be used in an application that requires the list elements to be of a specific type (integers in the ticketing example), and control over the types of elements is given to the mechanisms of the new class.\n",
    "\n",
    "As a result, when solving a domain problem, we focus on the problem and not on type control."
   ]
  },
  {
   "cell_type": "markdown",
   "metadata": {},
   "source": [
    "--- "
   ]
  },
  {
   "cell_type": "markdown",
   "metadata": {},
   "source": [
    "Look at the code presented in the editor pane."
   ]
  },
  {
   "cell_type": "code",
   "execution_count": 106,
   "metadata": {},
   "outputs": [
    {
     "name": "stdout",
     "output_type": "stream",
     "text": [
      "Appending int elements succeed: [66, 22]\n",
      "Inserting int element succeed: [49, 22]\n",
      "Extending with int elements succeed: [49, 22, 2, 3]\n",
      "Appending string failed\n",
      "Inserting string failed\n",
      "Extending with ineligible element failed\n",
      "Final result: [49, 22, 2, 3]\n"
     ]
    }
   ],
   "source": [
    "class IntegerList(list):\n",
    "\n",
    "    @staticmethod\n",
    "    def check_value_type(value):\n",
    "        if type(value) is not int:\n",
    "            raise ValueError('Not an integer type')\n",
    "\n",
    "    def __setitem__(self, index, value):\n",
    "        IntegerList.check_value_type(value)\n",
    "        list.__setitem__(self, index, value)\n",
    "\n",
    "    def append(self, value):\n",
    "        IntegerList.check_value_type(value)\n",
    "        list.append(self, value)\n",
    "\n",
    "    def extend(self, iterable):\n",
    "        for element in iterable:\n",
    "            IntegerList.check_value_type(element)\n",
    "\n",
    "        list.extend(self, iterable)\n",
    "\n",
    "\n",
    "int_list = IntegerList()\n",
    "\n",
    "int_list.append(66)\n",
    "int_list.append(22)\n",
    "print('Appending int elements succeed:', int_list)\n",
    "\n",
    "int_list[0] = 49\n",
    "print('Inserting int element succeed:', int_list)\n",
    "\n",
    "int_list.extend([2, 3])\n",
    "print('Extending with int elements succeed:', int_list)\n",
    "\n",
    "try:\n",
    "    int_list.append('8-10')\n",
    "except ValueError:\n",
    "    print('Appending string failed')\n",
    "\n",
    "try:\n",
    "    int_list[0] = '10/11'\n",
    "except ValueError:\n",
    "    print('Inserting string failed')\n",
    "\n",
    "try:\n",
    "    int_list.extend([997, '10/11'])\n",
    "except ValueError:\n",
    "    print('Extending with ineligible element failed')\n",
    "\n",
    "print('Final result:', int_list)\n"
   ]
  },
  {
   "cell_type": "markdown",
   "metadata": {},
   "source": [
    "---"
   ]
  },
  {
   "cell_type": "markdown",
   "metadata": {},
   "source": [
    "Something that’s worth commenting on is that we have delivered:\n",
    "\n",
    "- a static, dedicated method for checking argument types. As we have delegated this responsibility to only one method, the code will be shorter, cleaner and easier to maintain. We'll make use of this method a few times. In case the argument's type is not an integer, a ValueError exception is raised;\n",
    "- an overridden method `__setitem__`, which is a magic method (mind the underscores) responsible for inserting (overwriting) an element at a given position. This method calls the `check_value_type()` method and later calls the genuine method `__setitem__` which comes from the parent class, which does the rest of the job (sets the validated value at a given position). Now you can sigh – “oh, what a great ability!”\n",
    "- an overridden method, `append()`, which is responsible for appending an element to the end of the list. This method follows the previous way of dealing with a new element;\n",
    "- an overridden method, `extend()`, to verify and add a collection of elements to the object.\n",
    "\n",
    "What have we not delivered?\n",
    "\n",
    "- All the remaining methods have remained unchanged, so our new list-like class will still behave like its parent in those places.\n",
    "\n",
    "To make our newly-created class fully functional, it’s necessary to deliver implementations for the methods:\n",
    "\n",
    "- insert(index, object)\n",
    "- `__add__()`\n",
    "\n",
    "These implementations should be fairly similar to the implementations delivered above (validate the type and then call the corresponding superclass method)."
   ]
  },
  {
   "cell_type": "markdown",
   "metadata": {},
   "source": [
    "---"
   ]
  },
  {
   "cell_type": "code",
   "execution_count": 107,
   "metadata": {},
   "outputs": [
    {
     "name": "stdout",
     "output_type": "stream",
     "text": [
      "Element kk[10]: 15\n",
      "Whole dictionary: {10: 15, 20: 5}\n",
      "Our log book:\n",
      "\n",
      "2021-03-05 (12:53:40.407711) MonitoredDict created\n",
      "2021-03-05 (12:53:40.407711) value for key [10] set\n",
      "2021-03-05 (12:53:40.407711) value for key [20] set\n",
      "2021-03-05 (12:53:40.407711) value for key [10] retrieved\n"
     ]
    }
   ],
   "source": [
    "from datetime import datetime\n",
    "\n",
    "\n",
    "class MonitoredDict(dict):\n",
    "    def __init__(self, *args, **kwargs):\n",
    "        super().__init__(*args, **kwargs)\n",
    "        self.log = list()\n",
    "        self.log_timestamp('MonitoredDict created')\n",
    "\n",
    "    def __getitem__(self, key):\n",
    "        val = super().__getitem__(key)\n",
    "        self.log_timestamp('value for key [{}] retrieved'.format(key))\n",
    "        return val\n",
    "\n",
    "    def __setitem__(self, key, val):\n",
    "        super().__setitem__(key, val)\n",
    "        self.log_timestamp('value for key [{}] set'.format(key))\n",
    "\n",
    "    def log_timestamp(self, message):\n",
    "        timestampStr = datetime.now().strftime(\"%Y-%m-%d (%H:%M:%S.%f)\")\n",
    "        self.log.append('{} {}'.format(timestampStr, message))\n",
    "\n",
    "\n",
    "kk = MonitoredDict()\n",
    "kk[10] = 15\n",
    "kk[20] = 5\n",
    "\n",
    "print('Element kk[10]:', kk[10])\n",
    "print('Whole dictionary:', kk)\n",
    "print('Our log book:\\n')\n",
    "print('\\n'.join(kk.log))\n"
   ]
  },
  {
   "cell_type": "markdown",
   "metadata": {},
   "source": [
    "---"
   ]
  },
  {
   "cell_type": "markdown",
   "metadata": {},
   "source": [
    "In the next example, we’ll create a class based on Python’s built-in dictionary, which will be equipped with logging mechanisms for details of writing and reading operations performed on the elements of our dictionary.\n",
    "\n",
    "In other words, we are arming a Python dictionary with the ability to log details (time and operation type) of:\n",
    "\n",
    "- class instantiation;\n",
    "- read access;\n",
    "- new element creation or update.\n",
    "\n",
    "A few notes for the code implementing the MonitoredDict class:\n",
    "\n",
    "- we have subclassed a dict class with a new `__init__()` method that calls the `__init__()` method from its super class. Additionally, it creates a list (self.log) that plays the role of a log book. Finally, the log book is populated with a message noting that the object has been created;\n",
    "- we have created the log_timestamp() method that appends crucial information to the self.log attribute;\n",
    "- we have overridden two methods inherent for the dictionary class `__getitem__()`and `_setitem__()` to deliver a richer implementation that logs activities. But don’t worry, we’re not losing anything from the parent dictionary class, because we’re still calling the corresponding methods.\n",
    "\n",
    "As you run the code, you'll see that the new class is compatible with its parent, so you can use it in your applications that require activity tracking.\n",
    "\n",
    "How about implementing such a “history recording” feature in a banking application?\n",
    "\n",
    "In the following slide, we'll examine another feature that could be useful in a banking app.\n",
    "\n"
   ]
  },
  {
   "cell_type": "markdown",
   "metadata": {},
   "source": [
    "### The IBAN Only Dictionary"
   ]
  },
  {
   "cell_type": "code",
   "execution_count": 109,
   "metadata": {},
   "outputs": [
    {
     "name": "stdout",
     "output_type": "stream",
     "text": [
      "Enter IBAN, please: GB72 HBZU 7006 7212 1253 00\n",
      "IBAN entered is valid.\n"
     ]
    }
   ],
   "source": [
    "# IBAN Validator\n",
    "\n",
    "iban = input(\"Enter IBAN, please: \")\n",
    "iban = iban.replace(' ','')\n",
    "if not iban.isalnum():\n",
    "    print(\"You have entered invalid characters.\")\n",
    "elif len(iban) < 15:\n",
    "    print(\"IBAN entered is too short.\")\n",
    "elif len(iban) > 31:\n",
    "    print(\"IBAN entered is too long.\")\n",
    "else:\n",
    "    iban = (iban[4:] + iban[0:4]).upper()\n",
    "    iban2 = ''\n",
    "    for ch in iban:\n",
    "        if ch.isdigit():\n",
    "            iban2 += ch\n",
    "        else:\n",
    "            iban2 += str(10 + ord(ch) - ord('A'))\n",
    "    ibann = int(iban2)\n",
    "    if ibann % 97 == 1:\n",
    "        print(\"IBAN entered is valid.\")\n",
    "    else:\n",
    "        print(\"IBAN entered is invalid.\")\n"
   ]
  },
  {
   "cell_type": "markdown",
   "metadata": {},
   "source": [
    "---"
   ]
  },
  {
   "cell_type": "markdown",
   "metadata": {},
   "source": [
    "The “Integer only list” is an example of the employment of a subclassed built-in list to check the types of elements being added to the list. How about checking the values of the keys being used when new elements are added to the dictionary?\n",
    "\n",
    "For those of you who have taken the course “Programming Essentials in Python”, the IBAN Validator should be well know. But, if you haven’t taken the course, now is a good moment familiarize yourself with IBAN and ways to validate it.\n",
    "\n",
    "We'll use the IBAN Validator to ensure that our banking app dictionary contains only validated IBANs (keys) and info about the associated balance (value).\n",
    "\n",
    "Well, what is this IBAN then?\n",
    "\n",
    "IBAN is an algorithm used by European banks to specify account numbers. The standard name IBAN (International Bank Account Number) provides a simple and fairly reliable method of validating the account numbers against simple typos that can occur during rewriting of the number, e.g., from paper documents, like invoices or bills, into computers.\n",
    "\n",
    "You can find more details here: [IBAN](https://en.wikipedia.org/wiki/International_Bank_Account_Number)\n",
    "\n",
    "An IBAN-compliant account number consists of:\n",
    "\n",
    "- a two-letter country code taken from the ISO 3166-1 standard (e.g., FR for France, GB for the United Kingdom, DE for Germany, and so on)\n",
    "- two check digits used to perform the validity checks – fast and simple, but not fully reliable, tests, showing whether a number is invalid (distorted by a typo) or seems to be good;\n",
    "- the actual account number (up to 30 alphanumeric characters – the length of that part depends on the country)\n",
    "\n",
    "The standard says that validation requires the following steps (according to Wikipedia):\n",
    "\n",
    "- (step 1) Check that the total IBAN length is correct as per the country (this program won't do that, but you can modify the code to meet this requirement if you wish; note: you have to teach the code all the lengths used in Europe)\n",
    "- (step 2) Move the four initial characters to the end of the string (i.e., the country code and the check digits)\n",
    "- (step 3) Replace each letter in the string with two digits, thereby expanding the string, where A = 10, B = 11 ... Z = 35;\n",
    "- (step 4) Interpret the string as a decimal integer and compute the remainder of that number on division by 97; If the remainder is 1, the check digit test is passed and the IBAN might be valid.\n",
    "\n",
    "Look at the genuine code in the editor. In a moment we'll modify it, but first let's analyze it:\n",
    "\n",
    "- line 03: ask the user to enter the IBAN (the number can contain spaces, as they significantly improve number readability...\n",
    "- line 04: ...but remove them immediately;\n",
    "- line 05: the entered IBAN must consist of digits and letters only – if it doesn't...\n",
    "- line 06: ...output the message;\n",
    "- line 07: the IBAN mustn't be shorter than 15 characters (this is the shortest variant, used in Norway)\n",
    "- line 08: if it is shorter, the user is informed;\n",
    "- line 09: moreover, the IBAN cannot be longer than 31 characters (this is the longest variant, used in Malta)\n",
    "- line 10: if it is longer, make an announcement;\n",
    "- line 11: start the actual processing;\n",
    "- line 12: move the four initial characters to the number's end, and convert all letters to upper case (step 02 of the algorithm)\n",
    "- line 13: this is the variable used to complete the number, created by replacing the letters with digits (according to the algorithm's step 03)\n",
    "- line 14: iterate through the IBAN;\n",
    "- line 15: if the character is a digit...\n",
    "- line 16: just copy it;\n",
    "- line 17: otherwise...\n",
    "- line 18: ...convert it into two digits (note the way it's done here)\n",
    "- line 19: the converted form of the IBAN is ready – make an integer out of it;\n",
    "- line 20: is the remainder of the division of iban2 by 97 equal to 1?\n",
    "- line 21: if yes, then success;\n",
    "- line 22: otherwise...\n",
    "- line 23: ...the number is invalid.\n",
    "\n",
    "Let's add some test data (all these numbers are valid – you can invalidate them by changing any character).\n",
    "\n",
    "- British: `GB72 HBZU 7006 7212 1253 00`\n",
    "- French: `FR76 30003 03620 00020216907 50`\n",
    "- German: `DE02100100100152517108`"
   ]
  },
  {
   "cell_type": "markdown",
   "metadata": {},
   "source": [
    "---"
   ]
  },
  {
   "cell_type": "markdown",
   "metadata": {},
   "source": [
    "Now, let's add a new exception class and wrap the previous IBAN validating snippet into a function, reformulate the last condition, and use it as a helper function.\n",
    "\n",
    "To sum up, our validateIBAN(iban) function:\n",
    "\n",
    "- requires a parameter; it is a string to check whether it contains an IBAN-compliant account number;\n",
    "- raises an IBANValidationError exception when the supplied string carries an incorrectly formulated account number;\n",
    "- returns a True value when the account number conforms to all IBAN requirements."
   ]
  },
  {
   "cell_type": "code",
   "execution_count": 110,
   "metadata": {},
   "outputs": [
    {
     "name": "stdout",
     "output_type": "stream",
     "text": [
      "Status of \"GB72 HBZU 7006 7212 1253 01\" validation: \n",
      "\tIBAN entered is invalid.\n",
      "Status of \"FR76 30003 03620 00020216907 50\" validation: \n",
      "\tcorrect\n",
      "Status of \"DE02100100100152517108\" validation: \n",
      "\tcorrect\n"
     ]
    }
   ],
   "source": [
    "class IBANValidationError(Exception):\n",
    "    pass\n",
    "\n",
    "\n",
    "def validateIBAN(iban):\n",
    "    iban = iban.replace(' ', '')\n",
    "\n",
    "    if not iban.isalnum():\n",
    "        raise IBANValidationError(\"You have entered invalid characters.\")\n",
    "\n",
    "    elif len(iban) < 15:\n",
    "        raise IBANValidationError(\"IBAN entered is too short.\")\n",
    "\n",
    "    elif len(iban) > 31:\n",
    "        raise IBANValidationError(\"IBAN entered is too long.\")\n",
    "\n",
    "    else:\n",
    "        iban = (iban[4:] + iban[0:4]).upper()\n",
    "        iban2 = ''\n",
    "        for ch in iban:\n",
    "            if ch.isdigit():\n",
    "                iban2 += ch\n",
    "            else:\n",
    "                iban2 += str(10 + ord(ch) - ord('A'))\n",
    "        ibann = int(iban2)\n",
    "\n",
    "        if ibann % 97 != 1:\n",
    "            raise IBANValidationError(\"IBAN entered is invalid.\")\n",
    "\n",
    "        return True\n",
    "\n",
    "\n",
    "test_keys = ['GB72 HBZU 7006 7212 1253 01', 'FR76 30003 03620 00020216907 50', 'DE02100100100152517108' ]\n",
    "\n",
    "for key in test_keys:\n",
    "    try:\n",
    "        print('Status of \"{}\" validation: '.format(key))\n",
    "        validateIBAN(key)\n",
    "    except IBANValidationError as e:\n",
    "        print(\"\\t{}\".format(e))\n",
    "    else:\n",
    "        print(\"\\tcorrect\")\n"
   ]
  },
  {
   "cell_type": "markdown",
   "metadata": {},
   "source": [
    "---"
   ]
  },
  {
   "cell_type": "markdown",
   "metadata": {},
   "source": [
    "Having a `validateIBAN()` function in place, we can write our own class that inherits after a built-in dict class.\n",
    "\n",
    "In this implementation, we have delivered the method `__setitem__()` which calls `validateIBAN()` and on success calls the genuine `__setitem__()` method. This piece of code is responsible for statements like:\n",
    "\n",
    "`my_dict[key] = value`\n",
    "\n",
    "\n",
    "We have also delivered the method `update()` which iterates the parameters passed, and for each correct pair calls the `__setitem__()` method"
   ]
  },
  {
   "cell_type": "code",
   "execution_count": 111,
   "metadata": {},
   "outputs": [
    {
     "name": "stdout",
     "output_type": "stream",
     "text": [
      "The my_dict dictionary contains:\n",
      "\tGB72 HBZU 7006 7212 1253 00 -> 194\n",
      "\tFR76 30003 03620 00020216907 50 -> 813\n",
      "\tDE02100100100152517108 -> 320\n",
      "IBANDict has protected your dictionary against incorrect data insertion\n"
     ]
    }
   ],
   "source": [
    "import random\n",
    "\n",
    "\n",
    "class IBANValidationError(Exception):\n",
    "    pass\n",
    "\n",
    "\n",
    "class IBANDict(dict):\n",
    "    def __setitem__(self, _key, _val):\n",
    "        if validateIBAN(_key):\n",
    "            super().__setitem__(_key, _val)\n",
    "\n",
    "    def update(self, *args, **kwargs):\n",
    "        for _key, _val in dict(*args, **kwargs).items():\n",
    "            self.__setitem__(_key, _val)\n",
    "\n",
    "\n",
    "def validateIBAN(iban):\n",
    "    iban = iban.replace(' ', '')\n",
    "\n",
    "    if not iban.isalnum():\n",
    "        raise IBANValidationError(\"You have entered invalid characters.\")\n",
    "\n",
    "    elif len(iban) < 15:\n",
    "        raise IBANValidationError(\"IBAN entered is too short.\")\n",
    "\n",
    "    elif len(iban) > 31:\n",
    "        raise IBANValidationError(\"IBAN entered is too long.\")\n",
    "\n",
    "    else:\n",
    "        iban = (iban[4:] + iban[0:4]).upper()\n",
    "        iban2 = ''\n",
    "        for ch in iban:\n",
    "            if ch.isdigit():\n",
    "                iban2 += ch\n",
    "            else:\n",
    "                iban2 += str(10 + ord(ch) - ord('A'))\n",
    "        ibann = int(iban2)\n",
    "\n",
    "        if ibann % 97 != 1:\n",
    "            raise IBANValidationError(\"IBAN entered is invalid.\")\n",
    "\n",
    "        return True\n",
    "\n",
    "\n",
    "my_dict = IBANDict()\n",
    "keys = ['GB72 HBZU 7006 7212 1253 00', 'FR76 30003 03620 00020216907 50', 'DE02100100100152517108']\n",
    "\n",
    "for key in keys:\n",
    "    my_dict[key] = random.randint(0, 1000)\n",
    "\n",
    "print('The my_dict dictionary contains:')\n",
    "for key, value in my_dict.items():\n",
    "    print(\"\\t{} -> {}\".format(key, value))\n",
    "\n",
    "try:\n",
    "    my_dict.update({'dummy_account': 100})\n",
    "except IBANValidationError:\n",
    "    print('IBANDict has protected your dictionary against incorrect data insertion')\n"
   ]
  },
  {
   "cell_type": "markdown",
   "metadata": {},
   "source": [
    "### Summary\n",
    "- Python allows you to subclass any built-in class such as a list, tuple, dictionary, and many others;\n",
    "- by subclassing the built-ins, you can easily adapt generics to provide more sophisticated features;\n",
    "- by subclassing the built-ins, you can modify only the parts (methods, attributes) that you intend to modify, while all remaining parts will behave as good old built-ins."
   ]
  },
  {
   "cell_type": "markdown",
   "metadata": {},
   "source": [
    "## 3. Advanced techniques of creating and serving exceptions"
   ]
  },
  {
   "cell_type": "markdown",
   "metadata": {},
   "source": [
    "### 3.1.1.1"
   ]
  },
  {
   "cell_type": "markdown",
   "metadata": {},
   "source": [
    "### Advanced Exceptions"
   ]
  },
  {
   "cell_type": "markdown",
   "metadata": {},
   "source": [
    "In this module, we'll talk about Python exceptions – objects that represent errors which occur during the execution of a program that disrupts the normal flow of the program's instructions.\n",
    "\n",
    "Plan for the module:\n",
    "\n",
    "- short introduction to exceptions;\n",
    "- review of the named attributes of exception objects;\n",
    "- introduction to chained exceptions;\n",
    "- analysis of the traceback object of each exception."
   ]
  },
  {
   "cell_type": "markdown",
   "metadata": {},
   "source": [
    "### Exceptions - short introduction"
   ]
  },
  {
   "cell_type": "markdown",
   "metadata": {},
   "source": [
    "When Python executes a script and encounters a situation that it cannot cope with, it:\n",
    "\n",
    "- tops your program;\n",
    "- creates a special kind of data, called an exception. Of course, this exception is an object.\n",
    "\n",
    "Both of these activities are called raising an exception. We can say that Python always raises an exception (or that an exception has been raised) when it has no idea what do to with your code.\n",
    "\n",
    "What happens next?\n",
    "\n",
    "- the raised exception expects somebody or something to notice it and take care of it;\n",
    "- if nothing happens to take care of the raised exception, the program will be forcibly terminated, and you will see an error message sent to the console by Python;\n",
    "- otherwise, if the exception is taken care of and handled properly, the suspended program can be resumed and its execution can continue.\n",
    "\n",
    "Python provides effective tools that allow you to observe exceptions, identify them and handle them efficiently. This is possible due to the fact that all potential exceptions have their unambiguous names, so you can categorize them and react appropriately.\n",
    "\n",
    "Sooner or later, every Pythonista will write a code that raises an exception, and that is why it is so important to know how to deal with exceptions.\n",
    "\n",
    "Python comes with 63* built-in exceptions, and they can be represented in the form of a tree-shaped hierarchy. The reason for this is that exceptions are inherited from BaseException, the most general exception class.\n",
    "\n",
    "And this approach tells you that you can also create your own specific exception classes – the only constraint is: you have to subclass BaseException or any other derived exception class.\n",
    "\n",
    "** This number may vary across different Python versions."
   ]
  },
  {
   "cell_type": "markdown",
   "metadata": {},
   "source": [
    "### Exception handling"
   ]
  },
  {
   "cell_type": "markdown",
   "metadata": {},
   "source": [
    "When you suspect that the code may raise an exception, you should use the `try: problematic_code except` code block to surround the \"problematic\" piece of code. In effect, when the exception is raised, execution is not terminated, but the code following the  `except` clause will try to handle the problem in an elegant way.\n",
    "\n",
    "Let's look at typical try ... except statement."
   ]
  },
  {
   "cell_type": "code",
   "execution_count": 112,
   "metadata": {},
   "outputs": [
    {
     "name": "stdout",
     "output_type": "stream",
     "text": [
      "You tried to do a nasty thing...\n"
     ]
    }
   ],
   "source": [
    "try:\n",
    "    print(int('a'))\n",
    "except ValueError:\n",
    "    print('You tried to do a nasty thing...')"
   ]
  },
  {
   "cell_type": "markdown",
   "metadata": {},
   "source": [
    "Whenever you try to convert letter 'a' to an integer value, you'll spot an exception. In the case where you get data from an external source (console, file, etc.) you should not trust the data types, so it’s wise to surround the fragile code (`int()` in this example) with a try... except block."
   ]
  },
  {
   "cell_type": "markdown",
   "metadata": {},
   "source": [
    "### Advanced exceptions - named attributes"
   ]
  },
  {
   "cell_type": "markdown",
   "metadata": {},
   "source": [
    "Now it’s time to dive more deeply into the interesting features of exception concepts and get familiar with the possible ways of using those concepts in your applications.\n",
    "\n",
    "Once again, let's look at a typical try ... except statement."
   ]
  },
  {
   "cell_type": "code",
   "execution_count": 113,
   "metadata": {},
   "outputs": [
    {
     "name": "stdout",
     "output_type": "stream",
     "text": [
      "(\"invalid literal for int() with base 10: 'a'\",)\n"
     ]
    }
   ],
   "source": [
    "try:\n",
    "    print(int('a'))\n",
    "except ValueError as e_variable:\n",
    "    print(e_variable.args)"
   ]
  },
  {
   "cell_type": "markdown",
   "metadata": {},
   "source": [
    "The except clause may specify a variable after the exception name. In this example it’s an `e_variable`. This variable is bound to an exception instance with the arguments stored in the `args` attribute of the e_variable object.\n",
    "\n",
    "Some exception objects carry additional information about the exception itself.\n",
    "\n",
    "The `ImportError` exception – raised when the import statement has trouble trying to load a module. The attributes are:\n",
    "\n",
    "- `name` – represents the name of the module that was attempted to be imported;\n",
    "- `path` – represents the path to any file which triggered the exception, respectively. Could be `None`.\n",
    "\n",
    "See the output of this snippet to analyze the attributes' values."
   ]
  },
  {
   "cell_type": "code",
   "execution_count": 114,
   "metadata": {},
   "outputs": [
    {
     "name": "stdout",
     "output_type": "stream",
     "text": [
      "(\"No module named 'abcdefghijk'\",)\n",
      "abcdefghijk\n",
      "None\n"
     ]
    }
   ],
   "source": [
    "try:\n",
    "    import abcdefghijk\n",
    "\n",
    "except ImportError as e:\n",
    "    print(e.args)\n",
    "    print(e.name)\n",
    "    print(e.path)"
   ]
  },
  {
   "cell_type": "markdown",
   "metadata": {},
   "source": [
    "---"
   ]
  },
  {
   "cell_type": "markdown",
   "metadata": {},
   "source": [
    "The `UnicodeError` exception – raised when a Unicode-related encoding or decoding error occurs. It is a subclass of `ValueError`.\n",
    "\n",
    "The UnicodeError has attributes that describe an encoding or decoding error.\n",
    "\n",
    "- **encoding** – the name of the encoding that raised the error.\n",
    "- **reason** – a string describing the specific codec error.\n",
    "- **object** – the object the codec was attempting to encode or decode.\n",
    "- **start** – the first index of invalid data in the object.\n",
    "- **end** – the index after the last invalid data in the object.\n",
    "\n",
    "See the output of this snippet to analyze the attributes' values."
   ]
  },
  {
   "cell_type": "code",
   "execution_count": 115,
   "metadata": {},
   "outputs": [
    {
     "name": "stdout",
     "output_type": "stream",
     "text": [
      "'utf-8' codec can't decode byte 0x80 in position 0: invalid start byte\n",
      "utf-8\n",
      "invalid start byte\n",
      "b'\\x80'\n",
      "0\n",
      "1\n"
     ]
    }
   ],
   "source": [
    "try:\n",
    "    b'\\x80'.decode(\"utf-8\")\n",
    "except UnicodeError as e:\n",
    "    print(e)\n",
    "    print(e.encoding)\n",
    "    print(e.reason)\n",
    "    print(e.object)\n",
    "    print(e.start)\n",
    "    print(e.end)\n"
   ]
  },
  {
   "cell_type": "markdown",
   "metadata": {},
   "source": [
    "---"
   ]
  },
  {
   "cell_type": "markdown",
   "metadata": {},
   "source": [
    "### 3.1.1.6 Advanced exceptions - chained exceptions"
   ]
  },
  {
   "cell_type": "markdown",
   "metadata": {},
   "source": [
    "### What are chained exceptions?"
   ]
  },
  {
   "cell_type": "markdown",
   "metadata": {},
   "source": [
    "Python 3 introduced a very interesting feature called 'Exception chaining' to effectively deal with exceptions.\n",
    "\n",
    "Imagine a situation where you are already handling an exception and your code incidentally triggers an additional exception. Should your code lose the information about the previous exception? Of course not. So the information should be available to the code following the erroneous code. This is an example of **implicit chaining**.\n",
    "\n",
    "Another case pops up when we knowingly wish to handle an exception and translate it to another type of exception. Such a situation is typical when you have a good reason for the unifying behavior of one piece of code to act similarly to another piece of code, like a legacy code. In this situation it would also be nice to keep the details of the former exception. This is an example of **explicit chaining**.\n",
    "\n",
    "This chaining concept introduces two attributes of exception instances:\n",
    "\n",
    "- the `__context__` attribute, which is inherent for implicitly chained exceptions;\n",
    "- he `__cause__` attribute, which is inherent for explicitly chained exceptions.\n",
    "\n",
    "Those attributes help the programmer to keep a reference to the original exception object in a handy and consistent way for later processing like logging, etc."
   ]
  },
  {
   "cell_type": "markdown",
   "metadata": {},
   "source": [
    "---"
   ]
  },
  {
   "cell_type": "markdown",
   "metadata": {},
   "source": [
    "Look at the following code and the output traceback. Pay attention to the fact that we are not raising any exception explicitly with a raise statement, but we cause it implicitly (BTW: dividing by 0 is always a good way to cause an exception or error in most of the programming languages):"
   ]
  },
  {
   "cell_type": "code",
   "execution_count": 116,
   "metadata": {},
   "outputs": [
    {
     "ename": "ZeroDivisionError",
     "evalue": "division by zero",
     "output_type": "error",
     "traceback": [
      "\u001b[1;31m---------------------------------------------------------------------------\u001b[0m",
      "\u001b[1;31mIndexError\u001b[0m                                Traceback (most recent call last)",
      "\u001b[1;32m<ipython-input-116-95866aabab10>\u001b[0m in \u001b[0;36m<module>\u001b[1;34m\u001b[0m\n\u001b[0;32m      3\u001b[0m \u001b[1;32mtry\u001b[0m\u001b[1;33m:\u001b[0m\u001b[1;33m\u001b[0m\u001b[1;33m\u001b[0m\u001b[0m\n\u001b[1;32m----> 4\u001b[1;33m     \u001b[0mprint\u001b[0m\u001b[1;33m(\u001b[0m\u001b[0ma_list\u001b[0m\u001b[1;33m[\u001b[0m\u001b[1;36m3\u001b[0m\u001b[1;33m]\u001b[0m\u001b[1;33m)\u001b[0m\u001b[1;33m\u001b[0m\u001b[1;33m\u001b[0m\u001b[0m\n\u001b[0m\u001b[0;32m      5\u001b[0m \u001b[1;32mexcept\u001b[0m \u001b[0mException\u001b[0m \u001b[1;32mas\u001b[0m \u001b[0me\u001b[0m\u001b[1;33m:\u001b[0m\u001b[1;33m\u001b[0m\u001b[1;33m\u001b[0m\u001b[0m\n",
      "\u001b[1;31mIndexError\u001b[0m: list index out of range",
      "\nDuring handling of the above exception, another exception occurred:\n",
      "\u001b[1;31mZeroDivisionError\u001b[0m                         Traceback (most recent call last)",
      "\u001b[1;32m<ipython-input-116-95866aabab10>\u001b[0m in \u001b[0;36m<module>\u001b[1;34m\u001b[0m\n\u001b[0;32m      4\u001b[0m     \u001b[0mprint\u001b[0m\u001b[1;33m(\u001b[0m\u001b[0ma_list\u001b[0m\u001b[1;33m[\u001b[0m\u001b[1;36m3\u001b[0m\u001b[1;33m]\u001b[0m\u001b[1;33m)\u001b[0m\u001b[1;33m\u001b[0m\u001b[1;33m\u001b[0m\u001b[0m\n\u001b[0;32m      5\u001b[0m \u001b[1;32mexcept\u001b[0m \u001b[0mException\u001b[0m \u001b[1;32mas\u001b[0m \u001b[0me\u001b[0m\u001b[1;33m:\u001b[0m\u001b[1;33m\u001b[0m\u001b[1;33m\u001b[0m\u001b[0m\n\u001b[1;32m----> 6\u001b[1;33m     \u001b[0mprint\u001b[0m\u001b[1;33m(\u001b[0m\u001b[1;36m0\u001b[0m \u001b[1;33m/\u001b[0m \u001b[1;36m0\u001b[0m\u001b[1;33m)\u001b[0m\u001b[1;33m\u001b[0m\u001b[1;33m\u001b[0m\u001b[0m\n\u001b[0m",
      "\u001b[1;31mZeroDivisionError\u001b[0m: division by zero"
     ]
    }
   ],
   "source": [
    "a_list = ['First error', 'Second error']\n",
    "\n",
    "try:\n",
    "    print(a_list[3])\n",
    "except Exception as e:\n",
    "    print(0 / 0)\n"
   ]
  },
  {
   "cell_type": "markdown",
   "metadata": {},
   "source": [
    "The result of the code execution contains a message that joins the subsequent tracebacks:\n",
    "\n",
    "`During handling of the above exception, another exception occurred:`\n",
    "\n",
    "It contains an interesting piece of information indicating that we’ve just witnessed a chain of exceptions."
   ]
  },
  {
   "cell_type": "markdown",
   "metadata": {},
   "source": [
    "---"
   ]
  },
  {
   "cell_type": "markdown",
   "metadata": {},
   "source": [
    "### 3.1.1.8 Advanced exceptions - implicitly chained exceptions"
   ]
  },
  {
   "cell_type": "markdown",
   "metadata": {},
   "source": [
    "The original exception object `e` is now being referenced by the `__context__` attribute of the following exception `f`.\n",
    "\n",
    "The `except Exception` clause is a wide one and normally should be used as a last resort to catch all unhandled exceptions. It’s so wide because we don’t know what kind of exception might occur.\n",
    "\n",
    "So, when a subsequent exception (much better forecasted) occurs, we still can say a lot about the nature of the first exception."
   ]
  },
  {
   "cell_type": "code",
   "execution_count": 117,
   "metadata": {},
   "outputs": [
    {
     "name": "stdout",
     "output_type": "stream",
     "text": [
      "Inner exception (f): division by zero\n",
      "Outer exception (e): list index out of range\n",
      "Outer exception referenced: list index out of range\n",
      "Is it the same object: True\n"
     ]
    }
   ],
   "source": [
    "a_list = ['First error', 'Second error']\n",
    "\n",
    "try:\n",
    "    print(a_list[3])\n",
    "except Exception as e:\n",
    "    try:\n",
    "        # the following line is a developer mistake - they wanted to print progress as 1/10\tbut wrote 1/0\n",
    "        print(1 / 0)\n",
    "    except ZeroDivisionError as f:\n",
    "        print('Inner exception (f):', f)\n",
    "        print('Outer exception (e):', e)\n",
    "        print('Outer exception referenced:', f.__context__)\n",
    "        print('Is it the same object:', f.__context__ is e)\n"
   ]
  },
  {
   "cell_type": "markdown",
   "metadata": {},
   "source": [
    "### 3.1.1.9 Advanced exceptions - explicitly chained exceptions"
   ]
  },
  {
   "cell_type": "markdown",
   "metadata": {},
   "source": [
    "### Advanced exceptions - explicitly chained exceptions"
   ]
  },
  {
   "cell_type": "markdown",
   "metadata": {},
   "source": [
    "This time we'd like to convert an explicit type of exception object to another type of exception object **at the moment when the second exception is occurring**.\n",
    "\n",
    "Imagine that your code is responsible for the final checking process before the rocket is launched. The list of checks is a long one, and different checks could result in different exceptions.\n",
    "\n",
    "But as it is a very serious process, you should be sure that all checks are passed. If any fails, it should be marked in the log book and re-checked next time.\n",
    "\n",
    "Now you see that it would be convenient to convert each type of exception into its own exception (like RocketNotReadyError) and to log the origin of the exception."
   ]
  },
  {
   "cell_type": "code",
   "execution_count": 118,
   "metadata": {},
   "outputs": [
    {
     "name": "stdout",
     "output_type": "stream",
     "text": [
      "Final check procedure\n",
      "\tThe captain's name is John\n",
      "\tThe pilot's name is Mary\n",
      "\tThe mechanic's name is Mike\n"
     ]
    },
    {
     "ename": "RocketNotReadyError",
     "evalue": "Crew is incomplete",
     "output_type": "error",
     "traceback": [
      "\u001b[1;31m---------------------------------------------------------------------------\u001b[0m",
      "\u001b[1;31mIndexError\u001b[0m                                Traceback (most recent call last)",
      "\u001b[1;32m<ipython-input-118-22e4e2e11f3d>\u001b[0m in \u001b[0;36mpersonnel_check\u001b[1;34m()\u001b[0m\n\u001b[0;32m      9\u001b[0m         \u001b[0mprint\u001b[0m\u001b[1;33m(\u001b[0m\u001b[1;34m\"\\tThe mechanic's name is\"\u001b[0m\u001b[1;33m,\u001b[0m \u001b[0mcrew\u001b[0m\u001b[1;33m[\u001b[0m\u001b[1;36m2\u001b[0m\u001b[1;33m]\u001b[0m\u001b[1;33m)\u001b[0m\u001b[1;33m\u001b[0m\u001b[1;33m\u001b[0m\u001b[0m\n\u001b[1;32m---> 10\u001b[1;33m         \u001b[0mprint\u001b[0m\u001b[1;33m(\u001b[0m\u001b[1;34m\"\\tThe navigator's name is\"\u001b[0m\u001b[1;33m,\u001b[0m \u001b[0mcrew\u001b[0m\u001b[1;33m[\u001b[0m\u001b[1;36m3\u001b[0m\u001b[1;33m]\u001b[0m\u001b[1;33m)\u001b[0m\u001b[1;33m\u001b[0m\u001b[1;33m\u001b[0m\u001b[0m\n\u001b[0m\u001b[0;32m     11\u001b[0m     \u001b[1;32mexcept\u001b[0m \u001b[0mIndexError\u001b[0m \u001b[1;32mas\u001b[0m \u001b[0me\u001b[0m\u001b[1;33m:\u001b[0m\u001b[1;33m\u001b[0m\u001b[1;33m\u001b[0m\u001b[0m\n",
      "\u001b[1;31mIndexError\u001b[0m: list index out of range",
      "\nThe above exception was the direct cause of the following exception:\n",
      "\u001b[1;31mRocketNotReadyError\u001b[0m                       Traceback (most recent call last)",
      "\u001b[1;32m<ipython-input-118-22e4e2e11f3d>\u001b[0m in \u001b[0;36m<module>\u001b[1;34m\u001b[0m\n\u001b[0;32m     15\u001b[0m \u001b[0mprint\u001b[0m\u001b[1;33m(\u001b[0m\u001b[1;34m'Final check procedure'\u001b[0m\u001b[1;33m)\u001b[0m\u001b[1;33m\u001b[0m\u001b[1;33m\u001b[0m\u001b[0m\n\u001b[0;32m     16\u001b[0m \u001b[1;33m\u001b[0m\u001b[0m\n\u001b[1;32m---> 17\u001b[1;33m \u001b[0mpersonnel_check\u001b[0m\u001b[1;33m(\u001b[0m\u001b[1;33m)\u001b[0m\u001b[1;33m\u001b[0m\u001b[1;33m\u001b[0m\u001b[0m\n\u001b[0m",
      "\u001b[1;32m<ipython-input-118-22e4e2e11f3d>\u001b[0m in \u001b[0;36mpersonnel_check\u001b[1;34m()\u001b[0m\n\u001b[0;32m     10\u001b[0m         \u001b[0mprint\u001b[0m\u001b[1;33m(\u001b[0m\u001b[1;34m\"\\tThe navigator's name is\"\u001b[0m\u001b[1;33m,\u001b[0m \u001b[0mcrew\u001b[0m\u001b[1;33m[\u001b[0m\u001b[1;36m3\u001b[0m\u001b[1;33m]\u001b[0m\u001b[1;33m)\u001b[0m\u001b[1;33m\u001b[0m\u001b[1;33m\u001b[0m\u001b[0m\n\u001b[0;32m     11\u001b[0m     \u001b[1;32mexcept\u001b[0m \u001b[0mIndexError\u001b[0m \u001b[1;32mas\u001b[0m \u001b[0me\u001b[0m\u001b[1;33m:\u001b[0m\u001b[1;33m\u001b[0m\u001b[1;33m\u001b[0m\u001b[0m\n\u001b[1;32m---> 12\u001b[1;33m         \u001b[1;32mraise\u001b[0m \u001b[0mRocketNotReadyError\u001b[0m\u001b[1;33m(\u001b[0m\u001b[1;34m'Crew is incomplete'\u001b[0m\u001b[1;33m)\u001b[0m \u001b[1;32mfrom\u001b[0m \u001b[0me\u001b[0m\u001b[1;33m\u001b[0m\u001b[1;33m\u001b[0m\u001b[0m\n\u001b[0m\u001b[0;32m     13\u001b[0m \u001b[1;33m\u001b[0m\u001b[0m\n\u001b[0;32m     14\u001b[0m \u001b[0mcrew\u001b[0m \u001b[1;33m=\u001b[0m \u001b[1;33m[\u001b[0m\u001b[1;34m'John'\u001b[0m\u001b[1;33m,\u001b[0m \u001b[1;34m'Mary'\u001b[0m\u001b[1;33m,\u001b[0m \u001b[1;34m'Mike'\u001b[0m\u001b[1;33m]\u001b[0m\u001b[1;33m\u001b[0m\u001b[1;33m\u001b[0m\u001b[0m\n",
      "\u001b[1;31mRocketNotReadyError\u001b[0m: Crew is incomplete"
     ]
    }
   ],
   "source": [
    "class RocketNotReadyError(Exception):\n",
    "    pass\n",
    "\n",
    "\n",
    "def personnel_check():\n",
    "    try:\n",
    "        print(\"\\tThe captain's name is\", crew[0])\n",
    "        print(\"\\tThe pilot's name is\", crew[1])\n",
    "        print(\"\\tThe mechanic's name is\", crew[2])\n",
    "        print(\"\\tThe navigator's name is\", crew[3])\n",
    "    except IndexError as e:\n",
    "        raise RocketNotReadyError('Crew is incomplete') from e\n",
    "\n",
    "crew = ['John', 'Mary', 'Mike']\n",
    "print('Final check procedure')\n",
    "\n",
    "personnel_check()\n"
   ]
  },
  {
   "cell_type": "markdown",
   "metadata": {},
   "source": [
    "---"
   ]
  },
  {
   "cell_type": "markdown",
   "metadata": {},
   "source": [
    "To catch the cause of the `RocketNotReadyError` exception, you should access the `__cause__` attribute of the `RocketNotReadyError` object.\n",
    "\n",
    "This time the report is handled in a safe way, and you can be sure that you’re doing a good job."
   ]
  },
  {
   "cell_type": "code",
   "execution_count": 119,
   "metadata": {},
   "outputs": [
    {
     "name": "stdout",
     "output_type": "stream",
     "text": [
      "Final check procedure\n",
      "\tThe captain's name is John\n",
      "\tThe pilot's name is Mary\n",
      "\tThe mechanic's name is Mike\n",
      "General exception: \"Crew is incomplete\", caused by \"list index out of range\"\n"
     ]
    }
   ],
   "source": [
    "class RocketNotReadyError(Exception):\n",
    "    pass\n",
    "\n",
    "\n",
    "def personnel_check():\n",
    "    try:\n",
    "        print(\"\\tThe captain's name is\", crew[0])\n",
    "        print(\"\\tThe pilot's name is\", crew[1])\n",
    "        print(\"\\tThe mechanic's name is\", crew[2])\n",
    "        print(\"\\tThe navigator's name is\", crew[3])\n",
    "    except IndexError as e:\n",
    "        raise RocketNotReadyError('Crew is incomplete') from e\n",
    "\n",
    "crew = ['John', 'Mary', 'Mike']\n",
    "print('Final check procedure')\n",
    "\n",
    "try:\n",
    "    personnel_check()\n",
    "except RocketNotReadyError as f:\n",
    "    print('General exception: \"{}\", caused by \"{}\"'.format(f, f.__cause__))\n"
   ]
  },
  {
   "cell_type": "markdown",
   "metadata": {},
   "source": [
    "---"
   ]
  },
  {
   "cell_type": "markdown",
   "metadata": {},
   "source": [
    "Have a look at an extended checklist script.\n",
    "\n",
    "Pay attention to the fact that thanks to polymorphism and explicit chaining, our approach has become more generic: we are able to run two different checks, each returning a different exception type.\n",
    "\n",
    "And we’re still able to handle them correctly, as we’re hiding some details behind the RocketNotReadyError exception object."
   ]
  },
  {
   "cell_type": "code",
   "execution_count": 120,
   "metadata": {},
   "outputs": [
    {
     "name": "stdout",
     "output_type": "stream",
     "text": [
      "Final check procedure\n",
      "\tThe captain's name is John\n",
      "\tThe pilot's name is Mary\n",
      "\tThe mechanic's name is Mike\n",
      "RocketNotReady exception: \"Crew is incomplete\", caused by \"list index out of range\"\n",
      "RocketNotReady exception: \"Problem with fuel gauge\", caused by \"division by zero\"\n"
     ]
    }
   ],
   "source": [
    "class RocketNotReadyError(Exception):\n",
    "    pass\n",
    "\n",
    "\n",
    "def personnel_check():\n",
    "    try:\n",
    "        print(\"\\tThe captain's name is\", crew[0])\n",
    "        print(\"\\tThe pilot's name is\", crew[1])\n",
    "        print(\"\\tThe mechanic's name is\", crew[2])\n",
    "        print(\"\\tThe navigator's name is\", crew[3])\n",
    "    except IndexError as e:\n",
    "        raise RocketNotReadyError('Crew is incomplete') from e\n",
    "\n",
    "\n",
    "def fuel_check():\n",
    "    try:\n",
    "        print('Fuel tank is full in {}%'.format(100 / 0))\n",
    "    except ZeroDivisionError as e:\n",
    "        raise RocketNotReadyError('Problem with fuel gauge') from e\n",
    "\n",
    "\n",
    "crew = ['John', 'Mary', 'Mike']\n",
    "fuel = 100\n",
    "check_list = [personnel_check, fuel_check]\n",
    "\n",
    "print('Final check procedure')\n",
    "\n",
    "for check in check_list:\n",
    "    try:\n",
    "        check()\n",
    "    except RocketNotReadyError as f:\n",
    "        print('RocketNotReady exception: \"{}\", caused by \"{}\"'.format(f, f.__cause__))\n"
   ]
  },
  {
   "cell_type": "markdown",
   "metadata": {},
   "source": [
    "### 3.1.1.12 Advanced exceptions – the LAB"
   ]
  },
  {
   "cell_type": "markdown",
   "metadata": {},
   "source": [
    "### Level of difficulty\n",
    "Low\n",
    "\n",
    "### Objectives\n",
    "\n",
    "improving the student's skills in operating with different kinds of exceptions.\n",
    "\n",
    "### Scenario\n",
    "Try to extend the check list script to handle more different checks, all reported as `RocketNotReady` exceptions.\n",
    "Add your own checks for: batteries and circuits.\n"
   ]
  },
  {
   "cell_type": "code",
   "execution_count": 121,
   "metadata": {},
   "outputs": [
    {
     "name": "stdout",
     "output_type": "stream",
     "text": [
      "Final check procedure\n",
      "\tThe captain's name is John\n",
      "\tThe pilot's name is Mary\n",
      "\tThe mechanic's name is Mike\n",
      "RocketNotReady exception: \"Crew is incomplete\", caused by \"list index out of range\"\n",
      "RocketNotReady exception: \"Problem with fuel gauge\", caused by \"division by zero\"\n",
      "RocketNotReady exception: \"Batteries have problem\", caused by \"division by zero\"\n",
      "Circuit main is checked\n",
      "Circuit side is checked\n",
      "RocketNotReady exception: \"Circuits are incomplete\", caused by \"list index out of range\"\n"
     ]
    }
   ],
   "source": [
    "class RocketNotReadyError(Exception):\n",
    "    pass\n",
    "\n",
    "\n",
    "def personnel_check():\n",
    "    try:\n",
    "        print(\"\\tThe captain's name is\", crew[0])\n",
    "        print(\"\\tThe pilot's name is\", crew[1])\n",
    "        print(\"\\tThe mechanic's name is\", crew[2])\n",
    "        print(\"\\tThe navigator's name is\", crew[3])\n",
    "    except IndexError as e:\n",
    "        raise RocketNotReadyError('Crew is incomplete') from e\n",
    "\n",
    "\n",
    "def fuel_check():\n",
    "    try:\n",
    "        print('Fuel tank is full in {}%'.format(100/0))\n",
    "    except ZeroDivisionError as e:\n",
    "        raise RocketNotReadyError('Problem with fuel gauge') from e\n",
    "\n",
    "def batteries_check():\n",
    "    try:\n",
    "        print('Batteries is lower than {}%'.format(100/0))\n",
    "    except ZeroDivisionError as e:\n",
    "        raise RocketNotReadyError('Batteries have problem') from e\n",
    "\n",
    "def circuits_check():\n",
    "    try:\n",
    "        print('Circuit {} is checked'.format(circuit[0]))\n",
    "        print('Circuit {} is checked'.format(circuit[1]))\n",
    "        print('Circuit {} is checked'.format(circuit[2]))\n",
    "    except IndexError as e:\n",
    "        raise RocketNotReadyError('Circuits are incomplete') from e\n",
    "\n",
    "crew = ['John', 'Mary', 'Mike']\n",
    "fuel = 100\n",
    "circuit = ['main', 'side']\n",
    "check_list = [personnel_check, fuel_check, batteries_check, circuits_check]\n",
    "\n",
    "print('Final check procedure')\n",
    "\n",
    "for check in check_list:\n",
    "    try:\n",
    "        check()\n",
    "    except RocketNotReadyError as f:\n",
    "        print('RocketNotReady exception: \"{}\", caused by \"{}\"'.format(f, f.__cause__))\n"
   ]
  },
  {
   "cell_type": "markdown",
   "metadata": {},
   "source": [
    "### 3.1.1.13 Advanced exceptions - the traceback attribute"
   ]
  },
  {
   "cell_type": "markdown",
   "metadata": {},
   "source": [
    "### Advanced exceptions - the traceback attribute"
   ]
  },
  {
   "cell_type": "markdown",
   "metadata": {},
   "source": [
    "Each exception object owns a `__traceback__` attribute.\n",
    "\n",
    "Python allows us to operate on the traceback details because each exception object (not only chained ones) owns a `__traceback__` attribute."
   ]
  },
  {
   "cell_type": "code",
   "execution_count": 122,
   "metadata": {},
   "outputs": [
    {
     "name": "stdout",
     "output_type": "stream",
     "text": [
      "Final check procedure\n",
      "\tThe captain's name is John\n",
      "\tThe pilot's name is Mary\n",
      "\tThe mechanic's name is Mike\n",
      "<traceback object at 0x0000020CC64319C8>\n",
      "<class 'traceback'>\n"
     ]
    }
   ],
   "source": [
    "class RocketNotReadyError(Exception):\n",
    "    pass\n",
    "\n",
    "\n",
    "def personnel_check():\n",
    "    try:\n",
    "        print(\"\\tThe captain's name is\", crew[0])\n",
    "        print(\"\\tThe pilot's name is\", crew[1])\n",
    "        print(\"\\tThe mechanic's name is\", crew[2])\n",
    "        print(\"\\tThe navigator's name is\", crew[3])\n",
    "    except IndexError as e:\n",
    "        raise RocketNotReadyError('Crew is incomplete') from e\n",
    "\n",
    "\n",
    "crew = ['John', 'Mary', 'Mike']\n",
    "\n",
    "print('Final check procedure')\n",
    "\n",
    "try:\n",
    "    personnel_check()\n",
    "except RocketNotReadyError as f:\n",
    "    print(f.__traceback__)\n",
    "    print(type(f.__traceback__))\n"
   ]
  },
  {
   "cell_type": "markdown",
   "metadata": {},
   "source": [
    "---"
   ]
  },
  {
   "cell_type": "markdown",
   "metadata": {},
   "source": [
    "From the output presented on the previous page, we can conclude that we have to deal with a traceback type object.\n",
    "\n",
    "To achieve this, we could use the `format_tb()` method delivered by the built-in traceback module to get a list of strings describing the traceback.\n",
    "\n",
    "We could use the `print_tb()` method, also delivered by the traceback module, to print strings directly to the standard output.\n",
    "\n",
    "The corresponding output reveals the sequence of exceptions and proves that the execution was not interrupted by the exceptions because we see the final wording Final check is over."
   ]
  },
  {
   "cell_type": "code",
   "execution_count": 123,
   "metadata": {},
   "outputs": [
    {
     "name": "stdout",
     "output_type": "stream",
     "text": [
      "Final check procedure\n",
      "\tThe captain's name is John\n",
      "\tThe pilot's name is Mary\n",
      "\tThe mechanic's name is Mike\n",
      "<traceback object at 0x0000020CC64254C8>\n",
      "<class 'traceback'>\n",
      "\n",
      "Traceback details\n",
      "  File \"<ipython-input-123-075f56768276>\", line 22, in <module>\n",
      "    personnel_check()\n",
      "\n",
      "  File \"<ipython-input-123-075f56768276>\", line 14, in personnel_check\n",
      "    raise RocketNotReadyError('Crew is incomplete') from e\n",
      "\n",
      "Final check is over\n"
     ]
    }
   ],
   "source": [
    "import traceback\n",
    "\n",
    "class RocketNotReadyError(Exception):\n",
    "    pass\n",
    "\n",
    "\n",
    "def personnel_check():\n",
    "    try:\n",
    "        print(\"\\tThe captain's name is\", crew[0])\n",
    "        print(\"\\tThe pilot's name is\", crew[1])\n",
    "        print(\"\\tThe mechanic's name is\", crew[2])\n",
    "        print(\"\\tThe navigator's name is\", crew[3])\n",
    "    except IndexError as e:\n",
    "        raise RocketNotReadyError('Crew is incomplete') from e\n",
    "\n",
    "\n",
    "crew = ['John', 'Mary', 'Mike']\n",
    "\n",
    "print('Final check procedure')\n",
    "\n",
    "try:\n",
    "    personnel_check()\n",
    "except RocketNotReadyError as f:\n",
    "    print(f.__traceback__)\n",
    "    print(type(f.__traceback__))\n",
    "    print('\\nTraceback details')\n",
    "    details = traceback.format_tb(f.__traceback__)\n",
    "    print(\"\\n\".join(details))\n",
    "\n",
    "print('Final check is over')\n"
   ]
  },
  {
   "cell_type": "markdown",
   "metadata": {},
   "source": [
    "---"
   ]
  },
  {
   "cell_type": "markdown",
   "metadata": {},
   "source": [
    "Now your log book could be filled with lots of details about your rocket launch for later investigation.\n",
    "\n",
    "In real life development projects, you may make use of logged tracebacks after comprehensive test sessions to gather statistics or even automate bug reporting processes.\n",
    "\n",
    "For more information about chained exceptions and traceback attributes, look at the PEP 3134 document."
   ]
  },
  {
   "cell_type": "markdown",
   "metadata": {},
   "source": [
    "### 4.1.1.1 Shallow and deep copy operations"
   ]
  },
  {
   "cell_type": "markdown",
   "metadata": {},
   "source": [
    "### Copying objects using shallow and deep operations"
   ]
  },
  {
   "cell_type": "markdown",
   "metadata": {},
   "source": [
    "In this module, you’ll learn how to copy Python objects. Specifically, you'll learn about:\n",
    "\n",
    "- object: label vs. identity vs. value;\n",
    "- the `id()` function and the `is` operand;\n",
    "- shallow and deep copies of the objects."
   ]
  },
  {
   "cell_type": "markdown",
   "metadata": {},
   "source": [
    "---"
   ]
  },
  {
   "cell_type": "markdown",
   "metadata": {},
   "source": [
    "It’s hard to imagine writing a piece of Python code that performs any kind of data processing without making use of variables. As variables are fundamental elements that allow us to cope with objects, let's talk in detail about variables and objects, and possible ways of copying them.\n",
    "\n",
    "When you spot the following clause:"
   ]
  },
  {
   "cell_type": "code",
   "execution_count": null,
   "metadata": {},
   "outputs": [],
   "source": [
    "a_list = [ 1, 'New York', 100]"
   ]
  },
  {
   "cell_type": "markdown",
   "metadata": {},
   "source": [
    "you should understand it in the following way:"
   ]
  },
  {
   "cell_type": "markdown",
   "metadata": {},
   "source": [
    "![](./images/17_list.png)"
   ]
  },
  {
   "cell_type": "markdown",
   "metadata": {},
   "source": [
    "(Note that an assignment statement is being used, so evaluation of the right side of the clause takes precedence over the left side.)\n",
    "\n",
    "At first, an object (a list in this example) is created in the computer's memory. Now the object has its identity;\n",
    "then the object is populated with other objects. Now our object has a value;\n",
    "finally a variable, which you should treat as a label or name binding, is created, and this label refers to a distinct place in the computer memory."
   ]
  },
  {
   "cell_type": "markdown",
   "metadata": {},
   "source": [
    "---"
   ]
  },
  {
   "cell_type": "markdown",
   "metadata": {},
   "source": [
    "What is that object 'identity'? Why are the object value and label not enough?\n",
    "\n",
    "The built-in `id()` function returns the 'identity' of an object. This is an integer which is guaranteed to be unique and constant for this object during its lifetime. Two objects with non-overlapping lifetimes may have the same `id()` value.\n",
    "\n",
    "CPython implementation detail: This is the address of the object in the memory. Don’t treat it as an absolute memory address."
   ]
  },
  {
   "cell_type": "code",
   "execution_count": 124,
   "metadata": {},
   "outputs": [
    {
     "name": "stdout",
     "output_type": "stream",
     "text": [
      "a_string identity: 2253885075984\n",
      "b_string identity: 2253889603984\n"
     ]
    }
   ],
   "source": [
    "a_string = '10 days to departure'\n",
    "b_string = '20 days to departure'\n",
    "\n",
    "print('a_string identity:', id(a_string))\n",
    "print('b_string identity:', id(b_string))\n"
   ]
  },
  {
   "cell_type": "markdown",
   "metadata": {},
   "source": [
    "This function is rarely used in applications. More often you’ll use it to debug the code or to experiment while copying objects. The side effect of this infrequent use is that some developers forget about its existence and create their own variables titled `id` to store some kind of identity or identifier.\n",
    "\n",
    "As a result, a variable called `id` shadows the genuine function and makes it unreachable in the scope in which the variable has been defined. You should remember to avoid such situations!"
   ]
  },
  {
   "cell_type": "markdown",
   "metadata": {},
   "source": [
    "---"
   ]
  },
  {
   "cell_type": "markdown",
   "metadata": {},
   "source": [
    "When you have two variables referring to the same object, the return values of the `id()` function must be the same."
   ]
  },
  {
   "cell_type": "code",
   "execution_count": 125,
   "metadata": {},
   "outputs": [
    {
     "name": "stdout",
     "output_type": "stream",
     "text": [
      "a_string identity: 2253894279616\n",
      "b_string identity: 2253894279616\n"
     ]
    }
   ],
   "source": [
    "a_string = '10 days to departure'\n",
    "b_string = a_string\n",
    "\n",
    "print('a_string identity:', id(a_string))\n",
    "print('b_string identity:', id(b_string))\n"
   ]
  },
  {
   "cell_type": "markdown",
   "metadata": {},
   "source": [
    "---"
   ]
  },
  {
   "cell_type": "markdown",
   "metadata": {},
   "source": [
    "### What is the difference between the `'=='` and `'is'` operators?"
   ]
  },
  {
   "cell_type": "code",
   "execution_count": 126,
   "metadata": {},
   "outputs": [
    {
     "name": "stdout",
     "output_type": "stream",
     "text": [
      "a_string identity: 2253897258760\n",
      "b_string identity: 2253897258760\n",
      "The result of the value comparison: True\n",
      "The result of the identity comparison: True\n",
      "\n",
      "a_string identity: 2253883353160\n",
      "b_string identity: 2253889101000\n",
      "The result of the value comparison: True\n",
      "The result of the identity comparison: False\n"
     ]
    }
   ],
   "source": [
    "\n",
    "a_string = ['10', 'days', 'to', 'departure']\n",
    "b_string = a_string\n",
    "\n",
    "print('a_string identity:', id(a_string))\n",
    "print('b_string identity:', id(b_string))\n",
    "print('The result of the value comparison:', a_string == b_string)\n",
    "print('The result of the identity comparison:', a_string is b_string)\n",
    "\n",
    "print()\n",
    "\n",
    "a_string = ['10', 'days', 'to', 'departure']\n",
    "b_string = ['10', 'days', 'to', 'departure']\n",
    "\n",
    "print('a_string identity:', id(a_string))\n",
    "print('b_string identity:', id(b_string))\n",
    "print('The result of the value comparison:', a_string == b_string)\n",
    "print('The result of the identity comparison:', a_string is b_string)\n"
   ]
  },
  {
   "cell_type": "markdown",
   "metadata": {},
   "source": [
    "---"
   ]
  },
  {
   "cell_type": "markdown",
   "metadata": {},
   "source": [
    "What should you do to compare two objects?\n",
    "\n",
    "In order to compare two objects, you should start with the `'==' `operator as usual. This operator compares the values of both operands and checks for value equality. So here we witness a values comparison.\n",
    "\n",
    "In fact, two distinct objects holding the same values could be compared, and the result would be 'True'. Moreover, when you compare two variables referencing the same object, the result would be also 'True'.\n",
    "\n",
    "To check whether both operands refer to the same object or not, you should use the `'is'` operator. In other words, it responds to the question: “Are both variables referring to the same identity?”"
   ]
  },
  {
   "cell_type": "markdown",
   "metadata": {},
   "source": [
    "![](./images/18_==_is.png)"
   ]
  },
  {
   "cell_type": "markdown",
   "metadata": {},
   "source": [
    "---"
   ]
  },
  {
   "cell_type": "markdown",
   "metadata": {},
   "source": [
    "### Shallow Copy"
   ]
  },
  {
   "cell_type": "markdown",
   "metadata": {},
   "source": [
    "When you process the data, you’ll come to the point where you may want to have distinct copies of objects that you can modify without automatically modifying the original at the same time.\n",
    "\n",
    "Let's have a look at the following code. Its intention is to:\n",
    "\n",
    "- make a real, independent copy of `a_list`, (not just a copy reference). Using `[:]`, which is an array slice syntax, we get a fresh copy of the `a_list` object;\n",
    "- modify the original object;\n",
    "- see the contents of both objects.\n",
    "\n",
    "Pay attention to the code presented in the right pane, of which `a_list` is a compound object (an object that contains other objects, like lists, dictionaries, or class instances)."
   ]
  },
  {
   "cell_type": "code",
   "execution_count": 127,
   "metadata": {},
   "outputs": [
    {
     "name": "stdout",
     "output_type": "stream",
     "text": [
      "Part 1\n",
      "Let's make a copy\n",
      "a_list contents: [10, 'banana', [997, 123]]\n",
      "b_list contents: [10, 'banana', [997, 123]]\n",
      "Is it the same object? False\n",
      "\n",
      "Part 2\n",
      "Let's modify b_list[2]\n",
      "a_list contents: [10, 'banana', [112, 123]]\n",
      "b_list contents: [10, 'banana', [112, 123]]\n",
      "Is it the same object? False\n"
     ]
    }
   ],
   "source": [
    "print(\"Part 1\")\n",
    "print(\"Let's make a copy\")\n",
    "a_list = [10, \"banana\", [997, 123]]\n",
    "b_list = a_list[:]\n",
    "print(\"a_list contents:\", a_list)\n",
    "print(\"b_list contents:\", b_list)\n",
    "print(\"Is it the same object?\", a_list is b_list)\n",
    "\n",
    "print()\n",
    "print(\"Part 2\")\n",
    "print(\"Let's modify b_list[2]\")\n",
    "b_list[2][0] = 112\n",
    "print(\"a_list contents:\", a_list)\n",
    "print(\"b_list contents:\", b_list)\n",
    "print(\"Is it the same object?\", a_list is b_list)\n"
   ]
  },
  {
   "cell_type": "markdown",
   "metadata": {},
   "source": [
    "***So, despite the fact that `b_list` is a copy of `a_list`, modifying `b_list` results in a modification of the `a_list` object.***"
   ]
  },
  {
   "cell_type": "markdown",
   "metadata": {},
   "source": [
    "---"
   ]
  },
  {
   "cell_type": "markdown",
   "metadata": {},
   "source": [
    "The explanation of the behavior presented on the previous page is:\n",
    "\n",
    "- the `'a_list'` object is a compound object;\n",
    "- we’ve run a ***shallow copy*** that constructs a new compound object, `b_list` in our example, and then populated it with references to the objects found in the original;\n",
    "- as you can see, a shallow copy is only one level deep. The copying process does not recurse and therefore does not create copies of the child objects, but instead populates `b_list` with references to the already existing objects.\n"
   ]
  },
  {
   "cell_type": "markdown",
   "metadata": {},
   "source": [
    "![](./images/19_shallow_copy.png)"
   ]
  },
  {
   "cell_type": "markdown",
   "metadata": {},
   "source": [
    "### Deep Copy"
   ]
  },
  {
   "cell_type": "code",
   "execution_count": 128,
   "metadata": {},
   "outputs": [
    {
     "name": "stdout",
     "output_type": "stream",
     "text": [
      "Let's make a deep copy\n",
      "a_list contents: [10, 'banana', [997, 123]]\n",
      "b_list contents: [10, 'banana', [997, 123]]\n",
      "Is it the same object? False\n",
      "\n",
      "Let's modify b_list[2]\n",
      "a_list contents: [10, 'banana', [997, 123]]\n",
      "b_list contents: [10, 'banana', [112, 123]]\n",
      "Is it the same object? False\n"
     ]
    }
   ],
   "source": [
    "import copy\n",
    "\n",
    "print(\"Let's make a deep copy\")\n",
    "a_list = [10, \"banana\", [997, 123]]\n",
    "b_list = copy.deepcopy(a_list)\n",
    "print(\"a_list contents:\", a_list)\n",
    "print(\"b_list contents:\", b_list)\n",
    "print(\"Is it the same object?\", a_list is b_list)\n",
    "\n",
    "print()\n",
    "print(\"Let's modify b_list[2]\")\n",
    "b_list[2][0] = 112\n",
    "print(\"a_list contents:\", a_list)\n",
    "print(\"b_list contents:\", b_list)\n",
    "print(\"Is it the same object?\", a_list is b_list)"
   ]
  },
  {
   "cell_type": "markdown",
   "metadata": {},
   "source": [
    "---"
   ]
  },
  {
   "cell_type": "markdown",
   "metadata": {},
   "source": [
    "If you want to make an independent copy of a compound object (list, dictionary, custom class instance) you should make use of deep copy, which:\n",
    "\n",
    "- constructs a new compound object and then, recursively, inserts copies into it of the objects found in the original;\n",
    "- takes more time to complete, as there are many more operations to be performed;\n",
    "- is implemented by the `deepcopy()` function, delivered by the python 'copy' module\n",
    "\n",
    "The general idea should be depicted like this:"
   ]
  },
  {
   "cell_type": "markdown",
   "metadata": {},
   "source": [
    "![](./images/20_shallow_copy_and_deep_copy.png)"
   ]
  },
  {
   "cell_type": "markdown",
   "metadata": {},
   "source": [
    "A code creating an independent copy of the `a_list` object should look like the code presented in the right pane.\n",
    "\n",
    "The graphical representation should look like the following:"
   ]
  },
  {
   "cell_type": "markdown",
   "metadata": {},
   "source": [
    "![](./images/21_deep_copy.png)"
   ]
  },
  {
   "cell_type": "markdown",
   "metadata": {},
   "source": [
    "The 'copy' module contains a function for shallow copying: `copy()`. Of course, you could say that for copying lists there is already the `[:]` notation, or `a_list=list(b_list)`, and for dictionaries you could use `a_dict = dict(b_dict)`.\n",
    "\n",
    "But think about making use of polymorphism when you need a universal function to copy any type object, so that in that case using a `copy()` function is the smart way to accomplish the task.\n"
   ]
  },
  {
   "cell_type": "markdown",
   "metadata": {},
   "source": [
    "### 4.1.1.9 Performance of the `deepcopy()` function"
   ]
  },
  {
   "cell_type": "markdown",
   "metadata": {},
   "source": [
    "In the following example, we'll compare the performance of three ways of copying a large compound object (a million three-element tuples)."
   ]
  },
  {
   "cell_type": "markdown",
   "metadata": {},
   "source": [
    "The first approach is a simple reference copy. This is done very quickly, as there’s nearly nothing to be done by the CPU – just a copy of a reference to 'a_list'.\n",
    "\n",
    "The second approach is a shallow copy. This is slower than the previous code, as there are 1,000,000 references (not objects) created.\n",
    "\n",
    "The third approach is a deep copy. This is the most comprehensive operation, as there are 3,000,000 objects created.\n",
    "\n",
    "Test it locally on your computer."
   ]
  },
  {
   "cell_type": "code",
   "execution_count": 129,
   "metadata": {},
   "outputs": [
    {
     "name": "stdout",
     "output_type": "stream",
     "text": [
      "Single reference copy\n",
      "Execution time: 0.0\n",
      "Memory chunks: 2253897336520 2253897336520\n",
      "Same memory chunk? True\n",
      "\n",
      "Shallow copy\n",
      "Execution time: 0.002\n",
      "Memory chunks: 2253897336520 2253897258760\n",
      "Same memory chunk? False\n",
      "\n",
      "Deep copy\n",
      "Execution time: 2.358\n",
      "Memory chunks: 2253897336520 2253883923784\n",
      "Same memory chunk? False\n"
     ]
    }
   ],
   "source": [
    "import copy\n",
    "import time\n",
    "\n",
    "a_list = [(1,2,3) for x in range(1_000_000)]\n",
    "\n",
    "print('Single reference copy')\n",
    "time_start = time.time()\n",
    "b_list = a_list\n",
    "print('Execution time:', round(time.time() - time_start, 3))\n",
    "print('Memory chunks:', id(a_list), id(b_list))\n",
    "print('Same memory chunk?', a_list is b_list)\n",
    "\n",
    "print()\n",
    "\n",
    "print('Shallow copy')\n",
    "time_start = time.time()\n",
    "b_list = a_list[:]\n",
    "print('Execution time:', round(time.time() - time_start, 3))\n",
    "print('Memory chunks:', id(a_list), id(b_list))\n",
    "print('Same memory chunk?', a_list is b_list)\n",
    "\n",
    "print()\n",
    "\n",
    "print('Deep copy')\n",
    "time_start = time.time()\n",
    "b_list = copy.deepcopy(a_list)\n",
    "print('Execution time:', round(time.time() - time_start, 3))\n",
    "print('Memory chunks:', id(a_list), id(b_list))\n",
    "print('Same memory chunk?', a_list is b_list)\n"
   ]
  },
  {
   "cell_type": "markdown",
   "metadata": {},
   "source": [
    "### 4.1.1.10 Deep copy of other compounds"
   ]
  },
  {
   "cell_type": "markdown",
   "metadata": {},
   "source": [
    "The same `deepcopy()` method could be utilized when you want to copy dictionaries or custom class objects."
   ]
  },
  {
   "cell_type": "code",
   "execution_count": 130,
   "metadata": {},
   "outputs": [
    {
     "name": "stdout",
     "output_type": "stream",
     "text": [
      "Memory chunks: 2253894282360 2253894281640\n",
      "Same memory chunk? False\n",
      "Let's modify the movies list\n",
      "a_dict movies: ['Goldfinger (1964)', 'You Only Live Twice', 'Diamonds Are Forever (1971)']\n",
      "b_dict movies: ['Goldfinger (1964)', 'You Only Live Twice']\n"
     ]
    }
   ],
   "source": [
    "import copy\n",
    "\n",
    "a_dict = {\n",
    "    'first name': 'James',\n",
    "    'last name': 'Bond',\n",
    "    'movies': ['Goldfinger (1964)', 'You Only Live Twice']\n",
    "    }\n",
    "b_dict = copy.deepcopy(a_dict)\n",
    "print('Memory chunks:', id(a_dict), id(b_dict))\n",
    "print('Same memory chunk?', a_dict is b_dict)\n",
    "print(\"Let's modify the movies list\")\n",
    "a_dict['movies'].append('Diamonds Are Forever (1971)')\n",
    "print('a_dict movies:', a_dict['movies'])\n",
    "print('b_dict movies:', b_dict['movies'])\n"
   ]
  },
  {
   "cell_type": "markdown",
   "metadata": {},
   "source": [
    "---"
   ]
  },
  {
   "cell_type": "markdown",
   "metadata": {},
   "source": [
    "The code in the editor copies the dictionary in a safe manner.\n",
    "\n",
    "Pay attention to the fact that the __init__() method is executed only once, despite the fact we own two instances of the example class.\n",
    "\n",
    "This method is not executed for the b_example object as the deepcopy function copies an already initialized object."
   ]
  },
  {
   "cell_type": "code",
   "execution_count": 131,
   "metadata": {},
   "outputs": [
    {
     "name": "stdout",
     "output_type": "stream",
     "text": [
      "Hello from __init__()\n",
      "Memory chunks: 2253889097800 2253889099912\n",
      "Same memory chunk? False\n",
      "\n",
      "Let's modify the movies list\n",
      "a_example.properties: ['112', '997']\n",
      "b_example.properties: ['112', '997', '911']\n"
     ]
    }
   ],
   "source": [
    "import copy\n",
    "\n",
    "class Example:\n",
    "    def __init__(self):\n",
    "        self.properties = [\"112\", \"997\"]\n",
    "        print(\"Hello from __init__()\")\n",
    "\n",
    "a_example = Example()\n",
    "b_example = copy.deepcopy(a_example)\n",
    "print(\"Memory chunks:\", id(a_example), id(b_example))\n",
    "print(\"Same memory chunk?\", a_example is b_example)\n",
    "print()\n",
    "print(\"Let's modify the movies list\")\n",
    "b_example.properties.append(\"911\")\n",
    "print('a_example.properties:', a_example.properties)\n",
    "print('b_example.properties:', b_example.properties)\n"
   ]
  },
  {
   "cell_type": "markdown",
   "metadata": {},
   "source": [
    "---"
   ]
  },
  {
   "cell_type": "markdown",
   "metadata": {},
   "source": [
    "### 4.1.1.12 LAB #1"
   ]
  },
  {
   "cell_type": "markdown",
   "metadata": {},
   "source": [
    "### Estimated time\n",
    "15 minutes\n",
    "\n",
    "### Level of difficulty\n",
    "Low\n",
    "\n",
    "### Objectives\n",
    "improving the student's skills in operating with the deepcopy() method on a list of dictionaries.\n",
    "\n",
    "### Scenario\n",
    "**Introduction**\n",
    "Imagine you have been hired to help run a candy warehouse.\n",
    "\n",
    "**The task**\n",
    "1. Your task is to write a code that will prepare a proposal of reduced prices for the candies whose total weight exceeds 300 units of weight (we don’t care whether those are kilograms or pounds)\n",
    "2. Your input is a list of dictionaries; each dictionary represents one type of candy. Each type of candy contains a key entitled 'weight', which should lead you to the total weight details of the given delicacy. The input is presented in the editor;\n",
    "3. Prepare a copy of the source list (this should be done with a one-liner) and then iterate over it to reduce the price of each delicacy by 20% if its weight exceeds the value of 300;\n",
    "4. Present an original list of candies and a list that contains the proposals;\n",
    "5. Check if your code works correctly when copying and modifying the candy item details."
   ]
  },
  {
   "cell_type": "code",
   "execution_count": 132,
   "metadata": {},
   "outputs": [
    {
     "name": "stdout",
     "output_type": "stream",
     "text": [
      "Source list of candies\n",
      "{'name': 'Lolly Pop', 'price': 0.4, 'weight': 133}\n",
      "{'name': 'Licorice', 'price': 0.1, 'weight': 251}\n",
      "{'name': 'Chocolate', 'price': 1, 'weight': 601}\n",
      "{'name': 'Sours', 'price': 0.01, 'weight': 513}\n",
      "{'name': 'Hard candies', 'price': 0.3, 'weight': 433}\n",
      "******************\n",
      "\n",
      "Price proposal\n",
      "{'name': 'Lolly Pop', 'price': 0.4, 'weight': 133}\n",
      "{'name': 'Licorice', 'price': 0.1, 'weight': 251}\n",
      "{'name': 'Chocolate', 'price': 0.8, 'weight': 601}\n",
      "{'name': 'Sours', 'price': 0.008, 'weight': 513}\n",
      "{'name': 'Hard candies', 'price': 0.24, 'weight': 433}\n"
     ]
    }
   ],
   "source": [
    "import copy\n",
    "\n",
    "warehouse = list()\n",
    "warehouse.append({'name': 'Lolly Pop', 'price': 0.4, 'weight': 133})\n",
    "warehouse.append({'name': 'Licorice', 'price': 0.1, 'weight': 251})\n",
    "warehouse.append({'name': 'Chocolate', 'price': 1, 'weight': 601})\n",
    "warehouse.append({'name': 'Sours', 'price': 0.01, 'weight': 513})\n",
    "warehouse.append({'name': 'Hard candies', 'price': 0.3, 'weight': 433})\n",
    "\n",
    "print('Source list of candies')\n",
    "for item in warehouse:\n",
    "    print(item)\n",
    "\n",
    "print('******************\\n')\n",
    "print('Price proposal')\n",
    "proposal = copy.deepcopy(warehouse)\n",
    "for item in proposal:\n",
    "    if item['weight'] > 300:\n",
    "        item['price'] *= (1-0.2)\n",
    "    print(item)\n"
   ]
  },
  {
   "cell_type": "markdown",
   "metadata": {},
   "source": [
    "### 4.1.1.13 LAB #2"
   ]
  },
  {
   "cell_type": "markdown",
   "metadata": {},
   "source": [
    "### Estimated time\n",
    "15 minutes\n",
    "\n",
    "### Level of difficulty\n",
    "Medium\n",
    "\n",
    "### Objectives\n",
    "improving the student's skills in creating classes representing candies;\n",
    "improving the student's skills in operating with deepcopy() and copy.\n",
    "\n",
    "### Scenario\n",
    "The previous task was a very easy one. Now let's rework the code a bit:\n",
    "\n",
    "1. introduce the `Delicacy` class to represent a generic delicacy. The objects of this class will replace the old school dictionaries. Suggested attribute names: name, price, weight;\n",
    "2. your class should implement the `__str__()` method to represent each object state;\n",
    "3. experiment with the `copy.copy()` and `copy.deepcopy()` methods to see the difference in how each method copies objects .\n"
   ]
  },
  {
   "cell_type": "code",
   "execution_count": 133,
   "metadata": {},
   "outputs": [
    {
     "name": "stdout",
     "output_type": "stream",
     "text": [
      "Source list of candies\n",
      "Lolly Pop's price is 0.4, weight is 133\n",
      "Licorice's price is 0.1, weight is 251\n",
      "Chocolate's price is 1, weight is 601\n",
      "Sours's price is 0.01, weight is 513\n",
      "Hard Candies's price is 0.3, weight is 433\n",
      "******************\n",
      "\n",
      "Deep copy => Price proposal\n",
      "Lolly Pop's price is 0.4, weight is 133\n",
      "Licorice's price is 0.1, weight is 251\n",
      "Chocolate's price is 0.8, weight is 601\n",
      "Sours's price is 0.008, weight is 513\n",
      "Hard Candies's price is 0.24, weight is 433\n",
      "******************\n",
      "\n",
      "Shallow copy => Price proposal\n",
      "Lolly Pop's price is 0.4, weight is 133\n",
      "Licorice's price is 0.1, weight is 251\n",
      "Chocolate's price is 0.8, weight is 601\n",
      "Sours's price is 0.008, weight is 513\n",
      "Hard Candies's price is 0.24, weight is 433\n"
     ]
    }
   ],
   "source": [
    "import copy\n",
    "\n",
    "class Delicacy:\n",
    "    def __init__(self, name, price, weight):\n",
    "        self.name = name\n",
    "        self.price = price\n",
    "        self.weight = weight\n",
    "        \n",
    "    def __str__(self):\n",
    "        return \"{}\\'s price is {}, weight is {}\".format(self.name, self.price, self.weight)\n",
    "    \n",
    "LollyPop = Delicacy('Lolly Pop', 0.4, 133)\n",
    "Licorice = Delicacy('Licorice', 0.1, 251)\n",
    "Chocolate = Delicacy('Chocolate', 1, 601)\n",
    "Sours = Delicacy('Sours', 0.01, 513)\n",
    "HardCandies = Delicacy('Hard Candies', 0.3, 433)\n",
    "\n",
    "warehouse = [LollyPop, Licorice, Chocolate, Sours, HardCandies]\n",
    "print('Source list of candies')\n",
    "for item in warehouse:\n",
    "    print(item)\n",
    "\n",
    "    \n",
    "print('******************\\n')\n",
    "print('Deep copy => Price proposal')\n",
    "proposal_deep = copy.deepcopy(warehouse)\n",
    "for item in proposal_deep:\n",
    "    if item.weight > 300:\n",
    "        item.price *= (1-0.2)\n",
    "    print(item)\n",
    "    \n",
    "print('******************\\n')\n",
    "print('Shallow copy => Price proposal')\n",
    "proposal_shallow = copy.copy(warehouse)\n",
    "for item in proposal_shallow:\n",
    "    if item.weight > 300:\n",
    "        item.price *= (1-0.2)\n",
    "    print(item) \n",
    "    "
   ]
  },
  {
   "cell_type": "markdown",
   "metadata": {},
   "source": [
    "### 4.1.1.14 Summary"
   ]
  },
  {
   "cell_type": "markdown",
   "metadata": {},
   "source": [
    "### Section summary\n",
    "Important things to remember:\n",
    "\n",
    "- the `deepcopy()` method creates and persists new instances of source objects, whereas any shallow copy operation only stores references to the original memory address;\n",
    "- a deep copy operation takes significantly more time than any shallow copy operation;\n",
    "- the `deepcopy()` method copies the whole object, including all nested objects; it’s an example of practical recursion taking place;\n",
    "- deep copy might cause problems when there are cyclic references in the structure to be copied.\n"
   ]
  },
  {
   "cell_type": "markdown",
   "metadata": {},
   "source": [
    "### 4.2.1.1 Serialization of Python objects using the pickle module"
   ]
  },
  {
   "cell_type": "markdown",
   "metadata": {},
   "source": [
    "### Serialization of Python objects using the pickle module"
   ]
  },
  {
   "cell_type": "markdown",
   "metadata": {},
   "source": [
    "In this section, you will learn how to persist Python objects for later use.\n",
    "\n",
    "**Pickling** is the process of preserving or extending the lifespan of food. The resulting food is called a pickle, and to prevent ambiguity, prefaced with the 'pickled' adjective."
   ]
  },
  {
   "cell_type": "markdown",
   "metadata": {},
   "source": [
    "![](./images/22_pickle.png)"
   ]
  },
  {
   "cell_type": "markdown",
   "metadata": {},
   "source": [
    "Have you ever considered saving the output of your data processing for later use?\n",
    "\n",
    "The simplest way to persist outcomes is to generate a flat text file and to write your outcomes. It’s a very simple thing to do way which is not suitable for persisting sets of different types of objects or nested structures.\n",
    "\n",
    "In Python, object **serialization** is the process of converting an object structure into a stream of bytes to store the object in a file or database, or to transmit it via a network. This byte stream contains all the information necessary to reconstruct the object in another Python script.\n",
    "\n",
    "This reverse process is called **deserialization**.\n",
    "\n",
    "Python objects can also be serialized using a module called 'pickle', and using this module, you can 'pickle' your Python objects for later use.\n",
    "\n",
    "The 'pickle' module is a very popular and convinient module for data serialization in the world of Pythonistas.\n",
    "\n",
    "So, what can be pickled and then unpickled?\n",
    "\n",
    "The following types can be pickled:\n",
    "\n",
    "- None, booleans;\n",
    "- integers, floating-point numbers, complex numbers;\n",
    "- strings, bytes, bytearrays;\n",
    "- tuples, lists, sets, and dictionaries containing pickleable objects;\n",
    "- objects, including objects with references to other objects (remember to avoid cycles!)\n",
    "- references to functions and classes, but not their definitions."
   ]
  },
  {
   "cell_type": "markdown",
   "metadata": {},
   "source": [
    "---"
   ]
  },
  {
   "cell_type": "markdown",
   "metadata": {},
   "source": [
    "Let's pickle our first set of data consisting of:\n",
    "\n",
    "- a nested dictionary carrying some information about currencies;\n",
    "- a list containing a string, an integer, and a list."
   ]
  },
  {
   "cell_type": "code",
   "execution_count": 134,
   "metadata": {},
   "outputs": [],
   "source": [
    "import pickle\n",
    "\n",
    "a_dict = dict()\n",
    "a_dict['EUR'] = {'code':'Euro', 'symbol': '€'}\n",
    "a_dict['GBP'] = {'code':'Pounds sterling', 'symbol': '£'}\n",
    "a_dict['USD'] = {'code':'US dollar', 'symbol': '$'}\n",
    "a_dict['JPY'] = {'code':'Japanese yen', 'symbol': '¥'}\n",
    "\n",
    "a_list = ['a', 123, [10, 100, 1000]]\n",
    "\n",
    "with open('multidata.pckl', 'wb') as file_out:\n",
    "    pickle.dump(a_dict, file_out)\n",
    "    pickle.dump(a_list, file_out)\n"
   ]
  },
  {
   "cell_type": "markdown",
   "metadata": {},
   "source": [
    "When you run the code presented in the right pane, a new file should be created. Remember to run the code locally.\n",
    "\n",
    "The code starts with the import statement responsible for loading the pickle module:\n",
    "\n",
    "`import pickle`\n",
    "\n",
    "\n",
    "Later you can see that the file handle 'file_out' is associated with the file opened for writing in binary mode. It’s important to open the file in binary mode as we are dumping data as a stream of bytes.\n",
    "\n",
    "`with open('multidata.pckl', 'wb') as file_out:`\n",
    "\n",
    "\n",
    "Now it’s time to persist the first object with the dump() function. This function expects an object to be persisted and a file handle.\n",
    "\n",
    "`pickle.dump(a_dict, file_out)`\n",
    "\n",
    "\n",
    "And the second object is persisted in the same way:\n",
    "\n",
    "`pickle.dump(a_list, file_out)`\n",
    "\n",
    "\n",
    "In this result, we have created a file that retains the pickled objects."
   ]
  },
  {
   "cell_type": "markdown",
   "metadata": {},
   "source": [
    "---"
   ]
  },
  {
   "cell_type": "markdown",
   "metadata": {},
   "source": [
    "Now it’s time to unpickle the contents of the file.\n",
    "\n",
    "The presented code is quite simple:\n",
    "\n",
    "- we’re importing a pickle module;\n",
    "- the file is opened in binary mode and the file handle is associated with the file;\n",
    "- we consecutively read some portions of data and deserialize it with the load() function;\n",
    "- finally, we examine the type and contents of the objects.\n",
    "\n",
    "Pay attention to the fact that with the 'pickle' module, you have to remember the order in which the objects were persisted and the deserialization code should follow the same order."
   ]
  },
  {
   "cell_type": "code",
   "execution_count": 135,
   "metadata": {},
   "outputs": [
    {
     "name": "stdout",
     "output_type": "stream",
     "text": [
      "<class 'dict'>\n",
      "{'EUR': {'code': 'Euro', 'symbol': '€'}, 'GBP': {'code': 'Pounds sterling', 'symbol': '£'}, 'USD': {'code': 'US dollar', 'symbol': '$'}, 'JPY': {'code': 'Japanese yen', 'symbol': '¥'}}\n",
      "<class 'list'>\n",
      "['a', 123, [10, 100, 1000]]\n"
     ]
    }
   ],
   "source": [
    "import pickle\n",
    "\n",
    "with open('multidata.pckl', 'rb') as file_in:\n",
    "    data1 = pickle.load(file_in)\n",
    "    data2 = pickle.load(file_in)\n",
    "\n",
    "print(type(data1))\n",
    "print(data1)\n",
    "print(type(data2))\n",
    "print(data2)\n"
   ]
  },
  {
   "cell_type": "markdown",
   "metadata": {},
   "source": [
    "---"
   ]
  },
  {
   "cell_type": "markdown",
   "metadata": {},
   "source": [
    "At the beginning of the serialization module, we mentioned that serialized objects could be persisted in a database or sent via a network. This implies another two functions corresponding to the `pickle.dumps()` and `pickle.loads()` functions:\n",
    "\n",
    "- `pickle.dumps(object_to_be_pickled)` – expects an initial object, returns a byte object. This byte object should be passed to a database or network driver to persist the data;\n",
    "- `pickle.loads(bytes_object)` – expects the bytes object, returns the initial object."
   ]
  },
  {
   "cell_type": "code",
   "execution_count": 136,
   "metadata": {},
   "outputs": [
    {
     "name": "stdout",
     "output_type": "stream",
     "text": [
      "Intermediate object type, used to preserve data: <class 'bytes'>\n",
      "A type of deserialized object: <class 'list'>\n",
      "Contents: ['a', 123, [10, 100, 1000]]\n"
     ]
    }
   ],
   "source": [
    "import pickle\n",
    "\n",
    "a_list = ['a', 123, [10, 100, 1000]]\n",
    "bytes = pickle.dumps(a_list)\n",
    "print('Intermediate object type, used to preserve data:', type(bytes))\n",
    "\n",
    "# now pass 'bytes' to appropriate driver\n",
    "\n",
    "# therefore when you receive a bytes object from an appropriate driver you can deserialize it\n",
    "b_list = pickle.loads(bytes)\n",
    "print('A type of deserialized object:', type(b_list))\n",
    "print('Contents:', b_list)\n"
   ]
  },
  {
   "cell_type": "markdown",
   "metadata": {},
   "source": [
    "---"
   ]
  },
  {
   "cell_type": "markdown",
   "metadata": {},
   "source": [
    "Remember that attempts to pickle non-pickleable objects will raise the `PicklingError` exception.\n",
    "\n",
    "Trying to pickle a highly recursive data structure (mind the cycles) may exceed the maximum recursion depth, and a `RecursionError` exception will be raised in such cases.\n",
    "\n",
    "Note that functions (both built-in and user-defined) are pickled by their name reference, not by any value. This means that only the function name is pickled; neither the function’s code, nor any of its function attributes, are pickled.\n",
    "\n",
    "Similarly, classes are pickled by named reference, so the same restrictions in the unpickling environment apply. Note that none of the class’s code or data are pickled.\n",
    "\n",
    "This is done on purpose, so you can fix bugs in a class or add methods to the class, and still load objects that were created with an earlier version of the class.\n",
    "\n",
    "Hence, your role is to ensure that the environment where the class or function is unpickled is able to import the class or function definition. In other words, the function or class must be available in the namespace of your code reading the pickle file.\n",
    "\n",
    "Otherwise, an `AtrributeError` exception will be raised.\n",
    "\n"
   ]
  },
  {
   "cell_type": "markdown",
   "metadata": {},
   "source": [
    "---"
   ]
  },
  {
   "cell_type": "markdown",
   "metadata": {},
   "source": [
    "The following code demonstrates the situation for function definition pickling:"
   ]
  },
  {
   "cell_type": "code",
   "execution_count": 137,
   "metadata": {},
   "outputs": [],
   "source": [
    "import pickle\n",
    "\n",
    "def f1():\n",
    "    print('Hello from the jar!')\n",
    "\n",
    "with open('function.pckl', 'wb') as file_out:\n",
    "    pickle.dump(f1, file_out)"
   ]
  },
  {
   "cell_type": "markdown",
   "metadata": {},
   "source": [
    "We see no errors, so we might conclude that f1() was pickled successfully, and now we can retrieve it from the file.\n",
    "\n",
    "Run the code in the editor and see what happens.\n",
    "\n",
    "Unfortunately, the result proves that no code was persisted:"
   ]
  },
  {
   "cell_type": "code",
   "execution_count": null,
   "metadata": {},
   "outputs": [],
   "source": [
    "import pickle\n",
    "\n",
    "with open('function.pckl', 'rb') as file_in:\n",
    "    data = pickle.load(file_in)\n",
    "\n",
    "print(type(data))\n",
    "print(data)\n",
    "data()"
   ]
  },
  {
   "cell_type": "markdown",
   "metadata": {},
   "source": [
    "Traceback (most recent call last):\n",
    "\n",
    "  File \"main.py\", line 4, in <module>\n",
    "    \n",
    "    data = pickle.load(file_in)\n",
    "    \n",
    "AttributeError: Can't get attribute 'f1' on <module '__main__' from 'main.py'>"
   ]
  },
  {
   "cell_type": "markdown",
   "metadata": {},
   "source": [
    "---"
   ]
  },
  {
   "cell_type": "markdown",
   "metadata": {},
   "source": [
    "Here’s the same example regarding class definition and object pickling:"
   ]
  },
  {
   "cell_type": "code",
   "execution_count": null,
   "metadata": {},
   "outputs": [],
   "source": [
    "import pickle\n",
    "\n",
    "class Cucumber:\n",
    "    def __init__(self):\n",
    "        self.size = 'small'\n",
    "\n",
    "    def get_size(self):\n",
    "        return self.size\n",
    "\n",
    "cucu = Cucumber()\n",
    "\n",
    "with open('cucumber.pckl', 'wb') as file_out:\n",
    "    pickle.dump(cucu, file_out)"
   ]
  },
  {
   "cell_type": "markdown",
   "metadata": {},
   "source": [
    "We see no errors, so we might conclude that the `Cucumber` class and object were pickled successfully, and now we can retrieve them from the file. In fact, only the object is persisted but not its definition allowing us to determine the attribute layout:"
   ]
  },
  {
   "cell_type": "code",
   "execution_count": null,
   "metadata": {},
   "outputs": [],
   "source": [
    "import pickle\n",
    "\n",
    "with open('cucumber.pckl', 'rb') as file_in:\n",
    "    data = pickle.load(file_in)\n",
    "\n",
    "print(type(data))\n",
    "print(data)\n",
    "print(data.size)\n",
    "print(data.get_size())"
   ]
  },
  {
   "cell_type": "markdown",
   "metadata": {},
   "source": [
    "If you run the code, you receive:\n",
    "```\n",
    "Traceback (most recent call last):\n",
    "  File \"main.py\", line 4, in <module>\n",
    "    data = pickle.load(file_in)\n",
    "AttributeError: Can't get attribute 'Cucumber' on <module '__main__' from 'main.py'>\n",
    "```"
   ]
  },
  {
   "cell_type": "markdown",
   "metadata": {},
   "source": [
    "The remedy for the above problems is: the code that calls the `load()` or `loads()` functions of `pickle` should already know the function/class definition."
   ]
  },
  {
   "cell_type": "markdown",
   "metadata": {},
   "source": [
    "---"
   ]
  },
  {
   "cell_type": "markdown",
   "metadata": {},
   "source": [
    "A few additional words about the pickle module:\n",
    "\n",
    "- it’s a Python implementation of the serialization process, so the pickled data cannot be exchanged with programs written in other languages like Java or C++. In such cases, you should think about the JSON or XML formats, which could be less convenient than pickling, but when assimilated are more powerful than pickling;\n",
    "- the pickle module is constantly evolving, so the binary format may differ between different versions of Python. Pay attention that both serializing and deserializing parties are making use of the same pickle versions;\n",
    "- the pickle module is not secured against erroneous or maliciously constructed data. Never unpickle data received from an untrusted or unauthenticated source.\n"
   ]
  },
  {
   "cell_type": "markdown",
   "metadata": {},
   "source": [
    "### Serialization of Python objects using the shelve module"
   ]
  },
  {
   "cell_type": "markdown",
   "metadata": {},
   "source": [
    "As you remember, the pickle module is used for serializing objects as a single byte stream. Both serializing and deserializing parties must abide by the order of all the elements placed into a file or database, or sent via a network.\n",
    "\n",
    "There is another handy module, called shelve, that is built on top of pickle, and implements a **serialization dictionary** where objects are pickled and associated with a key. The keys must be ordinary strings, because the underlying database **(dbm)** requires strings.\n",
    "\n",
    "Therefore, you can open your shelved data file and access your pickled objects via the keys the way you do when you access Python dictionaries. This could be more convenient for you when you’re serializing many objects.\n",
    "\n",
    "Sound familiar? An analogy to the rack with shelves in the pantry is a correct one. Looks delicious, doesn’t it?"
   ]
  },
  {
   "cell_type": "markdown",
   "metadata": {},
   "source": [
    "![](./images/23_shelve.png)"
   ]
  },
  {
   "cell_type": "markdown",
   "metadata": {},
   "source": [
    "---"
   ]
  },
  {
   "cell_type": "markdown",
   "metadata": {},
   "source": [
    "Using shelve is quite easy and intuitive.\n",
    "\n",
    "First, let's import the appropriate module and create an object representing a file-based database:"
   ]
  },
  {
   "cell_type": "code",
   "execution_count": 138,
   "metadata": {},
   "outputs": [
    {
     "name": "stdout",
     "output_type": "stream",
     "text": [
      "{'code': 'US dollar', 'symbol': '$'}\n"
     ]
    }
   ],
   "source": [
    "# First, let's import the appropriate module and \n",
    "# create an object representing a file-based database:\n",
    "import shelve\n",
    "\n",
    "shelve_name = 'first_shelve.shlv'\n",
    "\n",
    "# Now our shelve object is ready for action, \n",
    "# so let's insert a few items and close the shelve object.\n",
    "my_shelve = shelve.open(shelve_name, flag='c')\n",
    "my_shelve['EUR'] = {'code':'Euro', 'symbol': '€'}\n",
    "my_shelve['GBP'] = {'code':'Pounds sterling', 'symbol': '£'}\n",
    "my_shelve['USD'] = {'code':'US dollar', 'symbol': '$'}\n",
    "my_shelve['JPY'] = {'code':'Japanese yen', 'symbol': '¥'}\n",
    "my_shelve.close()\n",
    "\n",
    "# Now let's open the shelve file to demonstrate direct access to the elements \n",
    "# (contrary to the sequential access to items when we use pickles).\n",
    "new_shelve = shelve.open(shelve_name)\n",
    "print(new_shelve['USD'])\n",
    "new_shelve.close()\n"
   ]
  },
  {
   "cell_type": "markdown",
   "metadata": {},
   "source": [
    "The meaning of the optional flag parameter:"
   ]
  },
  {
   "cell_type": "markdown",
   "metadata": {},
   "source": [
    "![](./images/24_shelve_flag.png)"
   ]
  },
  {
   "cell_type": "markdown",
   "metadata": {},
   "source": [
    "---"
   ]
  },
  {
   "cell_type": "markdown",
   "metadata": {},
   "source": [
    "You should treat a shelve object as a Python dictionary, with a few additional notes:\n",
    "\n",
    "- the keys must be strings;\n",
    "- Python puts the changes in a buffer which is periodically flushed to the disk. To enforce an immediate flush, call the sync() method on your shelve object;\n",
    "- when you call the `close()` method on an shelve object, it also flushes the buffers.\n",
    "\n",
    "When you treat a shelve object like a Python dictionary, you can make use of the dictionary utilities:\n",
    "\n",
    "- the `len()` function;`\n",
    "- the `in` operator;\n",
    "- the `keys()` and `items()` methods;\n",
    "- the `update` operation, which works the same as when applied to a Python dictionary;\n",
    "- the `del` instruction, used to delete a key-value pair."
   ]
  },
  {
   "cell_type": "markdown",
   "metadata": {},
   "source": [
    "### 5.1.1.1 Metaprogramming"
   ]
  },
  {
   "cell_type": "markdown",
   "metadata": {},
   "source": [
    "### Introduction to metaclasses"
   ]
  },
  {
   "cell_type": "markdown",
   "metadata": {},
   "source": [
    "Metaprogramming is a programming technique in which computer programs have the ability to modify their own or other programs’ codes. It may sound like an idea from a science fiction story, but the idea was born and implemented in the early 1960s.\n",
    "\n",
    "For Python, code modifications can occure while the code is being executed, and you might have already experienced it while implementing decorators, overriding operators, or even implementing the properties protocol.\n",
    "\n",
    "It may look like syntactic sugar, because in many cases metaprogramming allows programmers to minimize the number of lines of code to express a solution, in turn reducing development time.\n",
    "\n",
    "But the truth is that this technique could be used for tool preparation; those tools could be applied to your code to make it follow specific programming patterns, or to help you create a coherent API (Application Programming Interface).\n",
    "\n",
    "Another example of metaprogramming is the `metaclass` concept, which is one of the most advanced concepts presented in this course."
   ]
  },
  {
   "cell_type": "markdown",
   "metadata": {},
   "source": [
    "Tim Peters, the Python guru who authored the Zen of Python, expressed his feelings about metaclasses in the comp.lang.python newsgroup on 12/22/2002:\n",
    "\n",
    "> \\[metaclasses\\] are deeper magic than 99% of users should ever worry about. If you wonder whether you need them, you don't (the people who actually need them know with certainty that they need them, and don't need an explanation about why).\n",
    "\n",
    "Don’t worry, we'll touch on the “deeper magic” in a benign way. Understanding Python metaclasses is worthwhile, because it leads to a better understanding of what is happening under Python's hood when classes are created."
   ]
  },
  {
   "cell_type": "markdown",
   "metadata": {},
   "source": [
    "---"
   ]
  },
  {
   "cell_type": "markdown",
   "metadata": {},
   "source": [
    "In Python, a metaclass is a class whose instances are classes. Just as an ordinary class defines the behavior of certain objects, a metaclass allows for the customization of class instantiation.\n",
    "\n",
    "The functionality of the metaclass partly coincides with that of class decorators, but metaclasses act in a different way than decorators:\n",
    "\n",
    "- decorators bind the names of decorated functions or classes to new callable objects. Class decorators are applied when classes are instantiated;\n",
    "- metaclasses redirect class instantiations to dedicated logic, contained in metaclasses. Metaclasses are applied when class definitions are read to create classes, well before classes are instantiated.\n"
   ]
  },
  {
   "cell_type": "markdown",
   "metadata": {},
   "source": [
    "Metaclasses usually enter the game when we program advanced modules or frameworks, where a lot of precise automation must be provided.\n",
    "\n",
    "The typical use cases for metaclasses:\n",
    "\n",
    "- logging;\n",
    "- registering classes at creation time;\n",
    "- interface checking;\n",
    "- automatically adding new methods;\n",
    "- automatically adding new variables.\n"
   ]
  },
  {
   "cell_type": "markdown",
   "metadata": {},
   "source": [
    "### 5.1.1.3 Metaprogramming – what type is a class?"
   ]
  },
  {
   "cell_type": "markdown",
   "metadata": {},
   "source": [
    "In Python's approach, everything is an object, and every object has some type associated with it. To get the type of any object, make use of the `type()` function."
   ]
  },
  {
   "cell_type": "code",
   "execution_count": 24,
   "metadata": {},
   "outputs": [
    {
     "name": "stdout",
     "output_type": "stream",
     "text": [
      "<class 'int'>\n",
      "<class 'list'>\n",
      "<class '__main__.Dog'>\n",
      "<class 'type'>\n"
     ]
    }
   ],
   "source": [
    "class Dog:\n",
    "    pass\n",
    "\n",
    "\n",
    "age = 10\n",
    "codes = [33, 92]\n",
    "dog = Dog()\n",
    "\n",
    "print(type(age))\n",
    "print(type(codes))\n",
    "print(type(dog))\n",
    "print(type(Dog))"
   ]
  },
  {
   "cell_type": "markdown",
   "metadata": {},
   "source": [
    "We can see that objects in Python are defined by their inherent classes.\n",
    "\n",
    "The example also shows that we can create our own classes, and those classes will be instances of the ***type*** special class, which is the default metaclass responsible for creating classes.\n",
    "\n",
    "Let's perform one more experiment that will respond to the question: what type of objects are built-in classes and the metaclass `type`?"
   ]
  },
  {
   "cell_type": "code",
   "execution_count": 25,
   "metadata": {},
   "outputs": [
    {
     "name": "stdout",
     "output_type": "stream",
     "text": [
      "<class 'type'>\n",
      "<class 'type'>\n",
      "<class 'type'>\n"
     ]
    }
   ],
   "source": [
    "for t in (int, list, type):\n",
    "    print(type(t))"
   ]
  },
  {
   "cell_type": "markdown",
   "metadata": {},
   "source": [
    "These observations lead us to the following conclusions:\n",
    "\n",
    "- metaclasses are used to create classes;\n",
    "- classes are used to create objects;\n",
    "- the type of the metaclass `type` is `type` – no, that is not a typo."
   ]
  },
  {
   "cell_type": "markdown",
   "metadata": {},
   "source": [
    "![](./images/25_metaclass.png)"
   ]
  },
  {
   "cell_type": "markdown",
   "metadata": {},
   "source": [
    "To extend the above observations, it’s important to add:\n",
    "\n",
    "- `type` is a class that generates classes defined by a programmer;\n",
    "- metaclasses are subclasses of the `type` class.\n",
    "\n",
    "Before we start creating our own metaclasses, it’s important to understand some more details regarding classes and the process of creating them."
   ]
  },
  {
   "cell_type": "markdown",
   "metadata": {},
   "source": [
    "---"
   ]
  },
  {
   "cell_type": "markdown",
   "metadata": {},
   "source": [
    "We should get familiar with some special attributes:\n",
    "\n",
    "- `__name__` – inherent for classes; contains the name of the class;\n",
    "- `__class__` – inherent for both classes and instances; contains information about the class to which a class instance belongs;\n",
    "- `__bases__` – inherent for classes; it’s a tuple and contains information about the base classes of a class;\n",
    "- `__dict__` – inherent for both classes and instances; contains a dictionary (or other type mapping object) of the object's attributes."
   ]
  },
  {
   "cell_type": "code",
   "execution_count": 26,
   "metadata": {},
   "outputs": [
    {
     "name": "stdout",
     "output_type": "stream",
     "text": [
      "\"dog\" is an object of class named: Dog\n",
      "\n",
      "class \"Dog\" is an instance of: <class 'type'>\n",
      "instance \"dog\" is an instance of: <class '__main__.Dog'>\n",
      "\n",
      "class \"Dog\" is   (<class 'object'>,)\n",
      "\n",
      "class \"Dog\" attributes: {'__module__': '__main__', '__dict__': <attribute '__dict__' of 'Dog' objects>, '__weakref__': <attribute '__weakref__' of 'Dog' objects>, '__doc__': None}\n",
      "object \"dog\" attributes: {}\n"
     ]
    }
   ],
   "source": [
    "class Dog:\n",
    "    pass\n",
    "\n",
    "dog = Dog()\n",
    "print('\"dog\" is an object of class named:', Dog.__name__)\n",
    "print()\n",
    "print('class \"Dog\" is an instance of:', Dog.__class__)\n",
    "print('instance \"dog\" is an instance of:', dog.__class__)\n",
    "print()\n",
    "print('class \"Dog\" is  ', Dog.__bases__)\n",
    "print()\n",
    "print('class \"Dog\" attributes:', Dog.__dict__)\n",
    "print('object \"dog\" attributes:', dog.__dict__)\n"
   ]
  },
  {
   "cell_type": "markdown",
   "metadata": {},
   "source": [
    "### 5.1.1.5 Metaprogramming – type function"
   ]
  },
  {
   "cell_type": "markdown",
   "metadata": {},
   "source": [
    "The same information stored in `__class__` could be retrieved by calling a `type()` function with **one argument**:"
   ]
  },
  {
   "cell_type": "code",
   "execution_count": 27,
   "metadata": {},
   "outputs": [
    {
     "name": "stdout",
     "output_type": "stream",
     "text": [
      "1 is <class 'int'> <class 'int'>\n",
      "a is <class 'str'> <class 'str'>\n",
      "True is <class 'bool'> <class 'bool'>\n"
     ]
    }
   ],
   "source": [
    "for element in (1, 'a', True):\n",
    "    print(element, 'is', element.__class__, type(element))"
   ]
  },
  {
   "cell_type": "markdown",
   "metadata": {},
   "source": [
    "---"
   ]
  },
  {
   "cell_type": "markdown",
   "metadata": {},
   "source": [
    "When the `type()` function is called with three arguments, then it dynamically creates a new class.\n",
    "\n",
    "For the invocation of `type(, , )`:\n",
    "\n",
    "- the argument specifies the class name; this value becomes the `__name__` attribute of the class;\n",
    "- the argument specifies a tuple of the base classes from which the newly created class is inherited; this argument becomes the `__bases__` attribute of the class;\n",
    "- the argument specifies a dictionary containing method definitions and variables for the class body; the elements of this argument become the `__dict__` attribute of the class and state the class namespace.\n",
    "\n",
    "A very simple example, when both bases and dictionary are empty"
   ]
  },
  {
   "cell_type": "code",
   "execution_count": 28,
   "metadata": {},
   "outputs": [
    {
     "name": "stdout",
     "output_type": "stream",
     "text": [
      "The class name is: Dog\n",
      "The class is an instance of: <class 'type'>\n",
      "The class is based on: (<class 'object'>,)\n",
      "The class attributes are: {'__module__': '__main__', '__dict__': <attribute '__dict__' of 'Dog' objects>, '__weakref__': <attribute '__weakref__' of 'Dog' objects>, '__doc__': None}\n"
     ]
    }
   ],
   "source": [
    "Dog = type('Dog', (), {})\n",
    "\n",
    "print('The class name is:', Dog.__name__)\n",
    "print('The class is an instance of:', Dog.__class__)\n",
    "print('The class is based on:', Dog.__bases__)\n",
    "print('The class attributes are:', Dog.__dict__)\n"
   ]
  },
  {
   "cell_type": "markdown",
   "metadata": {},
   "source": [
    "---"
   ]
  },
  {
   "cell_type": "markdown",
   "metadata": {},
   "source": [
    "The more complex example that dynamically creates a fully functional class is presented in the right pane.\n",
    "\n",
    "As you can see, the `Dog` class is now equipped with two methods (`feed()` and `bark()`) and the instance attribute `age`."
   ]
  },
  {
   "cell_type": "code",
   "execution_count": 29,
   "metadata": {},
   "outputs": [
    {
     "name": "stdout",
     "output_type": "stream",
     "text": [
      "The class name is: Dog\n",
      "The class is an instance of: <class 'type'>\n",
      "The class is based on: (<class '__main__.Animal'>,)\n",
      "The class attributes are: {'age': 0, 'bark': <function bark at 0x0000021630772B88>, '__module__': '__main__', '__doc__': None}\n",
      "It is feeding time!\n",
      "Woof, woof\n"
     ]
    }
   ],
   "source": [
    "def bark(self):\n",
    "    print('Woof, woof')\n",
    "\n",
    "class Animal:\n",
    "    def feed(self):\n",
    "        print('It is feeding time!')\n",
    "\n",
    "Dog = type('Dog', (Animal, ), {'age':0, 'bark':bark})\n",
    "\n",
    "print('The class name is:', Dog.__name__)\n",
    "print('The class is an instance of:', Dog.__class__)\n",
    "print('The class is based on:', Dog.__bases__)\n",
    "print('The class attributes are:', Dog.__dict__)\n",
    "\n",
    "doggy = Dog()\n",
    "doggy.feed()\n",
    "doggy.bark()\n"
   ]
  },
  {
   "cell_type": "markdown",
   "metadata": {},
   "source": [
    "---"
   ]
  },
  {
   "cell_type": "markdown",
   "metadata": {},
   "source": [
    "This way of creating classes, using the type function, is substantial for Python's way of creating classes using the `class` instruction:\n",
    "\n",
    "- after the `class` instruction has been identified and the class body has been executed, the `class = type(, , )` code is executed;\n",
    "- the `type` is responsible for calling the `__call__` method upon class instance creation; this method calls two other methods:\n",
    "    - `__new__()`, responsible for creating the class instance in the computer memory; this method is run before `__init__()`;\n",
    "    - `__init__()`, responsible for object initialization.\n",
    "    \n",
    "Metaclasses usually implement these two methods (`__init__`, `__new__`), taking control of the procedure of creating and initializing a new class instance. Classes receive a new layer of logic."
   ]
  },
  {
   "cell_type": "markdown",
   "metadata": {},
   "source": [
    "---"
   ]
  },
  {
   "cell_type": "markdown",
   "metadata": {},
   "source": [
    "Now that we know what’s happening under Python's hood, it’s time to implement our own metaclass.\n",
    "\n",
    "It’s important to remember that metaclasses are classes that are instantiated to get classes.\n",
    "\n",
    "The first step is to define a metaclass that derives from the `type` type and arms the class with a 'custom_attribute', as follows:"
   ]
  },
  {
   "cell_type": "code",
   "execution_count": 30,
   "metadata": {},
   "outputs": [
    {
     "name": "stdout",
     "output_type": "stream",
     "text": [
      "{'__module__': '__main__', '__dict__': <attribute '__dict__' of 'My_Object' objects>, '__weakref__': <attribute '__weakref__' of 'My_Object' objects>, '__doc__': None, 'custom_attribute': 'Added by My_Meta'}\n"
     ]
    }
   ],
   "source": [
    "class My_Meta(type):\n",
    "    def __new__(mcs, name, bases, dictionary):\n",
    "        obj = super().__new__(mcs, name, bases, dictionary)\n",
    "        obj.custom_attribute = 'Added by My_Meta'\n",
    "        return obj\n",
    "\n",
    "class My_Object(metaclass=My_Meta):\n",
    "    pass\n",
    "\n",
    "print(My_Object.__dict__)\n"
   ]
  },
  {
   "cell_type": "markdown",
   "metadata": {},
   "source": [
    "Pay attention to the fact that:\n",
    "\n",
    "- the class `My_Meta` is derived from `type`. This makes our class a metaclass;\n",
    "- our own `__new__` method has been defined. Its role is to call the `__new__` method of the parent class to create a new class;\n",
    "- `__new__` uses 'mcs' to refer to the class – it’s just a convention;\n",
    "- a class attribute is created additionally;\n",
    "- the class is returned.\n",
    "\n",
    "Let's make use of the metaclass to create our own, domain-specific class, and check if it’s armed with the custom attribute"
   ]
  },
  {
   "cell_type": "markdown",
   "metadata": {},
   "source": [
    "Pay attention to the fact that:\n",
    "\n",
    "- a new class has been defined in a way where a custom metaclass is listed in the class definition as a metaclass. This is a way to tell Python to use `My_Meta` as a metaclass, not as an ordinary superclass;\n",
    "- we are printing the contents of the class `__dict__` attribute to check if the custom attribute is present."
   ]
  },
  {
   "cell_type": "markdown",
   "metadata": {},
   "source": [
    "---"
   ]
  },
  {
   "cell_type": "markdown",
   "metadata": {},
   "source": [
    "### Metaprogramming – another metaclass"
   ]
  },
  {
   "cell_type": "code",
   "execution_count": 1,
   "metadata": {},
   "outputs": [
    {
     "name": "stdout",
     "output_type": "stream",
     "text": [
      "Just a greeting function, but it could be something more serious like a check sum\n",
      "We are ready to greet you!\n"
     ]
    }
   ],
   "source": [
    "def greetings(self):\n",
    "    print('Just a greeting function, but it could be something more serious like a check sum')\n",
    "\n",
    "class My_Meta(type):\n",
    "    def __new__(mcs, name, bases, dictionary):\n",
    "        if 'greetings' not in dictionary:\n",
    "            dictionary['greetings'] = greetings\n",
    "        obj = super().__new__(mcs, name, bases, dictionary)\n",
    "        return obj\n",
    "\n",
    "class My_Class1(metaclass=My_Meta):\n",
    "    pass\n",
    "\n",
    "class My_Class2(metaclass=My_Meta):\n",
    "    def greetings(self):\n",
    "        print('We are ready to greet you!')\n",
    "\n",
    "myobj1 = My_Class1()\n",
    "myobj1.greetings()\n",
    "myobj2 = My_Class2()\n",
    "myobj2.greetings()\n"
   ]
  },
  {
   "cell_type": "markdown",
   "metadata": {},
   "source": [
    "---"
   ]
  },
  {
   "cell_type": "markdown",
   "metadata": {},
   "source": [
    "As you can see, there is a `greetings()` function defined that greets everyone who interacts with it. In a real-life scenario, it could be a function that is obligatory for every class and is responsible for the consistency of object attributes; it could be a function returning a checksum for some of an attribute's values.\n",
    "\n",
    "In `My_Class1`, by design, there is no `greetings` function, so when the class is constructed, it is equipped with a default function by the metaclass.\n",
    "\n",
    "In contrast, in `My_Class2` the greetings function is present from the very beginning.\n",
    "\n",
    "Both classes rely on the same metaclass.\n",
    "\n",
    "When you run the code, you'll see that both class instances are equipped with `greetings()` methods. For the “poorer” class, it is completed by the metaclass.\n",
    "\n",
    "his is how metaclasses become very useful – they can control the process of class instantiation, and adjust created classes to conform with selected rules."
   ]
  },
  {
   "cell_type": "markdown",
   "metadata": {},
   "source": [
    "### 5.1.1.10 Metaprogramming – LAB: metaclasses"
   ]
  },
  {
   "cell_type": "markdown",
   "metadata": {},
   "source": [
    "### Estimated time\n",
    "45 minutes\n",
    "\n",
    "### Level of difficulty\n",
    "Medium\n",
    "\n",
    "### Objectives\n",
    "improving the student's skills in operating with metaclasses;\n",
    "improving the student's skills in operating with class variables and class methods.\n",
    "\n",
    "### Scenario\n",
    "- Imagine you’ve been given a task to clean up the code of a system developed in Python – the code should be treated as legacy code;\n",
    "- the system was created by a group of volunteers who worked with no clear “clean coding” rules;\n",
    "- the system suffers from a problem: we don’t know in which order the classes are created, so it causes multiple dependency problems;\n",
    "- your task is to prepare a metaclass that is responsible for:\n",
    "    - equipping all newly instantiated classes with time stamps, persisted in a class attribute named `instantiation_time`;\n",
    "    - equipping all newly instantiated classes with the `get_instantiation_time()` method. The method should return the value of the class attribute instantiation_time.\n",
    "    \n",
    "** The metaclass should have its own class variable (a list) that contains a list of the names of the classes instantiated by the metaclass (tip: append the class name in the `__new__` method).\n",
    "\n",
    "- Your metaclass should be used to create a few distinct legacy classes;\n",
    "- create objects based on the classes;\n",
    "- list the class names that are instantiated by your metaclass."
   ]
  },
  {
   "cell_type": "code",
   "execution_count": 160,
   "metadata": {},
   "outputs": [
    {
     "name": "stdout",
     "output_type": "stream",
     "text": [
      "2021-03-05 13:47:25.243123\n",
      "2021-03-05 13:47:25.243123\n",
      "['My_Class1', 'My_Class2']\n"
     ]
    }
   ],
   "source": [
    "from datetime import datetime\n",
    "\n",
    "def get_instantiation_time(self):\n",
    "    return self.instantiation_time\n",
    "\n",
    "class My_Meta(type):\n",
    "    classNameList = []\n",
    "    def __new__(mcs, name, bases, dictionary):\n",
    "        if 'get_instantiation_time' not in dictionary:\n",
    "            dictionary['get_instantiation_time'] = get_instantiation_time\n",
    "        obj = super().__new__(mcs, name, bases, dictionary)\n",
    "        obj.instantiation_time = datetime.now()\n",
    "        mcs.classNameList.append(obj.__name__)\n",
    "        return obj\n",
    "    \n",
    "class My_Class1(metaclass=My_Meta):\n",
    "    pass\n",
    "\n",
    "class My_Class2(metaclass=My_Meta):\n",
    "    pass\n",
    "\n",
    "lc11 = My_Class1()\n",
    "lc21 = My_Class2()\n",
    "\n",
    "print(lc11.get_instantiation_time())\n",
    "print(lc11.instantiation_time)\n",
    "print(My_Meta.classNameList)\n",
    " "
   ]
  },
  {
   "cell_type": "markdown",
   "metadata": {},
   "source": [
    "### 5.1.1.11 Metaprogramming – summary"
   ]
  },
  {
   "cell_type": "markdown",
   "metadata": {},
   "source": [
    "The concept of metaclasses looks hard at first glance, but if you’re responsible for API design or development, metaclasses are the magic that could help you in your work.\n",
    "\n",
    "When you want to change your classes automatically, but decorators are not efficient, then metaclasses should help you.\n",
    "\n",
    "In all other cases, you should agree with Tim Peters that you shouldn’t worry about metaclasses, because many problems can be solved in a simpler way than by using metaclasses.\n",
    "\n",
    "But still, it’s beneficial to understand metaclasses in order to know when to employ them to solve a class type problem."
   ]
  }
 ],
 "metadata": {
  "kernelspec": {
   "display_name": "Python 3",
   "language": "python",
   "name": "python3"
  },
  "language_info": {
   "codemirror_mode": {
    "name": "ipython",
    "version": 3
   },
   "file_extension": ".py",
   "mimetype": "text/x-python",
   "name": "python",
   "nbconvert_exporter": "python",
   "pygments_lexer": "ipython3",
   "version": "3.7.4"
  }
 },
 "nbformat": 4,
 "nbformat_minor": 2
}
