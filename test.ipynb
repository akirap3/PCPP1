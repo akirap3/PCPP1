{
 "cells": [
  {
   "cell_type": "code",
   "execution_count": 7,
   "metadata": {},
   "outputs": [],
   "source": [
    "class Apple:\n",
    "    def __init__(self, color, weight, size):\n",
    "        self.color = color\n",
    "        self.weight = weight\n",
    "        self.size = size\n",
    "    def toBeAppleTree(self):\n",
    "        print(\"{} apple is going to be an apple tree\".format(self.color))"
   ]
  },
  {
   "cell_type": "code",
   "execution_count": 8,
   "metadata": {},
   "outputs": [
    {
     "name": "stdout",
     "output_type": "stream",
     "text": [
      "<class 'type'>\n",
      "<class '__main__.Apple'>\n",
      "<class '__main__.Apple'>\n",
      "red apple is going to be an apple tree\n"
     ]
    }
   ],
   "source": [
    "apple1 = Apple('red', 50, 'small')\n",
    "apple2 = Apple('green', 80, 'medium')\n",
    "\n",
    "print(Apple.__class__)\n",
    "print(apple1.__class__)\n",
    "print(apple2.__class__)\n",
    "apple1.toBeAppleTree()"
   ]
  },
  {
   "cell_type": "code",
   "execution_count": 10,
   "metadata": {},
   "outputs": [
    {
     "name": "stdout",
     "output_type": "stream",
     "text": [
      "content of apple1 {'color': 'red', 'weight': 50, 'size': 'small'}\n",
      "content of apple2 {'color': 'green', 'weight': 80, 'size': 'medium'}\n"
     ]
    }
   ],
   "source": [
    "print('content of apple1', apple1.__dict__)\n",
    "print('content of apple2', apple2.__dict__)"
   ]
  },
  {
   "cell_type": "code",
   "execution_count": 11,
   "metadata": {},
   "outputs": [
    {
     "name": "stdout",
     "output_type": "stream",
     "text": [
      "Apple\n",
      "{'__module__': '__main__', 'brand': 'Apple', '__dict__': <attribute '__dict__' of 'iPad' objects>, '__weakref__': <attribute '__weakref__' of 'iPad' objects>, '__doc__': None}\n"
     ]
    }
   ],
   "source": [
    "class iPad:\n",
    "    brand = 'Apple'\n",
    "\n",
    "print(iPad.brand)\n",
    "print(iPad.__dict__)"
   ]
  },
  {
   "cell_type": "code",
   "execution_count": 12,
   "metadata": {},
   "outputs": [
    {
     "name": "stdout",
     "output_type": "stream",
     "text": [
      "How many apples are created?  2\n"
     ]
    }
   ],
   "source": [
    "class Apple:\n",
    "    apple_counter = 0\n",
    "    def __init__(self, color, weight, size):\n",
    "        self.color = color\n",
    "        self.weight = weight\n",
    "        self.size = size\n",
    "        Apple.apple_counter += 1\n",
    "\n",
    "apple1 = Apple('red', '50', 'small')\n",
    "apple2 = Apple('green', '80', 'medium')\n",
    "print('How many apples are created? ', Apple.apple_counter)"
   ]
  },
  {
   "cell_type": "code",
   "execution_count": null,
   "metadata": {},
   "outputs": [],
   "source": []
  }
 ],
 "metadata": {
  "kernelspec": {
   "display_name": "Python 3",
   "language": "python",
   "name": "python3"
  },
  "language_info": {
   "codemirror_mode": {
    "name": "ipython",
    "version": 3
   },
   "file_extension": ".py",
   "mimetype": "text/x-python",
   "name": "python",
   "nbconvert_exporter": "python",
   "pygments_lexer": "ipython3",
   "version": "3.7.4"
  }
 },
 "nbformat": 4,
 "nbformat_minor": 2
}
