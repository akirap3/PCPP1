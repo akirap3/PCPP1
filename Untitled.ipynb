{
 "cells": [
  {
   "cell_type": "markdown",
   "metadata": {},
   "source": [
    "## PCPP1 | Advanced Perspective of Classes and Object-Oriented Programming in Python"
   ]
  },
  {
   "cell_type": "markdown",
   "metadata": {},
   "source": [
    "In this course, you will learn about:\n",
    "\n",
    "- Classes, instances, attributes, methods, as well as working with class and instance data;\n",
    "- shallow and deep operations;\n",
    "- abstract classes, method overriding, static and class methods, special methods;\n",
    "- inheritance, polymorphism, subclasses, and encapsulation;\n",
    "- advanced exception handling techniques;\n",
    "- the pickle and shelve modules;\n",
    "- metaclasses."
   ]
  },
  {
   "cell_type": "markdown",
   "metadata": {},
   "source": [
    "### 1.1.1.1 Classes, Instances, Attributes, Methods — introduction"
   ]
  },
  {
   "cell_type": "markdown",
   "metadata": {},
   "source": [
    "#### Introduction to Object-Oriented Programming"
   ]
  },
  {
   "cell_type": "markdown",
   "metadata": {},
   "source": [
    "This chapter assumes that you are familiar with the basics of OOP, so to establish an understanding of common terms, we should agree on the following definitions:\n",
    "\n",
    "- `class` — an idea, blueprint, or recipe for an instance;\n",
    "- `instance` — an instantiation of the class; very often used interchangeably with the term 'object';\n",
    "- `object` — Python's representation of data and methods; objects could be aggregates of instances;\n",
    "- `attribute` — any object or class trait; could be a variable or method;\n",
    "- `method` — a function built into a class that is executed on behalf of the class or object; some say that it’s a 'callable attribute';\n",
    "- `type` — refers to the class that was used to instantiate the object."
   ]
  },
  {
   "cell_type": "markdown",
   "metadata": {},
   "source": [
    "Now that we’re starting to discuss more advanced OOP topics, it’s important to remember that in Python everything is an object (functions, modules, lists, etc.). In the very last section of this module, you'll see that even classes are instances.\n",
    "\n",
    "Why is everything in Python organized as objects?\n",
    "\n",
    "Because an object is a very useful culmination of all the terms described above:\n",
    "\n",
    "- it is an independent instance of class, and it contains and aggregates some specific and valuable data in attributes relevant to individual objects;\n",
    "- it owns and shares methods used to perform actions.\n",
    "\n",
    "The following issues will be addressed during this and the next module:\n",
    "\n",
    "- creation and use of decorators;\n",
    "- implementation of core syntax;\n",
    "- class and static methods;\n",
    "- abstract methods;\n",
    "- comparison of inheritance and composition;\n",
    "- attribute encapsulation;\n",
    "- exception chaining;\n",
    "- object persistence;\n",
    "- metaprogramming."
   ]
  },
  {
   "cell_type": "markdown",
   "metadata": {},
   "source": [
    "### 1.1.1.2 Classes, Instances, Attributes, Methods — what is a class?"
   ]
  },
  {
   "cell_type": "markdown",
   "metadata": {},
   "source": [
    "- Classes describe attributes and functionalities together to represent an idea as accurately as possible.\n",
    "\n",
    "- You can build a class from scratch or, something that is more interesting and useful, employ inheritance to get a more specialized class based on another class.\n",
    "\n",
    "- Additionally, your classes could be used as superclasses for newly derived classes (subclasses).\n",
    "\n",
    "- Python’s class mechanism adds classes with a minimum of new syntax and semantics:"
   ]
  },
  {
   "cell_type": "code",
   "execution_count": 1,
   "metadata": {},
   "outputs": [],
   "source": [
    "class Duck:\n",
    "    def __init__(self, height, weight, sex):\n",
    "        self.height = height\n",
    "        self.weight = weight\n",
    "        self.sex = sex\n",
    "\n",
    "    def walk(self):\n",
    "        pass\n",
    "\n",
    "    def quack(self):\n",
    "        return print('Quack')"
   ]
  },
  {
   "cell_type": "markdown",
   "metadata": {},
   "source": [
    "### 1.1.1.3 What is an instance, what is an object?"
   ]
  },
  {
   "cell_type": "markdown",
   "metadata": {},
   "source": [
    "- An ***instance*** is one particular physical instantiation of a class that occupies memory and has data elements. This is what 'self' refers to when we deal with class instances.\n",
    "\n",
    "\n",
    "- An ***object*** is everything in Python that you can operate on, like a class, instance, list, or dictionary.\n",
    "\n",
    "\n",
    "- The term ***instance*** is very often used interchangeably with the term ***object***, because ***object*** refers to a particular instance of a class. It’s a bit of a simplification, because the term ***object*** is more general than ***instance***.\n",
    "\n",
    "\n",
    "- The relation between instances and classes is quite simple: we have one class of a given type and an unlimited number of instances of a given class.\n",
    "\n",
    "\n",
    "- Each instance has its own, individual state (expressed as variables, so objects again) and shares its behavior (expressed as methods, so objects again).\n",
    "\n",
    "\n",
    "- To create instances, we have to instantiate the class:"
   ]
  },
  {
   "cell_type": "code",
   "execution_count": 2,
   "metadata": {},
   "outputs": [],
   "source": [
    "duckling = Duck(height=10, weight=3.4, sex=\"male\")\n",
    "drake = Duck(height=25, weight=3.7, sex=\"male\")\n",
    "hen = Duck(height=20, weight=3.4, sex=\"female\")"
   ]
  },
  {
   "cell_type": "code",
   "execution_count": null,
   "metadata": {},
   "outputs": [],
   "source": []
  },
  {
   "cell_type": "code",
   "execution_count": null,
   "metadata": {},
   "outputs": [],
   "source": []
  },
  {
   "cell_type": "code",
   "execution_count": null,
   "metadata": {},
   "outputs": [],
   "source": []
  },
  {
   "cell_type": "code",
   "execution_count": null,
   "metadata": {},
   "outputs": [],
   "source": []
  },
  {
   "cell_type": "code",
   "execution_count": null,
   "metadata": {},
   "outputs": [],
   "source": []
  },
  {
   "cell_type": "code",
   "execution_count": null,
   "metadata": {},
   "outputs": [],
   "source": []
  },
  {
   "cell_type": "code",
   "execution_count": null,
   "metadata": {},
   "outputs": [],
   "source": []
  },
  {
   "cell_type": "code",
   "execution_count": null,
   "metadata": {},
   "outputs": [],
   "source": []
  },
  {
   "cell_type": "code",
   "execution_count": null,
   "metadata": {},
   "outputs": [],
   "source": []
  },
  {
   "cell_type": "code",
   "execution_count": null,
   "metadata": {},
   "outputs": [],
   "source": []
  },
  {
   "cell_type": "code",
   "execution_count": null,
   "metadata": {},
   "outputs": [],
   "source": []
  },
  {
   "cell_type": "code",
   "execution_count": null,
   "metadata": {},
   "outputs": [],
   "source": []
  },
  {
   "cell_type": "code",
   "execution_count": null,
   "metadata": {},
   "outputs": [],
   "source": []
  },
  {
   "cell_type": "code",
   "execution_count": null,
   "metadata": {},
   "outputs": [],
   "source": []
  },
  {
   "cell_type": "code",
   "execution_count": null,
   "metadata": {},
   "outputs": [],
   "source": []
  },
  {
   "cell_type": "code",
   "execution_count": null,
   "metadata": {},
   "outputs": [],
   "source": []
  },
  {
   "cell_type": "code",
   "execution_count": null,
   "metadata": {},
   "outputs": [],
   "source": []
  },
  {
   "cell_type": "code",
   "execution_count": null,
   "metadata": {},
   "outputs": [],
   "source": []
  },
  {
   "cell_type": "code",
   "execution_count": null,
   "metadata": {},
   "outputs": [],
   "source": []
  },
  {
   "cell_type": "code",
   "execution_count": null,
   "metadata": {},
   "outputs": [],
   "source": []
  },
  {
   "cell_type": "code",
   "execution_count": null,
   "metadata": {},
   "outputs": [],
   "source": []
  },
  {
   "cell_type": "code",
   "execution_count": null,
   "metadata": {},
   "outputs": [],
   "source": []
  },
  {
   "cell_type": "code",
   "execution_count": null,
   "metadata": {},
   "outputs": [],
   "source": []
  },
  {
   "cell_type": "code",
   "execution_count": null,
   "metadata": {},
   "outputs": [],
   "source": []
  },
  {
   "cell_type": "code",
   "execution_count": null,
   "metadata": {},
   "outputs": [],
   "source": []
  }
 ],
 "metadata": {
  "kernelspec": {
   "display_name": "Python 3",
   "language": "python",
   "name": "python3"
  },
  "language_info": {
   "codemirror_mode": {
    "name": "ipython",
    "version": 3
   },
   "file_extension": ".py",
   "mimetype": "text/x-python",
   "name": "python",
   "nbconvert_exporter": "python",
   "pygments_lexer": "ipython3",
   "version": "3.7.4"
  }
 },
 "nbformat": 4,
 "nbformat_minor": 2
}
