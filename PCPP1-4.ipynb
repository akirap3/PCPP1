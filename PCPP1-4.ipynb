{
 "cells": [
  {
   "cell_type": "markdown",
   "metadata": {},
   "source": [
    "# PCPP1 | Working with RESTful APIs"
   ]
  },
  {
   "cell_type": "markdown",
   "metadata": {},
   "source": [
    "## 1.1.1.1 Python Professional Course Series: RESTful APIs"
   ]
  },
  {
   "cell_type": "markdown",
   "metadata": {},
   "source": [
    "**After completing this course you will know:**\n",
    "\n",
    "-   the basic concepts of network programming, REST, network sockets, and client-server communication;\n",
    "-   how to use and create sockets in Python, and how to establish and close the connection with a server;\n",
    "-   what JSON and XML files are, and how they can used in network communication;\n",
    "-   what HTTP methods are, and how to say anything in HTTP;\n",
    "-   how to build a sample testing environment;\n",
    "-   what CRUD is;\n",
    "-   how to build a simple REST client, and how to fetch and remove data from server, add new data to it, and update the already-existing data."
   ]
  },
  {
   "cell_type": "markdown",
   "metadata": {},
   "source": [
    "## 1.1.1.2 Networks, layers and the Internet: introduction"
   ]
  },
  {
   "cell_type": "markdown",
   "metadata": {},
   "source": [
    "## Some words about REST"
   ]
  },
  {
   "cell_type": "markdown",
   "metadata": {},
   "source": [
    "REST isn't actually a word - it's an acronym. It comes from three words of equal importance:\n",
    "\n",
    "-   **RE**presentational\n",
    "-   **S**tate\n",
    "-   **T**ransfer"
   ]
  },
  {
   "cell_type": "markdown",
   "metadata": {},
   "source": [
    "### Representational\n",
    "**RE** stands for _Representational_. It means that our machinery **stores, transmits and receives representations**, while the term representation reflects the way in which **data or states are retained inside the system and presented to the users** (humans or computers).\n",
    "\n",
    "REST uses a very curious way of representing its data - it's always **text**. Pure, plain text.\n",
    "\n",
    "\"It must be a joke,\" you may think now. \"How is it possible to send and receive all kinds of data using plain text?\"\n",
    "\n",
    "It's a very good question. Probably the best question that can be put now. REST is focused on a very specific kind of data - the data which reflects **states**."
   ]
  },
  {
   "cell_type": "markdown",
   "metadata": {},
   "source": [
    "### State"
   ]
  },
  {
   "cell_type": "markdown",
   "metadata": {},
   "source": [
    "**S** stands for _State_. The word _state_ is key to understanding what REST is and what it could be used for.\n",
    "\n",
    "We think that your knowledge of classes and objects can be very helpful here. We want you to use it. Imagine any object. The object contains a set (the most preferable set is a non-empty one) of **properties**. We can say that the values of all the object's properties constitute its state. If any of the properties changes its value, this inevitably entails the effect of changing the whole object's state. Such a change is often called a **transition**.\n",
    "\n",
    "Now imagine that the object is stored somewhere else, not on your computer, but on a server located over the hill and far away. Of course, you can access the server's resources using the network, but you can't just get the object and transfer it into your computer. Why not? Because it has to be accessible to many (maybe a few, maybe a million) users. It must stay on the server.\n",
    "\n",
    "Imagine that you want to (or you must) **affect the object's state through the network**. No, you are not able to invoke any of its methods. Sorry, that's impossible. You can't do it directly. But you can do it using REST."
   ]
  },
  {
   "cell_type": "markdown",
   "metadata": {},
   "source": [
    "### Transfer"
   ]
  },
  {
   "cell_type": "markdown",
   "metadata": {},
   "source": [
    "**T** stands for _Transfer_. The network (not only the Internet) is able to act as a **carrier allowing you to transmit states' representations to and from the server**.\n",
    "\n",
    "Note: not the object, but its states, or actions able to change the states, are subject to the transfer. We can say (it's a very poor analogy, but it will work here) that transferring the states enables you to achieve results similar to those caused by method invocations.\n",
    "\n",
    "  \n",
    "\n",
    "**Representational State Transfer** - We hope the term is less mysterious now. Don't be afraid - we won't leave you alone with your doubts. There is a long road ahead of us."
   ]
  },
  {
   "cell_type": "markdown",
   "metadata": {},
   "source": [
    "## 1.1.1.3 Network sockets - a basic means of network programming"
   ]
  },
  {
   "cell_type": "markdown",
   "metadata": {},
   "source": [
    "## BSD sockets\n",
    "\n",
    "The sockets we want to tell you about have nothing to do with electricity - we're not going to plug anything into them and we won't draw energy from them.\n",
    "\n",
    "A socket (in the sense that interests us now) is a kind of **end-point**. An end-point is **a point where the data is available to get it from and where the data may be sent to**. Your Python program can connect to the end-point and use it to interchange messages between itself and another program working somewhere far away on the Internet.\n",
    "\n",
    "The history of sockets started in 1983 at the University of California in Berkeley, where the concept was formulated and where the first successful implementation was carried out."
   ]
  },
  {
   "cell_type": "markdown",
   "metadata": {},
   "source": [
    "The resulting solution was a universal set of functions suitable for implementation in nearly all operating systems and available in all modern programming languages. It was named BSD sockets - the name was borrowed from _Berkeley Software Distribution_, the name of a Unix-class operating system, where the sockets were deployed for the very first time.\n",
    "\n",
    "After some amendments, the standard was adopted by POSIX (a standard of contemporary Unix-class operating systems) as **POSIX sockets**.\n",
    "\n",
    "We can say that all modern OSs implement BSD sockets in a more or less accurate way. Despite their differences, the general idea remains the same and this is what we are going to tell you about.\n",
    "\n",
    "We don't want our course to be a schooling on network programming, so be aware that we'll present to you only the absolutely essential information on how network traffic is managed. We focus - as always - on programming in Python. By the way: BSD sockets were originally implemented in the \"C\" programming language, which is a good reason to start our \"C\" course.\n",
    "\n",
    "The main idea behind BSD sockets is closely connected to Unix philosophy contained in the words everything is a file. A socket may be often treated as very specific kind of file. Writing to a socket results in sending the data through a network. Reading from a socket enables you to receive the data coming from the network.\n",
    "\n",
    "By the way, **MS Windows reimplements BSD sockets in the form of the WinSock**. Fortunately, you're not able to feel the difference when programming in Python. Python hides them very thoroughly. We like Python for this (and not only for this).\n",
    "\n",
    "Be prepared to assimilate many new terms and notions. Are you ready?"
   ]
  },
  {
   "cell_type": "markdown",
   "metadata": {},
   "source": [
    "## 1.1.1.4 Domains, addresses, ports, protocols and services"
   ]
  },
  {
   "cell_type": "markdown",
   "metadata": {},
   "source": [
    "## Socket domains\n",
    "\n",
    "Initially, BSD sockets were designed to organize communication in two different domains (not to be confused with internet domains like pythoninstitute.org - these terms have nothing in common). The two domains were:\n",
    "\n",
    "-   **Unix domain** (_Unix_ for short) - a part of BSD sockets used to communicate programs working within one operating system (i.e., simultaneously present in the same computer system)\n",
    "-   **Internet domain** (_INET_ in short) - a part of BSD socket API used to communicate programs working within different computer systems, connected together using a TCP/IP network (note: this doesn't preclude the use of INET sockets to communicate processes working in the same system)\n",
    "\n",
    "In the next part, we'll deal with sockets working in the INET domain."
   ]
  },
  {
   "cell_type": "markdown",
   "metadata": {},
   "source": [
    "## Socket address\n",
    "\n",
    "The two programs wanting to exchange their data must be able to identify each other - to be precise, they must have the ability to clearly indicate the socket they want to connect through.\n",
    "\n",
    "INET domain sockets are identified (addressed) by pairs of values:\n",
    "\n",
    "-   the **IP address** of the computer system inside which the socked is located;\n",
    "-   the **port number** (more often referred to as service number)"
   ]
  },
  {
   "cell_type": "markdown",
   "metadata": {},
   "source": [
    "![](./images/66_socket_address.png)"
   ]
  },
  {
   "cell_type": "markdown",
   "metadata": {},
   "source": [
    "## IP address\n",
    "\n",
    "An IP address (more precisely: **IP4** address) is **a 32-bit long value used to identify computers connected to any TCP/IP network**. The value is usually presented as four numbers from the range 0..255 (i.e., eight bits long) coupled together with dots (e.g., 87.98.239.87)."
   ]
  },
  {
   "cell_type": "markdown",
   "metadata": {},
   "source": [
    "There is also a newer IP standard, named **IP6**, using 128 bits for the same purpose. Due to its slight prevalence (according to data published in August 2016, less than 20% of computers in the world are reachable by IP6 addressing) we will limit our considerations to IP4."
   ]
  },
  {
   "cell_type": "markdown",
   "metadata": {},
   "source": [
    "## Socket/service number\n",
    "\n",
    "The socket/service number is **a 16-bit long integer number identifying a socket within a particular system**. As you may have guessed already, there are 65,536 (2 \\*\\* 16) possible socket/service numbers.\n",
    "\n",
    "The term service number came from the fact that many standard network services usually use the same, constant socket numbers e.g., **the HTTP protocol, a carrier of data used by REST, usually uses port 80**.\n",
    "\n",
    "  \n",
    "\n",
    "## Protocol\n",
    "\n",
    "A protocol is **a standardized set of rules allowing processes to communicate with each other**. We may say that a protocol is a kind of _network savoir-vivre_ specifying the rules of behaviour for all participants."
   ]
  },
  {
   "cell_type": "markdown",
   "metadata": {},
   "source": [
    "## 1.1.1.5 Domains, addresses, ports, protocols and services"
   ]
  },
  {
   "cell_type": "markdown",
   "metadata": {},
   "source": [
    "## Protocol stack\n",
    "\n",
    "A protocol stack is **a multilayer** (hence the name) **set of cooperating protocols providing a unified repertoire of services**. The TCP/IP protocol stack is designed to cooperate with networks based on the IP protocol (the IP networks)."
   ]
  },
  {
   "cell_type": "markdown",
   "metadata": {},
   "source": [
    "The conceptual model of network services describes the protocol stack in a way where the most basic, **elementary services are located at the bottom of the stack**, while the most advanced and abstractive lie on the top.\n",
    "\n",
    "It is assumed that any higher layer implements its functionalities using services provided by the adjoining lower layer (note: it is the same as in the other parts of the operating system, e.g., you program implements its functionality using OS services and OS services implement their functionalities using hardware facilities).\n",
    "\n",
    "  \n",
    "\n",
    "## IP\n",
    "\n",
    "The IP (_Internetwork Protocol_) is one of the lowest parts of TCP/IP protocol stack. Its functionality is very simple - it is able to **send a packet of data (a datagram) between two network nodes**."
   ]
  },
  {
   "cell_type": "markdown",
   "metadata": {},
   "source": [
    "![](./images/67_network_node.png)"
   ]
  },
  {
   "cell_type": "markdown",
   "metadata": {},
   "source": [
    "IP is a very unreliable protocol. It doesn't guarantee that:\n",
    "\n",
    "-   any of the sent datagrams will reach the target (moreover, if any of the datagrams is lost, it may remain undetected)\n",
    "-   the datagram will reach the target intact;\n",
    "-   a pair of sent datagrams will reach the target in the same order as they were sent.\n",
    "\n",
    "The upper layers are able to compensate all these IP's infirmities."
   ]
  },
  {
   "cell_type": "markdown",
   "metadata": {},
   "source": [
    "## TCP\n",
    "\n",
    "The TCP (_Transmission Control Protocol_) is the highest part of the TCP/IP protocol stack. It **uses datagrams** (provided by the lower layers) and **handshakes** (an automated process of synchronizing the flow of data) **to construct a reliable communication channel able to transmit and receive single characters**.\n",
    "\n",
    "Its functionality is very complex, as it guarantees that:\n",
    "\n",
    "-   a stream of data reaches the target, or the sender is informed that communication has failed;\n",
    "-   data reaches the target intact."
   ]
  },
  {
   "cell_type": "markdown",
   "metadata": {},
   "source": [
    "## UDP\n",
    "\n",
    "The UDP (_User Datagram Protocol_) lies at the higher part of TCP/IP protocol stack, but lower than the TCP. It doesn't use handshakes, which has two serious consequences:\n",
    "\n",
    "-   it is faster than TCP (due to fewer overheads)\n",
    "-   it is less reliable than TCP."
   ]
  },
  {
   "cell_type": "markdown",
   "metadata": {},
   "source": [
    "This means that:\n",
    "\n",
    "-   TCP is a first-choice protocol for applications where data safety is more important that efficiency (e.g., WWW, REST, mail transfer, etc.)\n",
    "-   UDP is more adequate **for applications where response time is crucial** (DNS, DHCP, etc.)"
   ]
  },
  {
   "cell_type": "markdown",
   "metadata": {},
   "source": [
    "## 1.1.1.6 Clients and servers - two sides of network communication"
   ]
  },
  {
   "cell_type": "markdown",
   "metadata": {},
   "source": [
    "## Connection-oriented vs. connectionless communication\n",
    "\n",
    "A form of communication which **demands some preliminary steps to establish the connection and other steps to finish it** is _connection-oriented communication_.\n",
    "\n",
    "Usually, both parties involved in the process aren't symmetrical i.e., their roles and routines are different. Both sides of the communication are aware that the other party is connected.\n",
    "\n",
    "A phone call is a perfect example of connection-oriented communication.\n",
    "\n",
    "Look:\n",
    "\n",
    "-   the roles are strictly defined: there is a caller and there is a callee;\n",
    "-   the caller must dial the callee's number and wait till the network routes the connection;\n",
    "-   the caller must wait for the callee to answer the call (the callee may reject the connection, or just not answer the call)\n",
    "-   the actual communication won't start until all the previous steps are completed successfully;\n",
    "-   the communication ends when either of the parties hangs-up.\n",
    "\n",
    "  \n",
    "  \n",
    "\n",
    "TCP/IP networks use the following names for both sides of the communication:\n",
    "\n",
    "-   the side that initiates the connection (caller) is named **client**;\n",
    "-   the side that answers the client (callee) is named **server**.\n",
    "\n",
    "Connection-oriented communications are usually built on top of TCP.\n",
    "\n",
    "A communication which **can be established ad-hoc** (snap - just like that) is _connectionless communication_. Both parties usually have equal rights, but neither of the parties is aware of the other side's state.\n",
    "\n",
    "Using walkie-talkies is a very good analogy for connectionless communication, because:\n",
    "\n",
    "-   either of the parties of communication may initiate the communication at any time; it only requires pushing the _talk_ button;\n",
    "-   talking to the mic doesn't guarantee that anybody will hear (it’s necessary to wait for an incoming answer to be sure)\n",
    "\n",
    "Connectionless communications are usually built on top of UDP.\n",
    "\n",
    "Okay. Taking such a dose of theory requires some practice as soon as possible. Let's do it."
   ]
  },
  {
   "cell_type": "markdown",
   "metadata": {},
   "source": [
    "## 1.2.1.1 How to use sockets in Python"
   ]
  },
  {
   "cell_type": "markdown",
   "metadata": {},
   "source": [
    "## How to fetch a document from a server using Python\n",
    "\n",
    "We are going to write our first program making use of network sockets. Of course, we'll harness Python for this purpose.\n",
    "\n",
    "Here are our goals:\n",
    "\n",
    "-   we want to write **a program which reads the address of a WWW site** (e.g., pythoninstitute.org) using the standard `input()` function and **fetches the root document** (the main HTML document of the WWW site) of the specified site;\n",
    "-   the program **outputs the document** to the screen;\n",
    "-   the program **uses TCP to connect to the HTTP server**.\n",
    "\n",
    "Our program has to perform the following steps:\n",
    "\n",
    "1.  **create a new socket** able to handle connection-oriented transmissions based on TCP;\n",
    "2.  **connect the socket to the HTTP server** of a given address;\n",
    "3.  **send a request to the server** (the server wants to know what we want from it)\n",
    "4.  **receive the server's response** (it will contain the requested root document of the site)\n",
    "5.  **close the socket** (end the connection)\n",
    "\n",
    "This is our road map. Let's follow the route."
   ]
  },
  {
   "cell_type": "markdown",
   "metadata": {},
   "source": [
    "![](./images/68_request_response.png)"
   ]
  },
  {
   "cell_type": "markdown",
   "metadata": {},
   "source": [
    "## Importing a socket\n",
    "\n",
    "We are in need - we need a socket. How do we obtain a socket? Can we order it from an Internet store? Is it free?\n",
    "\n",
    "Yes, it's free. As you probably suspect, we need a specialized module. Python offers just such a module. You won't be surprised if we tell you that the module is named socket, will you?\n",
    "\n",
    "This is what we'll put at the top of our code:\n",
    "\n",
    "```\n",
    "import socket\n",
    "\n",
    "```  \n",
    "  \n",
    "\n",
    "## Obtaining user input\n",
    "\n",
    "We also need **the name of the HTTP server** we're going to connect to. In fact, it's not our problem. The user knows it better. Let's ask him or her:\n",
    "\n",
    "```\n",
    "import socket\n",
    "\n",
    "server_addr = input(\"What server do you want to connect to? \")\n",
    "\n",
    "```  \n",
    "  \n",
    "\n",
    "The user input may can take two different forms:\n",
    "\n",
    "-   it can be **the domain name of the server** (like __www.pythoninstitute.org__, but without the leading __http://__)\n",
    "-   it can be **the IP address of the server** (like __87.98.235.184__), but it must be said firmly that this variant is potentially ambiguous. Why? Because **there can be more than one HTTP server located at the same IP address** - the server you will reach may be not the server you intended to connect to.\n",
    "\n",
    "It may sound cynical - it's not our problem which of these two ways our users choose. They know better. The customer is always right."
   ]
  },
  {
   "cell_type": "markdown",
   "metadata": {},
   "source": [
    "## 1.2.1.2 How to create a socket in Python"
   ]
  },
  {
   "cell_type": "markdown",
   "metadata": {},
   "source": [
    "## The socket module: creating a socket\n",
    "\n",
    "The `socket` module contains all the tools we need to deal with sockets. We aren't going to present all its capabilities - as we mentioned before, we aren't and won't be focusing on network programming. We want to show you how the TCP/IP works and how it is able to act as **a carrier for REST**.\n",
    "\n",
    "We can say that TCP/IP is interesting for us only to the extent that it is able to transport HTTP traffic, and HTTP is interesting for us only to the extent that it is able to act as a relay for REST. If you want to get fully accustomed with networks, you may need to continue your reading using another of our courses.\n",
    "\n",
    "The socket module provides a class named `socket` (what a coincidence!) which encapsulates a bundle of properties and activities related to the actual sockets' behaviour. This means that the first step is to **create an object of the class** - this is how we carry out the creation:"
   ]
  },
  {
   "cell_type": "code",
   "execution_count": null,
   "metadata": {},
   "outputs": [],
   "source": [
    "import socket\n",
    "\n",
    "server_addr = input(\"What server do you want to connect to? \")\n",
    "sock = socket.socket(socket.AF_INET, socket.SOCK_STREAM)"
   ]
  },
  {
   "cell_type": "markdown",
   "metadata": {},
   "source": [
    "As you can see, the constructor takes two arguments, both declared within the module. Let us tell you about them:\n",
    "\n",
    "-   the former argument is a domain code (we may use the `AF_INET` symbol here to **specify the Internet socket domain** - do you remember?  \n",
    "      \n",
    "    We told you about Unix and INET domains in the previous section); as different domains require completely different socket countenance, the target domain has to be known at the moment;\n",
    "  \n",
    "-   the latter argument is a socket type code (we may use the `SOCK_STREAM` symbol here to **specify a high-level socket able to act as a character device** - a device that can handle single characters, as we are interested in transferring data byte by byte, not as fixed sized blocks (e.g., a terminal is a character device, while a disk isn't)\n",
    "\n",
    "Such a socket is prepared to work on top of TCP protocol - it's the default socket configuration.\n",
    "\n",
    "If you want to create a socket to cooperate with another protocol, like UDP, you will need to use a different constructor syntax.\n",
    "\n",
    "As you can see, the newly created socket object will be referenced by a variable named `sock`. No, it's not about the clothes. Really."
   ]
  },
  {
   "cell_type": "markdown",
   "metadata": {},
   "source": [
    "## 1.2.1.3 How to connect to a server"
   ]
  },
  {
   "cell_type": "markdown",
   "metadata": {},
   "source": [
    "## Connecting to a server\n",
    "\n",
    "If we use a socket on the client's side, we are ready to make use of it. The server, however, has a few more steps to take. In general, servers are usually more complex than clients (as one server serves many clients simultaneously) - this is the moment where our telephone analogies stop working.\n",
    "\n",
    "The configured socket (just like ours) is able to be connected to its counterpart on the server's side. Look at the code in the editor - this is how we perform the connection.\n",
    "\n",
    "The `connect()` method does what it promises - it tries to connect your socket to the service of the specified address and port (service) number.\n",
    "\n",
    "Note: we make use of the variant where the two values are passed to the method as elements of a tuple. This is why you see two pairs of parentheses there. Omitting one of them will obviously cause an error.\n",
    "\n",
    "Note: the form of the target service address (a pair consisting of the actual address and port number) is **specific for the INET domain**. Don't expect it to look the same in other domains.\n",
    "\n",
    "You may ask - why 80? Can I put something else instead of this? No, you can’t. 80 is a well-known service number for HTTP. Any Internet browser will try to connect to port number 80 by default, so we do it, too.\n",
    "\n",
    "Is it possible that the connection attempt will fail? Of course it is. There are lots of possible reasons: a malformed address of the service, a non-existent server, a connection error, and more. How we can discover such unpleasant events?\n",
    "\n",
    "If something goes wrong, the `connect()` method (and any other method whose results may be unsuccessful) **raises an exception**. Let us postpone the issue for a moment. For the moment we can assume then everything goes smoothly.\n",
    "\n",
    "Yes, we know. The awakening from this dream can be painful.\n",
    "\n",
    "The connection is ready. The server has accepted our connection and is very curious about what it will hear from us. Don't let it wait too long.\n",
    "\n",
    "But... what do we really want to tell the server anyway? How do we talk to the HTTP server to be sure that it understands us? We have to speak in HTTP, of course."
   ]
  },
  {
   "cell_type": "code",
   "execution_count": null,
   "metadata": {},
   "outputs": [],
   "source": [
    "import socket\n",
    "\n",
    "server_addr = input(\"What server do you want to connect to? \")\n",
    "sock = socket.socket(socket.AF_INET, socket.SOCK_STREAM)\n",
    "sock.connect((server_addr, 80))"
   ]
  },
  {
   "cell_type": "markdown",
   "metadata": {},
   "source": [
    "## 1.2.1.4 How to say something in HTTP"
   ]
  },
  {
   "cell_type": "markdown",
   "metadata": {},
   "source": [
    "## The GET method\n",
    "\n",
    "The HTTP protocol is one of the simplest Internet protocols, but it is still too complex to discuss fully here. For now, we'll tell you how to get a root document from the WWW site. Of course, we'll tell you more about it later.\n",
    "\n",
    "A conversation with the HTTP server consists of **requests (sent by the client) and responses (sent by the server)**.\n",
    "\n",
    "HTTP defines a set of acceptable requests - these are **the request methods or HTTP words**. The method asking the server to send a particular document of a given name is called `GET` (it's rather self-explanatory, isn't it?).\n",
    "\n",
    "To get a root document from a site named _www.site.com_ the client should send the request containing a correctly formed `GET` method description:"
   ]
  },
  {
   "cell_type": "code",
   "execution_count": null,
   "metadata": {},
   "outputs": [],
   "source": [
    "GET / HTTP/1.1\\r\\n\n",
    "Host: www.site.com\\r\\n\n",
    "Connection: close\\r\\n\n",
    "\\r\\n\n"
   ]
  },
  {
   "cell_type": "markdown",
   "metadata": {},
   "source": [
    "The `GET` method requires:\n",
    "\n",
    "-   a line containing the method name (i.e., `GET`) followed by the name of the resource the client wants to receive; the root document is specified as a single slash (i.e., `/`); the line must also include the HTTP protocol version (i.e., `HTTP/1.1`) and must end with the characters **`\\r\\n`**; note: all lines must end the same way;\n",
    "-   a line containing the name of the site (e.g., _www.site.com_) preceded by the parameter name (i.e., `Host:`)\n",
    "-   a line containing a parameter named `Connection:` along with its value `close`, which forces the server to close the connection after the first request is served; it will simplify our client's code;\n",
    "-   an empty line is **a request terminator**.\n",
    "\n",
    "It doesn’t look very clear, but it doesn't exceed our capabilities, does it?\n",
    "\n",
    "Okay, we know now that HTTP won't be our favourite language, but how we can send such a request to the server? It's simple. We have to invoke a method from within the socket object."
   ]
  },
  {
   "cell_type": "markdown",
   "metadata": {},
   "source": [
    "## 1.2.1.5 How to request a document from a server"
   ]
  },
  {
   "cell_type": "markdown",
   "metadata": {},
   "source": [
    "## Requesting a document from a server\n",
    "\n",
    "Yes, it's `send` - look at how we combine it with our code from the previous lesson:"
   ]
  },
  {
   "cell_type": "code",
   "execution_count": null,
   "metadata": {},
   "outputs": [],
   "source": [
    "sock.send(b\"GET / HTTP/1.1\\r\\nHost: \" +\n",
    "          bytes(server_addr, \"utf8\") +\n",
    "          b\"\\r\\nConnection: close\\r\\n\\r\\n\")"
   ]
  },
  {
   "cell_type": "markdown",
   "metadata": {},
   "source": [
    "The `send()` method doesn't natively accept strings - this is why we have to use the `b` prefix before the literal parts of the request string (it silently translates the _string_ into _bytes_ - an immutable vector consisting of values from the range 0..255, which `send()` likes most) and this is also why we should invoke `bytes()` to translate the string variable in the same manner.\n",
    "\n",
    "Note: the bytes' second argument specifies the encoding used to store the server's name. UTF8 seems to be the best choice for most modern OSs.\n",
    "\n",
    "The action performed by the `send()` method is extremely complicated - it engages not only many layers of the OS, but also lots of network equipment deployed on the route between the client and server, and obviously the server itself.\n",
    "\n",
    "Fortunately, we don't need to worry about it.\n",
    "\n",
    "Of course, if anything inside this complex mechanism fails, `send` will fail, too. As you may expect, **an exception is raised** then.\n",
    "\n",
    "Anyway, the die is cast. The request has been sent. What can we expect from the server?\n",
    "\n",
    "If the server is functional and there is a root document ready to send to us, we are allowed to receive it. We'll do it now without hesitation.\n",
    "\n",
    "Look at the final version of our code. We've provided it in the editor."
   ]
  },
  {
   "cell_type": "code",
   "execution_count": null,
   "metadata": {},
   "outputs": [],
   "source": [
    "import socket\n",
    "\n",
    "server_addr = input(\"What server do you want to connect to? \")\n",
    "sock = socket.socket(socket.AF_INET, socket.SOCK_STREAM)\n",
    "sock.connect((server_addr, 80))\n",
    "sock.send(b\"GET / HTTP/1.1\\r\\nHost: \" +\n",
    "          bytes(server_addr, \"utf8\") +\n",
    "          b\"\\r\\nConnection: close\\r\\n\\r\\n\")"
   ]
  },
  {
   "cell_type": "markdown",
   "metadata": {},
   "source": [
    "## Requesting a document from a server: continued\n",
    "\n",
    "The `recv()` method (in our humble opinion, not a very fortunate abbreviation of _receive_) waits for the server's response, gets it, and puts it inside a newly created object of type bytes. Look at the code we've provided in the editor.\n",
    "\n",
    "The argument specifies the maximal acceptable length of the data to be received. If the server's response is longer than this limit, it will remain unreceived.\n",
    "\n",
    "You will need to invoke `recv()` again (maybe more than once) to get the remaining part of the data. It's a general practice to invoke `recv()` as long as it returns some data.\n",
    "\n",
    "There are lots of bad things which can spoil our game. For example, the server may not want to talk with us.\n",
    "\n",
    "The transmission may cause some errors, too. All these fatalities will raise exceptions."
   ]
  },
  {
   "cell_type": "code",
   "execution_count": null,
   "metadata": {},
   "outputs": [],
   "source": [
    "import socket\n",
    "\n",
    "server_addr = input(\"What server do you want to connect to? \")\n",
    "sock = socket.socket(socket.AF_INET, socket.SOCK_STREAM)\n",
    "sock.connect((server_addr, 80))\n",
    "sock.send(b\"GET / HTTP/1.1\\r\\nHost: \" +\n",
    "          bytes(server_addr, \"utf8\") +\n",
    "          b\"\\r\\nConnection: close\\r\\n\\r\\n\")\n",
    "reply = sock.recv(10000)"
   ]
  },
  {
   "cell_type": "markdown",
   "metadata": {},
   "source": [
    "### 1.2.1.7 How to close the connection"
   ]
  },
  {
   "cell_type": "markdown",
   "metadata": {},
   "source": [
    "## Closing the connection\n",
    "\n",
    "As we want to neither send nor receive anything more, we ought to announce it to the server. We will do it in a very simple form, just like here:"
   ]
  },
  {
   "cell_type": "code",
   "execution_count": null,
   "metadata": {},
   "outputs": [],
   "source": [
    "import socket\n",
    "\n",
    "server_addr = input(\"What server do you want to connect to? \")\n",
    "sock = socket.socket(socket.AF_INET, socket.SOCK_STREAM)\n",
    "sock.connect((server_addr, 80))\n",
    "sock.send(b\"GET / HTTP/1.1\\r\\nHost: \" +\n",
    "          bytes(server_addr, \"utf8\") +\n",
    "          b\"\\r\\nConnection: close\\r\\n\\r\\n\")\n",
    "reply = sock.recv(10000)\n",
    "sock.shutdown(socket.SHUT_RDWR)\n",
    "sock.close()"
   ]
  },
  {
   "cell_type": "markdown",
   "metadata": {},
   "source": [
    "Invoking `shutdown()` is like a message whispered directly into the server's ear: \"We have no more to say to you. We don't want to hear from you, either. The rest is silence.\"\n",
    "\n",
    "Thanks to that, the server is aware of our intentions.\n",
    "\n",
    "The following function arguments say more about our views for the future:\n",
    "\n",
    "-   `socket.SHUT_RD` - we aren't going to read the server's messages anymore (we declare ourselves deaf)\n",
    "-   `socket.SHUT_WR` - we won't say a word (actually, we'll be dumb)\n",
    "-   `socket.SHUT_RDWR` - specifies the conjunction of the two previous options.\n",
    "\n",
    "Is there anything more we should do now?\n",
    "\n",
    "As our `GET` request demanded that the server close the connection as soon the response is sent and the server has been advised of our next steps (or rather of the fact that we've already done what we wanted to), we can assume that **the connection is fully terminated at this moment**.\n",
    "\n",
    "Some would say that closing it explicitly is an exaggerated diligence. We don't share this view and prefer to close the connection by expressing it literally.\n",
    "\n",
    "The parameterless `close()` method will do it for us - see our code in the editor."
   ]
  },
  {
   "cell_type": "markdown",
   "metadata": {},
   "source": [
    "## 1.2.1.8 Complete HTTP client"
   ]
  },
  {
   "cell_type": "markdown",
   "metadata": {},
   "source": [
    "## What did we get?\n",
    "\n",
    "Don't expect our code to be able to display the received document in the same way as the Internet browser shows it to you. A code able to do anything like this won't fit on your screen.\n",
    "\n",
    "Moreover, we don't want to write a new browser. We just want to check whether the data we received looks reasonable.\n",
    "\n",
    "We'll do it in the simplest (but a very elegant) way - we'll just print it out using the built-in `repr()` function, which takes care of the clear (almost) **textual presentation of any object**. We don't need anything more.\n",
    "\n",
    "This is why the last line of our code look as follows: `print(repr(answ))`.\n"
   ]
  },
  {
   "cell_type": "code",
   "execution_count": 3,
   "metadata": {},
   "outputs": [
    {
     "name": "stdout",
     "output_type": "stream",
     "text": [
      "What server do you want to connect to? google.com.tw\n",
      "b'HTTP/1.1 301 Moved Permanently\\r\\nLocation: http://www.google.com.tw/\\r\\nContent-Type: text/html; charset=UTF-8\\r\\nDate: Fri, 19 Mar 2021 11:41:10 GMT\\r\\nExpires: Sun, 18 Apr 2021 11:41:10 GMT\\r\\nCache-Control: public, max-age=2592000\\r\\nServer: gws\\r\\nContent-Length: 222\\r\\nX-XSS-Protection: 0\\r\\nX-Frame-Options: SAMEORIGIN\\r\\nConnection: close\\r\\n\\r\\n<HTML><HEAD><meta http-equiv=\"content-type\" content=\"text/html;charset=utf-8\">\\n<TITLE>301 Moved</TITLE></HEAD><BODY>\\n<H1>301 Moved</H1>\\nThe document has moved\\n<A HREF=\"http://www.google.com.tw/\">here</A>.\\r\\n</BODY></HTML>\\r\\n'\n"
     ]
    }
   ],
   "source": [
    "import socket\n",
    "\n",
    "server_addr = input(\"What server do you want to connect to? \")\n",
    "sock = socket.socket(socket.AF_INET, socket.SOCK_STREAM)\n",
    "sock.connect((server_addr, 80))\n",
    "sock.send(b\"GET / HTTP/1.1\\r\\nHost: \" +\n",
    "          bytes(server_addr, \"utf8\") +\n",
    "          b\"\\r\\nConnection: close\\r\\n\\r\\n\")\n",
    "reply = sock.recv(10000)\n",
    "sock.shutdown(socket.SHUT_RDWR)\n",
    "sock.close()\n",
    "print(repr(reply))"
   ]
  },
  {
   "cell_type": "markdown",
   "metadata": {},
   "source": [
    "## 1.2.1.9 The server's response"
   ]
  },
  {
   "cell_type": "markdown",
   "metadata": {},
   "source": [
    "## What can we expect from the server's response?\n",
    "\n",
    "If everything went successfully (the user entered a valid address, the Internet worked as expected, the server was willing to cooperate, etc.) you may see something like this on your screen:"
   ]
  },
  {
   "cell_type": "code",
   "execution_count": null,
   "metadata": {},
   "outputs": [],
   "source": [
    "What server do you want to connect to?  www.site.com\n",
    "b'HTTP/1.1 200 OK\\r\\nDate: Fri, 08 Mar 2019 08:24:41 GMT\\r\\nServer: UltraDNS Client Redirection Server\\r\\nLast-Modified: Fri, 08 Mar 2019 08:24:41 GMT\\r\\nAccept-Ranges: none\\r\\nConnection: close\\r\\nContent-Type: text/html\\r\\n\\r\\n\\r\\n\\r\\n\\r\\n\\r\\n\\r\\n\\r\\n\\r\\n\\r\\n\\r\\n'"
   ]
  },
  {
   "cell_type": "markdown",
   "metadata": {},
   "source": [
    "In fact, we see two separate parts:\n",
    "\n",
    "-   the first is the response header. We'll tell you a little secret - the topmost line is the most important, as is says whether the server sent back the requested document or not. Look, there is a very significant three-digit number: `200`.  \n",
    "      \n",
    "    It's your lucky number, as it's the status code. The number `200` is your best friend, as it announces that the mission was fully successful and you've got your document. The next few lines describe many important details, but we don't need them now. Skip your focus to the first empty line. It's very momentous as it separates the header from...\n",
    "  \n",
    "-   the document. Yes, this is the place where it starts. It may very bloated (it usually is) and we don't want to present it in full."
   ]
  },
  {
   "cell_type": "markdown",
   "metadata": {},
   "source": [
    "## 1.2.1.10 When something goes wrong... - exceptions"
   ]
  },
  {
   "cell_type": "markdown",
   "metadata": {},
   "source": [
    "## Entering a non-existing/malformed address\n",
    "\n",
    "The user has entered a non-existent or malformed address (no matter whether it’s expressed as a domain name or IP address). What will happen then? You can see such accidents here:"
   ]
  },
  {
   "cell_type": "markdown",
   "metadata": {},
   "source": [
    "```\n",
    "What server do you want to connect to? a.non.existent.name\n",
    "Traceback (most recent call last):\n",
    "  File \"cli.py\", line 5, in <module>\n",
    "    sock.connect((srvaddr, 80))\n",
    "socket.gaierror: [Errno -2] Name or service not known\n",
    "\n",
    "What server do you want to connect to? anonexistentname\n",
    "Traceback (most recent call last):\n",
    "  File \"cli.py\", line 5, in <module>\n",
    "    sock.connect((srvaddr, 80))\n",
    "socket.gaierror: [Errno -2] Name or service not known\n",
    "```"
   ]
  },
  {
   "cell_type": "markdown",
   "metadata": {},
   "source": [
    "It is also possible that a server of a specified address exists and it is working but doesn't provide the desired service. For example, a dedicated mail server may not respond to the connections addressed to port number 80.\n",
    "\n",
    "If you want to provoke such an event, replace 80 in the `connect()` invocation with any five-digit number not exceeding 65535 (11111 seems to be a good idea) and run the code.\n",
    "\n",
    "We bet you'll see something like this:"
   ]
  },
  {
   "cell_type": "markdown",
   "metadata": {},
   "source": [
    "```\n",
    "What server do you want to connect to? dedicated.server\n",
    "Traceback (most recent call last):\n",
    "  File \"cli2.py\", line 6, in <module>\n",
    "    sock.connect((srvaddr, 11111))\n",
    "ConnectionRefusedError: [Errno 111] Connection refused\n",
    "```"
   ]
  },
  {
   "cell_type": "markdown",
   "metadata": {},
   "source": [
    "As you can see, the exception is different than before - its name announces that the server has refused our connection. In other words, the server isn't intended to provide the services we want to utilize.\n",
    "\n",
    "  \n",
    "\n",
    "## The socket.timeout exception\n",
    "\n",
    "The last exception we want to tell you about is `socket.timeout`. This exception is raised when the server's reaction doesn't occur in a reasonable time - the length of our patience can be set using a method named `settimeout()`, but we don't want to go into details. We hope you'll forgive us.\n",
    "\n",
    "If you really want to induce such an exception, you'll have to do something naughty like break the network connection in the middle of a transfer, or shut down the server at a precisely chosen moment. We don't want you to do this. We want you to remember that such a situation may occur. Be prepared. Rust never sleeps."
   ]
  },
  {
   "cell_type": "markdown",
   "metadata": {},
   "source": [
    "## 1.3.1.1 JSON – our new friend"
   ]
  },
  {
   "cell_type": "markdown",
   "metadata": {},
   "source": [
    "Let us explain its meaning:\n",
    "\n",
    "-   Java...\n",
    "-   ...Script\n",
    "-   Object\n",
    "-   Notation\n",
    "\n",
    "As you can see, there’s a little riddle inside the name. It may be a bit disturbing, too, and some sudden questions may have appeared in your mind just now, e.g., “Java? Do you want me to learn Java? Or even JavaScript?”\n",
    "\n",
    "No, we don't. Fortunately, the notation we want to tell you about, although created with JavaScript environments in mind, works perfectly without JavaScript. In fact, it can be used by virtually all modern programming environments thanks to the standardized libraries of functions and unified services. It doesn't matter what programming language has been used to implement a certain solution – JSON is a kind of universal bridge able to move data between seemingly incompatible parties.\n",
    "\n",
    "JSON is the answer to quite a basic need – the need to transfer data that is the content of an object or set of objects. The mechanism which solves it should be portable and platform independent."
   ]
  },
  {
   "cell_type": "markdown",
   "metadata": {},
   "source": [
    "The problem we need to struggle with is **how to represent an object** (understood as a set of data of different types, including other objects) or even a single value in a way that can survive network transfers and inter-platform conversions.\n",
    "\n",
    "JSON solves the problem using two simple tricks:\n",
    "\n",
    "-   it uses **UTF-8 coded text** – this means that no machine/platform-dependent formats are used; it also means that the data JSON carries is readable (poorly, but always readable) and comprehensible by humans;\n",
    "-   it uses a simple and not very expanded **format** (we can call it syntax, or even grammar) to represent mutual dependencies and relations between different parts of objects, and is able to transfer not only the values of objects’ properties, but also their names.\n",
    "\n",
    "In JSON, it can be an unnamed value like a number, a string, a Boolean or… nothing , although this is not what we like most about JSON. JSON is able to carry far more complex data, collected and aggregated in larger compounds.\n",
    "\n",
    "If you want to transfer not only raw data but also all the names bound to it (like the way in which objects hold their properties), JSON offers a syntax which looks like a close relative of Python's dictionary, which is, in fact, a set of `key:value` pairs. Making such an assumption leads us to the following question – can we use Python's syntax to code and decode network messages in `REST`?\n",
    "\n",
    "Yes, we can, but it won't be JSON. If you want your data to be widely understood (not only by Python counterparts), you should use JSON.\n",
    "\n",
    "Let’s start with a very simple example. We want to build a message encapsulating an object containing just one property named prop along with its real (floating-point) value of `2.78`.\n",
    "\n",
    "This is how JSON comes to this:\n",
    "\n",
    "`{ \"prop\": 2.78 }`\n",
    "\n",
    "Simple? Absolutely!\n",
    "\n",
    "Now we’re ready to go deeper. Let us show you how JSON represents values of common types.\n",
    "\n",
    "Note: our presentation is rather comprehensive. If you need more details, refer to the original JSON documentation available here: [http://www.ecma-international.org/publications/files/ECMA-ST/ECMA-404.pdf](http://www.ecma-international.org/publications/files/ECMA-ST/ECMA-404.pdf)."
   ]
  },
  {
   "cell_type": "markdown",
   "metadata": {},
   "source": [
    "## 1.3.1.3 JSON – our new friend"
   ]
  },
  {
   "cell_type": "markdown",
   "metadata": {},
   "source": [
    "If you want to encode an integer value (e.g., 123) you will specify this in the following way:\n",
    "\n",
    "`123`\n",
    "\n",
    "Looks familiar, doesn't it? Don’t get carried away just yet. JSON's integer literals use **some different tricks** to those of Python. In general, you may expect no surprises when you use regular decimal integers, but keep in mind that **JSON knows nothing about numbers written using radices different to 10**, so literals like these:\n",
    "\n",
    "-   `0x10`\n",
    "-   `0o10`\n",
    "-   `0b10`\n",
    "\n",
    "won't be recognized in the JSON environment. Feel free to use a minus sign to put negative numbers inside the JSON text. **Don't use a plus sign** to show that a number is positive. Moreover, **don't use leading zeros**. That's an order.\n",
    "\n",
    "  \n",
    "\n",
    "**Real numbers** in JSON are the same as in Python, including utilization of _scientific notation_.\n",
    "\n",
    "Here’s an example:\n",
    "\n",
    "`3.141592653589 3.0857E16 −1.6021766208E−19`\n",
    "\n",
    "  \n",
    "\n",
    "JSON **strings** may look familiar, but there is one important difference – **you must not use apostrophes** to delimit the text. The only delimiter allowed is a quote, like here:\n",
    "\n",
    "`\"Python\"`\n",
    "\n",
    "  \n",
    "\n",
    "This means that you can’t just insert a quote inside the string – you have to use our old friend backslash (\\\\) followed by a quote instead.\n",
    "\n",
    "Nothing exciting – but we’re used to that:\n",
    "\n",
    "`\"\\\"Monty Python's\\\"\"`"
   ]
  },
  {
   "cell_type": "markdown",
   "metadata": {},
   "source": [
    "Just like in Python, there are some more digraphs and moregraphs (we’re joking, don’t let us confuse you) starting with \\ in JSON. We’ve collected all of them here:"
   ]
  },
  {
   "cell_type": "markdown",
   "metadata": {},
   "source": [
    "![](./images/69_JSON.png)"
   ]
  },
  {
   "cell_type": "markdown",
   "metadata": {},
   "source": [
    "Note that in Python you don’t have to precede / with \\\\.\n",
    "\n",
    "The `\\u` (or `\\U`) digraph starts a hexadecimal UNICODE code point and must contain exactly **four hexadecimal digits** (it doesn't matter if the letters are upper- or lower-case).\n",
    "\n",
    "Don't forget that JSON strings **cannot be split over multiple lines** – each string must fit entirely on one line (of course, there may be more than one string on the same line).\n",
    "\n",
    "  \n",
    "\n",
    "**Boolean values** are represented (like in Python) by two specific identifiers (the literal name tokens): **true** and **false**:\n",
    "\n",
    "```\n",
    "true \n",
    "false\n",
    "```\n",
    "\n",
    "Note: you have to **preserve the case of the literals**, as this is the only acceptable form.\n",
    "\n",
    "  \n",
    "\n",
    "There is one more literal name token in JSON, whose meaning is similar to the one known in Python as `None` – it may be used to represent no value, or a value without any meaning.\n",
    "\n",
    "It is called `null` in JSON:\n",
    "\n",
    "`null`"
   ]
  },
  {
   "cell_type": "markdown",
   "metadata": {},
   "source": [
    "## 1.3.1.4 JSON – our new friend"
   ]
  },
  {
   "cell_type": "markdown",
   "metadata": {},
   "source": [
    "In JSON, all the above values may be combined (or packed) in two ways:\n",
    "\n",
    "-   inside **arrays** (which are a very close relative to Python lists);\n",
    "-   inside **objects** (which resemble Python dictionaries more than objects)\n",
    "\n",
    "It should be noted that both ways can recursively incorporate any of the two, e.g., a list may contain an object which contains an object which contains a list and so on.\n",
    "\n",
    "Any JSON object property may contain (or carry) an array. The syntax JSON uses to encode arrays is very similar to the one used by Python to describe lists. For example, it uses square brackets (or just brackets) to delimit array content and uses commas to separate an array's elements – just like here:\n",
    "\n",
    "`[1, 2, 3]`\n",
    "\n",
    "  \n",
    "\n",
    "An **empty array** is denoted simply as a pair of brackets – just like in Python:\n",
    "\n",
    "`[ ]`\n",
    "\n",
    "  \n",
    "\n",
    "Contrary to an array, a JSON object is a set of property specifications surrounded by a pair of braces (curly brackets) – just like here – we’ve marked them in red:\n",
    "\n",
    "`{ \"prop\": 2.78 }`\n",
    "\n",
    "The property specification is a `name:value` pair with a colon as a separator where the name must be **enclosed in quotes**.\n",
    "\n",
    "It's worth mentioning that braces are commonly used in all C-derived programming languages and play a role similar to the one known from Python nesting – they mark the boundaries of data definitions or blocks of code. No wonder, then, that they appear in JSON, as JavaScript derives from the C-language too. The similarity to Python dictionary syntax is unintentional.\n",
    "\n",
    "In this approach, a JSON object is a **set of property specifications separated by commas.**\n",
    "\n",
    "One important (and very surprising) thing should be stated here. There are **no restrictions on property names**. No, not at all. These names don't identify variables, so they don’t have to be unique. They don't have to start with a letter. They can even contain a colon, which may seem a little weird at first glance.\n",
    "\n",
    "This doesn't mean that you have to use weird property names. We suggest you don’t do that at all. It only means that the property name's semantic isn't a part of the JSON standard. In other words, JSON is semantically blind when it comes to property names. It's none of its business how you name your properties.\n",
    "\n",
    "  \n",
    "\n",
    "If you want to express the fact that a particular **object is empty**, you need to leave the braces and ensure that there is no content between them – just like here:\n",
    "\n",
    "`{ }`\n",
    "\n",
    "  \n",
    "\n",
    "When there is more than one property in an object, you can specify all of them in **any order** using commas to separate the items from each other. As JSON ignores white spaces (including tabs) which aren't a part of strings, you can format (or unformat) the text in any way.\n",
    "\n",
    "For example, both these JSON objects are the same:\n",
    "\n",
    "`{ x: 123, y: -1 }`\n",
    "\n",
    "`{x:123, y:-1}`\n",
    "\n",
    "The first is easier to read (for humans), while the second is cheaper to transmit (it occupies fewer bytes)."
   ]
  },
  {
   "cell_type": "markdown",
   "metadata": {},
   "source": [
    "## 1.3.1.5 JSON – our new friend"
   ]
  },
  {
   "cell_type": "markdown",
   "metadata": {},
   "source": [
    "Of course, you may incorporate **different types** of data inside one object:"
   ]
  },
  {
   "cell_type": "code",
   "execution_count": null,
   "metadata": {},
   "outputs": [],
   "source": [
    "\t{ me: \"Python\",\n",
    "\tpi: 3.141592653589,\n",
    "\tparsec: 3.0857E16, \n",
    "\telectron: −1.6021766208E−19\n",
    "\tfriend: \"JSON\",\n",
    "\toff: true,\n",
    "\ton: false,\n",
    "\tset: null }"
   ]
  },
  {
   "cell_type": "markdown",
   "metadata": {},
   "source": [
    "Any of the previously described elements can be put **inside an array**, and this rule may be applied recursively, which means that an array can contain another array which may contain another complete object, and so on.\n",
    "\n",
    "The example shows a very specific and not very practical, but completely correct, compound:"
   ]
  },
  {
   "cell_type": "code",
   "execution_count": null,
   "metadata": {},
   "outputs": [],
   "source": [
    "{ob:{ar:[\"a\", 1, 3.14, false]}}"
   ]
  },
  {
   "cell_type": "markdown",
   "metadata": {},
   "source": [
    "The JSON object contains another object named `ob`, which consists of one property, which is an array."
   ]
  },
  {
   "cell_type": "markdown",
   "metadata": {},
   "source": [
    "## 1.4.1.1 Talking to JSON in Python"
   ]
  },
  {
   "cell_type": "markdown",
   "metadata": {},
   "source": [
    "## Working with the JSON module in Python\n",
    "\n",
    "Now that we're familiar with JSON essentials, it's time to learn how to use it with Python. We're a little worried you may think that we want you to laboriously build JSON messages, fretting over all these brackets, parentheses and colons, and to break down complex JSON lines into prime factors. Nothing could be further from the truth! We’re not in the habit of coming up with such crazy ideas, although, to be honest, it's not as complex as it may seem and we're convinced that you’d be able to cope with such a challenge. Fortunately, you don't need to.\n",
    "\n",
    "Why?\n",
    "\n",
    "Because there’s a Python module – named **JSON** – which is able to perform all those drudgeries for you.\n",
    "\n",
    "How do we start a new adventure? It's obvious, and we're sure that you knew it before we asked:"
   ]
  },
  {
   "cell_type": "code",
   "execution_count": null,
   "metadata": {},
   "outputs": [],
   "source": [
    "import json"
   ]
  },
  {
   "cell_type": "markdown",
   "metadata": {},
   "source": [
    "The first JSON module's power is the ability to automatically **convert Python data** (not all of it and not always) into a JSON string. If you want to carry out such an operation, you may use a function named `dumps()`.\n",
    "\n",
    "Note: the `’s` at the end of the function's name means _string_. There is a very similar function with the name deprived of this suffix which **writes the JSON string to the file** for file-like streams.\n",
    "\n",
    "The function does what it promises – it takes data (even somewhat complicated data) and produces a string filled with a JSON message. Of course, `dumps()` isn't a prophet and it's not able to read your mind, so don't expect miracles.\n",
    "\n",
    "  \n",
    "\n",
    "Let’s start with some simple snippets.\n",
    "\n",
    "The first of our samples takes a number and outputs a number – we don't expect anything more:"
   ]
  },
  {
   "cell_type": "code",
   "execution_count": 2,
   "metadata": {},
   "outputs": [
    {
     "name": "stdout",
     "output_type": "stream",
     "text": [
      "1602176620.898\n"
     ]
    }
   ],
   "source": [
    "import json\n",
    "\n",
    "electron = 1.602176620898E9\n",
    "print(json.dumps(electron))"
   ]
  },
  {
   "cell_type": "markdown",
   "metadata": {},
   "source": [
    "Note: the notation is different but the value remains the same. Check it yourself."
   ]
  },
  {
   "cell_type": "markdown",
   "metadata": {},
   "source": [
    "Let's do the same but with a **string**, like this:"
   ]
  },
  {
   "cell_type": "code",
   "execution_count": 3,
   "metadata": {},
   "outputs": [
    {
     "name": "stdout",
     "output_type": "stream",
     "text": [
      "\"\\\"The Meaning of Life\\\" by Monty Python's Flying Circus\"\n"
     ]
    }
   ],
   "source": [
    "import json\n",
    "\n",
    "comics = '\"The Meaning of Life\" by Monty Python\\'s Flying Circus'\n",
    "print(json.dumps(comics))"
   ]
  },
  {
   "cell_type": "markdown",
   "metadata": {},
   "source": [
    "Now’s a good moment to introduce a **list**. What do you think about this example?"
   ]
  },
  {
   "cell_type": "code",
   "execution_count": 4,
   "metadata": {},
   "outputs": [
    {
     "name": "stdout",
     "output_type": "stream",
     "text": [
      "[1, 2.34, true, \"False\", null, [\"a\", 0]]\n"
     ]
    }
   ],
   "source": [
    "import json\n",
    "\n",
    "my_list = [1, 2.34, True, \"False\", None, ['a', 0]]\n",
    "print(json.dumps(my_list))"
   ]
  },
  {
   "cell_type": "markdown",
   "metadata": {},
   "source": [
    "We want to ask you a question here – what will happen if we use a tuple instead of a list? The answer is predictable – nothing. **As JSON cannot distinguish between lists and tuples, both of these are converted into JSON arrays**."
   ]
  },
  {
   "cell_type": "code",
   "execution_count": 5,
   "metadata": {},
   "outputs": [
    {
     "name": "stdout",
     "output_type": "stream",
     "text": [
      "{\"me\": \"Python\", \"pi\": 3.141592653589, \"data\": [1, 2, 4, 8], \"set\": null}\n"
     ]
    }
   ],
   "source": [
    "import json\n",
    "\n",
    "my_dict = {'me': \"Python\", 'pi': 3.141592653589, 'data': (1, 2, 4, 8), 'set': None}\n",
    "print(json.dumps(my_dict))\n"
   ]
  },
  {
   "cell_type": "markdown",
   "metadata": {},
   "source": [
    "## 1.4.1.2 Talking to JSON in Python"
   ]
  },
  {
   "cell_type": "markdown",
   "metadata": {},
   "source": [
    "As you can see, Python uses a small set of simple rules to build JSON messages from its native data. Here it is:"
   ]
  },
  {
   "cell_type": "markdown",
   "metadata": {},
   "source": [
    "![](./images/70_python_and_JSON.png)"
   ]
  },
  {
   "cell_type": "markdown",
   "metadata": {},
   "source": [
    "It looks simple and consistent. So where’s the trap?\n",
    "\n",
    "The trap is here:"
   ]
  },
  {
   "cell_type": "code",
   "execution_count": 7,
   "metadata": {},
   "outputs": [
    {
     "ename": "TypeError",
     "evalue": "Object of type Who is not JSON serializable",
     "output_type": "error",
     "traceback": [
      "\u001b[1;31m---------------------------------------------------------------------------\u001b[0m",
      "\u001b[1;31mTypeError\u001b[0m                                 Traceback (most recent call last)",
      "\u001b[1;32m<ipython-input-7-a917039ad0c5>\u001b[0m in \u001b[0;36m<module>\u001b[1;34m\u001b[0m\n\u001b[0;32m      9\u001b[0m \u001b[1;33m\u001b[0m\u001b[0m\n\u001b[0;32m     10\u001b[0m \u001b[0msome_man\u001b[0m \u001b[1;33m=\u001b[0m \u001b[0mWho\u001b[0m\u001b[1;33m(\u001b[0m\u001b[1;34m'John Doe'\u001b[0m\u001b[1;33m,\u001b[0m \u001b[1;36m42\u001b[0m\u001b[1;33m)\u001b[0m\u001b[1;33m\u001b[0m\u001b[1;33m\u001b[0m\u001b[0m\n\u001b[1;32m---> 11\u001b[1;33m \u001b[0mprint\u001b[0m\u001b[1;33m(\u001b[0m\u001b[0mjson\u001b[0m\u001b[1;33m.\u001b[0m\u001b[0mdumps\u001b[0m\u001b[1;33m(\u001b[0m\u001b[0msome_man\u001b[0m\u001b[1;33m)\u001b[0m\u001b[1;33m)\u001b[0m\u001b[1;33m\u001b[0m\u001b[1;33m\u001b[0m\u001b[0m\n\u001b[0m",
      "\u001b[1;32mc:\\python37\\lib\\json\\__init__.py\u001b[0m in \u001b[0;36mdumps\u001b[1;34m(obj, skipkeys, ensure_ascii, check_circular, allow_nan, cls, indent, separators, default, sort_keys, **kw)\u001b[0m\n\u001b[0;32m    229\u001b[0m         \u001b[0mcls\u001b[0m \u001b[1;32mis\u001b[0m \u001b[1;32mNone\u001b[0m \u001b[1;32mand\u001b[0m \u001b[0mindent\u001b[0m \u001b[1;32mis\u001b[0m \u001b[1;32mNone\u001b[0m \u001b[1;32mand\u001b[0m \u001b[0mseparators\u001b[0m \u001b[1;32mis\u001b[0m \u001b[1;32mNone\u001b[0m \u001b[1;32mand\u001b[0m\u001b[1;33m\u001b[0m\u001b[1;33m\u001b[0m\u001b[0m\n\u001b[0;32m    230\u001b[0m         default is None and not sort_keys and not kw):\n\u001b[1;32m--> 231\u001b[1;33m         \u001b[1;32mreturn\u001b[0m \u001b[0m_default_encoder\u001b[0m\u001b[1;33m.\u001b[0m\u001b[0mencode\u001b[0m\u001b[1;33m(\u001b[0m\u001b[0mobj\u001b[0m\u001b[1;33m)\u001b[0m\u001b[1;33m\u001b[0m\u001b[1;33m\u001b[0m\u001b[0m\n\u001b[0m\u001b[0;32m    232\u001b[0m     \u001b[1;32mif\u001b[0m \u001b[0mcls\u001b[0m \u001b[1;32mis\u001b[0m \u001b[1;32mNone\u001b[0m\u001b[1;33m:\u001b[0m\u001b[1;33m\u001b[0m\u001b[1;33m\u001b[0m\u001b[0m\n\u001b[0;32m    233\u001b[0m         \u001b[0mcls\u001b[0m \u001b[1;33m=\u001b[0m \u001b[0mJSONEncoder\u001b[0m\u001b[1;33m\u001b[0m\u001b[1;33m\u001b[0m\u001b[0m\n",
      "\u001b[1;32mc:\\python37\\lib\\json\\encoder.py\u001b[0m in \u001b[0;36mencode\u001b[1;34m(self, o)\u001b[0m\n\u001b[0;32m    197\u001b[0m         \u001b[1;31m# exceptions aren't as detailed.  The list call should be roughly\u001b[0m\u001b[1;33m\u001b[0m\u001b[1;33m\u001b[0m\u001b[1;33m\u001b[0m\u001b[0m\n\u001b[0;32m    198\u001b[0m         \u001b[1;31m# equivalent to the PySequence_Fast that ''.join() would do.\u001b[0m\u001b[1;33m\u001b[0m\u001b[1;33m\u001b[0m\u001b[1;33m\u001b[0m\u001b[0m\n\u001b[1;32m--> 199\u001b[1;33m         \u001b[0mchunks\u001b[0m \u001b[1;33m=\u001b[0m \u001b[0mself\u001b[0m\u001b[1;33m.\u001b[0m\u001b[0miterencode\u001b[0m\u001b[1;33m(\u001b[0m\u001b[0mo\u001b[0m\u001b[1;33m,\u001b[0m \u001b[0m_one_shot\u001b[0m\u001b[1;33m=\u001b[0m\u001b[1;32mTrue\u001b[0m\u001b[1;33m)\u001b[0m\u001b[1;33m\u001b[0m\u001b[1;33m\u001b[0m\u001b[0m\n\u001b[0m\u001b[0;32m    200\u001b[0m         \u001b[1;32mif\u001b[0m \u001b[1;32mnot\u001b[0m \u001b[0misinstance\u001b[0m\u001b[1;33m(\u001b[0m\u001b[0mchunks\u001b[0m\u001b[1;33m,\u001b[0m \u001b[1;33m(\u001b[0m\u001b[0mlist\u001b[0m\u001b[1;33m,\u001b[0m \u001b[0mtuple\u001b[0m\u001b[1;33m)\u001b[0m\u001b[1;33m)\u001b[0m\u001b[1;33m:\u001b[0m\u001b[1;33m\u001b[0m\u001b[1;33m\u001b[0m\u001b[0m\n\u001b[0;32m    201\u001b[0m             \u001b[0mchunks\u001b[0m \u001b[1;33m=\u001b[0m \u001b[0mlist\u001b[0m\u001b[1;33m(\u001b[0m\u001b[0mchunks\u001b[0m\u001b[1;33m)\u001b[0m\u001b[1;33m\u001b[0m\u001b[1;33m\u001b[0m\u001b[0m\n",
      "\u001b[1;32mc:\\python37\\lib\\json\\encoder.py\u001b[0m in \u001b[0;36miterencode\u001b[1;34m(self, o, _one_shot)\u001b[0m\n\u001b[0;32m    255\u001b[0m                 \u001b[0mself\u001b[0m\u001b[1;33m.\u001b[0m\u001b[0mkey_separator\u001b[0m\u001b[1;33m,\u001b[0m \u001b[0mself\u001b[0m\u001b[1;33m.\u001b[0m\u001b[0mitem_separator\u001b[0m\u001b[1;33m,\u001b[0m \u001b[0mself\u001b[0m\u001b[1;33m.\u001b[0m\u001b[0msort_keys\u001b[0m\u001b[1;33m,\u001b[0m\u001b[1;33m\u001b[0m\u001b[1;33m\u001b[0m\u001b[0m\n\u001b[0;32m    256\u001b[0m                 self.skipkeys, _one_shot)\n\u001b[1;32m--> 257\u001b[1;33m         \u001b[1;32mreturn\u001b[0m \u001b[0m_iterencode\u001b[0m\u001b[1;33m(\u001b[0m\u001b[0mo\u001b[0m\u001b[1;33m,\u001b[0m \u001b[1;36m0\u001b[0m\u001b[1;33m)\u001b[0m\u001b[1;33m\u001b[0m\u001b[1;33m\u001b[0m\u001b[0m\n\u001b[0m\u001b[0;32m    258\u001b[0m \u001b[1;33m\u001b[0m\u001b[0m\n\u001b[0;32m    259\u001b[0m def _make_iterencode(markers, _default, _encoder, _indent, _floatstr,\n",
      "\u001b[1;32mc:\\python37\\lib\\json\\encoder.py\u001b[0m in \u001b[0;36mdefault\u001b[1;34m(self, o)\u001b[0m\n\u001b[0;32m    177\u001b[0m \u001b[1;33m\u001b[0m\u001b[0m\n\u001b[0;32m    178\u001b[0m         \"\"\"\n\u001b[1;32m--> 179\u001b[1;33m         raise TypeError(f'Object of type {o.__class__.__name__} '\n\u001b[0m\u001b[0;32m    180\u001b[0m                         f'is not JSON serializable')\n\u001b[0;32m    181\u001b[0m \u001b[1;33m\u001b[0m\u001b[0m\n",
      "\u001b[1;31mTypeError\u001b[0m: Object of type Who is not JSON serializable"
     ]
    }
   ],
   "source": [
    "import json\n",
    "\n",
    "\n",
    "class Who:\n",
    "    def __init__(self, name, age):\n",
    "        self.name = name\n",
    "        self.age = age\n",
    "\n",
    "\n",
    "some_man = Who('John Doe', 42)\n",
    "print(json.dumps(some_man))"
   ]
  },
  {
   "cell_type": "markdown",
   "metadata": {},
   "source": [
    "---"
   ]
  },
  {
   "cell_type": "markdown",
   "metadata": {},
   "source": [
    "Yes, that's the clue. You cannot just dump the content of an object, even an object as simple as this one.\n",
    "\n",
    "Of course, if you don't need anything more than a set of object properties and their values, you can perform a (somewhat dirty) trick and dump not the object itself, but its `__dict__` property content. It will work, but we expect more.\n",
    "\n",
    "What should we do?\n",
    "\n",
    "There are at least two options we can make use of. The first of them is based on the fact that we can **substitute** the function `dumps()` uses to obtain a textual representation of its argument. There are two steps to take:\n",
    "\n",
    "-   **write your own function** knowing how to handle your objects;\n",
    "-   **make `dumps()` aware of it** by setting the keyword argument named default;\n",
    "\n",
    "Now look at the code in the editor window. The example shows a simple implementation of the idea."
   ]
  },
  {
   "cell_type": "code",
   "execution_count": 6,
   "metadata": {},
   "outputs": [
    {
     "name": "stdout",
     "output_type": "stream",
     "text": [
      "{\"name\": \"John Doe\", \"age\": 42}\n"
     ]
    }
   ],
   "source": [
    "import json\n",
    "\n",
    "\n",
    "class Who:\n",
    "    def __init__(self, name, age):\n",
    "        self.name = name\n",
    "        self.age = age\n",
    "\n",
    "\n",
    "def encode_who(w):\n",
    "    if isinstance(w, Who):\n",
    "        return w.__dict__\n",
    "    else:\n",
    "        raise TypeError(w.__class__.__name__ + ' is not JSON serializable')\n",
    "\n",
    "\n",
    "some_man = Who('John Doe', 42)\n",
    "print(json.dumps(some_man, default=encode_who))\n"
   ]
  },
  {
   "cell_type": "markdown",
   "metadata": {},
   "source": [
    "---"
   ]
  },
  {
   "cell_type": "markdown",
   "metadata": {},
   "source": [
    "Note: we decided to use the dictionary as a target for the JSON message. Thanks to that we’ll save the property names along with their values. It’ll make JSON easier to read and more understandable for humans.\n",
    "\n",
    "Note: raising a `TypeError` exception is obligatory – this is the only way to inform `dumps()` that your function isn't able to convert objects other than those derived from the class `Who`.\n",
    "\n",
    "Note: the process in which an object (stored internally by Python) is **converted into textual or any other portable aspect** is often called **serialization**. Similarly, the reverse action (from portable into internal) is called **deserialization**.\n",
    "\n",
    "As you can see, we’ve converted (serialize) our object into a dictionary – `dumps()` will turn it into a JSON object."
   ]
  },
  {
   "cell_type": "markdown",
   "metadata": {},
   "source": [
    "## 1.4.1.3 Talking to JSON in Python"
   ]
  },
  {
   "cell_type": "code",
   "execution_count": 8,
   "metadata": {},
   "outputs": [
    {
     "name": "stdout",
     "output_type": "stream",
     "text": [
      "{\"name\": \"John Doe\", \"age\": 42}\n"
     ]
    }
   ],
   "source": [
    "import json\n",
    "\n",
    "\n",
    "class Who:\n",
    "    def __init__(self, name, age):\n",
    "        self.name = name\n",
    "        self.age = age\n",
    "\n",
    "\n",
    "class MyEncoder(json.JSONEncoder):\n",
    "    def default(self, w):\n",
    "        if isinstance(w, Who):\n",
    "            return w.__dict__\n",
    "        else:\n",
    "            return super().default(self, z)\n",
    "\n",
    "\n",
    "some_man = Who('John Doe', 42)\n",
    "print(json.dumps(some_man, cls=MyEncoder))\n"
   ]
  },
  {
   "cell_type": "markdown",
   "metadata": {},
   "source": [
    "---"
   ]
  },
  {
   "cell_type": "markdown",
   "metadata": {},
   "source": [
    "The second approach is based on the fact that the serialization is actually done by the method named `default()`, which is a part of the `json.JSONEncoder class`. It gives you the opportunity to overload the method defining a `JSONEncoder's` subclass and to pass it into `dumps()` using the keyword argument named `cls` – just like in the code we've provided in the editor.\n",
    "\n",
    "As you can see, we are released from the obligation to raise any exceptions. Nice, isn't it?"
   ]
  },
  {
   "cell_type": "markdown",
   "metadata": {},
   "source": [
    "---"
   ]
  },
  {
   "cell_type": "markdown",
   "metadata": {},
   "source": [
    "It seems that we know enough about how to travel from Python land to JSON world, but still know anything about how to return. Let's take care of it.\n",
    "\n",
    "  \n",
    "\n",
    "The function which is able to **get a JSON string and to turn it into Python data** is named `loads()` – it takes a string (hence the s at the end of its name) and tries to create a Python entity corresponding to the received data.\n",
    "\n",
    "This is how it goes:"
   ]
  },
  {
   "cell_type": "code",
   "execution_count": 9,
   "metadata": {},
   "outputs": [
    {
     "name": "stdout",
     "output_type": "stream",
     "text": [
      "<class 'float'>\n",
      "16021766189.98\n"
     ]
    }
   ],
   "source": [
    "import json\n",
    "\n",
    "jstr = '16021766189.98'\n",
    "electron = json.loads(jstr)\n",
    "print(type(electron))\n",
    "print(electron)"
   ]
  },
  {
   "cell_type": "markdown",
   "metadata": {},
   "source": [
    "---"
   ]
  },
  {
   "cell_type": "markdown",
   "metadata": {},
   "source": [
    "The `loads()` function is able to cope with **strings**, too. Take a look at the snippet:"
   ]
  },
  {
   "cell_type": "code",
   "execution_count": 11,
   "metadata": {},
   "outputs": [
    {
     "name": "stdout",
     "output_type": "stream",
     "text": [
      "<class 'str'>\n",
      "\"The Meaning of Life\" by Monty Python's Flying Circus\n"
     ]
    }
   ],
   "source": [
    "import json\n",
    "\n",
    "jstr = '\"\\\\\"The Meaning of Life\\\\\" by Monty Python\\'s Flying Circus\"'\n",
    "comics = json.loads(jstr)\n",
    "print(type(comics))\n",
    "print(comics)"
   ]
  },
  {
   "cell_type": "markdown",
   "metadata": {},
   "source": [
    "---"
   ]
  },
  {
   "cell_type": "markdown",
   "metadata": {},
   "source": [
    "Can you see the double backslashes inside the `jstr`? Are they really needed?\n",
    "\n",
    "Yes, they are, as we have to deliver an exact JSON string into the `loads()`. This means that the backslash must precede all quotes existing within the string. Removing any of them will make the string invalid and `loads()` will not like it for sure."
   ]
  },
  {
   "cell_type": "markdown",
   "metadata": {},
   "source": [
    "## 1.4.1.4 Talking to JSON in Python"
   ]
  },
  {
   "cell_type": "code",
   "execution_count": 12,
   "metadata": {},
   "outputs": [
    {
     "name": "stdout",
     "output_type": "stream",
     "text": [
      "<class '__main__.Who'>\n",
      "{'name': 'Jane Doe', 'age': 23}\n"
     ]
    }
   ],
   "source": [
    "import json\n",
    "\n",
    "\n",
    "class Who:\n",
    "    def __init__(self, name, age):\n",
    "        self.name = name\n",
    "        self.age = age\n",
    "\n",
    "\n",
    "def encode_who(w):\n",
    "    if isinstance(w, Who):\n",
    "        return w.__dict__\n",
    "    else:\n",
    "        raise TypeError(w.__class__.__name__ + 'is not JSON serializable')\n",
    "\n",
    "\n",
    "def decode_who(w):\n",
    "    return Who(w['name'], w['age'])\n",
    "\n",
    "\n",
    "old_man = Who(\"Jane Doe\", 23)\n",
    "json_str = json.dumps(old_man, default=encode_who)\n",
    "new_man = json.loads(json_str, object_hook=decode_who)\n",
    "print(type(new_man))\n",
    "print(new_man.__dict__)\n"
   ]
  },
  {
   "cell_type": "markdown",
   "metadata": {},
   "source": [
    "---"
   ]
  },
  {
   "cell_type": "markdown",
   "metadata": {},
   "source": [
    "if a number encoded inside a JSON string **doesn't have any fraction** part, Python will create an **integer** number, or a **float number otherwise**.\n",
    "\n",
    "But what about Python's objects – can we deserialize them in the same way as we performed the serialization?\n",
    "\n",
    "As you probably expect, deserializing an object may require some additional steps. Yes, indeed. As `loads()` isn't able to guess what object (of which class) you actually need to deserialize, you have to provide this information.\n",
    "\n",
    "Take a look at the snippet we've provided in the editor window.\n",
    "\n",
    "As you can see, there’s a keyword argument name `object_hook`, which is used to point to the function responsible for creating a brand new object of a needed class and for filling it with actual data.\n",
    "\n",
    "Note: the `decode_who()` function receives a Python entity, or more specifically – a **dictionary**. As `Who`'s constructor expects two _ordinary_ values, a string and a number, not a dictionary, we have to use a little trick – we've employed the double `*` operator to turn the directory into a **list of keyword arguments** built out of the dictionary's `key:value` pairs. Of course, the keys in the dictionary must have the same names as the constructor's parameters.\n",
    "\n",
    "Note: the function, specified by the `object_hook` will be invoked only when the JSON string describes a JSON object. Sorry, there are no exceptions to this rule."
   ]
  },
  {
   "cell_type": "code",
   "execution_count": null,
   "metadata": {},
   "outputs": [],
   "source": []
  },
  {
   "cell_type": "code",
   "execution_count": null,
   "metadata": {},
   "outputs": [],
   "source": []
  },
  {
   "cell_type": "code",
   "execution_count": null,
   "metadata": {},
   "outputs": [],
   "source": []
  },
  {
   "cell_type": "code",
   "execution_count": null,
   "metadata": {},
   "outputs": [],
   "source": []
  },
  {
   "cell_type": "code",
   "execution_count": null,
   "metadata": {},
   "outputs": [],
   "source": []
  },
  {
   "cell_type": "code",
   "execution_count": null,
   "metadata": {},
   "outputs": [],
   "source": []
  },
  {
   "cell_type": "code",
   "execution_count": null,
   "metadata": {},
   "outputs": [],
   "source": []
  },
  {
   "cell_type": "code",
   "execution_count": null,
   "metadata": {},
   "outputs": [],
   "source": []
  },
  {
   "cell_type": "code",
   "execution_count": null,
   "metadata": {},
   "outputs": [],
   "source": []
  },
  {
   "cell_type": "code",
   "execution_count": null,
   "metadata": {},
   "outputs": [],
   "source": []
  },
  {
   "cell_type": "code",
   "execution_count": null,
   "metadata": {},
   "outputs": [],
   "source": []
  },
  {
   "cell_type": "code",
   "execution_count": null,
   "metadata": {},
   "outputs": [],
   "source": []
  },
  {
   "cell_type": "code",
   "execution_count": null,
   "metadata": {},
   "outputs": [],
   "source": []
  },
  {
   "cell_type": "code",
   "execution_count": null,
   "metadata": {},
   "outputs": [],
   "source": []
  },
  {
   "cell_type": "code",
   "execution_count": null,
   "metadata": {},
   "outputs": [],
   "source": []
  },
  {
   "cell_type": "code",
   "execution_count": null,
   "metadata": {},
   "outputs": [],
   "source": []
  },
  {
   "cell_type": "code",
   "execution_count": null,
   "metadata": {},
   "outputs": [],
   "source": []
  },
  {
   "cell_type": "code",
   "execution_count": null,
   "metadata": {},
   "outputs": [],
   "source": []
  },
  {
   "cell_type": "code",
   "execution_count": null,
   "metadata": {},
   "outputs": [],
   "source": []
  },
  {
   "cell_type": "code",
   "execution_count": null,
   "metadata": {},
   "outputs": [],
   "source": []
  },
  {
   "cell_type": "code",
   "execution_count": null,
   "metadata": {},
   "outputs": [],
   "source": []
  },
  {
   "cell_type": "code",
   "execution_count": null,
   "metadata": {},
   "outputs": [],
   "source": []
  }
 ],
 "metadata": {
  "kernelspec": {
   "display_name": "Python 3",
   "language": "python",
   "name": "python3"
  },
  "language_info": {
   "codemirror_mode": {
    "name": "ipython",
    "version": 3
   },
   "file_extension": ".py",
   "mimetype": "text/x-python",
   "name": "python",
   "nbconvert_exporter": "python",
   "pygments_lexer": "ipython3",
   "version": "3.7.4"
  }
 },
 "nbformat": 4,
 "nbformat_minor": 2
}
