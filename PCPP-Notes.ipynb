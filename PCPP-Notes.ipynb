{
 "cells": [
  {
   "cell_type": "markdown",
   "metadata": {},
   "source": [
    "## PCPP1 | Advanced Perspective of Classes and Object-Oriented Programming in Python"
   ]
  },
  {
   "cell_type": "markdown",
   "metadata": {},
   "source": [
    "In this course, you will learn about:\n",
    "\n",
    "- Classes, instances, attributes, methods, as well as working with class and instance data;\n",
    "- shallow and deep operations;\n",
    "- abstract classes, method overriding, static and class methods, special methods;\n",
    "- inheritance, polymorphism, subclasses, and encapsulation;\n",
    "- advanced exception handling techniques;\n",
    "- the pickle and shelve modules;\n",
    "- metaclasses."
   ]
  },
  {
   "cell_type": "markdown",
   "metadata": {},
   "source": [
    "### 1.1.1.1 Classes, Instances, Attributes, Methods — introduction"
   ]
  },
  {
   "cell_type": "markdown",
   "metadata": {},
   "source": [
    "#### Introduction to Object-Oriented Programming"
   ]
  },
  {
   "cell_type": "markdown",
   "metadata": {},
   "source": [
    "This chapter assumes that you are familiar with the basics of OOP, so to establish an understanding of common terms, we should agree on the following definitions:\n",
    "\n",
    "- `class` — an idea, blueprint, or recipe for an instance;\n",
    "- `instance` — an instantiation of the class; very often used interchangeably with the term 'object';\n",
    "- `object` — Python's representation of data and methods; objects could be aggregates of instances;\n",
    "- `attribute` — any object or class trait; could be a variable or method;\n",
    "- `method` — a function built into a class that is executed on behalf of the class or object; some say that it’s a 'callable attribute';\n",
    "- `type` — refers to the class that was used to instantiate the object."
   ]
  },
  {
   "cell_type": "markdown",
   "metadata": {},
   "source": [
    "Now that we’re starting to discuss more advanced OOP topics, it’s important to remember that in Python everything is an object (functions, modules, lists, etc.). In the very last section of this module, you'll see that even classes are instances.\n",
    "\n",
    "Why is everything in Python organized as objects?\n",
    "\n",
    "Because an object is a very useful culmination of all the terms described above:\n",
    "\n",
    "- it is an independent instance of class, and it contains and aggregates some specific and valuable data in attributes relevant to individual objects;\n",
    "- it owns and shares methods used to perform actions.\n",
    "\n",
    "The following issues will be addressed during this and the next module:\n",
    "\n",
    "- creation and use of decorators;\n",
    "- implementation of core syntax;\n",
    "- class and static methods;\n",
    "- abstract methods;\n",
    "- comparison of inheritance and composition;\n",
    "- attribute encapsulation;\n",
    "- exception chaining;\n",
    "- object persistence;\n",
    "- metaprogramming."
   ]
  },
  {
   "cell_type": "markdown",
   "metadata": {},
   "source": [
    "### 1.1.1.2 Classes, Instances, Attributes, Methods — what is a class?"
   ]
  },
  {
   "cell_type": "markdown",
   "metadata": {},
   "source": [
    "- Classes describe attributes and functionalities together to represent an idea as accurately as possible.\n",
    "\n",
    "- You can build a class from scratch or, something that is more interesting and useful, employ inheritance to get a more specialized class based on another class.\n",
    "\n",
    "- Additionally, your classes could be used as superclasses for newly derived classes (subclasses).\n",
    "\n",
    "- Python’s class mechanism adds classes with a minimum of new syntax and semantics:"
   ]
  },
  {
   "cell_type": "code",
   "execution_count": 1,
   "metadata": {},
   "outputs": [],
   "source": [
    "class Duck:\n",
    "    def __init__(self, height, weight, sex):\n",
    "        self.height = height\n",
    "        self.weight = weight\n",
    "        self.sex = sex\n",
    "\n",
    "    def walk(self):\n",
    "        pass\n",
    "\n",
    "    def quack(self):\n",
    "        return print('Quack')"
   ]
  },
  {
   "cell_type": "markdown",
   "metadata": {},
   "source": [
    "### 1.1.1.3 What is an instance, what is an object?"
   ]
  },
  {
   "cell_type": "markdown",
   "metadata": {},
   "source": [
    "- An ***instance*** is one particular physical instantiation of a class that occupies memory and has data elements. This is what 'self' refers to when we deal with class instances.\n",
    "\n",
    "\n",
    "- An ***object*** is everything in Python that you can operate on, like a class, instance, list, or dictionary.\n",
    "\n",
    "\n",
    "- The term ***instance*** is very often used interchangeably with the term ***object***, because ***object*** refers to a particular instance of a class. It’s a bit of a simplification, because the term ***object*** is more general than ***instance***.\n",
    "\n",
    "\n",
    "- The relation between instances and classes is quite simple: we have one class of a given type and an unlimited number of instances of a given class.\n",
    "\n",
    "\n",
    "- Each instance has its own, individual state (expressed as variables, so objects again) and shares its behavior (expressed as methods, so objects again).\n",
    "\n",
    "\n",
    "- To create instances, we have to instantiate the class:"
   ]
  },
  {
   "cell_type": "code",
   "execution_count": 2,
   "metadata": {},
   "outputs": [],
   "source": [
    "duckling = Duck(height=10, weight=3.4, sex=\"male\")\n",
    "drake = Duck(height=25, weight=3.7, sex=\"male\")\n",
    "hen = Duck(height=20, weight=3.4, sex=\"female\")"
   ]
  },
  {
   "cell_type": "markdown",
   "metadata": {},
   "source": [
    "### 1.1.1.4 What is an attribute, what is a method?"
   ]
  },
  {
   "cell_type": "markdown",
   "metadata": {},
   "source": [
    "- An ***attribute*** is a capacious term that can refer to two major kinds of class traits:\n",
    "\n",
    "\n",
    "    - variables, containing information about the class itself or a class instance; classes and class instances can own many variables;\n",
    "    - methods, formulated as Python functions; they represent a behavior that could be applied to the object.\n",
    "\n",
    "\n",
    "- Each Python object has its own individual set of attributes. We can extend that set by adding new attributes to existing objects, change (reassign) them or control access to those attributes.\n",
    "\n",
    "\n",
    "- It is said that methods are the 'callable attributes' of Python objects. By 'callable' we should understand anything that can be called; such objects allow you to use round parentheses () and eventually pass some parameters, just like functions.\n",
    "\n",
    "\n",
    "- This is a very important fact to remember: methods are called on behalf of an object and are usually executed on object data.\n",
    "\n",
    "\n",
    "- Class attributes are most often addressed with 'dot' notation, i.e., `<class>dot<attribute>`. The other way to access attributes (variables) it to use the `getattr()` and `setattr()` functions."
   ]
  },
  {
   "cell_type": "markdown",
   "metadata": {},
   "source": [
    "### 1.1.1.5 What is a type?"
   ]
  },
  {
   "cell_type": "markdown",
   "metadata": {},
   "source": [
    "- A type is one of the most fundamental and abstract terms of Python:\n",
    "    - it is the foremost type that any class can be inherited from;\n",
    "    - as a result, if you’re looking for the type of class, then `type` is returned;\n",
    "    - in all other cases, it refers to the class that was used to instantiate the object; it’s a general term describing the type/kind of any object;\n",
    "    - it’s the name of a very handy Python function that returns the class information about the objects passed as arguments to that function;\n",
    "    - it returns a new type object when `type()` is called with three arguments; we'll talk about this in the 'metaclass' section.\n",
    "\n",
    "\n",
    "- Python comes with a number of built-in types, like numbers, strings, lists, etc., that are used to build more complex types. Creating a new class creates a new type of object, allowing new instances of that type to be made.\n",
    "\n",
    "\n",
    "- Information about an object’s class is contained in `__class__`."
   ]
  },
  {
   "cell_type": "code",
   "execution_count": 1,
   "metadata": {},
   "outputs": [
    {
     "name": "stdout",
     "output_type": "stream",
     "text": [
      "<class 'type'>\n",
      "<class '__main__.Duck'>\n",
      "<class 'str'>\n",
      "<class 'method'>\n"
     ]
    }
   ],
   "source": [
    "class Duck:\n",
    "    def __init__(self, height, weight, sex):\n",
    "        self.height = height\n",
    "        self.weight = weight\n",
    "        self.sex = sex\n",
    "\n",
    "    def walk(self):\n",
    "        pass\n",
    "\n",
    "    def quack(self):\n",
    "        return print('Quack')\n",
    "\n",
    "duckling = Duck(height=10, weight=3.4, sex=\"male\")\n",
    "drake = Duck(height=25, weight=3.7, sex=\"male\")\n",
    "hen = Duck(height=20, weight=3.4, sex=\"female\")\n",
    "\n",
    "print(Duck.__class__)\n",
    "print(duckling.__class__)\n",
    "print(duckling.sex.__class__)\n",
    "print(duckling.quack.__class__)"
   ]
  },
  {
   "cell_type": "markdown",
   "metadata": {},
   "source": [
    "### 1.1.1.6 Classes, Instances, Attributes, Methods — the LAB"
   ]
  },
  {
   "cell_type": "markdown",
   "metadata": {},
   "source": [
    "#### Scenario\n",
    "- create a class representing a mobile phone;\n",
    "- your class should implement the following methods:\n",
    "    - `__init__` expects a number to be passed as an argument; this method stores the number in an instance variable `self.number`\n",
    "    - `turn_on()` should return the message 'mobile phone {number} is turned on'. Curly brackets are used to mark the place to insert the object's number variable;\n",
    "    - `turn_off()` should return the message 'mobile phone is turned off';\n",
    "    - `call(number)` should return the message 'calling {number}'. Curly brackets are used to mark the place to insert the object's number variable;\n",
    "\n",
    "- create two objects representing two different mobile phones; assign any random phone numbers to them;\n",
    "- implement a sequence of method calls on the objects to turn them on, call any number. Print the methods' outcomes;\n",
    "- turn off both mobiles."
   ]
  },
  {
   "cell_type": "code",
   "execution_count": 5,
   "metadata": {},
   "outputs": [
    {
     "name": "stdout",
     "output_type": "stream",
     "text": [
      "mobile phone 01632-960004 is turned on\n",
      "mobile phone 01632-960012 is turned on\n",
      "calling 555-34343\n",
      "mobile phone is turned off\n",
      "mobile phone is turned off\n"
     ]
    }
   ],
   "source": [
    "class MobilePhone:\n",
    "    def __init__(self, number):\n",
    "        self.number = number\n",
    "    def turn_on(self):\n",
    "        return \"mobile phone \" + self.number + \" is turned on\"\n",
    "    def turn_off(self):\n",
    "        return \"mobile phone is turned off\"\n",
    "    def call(self, number):\n",
    "        return \"calling \" + number\n",
    "    \n",
    "mobilephone1 = MobilePhone(\"01632-960004\")\n",
    "mobilephone2 = MobilePhone(\"01632-960012\")\n",
    "print(mobilephone1.turn_on())\n",
    "print(mobilephone2.turn_on())\n",
    "print(mobilephone1.call(\"555-34343\"))\n",
    "print(mobilephone1.turn_off())\n",
    "print(mobilephone2.turn_off())"
   ]
  },
  {
   "cell_type": "markdown",
   "metadata": {},
   "source": [
    "### 1.2.1.1 Working with class and instance data – instance variables\n"
   ]
  },
  {
   "cell_type": "markdown",
   "metadata": {},
   "source": [
    "Python allows for variables to be used at the instance level or the class level. Those used at the instance level are referred to as ***instance variables***, whereas variables used at the class level are referred to as ***class variables***."
   ]
  },
  {
   "cell_type": "markdown",
   "metadata": {},
   "source": [
    "#### Instance variables"
   ]
  },
  {
   "cell_type": "markdown",
   "metadata": {},
   "source": [
    "- This kind of variable exists when and only when it is explicitly created and added to an object. This can be done during the object's initialization, performed by the `__init__` method, or later at any moment of the object's life. Furthermore, any existing property can be removed at any time.\n",
    "\n",
    "\n",
    "- Each object carries its own set of variables – they don't interfere with one another in any way. The word instance suggests that they are closely connected to the objects (which are class instances), not to the classes themselves. To get access to the instance variable, you should address the variable in the following way: `object`dot`variable_name`.\n",
    "\n",
    "\n",
    "- Let's look at how the instance variable is created and accessed in the code presented below."
   ]
  },
  {
   "cell_type": "code",
   "execution_count": 6,
   "metadata": {},
   "outputs": [
    {
     "name": "stdout",
     "output_type": "stream",
     "text": [
      "d1's instance variable is equal to: 100\n",
      "d2's instance variable is equal to: 200\n"
     ]
    }
   ],
   "source": [
    "class Demo:\n",
    "    def __init__(self, value):\n",
    "        self.instance_var = value\n",
    "\n",
    "d1 = Demo(100)\n",
    "d2 = Demo(200)\n",
    "\n",
    "print(\"d1's instance variable is equal to:\", d1.instance_var)\n",
    "print(\"d2's instance variable is equal to:\", d2.instance_var)\n"
   ]
  },
  {
   "cell_type": "markdown",
   "metadata": {},
   "source": [
    "### 1.2.1.2 Working with class and instance data – instance variables\n"
   ]
  },
  {
   "cell_type": "markdown",
   "metadata": {},
   "source": [
    "- Another snippet shows that instance variables can be created during any moment of an object's life. Moreover, it lists the contents of each object, using the built-in `__dict__` property that is present for every Python object.\n",
    "\n",
    "\n",
    "- This example shows that modifying the instance variable of any object has no impact on all the remaining objects. Instance variables are completely isolated from each other."
   ]
  },
  {
   "cell_type": "code",
   "execution_count": 7,
   "metadata": {},
   "outputs": [
    {
     "name": "stdout",
     "output_type": "stream",
     "text": [
      "contents of d1: {'instance_var': 100, 'another_var': 'another variable in the object'}\n",
      "contents of d2: {'instance_var': 200}\n"
     ]
    }
   ],
   "source": [
    "class Demo:\n",
    "    def __init__(self, value):\n",
    "        self.instance_var = value\n",
    "\n",
    "d1 = Demo(100)\n",
    "d2 = Demo(200)\n",
    "\n",
    "d1.another_var = 'another variable in the object'\n",
    "\n",
    "print('contents of d1:', d1.__dict__)\n",
    "print('contents of d2:', d2.__dict__)\n"
   ]
  },
  {
   "cell_type": "markdown",
   "metadata": {},
   "source": [
    "### 1.2.1.3 Working with class and instance data – class variables\n"
   ]
  },
  {
   "cell_type": "markdown",
   "metadata": {},
   "source": [
    "#### Class variables"
   ]
  },
  {
   "cell_type": "markdown",
   "metadata": {},
   "source": [
    "- Class variables are defined within the class construction, so these variables are available before any class instance is created. To get access to a class variable, simply access it using the class name, and then provide the variable name."
   ]
  },
  {
   "cell_type": "code",
   "execution_count": 8,
   "metadata": {},
   "outputs": [
    {
     "name": "stdout",
     "output_type": "stream",
     "text": [
      "shared variable\n",
      "{'__module__': '__main__', 'class_var': 'shared variable', '__dict__': <attribute '__dict__' of 'Demo' objects>, '__weakref__': <attribute '__weakref__' of 'Demo' objects>, '__doc__': None}\n"
     ]
    }
   ],
   "source": [
    "class Demo:\n",
    "    class_var = 'shared variable'\n",
    "\n",
    "print(Demo.class_var)\n",
    "print(Demo.__dict__)\n"
   ]
  },
  {
   "cell_type": "markdown",
   "metadata": {},
   "source": [
    "- As a class variable is present before any instance of the class is created, it can be used to store some meta data relevant to the class, rather than to the instances:\n",
    "    - fixed information like description, configuration, or identification values;\n",
    "    - mutable information like the number of instances created (if we add a code to increment the value of a designated variable every time we create a class instance)\n",
    "\n",
    "\n",
    "- A class variable is a class property that exists in just one copy, and it is stored outside any class instance. Because it is owned by the class itself, all class variables are shared by all instances of the class. They will therefore generally have the same value for every instance; butas the class variable is defined outside the object, it is not listed in the object's `__dict__`.\n",
    "\n",
    "\n",
    "- **Conclusion**: when you want to read the class variable value, you can use a class or class instance to access it."
   ]
  },
  {
   "cell_type": "code",
   "execution_count": 9,
   "metadata": {},
   "outputs": [
    {
     "name": "stdout",
     "output_type": "stream",
     "text": [
      "shared variable\n",
      "shared variable\n",
      "shared variable\n",
      "contents of d1: {}\n"
     ]
    }
   ],
   "source": [
    "class Demo:\n",
    "    class_var = 'shared variable'\n",
    "\n",
    "d1 = Demo()\n",
    "d2 = Demo()\n",
    "\n",
    "print(Demo.class_var)\n",
    "print(d1.class_var)\n",
    "print(d2.class_var)\n",
    "\n",
    "print('contents of d1:', d1.__dict__)\n"
   ]
  },
  {
   "cell_type": "markdown",
   "metadata": {},
   "source": [
    "- When you want to set or change a value of the class variable, you should access it via the class, but not the class instance, as you can do for reading.\n",
    "\n",
    "\n",
    "- When you try to set a value for the class variable using the object (a variable referring to the object or `self` keyword) but not the class, you are creating an instance variable that holds the same name as the class variable. The following snippet shows such a case – remember this in order to avoid wasting time hunting for bugs!"
   ]
  },
  {
   "cell_type": "code",
   "execution_count": 10,
   "metadata": {},
   "outputs": [
    {
     "name": "stdout",
     "output_type": "stream",
     "text": [
      "shared variable\n",
      "shared variable\n",
      "....................\n",
      "contents of d1: {}\n",
      "....................\n",
      "contents of d1: {'class_var': \"I'm messing with the class variable\"}\n",
      "I'm messing with the class variable\n",
      "....................\n",
      "contents of d2: {}\n",
      "contents of class variable accessed via d2: shared variable\n"
     ]
    }
   ],
   "source": [
    "class Demo:\n",
    "    class_var = 'shared variable'\n",
    "\n",
    "d1 = Demo()\n",
    "d2 = Demo()\n",
    "\n",
    "# both instances allow access to the class variable\n",
    "print(d1.class_var)\n",
    "print(d2.class_var)\n",
    "print('.' * 20)\n",
    "\n",
    "# d1 object has no instance variable\n",
    "print('contents of d1:', d1.__dict__)\n",
    "print('.' * 20)\n",
    "\n",
    "# d1 object receives an instance variable named 'class_var'\n",
    "d1.class_var = \"I'm messing with the class variable\"\n",
    "\n",
    "# d1 object owns the variable named 'class_var' which holds a different value than the class variable named in the same way\n",
    "print('contents of d1:', d1.__dict__)\n",
    "print(d1.class_var)\n",
    "print('.' * 20)\n",
    "\n",
    "# d2 object variables were not influenced\n",
    "print('contents of d2:', d2.__dict__)\n",
    "\n",
    "# d2 object variables were not influenced\n",
    "print('contents of class variable accessed via d2:', d2.class_var)\n"
   ]
  },
  {
   "cell_type": "markdown",
   "metadata": {},
   "source": [
    "- Class variables and instance variables are often utilized at the same time, but for different purposes. As mentioned before, class variables can refer to some meta information or common information shared amongst instances of the same class.\n",
    "\n",
    "\n",
    "- The example below demonstrates both topics: each class owns a counter variable that holds the number of class instances created. Moreover, each class owns information that helps identify the class instance origins. Similar functionality could be achieved with the `isinstance()` function, but we want to check if class variables can be helpful in this domain."
   ]
  },
  {
   "cell_type": "code",
   "execution_count": 11,
   "metadata": {},
   "outputs": [
    {
     "name": "stdout",
     "output_type": "stream",
     "text": [
      "So many ducks were born: 3\n",
      "duck quacks\n",
      "duck quacks\n",
      "duck quacks\n",
      "chicken clucks\n"
     ]
    }
   ],
   "source": [
    "class Duck:\n",
    "    counter = 0\n",
    "    species = 'duck'\n",
    "\n",
    "    def __init__(self, height, weight, sex):\n",
    "        self.height = height\n",
    "        self.weight = weight\n",
    "        self.sex = sex\n",
    "        Duck.counter +=1\n",
    "\n",
    "    def walk(self):\n",
    "        pass\n",
    "\n",
    "    def quack(self):\n",
    "        print('quacks')\n",
    "\n",
    "class Chicken:\n",
    "    species = 'chicken'\n",
    "\n",
    "    def walk(self):\n",
    "        pass\n",
    "\n",
    "    def cluck(self):\n",
    "        print('clucks')\n",
    "\n",
    "duckling = Duck(height=10, weight=3.4, sex=\"male\")\n",
    "drake = Duck(height=25, weight=3.7, sex=\"male\")\n",
    "hen = Duck(height=20, weight=3.4, sex=\"female\")\n",
    "\n",
    "chicken = Chicken()\n",
    "\n",
    "print('So many ducks were born:', Duck.counter)\n",
    "\n",
    "for poultry in duckling, drake, hen, chicken:\n",
    "    print(poultry.species, end=' ')\n",
    "    if poultry.species == 'duck':\n",
    "        poultry.quack()\n",
    "    elif poultry.species == 'chicken':\n",
    "        poultry.cluck()\n"
   ]
  },
  {
   "cell_type": "markdown",
   "metadata": {},
   "source": [
    "### 1.2.1.7 Working with class and instance data"
   ]
  },
  {
   "cell_type": "markdown",
   "metadata": {},
   "source": [
    "- Another example shows that a class variable of a super class can be used to count the number of all objects created from the descendant classes (subclasses). We'll achieve this by calling the superclass `__init__` method.\n",
    "\n",
    "\n",
    "- Another class variable is used to keep track of the serial numbers (which in fact are also counters) of particular subclass instances. In this example, we are also storing instance data (phone numbers) in instance variables.\n",
    "\n",
    "\n",
    "- The class `Phone` is a class representing a blueprint of generic devices used for calling. This class definition delivers the `call` method, which displays the object’s variable, which holds the phone number. This class also holds a class variable that is used to count the number of instances created by its subclasses.\n",
    "\n",
    "\n",
    "- Subclasses make use of the superclass `__init__` method, then instances are created. This gives us the possibility to increment the superclass variable."
   ]
  },
  {
   "cell_type": "code",
   "execution_count": 12,
   "metadata": {},
   "outputs": [
    {
     "name": "stdout",
     "output_type": "stream",
     "text": [
      "Total number of phone devices created: 0\n",
      "Creating 2 devices\n",
      "Total number of phone devices created: 2\n",
      "Total number of mobile phones created: 1\n",
      "Calling 01632-960004 using own number 555-2368\n",
      "Fixed phone received \"FP-1\" serial number\n",
      "Mobile phone received \"MP-1\" serial number\n"
     ]
    }
   ],
   "source": [
    "class Phone:\n",
    "    counter = 0\n",
    "\n",
    "    def __init__(self, number):\n",
    "        self.number = number\n",
    "        Phone.counter += 1\n",
    "\n",
    "    def call(self, number):\n",
    "        message = 'Calling {} using own number {}'.format(number, self.number)\n",
    "        return message\n",
    "\n",
    "\n",
    "class FixedPhone(Phone):\n",
    "    last_SN = 0\n",
    "\n",
    "    def __init__(self, number):\n",
    "        super().__init__(number)\n",
    "        FixedPhone.last_SN += 1\n",
    "        self.SN = 'FP-{}'.format(FixedPhone.last_SN)\n",
    "\n",
    "\n",
    "class MobilePhone(Phone):\n",
    "    last_SN = 0\n",
    "\n",
    "    def __init__(self, number):\n",
    "        super().__init__(number)\n",
    "        MobilePhone.last_SN += 1\n",
    "        self.SN = 'MP-{}'.format(MobilePhone.last_SN)\n",
    "\n",
    "\n",
    "print('Total number of phone devices created:', Phone.counter)\n",
    "print('Creating 2 devices')\n",
    "fphone = FixedPhone('555-2368')\n",
    "mphone = MobilePhone('01632-960004')\n",
    "\n",
    "print('Total number of phone devices created:', Phone.counter)\n",
    "print('Total number of mobile phones created:', MobilePhone.last_SN)\n",
    "\n",
    "print(fphone.call('01632-960004'))\n",
    "print('Fixed phone received \"{}\" serial number'.format(fphone.SN))\n",
    "print('Mobile phone received \"{}\" serial number'.format(mphone.SN))\n"
   ]
  },
  {
   "cell_type": "markdown",
   "metadata": {},
   "source": [
    "### 1.2.1.8 Working with class and instance data – the LAB\n"
   ]
  },
  {
   "cell_type": "markdown",
   "metadata": {},
   "source": [
    "### Scenario\n",
    "- Imagine that you receive a task description of an application that monitors the process of apple packaging before the apples are sent to a shop.\n",
    "\n",
    "\n",
    "- A shop owner has asked for 1000 apples, but the total weight limitation cannot exceed 300 units.\n",
    "\n",
    "\n",
    "- Write a code that creates objects representing apples as long as both limitations are met. When any limitation is exceeded, than the packaging process is stopped, and your application should print the number of apple class objects created, and the total weight.\n",
    "\n",
    "\n",
    "- Your application should keep track of two parameters:\n",
    "\n",
    "    - the number of apples processed, stored as a class variable;\n",
    "    - the total weight of the apples processed; stored as a class variable. Assume that each apple's weight is random, and can vary between 0.2 and 0.5 of an imaginary weight unit;\n",
    "    \n",
    "    \n",
    "- Hint: Use a `random.uniform(lower, upper)` function to create a random number between the lower and upper float values."
   ]
  },
  {
   "cell_type": "code",
   "execution_count": 1,
   "metadata": {},
   "outputs": [
    {
     "name": "stdout",
     "output_type": "stream",
     "text": [
      "Apple Count: 866, Total weight: 299.85733207003875\n"
     ]
    }
   ],
   "source": [
    "import random\n",
    "\n",
    "class Apple:\n",
    "    def __init__(self, weight):\n",
    "        self.weight = weight\n",
    "\n",
    "class Packaging:\n",
    "    apple_count = 0\n",
    "    total_weight = 0\n",
    "    \n",
    "    def __init__(self, apple):\n",
    "        Packaging.apple_count += 1\n",
    "        Packaging.total_weight += apple.weight\n",
    "        if Packaging.total_weight > 300:\n",
    "            Packaging.apple_count -= 1\n",
    "            Packaging.total_weight -= apple.weight\n",
    "    \n",
    "    def __str__(self):\n",
    "        message = \"Apple Count: {}, Total weight: {}\".format(Packaging.apple_count, Packaging.total_weight)\n",
    "        return message\n",
    "    \n",
    "\n",
    "apple_weight_list =[random.uniform(0.2,0.5) for x in range(1000)]\n",
    "apple_list = [Apple(i) for i in apple_weight_list]\n",
    "\n",
    "for apple in apple_list:\n",
    "    package = Packaging(apple)\n",
    "    \n",
    "print(package)"
   ]
  },
  {
   "cell_type": "markdown",
   "metadata": {},
   "source": [
    "### 2.1.1.1 Python core syntax"
   ]
  },
  {
   "cell_type": "markdown",
   "metadata": {},
   "source": [
    "#### Python core syntax"
   ]
  },
  {
   "cell_type": "markdown",
   "metadata": {},
   "source": [
    "This is Python core syntax – an ability to perform specific operations on different data types, when operations are formulated using the same operators or instructions, or even functions.\n",
    "\n",
    "Python core syntax covers:\n",
    "\n",
    "- operators like '+', '-', '*', '/', '%' and many others;\n",
    "- operators like '==', '<', '>', '<=', 'in' and many others;\n",
    "- indexing, slicing, subscripting;\n",
    "- built-in functions like str(), len()\n",
    "- reflexion – isinstance(), issubclass()\n",
    "\n",
    "and a few more elements."
   ]
  },
  {
   "cell_type": "markdown",
   "metadata": {},
   "source": [
    "### 2.1.1.3 Python core syntax"
   ]
  },
  {
   "cell_type": "markdown",
   "metadata": {},
   "source": [
    "- When called, functions and operators that state the core syntax are translated into magic methods delivered by specific classes.\n",
    "\n",
    "\n",
    "- In Python, these magic methods are sometimes called special purpose methods, because these methods are designated by design to handle specific operations.\n",
    "\n",
    "\n",
    "- The name of each magic method ***is surrounded by double underscores*** (***Pythonistas would say “dunder” for double underscores***, as it’s a shorter and more convenient phrase). **Dunders** indicate that such methods are not called directly, but called in a process of expression evaluation, according to Python core syntax rules.\n",
    "\n",
    "\n",
    "- The '+' operator is in fact converted to the `__add__()` method and the `len()` function is converted to the `__len__()` method. These methods must be delivered by a class (now it’s clear why we treat classes as blueprints) to perform the appropriate action."
   ]
  },
  {
   "cell_type": "code",
   "execution_count": 48,
   "metadata": {},
   "outputs": [
    {
     "name": "stdout",
     "output_type": "stream",
     "text": [
      "30\n",
      "30\n"
     ]
    }
   ],
   "source": [
    "number = 10\n",
    "print(number + 20)\n",
    "\n",
    "number = 10\n",
    "print(number.__add__(20))"
   ]
  },
  {
   "cell_type": "markdown",
   "metadata": {},
   "source": [
    "### 2.1.1.4 Python core syntax"
   ]
  },
  {
   "cell_type": "code",
   "execution_count": 49,
   "metadata": {},
   "outputs": [
    {
     "name": "stdout",
     "output_type": "stream",
     "text": [
      "65\n"
     ]
    }
   ],
   "source": [
    "class Person:\n",
    "    def __init__(self, weight, age, salary):\n",
    "        self.weight = weight\n",
    "        self.age = age\n",
    "        self.salary = salary\n",
    "\n",
    "    def __add__(self, other):\n",
    "        return self.weight + other.weight\n",
    "\n",
    "\n",
    "p1 = Person(30, 40, 50)\n",
    "p2 = Person(35, 45, 55)\n",
    "\n",
    "print(p1 + p2)\n"
   ]
  },
  {
   "cell_type": "markdown",
   "metadata": {},
   "source": [
    "### 2.1.1.6 Python core syntax"
   ]
  },
  {
   "cell_type": "markdown",
   "metadata": {},
   "source": [
    "- You could ask: how can I know what magic method is responsible for a specific operation?\n",
    "\n",
    "\n",
    "- The answer could be: start with the `dir()` and `help()` functions.\n",
    "\n",
    "\n",
    "- The `dir()` function gives you a quick glance at an object’s capabilities and returns a list of the attributes and methods of the object. When you call `dir()` on integer 10, you'll get:"
   ]
  },
  {
   "cell_type": "code",
   "execution_count": 51,
   "metadata": {},
   "outputs": [
    {
     "name": "stdout",
     "output_type": "stream",
     "text": [
      "['__abs__', '__add__', '__and__', '__bool__', '__ceil__', '__class__', '__delattr__', '__dir__', '__divmod__', '__doc__', '__eq__', '__float__', '__floor__', '__floordiv__', '__format__', '__ge__', '__getattribute__', '__getnewargs__', '__gt__', '__hash__', '__index__', '__init__', '__init_subclass__', '__int__', '__invert__', '__le__', '__lshift__', '__lt__', '__mod__', '__mul__', '__ne__', '__neg__', '__new__', '__or__', '__pos__', '__pow__', '__radd__', '__rand__', '__rdivmod__', '__reduce__', '__reduce_ex__', '__repr__', '__rfloordiv__', '__rlshift__', '__rmod__', '__rmul__', '__ror__', '__round__', '__rpow__', '__rrshift__', '__rshift__', '__rsub__', '__rtruediv__', '__rxor__', '__setattr__', '__sizeof__', '__str__', '__sub__', '__subclasshook__', '__truediv__', '__trunc__', '__xor__', 'bit_length', 'conjugate', 'denominator', 'from_bytes', 'imag', 'numerator', 'real', 'to_bytes']\n"
     ]
    }
   ],
   "source": [
    "print(dir(10))"
   ]
  },
  {
   "cell_type": "markdown",
   "metadata": {},
   "source": [
    "- The names listed above look somehow familiar, so let's see the details delivered by Python itself."
   ]
  },
  {
   "cell_type": "markdown",
   "metadata": {},
   "source": [
    "- To get more help on each attribute and method, issue the `help()` function on an object, as below:"
   ]
  },
  {
   "cell_type": "code",
   "execution_count": 54,
   "metadata": {},
   "outputs": [
    {
     "name": "stdout",
     "output_type": "stream",
     "text": [
      "Help on int object:\n",
      "\n",
      "class int(object)\n",
      " |  int([x]) -> integer\n",
      " |  int(x, base=10) -> integer\n",
      " |  \n",
      " |  Convert a number or string to an integer, or return 0 if no arguments\n",
      " |  are given.  If x is a number, return x.__int__().  For floating point\n",
      " |  numbers, this truncates towards zero.\n",
      " |  \n",
      " |  If x is not a number or if base is given, then x must be a string,\n",
      " |  bytes, or bytearray instance representing an integer literal in the\n",
      " |  given base.  The literal can be preceded by '+' or '-' and be surrounded\n",
      " |  by whitespace.  The base defaults to 10.  Valid bases are 0 and 2-36.\n",
      " |  Base 0 means to interpret the base from the string as an integer literal.\n",
      " |  >>> int('0b100', base=0)\n",
      " |  4\n",
      " |  \n",
      " |  Methods defined here:\n",
      " |  \n",
      " |  __abs__(self, /)\n",
      " |      abs(self)\n",
      " |  \n",
      " |  __add__(self, value, /)\n",
      " |      Return self+value.\n",
      " |  \n",
      " |  __and__(self, value, /)\n",
      " |      Return self&value.\n",
      " |  \n",
      " |  __bool__(self, /)\n",
      " |      self != 0\n",
      " |  \n",
      " |  __ceil__(...)\n",
      " |      Ceiling of an Integral returns itself.\n",
      " |  \n",
      " |  __divmod__(self, value, /)\n",
      " |      Return divmod(self, value).\n",
      " |  \n",
      " |  __eq__(self, value, /)\n",
      " |      Return self==value.\n",
      " |  \n",
      " |  __float__(self, /)\n",
      " |      float(self)\n",
      " |  \n",
      " |  __floor__(...)\n",
      " |      Flooring an Integral returns itself.\n",
      " |  \n",
      " |  __floordiv__(self, value, /)\n",
      " |      Return self//value.\n",
      " |  \n",
      " |  __format__(self, format_spec, /)\n",
      " |      Default object formatter.\n",
      " |  \n",
      " |  __ge__(self, value, /)\n",
      " |      Return self>=value.\n",
      " |  \n",
      " |  __getattribute__(self, name, /)\n",
      " |      Return getattr(self, name).\n",
      " |  \n",
      " |  __getnewargs__(self, /)\n",
      " |  \n",
      " |  __gt__(self, value, /)\n",
      " |      Return self>value.\n",
      " |  \n",
      " |  __hash__(self, /)\n",
      " |      Return hash(self).\n",
      " |  \n",
      " |  __index__(self, /)\n",
      " |      Return self converted to an integer, if self is suitable for use as an index into a list.\n",
      " |  \n",
      " |  __int__(self, /)\n",
      " |      int(self)\n",
      " |  \n",
      " |  __invert__(self, /)\n",
      " |      ~self\n",
      " |  \n",
      " |  __le__(self, value, /)\n",
      " |      Return self<=value.\n",
      " |  \n",
      " |  __lshift__(self, value, /)\n",
      " |      Return self<<value.\n",
      " |  \n",
      " |  __lt__(self, value, /)\n",
      " |      Return self<value.\n",
      " |  \n",
      " |  __mod__(self, value, /)\n",
      " |      Return self%value.\n",
      " |  \n",
      " |  __mul__(self, value, /)\n",
      " |      Return self*value.\n",
      " |  \n",
      " |  __ne__(self, value, /)\n",
      " |      Return self!=value.\n",
      " |  \n",
      " |  __neg__(self, /)\n",
      " |      -self\n",
      " |  \n",
      " |  __or__(self, value, /)\n",
      " |      Return self|value.\n",
      " |  \n",
      " |  __pos__(self, /)\n",
      " |      +self\n",
      " |  \n",
      " |  __pow__(self, value, mod=None, /)\n",
      " |      Return pow(self, value, mod).\n",
      " |  \n",
      " |  __radd__(self, value, /)\n",
      " |      Return value+self.\n",
      " |  \n",
      " |  __rand__(self, value, /)\n",
      " |      Return value&self.\n",
      " |  \n",
      " |  __rdivmod__(self, value, /)\n",
      " |      Return divmod(value, self).\n",
      " |  \n",
      " |  __repr__(self, /)\n",
      " |      Return repr(self).\n",
      " |  \n",
      " |  __rfloordiv__(self, value, /)\n",
      " |      Return value//self.\n",
      " |  \n",
      " |  __rlshift__(self, value, /)\n",
      " |      Return value<<self.\n",
      " |  \n",
      " |  __rmod__(self, value, /)\n",
      " |      Return value%self.\n",
      " |  \n",
      " |  __rmul__(self, value, /)\n",
      " |      Return value*self.\n",
      " |  \n",
      " |  __ror__(self, value, /)\n",
      " |      Return value|self.\n",
      " |  \n",
      " |  __round__(...)\n",
      " |      Rounding an Integral returns itself.\n",
      " |      Rounding with an ndigits argument also returns an integer.\n",
      " |  \n",
      " |  __rpow__(self, value, mod=None, /)\n",
      " |      Return pow(value, self, mod).\n",
      " |  \n",
      " |  __rrshift__(self, value, /)\n",
      " |      Return value>>self.\n",
      " |  \n",
      " |  __rshift__(self, value, /)\n",
      " |      Return self>>value.\n",
      " |  \n",
      " |  __rsub__(self, value, /)\n",
      " |      Return value-self.\n",
      " |  \n",
      " |  __rtruediv__(self, value, /)\n",
      " |      Return value/self.\n",
      " |  \n",
      " |  __rxor__(self, value, /)\n",
      " |      Return value^self.\n",
      " |  \n",
      " |  __sizeof__(self, /)\n",
      " |      Returns size in memory, in bytes.\n",
      " |  \n",
      " |  __str__(self, /)\n",
      " |      Return str(self).\n",
      " |  \n",
      " |  __sub__(self, value, /)\n",
      " |      Return self-value.\n",
      " |  \n",
      " |  __truediv__(self, value, /)\n",
      " |      Return self/value.\n",
      " |  \n",
      " |  __trunc__(...)\n",
      " |      Truncating an Integral returns itself.\n",
      " |  \n",
      " |  __xor__(self, value, /)\n",
      " |      Return self^value.\n",
      " |  \n",
      " |  bit_length(self, /)\n",
      " |      Number of bits necessary to represent self in binary.\n",
      " |      \n",
      " |      >>> bin(37)\n",
      " |      '0b100101'\n",
      " |      >>> (37).bit_length()\n",
      " |      6\n",
      " |  \n",
      " |  conjugate(...)\n",
      " |      Returns self, the complex conjugate of any int.\n",
      " |  \n",
      " |  to_bytes(self, /, length, byteorder, *, signed=False)\n",
      " |      Return an array of bytes representing an integer.\n",
      " |      \n",
      " |      length\n",
      " |        Length of bytes object to use.  An OverflowError is raised if the\n",
      " |        integer is not representable with the given number of bytes.\n",
      " |      byteorder\n",
      " |        The byte order used to represent the integer.  If byteorder is 'big',\n",
      " |        the most significant byte is at the beginning of the byte array.  If\n",
      " |        byteorder is 'little', the most significant byte is at the end of the\n",
      " |        byte array.  To request the native byte order of the host system, use\n",
      " |        `sys.byteorder' as the byte order value.\n",
      " |      signed\n",
      " |        Determines whether two's complement is used to represent the integer.\n",
      " |        If signed is False and a negative integer is given, an OverflowError\n",
      " |        is raised.\n",
      " |  \n",
      " |  ----------------------------------------------------------------------\n",
      " |  Class methods defined here:\n",
      " |  \n",
      " |  from_bytes(bytes, byteorder, *, signed=False) from builtins.type\n",
      " |      Return the integer represented by the given array of bytes.\n",
      " |      \n",
      " |      bytes\n",
      " |        Holds the array of bytes to convert.  The argument must either\n",
      " |        support the buffer protocol or be an iterable object producing bytes.\n",
      " |        Bytes and bytearray are examples of built-in objects that support the\n",
      " |        buffer protocol.\n",
      " |      byteorder\n",
      " |        The byte order used to represent the integer.  If byteorder is 'big',\n",
      " |        the most significant byte is at the beginning of the byte array.  If\n",
      " |        byteorder is 'little', the most significant byte is at the end of the\n",
      " |        byte array.  To request the native byte order of the host system, use\n",
      " |        `sys.byteorder' as the byte order value.\n",
      " |      signed\n",
      " |        Indicates whether two's complement is used to represent the integer.\n",
      " |  \n",
      " |  ----------------------------------------------------------------------\n",
      " |  Static methods defined here:\n",
      " |  \n",
      " |  __new__(*args, **kwargs) from builtins.type\n",
      " |      Create and return a new object.  See help(type) for accurate signature.\n",
      " |  \n",
      " |  ----------------------------------------------------------------------\n",
      " |  Data descriptors defined here:\n",
      " |  \n",
      " |  denominator\n",
      " |      the denominator of a rational number in lowest terms\n",
      " |  \n",
      " |  imag\n",
      " |      the imaginary part of a complex number\n",
      " |  \n",
      " |  numerator\n",
      " |      the numerator of a rational number in lowest terms\n",
      " |  \n",
      " |  real\n",
      " |      the real part of a complex number\n",
      "\n",
      "None\n"
     ]
    }
   ],
   "source": [
    "print(help(10))"
   ]
  },
  {
   "cell_type": "markdown",
   "metadata": {},
   "source": [
    "- The Python `help()` function is used to display the documentation (if delivered!) of modules, functions, classes, and keywords. In our example, we have displayed the documentation for the built-in integer type. Look at the last lines of the output – it contains information about the `__abs__` and `__add__` special methods."
   ]
  },
  {
   "cell_type": "markdown",
   "metadata": {},
   "source": [
    "### 2.1.1.7 Python core syntax\n"
   ]
  },
  {
   "cell_type": "markdown",
   "metadata": {},
   "source": [
    "Now it’s time to get familiar with Python core syntax expressions and their corresponding magic methods. The following tables will help you in situations where you'd like to implement a custom method for a Python core operation, as the tables enumerate the most popular operators and functions that own magic method counterparts. Treat it as a list from a universal map, unrelated to any special data type."
   ]
  },
  {
   "cell_type": "markdown",
   "metadata": {},
   "source": [
    "#### Comparison methods"
   ]
  },
  {
   "cell_type": "markdown",
   "metadata": {},
   "source": [
    "![](./images/1_compare_methods.png)"
   ]
  },
  {
   "cell_type": "markdown",
   "metadata": {},
   "source": [
    "#### Numeric methods\n",
    "#### Unary operators and functions"
   ]
  },
  {
   "cell_type": "markdown",
   "metadata": {},
   "source": [
    "![](./images/2_unary_operators_and_functions.png)"
   ]
  },
  {
   "cell_type": "markdown",
   "metadata": {},
   "source": [
    "#### Common, binary operators and functions"
   ]
  },
  {
   "cell_type": "markdown",
   "metadata": {},
   "source": [
    "![](./images/3_binary_operators_and_functions.png)"
   ]
  },
  {
   "cell_type": "markdown",
   "metadata": {},
   "source": [
    "#### Augumented operators and functions"
   ]
  },
  {
   "cell_type": "markdown",
   "metadata": {},
   "source": [
    "- By augumented assignment we should understand a sequence of unary operators and assignments like `a += 20`"
   ]
  },
  {
   "cell_type": "markdown",
   "metadata": {},
   "source": [
    "![](./images/4_argumented_operatios_and_functions.png)"
   ]
  },
  {
   "cell_type": "markdown",
   "metadata": {},
   "source": [
    "#### Type conversion methods"
   ]
  },
  {
   "cell_type": "markdown",
   "metadata": {},
   "source": [
    "- Python offers a set of methods responsible for the conversion of built-in data types."
   ]
  },
  {
   "cell_type": "markdown",
   "metadata": {},
   "source": [
    "![](./images/5_type_conversion_methods.png)"
   ]
  },
  {
   "cell_type": "markdown",
   "metadata": {},
   "source": [
    "#### Object introspection"
   ]
  },
  {
   "cell_type": "markdown",
   "metadata": {},
   "source": [
    "- Python offers a set of methods responsible for representing object details using ordinary strings."
   ]
  },
  {
   "cell_type": "markdown",
   "metadata": {},
   "source": [
    "![](./images/6_object_introspection.png)"
   ]
  },
  {
   "cell_type": "markdown",
   "metadata": {},
   "source": [
    "#### Object retrospection"
   ]
  },
  {
   "cell_type": "markdown",
   "metadata": {},
   "source": [
    "- Following the topic of object introspection, there are methods responsible for object reflection."
   ]
  },
  {
   "cell_type": "markdown",
   "metadata": {},
   "source": [
    "![](./images/7_object_retrospection.png)"
   ]
  },
  {
   "cell_type": "markdown",
   "metadata": {},
   "source": [
    "#### Object attribute access"
   ]
  },
  {
   "cell_type": "markdown",
   "metadata": {},
   "source": [
    "- Access to object attributes can be controlled via the following magic methods"
   ]
  },
  {
   "cell_type": "markdown",
   "metadata": {},
   "source": [
    "![](./images/8_object_attribute_access.png)"
   ]
  },
  {
   "cell_type": "markdown",
   "metadata": {},
   "source": [
    "#### Methods allowing access to containers"
   ]
  },
  {
   "cell_type": "markdown",
   "metadata": {},
   "source": [
    "- Containers are any object that holds an arbitrary number of other objects; containers provide a way to access the contained objects and to iterate over them. Container examples: list, dictionary, tuple, and set."
   ]
  },
  {
   "cell_type": "markdown",
   "metadata": {},
   "source": [
    "![](./images/9_methods_allowing_access_to_containers.png)"
   ]
  },
  {
   "cell_type": "markdown",
   "metadata": {},
   "source": [
    "- The list of special methods built-in in Python contains more entities. For more information, refer to https://docs.python.org/3/reference/datamodel.html#special-method-names."
   ]
  },
  {
   "cell_type": "markdown",
   "metadata": {},
   "source": [
    "### 2.1.1.9 Python core syntax"
   ]
  },
  {
   "cell_type": "markdown",
   "metadata": {},
   "source": [
    "- What are some real life cases which could be implemented using special methods?\n",
    "\n",
    "- Think of any complex problems that we solve every day like:\n",
    "    - adding time intervals, like: add 21 hours 58 minutes 50 seconds to 1hr 45 minutes 22 seconds;\n",
    "    - adding length measurements expressed in the imperial measurement system, like: add 2 feet 8 inches to 1 yard 1 foot 4 inches.\n",
    "\n",
    "- With classes equipped with custom special methods, the tasks may start to look simpler.\n",
    "\n",
    "- Of course, don’t forget to check the type of the objects passed as arguments to special methods. If someone uses your classes, they might use them incorrectly, so a good `__add__` method should check whether it’s possible to perform the addition before doing it, or else raise an exception."
   ]
  },
  {
   "cell_type": "markdown",
   "metadata": {},
   "source": [
    "### 2.1.1.10 Python core syntax: LAB #1"
   ]
  },
  {
   "cell_type": "markdown",
   "metadata": {},
   "source": [
    "#### Scenario\n",
    "- Create a class representing a time interval;\n",
    "- the class should implement its own method for addition, subtraction on time interval class objects;\n",
    "- the class should implement its own method for multiplication of time interval class objects by an integer-type value;\n",
    "- the `__init__` method should be based on keywords to allow accurate and convenient object initialization, but limit it to hours, minutes, and seconds parameters;\n",
    "- the `__str__` method should return an HH:MM:SS string, where HH represents hours, MM represents minutes and SS represents the seconds attributes of the time interval object;\n",
    "- check the argument type, and in case of a mismatch, raise a TypeError exception.\n",
    "\n",
    "- Hint1:\n",
    "- just before doing the math, convert each time interval to a corresponding number of seconds to simplify the algorithm;\n",
    "- for addition and subtraction, you can use one internal method, as subtraction is just ... negative addition.\n",
    "- Test data:\n",
    "    - the first time interval (fti) is hours=21, minutes=58, seconds=50\n",
    "    - the second time interval (sti) is hours=1, minutes=45, seconds=22\n",
    "    - the expected result of addition (fti + sti) is 23:44:12\n",
    "    - the expected result of subtraction (fti - sti) is 20:13:28\n",
    "    - the expected result of multiplication (fti * 2) is 43:57:40\n",
    "    \n",
    "- Hint2:\n",
    "    - you can use the `assert` statement to validate if the output of the `__str__` method applied to a time interval object equals the expected value."
   ]
  },
  {
   "cell_type": "code",
   "execution_count": 38,
   "metadata": {},
   "outputs": [
    {
     "name": "stdout",
     "output_type": "stream",
     "text": [
      "First Time Interval:\t\t 21:58:50\n",
      "Second Time Interval:\t\t 1:45:22\n",
      "The result of (fit + sti):\t 23:44:12\n",
      "The result of (fti - sti):\t 20:13:28\n",
      "The result of (fti * 2):\t 43:57:40\n"
     ]
    }
   ],
   "source": [
    "class Interval:\n",
    "       \n",
    "    def __init__(self, hours=0, minutes=0, seconds=0):\n",
    "        self.hours = hours\n",
    "        self.minutes = minutes\n",
    "        self.seconds = seconds\n",
    "        self.total_seconds = 60*60*self.hours + 60*self.minutes + self.seconds\n",
    "        \n",
    "    def __str__(self):\n",
    "        self.init_str = \"{}:{}:{}\".format(self.hours, self.minutes, self.seconds)\n",
    "        return self.init_str\n",
    "        \n",
    "    def output(self, result):\n",
    "        self.result_hours = self.result // 3600\n",
    "        self.result_minutes = (self.result - self.result_hours*3600) // 60\n",
    "        self.result_seconds = self.result - self.result_hours*3600 - self.result_minutes*60\n",
    "        self.message = \"{}:{}:{}\".format(self.result_hours, self.result_minutes, self.result_seconds)\n",
    "        return self.message\n",
    "                \n",
    "    def __add__(self, other):\n",
    "        self.result = self.total_seconds + other.total_seconds\n",
    "        return self.output(self.result)\n",
    "                \n",
    "    def __sub__(self, other):\n",
    "        self.result = self.total_seconds - other.total_seconds\n",
    "        return self.output(self.result)\n",
    "    \n",
    "    def __mul__(self, other):\n",
    "        self.result = self.total_seconds * other\n",
    "        return self.output(self.result)\n",
    "\n",
    "fti = Interval(21,58,50)\n",
    "sti = Interval(1,45,22)\n",
    "try:\n",
    "    if isinstance(fti, Interval) and isinstance(sti, Interval):\n",
    "        print(\"First Time Interval:\\t\\t\", fti)\n",
    "        print(\"Second Time Interval:\\t\\t\",sti)\n",
    "        print(\"The result of (fit + sti):\\t\", fti + sti)\n",
    "        print(\"The result of (fti - sti):\\t\", fti - sti)\n",
    "        print(\"The result of (fti * 2):\\t\", fti * 2)\n",
    "    else:\n",
    "        raise TypeError\n",
    "except:\n",
    "    print(\"TypeError\")"
   ]
  },
  {
   "cell_type": "markdown",
   "metadata": {},
   "source": [
    "### 2.1.1.11 Python core syntax: LAB #2"
   ]
  },
  {
   "cell_type": "markdown",
   "metadata": {},
   "source": [
    "#### Scenario\n",
    "\n",
    "\n",
    "- Extend the class implementation prepared in the previous lab to support the addition and subtraction of integers to time interval objects;\n",
    "- to add an integer to a time interval object means to add seconds;\n",
    "- to subtract an integer from a time interval object means to remove seconds.\n",
    "\n",
    "\n",
    "- Hint\n",
    "    - in the case when a special method receives an integer type argument, instead of a time interval object, create a new time interval object based on the integer value.\n",
    "\n",
    "\n",
    "- Test data:\n",
    "\n",
    "    - the time interval (tti) is hours=21, minutes=58, seconds=50\n",
    "    - the expected result of addition (tti + 62) is 21:59:52\n",
    "    - the expected result of subtraction (tti - 62) is 21:57:48"
   ]
  },
  {
   "cell_type": "code",
   "execution_count": 40,
   "metadata": {},
   "outputs": [
    {
     "name": "stdout",
     "output_type": "stream",
     "text": [
      "The Time Interval:\t\t 21:58:50\n",
      "The result of (ttl + 62):\t 21:59:52\n",
      "The result of (ttl - 62):\t 21:57:48\n"
     ]
    }
   ],
   "source": [
    "class Interval:\n",
    "       \n",
    "    def __init__(self, hours=0, minutes=0, seconds=0):\n",
    "        self.hours = hours\n",
    "        self.minutes = minutes\n",
    "        self.seconds = seconds\n",
    "        self.total_seconds = 60*60*self.hours + 60*self.minutes + self.seconds\n",
    "        \n",
    "    def __str__(self):\n",
    "        self.init_str = \"{}:{}:{}\".format(self.hours, self.minutes, self.seconds)\n",
    "        return self.init_str\n",
    "        \n",
    "    def output(self, result):\n",
    "        self.result_hours = self.result // 3600\n",
    "        self.result_minutes = (self.result - self.result_hours*3600) // 60\n",
    "        self.result_seconds = self.result - self.result_hours*3600 - self.result_minutes*60\n",
    "        self.message = \"{}:{}:{}\".format(self.result_hours, self.result_minutes, self.result_seconds)\n",
    "        return self.message\n",
    "                \n",
    "    def __add__(self, other):\n",
    "        if isinstance(other, Interval):\n",
    "            self.result = self.total_seconds + other.total_seconds\n",
    "        elif isinstance(other, int):\n",
    "            self.result = self.total_seconds + other\n",
    "        else:\n",
    "            raise TypeError()\n",
    "        return self.output(self.result)\n",
    "                \n",
    "    def __sub__(self, other):\n",
    "        if isinstance(other, Interval):\n",
    "            self.result = self.total_seconds - other.total_seconds\n",
    "        elif isinstance(other, int):\n",
    "            self.result = self.total_seconds - other\n",
    "        else:\n",
    "            raise TypeError()\n",
    "        return self.output(self.result)\n",
    "    \n",
    "    def __mul__(self, other):\n",
    "        self.result = self.total_seconds * other\n",
    "        return self.output(self.result)\n",
    "\n",
    "ttl = Interval(21,58,50)\n",
    "print(\"The Time Interval:\\t\\t\", ttl)\n",
    "print(\"The result of (ttl + 62):\\t\", ttl + 62)\n",
    "print(\"The result of (ttl - 62):\\t\", ttl - 62)\n"
   ]
  },
  {
   "cell_type": "markdown",
   "metadata": {},
   "source": [
    "### 2.2.1.1 Inheritance and polymorphism — Inheritance as a pillar of OOP"
   ]
  },
  {
   "cell_type": "markdown",
   "metadata": {},
   "source": [
    "- Inheritance is one of the fundamental concepts of object oriented programming, and expresses the fundamental relationships between classes: superclasses (parents) and their subclasses (descendants). Inheritance creates a class hierarchy. Any object bound to a specific level of class hierarchy inherits all the traits (methods and attributes) defined inside any of the superclasses.\n",
    "\n",
    "\n",
    "- This means that inheritance is a way of building a new class, not from scratch, but by using an already defined repertoire of traits. The new class inherits (and this is the key) all the already existing equipment, but is able to add some new features if needed.\n",
    "\n",
    "\n",
    "- Each subclass is more specialized (or more specific) than its superclass. Conversely, each superclass is more general (more abstract) than any of its subclasses. Note that we've presumed that a class may only have one superclass — this is not always true, but we'll discuss this issue more a bit later."
   ]
  },
  {
   "cell_type": "markdown",
   "metadata": {},
   "source": [
    "![](./images/10_inhetitance.png)"
   ]
  },
  {
   "cell_type": "markdown",
   "metadata": {},
   "source": [
    "### 2.2.1.2 Inheritance and polymorphism — Single inheritance vs. multiple inheritance"
   ]
  },
  {
   "cell_type": "markdown",
   "metadata": {},
   "source": [
    "- There are no obstacles to using multiple inheritance in Python. You can derive any new class from more than one previously defined class.\n",
    "\n",
    "- But multiple inheritance should be used with more prudence than single inheritance because:\n",
    "\n",
    "    - a single inheritance class is always simpler, safer, and easier to understand and maintain;\n",
    "    - multiple inheritance may make method overriding somewhat tricky; moreover, using the super() function can lead to ambiguity;\n",
    "    - it is highly probable that by implementing multiple inheritance you are violating the single responsibility principle;\n",
    "    \n",
    "- If your solution tends to require multiple inheritance, it might be a good idea to think about implementing composition"
   ]
  },
  {
   "cell_type": "markdown",
   "metadata": {},
   "source": [
    "#### MRO — Method Resolution Order"
   ]
  },
  {
   "cell_type": "markdown",
   "metadata": {},
   "source": [
    "- The spectrum of issues possibly coming from multiple inheritance is illustrated by a classical problem named the diamond problem, or even the deadly diamond of death. The name reflects the shape of the inheritance diagram — take a look at the picture.\n",
    "\n",
    "    - There is the top-most superclass named A;\n",
    "    - there are two subclasses derived from A — B and C;\n",
    "    - and there is also the bottom-most subclass named D, derived from B and C (or C and B, as these two variants mean different things in Python)\n"
   ]
  },
  {
   "cell_type": "markdown",
   "metadata": {},
   "source": [
    "![](./images/11_MRO.png)"
   ]
  },
  {
   "cell_type": "markdown",
   "metadata": {},
   "source": [
    "### 2.2.1.3 Inheritance and polymorphism — Single inheritance vs. multiple inheritance"
   ]
  },
  {
   "cell_type": "markdown",
   "metadata": {},
   "source": [
    "- The ambiguity that arises here is caused by the fact that class B and class C are inherited from superclass A, and class D is inherited from both classes B and C. If you want to call the method info(), which part of the code would be executed then?"
   ]
  },
  {
   "cell_type": "code",
   "execution_count": 1,
   "metadata": {},
   "outputs": [
    {
     "name": "stdout",
     "output_type": "stream",
     "text": [
      "Class B\n"
     ]
    }
   ],
   "source": [
    "class A:\n",
    "    def info(self):\n",
    "        print('Class A')\n",
    "\n",
    "class B(A):\n",
    "    def info(self):\n",
    "        print('Class B')\n",
    "\n",
    "class C(A):\n",
    "    def info(self):\n",
    "        print('Class C')\n",
    "\n",
    "class D(B, C):\n",
    "    pass\n",
    "\n",
    "D().info()\n"
   ]
  },
  {
   "cell_type": "markdown",
   "metadata": {},
   "source": [
    "- In the multiple inheritance scenario, any specified attribute is searched for first in the current class. If it is not found, the search continues into the direct parent classes in depth-first level (the first level above), from the left to the right, according to the class definition. This is the result of the MRO algorithm.\n",
    "\n",
    "- In our case:\n",
    "\n",
    "    - class D does not define the method info(), so Python has to look for it in the class hierarchy;\n",
    "    - class D is constructed in this order:\n",
    "        - the definition of class B is fetched;\n",
    "        - the definition of class C is fetched;\n",
    "    - Python finds the requested method in the class B definition and stops searching;\n",
    "    - Python executes the method."
   ]
  },
  {
   "cell_type": "markdown",
   "metadata": {},
   "source": [
    "#### Possible pitfalls — MRO inconsistency"
   ]
  },
  {
   "cell_type": "markdown",
   "metadata": {},
   "source": [
    "- ***MRO*** can report definition inconsistencies when a subtle change in the class D definition is introduced, which is possible when you work with complex class hierarchies."
   ]
  },
  {
   "cell_type": "code",
   "execution_count": 2,
   "metadata": {},
   "outputs": [
    {
     "ename": "TypeError",
     "evalue": "Cannot create a consistent method resolution\norder (MRO) for bases A, C",
     "output_type": "error",
     "traceback": [
      "\u001b[1;31m---------------------------------------------------------------------------\u001b[0m",
      "\u001b[1;31mTypeError\u001b[0m                                 Traceback (most recent call last)",
      "\u001b[1;32m<ipython-input-2-06a32aaacb11>\u001b[0m in \u001b[0;36m<module>\u001b[1;34m\u001b[0m\n\u001b[0;32m     11\u001b[0m         \u001b[0mprint\u001b[0m\u001b[1;33m(\u001b[0m\u001b[1;34m'Class C'\u001b[0m\u001b[1;33m)\u001b[0m\u001b[1;33m\u001b[0m\u001b[1;33m\u001b[0m\u001b[0m\n\u001b[0;32m     12\u001b[0m \u001b[1;33m\u001b[0m\u001b[0m\n\u001b[1;32m---> 13\u001b[1;33m \u001b[1;32mclass\u001b[0m \u001b[0mD\u001b[0m\u001b[1;33m(\u001b[0m\u001b[0mA\u001b[0m\u001b[1;33m,\u001b[0m \u001b[0mC\u001b[0m\u001b[1;33m)\u001b[0m\u001b[1;33m:\u001b[0m\u001b[1;33m\u001b[0m\u001b[1;33m\u001b[0m\u001b[0m\n\u001b[0m\u001b[0;32m     14\u001b[0m     \u001b[1;32mpass\u001b[0m\u001b[1;33m\u001b[0m\u001b[1;33m\u001b[0m\u001b[0m\n\u001b[0;32m     15\u001b[0m \u001b[1;33m\u001b[0m\u001b[0m\n",
      "\u001b[1;31mTypeError\u001b[0m: Cannot create a consistent method resolution\norder (MRO) for bases A, C"
     ]
    }
   ],
   "source": [
    "class A:\n",
    "    def info(self):\n",
    "        print('Class A')\n",
    "\n",
    "class B(A):\n",
    "    def info(self):\n",
    "        print('Class B')\n",
    "\n",
    "class C(A):\n",
    "    def info(self):\n",
    "        print('Class C')\n",
    "\n",
    "class D(A, C):\n",
    "    pass\n",
    "\n",
    "D().info()\n"
   ]
  },
  {
   "cell_type": "markdown",
   "metadata": {},
   "source": [
    "- This message informs us that the MRO algorithm had problems determining which method (originating from the A or C classes) should be called."
   ]
  },
  {
   "cell_type": "markdown",
   "metadata": {},
   "source": [
    "### 2.2.1.5 Inheritance and polymorphism — Single inheritance vs. multiple inheritance"
   ]
  },
  {
   "cell_type": "markdown",
   "metadata": {},
   "source": [
    "- Due to MRO, you should knowingly list the superclasses in the subclass definition. In the following example, class D is based on classes B and C, whereas class E is based on classes C and B (the order matters!)."
   ]
  },
  {
   "cell_type": "code",
   "execution_count": 1,
   "metadata": {},
   "outputs": [
    {
     "name": "stdout",
     "output_type": "stream",
     "text": [
      "Class B\n",
      "Class C\n"
     ]
    }
   ],
   "source": [
    "class A:\n",
    "    def info(self):\n",
    "        print('Class A')\n",
    "\n",
    "class B(A):\n",
    "    def info(self):\n",
    "        print('Class B')\n",
    "\n",
    "class C(A):\n",
    "    def info(self):\n",
    "        print('Class C')\n",
    "\n",
    "class D(B, C):\n",
    "    pass\n",
    "\n",
    "class E(C, B):\n",
    "    pass\n",
    "\n",
    "D().info()\n",
    "E().info()\n"
   ]
  },
  {
   "cell_type": "markdown",
   "metadata": {},
   "source": [
    "### 2.2.1.6 Multiple inheritance — the LAB"
   ]
  },
  {
   "cell_type": "markdown",
   "metadata": {},
   "source": [
    "#### Scenario\n",
    "- Your task is to build a multifunction device (MFD) class consisting of methods responsible for document scanning, printing, and sending via fax.\n",
    "- The methods are delivered by the following classes:\n",
    "    - `scan()`, delivered by the Scanner class;\n",
    "    - `print()`, delivered by the Printer class;\n",
    "    - `send()` and `print()`, delivered by the Fax class.\n",
    "- Each method should print a message indicating its purpose and origin, like:\n",
    "    - 'print() method from Printer class'\n",
    "    - 'send() method from Fax class'\n",
    "- create an `MFD_SPF` class ('SPF' means 'Scanner', 'Printer', 'Fax'), then instantiate it;\n",
    "- create an `MFD_SFP` class ('SFP' means 'Scanner', 'Fax', 'Printer'), then instantiate it;\n",
    "- on each object call the methods: `scan()`, `print()`, `send()`;\n",
    "- observe the output differences. Was the Printer class utilized each time?"
   ]
  },
  {
   "cell_type": "code",
   "execution_count": 6,
   "metadata": {},
   "outputs": [
    {
     "name": "stdout",
     "output_type": "stream",
     "text": [
      "scan() method from Scanner class\n",
      "print() method from Printer class\n",
      "send() method from Fax class\n",
      "scan() method from Scanner class\n",
      "print() method from Fax class\n",
      "send() method from Fax class\n"
     ]
    }
   ],
   "source": [
    "class Scanner:\n",
    "    def __init__(self):\n",
    "        pass\n",
    "    def scan(self):\n",
    "        print(\"scan() method from Scanner class\")\n",
    "        \n",
    "class Printer:\n",
    "    def __init__(self):\n",
    "        pass\n",
    "    def print(self):\n",
    "        print(\"print() method from Printer class\")\n",
    "        \n",
    "class Fax:\n",
    "    def __init__(self):\n",
    "        pass\n",
    "    def send(self):\n",
    "        print(\"send() method from Fax class\")\n",
    "        \n",
    "    def print(self):\n",
    "        print(\"print() method from Fax class\")\n",
    "        \n",
    "class MFD_SPF(Scanner, Printer, Fax):\n",
    "    def __init__(self):\n",
    "        super().__init__()\n",
    "        \n",
    "class MFD_SFP(Scanner, Fax, Printer):\n",
    "    def __init__(self):\n",
    "        super().__init__()\n",
    "        \n",
    "mfd1 = MFD_SPF()\n",
    "mfd2 = MFD_SFP()\n",
    "\n",
    "mfd1.scan()\n",
    "mfd1.print()\n",
    "mfd1.send()\n",
    "\n",
    "mfd2.scan()\n",
    "mfd2.print()\n",
    "mfd2.send()"
   ]
  },
  {
   "cell_type": "markdown",
   "metadata": {},
   "source": [
    "### 2.2.1.7 Inheritance and polymorphism — Inheritance as a pillar of OOP\n"
   ]
  },
  {
   "cell_type": "markdown",
   "metadata": {},
   "source": [
    "- In Python, polymorphism is the provision of a single interface to objects of different types. In other words, it is the ability to create abstract methods from specific types in order to treat those types in a uniform way.\n",
    "\n",
    "- Imagine that you have to print a string or an integer — it is more convenient when a function is called simply `print`, not `print_string` or `print_integer`.\n",
    "\n",
    "- However, the string must be handled differently than the integer, so there will be two implementations of the function that lead to printing, but naming them with a common name creates a convenient abstract interface independent of the type of value to be printed.\n",
    "\n",
    "- The same rule applies to the operation of addition. We know that addition is expressed with the '+' operator, and we can apply that operator when we add two integers or concatenate two strings or two lists.\n",
    "\n",
    "- Let's see what methods are present for both built-in types (string and integer) responsible for handling the '+' operator. Once again, we'll use the `dir(object)` function, which returns a list of object attributes."
   ]
  },
  {
   "cell_type": "code",
   "execution_count": 8,
   "metadata": {},
   "outputs": [
    {
     "name": "stdout",
     "output_type": "stream",
     "text": [
      "['__abs__', '__add__', '__and__', '__bool__', '__ceil__', '__class__', '__delattr__', '__dir__', '__divmod__', '__doc__', '__eq__', '__float__', '__floor__', '__floordiv__', '__format__', '__ge__', '__getattribute__', '__getnewargs__', '__gt__', '__hash__', '__index__', '__init__', '__init_subclass__', '__int__', '__invert__', '__le__', '__lshift__', '__lt__', '__mod__', '__mul__', '__ne__', '__neg__', '__new__', '__or__', '__pos__', '__pow__', '__radd__', '__rand__', '__rdivmod__', '__reduce__', '__reduce_ex__', '__repr__', '__rfloordiv__', '__rlshift__', '__rmod__', '__rmul__', '__ror__', '__round__', '__rpow__', '__rrshift__', '__rshift__', '__rsub__', '__rtruediv__', '__rxor__', '__setattr__', '__sizeof__', '__str__', '__sub__', '__subclasshook__', '__truediv__', '__trunc__', '__xor__', 'bit_length', 'conjugate', 'denominator', 'from_bytes', 'imag', 'numerator', 'real', 'to_bytes']\n"
     ]
    }
   ],
   "source": [
    "print(dir(1))"
   ]
  },
  {
   "cell_type": "code",
   "execution_count": 10,
   "metadata": {},
   "outputs": [
    {
     "name": "stdout",
     "output_type": "stream",
     "text": [
      "['__add__', '__class__', '__contains__', '__delattr__', '__dir__', '__doc__', '__eq__', '__format__', '__ge__', '__getattribute__', '__getitem__', '__getnewargs__', '__gt__', '__hash__', '__init__', '__init_subclass__', '__iter__', '__le__', '__len__', '__lt__', '__mod__', '__mul__', '__ne__', '__new__', '__reduce__', '__reduce_ex__', '__repr__', '__rmod__', '__rmul__', '__setattr__', '__sizeof__', '__str__', '__subclasshook__', 'capitalize', 'casefold', 'center', 'count', 'encode', 'endswith', 'expandtabs', 'find', 'format', 'format_map', 'index', 'isalnum', 'isalpha', 'isascii', 'isdecimal', 'isdigit', 'isidentifier', 'islower', 'isnumeric', 'isprintable', 'isspace', 'istitle', 'isupper', 'join', 'ljust', 'lower', 'lstrip', 'maketrans', 'partition', 'replace', 'rfind', 'rindex', 'rjust', 'rpartition', 'rsplit', 'rstrip', 'split', 'splitlines', 'startswith', 'strip', 'swapcase', 'title', 'translate', 'upper', 'zfill']\n"
     ]
    }
   ],
   "source": [
    "print(dir('a'))"
   ]
  },
  {
   "cell_type": "markdown",
   "metadata": {},
   "source": [
    "- As you can see, there are many attributes available for the string and integer types, many of them carrying the same names. The first name common to both lists is `__add__`, which is a special method responsible for handling addition, as you may remember from the previous slides.\n",
    "\n",
    "- To briefly demonstrate polymorphism on integers and strings, execute the following code in the Python interpreter:"
   ]
  },
  {
   "cell_type": "code",
   "execution_count": 11,
   "metadata": {},
   "outputs": [
    {
     "name": "stdout",
     "output_type": "stream",
     "text": [
      "30\n",
      "abcdef\n"
     ]
    }
   ],
   "source": [
    "a = 10\n",
    "print(a.__add__(20))\n",
    "\n",
    "b = 'abc'\n",
    "print(b.__add__('def'))"
   ]
  },
  {
   "cell_type": "markdown",
   "metadata": {},
   "source": [
    "- By the way, if you look for a method that is used when you print a value associated with an object, the `__str__` method is called to prepare a string that is used in turn for printing."
   ]
  },
  {
   "cell_type": "markdown",
   "metadata": {},
   "source": [
    "### 2.2.1.8 Inheritance and polymorphism — two pillars of OOP combined"
   ]
  },
  {
   "cell_type": "markdown",
   "metadata": {},
   "source": [
    "- One way to carry out polymorphism is inheritance, when subclasses make use of base class methods, or override them. By combining both approaches, the programmer is given a very convenient way of creating applications, as:\n",
    "\n",
    "    - most of the code could be reused and only specific methods are implemented, which saves a lot of development time and improves code quality;\n",
    "    - the code is clearly structured;\n",
    "    - there is a uniform way of calling methods responsible for the same operations, implemented accordingly for the types.\n",
    "    \n",
    "- Remember\n",
    "    - You can use inheritance to create polymorphic behavior, and usually that's what you do, but that's not what polymorphism is about."
   ]
  },
  {
   "cell_type": "code",
   "execution_count": 1,
   "metadata": {},
   "outputs": [
    {
     "name": "stdout",
     "output_type": "stream",
     "text": [
      "The device was turned on\n",
      "The device was turned on\n",
      "PortableRadio type object was turned on\n",
      "TvSet type object was turned on\n"
     ]
    }
   ],
   "source": [
    "class Device:\n",
    "    def turn_on(self):\n",
    "        print('The device was turned on')\n",
    "\n",
    "class Radio(Device):\n",
    "    pass\n",
    "\n",
    "class PortableRadio(Device):\n",
    "    def turn_on(self):\n",
    "        print('PortableRadio type object was turned on')\n",
    "\n",
    "class TvSet(Device):\n",
    "    def turn_on(self):\n",
    "        print('TvSet type object was turned on')\n",
    "\n",
    "device = Device()\n",
    "radio = Radio()\n",
    "portableRadio = PortableRadio()\n",
    "tvset = TvSet()\n",
    "\n",
    "for element in (device, radio, portableRadio, tvset):\n",
    "    element.turn_on()\n"
   ]
  },
  {
   "cell_type": "markdown",
   "metadata": {},
   "source": [
    "### 2.2.1.9 Inheritance and polymorphism — duck typing"
   ]
  },
  {
   "cell_type": "markdown",
   "metadata": {},
   "source": [
    "- Duck typing is a fancy name for the term describing an application of the duck test: \"If it walks like a duck and it quacks like a duck, then it must be a duck\", which determines whether an object can be used for a particular purpose. An object's suitability is determined by the presence of certain attributes, rather than by the type of the object itself.\n",
    "\n",
    "- Duck typing is another way of achieving polymorphism, and represents a more general approach than polymorphism achieved by inheritance. When we talk about inheritance, all subclasses are equipped with methods named the same way as the methods present in the superclass.\n",
    "\n",
    "- In duck typing, we believe that objects own the methods that are called. If they do not own them, then we should be prepared to handle exceptions."
   ]
  },
  {
   "cell_type": "code",
   "execution_count": 2,
   "metadata": {},
   "outputs": [
    {
     "name": "stdout",
     "output_type": "stream",
     "text": [
      "Wax can be used to form a tool\n",
      "Cheese can be eaten\n",
      "No melt() method\n"
     ]
    }
   ],
   "source": [
    "class Wax:\n",
    "    def melt(self):\n",
    "        print(\"Wax can be used to form a tool\")\n",
    "\n",
    "class Cheese:\n",
    "    def melt(self):\n",
    "        print(\"Cheese can be eaten\")\n",
    "\n",
    "class Wood:\n",
    "    def fire(self):\n",
    "        print(\"A fire has been started!\")\n",
    "\n",
    "for element in Wax(), Cheese(), Wood():\n",
    "    try:\n",
    "        element.melt()\n",
    "    except AttributeError:\n",
    "        print('No melt() method')"
   ]
  },
  {
   "cell_type": "markdown",
   "metadata": {},
   "source": [
    "Summary:\n",
    "\n",
    "- polymorphism is used when different class objects share conceptually similar methods (but are not always inherited)\n",
    "\n",
    "\n",
    "- polymorphism leverages clarity and expressiveness of the application design and development;\n",
    "\n",
    "\n",
    "- when polymorphism is assumed, it is wise to handle exceptions that could pop up."
   ]
  },
  {
   "cell_type": "markdown",
   "metadata": {},
   "source": [
    "### 2.3.1.1 Extended function argument syntax"
   ]
  },
  {
   "cell_type": "markdown",
   "metadata": {},
   "source": [
    "- How is it possible for Python functions to deal with a variable number of arguments? Can we prepare such functions ourselves?\n",
    "\n",
    "- The answer is yes, but it may look strange at first glance: \\*args and \\*\\*kwargs. Don't worry, we'll tame them in a short moment."
   ]
  },
  {
   "cell_type": "markdown",
   "metadata": {},
   "source": [
    "### 2.3.1.2 Extended function argument syntax\n"
   ]
  },
  {
   "cell_type": "markdown",
   "metadata": {},
   "source": [
    "- These two special identifiers (named \\*args and \\*\\*kwargs) should be put as the last two parameters in a function definition. Their names could be changed because it is just a convention to name them 'args' and 'kwargs', but it’s more important to sustain the order of the parameters and leading asterisks.\n",
    "\n",
    "\n",
    "- Those two special parameters are responsible for handling any number of additional arguments (placed next after the expected arguments) passed to a called function:\n",
    "    - \\*args – refers to a tuple of all additional, not explicitly expected positional arguments, so arguments passed without keywords and passed next after the expected arguments. In other words, *args collects all unmatched positional arguments;\n",
    "    - \\*\\*kwargs (keyword arguments) – refers to a dictionary of all unexpected arguments that were passed in the form of keyword=value pairs. Likewise, \\*\\*kwargs collects all unmatched keyword arguments.\n",
    "    \n",
    "    \n",
    "- In Python, asterisks are used to denote that args and kwargs parameters are not ordinary parameters and should be unpacked, as they carry multiple items.\n",
    "\n",
    "\n",
    "- If you’ve ever programmed in the C or C++ languages, then you should remember that the asterisk character has another meaning (it denotes a pointer) which could be misleading for you."
   ]
  },
  {
   "cell_type": "code",
   "execution_count": 3,
   "metadata": {},
   "outputs": [
    {
     "name": "stdout",
     "output_type": "stream",
     "text": [
      "10 <class 'int'>\n",
      "20 <class 'str'>\n",
      "(40, 60, 30) <class 'tuple'>\n",
      "{'argument1': 50, 'argument2': '66'} <class 'dict'>\n"
     ]
    }
   ],
   "source": [
    "def combiner(a, b, *args, **kwargs):\n",
    "    print(a, type(a))\n",
    "    print(b, type(b))\n",
    "    print(args, type(args))\n",
    "    print(kwargs, type(kwargs))\n",
    "\n",
    "\n",
    "combiner(10, '20', 40, 60, 30, argument1=50, argument2='66')\n"
   ]
  },
  {
   "cell_type": "markdown",
   "metadata": {},
   "source": [
    "### 2.3.1.3 Extended function argument syntax"
   ]
  },
  {
   "cell_type": "markdown",
   "metadata": {},
   "source": [
    "#### Extended function argument syntax – forwarding arguments to other functions"
   ]
  },
  {
   "cell_type": "markdown",
   "metadata": {},
   "source": [
    "- When you want to forward arguments received by your very smart and universal function (defined with \\*args and \\*\\*kwargs, of course) to another handy and smart function, you should do that in the following way:"
   ]
  },
  {
   "cell_type": "code",
   "execution_count": 5,
   "metadata": {},
   "outputs": [
    {
     "name": "stdout",
     "output_type": "stream",
     "text": [
      "my_args: (40, 60, 30)\n",
      "my_kwargs:  {'argument1': 50, 'argument2': '66'}\n"
     ]
    }
   ],
   "source": [
    "def combiner(a, b, *args, **kwargs):\n",
    "    super_combiner(*args, **kwargs)\n",
    "    \n",
    "def super_combiner(*my_args, **my_kwargs):\n",
    "    print('my_args:', my_args)\n",
    "    print('my_kwargs: ', my_kwargs)\n",
    "    \n",
    "combiner(10, '20', 40, 60, 30, argument1=50, argument2='66')"
   ]
  },
  {
   "cell_type": "markdown",
   "metadata": {},
   "source": [
    "### 2.3.1.4 Extended function argument syntax"
   ]
  },
  {
   "cell_type": "markdown",
   "metadata": {},
   "source": [
    "- The last example in this section shows how to combine \\*args, a key word, and \\*\\*kwargs in one definition:"
   ]
  },
  {
   "cell_type": "code",
   "execution_count": 6,
   "metadata": {},
   "outputs": [
    {
     "name": "stdout",
     "output_type": "stream",
     "text": [
      "my_args: (1, 1)\n",
      "my_c: 2\n",
      "my_kwargs {'argument1': 1, 'argument2': '1'}\n"
     ]
    }
   ],
   "source": [
    "def combiner(a, b, *args, c=20, **kwargs):\n",
    "    super_combiner(c, *args, **kwargs)\n",
    "def super_combiner(my_c, *my_args, **my_kwargs):\n",
    "    print('my_args:', my_args)\n",
    "    print('my_c:', my_c)\n",
    "    print('my_kwargs', my_kwargs)\n",
    "combiner(1, '1', 1, 1, c=2, argument1=1, argument2='1')"
   ]
  },
  {
   "cell_type": "markdown",
   "metadata": {},
   "source": [
    "- As you can see, Python offers complex parameter handling:\n",
    "\n",
    "    - positional arguments (a,b) are distinguished from all other positional arguments (args)\n",
    "    - the keyword 'c' is distinguished from all other keyworded parameters.\n",
    "    \n",
    "    \n",
    "- Now that we know the purpose of special parameters, we can move on to decorators that make intensive use of those parameters."
   ]
  },
  {
   "cell_type": "markdown",
   "metadata": {},
   "source": [
    "### 2.4.1.1 Decorators"
   ]
  },
  {
   "cell_type": "markdown",
   "metadata": {},
   "source": [
    "- A decorator is one of the design patterns that describes the structure of related objects. Python is able to decorate functions, methods, and classes.\n",
    "\n",
    "\n",
    "- The decorator's operation is based on wrapping the original function with a new \"decorating\" function (or class), hence the name \"decoration\". This is done by passing the original function (i.e., the decorated function) as a parameter to the decorating function so that the decorating function can call the passed function. The decorating function returns a function that can be called later.\n",
    "\n",
    "\n",
    "- Of course, the decorating function does more, because it can take the parameters of the decorated function and perform additional actions and that make it a real decorating function.\n",
    "\n",
    "\n",
    "- The same principle is applied when we decorate classes.\n",
    "\n",
    "\n",
    "- So from now on, the term 'decorator' will be understood as a decorating class or a decorating function.\n",
    "\n",
    "\n",
    "- ***Decorators are used to perform operations before and after a call to a wrapped object or even to prevent its execution, depending on the circumstances. As a result, we can change the operation of the packaged object without directly modifying it***.\n",
    "\n",
    "\n",
    "- Decorators are used in:\n",
    "\n",
    "    - the validation of arguments;\n",
    "    - the modification of arguments;\n",
    "    - the modification of returned objects;\n",
    "    - the measurement of execution time;\n",
    "    - message logging;\n",
    "    - thread synchronization;\n",
    "    - code refactorization;\n",
    "    - caching.\n"
   ]
  },
  {
   "cell_type": "markdown",
   "metadata": {},
   "source": [
    "### 2.4.1.2 Decorators"
   ]
  },
  {
   "cell_type": "markdown",
   "metadata": {},
   "source": [
    "- Let's analyze some examples before we get down to the next dose of theory."
   ]
  },
  {
   "cell_type": "code",
   "execution_count": 8,
   "metadata": {},
   "outputs": [
    {
     "name": "stdout",
     "output_type": "stream",
     "text": [
      "We are about to call \"simple_hello\"\n",
      "Hello from simple function!\n"
     ]
    }
   ],
   "source": [
    "def simple_hello():\n",
    "    print(\"Hello from simple function!\")\n",
    "    \n",
    "def simple_decorator(function):\n",
    "    print('We are about to call \"{}\"'.format(function.__name__))\n",
    "    return function\n",
    "\n",
    "decorated = simple_decorator(simple_hello)\n",
    "decorated()"
   ]
  },
  {
   "cell_type": "markdown",
   "metadata": {},
   "source": [
    "### 2.4.1.3 Decorators"
   ]
  },
  {
   "cell_type": "markdown",
   "metadata": {},
   "source": [
    "- As you can see, the definition of the `simple_hello()` function is literally decorated with '@simple_decorator' – isn't that a nice syntax?\n",
    "\n",
    "\n",
    "- This means that:\n",
    "\n",
    "    - operations are performed on object names;\n",
    "    - ***this is the most important thing to remember***: the name of the simple_function object ceases to indicate the object representing our simple_function() and from that moment on it indicates the object returned by the decorator, the simple_decorator.\n",
    "    \n",
    "    \n",
    "- The implementation of the decorator pattern introduces this syntax, which appears to be very important and useful to developers. That is why decorators have gained great popularity and are widely used in Python code. It should be mentioned that decorators are very useful for refactoring or debugging the code."
   ]
  },
  {
   "cell_type": "code",
   "execution_count": 10,
   "metadata": {},
   "outputs": [
    {
     "name": "stdout",
     "output_type": "stream",
     "text": [
      "We are about ot call \"simple_hello\"\n",
      "Hello from simple function!\n"
     ]
    }
   ],
   "source": [
    "def simple_decorator(function):\n",
    "    print('We are about ot call \"{}\"'.format(function.__name__))\n",
    "    return function\n",
    "\n",
    "@simple_decorator\n",
    "def simple_hello():\n",
    "    print(\"Hello from simple function!\")\n",
    "    \n",
    "simple_hello()"
   ]
  },
  {
   "cell_type": "markdown",
   "metadata": {},
   "source": [
    "### 2.4.1.4 Decorators"
   ]
  },
  {
   "cell_type": "markdown",
   "metadata": {},
   "source": [
    "#### Decorators should be universal"
   ]
  },
  {
   "cell_type": "markdown",
   "metadata": {},
   "source": [
    "- Consider a function that accepts arguments and should also be decorated. Decorators, which should be universal, must support any function, regardless of the number and type of arguments passed. In such a situation, we can use the *args and **kwargs concepts. We can also employ a closure technique to persist arguments."
   ]
  },
  {
   "cell_type": "code",
   "execution_count": 1,
   "metadata": {},
   "outputs": [
    {
     "name": "stdout",
     "output_type": "stream",
     "text": [
      "\"combiner\" was called with the following arguments\n",
      "\t('a', 'b')\n",
      "\t{'exec': 'yes'}\n",
      "\n",
      "\tHello from the decorated function; received arguments: ('a', 'b') {'exec': 'yes'}\n",
      "Decorator is still operating\n"
     ]
    }
   ],
   "source": [
    "def simple_decorator(own_function):\n",
    "\n",
    "    def internal_wrapper(*args, **kwargs):\n",
    "        print('\"{}\" was called with the following arguments'.format(own_function.__name__))\n",
    "        print('\\t{}\\n\\t{}\\n'.format(args, kwargs))\n",
    "        own_function(*args, **kwargs)\n",
    "        print('Decorator is still operating')\n",
    "\n",
    "    return internal_wrapper\n",
    "\n",
    "\n",
    "@simple_decorator\n",
    "def combiner(*args, **kwargs):\n",
    "    print(\"\\tHello from the decorated function; received arguments:\", args, kwargs)\n",
    "\n",
    "combiner('a', 'b', exec='yes')\n"
   ]
  },
  {
   "cell_type": "markdown",
   "metadata": {},
   "source": [
    "- Arguments passed to the decorated function are available to the decorator, so the decorator can print them. This is a simple example, as the arguments were just printed, but not processed further.\n",
    "\n",
    "- A nested function (internal_wrapper) could reference an object (own_function) in its enclosing scope thanks to the closure."
   ]
  },
  {
   "cell_type": "markdown",
   "metadata": {},
   "source": [
    "### 2.4.1.5 Decorators"
   ]
  },
  {
   "cell_type": "markdown",
   "metadata": {},
   "source": [
    "#### Decorators can accept their own attributes"
   ]
  },
  {
   "cell_type": "markdown",
   "metadata": {},
   "source": [
    "- The `warehouse_decorator()` function created in this way has become much more flexible and universal than 'simple_decorator', because it can handle different materials.\n",
    "\n",
    "\n",
    "- Note that our decorator is enriched with one more function to make it able to handle arguments at all call levels.\n",
    "\n",
    "\n",
    "- The `pack_books` function will be executed as follows:\n",
    "\n",
    "    - the `warehouse_decorator('kraft')` function will return the wrapper function;\n",
    "    - the returned wrapper function will take the function it is supposed to decorate as an argument;\n",
    "    - the wrapper function will return the ***internal_wrapper*** function, which adds new functionality (material display) and runs the decorated function.\n",
    "    \n",
    "    \n",
    "- The biggest advantage of decorators is now clearly visible:\n",
    "    - we don’t have to change every 'pack' function to display the material being used;\n",
    "    - we just have to add a simple one liner in front of each function definition."
   ]
  },
  {
   "cell_type": "code",
   "execution_count": 2,
   "metadata": {},
   "outputs": [
    {
     "name": "stdout",
     "output_type": "stream",
     "text": [
      "<strong>*</strong> Wrapping items from pack_books with kraft\n",
      "We'll pack books: ('Alice in Wonderland', 'Winnie the Pooh')\n",
      "\n",
      "<strong>*</strong> Wrapping items from pack_toys with foil\n",
      "We'll pack toys: ('doll', 'car')\n",
      "\n",
      "<strong>*</strong> Wrapping items from pack_fruits with cardboard\n",
      "We'll pack fruits: ('plum', 'pear')\n",
      "\n"
     ]
    }
   ],
   "source": [
    "def warehouse_decorator(material):\n",
    "    def wrapper(our_function):\n",
    "        def internal_wrapper(*args):\n",
    "            print('<strong>*</strong> Wrapping items from {} with {}'.format(our_function.__name__, material))\n",
    "            our_function(*args)\n",
    "            print()\n",
    "        return internal_wrapper\n",
    "    return wrapper\n",
    "\n",
    "\n",
    "@warehouse_decorator('kraft')\n",
    "def pack_books(*args):\n",
    "    print(\"We'll pack books:\", args)\n",
    "\n",
    "\n",
    "@warehouse_decorator('foil')\n",
    "def pack_toys(*args):\n",
    "    print(\"We'll pack toys:\", args)\n",
    "\n",
    "\n",
    "@warehouse_decorator('cardboard')\n",
    "def pack_fruits(*args):\n",
    "    print(\"We'll pack fruits:\", args)\n",
    "\n",
    "\n",
    "pack_books('Alice in Wonderland', 'Winnie the Pooh')\n",
    "pack_toys('doll', 'car')\n",
    "pack_fruits('plum', 'pear')\n"
   ]
  },
  {
   "cell_type": "markdown",
   "metadata": {},
   "source": [
    "#### 2.4.1.6 Decorators"
   ]
  },
  {
   "cell_type": "markdown",
   "metadata": {},
   "source": [
    "#### Decorator stacking"
   ]
  },
  {
   "cell_type": "markdown",
   "metadata": {},
   "source": [
    "- Python allows you to apply multiple decorators to a callable object (function, method or class).\n",
    "\n",
    "- The most important thing to remember is the order in which the decorators are listed in your code, because it determines the order of the executed decorators. When your function is decorated with multiple decorators:"
   ]
  },
  {
   "cell_type": "code",
   "execution_count": null,
   "metadata": {},
   "outputs": [],
   "source": [
    "@outer_decorator\n",
    "@inner_decorator\n",
    "def function():\n",
    "    pass\n",
    "\n",
    "abcd = subject_matter_function()"
   ]
  },
  {
   "cell_type": "markdown",
   "metadata": {},
   "source": [
    "- the call sequence will look like the following:\n",
    "    - the outer_decorator is called to call the inner_decorator, then the inner_decorator calls your function;\n",
    "    - when your function ends it execution, the inner_decorator takes over control, and after it finishes its execution, the outer_decorator is able to finish its job.\n",
    "    \n",
    "    \n",
    "- This routing mimics the classic stack concept.\n",
    "\n",
    "\n",
    "- The syntactic sugar presented above is the equivalent of the following nested calls:"
   ]
  },
  {
   "cell_type": "code",
   "execution_count": null,
   "metadata": {},
   "outputs": [],
   "source": [
    "subject_matter_function = outer_decorator(inner_decorator(subject_matter_function())))\n",
    "abcd = subject_matter_function()"
   ]
  },
  {
   "cell_type": "markdown",
   "metadata": {},
   "source": [
    "- ***Another advantage becomes clear when you think about the number of modifications you should add to gain the same functionality***, because you'd have to modify each call to your function."
   ]
  },
  {
   "cell_type": "code",
   "execution_count": 3,
   "metadata": {},
   "outputs": [
    {
     "name": "stdout",
     "output_type": "stream",
     "text": [
      "We'll pack books: ('Alice in Wonderland', 'Winnie the Pooh')\n",
      "<strong>*</strong> Wrapping items from pack_books with bubble foil\n",
      "<strong>*</strong> The whole order would be packed with plain cardboard\n",
      "\n",
      "We'll pack toys: ('doll', 'car')\n",
      "<strong>*</strong> Wrapping items from pack_toys with foil\n",
      "<strong>*</strong> The whole order would be packed with colourful cardboard\n",
      "\n",
      "We'll pack fruits: ('plum', 'pear')\n",
      "<strong>*</strong> Wrapping items from pack_fruits with cardboard\n",
      "<strong>*</strong> The whole order would be packed with strong cardboard\n",
      "\n"
     ]
    }
   ],
   "source": [
    "def big_container(collective_material):\n",
    "    def wrapper(our_function):\n",
    "        def internal_wrapper(*args):\n",
    "            our_function(*args)\n",
    "            print('<strong>*</strong> The whole order would be packed with', collective_material)\n",
    "            print()\n",
    "        return internal_wrapper\n",
    "    return wrapper\n",
    "\n",
    "def warehouse_decorator(material):\n",
    "    def wrapper(our_function):\n",
    "        def internal_wrapper(*args):\n",
    "            our_function(*args)\n",
    "            print('<strong>*</strong> Wrapping items from {} with {}'.format(our_function.__name__, material))\n",
    "        return internal_wrapper\n",
    "    return wrapper\n",
    "\n",
    "@big_container('plain cardboard')\n",
    "@warehouse_decorator('bubble foil')\n",
    "def pack_books(*args):\n",
    "    print(\"We'll pack books:\", args)\n",
    "\n",
    "@big_container('colourful cardboard')\n",
    "@warehouse_decorator('foil')\n",
    "def pack_toys(*args):\n",
    "    print(\"We'll pack toys:\", args)\n",
    "\n",
    "@big_container('strong cardboard')\n",
    "@warehouse_decorator('cardboard')\n",
    "def pack_fruits(*args):\n",
    "    print(\"We'll pack fruits:\", args)\n",
    "\n",
    "\n",
    "pack_books('Alice in Wonderland', 'Winnie the Pooh')\n",
    "pack_toys('doll', 'car')\n",
    "pack_fruits('plum', 'pear')\n"
   ]
  },
  {
   "cell_type": "markdown",
   "metadata": {},
   "source": [
    "- This example demonstrates that packaging functions are called simply (and could be called many times in different places in your code) and every time those functions' behavior would be extended in a relevant way."
   ]
  },
  {
   "cell_type": "markdown",
   "metadata": {},
   "source": [
    "### 2.4.1.7 Lab – timestamping logger"
   ]
  },
  {
   "cell_type": "markdown",
   "metadata": {},
   "source": [
    "#### Scenario\n",
    "\n",
    "- Create a function decorator that prints a timestamp (in a form like year-month-day hour:minute:seconds, eg. 2019-11-05 08:33:22)\n",
    "\n",
    "\n",
    "- Create a few ordinary functions that do some simple tasks, like adding or multiplying two numbers.\n",
    "\n",
    "\n",
    "- Apply your decorator to those functions to ensure that the time of the function executions can be monitored."
   ]
  },
  {
   "cell_type": "code",
   "execution_count": 19,
   "metadata": {},
   "outputs": [
    {
     "name": "stdout",
     "output_type": "stream",
     "text": [
      "2021-01-14 12:38:26\n",
      "The sum is:  12\n"
     ]
    }
   ],
   "source": [
    "from datetime import datetime\n",
    "\n",
    "def timeStamp(own_function):\n",
    "    def internal_wrapper(*args, **kwargs):\n",
    "        timestamp = datetime.now()\n",
    "        string_timestamp = timestamp.strftime('%Y-%m-%d %H:%M:%S')\n",
    "        print(string_timestamp)\n",
    "        own_function(*args, **kwargs)\n",
    "    return internal_wrapper\n",
    "    \n",
    "@timeStamp\n",
    "def adding(*args, **kwargs):\n",
    "    s = sum(args) + sum(kwargs.values())\n",
    "    print('The sum is: ',s)\n",
    "\n",
    "\n",
    "adding(1,2,3,a=1,b=2,c=3)\n"
   ]
  },
  {
   "cell_type": "markdown",
   "metadata": {},
   "source": [
    "### 2.4.1.8 Decorators"
   ]
  },
  {
   "cell_type": "markdown",
   "metadata": {},
   "source": [
    "#### Decorating functions with classes"
   ]
  },
  {
   "cell_type": "markdown",
   "metadata": {},
   "source": [
    "A decorator does not have to be a function. In Python, it could be a class that plays the role of a decorator as a function.\n",
    "\n",
    "We can define a decorator as a class, and in order to do that, we have to use a `__call__` special class method. When a user needs to create an object that acts as a function (i.e., it is callable) then the function decorator needs to return an object that is callable, so the `__call__` special method will be very useful.\n",
    "\n",
    "Our previous example code:"
   ]
  },
  {
   "cell_type": "code",
   "execution_count": null,
   "metadata": {},
   "outputs": [],
   "source": [
    "def simple_decorator(own_function):\n",
    "\n",
    "    def internal_wrapper(*args, **kwargs):\n",
    "        print('\"{}\" was called with the following arguments'.format(own_function.__name__))\n",
    "        print('\\t{}\\n\\t{}\\n'.format(args, kwargs))\n",
    "        own_function(*args, **kwargs)\n",
    "        print('Decorator is still operating')\n",
    "\n",
    "    return internal_wrapper\n"
   ]
  },
  {
   "cell_type": "markdown",
   "metadata": {},
   "source": [
    "could be transcribed to the code presented on the right. Run it to see the output and compare it to the output of the previously retrieved output."
   ]
  },
  {
   "cell_type": "code",
   "execution_count": null,
   "metadata": {},
   "outputs": [],
   "source": [
    "class SimpleDecorator:\n",
    "    def __init__(self, own_function):\n",
    "        self.func = own_function\n",
    "\n",
    "    def __call__(self, *args, **kwargs):\n",
    "        print('\"{}\" was called with the following arguments'.format(self.func.__name__))\n",
    "        print('\\t{}\\n\\t{}\\n'.format(args, kwargs))\n",
    "        self.func(*args, **kwargs)\n",
    "        print('Decorator is still operating')\n",
    "\n",
    "\n",
    "@SimpleDecorator\n",
    "def combiner(*args, **kwargs):\n",
    "    print(\"\\tHello from the decorated function; received arguments:\", args, kwargs)\n",
    "\n",
    "\n",
    "combiner('a', 'b', exec='yes')"
   ]
  },
  {
   "cell_type": "markdown",
   "metadata": {},
   "source": [
    "A short explanation of special methods:\n",
    "\n",
    "- the `__init__` method assigns a decorated function reference to the self.attribute for later use;\n",
    "- the `__call__` method, which is responsible for supporting a case when an object is called, calls a previously referenced function.\n",
    "\n",
    "The advantage of this approach, when compared to decorators expressed with functions, is:\n",
    "- classes bring all the subsidiarity they can offer, like inheritance and the ability to create dedicated supportive methods."
   ]
  },
  {
   "cell_type": "code",
   "execution_count": 1,
   "metadata": {},
   "outputs": [
    {
     "name": "stdout",
     "output_type": "stream",
     "text": [
      "\"combiner\" was called with the following arguments\n",
      "\t('a', 'b')\n",
      "\t{'exec': 'yes'}\n",
      "\n",
      "\tHello from the decorated function; received arguments: ('a', 'b') {'exec': 'yes'}\n",
      "Decorator is still operating\n"
     ]
    }
   ],
   "source": [
    "class SimpleDecorator:\n",
    "    def __init__(self, own_function):\n",
    "        self.func = own_function\n",
    "\n",
    "    def __call__(self, *args, **kwargs):\n",
    "        print('\"{}\" was called with the following arguments'.format(self.func.__name__))\n",
    "        print('\\t{}\\n\\t{}\\n'.format(args, kwargs))\n",
    "        self.func(*args, **kwargs)\n",
    "        print('Decorator is still operating')\n",
    "\n",
    "\n",
    "@SimpleDecorator\n",
    "def combiner(*args, **kwargs):\n",
    "    print(\"\\tHello from the decorated function; received arguments:\", args, kwargs)\n",
    "\n",
    "\n",
    "combiner('a', 'b', exec='yes')"
   ]
  },
  {
   "cell_type": "markdown",
   "metadata": {},
   "source": [
    "### 2.4.1.9 Decorators"
   ]
  },
  {
   "cell_type": "markdown",
   "metadata": {},
   "source": [
    "#### Decorators with arguments"
   ]
  },
  {
   "cell_type": "markdown",
   "metadata": {},
   "source": [
    "And this code could be transcribed to a decorator expressed as a class, presented in the right pane.\n",
    "\n",
    "When you pass arguments to the decorator, the decorator mechanism behaves quite differently than presented in example of decorator that does not accept arguments (previous slide):\n",
    "\n",
    "- the reference to function to be decorated is passed to __call__ method which is called only once during decoration process,\n",
    "- the decorator arguments are passed to __init__ method"
   ]
  },
  {
   "cell_type": "code",
   "execution_count": 3,
   "metadata": {},
   "outputs": [
    {
     "name": "stdout",
     "output_type": "stream",
     "text": [
      "<strong>*</strong> Wrapping items from pack_books with kraft\n",
      "We'll pack books: ('Alice in Wonderland', 'Winnie the Pooh')\n",
      "\n",
      "<strong>*</strong> Wrapping items from pack_toys with foil\n",
      "We'll pack toys: ('doll', 'car')\n",
      "\n",
      "<strong>*</strong> Wrapping items from pack_fruits with cardboard\n",
      "We'll pack fruits: ('plum', 'pear')\n",
      "\n"
     ]
    }
   ],
   "source": [
    "class WarehouseDecorator:\n",
    "    def __init__(self, material):\n",
    "        self.material = material\n",
    "\n",
    "    def __call__(self, own_function):\n",
    "        def internal_wrapper(*args, **kwargs):\n",
    "            print('<strong>*</strong> Wrapping items from {} with {}'.format(own_function.__name__, self.material))\n",
    "            own_function(*args, **kwargs)\n",
    "            print()\n",
    "        return internal_wrapper\n",
    "\n",
    "\n",
    "@WarehouseDecorator('kraft')\n",
    "def pack_books(*args):\n",
    "    print(\"We'll pack books:\", args)\n",
    "\n",
    "\n",
    "@WarehouseDecorator('foil')\n",
    "def pack_toys(*args):\n",
    "    print(\"We'll pack toys:\", args)\n",
    "\n",
    "\n",
    "@WarehouseDecorator('cardboard')\n",
    "def pack_fruits(*args):\n",
    "    print(\"We'll pack fruits:\", args)\n",
    "\n",
    "\n",
    "pack_books('Alice in Wonderland', 'Winnie the Pooh')\n",
    "pack_toys('doll', 'car')\n",
    "pack_fruits('plum', 'pear')"
   ]
  },
  {
   "cell_type": "markdown",
   "metadata": {},
   "source": [
    "### 2.4.1.10 Decorators"
   ]
  },
  {
   "cell_type": "markdown",
   "metadata": {},
   "source": [
    "#### Class decorators"
   ]
  },
  {
   "cell_type": "markdown",
   "metadata": {},
   "source": [
    "Class decorators strongly refer to function decorators, because they use the same syntax and implement the same concepts.\n",
    "\n",
    "Instead of wrapping individual methods with function decorators, class decorators are ways to manage classes or wrap special method calls into additional logic that manages or extends instances that are created.\n",
    "\n",
    "If we consider syntax, class decorators appear just before the 'class' instructions that begin the class definition (similar to function decorators, they appear just before the function definitions).\n",
    "\n"
   ]
  },
  {
   "cell_type": "markdown",
   "metadata": {},
   "source": [
    "The simplest use can be presented as follows:"
   ]
  },
  {
   "cell_type": "code",
   "execution_count": null,
   "metadata": {},
   "outputs": [],
   "source": [
    "@my_decorator\n",
    "class MyClass:\n",
    "\n",
    "obj = MyClass()"
   ]
  },
  {
   "cell_type": "markdown",
   "metadata": {},
   "source": [
    "and it is adequate for the following snippet:"
   ]
  },
  {
   "cell_type": "code",
   "execution_count": null,
   "metadata": {},
   "outputs": [],
   "source": [
    "def my_decorator(A):\n",
    "   ...\n",
    "\n",
    "class MyClass:\n",
    "   ...\n",
    "\n",
    "MyClass = my_decorator(MyClass())\n",
    "\n",
    "obj = MyClass()"
   ]
  },
  {
   "cell_type": "markdown",
   "metadata": {},
   "source": [
    "Like function decorators, the new (decorated) class is available under the name 'MyClass' and is used to create an instance. The original class named 'MyClass' is no longer available in your name space. The callable object returned by the class decorator creates and returns a new instance of the original class, extended in some way."
   ]
  },
  {
   "cell_type": "markdown",
   "metadata": {},
   "source": [
    "### 2.4.1.11 Decorators"
   ]
  },
  {
   "cell_type": "markdown",
   "metadata": {},
   "source": [
    "Now we’ll talk about a class decorated with a function that allows us to monitor the fact that some code gets access to the class object attributes. When you’re debugging your code or optimizing it, you might be curious how many times the object attributes are accessed. In such a situation, a class decorator might be handy.\n",
    "\n",
    "Let's create a simple class representing a car. Each object should own two attributes: mileage and VIN, and it should be possible to read the values of those attributes."
   ]
  },
  {
   "cell_type": "code",
   "execution_count": null,
   "metadata": {},
   "outputs": [],
   "source": [
    "class Car:\n",
    "    def __init__(self, VIN):\n",
    "        self.mileage = 0\n",
    "        self.VIN = VIN\n",
    "\n",
    "car = Car('ABC123')\n",
    "print('The mileage is', car.mileage)\n",
    "print('The VIN is', car.VIN)"
   ]
  },
  {
   "cell_type": "markdown",
   "metadata": {},
   "source": [
    "### 2.4.1.12 Decorators\n"
   ]
  },
  {
   "cell_type": "markdown",
   "metadata": {},
   "source": [
    "Now let's create a function that will decorate a class with a method that issues alerts whenever the 'mileage' attribute is read."
   ]
  },
  {
   "cell_type": "code",
   "execution_count": null,
   "metadata": {},
   "outputs": [],
   "source": [
    "def object_counter(class_):\n",
    "    class_.__getattr__orig = class_.__getattribute__\n",
    "\n",
    "    def new_getattr(self, name):\n",
    "        if name == 'mileage':\n",
    "            print('We noticed that the mileage attribute was read')\n",
    "        return class_.__getattr__orig(self, name)\n",
    "\n",
    "    class_.__getattribute__ = new_getattr\n",
    "    return class_\n"
   ]
  },
  {
   "cell_type": "markdown",
   "metadata": {},
   "source": [
    "Look at the code in the editor. Let's analyze it:\n",
    "\n",
    "- line 1: def object_counter(class_): – this line defines a decorating function that accepts one parameter 'class_' (note the underscore)\n",
    "- line 2: class_.__getattr__orig = class_.__getattribute__ – the decorator makes a copy of the reference to the __getattribute__ special method. This method is responsible for returning the attribute values. The reference to this original method will be used in a modified method;\n",
    "- line 4: def new_getattr(self, name): – a definition of the method playing the role of the new __getattribute__ method starts here. This method accepts an attribute name – it’s a string;\n",
    "- line 5: if name == 'mileage': – in case some code asks for the 'mileage' attribute, the next line will be executed;\n",
    "- line 6: print('We noticed that the mileage attribute was read') – a simple alert is issued;\n",
    "- line 7: return class_.__getattr__orig(self, name) – the original method __getattribute__ referenced by class.__getattr__orig is called. This ends the 'new_getattr' function definition;\n",
    "- line 9: class_.__getattribute__ = new_getattr – now the 'new_getattr' is defined, so it can now be referenced as the new '__getattribute__' method by a decorated class;\n",
    "- line 10: return class_ – every well behaved and developed decorator should return the decorated object – in our case it is a decorated class."
   ]
  },
  {
   "cell_type": "markdown",
   "metadata": {},
   "source": [
    "The last thing we should do is decorate the Car class:"
   ]
  },
  {
   "cell_type": "code",
   "execution_count": null,
   "metadata": {},
   "outputs": [],
   "source": [
    "@object_counter\n",
    "class Car:"
   ]
  },
  {
   "cell_type": "markdown",
   "metadata": {},
   "source": [
    "When you run the code, you can see that access to the 'mileage' attribute has been detected:\n",
    "\n",
    "```bash\n",
    "We noticed that the mileage attribute was read\n",
    "The mileage is 0\n",
    "The VIN is ABC123\n",
    "```"
   ]
  },
  {
   "cell_type": "markdown",
   "metadata": {},
   "source": [
    "### Decorators – summary"
   ]
  },
  {
   "cell_type": "markdown",
   "metadata": {},
   "source": [
    "A decorator is a very powerful and useful tool in Python, because it allows programmers to modify the behavior of a function, method, or class.\n",
    "\n",
    "Decorators allow us to wrap another callable object in order to extend its behavior.\n",
    "\n",
    "Decorators rely heavily on closures and *args and **kwargs.\n",
    "\n",
    "Interesting note:\n",
    "\n",
    "- the idea of decorators was described in two documents – PEP 318 and PEP 3129. Don't be discouraged that the first PEP was prepared for Python 2, because what matters here is the idea, not the implementation in a specific Python."
   ]
  },
  {
   "cell_type": "markdown",
   "metadata": {},
   "source": [
    "### 2.5.1.1 Different faces of Python methods\n"
   ]
  },
  {
   "cell_type": "markdown",
   "metadata": {},
   "source": [
    "Until now, we’ve been implementing methods that have performed operations on the instances (objects), and in particular the attributes of the instance, so we’ve called them ***instance methods***.\n",
    "\n",
    "The instance methods, as the first parameter, take the `self` parameter, which is their hallmark. It’s worth emphasizing and remembering that `self` allows you to refer to the instance. Of course, it follows that in order to successfully use the instance method, the instance must have previously existed.\n",
    "\n",
    "The code in the editor demonstrates the idea presented above.\n",
    "\n",
    "Each of the Example class objects has its own copy of the instance variable `__internal`, and the `get_internal()` method allows you to read the instance variable specific to the indicated instance. This is possible thanks to using `self`.\n",
    "\n",
    "The name of the parameter `self` was chosen arbitrarily and you can use a different word, but you must do it consistently in your code. It follows from the convention that self literally means a reference to the instance.\n",
    "\n"
   ]
  },
  {
   "cell_type": "code",
   "execution_count": null,
   "metadata": {},
   "outputs": [],
   "source": [
    "class Example:\n",
    "    def __init__(self, value):\n",
    "        self.__internal = value\n",
    "\n",
    "    def get_internal(self):\n",
    "        return self.__internal\n",
    "\n",
    "example1 = Example(10)\n",
    "example2 = Example(99)\n",
    "print(example1.get_internal())\n",
    "print(example2.get_internal())\n"
   ]
  },
  {
   "cell_type": "markdown",
   "metadata": {},
   "source": [
    "### 2.5.1.2 The static and class methods"
   ]
  },
  {
   "cell_type": "markdown",
   "metadata": {},
   "source": [
    "#### The static and class methods"
   ]
  },
  {
   "cell_type": "markdown",
   "metadata": {},
   "source": [
    "Two other types of method can also be used in the Object Oriented Approach (OOP):\n",
    "\n",
    "- class methods;\n",
    "- static methods."
   ]
  },
  {
   "cell_type": "markdown",
   "metadata": {},
   "source": [
    "These alternative types of method should be understood as tool methods, extending our ability to use classes, not necessarily requiring the creation of class instances to use them.\n",
    "\n",
    "As a result, our perception of the Python class concept is extended by two types of specialized methods."
   ]
  },
  {
   "cell_type": "markdown",
   "metadata": {},
   "source": [
    "### 2.5.1.3 Class methods\n"
   ]
  },
  {
   "cell_type": "markdown",
   "metadata": {},
   "source": [
    "### Class methods"
   ]
  },
  {
   "cell_type": "markdown",
   "metadata": {},
   "source": [
    "Class methods are methods that, like class variables, work on the class itself, and not on the class objects that are instantiated. You can say that they are methods bound to the class, not to the object.\n",
    "\n",
    "When can this be useful?\n",
    "\n",
    "There are several possibilities, here are the two most popular:\n",
    "\n",
    "1. we control access to class variables, e.g., to a class variable containing information about the number of created instances or the serial number given to the last produced object, or we modify the state of the class variables;\n",
    "2. we need to create a class instance in an alternative way, so the class method can be implemented by an alternative constructor.\n",
    "\n",
    "Convention\n",
    "\n",
    "- To be able to distinguish a class method from an instance method, the programmer signals it with the `@classmethod` decorator preceding the class method definition.\n",
    "- Additionally, the first parameter of the class method is `cls`, which is used to refer to the class methods and class attributes.\n",
    "\n",
    "As with self, cls was chosen arbitrarily (i.e., you can use a different name, but you must do it consistently).\n"
   ]
  },
  {
   "cell_type": "code",
   "execution_count": null,
   "metadata": {},
   "outputs": [],
   "source": [
    "class Example:\n",
    "    __internal_counter = 0\n",
    "\n",
    "    def __init__(self, value):\n",
    "        Example.__internal_counter +=1\n",
    "\n",
    "    @classmethod\n",
    "    def get_internal(cls):\n",
    "        return '# of objects created: {}'.format(cls.__internal_counter)\n",
    "\n",
    "print(Example.get_internal())\n",
    "\n",
    "example1 = Example(10)\n",
    "print(Example.get_internal())\n",
    "\n",
    "example2 = Example(99)\n",
    "print(Example.get_internal())\n"
   ]
  },
  {
   "cell_type": "markdown",
   "metadata": {},
   "source": [
    "\n",
    "The `get_internal()` method is a class method. This has been signaled to the Python interpreter by using an appropriate decorator. Additionally, the method uses the `cls` parameter to access the class variable appropriate for the Example class.\n",
    "\n",
    "Of course, you can use the reference to “Example.__internal_counter”, but this will be inconsistent with the convention and the code loses its effectiveness in communicating its own meaning.\n",
    "\n",
    "An exception is the `__init__()` method, which by definition is an instance method, so it can’t use “cls”, and as a result it references the class variable by the “Example” prefix."
   ]
  },
  {
   "cell_type": "code",
   "execution_count": null,
   "metadata": {},
   "outputs": [],
   "source": [
    "class Example:\n",
    "    __internal_counter = 0\n",
    "\n",
    "    def __init__(self, value):\n",
    "        Example.__internal_counter +=1\n",
    "\n",
    "    @classmethod\n",
    "    def get_internal(cls):\n",
    "        return '# of objects created: {}'.format(cls.__internal_counter)\n",
    "\n",
    "print(Example.get_internal())\n",
    "\n",
    "example1 = Example(10)\n",
    "print(Example.get_internal())\n",
    "\n",
    "example2 = Example(99)\n",
    "print(Example.get_internal())\n"
   ]
  },
  {
   "cell_type": "markdown",
   "metadata": {},
   "source": [
    "### 2.5.1.5 Class methods"
   ]
  },
  {
   "cell_type": "code",
   "execution_count": 1,
   "metadata": {},
   "outputs": [
    {
     "name": "stdout",
     "output_type": "stream",
     "text": [
      "Ordinary __init__ was called for ABCD1234\n",
      "Class method was called\n",
      "Ordinary __init__ was called for DEF567\n",
      "ABCD1234 \n",
      "DEF567 NewBrand\n"
     ]
    }
   ],
   "source": [
    "class Car:\n",
    "    def __init__(self, vin):\n",
    "        print('Ordinary __init__ was called for', vin)\n",
    "        self.vin = vin\n",
    "        self.brand = ''\n",
    "\n",
    "    @classmethod\n",
    "    def including_brand(cls, vin, brand):\n",
    "        print('Class method was called')\n",
    "        _car = cls(vin)\n",
    "        _car.brand = brand\n",
    "        return _car\n",
    "\n",
    "car1 = Car('ABCD1234')\n",
    "car2 = Car.including_brand('DEF567', 'NewBrand')\n",
    "\n",
    "print(car1.vin, car1.brand)\n",
    "print(car2.vin, car2.brand)\n"
   ]
  },
  {
   "cell_type": "markdown",
   "metadata": {},
   "source": [
    "---"
   ]
  },
  {
   "cell_type": "markdown",
   "metadata": {},
   "source": [
    "The code presented in the editor shows how to use the class method as an alternative constructor, allowing you to handle an additional argument.\n",
    "\n",
    "The including_brand method is a class method, and expects a call with two parameters ('`vin`' and '`brand`'). The first parameter is used to create an object using the standard `__init__` method.\n",
    "\n",
    "In accordance with the convention, the creation of a class object (i.e., calling the `__init__` method, among other things) is done using `cls(vin)`.\n",
    "\n",
    "Then the class method performs an additional task – in this case, it supplements the brand instance variable and finally returns the newly created object."
   ]
  },
  {
   "cell_type": "markdown",
   "metadata": {},
   "source": [
    "### 2.5.1.6 Static methods"
   ]
  },
  {
   "cell_type": "markdown",
   "metadata": {},
   "source": [
    "### Static methods"
   ]
  },
  {
   "cell_type": "code",
   "execution_count": null,
   "metadata": {},
   "outputs": [],
   "source": [
    "class Bank_Account:\n",
    "    def __init__(self, iban):\n",
    "        print('__init__ called')\n",
    "        self.iban = iban\n",
    "            \n",
    "    @staticmethod\n",
    "    def validate(iban):\n",
    "        if len(iban) == 20:\n",
    "            return True\n",
    "        else:\n",
    "            return False"
   ]
  },
  {
   "cell_type": "markdown",
   "metadata": {},
   "source": [
    "Static methods are methods that do not require (and do not expect!) a parameter indicating the class object or the class itself in order to execute their code.\n",
    "\n",
    "When can it be useful?\n",
    "\n",
    "1. When you need a utility method that comes in a class because it is semantically related, but does not require an object of that class to execute its code;\n",
    "2. consequently, when the static method does not need to know the state of the objects or classes.\n",
    "Convention\n",
    "\n",
    "1. To be able to distinguish a static method from a class method or instance method, the programmer signals it with the `@staticmethod` decorator preceding the class method definition.\n",
    "2. Static methods do not have the ability to modify the state of objects or classes, because they lack the parameters that would allow this."
   ]
  },
  {
   "cell_type": "markdown",
   "metadata": {},
   "source": [
    "### An example of using the static method"
   ]
  },
  {
   "cell_type": "code",
   "execution_count": 2,
   "metadata": {},
   "outputs": [
    {
     "name": "stdout",
     "output_type": "stream",
     "text": [
      "We can use 88888888888888888888  to create a bank account\n",
      "The account number 7777 is invalid\n",
      "The account number 2222 is invalid\n"
     ]
    }
   ],
   "source": [
    "class Bank_Account:\n",
    "    def __init__(self, iban):\n",
    "        print('__init__ called')\n",
    "        self.iban = iban\n",
    "            \n",
    "    @staticmethod\n",
    "    def validate(iban):\n",
    "        if len(iban) == 20:\n",
    "            return True\n",
    "        else:\n",
    "            return False\n",
    "\n",
    "\n",
    "account_numbers = ['8' * 20, '7' * 4, '2222']\n",
    "\n",
    "for element in account_numbers:\n",
    "    if Bank_Account.validate(element):\n",
    "        print('We can use', element, ' to create a bank account')\n",
    "    else:\n",
    "        print('The account number', element, 'is invalid')\n"
   ]
  },
  {
   "cell_type": "markdown",
   "metadata": {},
   "source": [
    "---"
   ]
  },
  {
   "cell_type": "markdown",
   "metadata": {},
   "source": [
    "Imagine a class that represents a bank account, that is, a class that provides methods to operate on bank accounts. This may include a method that validates the correctness of the account number recorded in accordance with the IBAN standard.\n",
    "\n",
    "This is a great place to introduce a static method, which, provided by the bank account class, will be used to validate the character string and will answer the question: can a given character string be an account number before the object is created?\n",
    "\n",
    "To shorten the size of the sample code, the static method responsible for validation checks only the length of the string, and only those numbers whose length is 20 characters are treated as valid.\n",
    "\n",
    "Note that for the purpose of validating three different character strings, it isn’t necessary to create class objects."
   ]
  },
  {
   "cell_type": "markdown",
   "metadata": {},
   "source": [
    "### 2.5.1.8 The static and class methods - comparison"
   ]
  },
  {
   "cell_type": "markdown",
   "metadata": {},
   "source": [
    "### Using static and class methods - comparison"
   ]
  },
  {
   "cell_type": "markdown",
   "metadata": {},
   "source": [
    "The time has come to compare the use of class and static methods:\n",
    "\n",
    "- a class method requires 'cls' as the first parameter and a static method does not;\n",
    "- a class method has the ability to access the state or methods of the class, and a static method does not;\n",
    "- a class method is decorated by '@classmethod' and a static method by '@staticmethod';\n",
    "- a class method can be used as an alternative way to create objects, and a static method is only a utility method."
   ]
  },
  {
   "cell_type": "markdown",
   "metadata": {},
   "source": [
    "### 2.5.1.9 LAB"
   ]
  },
  {
   "cell_type": "markdown",
   "metadata": {},
   "source": [
    "### Scenario\n",
    "\n",
    "- Create a class representing a luxury watch;\n",
    "- The class should allow you to hold a number of watches created in the `watches_created` class variable. The number could be fetched using a class method named `get_number_of_watches_created`;\n",
    "- the class may allow you to create a watch with a dedicated engraving (text). As this is an extra option, the watch with the engraving should be created using an alternative constructor (a class method), as a regular `__init__` method should not allow ordering engravings;\n",
    "- the regular `__init_` method should only increase the value of the appropriate class variable;\n",
    "\n",
    "The text intended to be engraved should follow some restrictions:\n",
    "\n",
    "- it should not be longer than 40 characters;\n",
    "- it should consist of alphanumerical characters, so no space characters are allowed;\n",
    "- if the text does not comply with restrictions, an exception should be raised;\n",
    "\n",
    "before engraving the desired text, the text should be validated against restrictions using a dedicated static method.\n",
    "\n",
    "- Create a watch with no engraving\n",
    "- Create a watch with correct text for engraving\n",
    "- Try to create a watch with incorrect text, like 'foo@baz.com'. Handle the exception\n",
    "- After each watch is created, call class method to see if the counter variable was increased\n"
   ]
  },
  {
   "cell_type": "code",
   "execution_count": 24,
   "metadata": {},
   "outputs": [
    {
     "name": "stdout",
     "output_type": "stream",
     "text": [
      "Engraving Error\n",
      "The number of created watches 2\n"
     ]
    }
   ],
   "source": [
    "class EngravingError(Exception):\n",
    "    def __str__(self):\n",
    "        return \"Engraving Error\"\n",
    "    \n",
    "class LUXWATCH:\n",
    "    watches_created = 0\n",
    "    def __init__(self):\n",
    "        LUXWATCH.watches_created += 1 \n",
    "        \n",
    "    @classmethod\n",
    "    def get_number_of_wtaches_created(cls):\n",
    "        return cls.watches_created\n",
    "\n",
    "    @staticmethod\n",
    "    def watch_validate(engraving):\n",
    "        if (len(engraving) < 40) & (engraving.isalnum()):\n",
    "            return True\n",
    "        else:\n",
    "            return False    \n",
    "    \n",
    "    @classmethod\n",
    "    def including_engraving(cls, engraving):\n",
    "        _LUXWATCH = cls()\n",
    "        try:\n",
    "            if cls.watch_validate(engraving):\n",
    "                _LUXWATCH.engraving = engraving\n",
    "            else:\n",
    "                raise EngravingError\n",
    "        except EngravingError:\n",
    "            print(EngravingError())\n",
    "            cls.watches_created -= 1\n",
    "        return _LUXWATCH\n",
    "\n",
    "watch1 = LUXWATCH()\n",
    "watch2 = LUXWATCH.including_engraving('foo@baz.com')\n",
    "watch3 = LUXWATCH.including_engraving('IlovePython')\n",
    "print(\"The number of created watches {}\".format(LUXWATCH.get_number_of_wtaches_created()))"
   ]
  },
  {
   "cell_type": "markdown",
   "metadata": {},
   "source": [
    "### 2.6.1.1 Abstract classes"
   ]
  },
  {
   "cell_type": "markdown",
   "metadata": {},
   "source": [
    "### Abstract classes\n",
    "Python is considered to be a very flexible programming language, but that **doesn’t** mean that there are no controls to impose a set of functionalities or an order in a class hierarchy. When you develop a system in a group of programmers, it would be useful to have some means of establishing requirements for classes in matters of interfaces (methods) exposed by each class.\n",
    "\n",
    "### What is an abstract class?\n",
    "An *abstract class* should be considered a blueprint for other classes, a kind of contract between a <u>class designe</u> and a <u>programmer</u>:\n",
    "\n",
    "- the class designer sets requirements regarding methods that must be implemented by just declaring them, but not defining them in detail. Such methods are called ***abstract methods***.\n",
    "- The programmer has to deliver all method definitions and the completeness would be validated by another, dedicated module. The programmer delivers the method definitions by <u>overriding</u> the method declarations received from the class designer.\n",
    "\n",
    "This contract assures you that a child class, built upon your abstract class, will be equipped with a set of concrete methods imposed by the abstract class.\n",
    "\n",
    "### Why do we want to use abstract classes?\n",
    "The very important reason is: we want our code to be polymorphic, so all subclasses have to deliver a set of their own method implementations in order to call them by using common method names.\n",
    "\n",
    "Furthermore, a class which contains one or more abstract methods is called an abstract class. This means that abstract classes are not limited to containing only abstract methods – some of the methods can already be defined, but if any of the methods is an abstract one, then the class becomes abstract.\n",
    "\n",
    "### What is an abstract method?\n",
    "An abstract method is a method that has a declaration, but does not have any implementation. We'll give some examples of such methods to emphasize their abstract nature."
   ]
  },
  {
   "cell_type": "markdown",
   "metadata": {},
   "source": [
    "Let's talk about an example:\n",
    "\n",
    "Assume that you’re designing a music player application, intended to support multiple file formats. Some of the formats are known now, but some are not yet known. The idea is to design an abstract class representing a base music format and corresponding methods for “open”, “play”, “get details”, “rewind”, etc., to maintain polymorphism.\n",
    "\n",
    "Your team should implement concrete classes for each format you'd like to support. Whenever new format specifications become available, you won’t have to rework your music player code, you’ll just have to deliver a class supporting the new file format, fulfilling the contract imposed by the abstract class.\n",
    "\n",
    "Remember that it isn’t possible to instantiate an abstract class, and it needs subclasses to provide implementations for those abstract methods which are declared in the abstract classes. This behavior is a test performed by a dedicated Python module to validate if the developer has implemented a subclass that overrides all abstract methods."
   ]
  },
  {
   "cell_type": "markdown",
   "metadata": {},
   "source": [
    "When we’re designing large functional units, in the form of classes, we should use an abstract class. When we want to provide common implemented functionality for all implementations of the class, we could also use an abstract class, because abstract classes partially allow us to implement classes by delivering concrete definitions for some of the methods, not only declarations.\n",
    "\n",
    "We have just defined the means by which to provide a common Application Program Interface (API) for a set of subclasses. This capability is especially useful in situations where your team or third-party is going to provide implementations, such as with plugins in an application, even after the main application development is finished.\n",
    "\n"
   ]
  },
  {
   "cell_type": "markdown",
   "metadata": {},
   "source": [
    "### 2.6.1.3 Abstract classes vs. method overriding\n"
   ]
  },
  {
   "cell_type": "markdown",
   "metadata": {},
   "source": [
    "Let's start with a typical class that can be instantiated:"
   ]
  },
  {
   "cell_type": "code",
   "execution_count": 25,
   "metadata": {},
   "outputs": [
    {
     "name": "stdout",
     "output_type": "stream",
     "text": [
      "Nothing is blue unless you need it\n"
     ]
    }
   ],
   "source": [
    "class BluePrint:\n",
    "    def hello(self):\n",
    "        print('Nothing is blue unless you need it')\n",
    "\n",
    "\n",
    "bp = BluePrint()\n",
    "bp.hello()\n"
   ]
  },
  {
   "cell_type": "markdown",
   "metadata": {},
   "source": [
    "### 2.6.1.4 Abstract classes vs. method overriding"
   ]
  },
  {
   "cell_type": "code",
   "execution_count": 26,
   "metadata": {},
   "outputs": [
    {
     "name": "stdout",
     "output_type": "stream",
     "text": [
      "Welcome to Green Field!\n"
     ]
    }
   ],
   "source": [
    "import abc\n",
    "\n",
    "class BluePrint(abc.ABC):\n",
    "    @abc.abstractmethod\n",
    "    def hello(self):\n",
    "        pass\n",
    "\n",
    "class GreenField(BluePrint):\n",
    "    def hello(self):\n",
    "        print('Welcome to Green Field!')\n",
    "\n",
    "\n",
    "gf = GreenField()\n",
    "gf.hello()\n"
   ]
  },
  {
   "cell_type": "markdown",
   "metadata": {},
   "source": [
    "Python has come up with a module which provides the helper class for defining Abstract Base Classes (ABC) and that module name is abc.\n",
    "\n",
    "The ABC allows you to mark classes as abstract ones and distinguish which methods of the base abstract class are abstract. A method becomes abstract by being decorated with an @abstractmethod decorator.\n",
    "\n",
    "To start with ABC you should:\n",
    "\n",
    "1. import the abc module;\n",
    "2. make your base class inherit the helper class ABC, which is delivered by the abc module;\n",
    "3. decorate abstract methods with @abstractmethod, which is delivered by the abc module."
   ]
  },
  {
   "cell_type": "markdown",
   "metadata": {},
   "source": [
    "### 2.6.1.5 Abstract classes vs. method overriding"
   ]
  },
  {
   "cell_type": "code",
   "execution_count": 1,
   "metadata": {},
   "outputs": [
    {
     "name": "stdout",
     "output_type": "stream",
     "text": [
      "Welcome to Green Field!\n"
     ]
    },
    {
     "ename": "TypeError",
     "evalue": "Can't instantiate abstract class BluePrint with abstract methods hello",
     "output_type": "error",
     "traceback": [
      "\u001b[1;31m---------------------------------------------------------------------------\u001b[0m",
      "\u001b[1;31mTypeError\u001b[0m                                 Traceback (most recent call last)",
      "\u001b[1;32m<ipython-input-1-c362861a6a25>\u001b[0m in \u001b[0;36m<module>\u001b[1;34m\u001b[0m\n\u001b[0;32m     14\u001b[0m \u001b[0mgf\u001b[0m\u001b[1;33m.\u001b[0m\u001b[0mhello\u001b[0m\u001b[1;33m(\u001b[0m\u001b[1;33m)\u001b[0m\u001b[1;33m\u001b[0m\u001b[1;33m\u001b[0m\u001b[0m\n\u001b[0;32m     15\u001b[0m \u001b[1;33m\u001b[0m\u001b[0m\n\u001b[1;32m---> 16\u001b[1;33m \u001b[0mbp\u001b[0m \u001b[1;33m=\u001b[0m \u001b[0mBluePrint\u001b[0m\u001b[1;33m(\u001b[0m\u001b[1;33m)\u001b[0m\u001b[1;33m\u001b[0m\u001b[1;33m\u001b[0m\u001b[0m\n\u001b[0m",
      "\u001b[1;31mTypeError\u001b[0m: Can't instantiate abstract class BluePrint with abstract methods hello"
     ]
    }
   ],
   "source": [
    "import abc\n",
    "\n",
    "class BluePrint(abc.ABC):\n",
    "    @abc.abstractmethod\n",
    "    def hello(self):\n",
    "        pass\n",
    "\n",
    "class GreenField(BluePrint):\n",
    "    def hello(self):\n",
    "        print('Welcome to Green Field!')\n",
    "\n",
    "\n",
    "gf = GreenField()\n",
    "gf.hello()\n",
    "\n",
    "bp = BluePrint()\n"
   ]
  },
  {
   "cell_type": "markdown",
   "metadata": {},
   "source": [
    "The outpust indicates that:\n",
    "\n",
    "- it’s possible to instantiate the `GreenField` class and call the `hello` method, because the Python developer has provided a concrete definition of the `hello` method.\n",
    "\n",
    "- In other words, the Python developer has overridden the abstract method `hello` with their own implementation. When the base class provides more abstract methods, all of them must be overridden in a subclass before the subclass can be instantiated.\n",
    "\n",
    "- Python raises a `TypeError` exception when we try to instantiate the base BluePrint class, because it contains an abstract method."
   ]
  },
  {
   "cell_type": "markdown",
   "metadata": {},
   "source": [
    "### 2.6.1.6 Abstract classes vs. method overriding"
   ]
  },
  {
   "cell_type": "markdown",
   "metadata": {},
   "source": [
    "Now we'll try to inherit the abstract class and forget about overriding the abstract method by creating a RedField class that does not override the hello method."
   ]
  },
  {
   "cell_type": "code",
   "execution_count": 2,
   "metadata": {},
   "outputs": [
    {
     "name": "stdout",
     "output_type": "stream",
     "text": [
      "Welcome to Green Field!\n"
     ]
    },
    {
     "ename": "TypeError",
     "evalue": "Can't instantiate abstract class RedField with abstract methods hello",
     "output_type": "error",
     "traceback": [
      "\u001b[1;31m---------------------------------------------------------------------------\u001b[0m",
      "\u001b[1;31mTypeError\u001b[0m                                 Traceback (most recent call last)",
      "\u001b[1;32m<ipython-input-2-4de21b670f5f>\u001b[0m in \u001b[0;36m<module>\u001b[1;34m\u001b[0m\n\u001b[0;32m     21\u001b[0m \u001b[0mgf\u001b[0m\u001b[1;33m.\u001b[0m\u001b[0mhello\u001b[0m\u001b[1;33m(\u001b[0m\u001b[1;33m)\u001b[0m\u001b[1;33m\u001b[0m\u001b[1;33m\u001b[0m\u001b[0m\n\u001b[0;32m     22\u001b[0m \u001b[1;33m\u001b[0m\u001b[0m\n\u001b[1;32m---> 23\u001b[1;33m \u001b[0mrf\u001b[0m \u001b[1;33m=\u001b[0m \u001b[0mRedField\u001b[0m\u001b[1;33m(\u001b[0m\u001b[1;33m)\u001b[0m\u001b[1;33m\u001b[0m\u001b[1;33m\u001b[0m\u001b[0m\n\u001b[0m",
      "\u001b[1;31mTypeError\u001b[0m: Can't instantiate abstract class RedField with abstract methods hello"
     ]
    }
   ],
   "source": [
    "import abc\n",
    "\n",
    "\n",
    "class BluePrint(abc.ABC):\n",
    "    @abc.abstractmethod\n",
    "    def hello(self):\n",
    "        pass\n",
    "\n",
    "\n",
    "class GreenField(BluePrint):\n",
    "    def hello(self):\n",
    "        print('Welcome to Green Field!')\n",
    "\n",
    "\n",
    "class RedField(BluePrint):\n",
    "    def yellow(self):\n",
    "        pass\n",
    "\n",
    "\n",
    "gf = GreenField()\n",
    "gf.hello()\n",
    "\n",
    "rf = RedField()\n"
   ]
  },
  {
   "cell_type": "markdown",
   "metadata": {},
   "source": [
    "The output indicates that:\n",
    "\n",
    "1. it’s possible to instantiate the `GreenField` class and call the `hello` method;\n",
    "2. the `RedField` class is still recognized as an abstract one, because it inherits all elements of its super class, which is abstract, and the `RedField` class does not override the abstract `hello` method.\n"
   ]
  },
  {
   "cell_type": "markdown",
   "metadata": {},
   "source": [
    "### 2.6.1.7 Abstract classes vs. method overriding – multiple inheritance"
   ]
  },
  {
   "cell_type": "markdown",
   "metadata": {},
   "source": [
    "### Multiple inheritance\n",
    "\n",
    "When you plan to implement a multiple inheritance from abstract classes, remember that an effective subclass should override all abstract methods inherited from its super classes.\n",
    "\n",
    "### Summary:\n",
    "- Abstract Base Class (ABC) is a class that cannot be instantiated. Such a class is a base class for concrete classes;\n",
    "- ABC can only be inherited from;\n",
    "- we are forced to override all abstract methods by delivering concrete method implementations."
   ]
  },
  {
   "cell_type": "markdown",
   "metadata": {},
   "source": [
    "### A note:\n",
    "\n",
    "It’s tempting to call a module “abc” and then try to import it, but by doing so Python imports the module containing the ABC class instead of your local file. This could cause some confusion – why does such a common name as “abc” conflict with my simple module “abc”?"
   ]
  },
  {
   "cell_type": "markdown",
   "metadata": {},
   "source": [
    "### 2.6.1.8 LAB"
   ]
  },
  {
   "cell_type": "code",
   "execution_count": null,
   "metadata": {},
   "outputs": [],
   "source": []
  },
  {
   "cell_type": "code",
   "execution_count": null,
   "metadata": {},
   "outputs": [],
   "source": []
  },
  {
   "cell_type": "code",
   "execution_count": null,
   "metadata": {},
   "outputs": [],
   "source": []
  },
  {
   "cell_type": "code",
   "execution_count": null,
   "metadata": {},
   "outputs": [],
   "source": []
  },
  {
   "cell_type": "code",
   "execution_count": null,
   "metadata": {},
   "outputs": [],
   "source": []
  },
  {
   "cell_type": "code",
   "execution_count": null,
   "metadata": {},
   "outputs": [],
   "source": []
  },
  {
   "cell_type": "code",
   "execution_count": null,
   "metadata": {},
   "outputs": [],
   "source": []
  },
  {
   "cell_type": "code",
   "execution_count": null,
   "metadata": {},
   "outputs": [],
   "source": []
  },
  {
   "cell_type": "code",
   "execution_count": null,
   "metadata": {},
   "outputs": [],
   "source": []
  },
  {
   "cell_type": "code",
   "execution_count": null,
   "metadata": {},
   "outputs": [],
   "source": []
  }
 ],
 "metadata": {
  "kernelspec": {
   "display_name": "Python 3",
   "language": "python",
   "name": "python3"
  },
  "language_info": {
   "codemirror_mode": {
    "name": "ipython",
    "version": 3
   },
   "file_extension": ".py",
   "mimetype": "text/x-python",
   "name": "python",
   "nbconvert_exporter": "python",
   "pygments_lexer": "ipython3",
   "version": "3.7.4"
  }
 },
 "nbformat": 4,
 "nbformat_minor": 2
}
