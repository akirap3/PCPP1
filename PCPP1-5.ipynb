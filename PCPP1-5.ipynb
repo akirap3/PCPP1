{
 "cells": [
  {
   "cell_type": "markdown",
   "metadata": {},
   "source": [
    "# PCPP1 | File Processing"
   ]
  },
  {
   "cell_type": "markdown",
   "metadata": {},
   "source": [
    "## 0.0.0.1 PCPP1: File Processing"
   ]
  },
  {
   "cell_type": "markdown",
   "metadata": {},
   "source": [
    "**In this course, you will learn about:**\n",
    "\n",
    "-   _sqlite_ - interacting with SQLite databases;\n",
    "-   _xml_ - creating and processing XML files;\n",
    "-   _csv_ - CSV file reading and writing;\n",
    "-   _logging_ - basics logging facility for Python;\n",
    "-   _configparser_ - configuration file parser."
   ]
  },
  {
   "cell_type": "markdown",
   "metadata": {},
   "source": [
    "## 1.1.1.1 SQLite - What is a database?"
   ]
  },
  {
   "cell_type": "markdown",
   "metadata": {},
   "source": [
    "## What is a database?\n",
    "\n",
    "Nowadays, social applications such as Facebook, Twitter, and Instagram are very popular. Every day many people create new accounts, and existing users add or share different content. You’ve surely noticed that the data sent to those applications are still available after a few days, or even years. Do you know how that’s possible?\n",
    "\n",
    "Data is simply information about users, the contents of their posts, and comments. The data are all kinds of information that we can send to the application. During registration, you send the application your account data, consisting of email address, login, and password, and when you add new posts you send content that will be visible to other users. Sent data should be saved in some place that can be easily accessed. This place is a database, which is a set of information stored on a disk in a computer system. Access to the database is possible thanks to a database management system.\n",
    "\n",
    "The database management system (DBMS) is the software responsible for:\n",
    "\n",
    "-   creating a database structure;\n",
    "-   inserting, updating, deleting, and searching data;\n",
    "-   ensuring data security;\n",
    "-   transaction management;\n",
    "-   ensuring concurrent access to data for many users;\n",
    "-   enabling data exchange with other database systems."
   ]
  },
  {
   "cell_type": "markdown",
   "metadata": {},
   "source": [
    "There are many free and paid database management systems on the market. The most popular of them include:"
   ]
  },
  {
   "cell_type": "markdown",
   "metadata": {},
   "source": [
    "- Free\t\n",
    "    - MySQL, PostgreSQL, SQLite\t\n",
    "\n",
    "- Paid\n",
    "    - Oracle Database, Microsoft SQL Server, IBM DB2"
   ]
  },
  {
   "cell_type": "markdown",
   "metadata": {},
   "source": [
    "## 1.1.1.2 What is SQLite and why to use it"
   ]
  },
  {
   "cell_type": "markdown",
   "metadata": {},
   "source": [
    "## What is SQLite and why should you use it?\n",
    "\n",
    "Before you create your first database, we'll say a few words about SQLite, one of the most popular database management systems in the world. SQLite is actually a C library which allows the user to read and write data directly to a file. You're surprised?\n",
    "\n",
    "The complete SQLite database is stored in only one file. Unlike other database management systems, SQLite doesn't require a separate server process to be running in order to communicate with the database.\n",
    "\n",
    "What's more, it doesn't require any configuration at all, because it's a self-contained library enclosed in one source file. SQLite also supports transactions, which are a set of database operations that must be executed in full, or rolled back if one of them fails."
   ]
  },
  {
   "cell_type": "markdown",
   "metadata": {},
   "source": [
    "SQLite has found many uses in mobile applications (on both Android and iOS platforms) to store information about their status. In addition, it's used by companies producing software for cars and airplanes. The database file is cross-platform, which means it can be copied between 32- and 64-bit systems.\n",
    "\n",
    "Isn't it amazing that you can transfer the database created in this course to the airplane software?"
   ]
  },
  {
   "cell_type": "markdown",
   "metadata": {},
   "source": [
    "## 1.1.1.3 Working with an SQLite database"
   ]
  },
  {
   "cell_type": "markdown",
   "metadata": {},
   "source": [
    "## How to work with an SQLite database using Python\n",
    "\n",
    "You've probably already used the standard library with built-in modules many times during your adventures with Python. In this part of the course, you'll have the opportunity to learn about a new module that will allow you to create amazing applications using SQLite databases. Can you guess what it’s called? If not, don't worry, everything will be clear in a moment.\n",
    "\n",
    "The standard Python library has a module called `sqlite3`, providing an interface compliant with the DB-API 2.0 specification described by [PEP 249](https://www.python.org/dev/peps/pep-0249/). The purpose of the DB-API 2.0 specification is to define a common standard for creating modules to work with databases in Python.\n",
    "\n",
    "  \n",
    "\n",
    "Imagine three cars that have the same necessary equipment, but were made by other manufacturers. It's exactly the same with modules implementing the DB-API 2.0 interface. Each of them has the same method required by the specification, but can be written by different programmers, and even by you.\n",
    "\n",
    "To use the _sqlite3_ module, you must import it in your script:\n",
    "\n",
    "`import sqlite3`\n",
    "\n",
    "**NOTE:** The _sqlite3_ module has been available in Python since version 2.5."
   ]
  },
  {
   "cell_type": "markdown",
   "metadata": {},
   "source": [
    "## 1.1.1.4 Creating a database"
   ]
  },
  {
   "cell_type": "markdown",
   "metadata": {},
   "source": [
    "## sqlite3 – creating a database\n",
    "\n",
    "As we already said, the SQLite database is a single file, which is saved on your computer. Each file, regardless of the operating system used, has its location (a path to a specific disk space). When you create a database, you can create it in your current working directory, or in any other location. To create a database, use the **`connect`** method provided by the `sqlite3` module:"
   ]
  },
  {
   "cell_type": "code",
   "execution_count": 1,
   "metadata": {},
   "outputs": [],
   "source": [
    "import sqlite3\n",
    "\n",
    "conn = sqlite3.connect('./db/hello.db')"
   ]
  },
  {
   "cell_type": "markdown",
   "metadata": {},
   "source": [
    "The `connect` method returns the database representation as a `Connection` object. In the example above, the method takes only the database name as the argument. This means that the database will be created in the same directory as the script that wants to access it."
   ]
  },
  {
   "cell_type": "markdown",
   "metadata": {},
   "source": [
    "It's also possible to use a special name, `:memory:`, which creates a database in RAM:"
   ]
  },
  {
   "cell_type": "code",
   "execution_count": 2,
   "metadata": {},
   "outputs": [],
   "source": [
    "import sqlite3\n",
    "\n",
    "conn = sqlite3.connect(':memory:')"
   ]
  },
  {
   "cell_type": "markdown",
   "metadata": {},
   "source": [
    "Remember that the `connect` method creates a database only if it cannot find a database in the given location. If a database exists, SQLite connects to it."
   ]
  },
  {
   "cell_type": "markdown",
   "metadata": {},
   "source": [
    "## A few words about SQL\n",
    "\n",
    "You’ve already learned how to create a database in Python using the `sqlite3` module. It's now time to discuss how we can create its structure. For this purpose, we’ll need some knowledge of SQL.\n",
    "\n",
    "SQL is a **Structured Query Language** for creating, modifying, and managing relational databases. It’s used by the most popular database management systems such as MySQL, PostgreSQL, and our favorite SQLite. The SQL language was developed in the 70s by IBM. Over the years, SQL has been modified by many companies that have implemented it in their products. Therefore, it became necessary to introduce a standard that would standardize its syntax.\n",
    "\n",
    "Since the first production deployments, the following standards have been created: SQL-86, SQL-89, SQL-92, SQL:1999, SQL:2003, SQL:2006, SQL:2008, SQL:2011, SQL:2016, SQL:2019. Detailed information on each of the standards can be found in the Internet resources. It’s worth mentioning that SQLite generally implements the SQL-92 standard, with some exceptions that you can read about [here](https://www.sqlite.org/lang.html).\n",
    "\n",
    "SQL syntax and its standards are extensive topics. Fortunately, there are many free materials available on the Internet to help you acquire some basic knowledge. We encourage you to familiarize yourself with them.\n",
    "\n",
    "If you've never dealt with SQL before, don't worry. All examples including SQL will be explained in detail."
   ]
  },
  {
   "cell_type": "markdown",
   "metadata": {},
   "source": [
    "## 1.1.1.5 The TODO application"
   ]
  },
  {
   "cell_type": "markdown",
   "metadata": {},
   "source": [
    "## sqlite3 – the TODO application\n",
    "\n",
    "Have you ever forgotten to do anything during the day? If so, it's time to finally solve this problem. Let's create a simple project called **TODO**, during which we’ll create a database to store tasks (to do) along with their priorities. The structure of our database will consist of only one table called **`tasks`**:"
   ]
  },
  {
   "cell_type": "markdown",
   "metadata": {},
   "source": [
    "![](./images/80_task.png)"
   ]
  },
  {
   "cell_type": "markdown",
   "metadata": {},
   "source": [
    "To create the above table, we’ll need to use the SQL statement `CREATE TABLE`. Its syntax looks like this:"
   ]
  },
  {
   "cell_type": "code",
   "execution_count": null,
   "metadata": {},
   "outputs": [],
   "source": [
    "CREATE TABLE table_name (\n",
    "column1 datatype,\n",
    "column2 datatype,\n",
    "column3 datatype,\n",
    "…\n",
    "columnN datatype\n",
    ");"
   ]
  },
  {
   "cell_type": "markdown",
   "metadata": {},
   "source": [
    "The `CREATE TABLE` statement creates a new table in the database. In our case, it will be a table called `tasks` consisting of three columns: `id`, `name` and `priority`."
   ]
  },
  {
   "cell_type": "markdown",
   "metadata": {},
   "source": [
    "The `id` column is a primary key that allows you to uniquely identify records stored in the table. The second column called `name` is responsible for storing the names of the tasks we’ll have to do. It's not difficult to guess that these will be textual values.\n",
    "\n",
    "For this purpose, we’ll use the `TEXT` type. The last column called `priority` defines the priority of our tasks and should store integers.\n",
    "\n",
    "Below is the SQL code that we’ll use later in the course to create our table using the `sqlite3` module. Note the name and priority columns that contain the `NOT NULL` constraint. This will avoid creating tasks with fields equal to `NULL`."
   ]
  },
  {
   "cell_type": "code",
   "execution_count": null,
   "metadata": {},
   "outputs": [],
   "source": [
    "CREATE TABLE tasks (\n",
    "id INTEGER PRIMARY KEY,\n",
    "name TEXT NOT NULL,\n",
    "priority INTEGER NOT NULL\n",
    ");"
   ]
  },
  {
   "cell_type": "markdown",
   "metadata": {},
   "source": [
    "You’ll find more information on all types available in SQLite [here](https://www.sqlite.org/datatype3.html)."
   ]
  },
  {
   "cell_type": "markdown",
   "metadata": {},
   "source": [
    "## 1.1.1.6 Creating tables"
   ]
  },
  {
   "cell_type": "markdown",
   "metadata": {},
   "source": [
    "## sqlite3 – creating tables\n",
    "\n",
    "When connecting to the database using the `connect` method, a `Connection` object is created. It has a very useful method called `cursor`. The method creates a `Cursor` object that allows any SQL statements to be executed in the database. What does it look like in practice? Let's look at the code responsible for creating the table called `tasks`:"
   ]
  },
  {
   "cell_type": "code",
   "execution_count": 1,
   "metadata": {},
   "outputs": [
    {
     "data": {
      "text/plain": [
       "<sqlite3.Cursor at 0x26330963d50>"
      ]
     },
     "execution_count": 1,
     "metadata": {},
     "output_type": "execute_result"
    }
   ],
   "source": [
    "import sqlite3\n",
    "\n",
    "conn = sqlite3.connect('./db/todo.db')\n",
    "c = conn.cursor()\n",
    "c.execute('''CREATE TABLE tasks (\n",
    "id INTEGER PRIMARY KEY,\n",
    "name TEXT NOT NULL,\n",
    "priority INTEGER NOT NULL\n",
    ");''')"
   ]
  },
  {
   "cell_type": "markdown",
   "metadata": {},
   "source": [
    "Calling the `execute` method executes the `CREATE TABLE` statement in our database. The `execute` method takes any single SQL statement and optional parameters necessary to execute the query. The variant with optional parameters will be presented when we discuss inserting data in the database.\n",
    "\n",
    "__NOTE:__ Running the above program twice will throw an exception with the following message: `sqlite3.OperationError: table tasks already exists`. This is because the statement is trying to re-create a table with the same name. The solution to this problem is to modify the query as follows:"
   ]
  },
  {
   "cell_type": "code",
   "execution_count": 2,
   "metadata": {},
   "outputs": [
    {
     "ename": "OperationalError",
     "evalue": "table tasks already exists",
     "output_type": "error",
     "traceback": [
      "\u001b[1;31m---------------------------------------------------------------------------\u001b[0m",
      "\u001b[1;31mOperationalError\u001b[0m                          Traceback (most recent call last)",
      "\u001b[1;32m<ipython-input-2-ef2fcf2bb859>\u001b[0m in \u001b[0;36m<module>\u001b[1;34m\u001b[0m\n\u001b[0;32m      7\u001b[0m \u001b[0mname\u001b[0m \u001b[0mTEXT\u001b[0m \u001b[0mNOT\u001b[0m \u001b[0mNULL\u001b[0m\u001b[1;33m,\u001b[0m\u001b[1;33m\u001b[0m\u001b[1;33m\u001b[0m\u001b[0m\n\u001b[0;32m      8\u001b[0m \u001b[0mpriority\u001b[0m \u001b[0mINTEGER\u001b[0m \u001b[0mNOT\u001b[0m \u001b[0mNULL\u001b[0m\u001b[1;33m\u001b[0m\u001b[1;33m\u001b[0m\u001b[0m\n\u001b[1;32m----> 9\u001b[1;33m );''')\n\u001b[0m",
      "\u001b[1;31mOperationalError\u001b[0m: table tasks already exists"
     ]
    }
   ],
   "source": [
    "import sqlite3\n",
    "\n",
    "conn = sqlite3.connect('./db/todo.db')\n",
    "c = conn.cursor()\n",
    "c.execute('''CREATE TABLE tasks (\n",
    "id INTEGER PRIMARY KEY,\n",
    "name TEXT NOT NULL,\n",
    "priority INTEGER NOT NULL\n",
    ");''')"
   ]
  },
  {
   "cell_type": "code",
   "execution_count": 3,
   "metadata": {},
   "outputs": [
    {
     "data": {
      "text/plain": [
       "<sqlite3.Cursor at 0x26330a73e30>"
      ]
     },
     "execution_count": 3,
     "metadata": {},
     "output_type": "execute_result"
    }
   ],
   "source": [
    "import sqlite3\n",
    "\n",
    "conn = sqlite3.connect('./db/todo.db')\n",
    "c = conn.cursor()\n",
    "c.execute('''CREATE TABLE IF NOT EXISTS tasks (\n",
    "id INTEGER PRIMARY KEY,\n",
    "name TEXT NOT NULL,\n",
    "priority INTEGER NOT NULL\n",
    ");''')"
   ]
  },
  {
   "cell_type": "markdown",
   "metadata": {},
   "source": [
    "## 1.1.1.7 Inserting data"
   ]
  },
  {
   "cell_type": "markdown",
   "metadata": {},
   "source": [
    "## sqlite3 – inserting data (part 1)\n",
    "\n",
    "Congratulations. You’ve just created your first table in the database. It's time to fill it with data. Once again, a little knowledge of the SQL language will be invaluable, namely the `INSERT INTO` statement.\n",
    "\n",
    "The `INSERT INTO` statement is used to insert records in a table. Its syntax is as follows:"
   ]
  },
  {
   "cell_type": "code",
   "execution_count": null,
   "metadata": {},
   "outputs": [],
   "source": [
    "INSERT INTO table_name (column1, column2, column3, ..., columnN)\n",
    "VALUES (value1, value2, value3, ..., value4);"
   ]
  },
  {
   "cell_type": "markdown",
   "metadata": {},
   "source": [
    "Using the above formula, we’re able to prepare a query that will allow us to save our first task in the database:"
   ]
  },
  {
   "cell_type": "code",
   "execution_count": null,
   "metadata": {},
   "outputs": [],
   "source": [
    "INSERT INTO tasks (id, name, priority) VALUES (1, 'My first task', 1);"
   ]
  },
  {
   "cell_type": "markdown",
   "metadata": {},
   "source": [
    "or"
   ]
  },
  {
   "cell_type": "code",
   "execution_count": null,
   "metadata": {},
   "outputs": [],
   "source": [
    "INSERT INTO tasks (name, priority) VALUES ('My first task', 1);"
   ]
  },
  {
   "cell_type": "markdown",
   "metadata": {},
   "source": [
    "You've probably noticed that in the second variant the `id` column is omitted. In this case, we inform the database management system of the desire to use auto-incrementation (a unique value is generated for us when a new record is inserted).\n",
    "\n",
    "Of course, we can define the value of the `id` column ourselves, but it's more convenient not to worry about it.\n",
    "\n",
    "The `INSERT INTO` statement also has a short form in which we can omit the column names:"
   ]
  },
  {
   "cell_type": "code",
   "execution_count": null,
   "metadata": {},
   "outputs": [],
   "source": [
    "INSERT INTO table_name VALUES (value1, value2, value3, ..., valueN);"
   ]
  },
  {
   "cell_type": "markdown",
   "metadata": {},
   "source": [
    "- code"
   ]
  },
  {
   "cell_type": "code",
   "execution_count": 7,
   "metadata": {},
   "outputs": [
    {
     "data": {
      "text/plain": [
       "<sqlite3.Cursor at 0x26330a7e180>"
      ]
     },
     "execution_count": 7,
     "metadata": {},
     "output_type": "execute_result"
    }
   ],
   "source": [
    "import sqlite3\n",
    "\n",
    "conn = sqlite3.connect('./db/todo.db')\n",
    "c = conn.cursor()\n",
    "c.execute('''CREATE TABLE IF NOT EXISTS tasks (\n",
    "id INTEGER PRIMARY KEY,\n",
    "name TEXT NOT NULL,\n",
    "priority INTEGER NOT NULL\n",
    ")''')\n",
    "\n",
    "c.execute('''INSERT INTO tasks (id, name, priority) VALUES (1, 'My first task', '1')''')"
   ]
  },
  {
   "cell_type": "markdown",
   "metadata": {},
   "source": [
    "## 1.1.1.8 Inserting data"
   ]
  },
  {
   "cell_type": "markdown",
   "metadata": {},
   "source": [
    "## sqlite3 – inserting data (part 2)\n",
    "\n",
    "Let's look at how to use the `INSERT INTO` statement in our TODO project. Analyze the code in the editor.\n",
    "\n",
    "The mysterious characters `?` used in the `INSERT INTO` statement are query parameters that are replaced with the correct values during the execution of the statement. In the above example, the first character `?` will be replaced with `My first task`, while the second will be replaced with `l`.\n",
    "\n",
    "This is to avoid an SQL injection attack in which malicious SQL is appended to a query that could possibly destroy our database. You can find more information about SQL injection and possible safeguard measures on the Internet.\n",
    "\n",
    "The `execute` method, as we mentioned before, has an optional argument in the form of an array of parameters. In our case, it takes a tuple, but it can be a simple array containing the same number of elements as the query parameters.\n",
    "\n",
    "Our code isn't working properly yet, but don't worry. In a moment, you’ll learn a new method that will fix this problem."
   ]
  },
  {
   "cell_type": "code",
   "execution_count": 2,
   "metadata": {},
   "outputs": [
    {
     "data": {
      "text/plain": [
       "<sqlite3.Cursor at 0x63a1720>"
      ]
     },
     "execution_count": 2,
     "metadata": {},
     "output_type": "execute_result"
    }
   ],
   "source": [
    "import sqlite3\n",
    "\n",
    "conn = sqlite3.connect('todo.db')\n",
    "c = conn.cursor()\n",
    "c.execute('''CREATE TABLE IF NOT EXISTS tasks (\n",
    "id INTEGER PRIMARY KEY,\n",
    "name TEXT NOT NULL,\n",
    "priority INTEGER NOT NULL\n",
    ");''')\n",
    "c.execute('INSERT INTO tasks (name, priority) VALUES (?,?)', ('My first task', 1))"
   ]
  },
  {
   "cell_type": "markdown",
   "metadata": {},
   "source": [
    "## sqlite3 – inserting data (part 3)\n",
    "\n",
    "We’re only one step away from inserting our first task in the database. All we're missing is to call the `commit` method provided by the `Connection` object. Look at the code in the editor.\n",
    "\n",
    "The `commit` method confirms our changes (the current transaction). If you forget to call it, your changes won't be visible in the database.\n",
    "\n",
    "In the example above, another method of the `Connection` object is used. The `close` method closes the database connection, e.g., after inserting all tasks.\n",
    "\n",
    "**NOTE:** Restarting the program will create another task with the same name and priority, but with a different value that is auto-incremental."
   ]
  },
  {
   "cell_type": "code",
   "execution_count": 1,
   "metadata": {},
   "outputs": [],
   "source": [
    "import sqlite3\n",
    "\n",
    "conn = sqlite3.connect('todo.db')\n",
    "c = conn.cursor()\n",
    "c.execute('''CREATE TABLE IF NOT EXISTS tasks (\n",
    "id INTEGER PRIMARY KEY,\n",
    "name TEXT NOT NULL,\n",
    "priority INTEGER NOT NULL\n",
    ");''')\n",
    "c.execute('INSERT INTO tasks (name, priority) VALUES (?,?)', ('My first task', 1))\n",
    "conn.commit()\n",
    "conn.close()\n"
   ]
  },
  {
   "cell_type": "markdown",
   "metadata": {},
   "source": [
    "## 1.1.1.10 The executemany() method"
   ]
  },
  {
   "cell_type": "markdown",
   "metadata": {},
   "source": [
    "## sqlite3 – the _executemany()_ method\n",
    "\n",
    "Performing many queries is not very efficient when we can use just one that performs the same task. Imagine a situation where you want to add three tasks to the database. If we used the `execute` method, we would have to do three separate queries.\n",
    "\n",
    "This isn't good practice. Fortunately, the `Cursor` object offers us a method called `executemany`. Look at the code in the editor.\n",
    "\n",
    "The `executemany` method allows you to insert multiple records at once. As an argument, it accepts an SQL statement and an array containing any number of tuples."
   ]
  },
  {
   "cell_type": "code",
   "execution_count": 2,
   "metadata": {},
   "outputs": [],
   "source": [
    "import sqlite3\n",
    "\n",
    "conn = sqlite3.connect('todo.db')\n",
    "c = conn.cursor()\n",
    "c.execute('''CREATE TABLE IF NOT EXISTS taks(\n",
    "id INTEGER PRIMARY KEY,\n",
    "name TEXT NOT NULL,\n",
    "priority INTEGER NOT NULL\n",
    ");''')\n",
    "\n",
    "tasks = [\n",
    "    ('My first task', 1),\n",
    "    ('My second task', 2),\n",
    "    ('My third task', 3),\n",
    "]\n",
    "c.executemany('INSERT INTO tasks (name, priority) VALUES(?,?)', tasks)\n",
    "conn.commit()\n",
    "conn.close()"
   ]
  },
  {
   "cell_type": "markdown",
   "metadata": {},
   "source": [
    "## 1.1.1.11 Application refactoring"
   ]
  },
  {
   "cell_type": "markdown",
   "metadata": {},
   "source": [
    "## Application refactoring\n",
    "\n",
    "**Refactoring** is a very important process during software development. The main purpose of refactoring is to improve the quality of the code. Every programmer in their career will have to refactor either their own or someone else’s code sooner or later.\n",
    "\n",
    "A very common mistake made by young adepts of the art of programming is to repeat the same pieces of code in different places in the application. In this case, refactoring consists of creating a function containing repetitive fragments. As a result, the code’s volume is reduced, and it becomes more readable.\n",
    "\n",
    "You've probably noticed that adding new functionalities to our `TODO` application would be very difficult. This is a sign that our application requires refactoring. Below are suggestions for changes we can make:\n",
    "\n",
    "1.  creating a class called `TODO` that will connect to the database in the constructor. If you want, you can implement a separate method called `connect` for this purpose;\n",
    "2.  moving the code responsible for creating the `tasks`table to the method named `create_tasks_table`;\n",
    "3.  creating a method called `add_task` that will get the task name and priority from the user instead of using hardcoded values."
   ]
  },
  {
   "cell_type": "code",
   "execution_count": 5,
   "metadata": {},
   "outputs": [
    {
     "name": "stdout",
     "output_type": "stream",
     "text": [
      "Enter task name: python\n",
      "Enter priority: 1\n"
     ]
    }
   ],
   "source": [
    "import sqlite3\n",
    "\n",
    "class Todo:\n",
    "    def __init__(self):\n",
    "        self.conn = sqlite3.connect('todo.db')\n",
    "        self.c = self.conn.cursor()\n",
    "        self.create_task_table()\n",
    "        \n",
    "    def create_task_table(self):\n",
    "        self.c.execute('''CREATE TABLE IF NOT EXISTS tasks(\n",
    "        id INTEGER PRIMARY KEY,\n",
    "        name TEXT NOT NULL,\n",
    "        priority INTEGER NOT NULL\n",
    "        )''')\n",
    "        \n",
    "    def add_task(self):\n",
    "        name = input(\"Enter task name: \")\n",
    "        priority = int(input(\"Enter priority: \"))\n",
    "        self.c.execute('INSERT INTO tasks (name, priority) VALUES (?,?)', (name, priority))\n",
    "        self.conn.commit()\n",
    "        \n",
    "app = Todo()\n",
    "app.add_task()"
   ]
  },
  {
   "cell_type": "markdown",
   "metadata": {},
   "source": [
    "## 1.1.1.12 Reading data"
   ]
  },
  {
   "cell_type": "markdown",
   "metadata": {},
   "source": [
    "## sqlite3 – reading data (part 1)\n",
    "\n",
    "So far, we haven't displayed any information on the screen about the inserted tasks. It's time to change that. Let's see what’s in our database. We’ll first need the appropriate SQL statement, named `SELECT`.\n",
    "\n",
    "The `SELECT` statement allows you to read data from one or more tables. Its syntax looks like this:\n",
    "\n",
    "`SELECT column FROM table_name;`\n",
    "\n",
    "or\n",
    "\n",
    "`SELECT column1, column2, column3, …, columnN FROM table_name;`\n",
    "\n",
    "or\n",
    "\n",
    "`SELECT * FROM table_name;`\n",
    "\n",
    "  \n",
    "\n",
    "In the first variant, we decide to read the values saved in only one column. If we'd like to read only the names of the tasks saved in the `tasks` table, we could use the following query:\n",
    "\n",
    "`SELECT name FROM tasks;`\n",
    "\n",
    "The second variant allows you to read values from more columns. If we'd like to read the task names and their priorities, we could use the following query:\n",
    "\n",
    "`SELECT name, priority FROM tasks;`\n",
    "\n",
    "If we don’t have any specific requirements, we can read the values from all columns:\n",
    "\n",
    "`SELECT * FROM tasks;`\n",
    "\n",
    "The last variant will display the values saved in the `id`, `name` and `priority` columns."
   ]
  },
  {
   "cell_type": "markdown",
   "metadata": {},
   "source": [
    "## sqlite3 – reading data (part 2)\n",
    "\n",
    "It probably won’t surprise you to learn that reading data saved in the database is done with the well-known `Cursor` object. After calling the `execute` method with the appropriate `SELECT` statement, the `Cursor` object is treated as an iterator. Look at the code in the editor.\n",
    "\n",
    "The variable `row` in each iteration takes a row in the form of a tuple. Access to individual columns is done using an index, e.g., `print (row [0])` will display the values saved in the `id` column."
   ]
  },
  {
   "cell_type": "code",
   "execution_count": 9,
   "metadata": {},
   "outputs": [
    {
     "name": "stdout",
     "output_type": "stream",
     "text": [
      "(1, 'My first task', 1)\n",
      "(2, 'My first task', 1)\n",
      "(3, 'My second task', 2)\n",
      "(4, 'My third task', 3)\n",
      "(5, 'python', 1)\n"
     ]
    }
   ],
   "source": [
    "import sqlite3\n",
    "\n",
    "conn = sqlite3.connect('todo.db')\n",
    "c = conn.cursor()\n",
    "for row in c.execute('SELECT * FROM tasks'):\n",
    "    print(row)\n",
    "conn.close()"
   ]
  },
  {
   "cell_type": "markdown",
   "metadata": {},
   "source": [
    "## sqlite3 – reading data (part 3)\n",
    "\n",
    "If you don't want to treat the `Cursor` object as an iterator, you can use its method called `fetchall`. The `fetchall` method fetches all records (those not yet fetched from the query result). Look at the code in the editor.\n",
    "\n",
    "**The `fetchall` method is less efficient than the iterator, because it reads all records into the memory and then returns a list of tuples**. For small amounts of data, it doesn't matter, but if your table contains a huge number of records, this can cause memory issues.\n",
    "\n",
    "**NOTE:** The `fetchall` method returns an empty list when no rows are available."
   ]
  },
  {
   "cell_type": "code",
   "execution_count": 11,
   "metadata": {},
   "outputs": [
    {
     "name": "stdout",
     "output_type": "stream",
     "text": [
      "(1, 'My first task', 1)\n",
      "(2, 'My first task', 1)\n",
      "(3, 'My second task', 2)\n",
      "(4, 'My third task', 3)\n",
      "(5, 'python', 1)\n"
     ]
    }
   ],
   "source": [
    "import sqlite3\n",
    "\n",
    "conn = sqlite3.connect('todo.db')\n",
    "c = conn.cursor()\n",
    "c.execute('SELECT * FROM tasks')\n",
    "rows = c.fetchall()\n",
    "for row in rows:\n",
    "    print(row)\n",
    "conn.close()"
   ]
  },
  {
   "cell_type": "markdown",
   "metadata": {},
   "source": [
    "## sqlite3 – reading data (part 4)\n",
    "\n",
    "In addition to the iterator and the `fetchall` method, the `Cursor` object provides a very useful method called `fetchone` to retrieve the next available record. Look at the code in the editor.\n",
    "\n",
    "**NOTE:** The `fetchone` method returns `None` if there is no data to read."
   ]
  },
  {
   "cell_type": "code",
   "execution_count": 13,
   "metadata": {},
   "outputs": [
    {
     "name": "stdout",
     "output_type": "stream",
     "text": [
      "(1, 'My first task', 1)\n",
      "(2, 'My first task', 1)\n"
     ]
    }
   ],
   "source": [
    "import sqlite3\n",
    "\n",
    "conn = sqlite3.connect('todo.db')\n",
    "c = conn.cursor()\n",
    "c.execute('SELECT * FROM tasks')\n",
    "row = c.fetchone()\n",
    "print(row)\n",
    "row = c.fetchone()\n",
    "print(row)\n",
    "conn.close()"
   ]
  },
  {
   "cell_type": "markdown",
   "metadata": {},
   "source": [
    "## 1.2.1.1 LAB: sqlite3 - Lab 1"
   ]
  },
  {
   "cell_type": "markdown",
   "metadata": {},
   "source": [
    "## Level of difficulty\n",
    "\n",
    "Easy\n",
    "\n",
    "## Estimated time\n",
    "\n",
    "15 minutes\n",
    "\n",
    "## Objectives\n",
    "\n",
    "-   improving the student's skills in interacting with the SQLite database;\n",
    "-   using known methods of the `Cursor` object.\n",
    "\n",
    "## Scenario\n",
    "\n",
    "Our `TODO` application requires you to add a little security and display the data saved in the database. Your task is to implement the following functionalities:\n",
    "\n",
    "1.  Create a `find_task` method, which takes the task name as its argument. The method should return the record found or `None` otherwise.\n",
    "2.  Block the ability to enter an empty task (the name cannot be an empty string).\n",
    "3.  Block the ability to enter a task priority less than 1.\n",
    "4.  Use the `find_task` method to block the ability to enter a task with the same name.\n",
    "5.  Create a method called `show_tasks`, responsible for displaying all tasks saved in the database.\n",
    "\n",
    "**Test data:**\n",
    "\n",
    "## Example input:\n",
    "\n",
    "`Enter task name: My first task`\n",
    "\n",
    "`Enter priority: 1`\n",
    "\n",
    "## Example output:\n",
    "\n",
    "`(1, 'My first task', 1)`\n",
    "\n",
    "## Example input:\n",
    "\n",
    "`Enter task name: My second task`\n",
    "\n",
    "`Enter priority: 2`\n",
    "\n",
    "## Example output:\n",
    "\n",
    "`(1, 'My first task', 1)`\n",
    "\n",
    "`(2, 'My second task', 2)`\n",
    "\n",
    "## Example input:\n",
    "\n",
    "`Enter task name: My first task`\n",
    "\n",
    "`Enter priority: 1`\n",
    "\n",
    "## Example output:\n",
    "\n",
    "`(1, 'My first task', 1)`\n",
    "\n",
    "`(2, 'My second task', 2)`"
   ]
  },
  {
   "cell_type": "code",
   "execution_count": 68,
   "metadata": {},
   "outputs": [
    {
     "name": "stdout",
     "output_type": "stream",
     "text": [
      "(3, 'My second task', 2)\n",
      "(1, 'My first task', 1)\n",
      "(2, 'My first task', 1)\n",
      "(3, 'My second task', 2)\n",
      "(4, 'My third task', 3)\n",
      "(5, 'python', 1)\n",
      "(6, 'test', 100)\n",
      "Enter task name: \n",
      "Enter priority: 100\n",
      "Error! Please enter again!\n",
      "Enter task name: test2\n",
      "Enter priority: -1\n",
      "Error! Please enter again!\n",
      "Enter task name: test2\n",
      "Enter priority: 101\n"
     ]
    }
   ],
   "source": [
    "import sqlite3\n",
    "\n",
    "class Todo:\n",
    "    def __init__(self):\n",
    "        self.conn = sqlite3.connect('todo.db')\n",
    "        self.c = self.conn.cursor()\n",
    "        self.create_task_table()\n",
    "        \n",
    "    def create_task_table(self):\n",
    "        self.c.execute('''CREATE TABLE IF NOT EXISTS tasks(\n",
    "        id INTEGER PRIMARY KEY,\n",
    "        name TEXT NOT NULL,M\n",
    "        priority INTEGER NOT NULL\n",
    "        )''')\n",
    "        \n",
    "    def add_task(self):\n",
    "        name = input(\"Enter task name: \")\n",
    "        priority = int(input(\"Enter priority: \"))\n",
    "        \n",
    "        if not (self.is_task_exist(name)) and name != '' and priority > 1:\n",
    "            self.c.execute('INSERT INTO tasks (name, priority) VALUES (?,?)', (name, priority))\n",
    "            self.conn.commit()\n",
    "        else:\n",
    "            print(\"Error! Please enter again!\")\n",
    "            self.add_task()\n",
    "            \n",
    "    def find_task(self, name):\n",
    "        self.c.execute('SELECT * FROM tasks')\n",
    "        rows = self.c.fetchall()\n",
    "        name_list = []\n",
    "        for row in rows:\n",
    "            name_list.append(row[1])\n",
    "        if name in name_list:\n",
    "            return rows[name_list.index(name)]\n",
    "        return None\n",
    "    \n",
    "    def is_task_exist(self, name):\n",
    "        self.c.execute('SELECT * FROM tasks')\n",
    "        rows = self.c.fetchall()\n",
    "        name_list = []\n",
    "        for row in rows:\n",
    "            name_list.append(row[1])\n",
    "        if name in name_list:\n",
    "            return True\n",
    "        return False\n",
    "    \n",
    "    def show_tasks(self):\n",
    "        for row in self.c.execute('SELECT * FROM tasks'):\n",
    "            print(row)\n",
    "\n",
    "todo = Todo()\n",
    "task = todo.find_task('My second task')\n",
    "print(task)\n",
    "todo.show_tasks()\n",
    "todo.add_task()"
   ]
  },
  {
   "cell_type": "markdown",
   "metadata": {},
   "source": [
    "## 1.3.1.1 Updating data"
   ]
  },
  {
   "cell_type": "markdown",
   "metadata": {},
   "source": [
    "## sqlite3 – updating data\n",
    "\n",
    "Each of the tasks created has its own priority, but what if we decide that one of them should be done earlier than the others. How can we increase its priority? We have to use the SQL statement called `UPDATE`.\n",
    "\n",
    "The `UPDATE` statement is used to modify existing records in the database. Its syntax is as follows:\n",
    "\n",
    "`UPDATE table_name`\n",
    "\n",
    "`SET column1 = value1, column2 = value2, column3 = value3, …, columnN = valueN`\n",
    "\n",
    "`WHERE condition;`\n",
    "\n",
    "If we'd like to set the priority to 20 for a task with `id`equal to 1, we can use the following query:\n",
    "\n",
    "`UPDATE tasks SET priority = 20 WHERE id = 1;`\n",
    "\n",
    "**NOTE:** If you forget about the `WHERE` clause, all data in the table will be updated.\n",
    "\n",
    "As before, we execute all SQL statements using the `execute` method. Look at the code in the editor."
   ]
  },
  {
   "cell_type": "code",
   "execution_count": 2,
   "metadata": {},
   "outputs": [],
   "source": [
    "import sqlite3\n",
    "\n",
    "conn = sqlite3.connect('todo.db')\n",
    "c = conn.cursor()\n",
    "c.execute('UPDATE tasks SET priority = ? WHERE id = ?', (20, 1))\n",
    "conn.commit()\n",
    "conn.close()"
   ]
  },
  {
   "cell_type": "markdown",
   "metadata": {},
   "source": [
    "## 1.3.1.2 Deleting data"
   ]
  },
  {
   "cell_type": "markdown",
   "metadata": {},
   "source": [
    "## sqlite3 – deleting data\n",
    "\n",
    "After completing a task, we would like to remove it from our database. To do this, we must use the SQL statement called `DELETE`:\n",
    "\n",
    "`DELETE FROM table_name WHERE condition;`\n",
    "\n",
    "Let's look at what removing the task with `id = 1`might look like:\n",
    "\n",
    "`DELETE FROM tasks WHERE id = 1;`\n",
    "\n",
    "**NOTE:** If you forget about the `WHERE` clause, all data in the table will be deleted.\n",
    "\n",
    "Look at the code in the editor to see how to delete a record using the `sqlite3` module."
   ]
  },
  {
   "cell_type": "code",
   "execution_count": 3,
   "metadata": {},
   "outputs": [],
   "source": [
    "import sqlite3\n",
    "\n",
    "conn = sqlite3.connect('todo.db')\n",
    "c = conn.cursor()\n",
    "c.execute('DELETE FROM tasks WHERE id = ?', (1,))\n",
    "conn.commit()\n",
    "conn.close()"
   ]
  },
  {
   "cell_type": "markdown",
   "metadata": {},
   "source": [
    "## Level of difficulty\n",
    "\n",
    "Easy\n",
    "\n",
    "## Estimated time\n",
    "\n",
    "45 minutes\n",
    "\n",
    "## Pre-requisites\n",
    "\n",
    "Lab 1.2.1.2 - sqlite - Lab 1\n",
    "\n",
    "## Objectives\n",
    "\n",
    "-   improving the student's skills in interacting with the SQLite database;\n",
    "-   using known SQL statements.\n",
    "\n",
    "## Scenario\n",
    "\n",
    "The application is almost ready. Let's add the missing functionalities to it:\n",
    "\n",
    "1.  Create a method called `change_priority`, responsible for updating task priority. The method should get the id of the task from the user and its new priority (greater than or equal to 1).\n",
    "2.  Create a method called `delete_task`, responsible for deleting single tasks. The method should get the task id from the user.\n",
    "3.  Implement a simple menu consisting of the following options:  \n",
    "      \n",
    "    `1. Show Tasks 2. Add Task 3. Change Priority 4. Delete Task 5. Exit`\n",
    "\n",
    "where:\n",
    "\n",
    "-   Show Tasks (calls the show\\_tasks method)\n",
    "-   Add Task (calls the add\\_task method)\n",
    "-   Change Priority (calls the change\\_priority method)\n",
    "-   Delete Task (calls the delete\\_task method)\n",
    "-   Exit (interrupts program execution)\n",
    "\n",
    "The program should obtain one of these options from the user, and then call the appropriate method of the `TODO` object. Choosing option 5 must terminate the program. A menu should be displayed in an infinite loop so that the user can choose an option multiple times."
   ]
  },
  {
   "cell_type": "code",
   "execution_count": 10,
   "metadata": {},
   "outputs": [],
   "source": [
    "import sqlite3\n",
    "\n",
    "class Todo:\n",
    "    def __init__(self):\n",
    "        self.conn = sqlite3.connect('todo.db')\n",
    "        self.c = self.conn.cursor()\n",
    "        self.create_task_table()\n",
    "        \n",
    "    def create_task_table(self):\n",
    "        self.c.execute('''CREATE TABLE IF NOT EXISTS tasks(\n",
    "        id INTEGER PRIMARY KEY,\n",
    "        name TEXT NOT NULL,M\n",
    "        priority INTEGER NOT NULL\n",
    "        )''')\n",
    "        \n",
    "    def add_task(self):\n",
    "        name = input(\"Enter task name: \")\n",
    "        priority = int(input(\"Enter priority: \"))\n",
    "        \n",
    "        if not (self.is_task_exist(name)) and name != '' and priority > 1:\n",
    "            self.c.execute('INSERT INTO tasks (name, priority) VALUES (?,?)', (name, priority))\n",
    "            self.conn.commit()\n",
    "        else:\n",
    "            print(\"Error! Please enter again!\")\n",
    "            self.add_task()\n",
    "            \n",
    "    def find_task(self, name):\n",
    "        self.c.execute('SELECT * FROM tasks')\n",
    "        rows = self.c.fetchall()\n",
    "        name_list = []\n",
    "        for row in rows:\n",
    "            name_list.append(row[1])\n",
    "        if name in name_list:\n",
    "            return rows[name_list.index(name)]\n",
    "        return None\n",
    "    \n",
    "    def is_task_exist(self, name):\n",
    "        self.c.execute('SELECT * FROM tasks')\n",
    "        rows = self.c.fetchall()\n",
    "        name_list = []\n",
    "        for row in rows:\n",
    "            name_list.append(row[1])\n",
    "        if name in name_list:\n",
    "            return True\n",
    "        return False\n",
    "    \n",
    "    def show_tasks(self):\n",
    "        for row in self.c.execute('SELECT * FROM tasks'):\n",
    "            print(row)\n",
    "\n",
    "    def change_priority(self):\n",
    "        \n",
    "        \n",
    "    def delete_task(self):\n",
    "        \n",
    "        pass\n",
    "            \n",
    "# todo = Todo()\n",
    "# task = todo.find_task('My second task')\n",
    "# print(task)\n",
    "# todo.show_tasks()\n",
    "# todo.add_task()\n",
    "\n",
    "\n",
    "\n"
   ]
  },
  {
   "cell_type": "code",
   "execution_count": 11,
   "metadata": {},
   "outputs": [],
   "source": [
    "def menu():\n",
    "    print('''1. Show Tasks\\n2. Add Task\\n3. Change Priority\\n4. Delete Task\\n5. Exit''')\n",
    "    choice = input(\"Enter number: \")\n",
    "    return choice"
   ]
  },
  {
   "cell_type": "code",
   "execution_count": 9,
   "metadata": {},
   "outputs": [
    {
     "ename": "NameError",
     "evalue": "name 'Todo' is not defined",
     "output_type": "error",
     "traceback": [
      "\u001b[1;31m---------------------------------------------------------------------------\u001b[0m",
      "\u001b[1;31mNameError\u001b[0m                                 Traceback (most recent call last)",
      "\u001b[1;32m<ipython-input-9-c9ee8284a932>\u001b[0m in \u001b[0;36m<module>\u001b[1;34m\u001b[0m\n\u001b[1;32m----> 1\u001b[1;33m \u001b[0mtodo\u001b[0m \u001b[1;33m=\u001b[0m \u001b[0mTodo\u001b[0m\u001b[1;33m(\u001b[0m\u001b[1;33m)\u001b[0m\u001b[1;33m\u001b[0m\u001b[1;33m\u001b[0m\u001b[0m\n\u001b[0m\u001b[0;32m      2\u001b[0m \u001b[1;33m\u001b[0m\u001b[0m\n\u001b[0;32m      3\u001b[0m \u001b[1;32mwhile\u001b[0m \u001b[1;33m(\u001b[0m\u001b[1;32mTrue\u001b[0m\u001b[1;33m)\u001b[0m\u001b[1;33m:\u001b[0m\u001b[1;33m\u001b[0m\u001b[1;33m\u001b[0m\u001b[0m\n\u001b[0;32m      4\u001b[0m     \u001b[0mchoice\u001b[0m \u001b[1;33m=\u001b[0m \u001b[0mmunu\u001b[0m\u001b[1;33m(\u001b[0m\u001b[1;33m)\u001b[0m\u001b[1;33m\u001b[0m\u001b[1;33m\u001b[0m\u001b[0m\n\u001b[0;32m      5\u001b[0m     \u001b[1;32mif\u001b[0m \u001b[0mchoice\u001b[0m \u001b[1;33m==\u001b[0m \u001b[1;34m'1'\u001b[0m\u001b[1;33m:\u001b[0m\u001b[1;33m\u001b[0m\u001b[1;33m\u001b[0m\u001b[0m\n",
      "\u001b[1;31mNameError\u001b[0m: name 'Todo' is not defined"
     ]
    }
   ],
   "source": [
    "todo = Todo()\n",
    "\n",
    "while (True):\n",
    "    choice = munu()\n",
    "    if choice == '1':\n",
    "        todo.show_tasks()\n",
    "    elif choice == '2':\n",
    "        todo.add_task()\n",
    "    elif choice == '3':\n",
    "        todo.change_priority()\n",
    "    elif choice == '4':\n",
    "        todo.delete_task()\n",
    "    elif choice == '5':\n",
    "        print(\"Bye!\")\n",
    "        exit(0)"
   ]
  },
  {
   "cell_type": "code",
   "execution_count": null,
   "metadata": {},
   "outputs": [],
   "source": []
  },
  {
   "cell_type": "code",
   "execution_count": null,
   "metadata": {},
   "outputs": [],
   "source": []
  },
  {
   "cell_type": "code",
   "execution_count": null,
   "metadata": {},
   "outputs": [],
   "source": []
  },
  {
   "cell_type": "code",
   "execution_count": null,
   "metadata": {},
   "outputs": [],
   "source": []
  },
  {
   "cell_type": "code",
   "execution_count": null,
   "metadata": {},
   "outputs": [],
   "source": []
  },
  {
   "cell_type": "code",
   "execution_count": null,
   "metadata": {},
   "outputs": [],
   "source": []
  },
  {
   "cell_type": "code",
   "execution_count": null,
   "metadata": {},
   "outputs": [],
   "source": []
  },
  {
   "cell_type": "code",
   "execution_count": null,
   "metadata": {},
   "outputs": [],
   "source": []
  },
  {
   "cell_type": "code",
   "execution_count": null,
   "metadata": {},
   "outputs": [],
   "source": []
  },
  {
   "cell_type": "code",
   "execution_count": null,
   "metadata": {},
   "outputs": [],
   "source": []
  },
  {
   "cell_type": "code",
   "execution_count": null,
   "metadata": {},
   "outputs": [],
   "source": []
  },
  {
   "cell_type": "code",
   "execution_count": null,
   "metadata": {},
   "outputs": [],
   "source": []
  },
  {
   "cell_type": "code",
   "execution_count": null,
   "metadata": {},
   "outputs": [],
   "source": []
  },
  {
   "cell_type": "code",
   "execution_count": null,
   "metadata": {},
   "outputs": [],
   "source": []
  },
  {
   "cell_type": "code",
   "execution_count": null,
   "metadata": {},
   "outputs": [],
   "source": []
  },
  {
   "cell_type": "code",
   "execution_count": null,
   "metadata": {},
   "outputs": [],
   "source": []
  },
  {
   "cell_type": "code",
   "execution_count": null,
   "metadata": {},
   "outputs": [],
   "source": []
  },
  {
   "cell_type": "code",
   "execution_count": null,
   "metadata": {},
   "outputs": [],
   "source": []
  },
  {
   "cell_type": "code",
   "execution_count": null,
   "metadata": {},
   "outputs": [],
   "source": []
  },
  {
   "cell_type": "code",
   "execution_count": null,
   "metadata": {},
   "outputs": [],
   "source": []
  }
 ],
 "metadata": {
  "kernelspec": {
   "display_name": "Python 3",
   "language": "python",
   "name": "python3"
  },
  "language_info": {
   "codemirror_mode": {
    "name": "ipython",
    "version": 3
   },
   "file_extension": ".py",
   "mimetype": "text/x-python",
   "name": "python",
   "nbconvert_exporter": "python",
   "pygments_lexer": "ipython3",
   "version": "3.7.4"
  }
 },
 "nbformat": 4,
 "nbformat_minor": 2
}
