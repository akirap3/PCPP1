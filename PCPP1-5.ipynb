{
 "cells": [
  {
   "cell_type": "markdown",
   "metadata": {},
   "source": [
    "# PCPP1 | File Processing"
   ]
  },
  {
   "cell_type": "markdown",
   "metadata": {},
   "source": [
    "## 0.0.0.1 PCPP1: File Processing"
   ]
  },
  {
   "cell_type": "markdown",
   "metadata": {},
   "source": [
    "**In this course, you will learn about:**\n",
    "\n",
    "-   _sqlite_ - interacting with SQLite databases;\n",
    "-   _xml_ - creating and processing XML files;\n",
    "-   _csv_ - CSV file reading and writing;\n",
    "-   _logging_ - basics logging facility for Python;\n",
    "-   _configparser_ - configuration file parser."
   ]
  },
  {
   "cell_type": "markdown",
   "metadata": {},
   "source": [
    "## 1.1.1.1 SQLite - What is a database?"
   ]
  },
  {
   "cell_type": "markdown",
   "metadata": {},
   "source": [
    "## What is a database?\n",
    "\n",
    "Nowadays, social applications such as Facebook, Twitter, and Instagram are very popular. Every day many people create new accounts, and existing users add or share different content. You’ve surely noticed that the data sent to those applications are still available after a few days, or even years. Do you know how that’s possible?\n",
    "\n",
    "Data is simply information about users, the contents of their posts, and comments. The data are all kinds of information that we can send to the application. During registration, you send the application your account data, consisting of email address, login, and password, and when you add new posts you send content that will be visible to other users. Sent data should be saved in some place that can be easily accessed. This place is a database, which is a set of information stored on a disk in a computer system. Access to the database is possible thanks to a database management system.\n",
    "\n",
    "The database management system (DBMS) is the software responsible for:\n",
    "\n",
    "-   creating a database structure;\n",
    "-   inserting, updating, deleting, and searching data;\n",
    "-   ensuring data security;\n",
    "-   transaction management;\n",
    "-   ensuring concurrent access to data for many users;\n",
    "-   enabling data exchange with other database systems."
   ]
  },
  {
   "cell_type": "markdown",
   "metadata": {},
   "source": [
    "There are many free and paid database management systems on the market. The most popular of them include:"
   ]
  },
  {
   "cell_type": "markdown",
   "metadata": {},
   "source": [
    "- Free\t\n",
    "    - MySQL, PostgreSQL, SQLite\t\n",
    "\n",
    "- Paid\n",
    "    - Oracle Database, Microsoft SQL Server, IBM DB2"
   ]
  },
  {
   "cell_type": "markdown",
   "metadata": {},
   "source": [
    "## 1.1.1.2 What is SQLite and why to use it"
   ]
  },
  {
   "cell_type": "markdown",
   "metadata": {},
   "source": [
    "## What is SQLite and why should you use it?\n",
    "\n",
    "Before you create your first database, we'll say a few words about SQLite, one of the most popular database management systems in the world. SQLite is actually a C library which allows the user to read and write data directly to a file. You're surprised?\n",
    "\n",
    "The complete SQLite database is stored in only one file. Unlike other database management systems, SQLite doesn't require a separate server process to be running in order to communicate with the database.\n",
    "\n",
    "What's more, it doesn't require any configuration at all, because it's a self-contained library enclosed in one source file. SQLite also supports transactions, which are a set of database operations that must be executed in full, or rolled back if one of them fails."
   ]
  },
  {
   "cell_type": "markdown",
   "metadata": {},
   "source": [
    "SQLite has found many uses in mobile applications (on both Android and iOS platforms) to store information about their status. In addition, it's used by companies producing software for cars and airplanes. The database file is cross-platform, which means it can be copied between 32- and 64-bit systems.\n",
    "\n",
    "Isn't it amazing that you can transfer the database created in this course to the airplane software?"
   ]
  },
  {
   "cell_type": "markdown",
   "metadata": {},
   "source": [
    "## 1.1.1.3 Working with an SQLite database"
   ]
  },
  {
   "cell_type": "markdown",
   "metadata": {},
   "source": [
    "## How to work with an SQLite database using Python\n",
    "\n",
    "You've probably already used the standard library with built-in modules many times during your adventures with Python. In this part of the course, you'll have the opportunity to learn about a new module that will allow you to create amazing applications using SQLite databases. Can you guess what it’s called? If not, don't worry, everything will be clear in a moment.\n",
    "\n",
    "The standard Python library has a module called `sqlite3`, providing an interface compliant with the DB-API 2.0 specification described by [PEP 249](https://www.python.org/dev/peps/pep-0249/). The purpose of the DB-API 2.0 specification is to define a common standard for creating modules to work with databases in Python.\n",
    "\n",
    "  \n",
    "\n",
    "Imagine three cars that have the same necessary equipment, but were made by other manufacturers. It's exactly the same with modules implementing the DB-API 2.0 interface. Each of them has the same method required by the specification, but can be written by different programmers, and even by you.\n",
    "\n",
    "To use the _sqlite3_ module, you must import it in your script:\n",
    "\n",
    "`import sqlite3`\n",
    "\n",
    "**NOTE:** The _sqlite3_ module has been available in Python since version 2.5."
   ]
  },
  {
   "cell_type": "markdown",
   "metadata": {},
   "source": [
    "## 1.1.1.4 Creating a database"
   ]
  },
  {
   "cell_type": "markdown",
   "metadata": {},
   "source": [
    "## sqlite3 – creating a database\n",
    "\n",
    "As we already said, the SQLite database is a single file, which is saved on your computer. Each file, regardless of the operating system used, has its location (a path to a specific disk space). When you create a database, you can create it in your current working directory, or in any other location. To create a database, use the **`connect`** method provided by the `sqlite3` module:"
   ]
  },
  {
   "cell_type": "code",
   "execution_count": 1,
   "metadata": {},
   "outputs": [],
   "source": [
    "import sqlite3\n",
    "\n",
    "conn = sqlite3.connect('./db/hello.db')"
   ]
  },
  {
   "cell_type": "markdown",
   "metadata": {},
   "source": [
    "The `connect` method returns the database representation as a `Connection` object. In the example above, the method takes only the database name as the argument. This means that the database will be created in the same directory as the script that wants to access it."
   ]
  },
  {
   "cell_type": "markdown",
   "metadata": {},
   "source": [
    "It's also possible to use a special name, `:memory:`, which creates a database in RAM:"
   ]
  },
  {
   "cell_type": "code",
   "execution_count": 2,
   "metadata": {},
   "outputs": [],
   "source": [
    "import sqlite3\n",
    "\n",
    "conn = sqlite3.connect(':memory:')"
   ]
  },
  {
   "cell_type": "markdown",
   "metadata": {},
   "source": [
    "Remember that the `connect` method creates a database only if it cannot find a database in the given location. If a database exists, SQLite connects to it."
   ]
  },
  {
   "cell_type": "markdown",
   "metadata": {},
   "source": [
    "## A few words about SQL\n",
    "\n",
    "You’ve already learned how to create a database in Python using the `sqlite3` module. It's now time to discuss how we can create its structure. For this purpose, we’ll need some knowledge of SQL.\n",
    "\n",
    "SQL is a **Structured Query Language** for creating, modifying, and managing relational databases. It’s used by the most popular database management systems such as MySQL, PostgreSQL, and our favorite SQLite. The SQL language was developed in the 70s by IBM. Over the years, SQL has been modified by many companies that have implemented it in their products. Therefore, it became necessary to introduce a standard that would standardize its syntax.\n",
    "\n",
    "Since the first production deployments, the following standards have been created: SQL-86, SQL-89, SQL-92, SQL:1999, SQL:2003, SQL:2006, SQL:2008, SQL:2011, SQL:2016, SQL:2019. Detailed information on each of the standards can be found in the Internet resources. It’s worth mentioning that SQLite generally implements the SQL-92 standard, with some exceptions that you can read about [here](https://www.sqlite.org/lang.html).\n",
    "\n",
    "SQL syntax and its standards are extensive topics. Fortunately, there are many free materials available on the Internet to help you acquire some basic knowledge. We encourage you to familiarize yourself with them.\n",
    "\n",
    "If you've never dealt with SQL before, don't worry. All examples including SQL will be explained in detail."
   ]
  },
  {
   "cell_type": "markdown",
   "metadata": {},
   "source": [
    "## 1.1.1.5 The TODO application"
   ]
  },
  {
   "cell_type": "markdown",
   "metadata": {},
   "source": [
    "## sqlite3 – the TODO application\n",
    "\n",
    "Have you ever forgotten to do anything during the day? If so, it's time to finally solve this problem. Let's create a simple project called **TODO**, during which we’ll create a database to store tasks (to do) along with their priorities. The structure of our database will consist of only one table called **`tasks`**:"
   ]
  },
  {
   "cell_type": "markdown",
   "metadata": {},
   "source": [
    "![](./images/80_task.png)"
   ]
  },
  {
   "cell_type": "markdown",
   "metadata": {},
   "source": [
    "To create the above table, we’ll need to use the SQL statement `CREATE TABLE`. Its syntax looks like this:"
   ]
  },
  {
   "cell_type": "code",
   "execution_count": null,
   "metadata": {},
   "outputs": [],
   "source": [
    "CREATE TABLE table_name (\n",
    "column1 datatype,\n",
    "column2 datatype,\n",
    "column3 datatype,\n",
    "…\n",
    "columnN datatype\n",
    ");"
   ]
  },
  {
   "cell_type": "markdown",
   "metadata": {},
   "source": [
    "The `CREATE TABLE` statement creates a new table in the database. In our case, it will be a table called `tasks` consisting of three columns: `id`, `name` and `priority`."
   ]
  },
  {
   "cell_type": "markdown",
   "metadata": {},
   "source": [
    "The `id` column is a primary key that allows you to uniquely identify records stored in the table. The second column called `name` is responsible for storing the names of the tasks we’ll have to do. It's not difficult to guess that these will be textual values.\n",
    "\n",
    "For this purpose, we’ll use the `TEXT` type. The last column called `priority` defines the priority of our tasks and should store integers.\n",
    "\n",
    "Below is the SQL code that we’ll use later in the course to create our table using the `sqlite3` module. Note the name and priority columns that contain the `NOT NULL` constraint. This will avoid creating tasks with fields equal to `NULL`."
   ]
  },
  {
   "cell_type": "code",
   "execution_count": null,
   "metadata": {},
   "outputs": [],
   "source": [
    "CREATE TABLE tasks (\n",
    "id INTEGER PRIMARY KEY,\n",
    "name TEXT NOT NULL,\n",
    "priority INTEGER NOT NULL\n",
    ");"
   ]
  },
  {
   "cell_type": "markdown",
   "metadata": {},
   "source": [
    "You’ll find more information on all types available in SQLite [here](https://www.sqlite.org/datatype3.html)."
   ]
  },
  {
   "cell_type": "markdown",
   "metadata": {},
   "source": [
    "## 1.1.1.6 Creating tables"
   ]
  },
  {
   "cell_type": "markdown",
   "metadata": {},
   "source": [
    "## sqlite3 – creating tables\n",
    "\n",
    "When connecting to the database using the `connect` method, a `Connection` object is created. It has a very useful method called `cursor`. The method creates a `Cursor` object that allows any SQL statements to be executed in the database. What does it look like in practice? Let's look at the code responsible for creating the table called `tasks`:"
   ]
  },
  {
   "cell_type": "code",
   "execution_count": 1,
   "metadata": {},
   "outputs": [
    {
     "data": {
      "text/plain": [
       "<sqlite3.Cursor at 0x26330963d50>"
      ]
     },
     "execution_count": 1,
     "metadata": {},
     "output_type": "execute_result"
    }
   ],
   "source": [
    "import sqlite3\n",
    "\n",
    "conn = sqlite3.connect('./db/todo.db')\n",
    "c = conn.cursor()\n",
    "c.execute('''CREATE TABLE tasks (\n",
    "id INTEGER PRIMARY KEY,\n",
    "name TEXT NOT NULL,\n",
    "priority INTEGER NOT NULL\n",
    ");''')"
   ]
  },
  {
   "cell_type": "markdown",
   "metadata": {},
   "source": [
    "Calling the `execute` method executes the `CREATE TABLE` statement in our database. The `execute` method takes any single SQL statement and optional parameters necessary to execute the query. The variant with optional parameters will be presented when we discuss inserting data in the database.\n",
    "\n",
    "__NOTE:__ Running the above program twice will throw an exception with the following message: `sqlite3.OperationError: table tasks already exists`. This is because the statement is trying to re-create a table with the same name. The solution to this problem is to modify the query as follows:"
   ]
  },
  {
   "cell_type": "code",
   "execution_count": 2,
   "metadata": {},
   "outputs": [
    {
     "ename": "OperationalError",
     "evalue": "table tasks already exists",
     "output_type": "error",
     "traceback": [
      "\u001b[1;31m---------------------------------------------------------------------------\u001b[0m",
      "\u001b[1;31mOperationalError\u001b[0m                          Traceback (most recent call last)",
      "\u001b[1;32m<ipython-input-2-ef2fcf2bb859>\u001b[0m in \u001b[0;36m<module>\u001b[1;34m\u001b[0m\n\u001b[0;32m      7\u001b[0m \u001b[0mname\u001b[0m \u001b[0mTEXT\u001b[0m \u001b[0mNOT\u001b[0m \u001b[0mNULL\u001b[0m\u001b[1;33m,\u001b[0m\u001b[1;33m\u001b[0m\u001b[1;33m\u001b[0m\u001b[0m\n\u001b[0;32m      8\u001b[0m \u001b[0mpriority\u001b[0m \u001b[0mINTEGER\u001b[0m \u001b[0mNOT\u001b[0m \u001b[0mNULL\u001b[0m\u001b[1;33m\u001b[0m\u001b[1;33m\u001b[0m\u001b[0m\n\u001b[1;32m----> 9\u001b[1;33m );''')\n\u001b[0m",
      "\u001b[1;31mOperationalError\u001b[0m: table tasks already exists"
     ]
    }
   ],
   "source": [
    "import sqlite3\n",
    "\n",
    "conn = sqlite3.connect('./db/todo.db')\n",
    "c = conn.cursor()\n",
    "c.execute('''CREATE TABLE tasks (\n",
    "id INTEGER PRIMARY KEY,\n",
    "name TEXT NOT NULL,\n",
    "priority INTEGER NOT NULL\n",
    ");''')"
   ]
  },
  {
   "cell_type": "code",
   "execution_count": 3,
   "metadata": {},
   "outputs": [
    {
     "data": {
      "text/plain": [
       "<sqlite3.Cursor at 0x26330a73e30>"
      ]
     },
     "execution_count": 3,
     "metadata": {},
     "output_type": "execute_result"
    }
   ],
   "source": [
    "import sqlite3\n",
    "\n",
    "conn = sqlite3.connect('./db/todo.db')\n",
    "c = conn.cursor()\n",
    "c.execute('''CREATE TABLE IF NOT EXISTS tasks (\n",
    "id INTEGER PRIMARY KEY,\n",
    "name TEXT NOT NULL,\n",
    "priority INTEGER NOT NULL\n",
    ");''')"
   ]
  },
  {
   "cell_type": "markdown",
   "metadata": {},
   "source": [
    "## 1.1.1.7 Inserting data"
   ]
  },
  {
   "cell_type": "markdown",
   "metadata": {},
   "source": [
    "## sqlite3 – inserting data (part 1)\n",
    "\n",
    "Congratulations. You’ve just created your first table in the database. It's time to fill it with data. Once again, a little knowledge of the SQL language will be invaluable, namely the `INSERT INTO` statement.\n",
    "\n",
    "The `INSERT INTO` statement is used to insert records in a table. Its syntax is as follows:"
   ]
  },
  {
   "cell_type": "code",
   "execution_count": null,
   "metadata": {},
   "outputs": [],
   "source": [
    "INSERT INTO table_name (column1, column2, column3, ..., columnN)\n",
    "VALUES (value1, value2, value3, ..., value4);"
   ]
  },
  {
   "cell_type": "markdown",
   "metadata": {},
   "source": [
    "Using the above formula, we’re able to prepare a query that will allow us to save our first task in the database:"
   ]
  },
  {
   "cell_type": "code",
   "execution_count": null,
   "metadata": {},
   "outputs": [],
   "source": [
    "INSERT INTO tasks (id, name, priority) VALUES (1, 'My first task', 1);"
   ]
  },
  {
   "cell_type": "markdown",
   "metadata": {},
   "source": [
    "or"
   ]
  },
  {
   "cell_type": "code",
   "execution_count": null,
   "metadata": {},
   "outputs": [],
   "source": [
    "INSERT INTO tasks (name, priority) VALUES ('My first task', 1);"
   ]
  },
  {
   "cell_type": "markdown",
   "metadata": {},
   "source": [
    "You've probably noticed that in the second variant the `id` column is omitted. In this case, we inform the database management system of the desire to use auto-incrementation (a unique value is generated for us when a new record is inserted).\n",
    "\n",
    "Of course, we can define the value of the `id` column ourselves, but it's more convenient not to worry about it.\n",
    "\n",
    "The `INSERT INTO` statement also has a short form in which we can omit the column names:"
   ]
  },
  {
   "cell_type": "code",
   "execution_count": null,
   "metadata": {},
   "outputs": [],
   "source": [
    "INSERT INTO table_name VALUES (value1, value2, value3, ..., valueN);"
   ]
  },
  {
   "cell_type": "markdown",
   "metadata": {},
   "source": [
    "- code"
   ]
  },
  {
   "cell_type": "code",
   "execution_count": 7,
   "metadata": {},
   "outputs": [
    {
     "data": {
      "text/plain": [
       "<sqlite3.Cursor at 0x26330a7e180>"
      ]
     },
     "execution_count": 7,
     "metadata": {},
     "output_type": "execute_result"
    }
   ],
   "source": [
    "import sqlite3\n",
    "\n",
    "conn = sqlite3.connect('./db/todo.db')\n",
    "c = conn.cursor()\n",
    "c.execute('''CREATE TABLE IF NOT EXISTS tasks (\n",
    "id INTEGER PRIMARY KEY,\n",
    "name TEXT NOT NULL,\n",
    "priority INTEGER NOT NULL\n",
    ")''')\n",
    "\n",
    "c.execute('''INSERT INTO tasks (id, name, priority) VALUES (1, 'My first task', '1')''')"
   ]
  },
  {
   "cell_type": "markdown",
   "metadata": {},
   "source": [
    "## 1.1.1.8 Inserting data"
   ]
  },
  {
   "cell_type": "markdown",
   "metadata": {},
   "source": [
    "## sqlite3 – inserting data (part 2)\n",
    "\n",
    "Let's look at how to use the `INSERT INTO` statement in our TODO project. Analyze the code in the editor.\n",
    "\n",
    "The mysterious characters `?` used in the `INSERT INTO` statement are query parameters that are replaced with the correct values during the execution of the statement. In the above example, the first character `?` will be replaced with `My first task`, while the second will be replaced with `l`.\n",
    "\n",
    "This is to avoid an SQL injection attack in which malicious SQL is appended to a query that could possibly destroy our database. You can find more information about SQL injection and possible safeguard measures on the Internet.\n",
    "\n",
    "The `execute` method, as we mentioned before, has an optional argument in the form of an array of parameters. In our case, it takes a tuple, but it can be a simple array containing the same number of elements as the query parameters.\n",
    "\n",
    "Our code isn't working properly yet, but don't worry. In a moment, you’ll learn a new method that will fix this problem."
   ]
  },
  {
   "cell_type": "code",
   "execution_count": 2,
   "metadata": {},
   "outputs": [
    {
     "data": {
      "text/plain": [
       "<sqlite3.Cursor at 0x63a1720>"
      ]
     },
     "execution_count": 2,
     "metadata": {},
     "output_type": "execute_result"
    }
   ],
   "source": [
    "import sqlite3\n",
    "\n",
    "conn = sqlite3.connect('todo.db')\n",
    "c = conn.cursor()\n",
    "c.execute('''CREATE TABLE IF NOT EXISTS tasks (\n",
    "id INTEGER PRIMARY KEY,\n",
    "name TEXT NOT NULL,\n",
    "priority INTEGER NOT NULL\n",
    ");''')\n",
    "c.execute('INSERT INTO tasks (name, priority) VALUES (?,?)', ('My first task', 1))"
   ]
  },
  {
   "cell_type": "markdown",
   "metadata": {},
   "source": [
    "## sqlite3 – inserting data (part 3)\n",
    "\n",
    "We’re only one step away from inserting our first task in the database. All we're missing is to call the `commit` method provided by the `Connection` object. Look at the code in the editor.\n",
    "\n",
    "The `commit` method confirms our changes (the current transaction). If you forget to call it, your changes won't be visible in the database.\n",
    "\n",
    "In the example above, another method of the `Connection` object is used. The `close` method closes the database connection, e.g., after inserting all tasks.\n",
    "\n",
    "**NOTE:** Restarting the program will create another task with the same name and priority, but with a different value that is auto-incremental."
   ]
  },
  {
   "cell_type": "code",
   "execution_count": 1,
   "metadata": {},
   "outputs": [],
   "source": [
    "import sqlite3\n",
    "\n",
    "conn = sqlite3.connect('todo.db')\n",
    "c = conn.cursor()\n",
    "c.execute('''CREATE TABLE IF NOT EXISTS tasks (\n",
    "id INTEGER PRIMARY KEY,\n",
    "name TEXT NOT NULL,\n",
    "priority INTEGER NOT NULL\n",
    ");''')\n",
    "c.execute('INSERT INTO tasks (name, priority) VALUES (?,?)', ('My first task', 1))\n",
    "conn.commit()\n",
    "conn.close()\n"
   ]
  },
  {
   "cell_type": "markdown",
   "metadata": {},
   "source": [
    "## 1.1.1.10 The executemany() method"
   ]
  },
  {
   "cell_type": "markdown",
   "metadata": {},
   "source": [
    "## sqlite3 – the _executemany()_ method\n",
    "\n",
    "Performing many queries is not very efficient when we can use just one that performs the same task. Imagine a situation where you want to add three tasks to the database. If we used the `execute` method, we would have to do three separate queries.\n",
    "\n",
    "This isn't good practice. Fortunately, the `Cursor` object offers us a method called `executemany`. Look at the code in the editor.\n",
    "\n",
    "The `executemany` method allows you to insert multiple records at once. As an argument, it accepts an SQL statement and an array containing any number of tuples."
   ]
  },
  {
   "cell_type": "code",
   "execution_count": 2,
   "metadata": {},
   "outputs": [],
   "source": [
    "import sqlite3\n",
    "\n",
    "conn = sqlite3.connect('todo.db')\n",
    "c = conn.cursor()\n",
    "c.execute('''CREATE TABLE IF NOT EXISTS taks(\n",
    "id INTEGER PRIMARY KEY,\n",
    "name TEXT NOT NULL,\n",
    "priority INTEGER NOT NULL\n",
    ");''')\n",
    "\n",
    "tasks = [\n",
    "    ('My first task', 1),\n",
    "    ('My second task', 2),\n",
    "    ('My third task', 3),\n",
    "]\n",
    "c.executemany('INSERT INTO tasks (name, priority) VALUES(?,?)', tasks)\n",
    "conn.commit()\n",
    "conn.close()"
   ]
  },
  {
   "cell_type": "markdown",
   "metadata": {},
   "source": [
    "## 1.1.1.11 Application refactoring"
   ]
  },
  {
   "cell_type": "markdown",
   "metadata": {},
   "source": [
    "## Application refactoring\n",
    "\n",
    "**Refactoring** is a very important process during software development. The main purpose of refactoring is to improve the quality of the code. Every programmer in their career will have to refactor either their own or someone else’s code sooner or later.\n",
    "\n",
    "A very common mistake made by young adepts of the art of programming is to repeat the same pieces of code in different places in the application. In this case, refactoring consists of creating a function containing repetitive fragments. As a result, the code’s volume is reduced, and it becomes more readable.\n",
    "\n",
    "You've probably noticed that adding new functionalities to our `TODO` application would be very difficult. This is a sign that our application requires refactoring. Below are suggestions for changes we can make:\n",
    "\n",
    "1.  creating a class called `TODO` that will connect to the database in the constructor. If you want, you can implement a separate method called `connect` for this purpose;\n",
    "2.  moving the code responsible for creating the `tasks`table to the method named `create_tasks_table`;\n",
    "3.  creating a method called `add_task` that will get the task name and priority from the user instead of using hardcoded values."
   ]
  },
  {
   "cell_type": "code",
   "execution_count": 5,
   "metadata": {},
   "outputs": [
    {
     "name": "stdout",
     "output_type": "stream",
     "text": [
      "Enter task name: python\n",
      "Enter priority: 1\n"
     ]
    }
   ],
   "source": [
    "import sqlite3\n",
    "\n",
    "class Todo:\n",
    "    def __init__(self):\n",
    "        self.conn = sqlite3.connect('todo.db')\n",
    "        self.c = self.conn.cursor()\n",
    "        self.create_task_table()\n",
    "        \n",
    "    def create_task_table(self):\n",
    "        self.c.execute('''CREATE TABLE IF NOT EXISTS tasks(\n",
    "        id INTEGER PRIMARY KEY,\n",
    "        name TEXT NOT NULL,\n",
    "        priority INTEGER NOT NULL\n",
    "        )''')\n",
    "        \n",
    "    def add_task(self):\n",
    "        name = input(\"Enter task name: \")\n",
    "        priority = int(input(\"Enter priority: \"))\n",
    "        self.c.execute('INSERT INTO tasks (name, priority) VALUES (?,?)', (name, priority))\n",
    "        self.conn.commit()\n",
    "        \n",
    "app = Todo()\n",
    "app.add_task()"
   ]
  },
  {
   "cell_type": "markdown",
   "metadata": {},
   "source": [
    "## 1.1.1.12 Reading data"
   ]
  },
  {
   "cell_type": "markdown",
   "metadata": {},
   "source": [
    "## sqlite3 – reading data (part 1)\n",
    "\n",
    "So far, we haven't displayed any information on the screen about the inserted tasks. It's time to change that. Let's see what’s in our database. We’ll first need the appropriate SQL statement, named `SELECT`.\n",
    "\n",
    "The `SELECT` statement allows you to read data from one or more tables. Its syntax looks like this:\n",
    "\n",
    "`SELECT column FROM table_name;`\n",
    "\n",
    "or\n",
    "\n",
    "`SELECT column1, column2, column3, …, columnN FROM table_name;`\n",
    "\n",
    "or\n",
    "\n",
    "`SELECT * FROM table_name;`\n",
    "\n",
    "  \n",
    "\n",
    "In the first variant, we decide to read the values saved in only one column. If we'd like to read only the names of the tasks saved in the `tasks` table, we could use the following query:\n",
    "\n",
    "`SELECT name FROM tasks;`\n",
    "\n",
    "The second variant allows you to read values from more columns. If we'd like to read the task names and their priorities, we could use the following query:\n",
    "\n",
    "`SELECT name, priority FROM tasks;`\n",
    "\n",
    "If we don’t have any specific requirements, we can read the values from all columns:\n",
    "\n",
    "`SELECT * FROM tasks;`\n",
    "\n",
    "The last variant will display the values saved in the `id`, `name` and `priority` columns."
   ]
  },
  {
   "cell_type": "markdown",
   "metadata": {},
   "source": [
    "## sqlite3 – reading data (part 2)\n",
    "\n",
    "It probably won’t surprise you to learn that reading data saved in the database is done with the well-known `Cursor` object. After calling the `execute` method with the appropriate `SELECT` statement, the `Cursor` object is treated as an iterator. Look at the code in the editor.\n",
    "\n",
    "The variable `row` in each iteration takes a row in the form of a tuple. Access to individual columns is done using an index, e.g., `print (row [0])` will display the values saved in the `id` column."
   ]
  },
  {
   "cell_type": "code",
   "execution_count": 9,
   "metadata": {},
   "outputs": [
    {
     "name": "stdout",
     "output_type": "stream",
     "text": [
      "(1, 'My first task', 1)\n",
      "(2, 'My first task', 1)\n",
      "(3, 'My second task', 2)\n",
      "(4, 'My third task', 3)\n",
      "(5, 'python', 1)\n"
     ]
    }
   ],
   "source": [
    "import sqlite3\n",
    "\n",
    "conn = sqlite3.connect('todo.db')\n",
    "c = conn.cursor()\n",
    "for row in c.execute('SELECT * FROM tasks'):\n",
    "    print(row)\n",
    "conn.close()"
   ]
  },
  {
   "cell_type": "markdown",
   "metadata": {},
   "source": [
    "## sqlite3 – reading data (part 3)\n",
    "\n",
    "If you don't want to treat the `Cursor` object as an iterator, you can use its method called `fetchall`. The `fetchall` method fetches all records (those not yet fetched from the query result). Look at the code in the editor.\n",
    "\n",
    "**The `fetchall` method is less efficient than the iterator, because it reads all records into the memory and then returns a list of tuples**. For small amounts of data, it doesn't matter, but if your table contains a huge number of records, this can cause memory issues.\n",
    "\n",
    "**NOTE:** The `fetchall` method returns an empty list when no rows are available."
   ]
  },
  {
   "cell_type": "code",
   "execution_count": 11,
   "metadata": {},
   "outputs": [
    {
     "name": "stdout",
     "output_type": "stream",
     "text": [
      "(1, 'My first task', 1)\n",
      "(2, 'My first task', 1)\n",
      "(3, 'My second task', 2)\n",
      "(4, 'My third task', 3)\n",
      "(5, 'python', 1)\n"
     ]
    }
   ],
   "source": [
    "import sqlite3\n",
    "\n",
    "conn = sqlite3.connect('todo.db')\n",
    "c = conn.cursor()\n",
    "c.execute('SELECT * FROM tasks')\n",
    "rows = c.fetchall()\n",
    "for row in rows:\n",
    "    print(row)\n",
    "conn.close()"
   ]
  },
  {
   "cell_type": "markdown",
   "metadata": {},
   "source": [
    "## sqlite3 – reading data (part 4)\n",
    "\n",
    "In addition to the iterator and the `fetchall` method, the `Cursor` object provides a very useful method called `fetchone` to retrieve the next available record. Look at the code in the editor.\n",
    "\n",
    "**NOTE:** The `fetchone` method returns `None` if there is no data to read."
   ]
  },
  {
   "cell_type": "code",
   "execution_count": 13,
   "metadata": {},
   "outputs": [
    {
     "name": "stdout",
     "output_type": "stream",
     "text": [
      "(1, 'My first task', 1)\n",
      "(2, 'My first task', 1)\n"
     ]
    }
   ],
   "source": [
    "import sqlite3\n",
    "\n",
    "conn = sqlite3.connect('todo.db')\n",
    "c = conn.cursor()\n",
    "c.execute('SELECT * FROM tasks')\n",
    "row = c.fetchone()\n",
    "print(row)\n",
    "row = c.fetchone()\n",
    "print(row)\n",
    "conn.close()"
   ]
  },
  {
   "cell_type": "markdown",
   "metadata": {},
   "source": [
    "## 1.2.1.1 LAB: sqlite3 - Lab 1"
   ]
  },
  {
   "cell_type": "markdown",
   "metadata": {},
   "source": [
    "## Level of difficulty\n",
    "\n",
    "Easy\n",
    "\n",
    "## Estimated time\n",
    "\n",
    "15 minutes\n",
    "\n",
    "## Objectives\n",
    "\n",
    "-   improving the student's skills in interacting with the SQLite database;\n",
    "-   using known methods of the `Cursor` object.\n",
    "\n",
    "## Scenario\n",
    "\n",
    "Our `TODO` application requires you to add a little security and display the data saved in the database. Your task is to implement the following functionalities:\n",
    "\n",
    "1.  Create a `find_task` method, which takes the task name as its argument. The method should return the record found or `None` otherwise.\n",
    "2.  Block the ability to enter an empty task (the name cannot be an empty string).\n",
    "3.  Block the ability to enter a task priority less than 1.\n",
    "4.  Use the `find_task` method to block the ability to enter a task with the same name.\n",
    "5.  Create a method called `show_tasks`, responsible for displaying all tasks saved in the database.\n",
    "\n",
    "**Test data:**\n",
    "\n",
    "## Example input:\n",
    "\n",
    "`Enter task name: My first task`\n",
    "\n",
    "`Enter priority: 1`\n",
    "\n",
    "## Example output:\n",
    "\n",
    "`(1, 'My first task', 1)`\n",
    "\n",
    "## Example input:\n",
    "\n",
    "`Enter task name: My second task`\n",
    "\n",
    "`Enter priority: 2`\n",
    "\n",
    "## Example output:\n",
    "\n",
    "`(1, 'My first task', 1)`\n",
    "\n",
    "`(2, 'My second task', 2)`\n",
    "\n",
    "## Example input:\n",
    "\n",
    "`Enter task name: My first task`\n",
    "\n",
    "`Enter priority: 1`\n",
    "\n",
    "## Example output:\n",
    "\n",
    "`(1, 'My first task', 1)`\n",
    "\n",
    "`(2, 'My second task', 2)`"
   ]
  },
  {
   "cell_type": "code",
   "execution_count": 68,
   "metadata": {},
   "outputs": [
    {
     "name": "stdout",
     "output_type": "stream",
     "text": [
      "(3, 'My second task', 2)\n",
      "(1, 'My first task', 1)\n",
      "(2, 'My first task', 1)\n",
      "(3, 'My second task', 2)\n",
      "(4, 'My third task', 3)\n",
      "(5, 'python', 1)\n",
      "(6, 'test', 100)\n",
      "Enter task name: \n",
      "Enter priority: 100\n",
      "Error! Please enter again!\n",
      "Enter task name: test2\n",
      "Enter priority: -1\n",
      "Error! Please enter again!\n",
      "Enter task name: test2\n",
      "Enter priority: 101\n"
     ]
    }
   ],
   "source": [
    "import sqlite3\n",
    "\n",
    "class Todo:\n",
    "    def __init__(self):\n",
    "        self.conn = sqlite3.connect('todo.db')\n",
    "        self.c = self.conn.cursor()\n",
    "        self.create_task_table()\n",
    "        \n",
    "    def create_task_table(self):\n",
    "        self.c.execute('''CREATE TABLE IF NOT EXISTS tasks(\n",
    "        id INTEGER PRIMARY KEY,\n",
    "        name TEXT NOT NULL,M\n",
    "        priority INTEGER NOT NULL\n",
    "        )''')\n",
    "        \n",
    "    def add_task(self):\n",
    "        name = input(\"Enter task name: \")\n",
    "        priority = int(input(\"Enter priority: \"))\n",
    "        \n",
    "        if not (self.is_task_exist(name)) and name != '' and priority > 1:\n",
    "            self.c.execute('INSERT INTO tasks (name, priority) VALUES (?,?)', (name, priority))\n",
    "            self.conn.commit()\n",
    "        else:\n",
    "            print(\"Error! Please enter again!\")\n",
    "            self.add_task()\n",
    "            \n",
    "    def find_task(self, name):\n",
    "        self.c.execute('SELECT * FROM tasks')\n",
    "        rows = self.c.fetchall()\n",
    "        name_list = []\n",
    "        for row in rows:\n",
    "            name_list.append(row[1])\n",
    "        if name in name_list:\n",
    "            return rows[name_list.index(name)]\n",
    "        return None\n",
    "    \n",
    "    def is_task_exist(self, name):\n",
    "        self.c.execute('SELECT * FROM tasks')\n",
    "        rows = self.c.fetchall()\n",
    "        name_list = []\n",
    "        for row in rows:\n",
    "            name_list.append(row[1])\n",
    "        if name in name_list:\n",
    "            return True\n",
    "        return False\n",
    "    \n",
    "    def show_tasks(self):\n",
    "        for row in self.c.execute('SELECT * FROM tasks'):\n",
    "            print(row)\n",
    "\n",
    "todo = Todo()\n",
    "task = todo.find_task('My second task')\n",
    "print(task)\n",
    "todo.show_tasks()\n",
    "todo.add_task()"
   ]
  },
  {
   "cell_type": "markdown",
   "metadata": {},
   "source": [
    "## 1.3.1.1 Updating data"
   ]
  },
  {
   "cell_type": "markdown",
   "metadata": {},
   "source": [
    "## sqlite3 – updating data\n",
    "\n",
    "Each of the tasks created has its own priority, but what if we decide that one of them should be done earlier than the others. How can we increase its priority? We have to use the SQL statement called `UPDATE`.\n",
    "\n",
    "The `UPDATE` statement is used to modify existing records in the database. Its syntax is as follows:\n",
    "\n",
    "`UPDATE table_name`\n",
    "\n",
    "`SET column1 = value1, column2 = value2, column3 = value3, …, columnN = valueN`\n",
    "\n",
    "`WHERE condition;`\n",
    "\n",
    "If we'd like to set the priority to 20 for a task with `id`equal to 1, we can use the following query:\n",
    "\n",
    "`UPDATE tasks SET priority = 20 WHERE id = 1;`\n",
    "\n",
    "**NOTE:** If you forget about the `WHERE` clause, all data in the table will be updated.\n",
    "\n",
    "As before, we execute all SQL statements using the `execute` method. Look at the code in the editor."
   ]
  },
  {
   "cell_type": "code",
   "execution_count": 2,
   "metadata": {},
   "outputs": [],
   "source": [
    "import sqlite3\n",
    "\n",
    "conn = sqlite3.connect('todo.db')\n",
    "c = conn.cursor()\n",
    "c.execute('UPDATE tasks SET priority = ? WHERE id = ?', (20, 1))\n",
    "conn.commit()\n",
    "conn.close()"
   ]
  },
  {
   "cell_type": "markdown",
   "metadata": {},
   "source": [
    "## 1.3.1.2 Deleting data"
   ]
  },
  {
   "cell_type": "markdown",
   "metadata": {},
   "source": [
    "## sqlite3 – deleting data\n",
    "\n",
    "After completing a task, we would like to remove it from our database. To do this, we must use the SQL statement called `DELETE`:\n",
    "\n",
    "`DELETE FROM table_name WHERE condition;`\n",
    "\n",
    "Let's look at what removing the task with `id = 1`might look like:\n",
    "\n",
    "`DELETE FROM tasks WHERE id = 1;`\n",
    "\n",
    "**NOTE:** If you forget about the `WHERE` clause, all data in the table will be deleted.\n",
    "\n",
    "Look at the code in the editor to see how to delete a record using the `sqlite3` module."
   ]
  },
  {
   "cell_type": "code",
   "execution_count": 3,
   "metadata": {},
   "outputs": [],
   "source": [
    "import sqlite3\n",
    "\n",
    "conn = sqlite3.connect('todo.db')\n",
    "c = conn.cursor()\n",
    "c.execute('DELETE FROM tasks WHERE id = ?', (1,))\n",
    "conn.commit()\n",
    "conn.close()"
   ]
  },
  {
   "cell_type": "markdown",
   "metadata": {},
   "source": [
    "## Level of difficulty\n",
    "\n",
    "Easy\n",
    "\n",
    "## Estimated time\n",
    "\n",
    "45 minutes\n",
    "\n",
    "## Pre-requisites\n",
    "\n",
    "Lab 1.2.1.2 - sqlite - Lab 1\n",
    "\n",
    "## Objectives\n",
    "\n",
    "-   improving the student's skills in interacting with the SQLite database;\n",
    "-   using known SQL statements.\n",
    "\n",
    "## Scenario\n",
    "\n",
    "The application is almost ready. Let's add the missing functionalities to it:\n",
    "\n",
    "1.  Create a method called `change_priority`, responsible for updating task priority. The method should get the id of the task from the user and its new priority (greater than or equal to 1).\n",
    "2.  Create a method called `delete_task`, responsible for deleting single tasks. The method should get the task id from the user.\n",
    "3.  Implement a simple menu consisting of the following options:  \n",
    "      \n",
    "    `1. Show Tasks 2. Add Task 3. Change Priority 4. Delete Task 5. Exit`\n",
    "\n",
    "where:\n",
    "\n",
    "-   Show Tasks (calls the show\\_tasks method)\n",
    "-   Add Task (calls the add\\_task method)\n",
    "-   Change Priority (calls the change\\_priority method)\n",
    "-   Delete Task (calls the delete\\_task method)\n",
    "-   Exit (interrupts program execution)\n",
    "\n",
    "The program should obtain one of these options from the user, and then call the appropriate method of the `TODO` object. Choosing option 5 must terminate the program. A menu should be displayed in an infinite loop so that the user can choose an option multiple times."
   ]
  },
  {
   "cell_type": "code",
   "execution_count": 1,
   "metadata": {},
   "outputs": [
    {
     "name": "stdout",
     "output_type": "stream",
     "text": [
      "1. Show Tasks\n",
      "2. Add Task\n",
      "3. Change Priority\n",
      "4. Delete Task\n",
      "5. Exit\n",
      "Enter number: 1\n",
      "(2, 'My first task', 1)\n",
      "(3, 'My second task', 2)\n",
      "(4, 'My third task', 3)\n",
      "(5, 'python', 1)\n",
      "(6, 'test', 100)\n",
      "(7, 'test2', 101)\n",
      "(8, 'test3', 2)\n",
      "1. Show Tasks\n",
      "2. Add Task\n",
      "3. Change Priority\n",
      "4. Delete Task\n",
      "5. Exit\n",
      "Enter number: 2\n",
      "Enter task name: test4\n",
      "Enter priority: 4\n",
      "1. Show Tasks\n",
      "2. Add Task\n",
      "3. Change Priority\n",
      "4. Delete Task\n",
      "5. Exit\n",
      "Enter number: 1\n",
      "(2, 'My first task', 1)\n",
      "(3, 'My second task', 2)\n",
      "(4, 'My third task', 3)\n",
      "(5, 'python', 1)\n",
      "(6, 'test', 100)\n",
      "(7, 'test2', 101)\n",
      "(8, 'test3', 2)\n",
      "(9, 'test4', 4)\n",
      "1. Show Tasks\n",
      "2. Add Task\n",
      "3. Change Priority\n",
      "4. Delete Task\n",
      "5. Exit\n",
      "Enter number: 3\n",
      "Enter id: 4\n",
      "Enter priority: 16\n",
      "1. Show Tasks\n",
      "2. Add Task\n",
      "3. Change Priority\n",
      "4. Delete Task\n",
      "5. Exit\n",
      "Enter number: 1\n",
      "(2, 'My first task', 1)\n",
      "(3, 'My second task', 2)\n",
      "(4, 'My third task', 16)\n",
      "(5, 'python', 1)\n",
      "(6, 'test', 100)\n",
      "(7, 'test2', 101)\n",
      "(8, 'test3', 2)\n",
      "(9, 'test4', 4)\n",
      "1. Show Tasks\n",
      "2. Add Task\n",
      "3. Change Priority\n",
      "4. Delete Task\n",
      "5. Exit\n",
      "Enter number: 4\n",
      "Enter id: 8\n",
      "1. Show Tasks\n",
      "2. Add Task\n",
      "3. Change Priority\n",
      "4. Delete Task\n",
      "5. Exit\n",
      "Enter number: 1\n",
      "(2, 'My first task', 1)\n",
      "(3, 'My second task', 2)\n",
      "(4, 'My third task', 16)\n",
      "(5, 'python', 1)\n",
      "(6, 'test', 100)\n",
      "(7, 'test2', 101)\n",
      "(9, 'test4', 4)\n",
      "1. Show Tasks\n",
      "2. Add Task\n",
      "3. Change Priority\n",
      "4. Delete Task\n",
      "5. Exit\n",
      "Enter number: 5\n",
      "Bye!\n"
     ]
    }
   ],
   "source": [
    "import sqlite3\n",
    "\n",
    "class Todo:\n",
    "    def __init__(self):\n",
    "        self.conn = sqlite3.connect('todo.db')\n",
    "        self.c = self.conn.cursor()\n",
    "        self.create_task_table()\n",
    "        \n",
    "    def create_task_table(self):\n",
    "        self.c.execute('''CREATE TABLE IF NOT EXISTS tasks(\n",
    "        id INTEGER PRIMARY KEY,\n",
    "        name TEXT NOT NULL,M\n",
    "        priority INTEGER NOT NULL\n",
    "        )''')\n",
    "        \n",
    "    def add_task(self):\n",
    "        name = input(\"Enter task name: \")\n",
    "        priority = int(input(\"Enter priority: \"))\n",
    "        \n",
    "        if not (self.is_task_exist(name)) and name != '' and priority > 1:\n",
    "            self.c.execute('INSERT INTO tasks (name, priority) VALUES (?,?)', (name, priority))\n",
    "            self.conn.commit()\n",
    "        else:\n",
    "            print(\"Error! Please enter again!\")\n",
    "            self.add_task()\n",
    "            \n",
    "    def find_task(self, name):\n",
    "        self.c.execute('SELECT * FROM tasks')\n",
    "        rows = self.c.fetchall()\n",
    "        name_list = []\n",
    "        for row in rows:\n",
    "            name_list.append(row[1])\n",
    "        if name in name_list:\n",
    "            return rows[name_list.index(name)]\n",
    "        return None\n",
    "    \n",
    "    def is_task_exist(self, name):\n",
    "        self.c.execute('SELECT * FROM tasks')\n",
    "        rows = self.c.fetchall()\n",
    "        name_list = []\n",
    "        for row in rows:\n",
    "            name_list.append(row[1])\n",
    "        if name in name_list:\n",
    "            return True\n",
    "        return False\n",
    "    \n",
    "    def show_tasks(self):\n",
    "        for row in self.c.execute('SELECT * FROM tasks'):\n",
    "            print(row)\n",
    "\n",
    "    def change_priority(self):\n",
    "        id_value = input(\"Enter id: \")\n",
    "        priority = input(\"Enter priority: \")\n",
    "        self.c.execute('UPDATE tasks SET priority = ? WHERE id = ?', (priority,id_value))\n",
    "        self.conn.commit()\n",
    "        \n",
    "    def delete_task(self):\n",
    "        id_value = input(\"Enter id: \")\n",
    "        self.c.execute('DELETE FROM tasks WHERE id = ?', (id_value,))\n",
    "        self.conn.commit()\n",
    "\n",
    "\n",
    "def menu():\n",
    "    print('''1. Show Tasks\\n2. Add Task\\n3. Change Priority\\n4. Delete Task\\n5. Exit''')\n",
    "    choice = input(\"Enter number: \")\n",
    "    return choice\n",
    "\n",
    "todo = Todo()\n",
    "\n",
    "while (True):\n",
    "    choice = menu()\n",
    "    if choice == '1':\n",
    "        todo.show_tasks()\n",
    "    elif choice == '2':\n",
    "        todo.add_task()\n",
    "    elif choice == '3':\n",
    "        todo.change_priority()\n",
    "    elif choice == '4':\n",
    "        todo.delete_task()\n",
    "    elif choice == '5':\n",
    "        print(\"Bye!\")\n",
    "        todo.conn.close()\n",
    "        break"
   ]
  },
  {
   "cell_type": "markdown",
   "metadata": {},
   "source": [
    "## 2.1.1.1 File processing - XML files"
   ]
  },
  {
   "cell_type": "markdown",
   "metadata": {},
   "source": [
    "## XML processing in Python\n",
    "\n",
    "Python is commonly used to process various types of data. Perhaps, while working as a programmer, you'll have to read or create a data file in the XML format. Soon, doing that will be a piece of cake.\n",
    "\n",
    "The standard Python library offers some interesting modules for working with XML:\n",
    "\n",
    "-   __xml.etree.ElementTree__ – has a very simple API for analyzing and creating XML data. It's an excellent choice for people who have never worked with the Document Object Model (DOM) before.\n",
    "-   __xml.dom.minidom__ – is the minimum implementation of the Document Object Model (DOM). Using the DOM, the approach to an XML document is slightly different, because it's parsed into a tree structure in which each node is an object.\n",
    "-   __xml.sax__ – SAX is an acronym for “Simple API for XML”. SAX is an interface in Python for event-driven XML document analysis. Unlike the above modules, analyzing a simple XML document using this module requires more work.\n",
    "\n",
    "In this course, you'll learn how to create and process XML documents using the `xml.etree.ElementTree` module. Let's not waste any time. Let's go!"
   ]
  },
  {
   "cell_type": "markdown",
   "metadata": {},
   "source": [
    "## 2.1.1.2 What is XML?"
   ]
  },
  {
   "cell_type": "markdown",
   "metadata": {},
   "source": [
    "## What is XML?\n",
    "\n",
    "Extensible Markup Language (XML) is a markup language intended for storing and transporting data, e.g., by systems using the SOAP communication protocol. One of its main advantages is the ability to define your own tags that make the document more readable to humans. XML is a standard recommended by the W3C organization. Let's look at what elements XML documents contain:\n",
    "\n",
    "-   __prolog__ – the first (optional) line of the document. In the prolog, you can specify character encoding, e.g., `<?xml version=\"1.0\" encoding=\"ISO-8859-2\"?>` changes the default character encoding (UTF-8) to ISO-8859-2.\n",
    "-   __root element__ – the XML document must have one root element that contains all other elements. In the example below, the main element is the `data` tag.\n",
    "-   __elements__ – these consist of opening and closing tags. The elements include text, attributes, and other child elements. In the example below, we can find the `book` element with the `title` attribute and two child elements (`author` and `year`).\n",
    "-   __attributes__ – these are placed in the opening tags. They consist of key-value pairs, e.g., `title = \"The Little Prince\"`.\n",
    "\n",
    "__NOTE:__ Each open XML tag must have a corresponding closing tag."
   ]
  },
  {
   "cell_type": "code",
   "execution_count": null,
   "metadata": {},
   "outputs": [],
   "source": [
    "<?xml version=\"1.0\"?>\n",
    "<data>\n",
    "    <book title=\"The Little Prince\">\n",
    "        <author>Antoine de Saint-Exupéry</author>\n",
    "        <year>1943</year>\n",
    "    </book>\n",
    "    <book title=\"Hamlet\">\n",
    "        <author>William Shakespeare</author>\n",
    "        <year>1603</year>\n",
    "    </book>\n",
    "</data>"
   ]
  },
  {
   "cell_type": "markdown",
   "metadata": {},
   "source": [
    "## 2.1.1.3 XML parsing"
   ]
  },
  {
   "cell_type": "markdown",
   "metadata": {},
   "source": [
    "## XML parsing (part 1)\n",
    "\n",
    "Processing XML files in Python is very easy thanks to the `ElementTree` class provided by the `xml.etree.ElementTree module`. The `ElementTree` object is responsible for presenting the XML document in the form of a tree on which we can move up or down.\n",
    "\n",
    "First, we need to import the appropriate module and define an alias for it. It's common to use the alias ET, but of course you can give it any name you like. To create a tree (an `ElementTree` object) from an existing XML document, pass it to the `parse` method as follows:"
   ]
  },
  {
   "cell_type": "code",
   "execution_count": null,
   "metadata": {},
   "outputs": [],
   "source": [
    "import xml.etree.ElementTree as ET\n",
    "\n",
    "tree = ET.parse('books.xml')\n",
    "root = tree.getroot()"
   ]
  },
  {
   "cell_type": "markdown",
   "metadata": {},
   "source": [
    "The `getroot` method returns the root element. With access to the root element, we can reach any elements in the document. Each of these elements is represented by a class called `Element`."
   ]
  },
  {
   "cell_type": "markdown",
   "metadata": {},
   "source": [
    "In addition to the `parse` method, we can use the method called `fromstring`, which, as an argument, takes XML as a string:"
   ]
  },
  {
   "cell_type": "code",
   "execution_count": null,
   "metadata": {},
   "outputs": [],
   "source": [
    "import xml.etree.ElementTree as ET\n",
    "\n",
    "root = ET.fromstring(your_xml_as_string)"
   ]
  },
  {
   "cell_type": "markdown",
   "metadata": {},
   "source": [
    "__NOTE:__ The `fromstring` method doesn't return the `ElementTree` object, but instead returns the root element represented by the `Element` class."
   ]
  },
  {
   "cell_type": "markdown",
   "metadata": {},
   "source": [
    "## XML parsing (part 2)\n",
    "\n",
    "You already know how to access the root element. Let's use it to visit the elements of our tree - look at the code in the editor.\n",
    "\n",
    "Result:"
   ]
  },
  {
   "cell_type": "code",
   "execution_count": null,
   "metadata": {},
   "outputs": [],
   "source": [
    "The root tag is: data\n",
    "The root has the following children:\n",
    "book {'title': 'The Little Prince'}\n",
    "book {'title': 'Hamlet'}"
   ]
  },
  {
   "cell_type": "markdown",
   "metadata": {},
   "source": [
    "The root element and all its children are `Element` objects. In the example above, we use the following properties:\n",
    "\n",
    "__tag__ – this returns the tag name as a string\n",
    "\n",
    "__attrib__ – this returns all attributes in the tag as a dictionary. To retrieve the value of a single attribute, use its key, e.g., child.attrib \\['title'\\]."
   ]
  },
  {
   "cell_type": "code",
   "execution_count": 4,
   "metadata": {},
   "outputs": [
    {
     "name": "stdout",
     "output_type": "stream",
     "text": [
      "The root tag is:  data\n",
      "The root has the following children: \n",
      "book {'title': 'The Little Prince'}\n",
      "book {'title': 'Hamlet'}\n"
     ]
    }
   ],
   "source": [
    "import xml.etree.ElementTree as ET\n",
    "\n",
    "tree = ET.parse('books.xml')\n",
    "root = tree.getroot()\n",
    "print('The root tag is: ', root.tag)\n",
    "print('The root has the following children: ')\n",
    "for child in root:\n",
    "    print(child.tag, child.attrib)"
   ]
  },
  {
   "cell_type": "markdown",
   "metadata": {},
   "source": [
    "## XML parsing (part 3)\n",
    "\n",
    "In addition to iterating over tree elements, we can access them directly using indexes. Take a look at the example below in which we use the current `book` element to retrieve text from its child elements. Look at the code in the editor.\n",
    "\n",
    "During each iteration, we refer to the children of the book element by using indexes. Index 0 refers to the first child of the book element, while index 1 refers to its second child. Displaying text is possible thanks to the text property, available in the Element object.\n",
    "\n",
    "NOTE: Indexes are also used in deeper nesting, e.g., root [0] [0] .text returns the first book element, and then displays the text placed in its first child."
   ]
  },
  {
   "cell_type": "code",
   "execution_count": 7,
   "metadata": {},
   "outputs": [
    {
     "name": "stdout",
     "output_type": "stream",
     "text": [
      "My books:\n",
      "\n",
      "Title:  The Little Prince\n",
      "Author:  Antoine de Saint-Exupéry\n",
      "Year:  1943 \n",
      "\n",
      "Title:  Hamlet\n",
      "Author:  William Shakespeare\n",
      "Year:  1603 \n",
      "\n"
     ]
    }
   ],
   "source": [
    "import xml.etree.ElementTree as ET\n",
    "\n",
    "tree = ET.parse('books.xml')\n",
    "root = tree.getroot()\n",
    "print('My books:\\n')\n",
    "for book in root:\n",
    "    print('Title: ', book.attrib['title'])\n",
    "    print('Author: ', book[0].text)\n",
    "    print('Year: ', book[1].text, '\\n')"
   ]
  },
  {
   "cell_type": "markdown",
   "metadata": {},
   "source": [
    "## XML parsing (part 4)\n",
    "\n",
    "The `xml.etree.ElementTree` module, or more precisely, the `Element` class, provides several useful methods for finding elements in an XML document. Let's start with the method called `iter`.\n",
    "\n",
    "The `iter` method returns all elements by having the tag passed as an argument. The element that calls it is treated as the main element from which the search starts. In order to find all matches, the iterator iterates recursively through all child elements and their nested elements."
   ]
  },
  {
   "cell_type": "code",
   "execution_count": 9,
   "metadata": {},
   "outputs": [
    {
     "name": "stdout",
     "output_type": "stream",
     "text": [
      "Antoine de Saint-Exupéry\n",
      "William Shakespeare\n"
     ]
    }
   ],
   "source": [
    "import xml.etree.ElementTree as ET\n",
    "\n",
    "tree = ET.parse('books.xml')\n",
    "root = tree.getroot()\n",
    "for author in root.iter('author'):\n",
    "    print(author.text)"
   ]
  },
  {
   "cell_type": "markdown",
   "metadata": {},
   "source": [
    "## XML parsing (part 5)\n",
    "\n",
    "The `Element` object has a method called `findall` to search for direct child elements. **Unlike the `iter` method, the `findall` method only searches the children at the first nesting level**. Take a look at the example in the editor.\n",
    "\n",
    "The example doesn't return any results, because the `findall` method can only iterate over the `book` elements that are the closest children of the root element. The correct code looks like this:"
   ]
  },
  {
   "cell_type": "code",
   "execution_count": 10,
   "metadata": {},
   "outputs": [
    {
     "name": "stdout",
     "output_type": "stream",
     "text": [
      "The Little Prince\n",
      "Hamlet\n"
     ]
    }
   ],
   "source": [
    "import xml.etree.ElementTree as ET\n",
    "\n",
    "tree = ET.parse('books.xml')\n",
    "root = tree.getroot()\n",
    "for book in root.findall('book'):\n",
    "    print(book.get('title'))"
   ]
  },
  {
   "cell_type": "markdown",
   "metadata": {},
   "source": [
    "To display the value of the title attributes, we use the `get` method, which looks much better than a `book.attrib ['title']` call. Its use is very simple: just enter the name of the attribute and optionally (as a second argument) the value that will be returned if the attribute is not found (the default is `None`).\n",
    "\n",
    "__NOTE:__ The `findall` method also accepts an XPath expression. We encourage you to deepen your knowledge of XPath expressions and apply it to the example shown."
   ]
  },
  {
   "cell_type": "markdown",
   "metadata": {},
   "source": [
    "## XML parsing (part 6)\n",
    "\n",
    "Another useful method used to parse an XML document is a method called `find`. The `find` method returns the first child element containing the specified tag or matching XPath expression. Look at the code in the editor.\n",
    "\n",
    "Result:\n",
    "\n",
    "`The Little Prince`\n",
    "\n",
    "In the example, we use the find method to `find` the first child element containing the `book` tag, and then display the value of its title attribute. Note that the element from which we start the search is the root element."
   ]
  },
  {
   "cell_type": "code",
   "execution_count": 12,
   "metadata": {},
   "outputs": [
    {
     "name": "stdout",
     "output_type": "stream",
     "text": [
      "The Little Prince\n"
     ]
    }
   ],
   "source": [
    "import xml.etree.ElementTree as ET\n",
    "\n",
    "tree = ET.parse('books.xml')\n",
    "root = tree.getroot()\n",
    "print(root.find('book').get('title'))"
   ]
  },
  {
   "cell_type": "markdown",
   "metadata": {},
   "source": [
    "## 2.2.1.1 LAB: XML – Lab 1"
   ]
  },
  {
   "cell_type": "markdown",
   "metadata": {},
   "source": [
    "## Level of difficulty\n",
    "\n",
    "Easy\n",
    "\n",
    "## Estimated time\n",
    "\n",
    "30 minutes\n",
    "\n",
    "## Objectives\n",
    "\n",
    "-   improving the student's skills in parsing XML documents;\n",
    "-   using known methods of the `Element` object;\n",
    "\n",
    "## Scenario\n",
    "\n",
    "Have you seen the weather forecast for the coming week? It’ll be an extremely sunny and warm week. Familiarize yourself with the data in the `forecast.xml` file and then complete the following tasks:\n",
    "\n",
    "1.  Create a class named `TemperatureConverter` and its `convert_celsius_to_fahrenheit` method. The `convert_celsius_to_fahrenheit` method should convert the temperature from Celsius to Fahrenheit. Use the following formula:  \n",
    "      \n",
    "    `F = 9/5 \\* C + 32`.\n",
    "  \n",
    "3.  Create a class named `ForecastXmlParser` and its `parse` method responsible for reading data from `forecast.xml`. Use the `TemperatureConverter` class to convert the temperature from Celsius to Fahrenheit (rounded to one decimal place). The `parse` method should print the following results:  \n",
    "      \n",
    "    ```\n",
    "    \n",
    "    Monday: 28 Celsius, 82.4 Fahrenheit\n",
    "    \n",
    "    Tuesday: 27 Celsius, 80.6 Fahrenheit\n",
    "    \n",
    "    Wednesday: 28 Celsius, 82.4 Fahrenheit\n",
    "    \n",
    "    Thursday: 29 Celsius, 84.2 Fahrenheit\n",
    "    \n",
    "    Friday: 29 Celsius, 84.2 Fahrenheit\n",
    "    \n",
    "    Saturday: 32 Celsius, 89.6 Fahrenheit\n",
    "    \n",
    "    Sunday: 33 Celsius, 91.4 Fahrenheit\n",
    "       \n",
    "    ```"
   ]
  },
  {
   "cell_type": "markdown",
   "metadata": {},
   "source": [
    "- xml file content"
   ]
  },
  {
   "cell_type": "code",
   "execution_count": null,
   "metadata": {},
   "outputs": [],
   "source": [
    "<?xml version=\"1.0\"?>\n",
    "<data>\n",
    "    <item>\n",
    "        <day>Monday</day>\n",
    "        <temperature_in_celsius>28</temperature_in_celsius>\n",
    "    </item>\n",
    "    <item>\n",
    "        <day>Tuesday</day>\n",
    "        <temperature_in_celsius>27</temperature_in_celsius>\n",
    "    </item>\n",
    "    <item>\n",
    "        <day>Wednesday</day>\n",
    "        <temperature_in_celsius>28</temperature_in_celsius>\n",
    "    </item>\n",
    "    <item>\n",
    "        <day>Thursday</day>\n",
    "        <temperature_in_celsius>29</temperature_in_celsius>\n",
    "    </item>\n",
    "    <item>\n",
    "        <day>Friday</day>\n",
    "        <temperature_in_celsius>29</temperature_in_celsius>\n",
    "    </item>\n",
    "    <item>\n",
    "        <day>Saturday</day>\n",
    "        <temperature_in_celsius>31</temperature_in_celsius>\n",
    "    </item>\n",
    "    <item>\n",
    "        <day>Sunday</day>\n",
    "        <temperature_in_celsius>32</temperature_in_celsius>\n",
    "    </item>\n",
    "</data>"
   ]
  },
  {
   "cell_type": "markdown",
   "metadata": {},
   "source": [
    "- codes"
   ]
  },
  {
   "cell_type": "code",
   "execution_count": 145,
   "metadata": {},
   "outputs": [
    {
     "name": "stdout",
     "output_type": "stream",
     "text": [
      "Monday: 28 Celsius, 82.4 Fahenheit\n",
      "Tuesday: 27 Celsius, 80.6 Fahenheit\n",
      "Wednesday: 28 Celsius, 82.4 Fahenheit\n",
      "Thursday: 29 Celsius, 84.2 Fahenheit\n",
      "Friday: 29 Celsius, 84.2 Fahenheit\n",
      "Saturday: 31 Celsius, 87.8 Fahenheit\n",
      "Sunday: 32 Celsius, 89.6 Fahenheit\n"
     ]
    }
   ],
   "source": [
    "import xml.etree.ElementTree as ET\n",
    "\n",
    "class TemperatureConverter:       \n",
    "    def convert_celsuis_to_fahrenheit(self, celsius):\n",
    "        self.f = 9/5*celsius+32\n",
    "        return self.f\n",
    "\n",
    "class ForcastXmlParser():\n",
    "    def __init__(self, converter):\n",
    "        self.converter = converter\n",
    "    def parse(self, source):\n",
    "        tree = ET.parse(source)\n",
    "        root = tree.getroot()\n",
    "        for item in root:\n",
    "            f = self.converter.convert_celsuis_to_fahrenheit(int(item[1].text))\n",
    "            new_f = round(f,1)\n",
    "            print(f'{item[0].text}: {item[1].text} Celsius, {new_f} Fahenheit')\n",
    "\n",
    "converter = TemperatureConverter()           \n",
    "F = ForcastXmlParser(converter)\n",
    "F.parse('forecast.xml')\n"
   ]
  },
  {
   "cell_type": "markdown",
   "metadata": {},
   "source": [
    "## 2.3.1.1 Modifying an XML document"
   ]
  },
  {
   "cell_type": "markdown",
   "metadata": {},
   "source": [
    "## Modifying an XML document (part 1)\n",
    "\n",
    "You've already learned how to parse an XML document. Time for the next step. Let's modify the element tree and create a new XML file based on it with the following movie data:"
   ]
  },
  {
   "cell_type": "code",
   "execution_count": null,
   "metadata": {},
   "outputs": [],
   "source": [
    "<?xml version=\"1.0\"?>\n",
    "<data>\n",
    "    <movie title=\"The Little Prince\" rate=\"5\"></movie>\n",
    "    <movie title=\"Hamlet\" rate=\"5\"></movie>\n",
    "</data>"
   ]
  },
  {
   "cell_type": "markdown",
   "metadata": {},
   "source": [
    "Are you wondering if it will be difficult to convert book data to movie data? Thanks to the `xml.etree.ElementTree` module. To change the tag of the Element object, we must assign a new value to its tag "
   ]
  },
  {
   "cell_type": "code",
   "execution_count": 146,
   "metadata": {},
   "outputs": [
    {
     "name": "stdout",
     "output_type": "stream",
     "text": [
      "movie {'title': 'The Little Prince'}\n",
      "author : Antoine de Saint-Exupéry\n",
      "year : 1943\n",
      "movie {'title': 'Hamlet'}\n",
      "author : William Shakespeare\n",
      "year : 1603\n"
     ]
    }
   ],
   "source": [
    "import xml.etree.ElementTree as ET\n",
    "\n",
    "tree = ET.parse('books.xml')\n",
    "root = tree.getroot()\n",
    "for child in root:\n",
    "    child.tag = 'movie'\n",
    "    print(child.tag, child.attrib)\n",
    "    for sub_child in child:\n",
    "        print(sub_child.tag, ':', sub_child.text)"
   ]
  },
  {
   "cell_type": "markdown",
   "metadata": {},
   "source": [
    "## Modifying an XML document (part 2)\n",
    "\n",
    "Our XML has a few unnecessary elements, such as `author` and `year`. In order to remove them, we need to use the method called `remove`, provided by the `Element` class. Look at the code in the editor."
   ]
  },
  {
   "cell_type": "code",
   "execution_count": 148,
   "metadata": {},
   "outputs": [
    {
     "name": "stdout",
     "output_type": "stream",
     "text": [
      "movie {'title': 'The Little Prince'}\n",
      "movie {'title': 'Hamlet'}\n"
     ]
    }
   ],
   "source": [
    "import xml.etree.ElementTree as ET\n",
    "\n",
    "tree = ET.parse('books.xml')\n",
    "root = tree.getroot()\n",
    "for child in root:\n",
    "    child.tag = 'movie'\n",
    "    child.remove(child.find('author'))\n",
    "    child.remove(child.find('year'))\n",
    "    print(child.tag, child.attrib)\n",
    "    for sub_child in child:\n",
    "        print(sub_child.tag, ':', sub_child.text)"
   ]
  },
  {
   "cell_type": "markdown",
   "metadata": {},
   "source": [
    "## Modifying an XML document (part 3)\n",
    "\n",
    "Do you remember the `get` method that gets the value of the attribute? The `Element` object also has a method called `set`, which allows you to set any attribute."
   ]
  },
  {
   "cell_type": "code",
   "execution_count": 153,
   "metadata": {},
   "outputs": [
    {
     "name": "stdout",
     "output_type": "stream",
     "text": [
      "movie {'title': 'The Little Prince', 'rate': '5'}\n",
      "movie {'title': 'Hamlet', 'rate': '5'}\n"
     ]
    }
   ],
   "source": [
    "import xml.etree.ElementTree as ET\n",
    "\n",
    "tree = ET.parse('books.xml')\n",
    "root = tree.getroot()\n",
    "for child in root:\n",
    "    child.tag = 'movie'\n",
    "    child.remove(child.find('author'))\n",
    "    child.remove(child.find('year'))\n",
    "    child.set('rate', '5')\n",
    "    print(child.tag, child.attrib)\n",
    "    for sub_child in child:\n",
    "        print(sub_child.tag, ':' ,sub_child.text)"
   ]
  },
  {
   "cell_type": "markdown",
   "metadata": {},
   "source": [
    "## Modifying an XML document (part 4)\n",
    "\n",
    "You must have noticed that the modified XML document is not saved anywhere. To save all the changes we’ve made to the tree, we have to use the method called `write`.\n",
    "\n",
    "The write method has only one required argument, which is a file name of the output XML file, or a file object opened for writing. In addition, we can define character encoding by using the second argument (the default is US-ASCII). To add a prolog to our document, we must pass `True` in the third argument.\n",
    "\n",
    "Take a look at the example in the editor, in which we save the modified tree in a file called `movies.xml`.\n",
    "\n",
    "The created file looks like this:"
   ]
  },
  {
   "cell_type": "code",
   "execution_count": 154,
   "metadata": {},
   "outputs": [
    {
     "name": "stdout",
     "output_type": "stream",
     "text": [
      "movie {'title': 'The Little Prince', 'rate': '5'}\n",
      "movie {'title': 'Hamlet', 'rate': '5'}\n"
     ]
    }
   ],
   "source": [
    "import xml.etree.ElementTree as ET\n",
    "\n",
    "tree = ET.parse('books.xml')\n",
    "root = tree.getroot()\n",
    "for child in root:\n",
    "    child.tag = 'movie'\n",
    "    child.remove(child.find('author'))\n",
    "    child.remove(child.find('year'))\n",
    "    child.set('rate', '5')\n",
    "    print(child.tag, child.attrib)\n",
    "    for sub_child in child:\n",
    "        print(sub_child.tag, ':' ,sub_child.text)\n",
    "        \n",
    "tree.write('movie.xml', 'UTF-8', True)"
   ]
  },
  {
   "cell_type": "markdown",
   "metadata": {},
   "source": [
    "The created file looks like this:"
   ]
  },
  {
   "cell_type": "code",
   "execution_count": null,
   "metadata": {},
   "outputs": [],
   "source": [
    "<?xml version='1.0' encoding='UTF-8'?>\n",
    "<data><movie rate=\"5\" title=\"The Little Prince\" /><movie rate=\"5\" title=\"Hamlet\" /></data>"
   ]
  },
  {
   "cell_type": "markdown",
   "metadata": {},
   "source": [
    "## 2.3.1.5 Building an XML document"
   ]
  },
  {
   "cell_type": "markdown",
   "metadata": {},
   "source": [
    "## Building an XML document (part 1)\n",
    "\n",
    "During this course, you haven’t had the opportunity to create an `Element` object yourself. Let's see how to build an XML document in Python.\n",
    "\n",
    "The `Element` class constructor takes two arguments. The first is the name of the tag to be created, while the second (optional) is the attribute dictionary. In the example in the editor, we've created the root element represented by a `data` tag with no attributes - look at the code.\n",
    "\n",
    "Result: `<data />`\n",
    "\n",
    "In the example above, we use the `dump` method, which allows us to debug either the whole tree or a single element."
   ]
  },
  {
   "cell_type": "code",
   "execution_count": 155,
   "metadata": {},
   "outputs": [
    {
     "name": "stdout",
     "output_type": "stream",
     "text": [
      "<data />\n"
     ]
    }
   ],
   "source": [
    "import xml.etree.ElementTree as ET\n",
    "\n",
    "root = ET.Element('data')\n",
    "ET.dump(root)"
   ]
  },
  {
   "cell_type": "markdown",
   "metadata": {},
   "source": [
    "## Building an XML document (part 2)\n",
    "\n",
    "In addition to the `Element` class, the `xml.etree.ElementTree` module offers a function for creating child elements called `SubElement`. The `SubElement` function takes three arguments.\n",
    "\n",
    "The first one defines the parent element, the second one defines the tag name, and the third (optional) defines the attributes of the element. Let's see how it looks in action and analyze the code in the editor.\n",
    "\n",
    "Result:\n",
    "\n",
    "`<data><movie rate=\"5\" title=\"The Little Prince\" /><movie rate=\"5\" title=\"Hamlet\" /></data>`\n",
    "\n",
    "In the example, we've added two child elements called `movie` to the root element. The created elements are objects of the `Element` class, so we can use all of the methods that we learned about during this course.\n",
    "\n",
    "__NOTE:__ To save a document using the `write` method, we need to have an `ElementTree` object. To do this, pass our root element to its constructor:\n",
    "\n",
    "`tree = ET.ElementTree(root)`"
   ]
  },
  {
   "cell_type": "code",
   "execution_count": 156,
   "metadata": {},
   "outputs": [
    {
     "name": "stdout",
     "output_type": "stream",
     "text": [
      "<movie rate=\"5\" title=\"The Little Prince\" />\n",
      "<data><movie rate=\"5\" title=\"The Little Prince\" /><movie rate=\"5\" title=\"Hamlet\" /></data>\n"
     ]
    }
   ],
   "source": [
    "import xml.etree.ElementTree as ET\n",
    "\n",
    "root = ET.Element('data')\n",
    "movie1 = ET.SubElement(root, 'movie', {'title': 'The Little Prince', 'rate': '5'})\n",
    "ET.dump(movie1)\n",
    "movie2 = ET.SubElement(root, 'movie', {'title': 'Hamlet', 'rate': '5'})\n",
    "ET.dump(root)"
   ]
  },
  {
   "cell_type": "markdown",
   "metadata": {},
   "source": [
    "## Level of difficulty\n",
    "\n",
    "Easy\n",
    "\n",
    "## Estimated time\n",
    "\n",
    "30 minutes\n",
    "\n",
    "## Objectives\n",
    "\n",
    "-   improving the student's skills in building an XML document;\n",
    "-   using the `Element` class and the `SubElement` function.\n",
    "\n",
    "## Scenario\n",
    "\n",
    "You are a programmer working for an online store. Your task is to build an XML document containing information about the three vegan products available in the store:"
   ]
  },
  {
   "cell_type": "code",
   "execution_count": null,
   "metadata": {},
   "outputs": [],
   "source": [
    "<?xml version=\"1.0\"?>\n",
    "<shop>\n",
    "    <category name=\"Vegan Products\">\n",
    "        <product name=\"Good Morning Sunshine\">\n",
    "            <type>cereals</type>\n",
    "            <producer>OpenEDG Testing Service</producer>\n",
    "            <price>9.90</price>\n",
    "            <currency>USD</currency>\n",
    "        </product>\n",
    "        <product name=\"Spaghetti Veganietto\">\n",
    "            <type>pasta</type>\n",
    "            <producer>Programmers Eat Pasta</producer>\n",
    "            <price>15.49</price>\n",
    "            <currency>EUR</currency>\n",
    "        </product>\n",
    "        <product name=\"Fantastic Almond Milk\">\n",
    "            <type>beverages</type>\n",
    "            <producer>Drinks4Coders Inc.</producer>\n",
    "            <price>19.75</price>\n",
    "            <currency>USD</currency>\n",
    "        </product>\n",
    "    </category>\n",
    "</shop>"
   ]
  },
  {
   "cell_type": "markdown",
   "metadata": {},
   "source": [
    "Save the document to the `shop.xml` file. Use UTF-8 character encoding and don't forget to add the prolog to the beginning of the file."
   ]
  },
  {
   "cell_type": "code",
   "execution_count": 164,
   "metadata": {},
   "outputs": [
    {
     "name": "stdout",
     "output_type": "stream",
     "text": [
      "<shop><category name=\"Vegan Products\"><product name=\"Good Morning Sunshine\"><type>cereals</type><producer>OpenEDG Testing Service</producer><price>9.90</price><currency>USD</currency></product><product name=\"Spaghetti Veganietto\"><type>pasta</type><producer>Programmers Eat Pasta</producer><price>15.49</price><currency>EUR</currency></product><product name=\"Fantastic Almond Milk\"><type>beverages</type><producer>Fantastic Almond Milk</producer><price>19.75</price><currency>USD</currency></product></category></shop>\n"
     ]
    }
   ],
   "source": [
    "import xml.etree.ElementTree as ET\n",
    "\n",
    "product_names = ['Good Morning Sunshine', 'Spaghetti Veganietto', 'Fantastic Almond Milk']\n",
    "types = ['cereals', 'pasta', 'beverages']\n",
    "producers = ['OpenEDG Testing Service', 'Programmers Eat Pasta', 'Fantastic Almond Milk']\n",
    "prices = ['9.90', '15.49', '19.75']\n",
    "currency = ['USD', 'EUR']\n",
    "\n",
    "root = ET.Element('shop')\n",
    "category = ET.SubElement(root, 'category', {'name':'Vegan Products'})\n",
    "\n",
    "product1 = ET.SubElement(category, 'product', {'name': product_names[0]})\n",
    "product2 = ET.SubElement(category, 'product', {'name': product_names[1]})\n",
    "product3 = ET.SubElement(category, 'product', {'name': product_names[2]})\n",
    "\n",
    "ET.SubElement(product1, 'type').text = types[0]\n",
    "ET.SubElement(product2, 'type').text = types[1]\n",
    "ET.SubElement(product3, 'type').text = types[2]\n",
    "\n",
    "ET.SubElement(product1, 'producer').text = producers[0]\n",
    "ET.SubElement(product2, 'producer').text = producers[1]\n",
    "ET.SubElement(product3, 'producer').text = producers[2]\n",
    "\n",
    "ET.SubElement(product1, 'price').text = prices[0]\n",
    "ET.SubElement(product2, 'price').text = prices[1]\n",
    "ET.SubElement(product3, 'price').text = prices[2]\n",
    "\n",
    "\n",
    "ET.SubElement(product1, 'currency').text = currency[0]\n",
    "ET.SubElement(product2, 'currency').text = currency[1]\n",
    "ET.SubElement(product3, 'currency').text = currency[0]\n",
    "\n",
    "ET.dump(root)\n",
    "\n",
    "tree = ET.ElementTree(root)\n",
    "tree.write('shop.xml', 'UTF-8', True)"
   ]
  },
  {
   "cell_type": "markdown",
   "metadata": {},
   "source": [
    "- Note: 可以使用 sublime text 開啟 shop.xml\n",
    "    - https://packagecontrol.io/packages/Indent%20XML\n",
    "    - 安裝 package => indentxml\n",
    "    - 安裝完後按下 Ctrl+shift+P，然後選擇 indentxml\n",
    "    - 就可以將 xml 的排版優化"
   ]
  },
  {
   "cell_type": "code",
   "execution_count": null,
   "metadata": {},
   "outputs": [],
   "source": []
  }
 ],
 "metadata": {
  "kernelspec": {
   "display_name": "Python 3",
   "language": "python",
   "name": "python3"
  },
  "language_info": {
   "codemirror_mode": {
    "name": "ipython",
    "version": 3
   },
   "file_extension": ".py",
   "mimetype": "text/x-python",
   "name": "python",
   "nbconvert_exporter": "python",
   "pygments_lexer": "ipython3",
   "version": "3.7.4"
  }
 },
 "nbformat": 4,
 "nbformat_minor": 2
}
