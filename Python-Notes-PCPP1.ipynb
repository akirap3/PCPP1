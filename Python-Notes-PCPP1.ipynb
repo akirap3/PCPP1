{
 "cells": [
  {
   "cell_type": "markdown",
   "metadata": {},
   "source": [
    "## PCPP1 | Advanced Perspective of Classes and Object-Oriented Programming in Python"
   ]
  },
  {
   "cell_type": "markdown",
   "metadata": {},
   "source": [
    "In this course, you will learn about:\n",
    "\n",
    "- Classes, instances, attributes, methods, as well as working with class and instance data;\n",
    "- shallow and deep operations;\n",
    "- abstract classes, method overriding, static and class methods, special methods;\n",
    "- inheritance, polymorphism, subclasses, and encapsulation;\n",
    "- advanced exception handling techniques;\n",
    "- the pickle and shelve modules;\n",
    "- metaclasses."
   ]
  },
  {
   "cell_type": "markdown",
   "metadata": {},
   "source": [
    "### 1.1.1.1 Classes, Instances, Attributes, Methods — introduction"
   ]
  },
  {
   "cell_type": "markdown",
   "metadata": {},
   "source": [
    "#### Introduction to Object-Oriented Programming"
   ]
  },
  {
   "cell_type": "markdown",
   "metadata": {},
   "source": [
    "This chapter assumes that you are familiar with the basics of OOP, so to establish an understanding of common terms, we should agree on the following definitions:\n",
    "\n",
    "- `class` — an idea, blueprint, or recipe for an instance;\n",
    "- `instance` — an instantiation of the class; very often used interchangeably with the term 'object';\n",
    "- `object` — Python's representation of data and methods; objects could be aggregates of instances;\n",
    "- `attribute` — any object or class trait; could be a variable or method;\n",
    "- `method` — a function built into a class that is executed on behalf of the class or object; some say that it’s a 'callable attribute';\n",
    "- `type` — refers to the class that was used to instantiate the object."
   ]
  },
  {
   "cell_type": "markdown",
   "metadata": {},
   "source": [
    "Now that we’re starting to discuss more advanced OOP topics, it’s important to remember that in Python everything is an object (functions, modules, lists, etc.). In the very last section of this module, you'll see that even classes are instances.\n",
    "\n",
    "Why is everything in Python organized as objects?\n",
    "\n",
    "Because an object is a very useful culmination of all the terms described above:\n",
    "\n",
    "- it is an independent instance of class, and it contains and aggregates some specific and valuable data in attributes relevant to individual objects;\n",
    "- it owns and shares methods used to perform actions.\n",
    "\n",
    "The following issues will be addressed during this and the next module:\n",
    "\n",
    "- creation and use of decorators;\n",
    "- implementation of core syntax;\n",
    "- class and static methods;\n",
    "- abstract methods;\n",
    "- comparison of inheritance and composition;\n",
    "- attribute encapsulation;\n",
    "- exception chaining;\n",
    "- object persistence;\n",
    "- metaprogramming."
   ]
  },
  {
   "cell_type": "markdown",
   "metadata": {},
   "source": [
    "### 1.1.1.2 Classes, Instances, Attributes, Methods — what is a class?"
   ]
  },
  {
   "cell_type": "markdown",
   "metadata": {},
   "source": [
    "- Classes describe attributes and functionalities together to represent an idea as accurately as possible.\n",
    "\n",
    "- You can build a class from scratch or, something that is more interesting and useful, employ inheritance to get a more specialized class based on another class.\n",
    "\n",
    "- Additionally, your classes could be used as superclasses for newly derived classes (subclasses).\n",
    "\n",
    "- Python’s class mechanism adds classes with a minimum of new syntax and semantics:"
   ]
  },
  {
   "cell_type": "code",
   "execution_count": 1,
   "metadata": {},
   "outputs": [],
   "source": [
    "class Duck:\n",
    "    def __init__(self, height, weight, sex):\n",
    "        self.height = height\n",
    "        self.weight = weight\n",
    "        self.sex = sex\n",
    "\n",
    "    def walk(self):\n",
    "        pass\n",
    "\n",
    "    def quack(self):\n",
    "        return print('Quack')"
   ]
  },
  {
   "cell_type": "markdown",
   "metadata": {},
   "source": [
    "### 1.1.1.3 What is an instance, what is an object?"
   ]
  },
  {
   "cell_type": "markdown",
   "metadata": {},
   "source": [
    "- An ***instance*** is one particular physical instantiation of a class that occupies memory and has data elements. This is what 'self' refers to when we deal with class instances.\n",
    "\n",
    "\n",
    "- An ***object*** is everything in Python that you can operate on, like a class, instance, list, or dictionary.\n",
    "\n",
    "\n",
    "- The term ***instance*** is very often used interchangeably with the term ***object***, because ***object*** refers to a particular instance of a class. It’s a bit of a simplification, because the term ***object*** is more general than ***instance***.\n",
    "\n",
    "\n",
    "- The relation between instances and classes is quite simple: we have one class of a given type and an unlimited number of instances of a given class.\n",
    "\n",
    "\n",
    "- Each instance has its own, individual state (expressed as variables, so objects again) and shares its behavior (expressed as methods, so objects again).\n",
    "\n",
    "\n",
    "- To create instances, we have to instantiate the class:"
   ]
  },
  {
   "cell_type": "code",
   "execution_count": 2,
   "metadata": {},
   "outputs": [],
   "source": [
    "duckling = Duck(height=10, weight=3.4, sex=\"male\")\n",
    "drake = Duck(height=25, weight=3.7, sex=\"male\")\n",
    "hen = Duck(height=20, weight=3.4, sex=\"female\")"
   ]
  },
  {
   "cell_type": "markdown",
   "metadata": {},
   "source": [
    "### 1.1.1.4 What is an attribute, what is a method?"
   ]
  },
  {
   "cell_type": "markdown",
   "metadata": {},
   "source": [
    "- An ***attribute*** is a capacious term that can refer to two major kinds of class traits:\n",
    "\n",
    "\n",
    "    - variables, containing information about the class itself or a class instance; classes and class instances can own many variables;\n",
    "    - methods, formulated as Python functions; they represent a behavior that could be applied to the object.\n",
    "\n",
    "\n",
    "- Each Python object has its own individual set of attributes. We can extend that set by adding new attributes to existing objects, change (reassign) them or control access to those attributes.\n",
    "\n",
    "\n",
    "- It is said that methods are the 'callable attributes' of Python objects. By 'callable' we should understand anything that can be called; such objects allow you to use round parentheses () and eventually pass some parameters, just like functions.\n",
    "\n",
    "\n",
    "- This is a very important fact to remember: methods are called on behalf of an object and are usually executed on object data.\n",
    "\n",
    "\n",
    "- Class attributes are most often addressed with 'dot' notation, i.e., `<class>dot<attribute>`. The other way to access attributes (variables) it to use the `getattr()` and `setattr()` functions."
   ]
  },
  {
   "cell_type": "markdown",
   "metadata": {},
   "source": [
    "### 1.1.1.5 What is a type?"
   ]
  },
  {
   "cell_type": "markdown",
   "metadata": {},
   "source": [
    "- A type is one of the most fundamental and abstract terms of Python:\n",
    "    - it is the foremost type that any class can be inherited from;\n",
    "    - as a result, if you’re looking for the type of class, then `type` is returned;\n",
    "    - in all other cases, it refers to the class that was used to instantiate the object; it’s a general term describing the type/kind of any object;\n",
    "    - it’s the name of a very handy Python function that returns the class information about the objects passed as arguments to that function;\n",
    "    - it returns a new type object when `type()` is called with three arguments; we'll talk about this in the 'metaclass' section.\n",
    "\n",
    "\n",
    "- Python comes with a number of built-in types, like numbers, strings, lists, etc., that are used to build more complex types. Creating a new class creates a new type of object, allowing new instances of that type to be made.\n",
    "\n",
    "\n",
    "- Information about an object’s class is contained in `__class__`."
   ]
  },
  {
   "cell_type": "code",
   "execution_count": 1,
   "metadata": {},
   "outputs": [
    {
     "name": "stdout",
     "output_type": "stream",
     "text": [
      "<class 'type'>\n",
      "<class '__main__.Duck'>\n",
      "<class 'str'>\n",
      "<class 'method'>\n"
     ]
    }
   ],
   "source": [
    "class Duck:\n",
    "    def __init__(self, height, weight, sex):\n",
    "        self.height = height\n",
    "        self.weight = weight\n",
    "        self.sex = sex\n",
    "\n",
    "    def walk(self):\n",
    "        pass\n",
    "\n",
    "    def quack(self):\n",
    "        return print('Quack')\n",
    "\n",
    "duckling = Duck(height=10, weight=3.4, sex=\"male\")\n",
    "drake = Duck(height=25, weight=3.7, sex=\"male\")\n",
    "hen = Duck(height=20, weight=3.4, sex=\"female\")\n",
    "\n",
    "print(Duck.__class__)\n",
    "print(duckling.__class__)\n",
    "print(duckling.sex.__class__)\n",
    "print(duckling.quack.__class__)"
   ]
  },
  {
   "cell_type": "markdown",
   "metadata": {},
   "source": [
    "### 1.1.1.6 Classes, Instances, Attributes, Methods — the LAB"
   ]
  },
  {
   "cell_type": "markdown",
   "metadata": {},
   "source": [
    "#### Scenario\n",
    "- create a class representing a mobile phone;\n",
    "- your class should implement the following methods:\n",
    "    - `__init__` expects a number to be passed as an argument; this method stores the number in an instance variable `self.number`\n",
    "    - `turn_on()` should return the message 'mobile phone {number} is turned on'. Curly brackets are used to mark the place to insert the object's number variable;\n",
    "    - `turn_off()` should return the message 'mobile phone is turned off';\n",
    "    - `call(number)` should return the message 'calling {number}'. Curly brackets are used to mark the place to insert the object's number variable;\n",
    "\n",
    "- create two objects representing two different mobile phones; assign any random phone numbers to them;\n",
    "- implement a sequence of method calls on the objects to turn them on, call any number. Print the methods' outcomes;\n",
    "- turn off both mobiles."
   ]
  },
  {
   "cell_type": "code",
   "execution_count": 5,
   "metadata": {},
   "outputs": [
    {
     "name": "stdout",
     "output_type": "stream",
     "text": [
      "mobile phone 01632-960004 is turned on\n",
      "mobile phone 01632-960012 is turned on\n",
      "calling 555-34343\n",
      "mobile phone is turned off\n",
      "mobile phone is turned off\n"
     ]
    }
   ],
   "source": [
    "class MobilePhone:\n",
    "    def __init__(self, number):\n",
    "        self.number = number\n",
    "    def turn_on(self):\n",
    "        return \"mobile phone \" + self.number + \" is turned on\"\n",
    "    def turn_off(self):\n",
    "        return \"mobile phone is turned off\"\n",
    "    def call(self, number):\n",
    "        return \"calling \" + number\n",
    "    \n",
    "mobilephone1 = MobilePhone(\"01632-960004\")\n",
    "mobilephone2 = MobilePhone(\"01632-960012\")\n",
    "print(mobilephone1.turn_on())\n",
    "print(mobilephone2.turn_on())\n",
    "print(mobilephone1.call(\"555-34343\"))\n",
    "print(mobilephone1.turn_off())\n",
    "print(mobilephone2.turn_off())"
   ]
  },
  {
   "cell_type": "markdown",
   "metadata": {},
   "source": [
    "### 1.2.1.1 Working with class and instance data – instance variables\n"
   ]
  },
  {
   "cell_type": "markdown",
   "metadata": {},
   "source": [
    "Python allows for variables to be used at the instance level or the class level. Those used at the instance level are referred to as ***instance variables***, whereas variables used at the class level are referred to as ***class variables***."
   ]
  },
  {
   "cell_type": "markdown",
   "metadata": {},
   "source": [
    "#### Instance variables"
   ]
  },
  {
   "cell_type": "markdown",
   "metadata": {},
   "source": [
    "- This kind of variable exists when and only when it is explicitly created and added to an object. This can be done during the object's initialization, performed by the `__init__` method, or later at any moment of the object's life. Furthermore, any existing property can be removed at any time.\n",
    "\n",
    "\n",
    "- Each object carries its own set of variables – they don't interfere with one another in any way. The word instance suggests that they are closely connected to the objects (which are class instances), not to the classes themselves. To get access to the instance variable, you should address the variable in the following way: `object`dot`variable_name`.\n",
    "\n",
    "\n",
    "- Let's look at how the instance variable is created and accessed in the code presented below."
   ]
  },
  {
   "cell_type": "code",
   "execution_count": 6,
   "metadata": {},
   "outputs": [
    {
     "name": "stdout",
     "output_type": "stream",
     "text": [
      "d1's instance variable is equal to: 100\n",
      "d2's instance variable is equal to: 200\n"
     ]
    }
   ],
   "source": [
    "class Demo:\n",
    "    def __init__(self, value):\n",
    "        self.instance_var = value\n",
    "\n",
    "d1 = Demo(100)\n",
    "d2 = Demo(200)\n",
    "\n",
    "print(\"d1's instance variable is equal to:\", d1.instance_var)\n",
    "print(\"d2's instance variable is equal to:\", d2.instance_var)\n"
   ]
  },
  {
   "cell_type": "markdown",
   "metadata": {},
   "source": [
    "### 1.2.1.2 Working with class and instance data – instance variables\n"
   ]
  },
  {
   "cell_type": "markdown",
   "metadata": {},
   "source": [
    "- Another snippet shows that instance variables can be created during any moment of an object's life. Moreover, it lists the contents of each object, using the built-in `__dict__` property that is present for every Python object.\n",
    "\n",
    "\n",
    "- This example shows that modifying the instance variable of any object has no impact on all the remaining objects. Instance variables are completely isolated from each other."
   ]
  },
  {
   "cell_type": "code",
   "execution_count": 7,
   "metadata": {},
   "outputs": [
    {
     "name": "stdout",
     "output_type": "stream",
     "text": [
      "contents of d1: {'instance_var': 100, 'another_var': 'another variable in the object'}\n",
      "contents of d2: {'instance_var': 200}\n"
     ]
    }
   ],
   "source": [
    "class Demo:\n",
    "    def __init__(self, value):\n",
    "        self.instance_var = value\n",
    "\n",
    "d1 = Demo(100)\n",
    "d2 = Demo(200)\n",
    "\n",
    "d1.another_var = 'another variable in the object'\n",
    "\n",
    "print('contents of d1:', d1.__dict__)\n",
    "print('contents of d2:', d2.__dict__)\n"
   ]
  },
  {
   "cell_type": "markdown",
   "metadata": {},
   "source": [
    "### 1.2.1.3 Working with class and instance data – class variables\n"
   ]
  },
  {
   "cell_type": "markdown",
   "metadata": {},
   "source": [
    "#### Class variables"
   ]
  },
  {
   "cell_type": "markdown",
   "metadata": {},
   "source": [
    "- Class variables are defined within the class construction, so these variables are available before any class instance is created. To get access to a class variable, simply access it using the class name, and then provide the variable name."
   ]
  },
  {
   "cell_type": "code",
   "execution_count": 8,
   "metadata": {},
   "outputs": [
    {
     "name": "stdout",
     "output_type": "stream",
     "text": [
      "shared variable\n",
      "{'__module__': '__main__', 'class_var': 'shared variable', '__dict__': <attribute '__dict__' of 'Demo' objects>, '__weakref__': <attribute '__weakref__' of 'Demo' objects>, '__doc__': None}\n"
     ]
    }
   ],
   "source": [
    "class Demo:\n",
    "    class_var = 'shared variable'\n",
    "\n",
    "print(Demo.class_var)\n",
    "print(Demo.__dict__)\n"
   ]
  },
  {
   "cell_type": "markdown",
   "metadata": {},
   "source": [
    "- As a class variable is present before any instance of the class is created, it can be used to store some meta data relevant to the class, rather than to the instances:\n",
    "    - fixed information like description, configuration, or identification values;\n",
    "    - mutable information like the number of instances created (if we add a code to increment the value of a designated variable every time we create a class instance)\n",
    "\n",
    "\n",
    "- A class variable is a class property that exists in just one copy, and it is stored outside any class instance. Because it is owned by the class itself, all class variables are shared by all instances of the class. They will therefore generally have the same value for every instance; butas the class variable is defined outside the object, it is not listed in the object's `__dict__`.\n",
    "\n",
    "\n",
    "- **Conclusion**: when you want to read the class variable value, you can use a class or class instance to access it."
   ]
  },
  {
   "cell_type": "code",
   "execution_count": 9,
   "metadata": {},
   "outputs": [
    {
     "name": "stdout",
     "output_type": "stream",
     "text": [
      "shared variable\n",
      "shared variable\n",
      "shared variable\n",
      "contents of d1: {}\n"
     ]
    }
   ],
   "source": [
    "class Demo:\n",
    "    class_var = 'shared variable'\n",
    "\n",
    "d1 = Demo()\n",
    "d2 = Demo()\n",
    "\n",
    "print(Demo.class_var)\n",
    "print(d1.class_var)\n",
    "print(d2.class_var)\n",
    "\n",
    "print('contents of d1:', d1.__dict__)\n"
   ]
  },
  {
   "cell_type": "markdown",
   "metadata": {},
   "source": [
    "- When you want to set or change a value of the class variable, you should access it via the class, but not the class instance, as you can do for reading.\n",
    "\n",
    "\n",
    "- When you try to set a value for the class variable using the object (a variable referring to the object or `self` keyword) but not the class, you are creating an instance variable that holds the same name as the class variable. The following snippet shows such a case – remember this in order to avoid wasting time hunting for bugs!"
   ]
  },
  {
   "cell_type": "code",
   "execution_count": 10,
   "metadata": {},
   "outputs": [
    {
     "name": "stdout",
     "output_type": "stream",
     "text": [
      "shared variable\n",
      "shared variable\n",
      "....................\n",
      "contents of d1: {}\n",
      "....................\n",
      "contents of d1: {'class_var': \"I'm messing with the class variable\"}\n",
      "I'm messing with the class variable\n",
      "....................\n",
      "contents of d2: {}\n",
      "contents of class variable accessed via d2: shared variable\n"
     ]
    }
   ],
   "source": [
    "class Demo:\n",
    "    class_var = 'shared variable'\n",
    "\n",
    "d1 = Demo()\n",
    "d2 = Demo()\n",
    "\n",
    "# both instances allow access to the class variable\n",
    "print(d1.class_var)\n",
    "print(d2.class_var)\n",
    "print('.' * 20)\n",
    "\n",
    "# d1 object has no instance variable\n",
    "print('contents of d1:', d1.__dict__)\n",
    "print('.' * 20)\n",
    "\n",
    "# d1 object receives an instance variable named 'class_var'\n",
    "d1.class_var = \"I'm messing with the class variable\"\n",
    "\n",
    "# d1 object owns the variable named 'class_var' which holds a different value than the class variable named in the same way\n",
    "print('contents of d1:', d1.__dict__)\n",
    "print(d1.class_var)\n",
    "print('.' * 20)\n",
    "\n",
    "# d2 object variables were not influenced\n",
    "print('contents of d2:', d2.__dict__)\n",
    "\n",
    "# d2 object variables were not influenced\n",
    "print('contents of class variable accessed via d2:', d2.class_var)\n"
   ]
  },
  {
   "cell_type": "markdown",
   "metadata": {},
   "source": [
    "- Class variables and instance variables are often utilized at the same time, but for different purposes. As mentioned before, class variables can refer to some meta information or common information shared amongst instances of the same class.\n",
    "\n",
    "\n",
    "- The example below demonstrates both topics: each class owns a counter variable that holds the number of class instances created. Moreover, each class owns information that helps identify the class instance origins. Similar functionality could be achieved with the `isinstance()` function, but we want to check if class variables can be helpful in this domain."
   ]
  },
  {
   "cell_type": "code",
   "execution_count": 11,
   "metadata": {},
   "outputs": [
    {
     "name": "stdout",
     "output_type": "stream",
     "text": [
      "So many ducks were born: 3\n",
      "duck quacks\n",
      "duck quacks\n",
      "duck quacks\n",
      "chicken clucks\n"
     ]
    }
   ],
   "source": [
    "class Duck:\n",
    "    counter = 0\n",
    "    species = 'duck'\n",
    "\n",
    "    def __init__(self, height, weight, sex):\n",
    "        self.height = height\n",
    "        self.weight = weight\n",
    "        self.sex = sex\n",
    "        Duck.counter +=1\n",
    "\n",
    "    def walk(self):\n",
    "        pass\n",
    "\n",
    "    def quack(self):\n",
    "        print('quacks')\n",
    "\n",
    "class Chicken:\n",
    "    species = 'chicken'\n",
    "\n",
    "    def walk(self):\n",
    "        pass\n",
    "\n",
    "    def cluck(self):\n",
    "        print('clucks')\n",
    "\n",
    "duckling = Duck(height=10, weight=3.4, sex=\"male\")\n",
    "drake = Duck(height=25, weight=3.7, sex=\"male\")\n",
    "hen = Duck(height=20, weight=3.4, sex=\"female\")\n",
    "\n",
    "chicken = Chicken()\n",
    "\n",
    "print('So many ducks were born:', Duck.counter)\n",
    "\n",
    "for poultry in duckling, drake, hen, chicken:\n",
    "    print(poultry.species, end=' ')\n",
    "    if poultry.species == 'duck':\n",
    "        poultry.quack()\n",
    "    elif poultry.species == 'chicken':\n",
    "        poultry.cluck()\n"
   ]
  },
  {
   "cell_type": "markdown",
   "metadata": {},
   "source": [
    "### 1.2.1.7 Working with class and instance data"
   ]
  },
  {
   "cell_type": "markdown",
   "metadata": {},
   "source": [
    "- Another example shows that a class variable of a super class can be used to count the number of all objects created from the descendant classes (subclasses). We'll achieve this by calling the superclass `__init__` method.\n",
    "\n",
    "\n",
    "- Another class variable is used to keep track of the serial numbers (which in fact are also counters) of particular subclass instances. In this example, we are also storing instance data (phone numbers) in instance variables.\n",
    "\n",
    "\n",
    "- The class `Phone` is a class representing a blueprint of generic devices used for calling. This class definition delivers the `call` method, which displays the object’s variable, which holds the phone number. This class also holds a class variable that is used to count the number of instances created by its subclasses.\n",
    "\n",
    "\n",
    "- Subclasses make use of the superclass `__init__` method, then instances are created. This gives us the possibility to increment the superclass variable."
   ]
  },
  {
   "cell_type": "code",
   "execution_count": 12,
   "metadata": {},
   "outputs": [
    {
     "name": "stdout",
     "output_type": "stream",
     "text": [
      "Total number of phone devices created: 0\n",
      "Creating 2 devices\n",
      "Total number of phone devices created: 2\n",
      "Total number of mobile phones created: 1\n",
      "Calling 01632-960004 using own number 555-2368\n",
      "Fixed phone received \"FP-1\" serial number\n",
      "Mobile phone received \"MP-1\" serial number\n"
     ]
    }
   ],
   "source": [
    "class Phone:\n",
    "    counter = 0\n",
    "\n",
    "    def __init__(self, number):\n",
    "        self.number = number\n",
    "        Phone.counter += 1\n",
    "\n",
    "    def call(self, number):\n",
    "        message = 'Calling {} using own number {}'.format(number, self.number)\n",
    "        return message\n",
    "\n",
    "\n",
    "class FixedPhone(Phone):\n",
    "    last_SN = 0\n",
    "\n",
    "    def __init__(self, number):\n",
    "        super().__init__(number)\n",
    "        FixedPhone.last_SN += 1\n",
    "        self.SN = 'FP-{}'.format(FixedPhone.last_SN)\n",
    "\n",
    "\n",
    "class MobilePhone(Phone):\n",
    "    last_SN = 0\n",
    "\n",
    "    def __init__(self, number):\n",
    "        super().__init__(number)\n",
    "        MobilePhone.last_SN += 1\n",
    "        self.SN = 'MP-{}'.format(MobilePhone.last_SN)\n",
    "\n",
    "\n",
    "print('Total number of phone devices created:', Phone.counter)\n",
    "print('Creating 2 devices')\n",
    "fphone = FixedPhone('555-2368')\n",
    "mphone = MobilePhone('01632-960004')\n",
    "\n",
    "print('Total number of phone devices created:', Phone.counter)\n",
    "print('Total number of mobile phones created:', MobilePhone.last_SN)\n",
    "\n",
    "print(fphone.call('01632-960004'))\n",
    "print('Fixed phone received \"{}\" serial number'.format(fphone.SN))\n",
    "print('Mobile phone received \"{}\" serial number'.format(mphone.SN))\n"
   ]
  },
  {
   "cell_type": "markdown",
   "metadata": {},
   "source": [
    "### 1.2.1.8 Working with class and instance data – the LAB\n"
   ]
  },
  {
   "cell_type": "markdown",
   "metadata": {},
   "source": [
    "### Scenario\n",
    "- Imagine that you receive a task description of an application that monitors the process of apple packaging before the apples are sent to a shop.\n",
    "\n",
    "\n",
    "- A shop owner has asked for 1000 apples, but the total weight limitation cannot exceed 300 units.\n",
    "\n",
    "\n",
    "- Write a code that creates objects representing apples as long as both limitations are met. When any limitation is exceeded, than the packaging process is stopped, and your application should print the number of apple class objects created, and the total weight.\n",
    "\n",
    "\n",
    "- Your application should keep track of two parameters:\n",
    "\n",
    "    - the number of apples processed, stored as a class variable;\n",
    "    - the total weight of the apples processed; stored as a class variable. Assume that each apple's weight is random, and can vary between 0.2 and 0.5 of an imaginary weight unit;\n",
    "    \n",
    "    \n",
    "- Hint: Use a `random.uniform(lower, upper)` function to create a random number between the lower and upper float values."
   ]
  },
  {
   "cell_type": "code",
   "execution_count": 1,
   "metadata": {},
   "outputs": [
    {
     "name": "stdout",
     "output_type": "stream",
     "text": [
      "Apple Count: 866, Total weight: 299.85733207003875\n"
     ]
    }
   ],
   "source": [
    "import random\n",
    "\n",
    "class Apple:\n",
    "    def __init__(self, weight):\n",
    "        self.weight = weight\n",
    "\n",
    "class Packaging:\n",
    "    apple_count = 0\n",
    "    total_weight = 0\n",
    "    \n",
    "    def __init__(self, apple):\n",
    "        Packaging.apple_count += 1\n",
    "        Packaging.total_weight += apple.weight\n",
    "        if Packaging.total_weight > 300:\n",
    "            Packaging.apple_count -= 1\n",
    "            Packaging.total_weight -= apple.weight\n",
    "    \n",
    "    def __str__(self):\n",
    "        message = \"Apple Count: {}, Total weight: {}\".format(Packaging.apple_count, Packaging.total_weight)\n",
    "        return message\n",
    "    \n",
    "\n",
    "apple_weight_list =[random.uniform(0.2,0.5) for x in range(1000)]\n",
    "apple_list = [Apple(i) for i in apple_weight_list]\n",
    "\n",
    "for apple in apple_list:\n",
    "    package = Packaging(apple)\n",
    "    \n",
    "print(package)"
   ]
  },
  {
   "cell_type": "markdown",
   "metadata": {},
   "source": [
    "### 2.1.1.1 Python core syntax"
   ]
  },
  {
   "cell_type": "markdown",
   "metadata": {},
   "source": [
    "#### Python core syntax"
   ]
  },
  {
   "cell_type": "markdown",
   "metadata": {},
   "source": [
    "This is Python core syntax – an ability to perform specific operations on different data types, when operations are formulated using the same operators or instructions, or even functions.\n",
    "\n",
    "Python core syntax covers:\n",
    "\n",
    "- operators like '+', '-', '*', '/', '%' and many others;\n",
    "- operators like '==', '<', '>', '<=', 'in' and many others;\n",
    "- indexing, slicing, subscripting;\n",
    "- built-in functions like str(), len()\n",
    "- reflexion – isinstance(), issubclass()\n",
    "\n",
    "and a few more elements."
   ]
  },
  {
   "cell_type": "markdown",
   "metadata": {},
   "source": [
    "### 2.1.1.3 Python core syntax"
   ]
  },
  {
   "cell_type": "markdown",
   "metadata": {},
   "source": [
    "- When called, functions and operators that state the core syntax are translated into magic methods delivered by specific classes.\n",
    "\n",
    "\n",
    "- In Python, these magic methods are sometimes called special purpose methods, because these methods are designated by design to handle specific operations.\n",
    "\n",
    "\n",
    "- The name of each magic method ***is surrounded by double underscores*** (***Pythonistas would say “dunder” for double underscores***, as it’s a shorter and more convenient phrase). **Dunders** indicate that such methods are not called directly, but called in a process of expression evaluation, according to Python core syntax rules.\n",
    "\n",
    "\n",
    "- The '+' operator is in fact converted to the `__add__()` method and the `len()` function is converted to the `__len__()` method. These methods must be delivered by a class (now it’s clear why we treat classes as blueprints) to perform the appropriate action."
   ]
  },
  {
   "cell_type": "code",
   "execution_count": 48,
   "metadata": {},
   "outputs": [
    {
     "name": "stdout",
     "output_type": "stream",
     "text": [
      "30\n",
      "30\n"
     ]
    }
   ],
   "source": [
    "number = 10\n",
    "print(number + 20)\n",
    "\n",
    "number = 10\n",
    "print(number.__add__(20))"
   ]
  },
  {
   "cell_type": "markdown",
   "metadata": {},
   "source": [
    "### 2.1.1.4 Python core syntax"
   ]
  },
  {
   "cell_type": "code",
   "execution_count": 49,
   "metadata": {},
   "outputs": [
    {
     "name": "stdout",
     "output_type": "stream",
     "text": [
      "65\n"
     ]
    }
   ],
   "source": [
    "class Person:\n",
    "    def __init__(self, weight, age, salary):\n",
    "        self.weight = weight\n",
    "        self.age = age\n",
    "        self.salary = salary\n",
    "\n",
    "    def __add__(self, other):\n",
    "        return self.weight + other.weight\n",
    "\n",
    "\n",
    "p1 = Person(30, 40, 50)\n",
    "p2 = Person(35, 45, 55)\n",
    "\n",
    "print(p1 + p2)\n"
   ]
  },
  {
   "cell_type": "markdown",
   "metadata": {},
   "source": [
    "### 2.1.1.6 Python core syntax"
   ]
  },
  {
   "cell_type": "markdown",
   "metadata": {},
   "source": [
    "- You could ask: how can I know what magic method is responsible for a specific operation?\n",
    "\n",
    "\n",
    "- The answer could be: start with the `dir()` and `help()` functions.\n",
    "\n",
    "\n",
    "- The `dir()` function gives you a quick glance at an object’s capabilities and returns a list of the attributes and methods of the object. When you call `dir()` on integer 10, you'll get:"
   ]
  },
  {
   "cell_type": "code",
   "execution_count": 51,
   "metadata": {},
   "outputs": [
    {
     "name": "stdout",
     "output_type": "stream",
     "text": [
      "['__abs__', '__add__', '__and__', '__bool__', '__ceil__', '__class__', '__delattr__', '__dir__', '__divmod__', '__doc__', '__eq__', '__float__', '__floor__', '__floordiv__', '__format__', '__ge__', '__getattribute__', '__getnewargs__', '__gt__', '__hash__', '__index__', '__init__', '__init_subclass__', '__int__', '__invert__', '__le__', '__lshift__', '__lt__', '__mod__', '__mul__', '__ne__', '__neg__', '__new__', '__or__', '__pos__', '__pow__', '__radd__', '__rand__', '__rdivmod__', '__reduce__', '__reduce_ex__', '__repr__', '__rfloordiv__', '__rlshift__', '__rmod__', '__rmul__', '__ror__', '__round__', '__rpow__', '__rrshift__', '__rshift__', '__rsub__', '__rtruediv__', '__rxor__', '__setattr__', '__sizeof__', '__str__', '__sub__', '__subclasshook__', '__truediv__', '__trunc__', '__xor__', 'bit_length', 'conjugate', 'denominator', 'from_bytes', 'imag', 'numerator', 'real', 'to_bytes']\n"
     ]
    }
   ],
   "source": [
    "print(dir(10))"
   ]
  },
  {
   "cell_type": "markdown",
   "metadata": {},
   "source": [
    "- The names listed above look somehow familiar, so let's see the details delivered by Python itself."
   ]
  },
  {
   "cell_type": "markdown",
   "metadata": {},
   "source": [
    "- To get more help on each attribute and method, issue the `help()` function on an object, as below:"
   ]
  },
  {
   "cell_type": "code",
   "execution_count": 54,
   "metadata": {},
   "outputs": [
    {
     "name": "stdout",
     "output_type": "stream",
     "text": [
      "Help on int object:\n",
      "\n",
      "class int(object)\n",
      " |  int([x]) -> integer\n",
      " |  int(x, base=10) -> integer\n",
      " |  \n",
      " |  Convert a number or string to an integer, or return 0 if no arguments\n",
      " |  are given.  If x is a number, return x.__int__().  For floating point\n",
      " |  numbers, this truncates towards zero.\n",
      " |  \n",
      " |  If x is not a number or if base is given, then x must be a string,\n",
      " |  bytes, or bytearray instance representing an integer literal in the\n",
      " |  given base.  The literal can be preceded by '+' or '-' and be surrounded\n",
      " |  by whitespace.  The base defaults to 10.  Valid bases are 0 and 2-36.\n",
      " |  Base 0 means to interpret the base from the string as an integer literal.\n",
      " |  >>> int('0b100', base=0)\n",
      " |  4\n",
      " |  \n",
      " |  Methods defined here:\n",
      " |  \n",
      " |  __abs__(self, /)\n",
      " |      abs(self)\n",
      " |  \n",
      " |  __add__(self, value, /)\n",
      " |      Return self+value.\n",
      " |  \n",
      " |  __and__(self, value, /)\n",
      " |      Return self&value.\n",
      " |  \n",
      " |  __bool__(self, /)\n",
      " |      self != 0\n",
      " |  \n",
      " |  __ceil__(...)\n",
      " |      Ceiling of an Integral returns itself.\n",
      " |  \n",
      " |  __divmod__(self, value, /)\n",
      " |      Return divmod(self, value).\n",
      " |  \n",
      " |  __eq__(self, value, /)\n",
      " |      Return self==value.\n",
      " |  \n",
      " |  __float__(self, /)\n",
      " |      float(self)\n",
      " |  \n",
      " |  __floor__(...)\n",
      " |      Flooring an Integral returns itself.\n",
      " |  \n",
      " |  __floordiv__(self, value, /)\n",
      " |      Return self//value.\n",
      " |  \n",
      " |  __format__(self, format_spec, /)\n",
      " |      Default object formatter.\n",
      " |  \n",
      " |  __ge__(self, value, /)\n",
      " |      Return self>=value.\n",
      " |  \n",
      " |  __getattribute__(self, name, /)\n",
      " |      Return getattr(self, name).\n",
      " |  \n",
      " |  __getnewargs__(self, /)\n",
      " |  \n",
      " |  __gt__(self, value, /)\n",
      " |      Return self>value.\n",
      " |  \n",
      " |  __hash__(self, /)\n",
      " |      Return hash(self).\n",
      " |  \n",
      " |  __index__(self, /)\n",
      " |      Return self converted to an integer, if self is suitable for use as an index into a list.\n",
      " |  \n",
      " |  __int__(self, /)\n",
      " |      int(self)\n",
      " |  \n",
      " |  __invert__(self, /)\n",
      " |      ~self\n",
      " |  \n",
      " |  __le__(self, value, /)\n",
      " |      Return self<=value.\n",
      " |  \n",
      " |  __lshift__(self, value, /)\n",
      " |      Return self<<value.\n",
      " |  \n",
      " |  __lt__(self, value, /)\n",
      " |      Return self<value.\n",
      " |  \n",
      " |  __mod__(self, value, /)\n",
      " |      Return self%value.\n",
      " |  \n",
      " |  __mul__(self, value, /)\n",
      " |      Return self*value.\n",
      " |  \n",
      " |  __ne__(self, value, /)\n",
      " |      Return self!=value.\n",
      " |  \n",
      " |  __neg__(self, /)\n",
      " |      -self\n",
      " |  \n",
      " |  __or__(self, value, /)\n",
      " |      Return self|value.\n",
      " |  \n",
      " |  __pos__(self, /)\n",
      " |      +self\n",
      " |  \n",
      " |  __pow__(self, value, mod=None, /)\n",
      " |      Return pow(self, value, mod).\n",
      " |  \n",
      " |  __radd__(self, value, /)\n",
      " |      Return value+self.\n",
      " |  \n",
      " |  __rand__(self, value, /)\n",
      " |      Return value&self.\n",
      " |  \n",
      " |  __rdivmod__(self, value, /)\n",
      " |      Return divmod(value, self).\n",
      " |  \n",
      " |  __repr__(self, /)\n",
      " |      Return repr(self).\n",
      " |  \n",
      " |  __rfloordiv__(self, value, /)\n",
      " |      Return value//self.\n",
      " |  \n",
      " |  __rlshift__(self, value, /)\n",
      " |      Return value<<self.\n",
      " |  \n",
      " |  __rmod__(self, value, /)\n",
      " |      Return value%self.\n",
      " |  \n",
      " |  __rmul__(self, value, /)\n",
      " |      Return value*self.\n",
      " |  \n",
      " |  __ror__(self, value, /)\n",
      " |      Return value|self.\n",
      " |  \n",
      " |  __round__(...)\n",
      " |      Rounding an Integral returns itself.\n",
      " |      Rounding with an ndigits argument also returns an integer.\n",
      " |  \n",
      " |  __rpow__(self, value, mod=None, /)\n",
      " |      Return pow(value, self, mod).\n",
      " |  \n",
      " |  __rrshift__(self, value, /)\n",
      " |      Return value>>self.\n",
      " |  \n",
      " |  __rshift__(self, value, /)\n",
      " |      Return self>>value.\n",
      " |  \n",
      " |  __rsub__(self, value, /)\n",
      " |      Return value-self.\n",
      " |  \n",
      " |  __rtruediv__(self, value, /)\n",
      " |      Return value/self.\n",
      " |  \n",
      " |  __rxor__(self, value, /)\n",
      " |      Return value^self.\n",
      " |  \n",
      " |  __sizeof__(self, /)\n",
      " |      Returns size in memory, in bytes.\n",
      " |  \n",
      " |  __str__(self, /)\n",
      " |      Return str(self).\n",
      " |  \n",
      " |  __sub__(self, value, /)\n",
      " |      Return self-value.\n",
      " |  \n",
      " |  __truediv__(self, value, /)\n",
      " |      Return self/value.\n",
      " |  \n",
      " |  __trunc__(...)\n",
      " |      Truncating an Integral returns itself.\n",
      " |  \n",
      " |  __xor__(self, value, /)\n",
      " |      Return self^value.\n",
      " |  \n",
      " |  bit_length(self, /)\n",
      " |      Number of bits necessary to represent self in binary.\n",
      " |      \n",
      " |      >>> bin(37)\n",
      " |      '0b100101'\n",
      " |      >>> (37).bit_length()\n",
      " |      6\n",
      " |  \n",
      " |  conjugate(...)\n",
      " |      Returns self, the complex conjugate of any int.\n",
      " |  \n",
      " |  to_bytes(self, /, length, byteorder, *, signed=False)\n",
      " |      Return an array of bytes representing an integer.\n",
      " |      \n",
      " |      length\n",
      " |        Length of bytes object to use.  An OverflowError is raised if the\n",
      " |        integer is not representable with the given number of bytes.\n",
      " |      byteorder\n",
      " |        The byte order used to represent the integer.  If byteorder is 'big',\n",
      " |        the most significant byte is at the beginning of the byte array.  If\n",
      " |        byteorder is 'little', the most significant byte is at the end of the\n",
      " |        byte array.  To request the native byte order of the host system, use\n",
      " |        `sys.byteorder' as the byte order value.\n",
      " |      signed\n",
      " |        Determines whether two's complement is used to represent the integer.\n",
      " |        If signed is False and a negative integer is given, an OverflowError\n",
      " |        is raised.\n",
      " |  \n",
      " |  ----------------------------------------------------------------------\n",
      " |  Class methods defined here:\n",
      " |  \n",
      " |  from_bytes(bytes, byteorder, *, signed=False) from builtins.type\n",
      " |      Return the integer represented by the given array of bytes.\n",
      " |      \n",
      " |      bytes\n",
      " |        Holds the array of bytes to convert.  The argument must either\n",
      " |        support the buffer protocol or be an iterable object producing bytes.\n",
      " |        Bytes and bytearray are examples of built-in objects that support the\n",
      " |        buffer protocol.\n",
      " |      byteorder\n",
      " |        The byte order used to represent the integer.  If byteorder is 'big',\n",
      " |        the most significant byte is at the beginning of the byte array.  If\n",
      " |        byteorder is 'little', the most significant byte is at the end of the\n",
      " |        byte array.  To request the native byte order of the host system, use\n",
      " |        `sys.byteorder' as the byte order value.\n",
      " |      signed\n",
      " |        Indicates whether two's complement is used to represent the integer.\n",
      " |  \n",
      " |  ----------------------------------------------------------------------\n",
      " |  Static methods defined here:\n",
      " |  \n",
      " |  __new__(*args, **kwargs) from builtins.type\n",
      " |      Create and return a new object.  See help(type) for accurate signature.\n",
      " |  \n",
      " |  ----------------------------------------------------------------------\n",
      " |  Data descriptors defined here:\n",
      " |  \n",
      " |  denominator\n",
      " |      the denominator of a rational number in lowest terms\n",
      " |  \n",
      " |  imag\n",
      " |      the imaginary part of a complex number\n",
      " |  \n",
      " |  numerator\n",
      " |      the numerator of a rational number in lowest terms\n",
      " |  \n",
      " |  real\n",
      " |      the real part of a complex number\n",
      "\n",
      "None\n"
     ]
    }
   ],
   "source": [
    "print(help(10))"
   ]
  },
  {
   "cell_type": "markdown",
   "metadata": {},
   "source": [
    "- The Python `help()` function is used to display the documentation (if delivered!) of modules, functions, classes, and keywords. In our example, we have displayed the documentation for the built-in integer type. Look at the last lines of the output – it contains information about the `__abs__` and `__add__` special methods."
   ]
  },
  {
   "cell_type": "markdown",
   "metadata": {},
   "source": [
    "### 2.1.1.7 Python core syntax\n"
   ]
  },
  {
   "cell_type": "markdown",
   "metadata": {},
   "source": [
    "Now it’s time to get familiar with Python core syntax expressions and their corresponding magic methods. The following tables will help you in situations where you'd like to implement a custom method for a Python core operation, as the tables enumerate the most popular operators and functions that own magic method counterparts. Treat it as a list from a universal map, unrelated to any special data type."
   ]
  },
  {
   "cell_type": "markdown",
   "metadata": {},
   "source": [
    "#### Comparison methods"
   ]
  },
  {
   "cell_type": "markdown",
   "metadata": {},
   "source": [
    "![](./images/1_compare_methods.png)"
   ]
  },
  {
   "cell_type": "markdown",
   "metadata": {},
   "source": [
    "#### Numeric methods\n",
    "#### Unary operators and functions"
   ]
  },
  {
   "cell_type": "markdown",
   "metadata": {},
   "source": [
    "![](./images/2_unary_operators_and_functions.png)"
   ]
  },
  {
   "cell_type": "markdown",
   "metadata": {},
   "source": [
    "#### Common, binary operators and functions"
   ]
  },
  {
   "cell_type": "markdown",
   "metadata": {},
   "source": [
    "![](./images/3_binary_operators_and_functions.png)"
   ]
  },
  {
   "cell_type": "markdown",
   "metadata": {},
   "source": [
    "#### Augumented operators and functions"
   ]
  },
  {
   "cell_type": "markdown",
   "metadata": {},
   "source": [
    "- By augumented assignment we should understand a sequence of unary operators and assignments like `a += 20`"
   ]
  },
  {
   "cell_type": "markdown",
   "metadata": {},
   "source": [
    "![](./images/4_argumented_operatios_and_functions.png)"
   ]
  },
  {
   "cell_type": "markdown",
   "metadata": {},
   "source": [
    "#### Type conversion methods"
   ]
  },
  {
   "cell_type": "markdown",
   "metadata": {},
   "source": [
    "- Python offers a set of methods responsible for the conversion of built-in data types."
   ]
  },
  {
   "cell_type": "markdown",
   "metadata": {},
   "source": [
    "![](./images/5_type_conversion_methods.png)"
   ]
  },
  {
   "cell_type": "markdown",
   "metadata": {},
   "source": [
    "#### Object introspection"
   ]
  },
  {
   "cell_type": "markdown",
   "metadata": {},
   "source": [
    "- Python offers a set of methods responsible for representing object details using ordinary strings."
   ]
  },
  {
   "cell_type": "markdown",
   "metadata": {},
   "source": [
    "![](./images/6_object_introspection.png)"
   ]
  },
  {
   "cell_type": "markdown",
   "metadata": {},
   "source": [
    "#### Object retrospection"
   ]
  },
  {
   "cell_type": "markdown",
   "metadata": {},
   "source": [
    "- Following the topic of object introspection, there are methods responsible for object reflection."
   ]
  },
  {
   "cell_type": "markdown",
   "metadata": {},
   "source": [
    "![](./images/7_object_retrospection.png)"
   ]
  },
  {
   "cell_type": "markdown",
   "metadata": {},
   "source": [
    "#### Object attribute access"
   ]
  },
  {
   "cell_type": "markdown",
   "metadata": {},
   "source": [
    "- Access to object attributes can be controlled via the following magic methods"
   ]
  },
  {
   "cell_type": "markdown",
   "metadata": {},
   "source": [
    "![](./images/8_object_attribute_access.png)"
   ]
  },
  {
   "cell_type": "markdown",
   "metadata": {},
   "source": [
    "#### Methods allowing access to containers"
   ]
  },
  {
   "cell_type": "markdown",
   "metadata": {},
   "source": [
    "- Containers are any object that holds an arbitrary number of other objects; containers provide a way to access the contained objects and to iterate over them. Container examples: list, dictionary, tuple, and set."
   ]
  },
  {
   "cell_type": "markdown",
   "metadata": {},
   "source": [
    "![](./images/9_methods_allowing_access_to_containers.png)"
   ]
  },
  {
   "cell_type": "markdown",
   "metadata": {},
   "source": [
    "- The list of special methods built-in in Python contains more entities. For more information, refer to https://docs.python.org/3/reference/datamodel.html#special-method-names."
   ]
  },
  {
   "cell_type": "markdown",
   "metadata": {},
   "source": [
    "### 2.1.1.9 Python core syntax"
   ]
  },
  {
   "cell_type": "markdown",
   "metadata": {},
   "source": [
    "- What are some real life cases which could be implemented using special methods?\n",
    "\n",
    "- Think of any complex problems that we solve every day like:\n",
    "    - adding time intervals, like: add 21 hours 58 minutes 50 seconds to 1hr 45 minutes 22 seconds;\n",
    "    - adding length measurements expressed in the imperial measurement system, like: add 2 feet 8 inches to 1 yard 1 foot 4 inches.\n",
    "\n",
    "- With classes equipped with custom special methods, the tasks may start to look simpler.\n",
    "\n",
    "- Of course, don’t forget to check the type of the objects passed as arguments to special methods. If someone uses your classes, they might use them incorrectly, so a good `__add__` method should check whether it’s possible to perform the addition before doing it, or else raise an exception."
   ]
  },
  {
   "cell_type": "markdown",
   "metadata": {},
   "source": [
    "### 2.1.1.10 Python core syntax: LAB #1"
   ]
  },
  {
   "cell_type": "markdown",
   "metadata": {},
   "source": [
    "#### Scenario\n",
    "- Create a class representing a time interval;\n",
    "- the class should implement its own method for addition, subtraction on time interval class objects;\n",
    "- the class should implement its own method for multiplication of time interval class objects by an integer-type value;\n",
    "- the `__init__` method should be based on keywords to allow accurate and convenient object initialization, but limit it to hours, minutes, and seconds parameters;\n",
    "- the `__str__` method should return an HH:MM:SS string, where HH represents hours, MM represents minutes and SS represents the seconds attributes of the time interval object;\n",
    "- check the argument type, and in case of a mismatch, raise a TypeError exception.\n",
    "\n",
    "- Hint1:\n",
    "- just before doing the math, convert each time interval to a corresponding number of seconds to simplify the algorithm;\n",
    "- for addition and subtraction, you can use one internal method, as subtraction is just ... negative addition.\n",
    "- Test data:\n",
    "    - the first time interval (fti) is hours=21, minutes=58, seconds=50\n",
    "    - the second time interval (sti) is hours=1, minutes=45, seconds=22\n",
    "    - the expected result of addition (fti + sti) is 23:44:12\n",
    "    - the expected result of subtraction (fti - sti) is 20:13:28\n",
    "    - the expected result of multiplication (fti * 2) is 43:57:40\n",
    "    \n",
    "- Hint2:\n",
    "    - you can use the `assert` statement to validate if the output of the `__str__` method applied to a time interval object equals the expected value."
   ]
  },
  {
   "cell_type": "code",
   "execution_count": 38,
   "metadata": {},
   "outputs": [
    {
     "name": "stdout",
     "output_type": "stream",
     "text": [
      "First Time Interval:\t\t 21:58:50\n",
      "Second Time Interval:\t\t 1:45:22\n",
      "The result of (fit + sti):\t 23:44:12\n",
      "The result of (fti - sti):\t 20:13:28\n",
      "The result of (fti * 2):\t 43:57:40\n"
     ]
    }
   ],
   "source": [
    "class Interval:\n",
    "       \n",
    "    def __init__(self, hours=0, minutes=0, seconds=0):\n",
    "        self.hours = hours\n",
    "        self.minutes = minutes\n",
    "        self.seconds = seconds\n",
    "        self.total_seconds = 60*60*self.hours + 60*self.minutes + self.seconds\n",
    "        \n",
    "    def __str__(self):\n",
    "        self.init_str = \"{}:{}:{}\".format(self.hours, self.minutes, self.seconds)\n",
    "        return self.init_str\n",
    "        \n",
    "    def output(self, result):\n",
    "        self.result_hours = self.result // 3600\n",
    "        self.result_minutes = (self.result - self.result_hours*3600) // 60\n",
    "        self.result_seconds = self.result - self.result_hours*3600 - self.result_minutes*60\n",
    "        self.message = \"{}:{}:{}\".format(self.result_hours, self.result_minutes, self.result_seconds)\n",
    "        return self.message\n",
    "                \n",
    "    def __add__(self, other):\n",
    "        self.result = self.total_seconds + other.total_seconds\n",
    "        return self.output(self.result)\n",
    "                \n",
    "    def __sub__(self, other):\n",
    "        self.result = self.total_seconds - other.total_seconds\n",
    "        return self.output(self.result)\n",
    "    \n",
    "    def __mul__(self, other):\n",
    "        self.result = self.total_seconds * other\n",
    "        return self.output(self.result)\n",
    "\n",
    "fti = Interval(21,58,50)\n",
    "sti = Interval(1,45,22)\n",
    "try:\n",
    "    if isinstance(fti, Interval) and isinstance(sti, Interval):\n",
    "        print(\"First Time Interval:\\t\\t\", fti)\n",
    "        print(\"Second Time Interval:\\t\\t\",sti)\n",
    "        print(\"The result of (fit + sti):\\t\", fti + sti)\n",
    "        print(\"The result of (fti - sti):\\t\", fti - sti)\n",
    "        print(\"The result of (fti * 2):\\t\", fti * 2)\n",
    "    else:\n",
    "        raise TypeError\n",
    "except:\n",
    "    print(\"TypeError\")"
   ]
  },
  {
   "cell_type": "markdown",
   "metadata": {},
   "source": [
    "### 2.1.1.11 Python core syntax: LAB #2"
   ]
  },
  {
   "cell_type": "markdown",
   "metadata": {},
   "source": [
    "#### Scenario\n",
    "\n",
    "\n",
    "- Extend the class implementation prepared in the previous lab to support the addition and subtraction of integers to time interval objects;\n",
    "- to add an integer to a time interval object means to add seconds;\n",
    "- to subtract an integer from a time interval object means to remove seconds.\n",
    "\n",
    "\n",
    "- Hint\n",
    "    - in the case when a special method receives an integer type argument, instead of a time interval object, create a new time interval object based on the integer value.\n",
    "\n",
    "\n",
    "- Test data:\n",
    "\n",
    "    - the time interval (tti) is hours=21, minutes=58, seconds=50\n",
    "    - the expected result of addition (tti + 62) is 21:59:52\n",
    "    - the expected result of subtraction (tti - 62) is 21:57:48"
   ]
  },
  {
   "cell_type": "code",
   "execution_count": 40,
   "metadata": {},
   "outputs": [
    {
     "name": "stdout",
     "output_type": "stream",
     "text": [
      "The Time Interval:\t\t 21:58:50\n",
      "The result of (ttl + 62):\t 21:59:52\n",
      "The result of (ttl - 62):\t 21:57:48\n"
     ]
    }
   ],
   "source": [
    "class Interval:\n",
    "       \n",
    "    def __init__(self, hours=0, minutes=0, seconds=0):\n",
    "        self.hours = hours\n",
    "        self.minutes = minutes\n",
    "        self.seconds = seconds\n",
    "        self.total_seconds = 60*60*self.hours + 60*self.minutes + self.seconds\n",
    "        \n",
    "    def __str__(self):\n",
    "        self.init_str = \"{}:{}:{}\".format(self.hours, self.minutes, self.seconds)\n",
    "        return self.init_str\n",
    "        \n",
    "    def output(self, result):\n",
    "        self.result_hours = self.result // 3600\n",
    "        self.result_minutes = (self.result - self.result_hours*3600) // 60\n",
    "        self.result_seconds = self.result - self.result_hours*3600 - self.result_minutes*60\n",
    "        self.message = \"{}:{}:{}\".format(self.result_hours, self.result_minutes, self.result_seconds)\n",
    "        return self.message\n",
    "                \n",
    "    def __add__(self, other):\n",
    "        if isinstance(other, Interval):\n",
    "            self.result = self.total_seconds + other.total_seconds\n",
    "        elif isinstance(other, int):\n",
    "            self.result = self.total_seconds + other\n",
    "        else:\n",
    "            raise TypeError()\n",
    "        return self.output(self.result)\n",
    "                \n",
    "    def __sub__(self, other):\n",
    "        if isinstance(other, Interval):\n",
    "            self.result = self.total_seconds - other.total_seconds\n",
    "        elif isinstance(other, int):\n",
    "            self.result = self.total_seconds - other\n",
    "        else:\n",
    "            raise TypeError()\n",
    "        return self.output(self.result)\n",
    "    \n",
    "    def __mul__(self, other):\n",
    "        self.result = self.total_seconds * other\n",
    "        return self.output(self.result)\n",
    "\n",
    "ttl = Interval(21,58,50)\n",
    "print(\"The Time Interval:\\t\\t\", ttl)\n",
    "print(\"The result of (ttl + 62):\\t\", ttl + 62)\n",
    "print(\"The result of (ttl - 62):\\t\", ttl - 62)\n"
   ]
  },
  {
   "cell_type": "markdown",
   "metadata": {},
   "source": [
    "### 2.2.1.1 Inheritance and polymorphism — Inheritance as a pillar of OOP"
   ]
  },
  {
   "cell_type": "markdown",
   "metadata": {},
   "source": [
    "- Inheritance is one of the fundamental concepts of object oriented programming, and expresses the fundamental relationships between classes: superclasses (parents) and their subclasses (descendants). Inheritance creates a class hierarchy. Any object bound to a specific level of class hierarchy inherits all the traits (methods and attributes) defined inside any of the superclasses.\n",
    "\n",
    "\n",
    "- This means that inheritance is a way of building a new class, not from scratch, but by using an already defined repertoire of traits. The new class inherits (and this is the key) all the already existing equipment, but is able to add some new features if needed.\n",
    "\n",
    "\n",
    "- Each subclass is more specialized (or more specific) than its superclass. Conversely, each superclass is more general (more abstract) than any of its subclasses. Note that we've presumed that a class may only have one superclass — this is not always true, but we'll discuss this issue more a bit later."
   ]
  },
  {
   "cell_type": "markdown",
   "metadata": {},
   "source": [
    "![](./images/10_inhetitance.png)"
   ]
  },
  {
   "cell_type": "markdown",
   "metadata": {},
   "source": [
    "### 2.2.1.2 Inheritance and polymorphism — Single inheritance vs. multiple inheritance"
   ]
  },
  {
   "cell_type": "markdown",
   "metadata": {},
   "source": [
    "- There are no obstacles to using multiple inheritance in Python. You can derive any new class from more than one previously defined class.\n",
    "\n",
    "- But multiple inheritance should be used with more prudence than single inheritance because:\n",
    "\n",
    "    - a single inheritance class is always simpler, safer, and easier to understand and maintain;\n",
    "    - multiple inheritance may make method overriding somewhat tricky; moreover, using the super() function can lead to ambiguity;\n",
    "    - it is highly probable that by implementing multiple inheritance you are violating the single responsibility principle;\n",
    "    \n",
    "- If your solution tends to require multiple inheritance, it might be a good idea to think about implementing composition"
   ]
  },
  {
   "cell_type": "markdown",
   "metadata": {},
   "source": [
    "#### MRO — Method Resolution Order"
   ]
  },
  {
   "cell_type": "markdown",
   "metadata": {},
   "source": [
    "- The spectrum of issues possibly coming from multiple inheritance is illustrated by a classical problem named the diamond problem, or even the deadly diamond of death. The name reflects the shape of the inheritance diagram — take a look at the picture.\n",
    "\n",
    "    - There is the top-most superclass named A;\n",
    "    - there are two subclasses derived from A — B and C;\n",
    "    - and there is also the bottom-most subclass named D, derived from B and C (or C and B, as these two variants mean different things in Python)\n"
   ]
  },
  {
   "cell_type": "markdown",
   "metadata": {},
   "source": [
    "![](./images/11_MRO.png)"
   ]
  },
  {
   "cell_type": "markdown",
   "metadata": {},
   "source": [
    "### 2.2.1.3 Inheritance and polymorphism — Single inheritance vs. multiple inheritance"
   ]
  },
  {
   "cell_type": "markdown",
   "metadata": {},
   "source": [
    "- The ambiguity that arises here is caused by the fact that class B and class C are inherited from superclass A, and class D is inherited from both classes B and C. If you want to call the method info(), which part of the code would be executed then?"
   ]
  },
  {
   "cell_type": "code",
   "execution_count": 1,
   "metadata": {},
   "outputs": [
    {
     "name": "stdout",
     "output_type": "stream",
     "text": [
      "Class B\n"
     ]
    }
   ],
   "source": [
    "class A:\n",
    "    def info(self):\n",
    "        print('Class A')\n",
    "\n",
    "class B(A):\n",
    "    def info(self):\n",
    "        print('Class B')\n",
    "\n",
    "class C(A):\n",
    "    def info(self):\n",
    "        print('Class C')\n",
    "\n",
    "class D(B, C):\n",
    "    pass\n",
    "\n",
    "D().info()\n"
   ]
  },
  {
   "cell_type": "markdown",
   "metadata": {},
   "source": [
    "- In the multiple inheritance scenario, any specified attribute is searched for first in the current class. If it is not found, the search continues into the direct parent classes in depth-first level (the first level above), from the left to the right, according to the class definition. This is the result of the MRO algorithm.\n",
    "\n",
    "- In our case:\n",
    "\n",
    "    - class D does not define the method info(), so Python has to look for it in the class hierarchy;\n",
    "    - class D is constructed in this order:\n",
    "        - the definition of class B is fetched;\n",
    "        - the definition of class C is fetched;\n",
    "    - Python finds the requested method in the class B definition and stops searching;\n",
    "    - Python executes the method."
   ]
  },
  {
   "cell_type": "markdown",
   "metadata": {},
   "source": [
    "#### Possible pitfalls — MRO inconsistency"
   ]
  },
  {
   "cell_type": "markdown",
   "metadata": {},
   "source": [
    "- ***MRO*** can report definition inconsistencies when a subtle change in the class D definition is introduced, which is possible when you work with complex class hierarchies."
   ]
  },
  {
   "cell_type": "code",
   "execution_count": 2,
   "metadata": {},
   "outputs": [
    {
     "ename": "TypeError",
     "evalue": "Cannot create a consistent method resolution\norder (MRO) for bases A, C",
     "output_type": "error",
     "traceback": [
      "\u001b[1;31m---------------------------------------------------------------------------\u001b[0m",
      "\u001b[1;31mTypeError\u001b[0m                                 Traceback (most recent call last)",
      "\u001b[1;32m<ipython-input-2-06a32aaacb11>\u001b[0m in \u001b[0;36m<module>\u001b[1;34m\u001b[0m\n\u001b[0;32m     11\u001b[0m         \u001b[0mprint\u001b[0m\u001b[1;33m(\u001b[0m\u001b[1;34m'Class C'\u001b[0m\u001b[1;33m)\u001b[0m\u001b[1;33m\u001b[0m\u001b[1;33m\u001b[0m\u001b[0m\n\u001b[0;32m     12\u001b[0m \u001b[1;33m\u001b[0m\u001b[0m\n\u001b[1;32m---> 13\u001b[1;33m \u001b[1;32mclass\u001b[0m \u001b[0mD\u001b[0m\u001b[1;33m(\u001b[0m\u001b[0mA\u001b[0m\u001b[1;33m,\u001b[0m \u001b[0mC\u001b[0m\u001b[1;33m)\u001b[0m\u001b[1;33m:\u001b[0m\u001b[1;33m\u001b[0m\u001b[1;33m\u001b[0m\u001b[0m\n\u001b[0m\u001b[0;32m     14\u001b[0m     \u001b[1;32mpass\u001b[0m\u001b[1;33m\u001b[0m\u001b[1;33m\u001b[0m\u001b[0m\n\u001b[0;32m     15\u001b[0m \u001b[1;33m\u001b[0m\u001b[0m\n",
      "\u001b[1;31mTypeError\u001b[0m: Cannot create a consistent method resolution\norder (MRO) for bases A, C"
     ]
    }
   ],
   "source": [
    "class A:\n",
    "    def info(self):\n",
    "        print('Class A')\n",
    "\n",
    "class B(A):\n",
    "    def info(self):\n",
    "        print('Class B')\n",
    "\n",
    "class C(A):\n",
    "    def info(self):\n",
    "        print('Class C')\n",
    "\n",
    "class D(A, C):\n",
    "    pass\n",
    "\n",
    "D().info()\n"
   ]
  },
  {
   "cell_type": "markdown",
   "metadata": {},
   "source": [
    "- This message informs us that the MRO algorithm had problems determining which method (originating from the A or C classes) should be called."
   ]
  },
  {
   "cell_type": "markdown",
   "metadata": {},
   "source": [
    "### 2.2.1.5 Inheritance and polymorphism — Single inheritance vs. multiple inheritance"
   ]
  },
  {
   "cell_type": "markdown",
   "metadata": {},
   "source": [
    "- Due to MRO, you should knowingly list the superclasses in the subclass definition. In the following example, class D is based on classes B and C, whereas class E is based on classes C and B (the order matters!)."
   ]
  },
  {
   "cell_type": "code",
   "execution_count": null,
   "metadata": {},
   "outputs": [],
   "source": []
  },
  {
   "cell_type": "code",
   "execution_count": null,
   "metadata": {},
   "outputs": [],
   "source": []
  },
  {
   "cell_type": "code",
   "execution_count": null,
   "metadata": {},
   "outputs": [],
   "source": []
  },
  {
   "cell_type": "code",
   "execution_count": null,
   "metadata": {},
   "outputs": [],
   "source": []
  },
  {
   "cell_type": "code",
   "execution_count": null,
   "metadata": {},
   "outputs": [],
   "source": []
  },
  {
   "cell_type": "code",
   "execution_count": null,
   "metadata": {},
   "outputs": [],
   "source": []
  },
  {
   "cell_type": "code",
   "execution_count": null,
   "metadata": {},
   "outputs": [],
   "source": []
  },
  {
   "cell_type": "code",
   "execution_count": null,
   "metadata": {},
   "outputs": [],
   "source": []
  },
  {
   "cell_type": "code",
   "execution_count": null,
   "metadata": {},
   "outputs": [],
   "source": []
  },
  {
   "cell_type": "code",
   "execution_count": null,
   "metadata": {},
   "outputs": [],
   "source": []
  },
  {
   "cell_type": "code",
   "execution_count": null,
   "metadata": {},
   "outputs": [],
   "source": []
  }
 ],
 "metadata": {
  "kernelspec": {
   "display_name": "Python 3",
   "language": "python",
   "name": "python3"
  },
  "language_info": {
   "codemirror_mode": {
    "name": "ipython",
    "version": 3
   },
   "file_extension": ".py",
   "mimetype": "text/x-python",
   "name": "python",
   "nbconvert_exporter": "python",
   "pygments_lexer": "ipython3",
   "version": "3.7.4"
  }
 },
 "nbformat": 4,
 "nbformat_minor": 2
}
