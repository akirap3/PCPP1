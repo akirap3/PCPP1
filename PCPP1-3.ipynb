{
 "cells": [
  {
   "cell_type": "markdown",
   "metadata": {},
   "source": [
    "## Python Professional Course Series: GUI Programming"
   ]
  },
  {
   "cell_type": "markdown",
   "metadata": {},
   "source": [
    "### Introduction to GUI Programming in Python: tkinter"
   ]
  },
  {
   "cell_type": "markdown",
   "metadata": {},
   "source": [
    "After completing this course you will know:\n",
    "\n",
    "- what GUI is and where it came from;\n",
    "- how to construct a GUI using basic blocks and conventions;\n",
    "- how event-driven programming works;\n",
    "- some popular and commonly used GUI environments and toolkits;\n",
    "- what tkinter is and how to build a GUI with its help;\n",
    "- how to use widgets, windows, and events, and how to create basic applications based on tkinter's application life cycle."
   ]
  },
  {
   "cell_type": "markdown",
   "metadata": {},
   "source": [
    "### 1.1.1.2 What is a GUI and why do we like it so much?"
   ]
  },
  {
   "cell_type": "markdown",
   "metadata": {},
   "source": [
    "### What is GUI?\n",
    "GUI is an acronym. Moreover, it’s a three-letter acronym, a representative of a well-known class of acronyms which plays a very important role in the IT industry. Okay, that’s enough jokes about TLA’s for one course, all the more that GUI is present nearly everywhere. Look around you – you’ll see a couple of different devices equipped with screens: phone, tablet, computer, TV set, fridge, oven, even washing machine or heating controller – all these things have a screen, most of them colored and many (more and more every year) use it to display a GUI and to communicate with the user. They communicate bidirectionally.\n",
    "\n",
    "GUI stands for **Graphical User Interface**. In this three-word acronym, the User seems to be the most obvious part. The word Interface needs some more reflection, but in fact, it is clear too – it’s a tool used by the user to command a device and to receive its responses.\n",
    "\n",
    "But what does it mean that the interface is graphical?"
   ]
  },
  {
   "cell_type": "markdown",
   "metadata": {},
   "source": [
    "### Terminals\n",
    "\n",
    "For a very long time (about 30 years or even longer) displays weren’t treated as a part of computers. A computer (sometimes called a mainframe) was a very big box (much, much bigger than the biggest refrigerator you ever had in your home) with thousands of colored lights, blinking all the time, and hundreds of switches (also colored).\n",
    "\n",
    "“Okay,” you may say, “nice image, but how could we control such a computer?”\n",
    "\n",
    "To control the computer, you needed to have a specialized and completely separate device called a terminal. The terminal needed to be wired to a computer (don’t forget that the Internet had not been invented yet) and was rarely placed in the same room. It could be placed in a different building, a different city or even on a different continent.\n",
    "\n",
    "But the most intriguing part of the story was that the terminal:\n",
    "\n",
    "- was monochrome (it could display either grey, amber, or green dots on a black or nearly black background);\n",
    "- wasn’t able to display anything but letters, digits, and a few other characters.\n",
    "\n",
    "The latter limitation is the most important as it dictated the way software was built for a very long time, almost an era in the history of IT technology.\n",
    "\n",
    "Think about it. Try to imagine what it was like to work with a computer without not being able to see a picture, not saying a word about movies or animations.\n",
    "\n",
    "No photographs, no selfies, no avatars, no animated banners and finally, no colors.\n",
    "\n",
    "How do you like it?\n",
    "\n",
    "Take a look at the two classical terminals which exerted the greatest influence on the construction of such equipment and became worldwide industry standards. The first of them is the **IBM 3270**, and the second is the Digital Equipment Corporation’s **VT100**.\n",
    "\n",
    "Now it’s time for the second part of our time travel adventure. Are you ready?"
   ]
  },
  {
   "cell_type": "markdown",
   "metadata": {},
   "source": [
    "### Visual programming"
   ]
  },
  {
   "cell_type": "markdown",
   "metadata": {},
   "source": [
    "Creating applications able to utilize GUI features is sometimes called visual programming.\n",
    "\n",
    "The term stresses the fact that an application's look is as important as its functionality, but it's not just a matter of what you see on the screen, but also what you can do to change its state, and how you force the application to submit to your will.\n",
    "\n",
    "The GUI created completely new possibilities unknown to users in previous eras: clicks and taps replaced keystrokes.\n",
    "\n",
    "We're going to show you that such programming demands a completely different approach, and a completely different understanding of application activities.\n",
    "\n",
    "Let's summarize some important aspects of visual programming.\n",
    "\n",
    "A working GUI application externalizes its existence by creating a window (or windows) visible on the screen.\n",
    "\n",
    "In some environments (e.g., on mobile devices) the window can occupy the whole screen, so not more than one application can be visible on screen at once.\n",
    "\n",
    "The application's window is usually equipped with certain decorations: a title bar, a frame, buttons, icons, etc. As you probably know, the style in which the decorations are visualized and placed within the window may be treated as an operating system's birthmark. We're sure that you can distinguish different MS Windows versions just by looking at the colors and shapes visible on the screen.\n",
    "\n",
    "Some operating environments completely disable a user's effect on the way in which the OS decorates application windows. Others don't – the user can define their own style and colors of virtually all the GUI elements.\n",
    "\n",
    "Some operating systems devote the whole screen to one application, so the decorations are extremely minimalistic or completely absent.\n",
    "\n",
    "Fortunately, it has very little effect on the developer's work."
   ]
  },
  {
   "cell_type": "markdown",
   "metadata": {},
   "source": [
    "### Widgets\n",
    "\n",
    "The user interacts with the GUI by using gestures: a mouse's movements, clicks targeting selected GUI elements, or by dragging other elements. Touch screens may offer something more: tapping (single or double or even more complex), swiping, and pinching.\n",
    "\n",
    "The GUI elements designed to receive such gestures are called ***controls*** or ***widgets***.\n",
    "\n"
   ]
  },
  {
   "cell_type": "markdown",
   "metadata": {},
   "source": [
    "![](./images/26_widget.png)"
   ]
  },
  {
   "cell_type": "markdown",
   "metadata": {},
   "source": [
    "Note that the whole GUI idea was inspired by electrical control panels – devices full of switches, gauges, and colored warning lights. You'll find some traces of these inspirations in widget names. Don't be surprised.\n",
    "\n",
    "One of the widgets living inside a particular window owns the focus. The widget (which is also called the **focused widget**) is the default recipient of some or all of the user's actions. Of course, the focus may change its owner, which is usually done by pressing the Tab key.\n",
    "\n",
    "For example, pressing the space bar may activate different activities depending on which of the window's widgets is currently focused.\n",
    "\n",
    "Now let's take a look at a very simple window."
   ]
  },
  {
   "cell_type": "markdown",
   "metadata": {},
   "source": [
    "Let's try to identify all visible window components. This is a very important distinction, as the window hides some of its secrets from the user. We can even say that each window comprises very complicated machinery driving all the window's behaviors. But we're not interested in that yet.\n",
    "\n",
    "First of all, the window has a **title bar**. It's one of the typical window decorations."
   ]
  },
  {
   "cell_type": "markdown",
   "metadata": {},
   "source": [
    "![](./images/27_title_bar.png)"
   ]
  },
  {
   "cell_type": "markdown",
   "metadata": {},
   "source": [
    "Inside the title bar there is (or can be) a set of control buttons. Our sample window contains only one: the **closing button**. Note that the location of these buttons is OS-dependent."
   ]
  },
  {
   "cell_type": "markdown",
   "metadata": {},
   "source": [
    "![](./images/28_closing_button.png)"
   ]
  },
  {
   "cell_type": "markdown",
   "metadata": {},
   "source": [
    "Inside the title bar (as the name suggests) there is a window **title**. Of course, some of the windows may also be untitled."
   ]
  },
  {
   "cell_type": "markdown",
   "metadata": {},
   "source": [
    "![](./images/29_title.png)"
   ]
  },
  {
   "cell_type": "markdown",
   "metadata": {},
   "source": [
    "The window's interior is equipped with a set of widgets responsible for implementing the window's functionalities. Some of them are active (they can receive a user's clicks or, in other words, they are clickable) while others aren't.\n",
    "\n",
    "One of these non-clickables is an **icon** – a small picture that usually helps the user to quickly identify the issue."
   ]
  },
  {
   "cell_type": "markdown",
   "metadata": {},
   "source": [
    "![](./images/30_icon.png)"
   ]
  },
  {
   "cell_type": "markdown",
   "metadata": {},
   "source": [
    "Another non-clickable member of the window's team is a **label** – a piece of text inside a window which literally explains the window's purpose."
   ]
  },
  {
   "cell_type": "markdown",
   "metadata": {},
   "source": [
    "![](./images/31_label.png)"
   ]
  },
  {
   "cell_type": "markdown",
   "metadata": {},
   "source": [
    "As our sample window performs a very specific task (it asks a question and forces the user to reply), it needs two buttons assigned to the user's possible answers.\n",
    "\n",
    "The first of them is titled Yes and – look carefully! – it's currently focused!"
   ]
  },
  {
   "cell_type": "markdown",
   "metadata": {},
   "source": [
    "![](./images/32_button.png)"
   ]
  },
  {
   "cell_type": "markdown",
   "metadata": {},
   "source": [
    "Can you guess how we know that?\n",
    "\n",
    "Yes, it's shown by the thin dotted line drawn around the button. If you press the space bar now, it will be taken as an affirmative answer.\n",
    "\n"
   ]
  },
  {
   "cell_type": "markdown",
   "metadata": {},
   "source": [
    "The second of the buttons is not focused yet.\n",
    "\n",
    "What can we do to move the focus to the button?\n",
    "\n",
    "Yes, we can press the Tab key."
   ]
  },
  {
   "cell_type": "markdown",
   "metadata": {},
   "source": [
    "![](./images/33_button.png)"
   ]
  },
  {
   "cell_type": "markdown",
   "metadata": {},
   "source": [
    "Note: the underlined letters within the buttons' title show the shortcuts. Pressing these keys has the same effect as clicking one of the buttons.\n",
    "\n",
    "And what does all this mean?\n",
    "\n",
    "This means something very important to us. You may not want to believe us at the moment, but the traditional programming paradigm in which the programmer is responsible for responding to literally all the user's actions is completely useless in visual programming.\n",
    "\n",
    "Why?\n",
    "\n",
    "Because the number of all possible user moves is so substantial that continuous checking of the window's state changes, along with controlling all widget behavior, making the coding extremely heavy, and the code becomes badly bloated.\n",
    "\n",
    "In a slightly more suggestive way, you could also say that widgets aren't introverts. They are not in the habit of concealing their emotions, and like very much to influence other widgets (e.g., moving the focus always engages two widgets: the one that loses the focus and the one that gains it). This means that the programmer is obliged not only to control each of the widgets separately, but also their pair, triple, and so on.\n",
    "\n",
    "Let's try to imagine it."
   ]
  },
  {
   "cell_type": "markdown",
   "metadata": {},
   "source": [
    "Look at the pseudo-code below:"
   ]
  },
  {
   "cell_type": "code",
   "execution_count": null,
   "metadata": {},
   "outputs": [],
   "source": [
    "while True:\n",
    "    wait_for_user_action()\n",
    "    if user_pressed_button_yes():\n",
    "    :\n",
    "    elif user_pressed_button_no():\n",
    "    :\n",
    "    elif user_move_mouse_coursor_over_button_yes():\n",
    "    :\n",
    "    elif user_move_mouse_coursor_over_button_no():\n",
    "    :\n",
    "    elif user_pressed_Tab_key():\n",
    "        if isfocused(button_yes):\n",
    "        :\n",
    "        elif isfocused(button_no):\n",
    "       :\n",
    "    :\n",
    "    :"
   ]
  },
  {
   "cell_type": "markdown",
   "metadata": {},
   "source": [
    "Note: The pseudo-code is deprived of all details. Moreover, it's not complete. It covers less than about 10 % of all possible events, and should be heavily developed to behave in a reasonable way.\n",
    "\n",
    "Believe us: you don't want to write a code like this one. Fortunately, you don't need to.\n",
    "\n",
    "Visual programming demands a completely different philosophy, or (expressing this thought in a more fashionable way) it needs a different paradigm.\n",
    "\n",
    "This paradigm exists, and is widely applied to create GUI applications.\n",
    "\n",
    "It's called **event-driven programming**."
   ]
  },
  {
   "cell_type": "markdown",
   "metadata": {},
   "source": [
    "### Classical vs. event-driven paradigm"
   ]
  },
  {
   "cell_type": "markdown",
   "metadata": {},
   "source": [
    "What is EDP like? Or rather, what is EDP unlike?\n",
    "\n",
    "First of all, detecting, registering and classifying all of a user's actions is beyond the programmer's control – there is a dedicated component called the event controller which takes care of this. It's automatic and completely opaque. You don't need to do anything (or almost anything) to make the machinery run, but you are obliged to do something else.\n",
    "\n",
    "You have to inform the event controller what you want to perform when a particular event (e.g., a mouse click). This is done by writing specialized functions called event handlers. You write these handlers only for the events you want to serve – all other events will activate default behaviors (e.g., focus moving and window closing).\n",
    "\n",
    "Of course, just implementing an event handler is not enough – you also have to make the event controller aware of it.\n",
    "\n",
    "Let's imagine that we have a function named DoSomething() which... does something. We want the function to be invoked when a user clicks a button called DO IT!.\n",
    "\n",
    "In the classical paradigm we would have to:\n",
    "\n",
    "- discover the click and check if it happened over our button;\n",
    "- redraw the button to reflect the click (e.g., to show that it is actually pressed)\n",
    "- invoke the function.\n",
    "\n",
    "In the event-driven paradigm our duties look completely different:\n",
    "\n",
    "- the event controller detects the clicks on its own;\n",
    "- it identifies the target of the click on its own;\n",
    "- it invokes the desired function on its own;\n",
    "- all these actions take place behind the scenes! Really!\n"
   ]
  },
  {
   "cell_type": "markdown",
   "metadata": {},
   "source": [
    "### Events\n",
    "Have you noticed? We silently introduced a new word into our discussion. It’s the event.\n",
    "\n",
    "What it is? Or rather, what could it be?\n",
    "\n",
    "There are lots of events which an event manager is committed to recognizing, discovering, and serving. Here are some of them:\n",
    "\n",
    "- pressing the mouse button;\n",
    "- releasing the mouse button (actually, an ordinary mouse click consists of these two subsequent events)\n",
    "- moving the mouse cursor;\n",
    "- dragging something under the mouse cursor;\n",
    "- pressing and releasing a key;\n",
    "- tapping a screen;\n",
    "- tracking the passage of time;\n",
    "- monitoring a widget’s state change;\n",
    "- and many, many more..."
   ]
  },
  {
   "cell_type": "markdown",
   "metadata": {},
   "source": [
    "### TkInter\n",
    "Unfortunately, each operating system delivers its own set of services designed to operate with its native GUI. Moreover, some of them (e.g., Linux) may define more than one standard for visual programming (two of the most widespread in the U*x world are named GTK and Qt).\n",
    "\n",
    "This means that if we want to build portable GUI applications (i.e., apps able to work under different operating environments that always look the same) we need something more – we need an adapter. A set of uniform facilities enables us, the programmers, to write one code and not worry about portability.\n",
    "\n",
    "Such an adapter is called a ***widget toolkit***, a ***GUI toolkit***, or a ***UX library***.\n",
    "\n",
    "One of these toolkits, which is very attractive to us, is Tk."
   ]
  },
  {
   "cell_type": "markdown",
   "metadata": {},
   "source": [
    "Here are some of its features:\n",
    "\n",
    "- it’s free and open (we don’t need to pay for anything)\n",
    "- it has been developed since 1991 (which means it’s stable and mature)\n",
    "- it defines and serves more than thirty different universal widgets (which is enough even for quite complex applications)\n",
    "- its implementation is available for many programming languages (of course, for Python too)\n",
    "\n",
    "The module that brings Tk to the Python world is named TkInter, which is short for Tk Interface. It’s free and open, too.\n",
    "\n",
    "You may have some trouble believing that you’ve been using TkInter for a long time, actually since your very first encounter with programming in Python.\n",
    "\n",
    "Yes, it’s true – IDLE, the very first Python IDE, is written using TkInter.\n",
    "\n",
    "We think this is the best recommendation – don’t you?"
   ]
  },
  {
   "cell_type": "markdown",
   "metadata": {},
   "source": [
    "### Importing TkInter\n",
    "As you already know, from Python's point of view TkInter is a package named tkinter. The package contains a bunch of functions, constants, classes, objects, and modules used to build GUI applications.\n",
    "\n",
    "The GUI application itself consists of four essential elements:\n",
    "\n",
    "- importing the needed tkinter components;\n",
    "- creating an application’s main window;\n",
    "- adding a set of necessary widgets to the window;\n",
    "- launching the event controller.\n",
    "\n",
    "That’s all. Really. Looks too good to be true? Let us show how it works. We’ll do it step-by-step. Ready?"
   ]
  },
  {
   "cell_type": "markdown",
   "metadata": {},
   "source": [
    "The simplest (and at the same time the less controllable) way of importing tkinter facilities is to import the package as a whole:"
   ]
  },
  {
   "cell_type": "code",
   "execution_count": null,
   "metadata": {},
   "outputs": [],
   "source": [
    "import tkinter"
   ]
  },
  {
   "cell_type": "markdown",
   "metadata": {},
   "source": [
    "Note: it won’t allow you to access some modules built-in within the package and you will still have to import them separately. As you already now, such an import will force you to use the qualified names of tkinter’s components.\n",
    "\n",
    "If you don’t like to write long package names each time you make use of their contents, you can perform an import which renames the package (precisely: which creates an alias of its original name) at the time of import.\n",
    "\n",
    "`tk` looks shorter than `tkinter`, doesn’t it?"
   ]
  },
  {
   "cell_type": "code",
   "execution_count": null,
   "metadata": {},
   "outputs": [],
   "source": [
    "import tkinter as tk"
   ]
  },
  {
   "cell_type": "markdown",
   "metadata": {},
   "source": [
    "### 1.2.1.2 Let TkInter speak!"
   ]
  },
  {
   "cell_type": "markdown",
   "metadata": {},
   "source": [
    "If you like to have full control over all your source code, you can make the import process **extremely itemized** by importing each of the facilities separately – just like this:"
   ]
  },
  {
   "cell_type": "code",
   "execution_count": null,
   "metadata": {},
   "outputs": [],
   "source": [
    "from tkinter import Button"
   ]
  },
  {
   "cell_type": "markdown",
   "metadata": {},
   "source": [
    "If you're an enthusiast of living life on the edge, you can simplify your import (but not the rest of your work) by using the star as a component name:"
   ]
  },
  {
   "cell_type": "code",
   "execution_count": null,
   "metadata": {},
   "outputs": [],
   "source": [
    "from tkinter import *"
   ]
  },
  {
   "cell_type": "markdown",
   "metadata": {},
   "source": [
    "It's handy when you write it, but it can bring some cumbersome troubles when names from the package's namespace cross with some of your private names.\n",
    "\n",
    "Don't think we're going to discourage you from using this form. It's only a warning. Or rather a piece of friendly advice.\n",
    "\n",
    "Now we're ready to create our first application. The application will be completely mute, deaf to the same extent as it is mute, and thus completely indifferent to any input. Don't worry, we'll breathe some life into it soon – it's only a very first step.\n",
    "\n",
    "Look at the code in the editor.\n",
    "\n",
    "The main application window (which is often the only window being used by the application) is created by the tkinter method named Tk(). In its most commonly used form, it needs no arguments. The object returned by the method is complete, but at the same time, completely **invisible**. Moreover, it won't be visible until the event controller starts.\n",
    "\n",
    "To start the controller, you have to invoke the main window's method, named `mainloop()`.\n",
    "\n",
    "The name is significant because – as you can see – there is nothing more you can do in your code. Entering the controller's main loop **deprives you** of the possibility of direct control over the code's execution. Now you're fully at the mercy of the controller. Exiting the main loop is equivalent to finishing the application, as without the controller's companion there is nothing more you can do.\n",
    "\n",
    "Let's run the code now."
   ]
  },
  {
   "cell_type": "code",
   "execution_count": 2,
   "metadata": {},
   "outputs": [],
   "source": [
    "import tkinter\n",
    "\n",
    "skylight = tkinter.Tk()\n",
    "skylight.mainloop()\n"
   ]
  },
  {
   "cell_type": "markdown",
   "metadata": {},
   "source": [
    "可以加上 title "
   ]
  },
  {
   "cell_type": "code",
   "execution_count": 1,
   "metadata": {},
   "outputs": [],
   "source": [
    "import tkinter\n",
    "\n",
    "skylight = tkinter.Tk()\n",
    "skylight.title(\"Skylight\")\n",
    "skylight.mainloop()\n"
   ]
  },
  {
   "cell_type": "code",
   "execution_count": null,
   "metadata": {},
   "outputs": [],
   "source": [
    "加上 button"
   ]
  },
  {
   "cell_type": "code",
   "execution_count": 3,
   "metadata": {},
   "outputs": [],
   "source": [
    "import tkinter\n",
    "\n",
    "skylight = tkinter.Tk()\n",
    "skylight.title(\"Skylight\")\n",
    "button = tkinter.Button(skylight, text=\"Bye!\")\n",
    "button.place(x=10, y=10)\n",
    "skylight.mainloop()\n"
   ]
  },
  {
   "cell_type": "markdown",
   "metadata": {},
   "source": [
    "- the widget's coordinates refer defaultly to the pixel occupied by the upper-left corner;\n",
    "- the widget's size is **defaultly determined** by the constructor in order to fit the widget's content (the title's length and height in this case)\n",
    "- the widget's location is **measured in pixels**, but there is one important issue which distinguishes the screen coordinates from the ones used by the geometry; look: this is what the Cartesian two-dimensional coordinates system looks like:"
   ]
  },
  {
   "cell_type": "markdown",
   "metadata": {},
   "source": [
    "![](./images/34_Cartesian_coordinates.png)"
   ]
  },
  {
   "cell_type": "markdown",
   "metadata": {},
   "source": [
    "while the screen coordinates look as follows:"
   ]
  },
  {
   "cell_type": "markdown",
   "metadata": {},
   "source": [
    "![](./images/35_Screen_coordinates.png)"
   ]
  },
  {
   "cell_type": "markdown",
   "metadata": {},
   "source": [
    "- This means that a pixel described as (x=10,y=10) is located near the **top-left window corner**. Be aware of this!"
   ]
  },
  {
   "cell_type": "markdown",
   "metadata": {},
   "source": [
    "### Event handler"
   ]
  },
  {
   "cell_type": "code",
   "execution_count": 1,
   "metadata": {},
   "outputs": [],
   "source": [
    "import tkinter\n",
    "\n",
    "def Click():\n",
    "    skylight.destroy();\n",
    "    \n",
    "skylight = tkinter.Tk()\n",
    "skylight.title(\"Skylight\")\n",
    "button = tkinter.Button(skylight, text=\"Bye!\", command=Click)\n",
    "button.place(x=10, y=10)\n",
    "skylight.mainloop()"
   ]
  },
  {
   "cell_type": "markdown",
   "metadata": {},
   "source": [
    "An event handler is a piece of code responsible for ***responding to all clicks addressed to our button***.\n",
    "\n",
    "The event handler we need has a simple assignment – we want it to just terminate our application. This crucial operation is done with a main window method called – don't be afraid – `destroy()`. It's a parameterless method, as destroying needs (in contrast to creation) no arguments at all.\n",
    "\n",
    "How do we write the event handler?\n",
    "\n",
    "It's a **function**. Just a simple function. The handler used by the button has to be a parameterless function of any name. Don't forget that the function will be invoked, not by us, but **only by the controller**.\n",
    "\n",
    "Furthermore, invoking your own handler is strictly prohibited, as it can completely confuse the event controller."
   ]
  },
  {
   "cell_type": "markdown",
   "metadata": {},
   "source": [
    "Note: a function designed to be invoked by someone/something else (not us!) is often called a callback. We'll use the names handler and callback interchangeably."
   ]
  },
  {
   "cell_type": "markdown",
   "metadata": {},
   "source": [
    "Two remarks should be made here:\n",
    "\n",
    "binding the callback with the widget by using the `command` constructor's parameter is not the only way offered by `tkinter` for this purpose; moreover, **callbacks can be replaced** during program execution – we'll tell you more about that soon;\n",
    "the one and same **callback can be bound with more than one widget** – it's a very useful solution in some cases."
   ]
  },
  {
   "cell_type": "markdown",
   "metadata": {},
   "source": [
    "---"
   ]
  },
  {
   "cell_type": "markdown",
   "metadata": {},
   "source": [
    "Of course, closing the window without asking the user if they are really sure that this is exactly what they want to do isn't a good way to build up a relationship with them.\n",
    "\n",
    "We definitely want to ask the user before we permanently remove their window from sight.\n",
    "\n",
    "Fortunately, `tkinter` is very helpful with this issue. There is a module named `messagebox` (the name speaks for itself) which is your great companion in this and similar matters.\n",
    "\n",
    "`messagebox` is able to create **dialog boxes** intended to ask questions, display messages, and to receive a user's reply.\n",
    "\n",
    "The dialog box is an example of a **modal window** – a window which **grabs the whole of the application's focus**. It means that all other application widgets become deaf as long as the modal window is present."
   ]
  },
  {
   "cell_type": "code",
   "execution_count": 4,
   "metadata": {},
   "outputs": [],
   "source": [
    "import tkinter\n",
    "from tkinter import messagebox\n",
    "\n",
    "def Click():\n",
    "    replay = messagebox.askquestion(\"Quit?\", \"Are you sure?\")\n",
    "    if replay == \"yes\":\n",
    "        skylight.destroy();\n",
    "        \n",
    "skylight = tkinter.Tk()\n",
    "skylight.title(\"Skylight\")\n",
    "button = tkinter.Button(skylight, text=\"Bye!\", command=Click)\n",
    "button.place(x=10, y=10)\n",
    "skylight.mainloop()\n",
    "        "
   ]
  },
  {
   "cell_type": "markdown",
   "metadata": {},
   "source": [
    "### 1.3.1.1 Settling widgets in the window's interior"
   ]
  },
  {
   "cell_type": "markdown",
   "metadata": {},
   "source": [
    "### Settling widgets"
   ]
  },
  {
   "cell_type": "markdown",
   "metadata": {},
   "source": [
    "A familiarity with the `Button` widget allows us to show you some ways of putting the widgets (not only the buttons) inside windows. There are more of them than just `place()`, which you learned about in the previous section. To be precise, there are ***three different methods***.\n",
    "\n",
    "These methods are implemented by ***geometry managers***.\n",
    "\n",
    "\n",
    "#### place\n",
    "`Place` is the most detailed one. It forces you to ***precisely declare a widget's location***, pixel by pixel. It won't, however, protect you from some common mistakes causing the widgets to overlap each other or to place some of them, partially or fully, outside the window.\n",
    "\n",
    "#### pack\n",
    "If you don't want to deploy the widgets manually and worry about possible conflicts and failures, you may entrust the whole problem to tkinter. It'll try to guess your intentions and to ***find the best location*** for each widget. Unfortunately, its assumptions may not live up to your expectations, and the final result can be really disappointing. This method of settling widgets is implemented by the `pack` geometry manager.\n",
    "\n",
    "#### grid\n",
    "The `grid` geometry manager is in the middle, in between the other two geometry managers. It gives you a chance to express your ***general wishes*** and tries to deploy the widgets according to them. Note the word general – they aren't as precise as the ones used by `place`, but are far more detailed than those utilized by pack.\n",
    "\n",
    "There is one very important aspect of the issue that must be mentioned here: ***these managers cannot be mixed***. Only one of them can be used in one application, unless you want to turn your window into a big mess.\n",
    "\n",
    "We're talking seriously about it. Don't take it as a joke."
   ]
  },
  {
   "cell_type": "markdown",
   "metadata": {},
   "source": [
    "---"
   ]
  },
  {
   "cell_type": "markdown",
   "metadata": {},
   "source": [
    "The place geometry manager demands the usage of the `place()` method. Note: the method is invoked ***from within the widget's object***, not the window, as the widget is always aware of the window it belongs to (it gets the information from the constructor's very first argument).\n",
    "\n",
    "The most usable `place()` method parameters are as follows (all of them are passed as keyword arguments):\n",
    "\n",
    "- `height=h` – the widget's desired **height** measured in pixels; if the parameter is omitted, the widget's height will be determined automatically;\n",
    "- `width=w `– the widget's desired **width** measured in pixels; if the parameter is omitted, the widget's width will be determined automatically;\n",
    "- `x=x` – the widget's top-left pixel's **horizontal coordinate** measured relative to the home window's top-left corner;\n",
    "- `y=y` – the widget's top-left pixel's **vertical coordinate** measured relative to the home window's top-left corner."
   ]
  },
  {
   "cell_type": "code",
   "execution_count": 6,
   "metadata": {},
   "outputs": [],
   "source": [
    "import tkinter as tk\n",
    "\n",
    "window = tk.Tk()\n",
    "button_1 = tk.Button(window, text=\"Button #1\")\n",
    "button_2 = tk.Button(window, text=\"Button #2\")\n",
    "button_3 = tk.Button(window, text=\"Button #3\")\n",
    "button_1.place(x=10, y=10)\n",
    "button_2.place(x=20, y=40)\n",
    "button_3.place(x=30, y=70)\n",
    "window.mainloop()"
   ]
  },
  {
   "cell_type": "markdown",
   "metadata": {},
   "source": [
    "---"
   ]
  },
  {
   "cell_type": "code",
   "execution_count": null,
   "metadata": {},
   "outputs": [],
   "source": [
    "import tkinter as tk\n",
    "\n",
    "window = tk.Tk()\n",
    "button_1 = tk.Button(window, text=\"Button #1\")\n",
    "button_2 = tk.Button(window, text=\"Button #2\")\n",
    "button_3 = tk.Button(window, text=\"Button #3\")\n",
    "button_1.place(x=10, y=10, width=150)\n",
    "button_2.place(x=20, y=40)\n",
    "button_3.place(x=30, y=70, height=50)\n",
    "window.mainloop()"
   ]
  },
  {
   "cell_type": "markdown",
   "metadata": {},
   "source": [
    "As you can see, using `place()` gives you full control over the window's image. There is only one important but — full control means full responsibility. Sometimes it's better to share the responsibility among two parts – e.g., you and the `grid()` geometry controller.\n",
    "\n",
    "`grid()` sees the window's area as a... grid. This means that the whole of the window's interior is divided into a number of **columns** of equal width and a number of **rows** of equal height.\n",
    "\n",
    "The **grid itself is not visible** – the distribution is modeled inside the manager and you are only able to know its effects i.e., the widget's final arrangement.\n",
    "\n",
    "You're not obliged to declare the number of rows and columns in advance – `grid()` finds the proper numbers for you. Let's try it."
   ]
  },
  {
   "cell_type": "markdown",
   "metadata": {},
   "source": [
    "---"
   ]
  },
  {
   "cell_type": "markdown",
   "metadata": {},
   "source": [
    "The most commonly used `grid()` method parameters are gathered below (as, previously, all of them are passed as keyword arguments):\n",
    "\n",
    "- `column=c` – deploys the widget in the column number `c`; note: the columns' numbers start from zero, and if you omit this argument, the manager will assume `0` (the left-most column)\n",
    "- `row=r` – deploys the widget in the row number `r`; if you omit this argument, the manager will assume the first free row starting from the top;\n",
    "- `columnspan=cs` – determines how many ***neighboring columns*** the widget occupies; the parameter defaults to 1 (the widget won't cross a single grid's cell)\n",
    "- `rowspan=rs` – works as `columnspan` but refers to rows."
   ]
  },
  {
   "cell_type": "code",
   "execution_count": 2,
   "metadata": {},
   "outputs": [],
   "source": [
    "import tkinter as tk\n",
    "\n",
    "window = tk.Tk()\n",
    "button_1 = tk.Button(window, text=\"Button #1\")\n",
    "button_2 = tk.Button(window, text=\"Button #2\")\n",
    "button_3 = tk.Button(window, text=\"Button #3\")\n",
    "button_1.grid(row=0, column=0)\n",
    "button_2.grid(row=1, column=1)\n",
    "button_3.grid(row=2, column=2)\n",
    "window.mainloop()"
   ]
  },
  {
   "cell_type": "markdown",
   "metadata": {},
   "source": [
    "---"
   ]
  },
  {
   "cell_type": "code",
   "execution_count": 3,
   "metadata": {},
   "outputs": [],
   "source": [
    "import tkinter as tk\n",
    "\n",
    "window = tk.Tk()\n",
    "button_1 = tk.Button(window, text=\"Button #1\")\n",
    "button_2 = tk.Button(window, text=\"Button #2\")\n",
    "button_3 = tk.Button(window, text=\"Button #3\")\n",
    "button_1.grid(row=0, column=0)\n",
    "button_2.grid(row=1, column=1)\n",
    "button_3.grid(row=2, column=0, columnspan=2)\n",
    "window.mainloop()\n"
   ]
  },
  {
   "cell_type": "markdown",
   "metadata": {},
   "source": [
    "Note: the manager noticed that the total number of columns is actually two, not three as in the previous code. This is why the window looks different.\n",
    "\n",
    "The third, fully automatic geometry manager is named `pack()` as it **packs subsequent widgets** into the window's interior. This means that the **order** in which the widgets are packed **matters** – in contrast to `grid()` and `place()`.\n"
   ]
  },
  {
   "cell_type": "markdown",
   "metadata": {},
   "source": [
    "---"
   ]
  },
  {
   "cell_type": "markdown",
   "metadata": {},
   "source": [
    "The default pack's operation tends to deploy all subsequent widgets in one column, one below the other. You can change this behavior to a limited extent by using the following parameters:\n",
    "\n",
    "- `side=s` – forces the manager to pack the widgets in a specified **direction**, where s can be specified as:\n",
    "    - `TOP` – the widget is packed toward the window's **top** (it's manager's default behavior)\n",
    "    - `BOTTOM` – the widget is packed toward the window's **bottom**;\n",
    "    - `LEFT` – toward the window's **left** boundary;\n",
    "    - `RIGHT` – toward the window's **right** boundary;\n",
    "- `fill=f` – suggests to the manager how to expand the widget if you want it to occupy more space than the default, while f should be specified as:\n",
    "    - `NONE` – do not expand the widget (default behavior)\n",
    "    - `X` – expand it in the **horizontal** direction;\n",
    "    - `Y` – expand it in the **vertical** direction;\n",
    "    - `BOTH` – expand it in **both** directions;\n",
    "    \n",
    "We want to warn you that the results produced by pack() can be extremely surprising, and you should spend some time on your own experimenting with all its vices.\n",
    "\n",
    "We suggest you use it only as a temporary solution to help you get a working application quickly, but if you want your application to look nice and to be legible and clear (of course, you would want that!) you'd better forget about pack() and use either grid() (in simpler cases) or place()."
   ]
  },
  {
   "cell_type": "code",
   "execution_count": 4,
   "metadata": {},
   "outputs": [],
   "source": [
    "import tkinter as tk\n",
    "\n",
    "window = tk.Tk()\n",
    "button_1 = tk.Button(window, text=\"Button #1\")\n",
    "button_2 = tk.Button(window, text=\"Button #2\")\n",
    "button_3 = tk.Button(window, text=\"Button #3\")\n",
    "button_1.pack()\n",
    "button_2.pack()\n",
    "button_3.pack()\n",
    "window.mainloop()"
   ]
  },
  {
   "cell_type": "markdown",
   "metadata": {},
   "source": [
    "---"
   ]
  },
  {
   "cell_type": "markdown",
   "metadata": {},
   "source": [
    "`Pack` is the **least intuitive** geometry manager for sure, and you really need to spend some time testing its whims."
   ]
  },
  {
   "cell_type": "code",
   "execution_count": 5,
   "metadata": {},
   "outputs": [],
   "source": [
    "import tkinter as tk\n",
    "\n",
    "window = tk.Tk()\n",
    "button_1 = tk.Button(window, text=\"Button #1\")\n",
    "button_2 = tk.Button(window, text=\"Button #2\")\n",
    "button_3 = tk.Button(window, text=\"Button #3\")\n",
    "button_1.pack(side=tk.RIGHT)\n",
    "button_2.pack()\n",
    "button_3.pack()\n",
    "window.mainloop()\n"
   ]
  },
  {
   "cell_type": "markdown",
   "metadata": {},
   "source": [
    "### 1.4.1.1 Coloring your widgets"
   ]
  },
  {
   "cell_type": "markdown",
   "metadata": {},
   "source": [
    "There are at least three methods designed to meet your needs. We will tell you about them on the example of `Button` but don't forget that these ways are universal and can be used virtually everywhere."
   ]
  },
  {
   "cell_type": "markdown",
   "metadata": {},
   "source": [
    "---"
   ]
  },
  {
   "cell_type": "code",
   "execution_count": 8,
   "metadata": {},
   "outputs": [],
   "source": [
    "import tkinter as tk\n",
    "\n",
    "window = tk.Tk()\n",
    "button = tk.Button(window, text=\"Button #1\", bg=\"red\", fg=\"yellow\")\n",
    "button.pack()\n",
    "window.mainloop()"
   ]
  },
  {
   "cell_type": "markdown",
   "metadata": {},
   "source": [
    "Note the two new arguments we use in the constructor invocation: `bg` (what is a short form of “background-color”) and `fg` (“foreground-color”). We went along the line of least resistance here – we've just made use of regular English names of colors and packed them inside strings."
   ]
  },
  {
   "cell_type": "markdown",
   "metadata": {},
   "source": [
    "We encourage to you make some **clicks** on the button – it will unveil its little secret.\n",
    "\n",
    "Can you see? The colors of the lowered (pressed) button are **gray** still. Why?\n",
    "\n",
    "Because `fb` and `bg` refer to **raised** buttons only. There two additional parameters describing the second set of colors named `activeforeground` and `activebackground` respectively used by the event controller when the button is **pressed**. Do you want to check how they work? Do it boldly!"
   ]
  },
  {
   "cell_type": "markdown",
   "metadata": {},
   "source": [
    "We can summarize the test's result saying that any of commonly used English color name can be used with tkinter. Don't bother if you want some of your widgets to be simply white, black, green, gray or even grey. It's easy and handy although not very precise."
   ]
  },
  {
   "cell_type": "markdown",
   "metadata": {},
   "source": [
    "---"
   ]
  },
  {
   "cell_type": "markdown",
   "metadata": {},
   "source": [
    "Tkinter recognizes over 750 predefined color names – all of them can be found [here](http://www.tcl.tk/man/tcl8.4/TkCmd/colors.htm)."
   ]
  },
  {
   "cell_type": "markdown",
   "metadata": {},
   "source": [
    "The third method you can use is based on the fact that each color can be obtained by **mixing** (adding) **three primary colors: red (R), green (G) and blue (B)**. The phenomenon is utilized by the so-called ***RGB color model*** which is one of the additive color models and it's widely used in many application, e.g. in color displays of different kinds.\n",
    "\n",
    "One of the RGB model implementations allows you to set the **saturation** of every of primary colors in the range <0..255> what gives ***256 different saturation levels***, from color's absence (saturation 0) to full color's presence (saturation 255).\n",
    "\n",
    "Do you think it's not too much? Maybe, but don't forget that you mix three different colors (so-called **color components**) so the full spectrum consists of 256*256*256 = **16,777,216** colors. An average human can distinguish about 7 million colors, consequently, the model should work well and it really does."
   ]
  },
  {
   "cell_type": "code",
   "execution_count": 10,
   "metadata": {},
   "outputs": [],
   "source": [
    "import tkinter as tk\n",
    "\n",
    "\n",
    "window = tk.Tk()\n",
    "button = tk.Button(window, text=\"Button #1\",\n",
    "                   bg=\"MediumPurple\",\n",
    "                   fg=\"LightSalmon\",\n",
    "                   activeforeground=\"LavenderBlush\",\n",
    "                   activebackground=\"HotPink\")\n",
    "button.pack()\n",
    "window.mainloop()\n"
   ]
  },
  {
   "cell_type": "markdown",
   "metadata": {},
   "source": [
    "---"
   ]
  },
  {
   "cell_type": "markdown",
   "metadata": {},
   "source": [
    "It's is done by a trick used extensively in web pages – as a **string** starting with a **hash** (`#`) followed by **6 hexadecimal** digits. Each **pair of the digits** forms the value from range **0x00..0xFF** (0..255) what determines the specific component level."
   ]
  },
  {
   "cell_type": "markdown",
   "metadata": {},
   "source": [
    "![](./images/36_rgb.png)"
   ]
  },
  {
   "cell_type": "markdown",
   "metadata": {},
   "source": [
    "All three pairs (RR, GG and GG) are **two-digit hexadecimal number** so:\n",
    "\n",
    "- #000000 is black\n",
    "- #FFFFFF is white\n",
    "- #FF0000 is red\n",
    "- #00FF00 is green\n",
    "- #0000FF is blue\n",
    "- #00FFFF is turquoise\n",
    "- #FF00FF is violet"
   ]
  },
  {
   "cell_type": "markdown",
   "metadata": {},
   "source": [
    "Note: when all the components are set to the **same value**, equal neither to zero nor to 0xFF (e.g. #0F0F0F0), you will get **254 shades of gray**."
   ]
  },
  {
   "cell_type": "code",
   "execution_count": 2,
   "metadata": {},
   "outputs": [],
   "source": [
    "import tkinter as tk\n",
    "\n",
    "window = tk.Tk()\n",
    "button = tk.Button(window, text=\"Button #1\",\n",
    "                   bg=\"#9370DB\",\n",
    "                   fg=\"#FFA07A\",\n",
    "                   activeforeground=\"#FFF0F5\",\n",
    "                   activebackground=\"#FF69B4\")\n",
    "button.pack()\n",
    "window.mainloop()\n"
   ]
  },
  {
   "cell_type": "markdown",
   "metadata": {},
   "source": [
    "### 1.5.1.1 A simple GUI application"
   ]
  },
  {
   "cell_type": "markdown",
   "metadata": {},
   "source": [
    "### Building a GUI application from scratch"
   ]
  },
  {
   "cell_type": "markdown",
   "metadata": {},
   "source": [
    "#### Label\n",
    "Our new friend is called `Label` – a non-clickable widget able to present short textual information, passed to the widget's constructor using a `text` argument. The text can later be changed at any moment of the widget's life."
   ]
  },
  {
   "cell_type": "markdown",
   "metadata": {},
   "source": [
    "#### Frame\n",
    "A Frame is another non-clickable component used to group widgets and to separate them (visually) from other window components. Our Frame plays a less important role – it just occupies a rectangle and fills it with its own color. We expect nothing more for now."
   ]
  },
  {
   "cell_type": "markdown",
   "metadata": {},
   "source": [
    "#### IntVar\n",
    "\n",
    "It's the switch variable. Can't you see it? It's set to hold an object of the `IntVar` class. This object is designed to store **integer** values. \"Okay,\" you may say, \"can't we use a regular variable instead?\"\n",
    "\n",
    "**No, we can't**. Objects of the IntVar class are used by tkinter to **organize internal communication between different widgets**. A regular variable can't play such a role.\n",
    "\n",
    "If you want such an object to store an integer value, you can't use the assignment operator. The class offers a dedicated method for that purpose, and the method is named `set()`."
   ]
  },
  {
   "cell_type": "markdown",
   "metadata": {},
   "source": [
    "#### Checkbutton\n",
    "\n",
    "It’s a **small square** which can be filled with a **tick mark**, or which can be empty.\n",
    "\n",
    "\n",
    "The Checkbutton is primarily used to represent **two-state selections**. In other words, it can be in one of two possible states:\n",
    "\n",
    "- the **ON** state when the Checkbutton is checked/ticked (which can be equated with an **affirmative answer** to some question)\n",
    "- the **OFF** state when the Checkbutton is cleared (you can think of it as a kind of negative answer)\n",
    "\n",
    "Take a look at the `Checkbutton` constructor – there’s something completely new. Can you see it?\n",
    "\n",
    "Yes, it’s a `variable` argument. Note – it’s set to the previously created `switch` object. The assignment creates a **bidirectional link** between the object and the widget. How does it work?\n",
    "\n",
    "- If you check or uncheck the `Checkbutton`, the switch object will **immediately change its state** – it will keep `0` if the widget is unchecked, and `1` otherwise.\n",
    "- If you change the state of the `switch` object, the `Checkbutton` will ***immediately reflect the change*** – it means that you don’t need to access the `Checkbutton` itself to check/uncheck it, as you can modify the `switch` value instead.\n",
    "\n",
    "Look, the switch is initially set to 1. this means that the Checkbutton will be checked when it appears on the screen."
   ]
  },
  {
   "cell_type": "markdown",
   "metadata": {},
   "source": [
    "#### Entry\n",
    "\n",
    "`Entry` is designed to let the user enter simple, one-line data, like single numbers, names, addresses, etc.\n",
    "\n",
    "We’ve added one to our window. It creates an **input field** 30 characters wide."
   ]
  },
  {
   "cell_type": "markdown",
   "metadata": {},
   "source": [
    "#### Radiobutton\n",
    "\n",
    "These are the `Radiobuttons`, **small circles filled with a dot, or not**. The most important difference between `Check-` and `Radiobuttons` lies in the fact that `Checkbuttons` are **solitary** (they work individually) while `Radiobuttons` always work in groups and – note it! – only one of the widgets inside the group can be **checked**. Clicking an unchecked member of the group will cause the currently checked **Radiobutton** to change its state.\n",
    "\n",
    "How do we achieve such an effect? The switch object will help us with it.\n",
    "\n",
    "Our two `Radiobutton` constructors use **two additional arguments**. What roles do they play?\n",
    "\n",
    "The `variable` argument binds a `switch` object to both of the widgets, and this is the clue – the fact that both Radiobuttons are bound to the same object creates the group. Don’t forget that!\n",
    "The `value` argument distinguishes the `Radiobuttons` inside the group, and thus each of the `Radiobuttons` has to use a **different** value (we’ve used 0 and 1)\n",
    "\n",
    "The communication through the **switch** object should work as follows:\n",
    "\n",
    "- selecting one of the `Radiobuttons` affects the `switch` object, which changes its value to **one of the possible values** specified in the `Radiobuttons`’ constructor; note: the mechanism works in the same way if there are more `Radiobuttons` in the group;\n",
    "- simultaneously, changing the `switch` object’s state affects the `Radiobutton` group.\n",
    "As the `switch` is initially set to `1`, we expect the second `Radiobutton` (named `Salad`) to be selected when the application starts."
   ]
  },
  {
   "cell_type": "code",
   "execution_count": 2,
   "metadata": {},
   "outputs": [],
   "source": [
    "import tkinter as tk\n",
    "\n",
    "window = tk.Tk()\n",
    "\n",
    "label = tk.Label(window, text=\"Little label:\")\n",
    "label.pack()\n",
    "\n",
    "frame = tk.Frame(window, height=30, width=100, bg=\"#000099\")\n",
    "frame.pack()\n",
    "\n",
    "button = tk.Button(window, text=\"Button\")\n",
    "button.pack(fill=tk.X)\n",
    "\n",
    "switch = tk.IntVar()\n",
    "switch.set(1)\n",
    "\n",
    "checkbutton = tk.Checkbutton(window, text=\"Check Button\", variable=switch)\n",
    "checkbutton.pack()\n",
    "\n",
    "entry = tk.Entry(window, width=30)\n",
    "entry.pack()\n",
    "\n",
    "radiobutton_1 = tk.Radiobutton(window, text=\"Steak\", variable=switch, value=0)\n",
    "radiobutton_1.pack()\n",
    "radiobutton_2 = tk.Radiobutton(window, text=\"Salad\", variable=switch, value=1)\n",
    "radiobutton_2.pack()\n",
    "\n",
    "window.mainloop()"
   ]
  },
  {
   "cell_type": "markdown",
   "metadata": {},
   "source": [
    "![](./images/37_result_1.png)\n",
    "![](./images/38_result_2.png)"
   ]
  },
  {
   "cell_type": "markdown",
   "metadata": {},
   "source": [
    "There is something more you should note. As the `Checkbutton` and `Radiobutton` groups are coupled together by the switch object, their changes are **synchronized**.\n",
    "\n",
    "If you check/uncheck the `Checkbutton`, the `Radiobutton` group will follow the change immediately and vice versa, while switching the active `Radiobutton` inside the group will automatically check/uncheck the `Checkbutton`."
   ]
  },
  {
   "cell_type": "markdown",
   "metadata": {},
   "source": [
    "** 如果要分開群組，記得使用不同的 swtich 分別給 Checkbutton 及 Radiobutton 使用"
   ]
  },
  {
   "cell_type": "markdown",
   "metadata": {},
   "source": [
    "### 1.6.1.1 Events and how to handle them\n"
   ]
  },
  {
   "cell_type": "markdown",
   "metadata": {},
   "source": [
    "### Event handling"
   ]
  },
  {
   "cell_type": "markdown",
   "metadata": {},
   "source": [
    "As you already know, events are the fuel which propel the application’s movements. **All events come to the event manager**, which is responsible for dispatching them to all the application components. This also means that some of the events may launch some of your callbacks, which makes you responsible for preparing the proper reactions to the user’s actions.\n",
    "\n",
    "Now it’s time to show you some details of the events’ lives and anatomy. We’ll also show you how the events are able to influence a widget’s state, and how you control the event manager’s behavior.\n",
    "\n",
    "For now, however, we want you to focus your attention on a very helpful method we’ll use to arrange communication between you and your application.\n",
    "\n",
    "Of course, you can use the regular `print()` function to show messages and present a debug trace. The output will appear in the standard Python console, without affecting the application window. It’s okay if used in the early stages of development, but it’s very inelegant if you want the application to behave in a mature way."
   ]
  },
  {
   "cell_type": "markdown",
   "metadata": {},
   "source": [
    "The function we’ll use for our experiments is named `showinfo()`, it comes from the `messagebox` module, and it needs **two arguments** which are strings:"
   ]
  },
  {
   "cell_type": "code",
   "execution_count": null,
   "metadata": {},
   "outputs": [],
   "source": [
    "messagebox.showinfo(title, info)"
   ]
  },
  {
   "cell_type": "markdown",
   "metadata": {},
   "source": [
    "- the **first** string will be used by the function to **title the message box** which will appear on the screen; you can use an **empty** string, and the box will be **untitled** then;\n",
    "- the **second** string is a message to display inside the box; the string can be of **any length** (but remember, the screen isn’t elastic and won’t stretch if you’re going to display a whole encyclopedia volume); note: you can use the `\\n` digraph to visually break the info into separate lines."
   ]
  },
  {
   "cell_type": "markdown",
   "metadata": {},
   "source": [
    "---"
   ]
  },
  {
   "cell_type": "code",
   "execution_count": 6,
   "metadata": {},
   "outputs": [],
   "source": [
    "import tkinter\n",
    "from tkinter import messagebox\n",
    "\n",
    "def clicked():\n",
    "    messagebox.showinfo(\"info\", \"show\\ninfo\")\n",
    "\n",
    "window = tk.Tk()\n",
    "button_1 = tk.Button(window, text=\"Show info\", comman=clicked)\n",
    "button_1.pack()\n",
    "button_2 = tk.Button(window, text=\"Quit\", command= window.destroy)\n",
    "button_2.pack()\n",
    "\n",
    "window.mainloop()"
   ]
  },
  {
   "cell_type": "markdown",
   "metadata": {},
   "source": [
    "---"
   ]
  },
  {
   "cell_type": "markdown",
   "metadata": {},
   "source": [
    "If your widget is a **clickable** one, you can connect a callback to it using its `command` property, while the property can be initially set by the constructor invocation."
   ]
  },
  {
   "cell_type": "code",
   "execution_count": 7,
   "metadata": {},
   "outputs": [],
   "source": [
    "import tkinter as tk\n",
    "from tkinter import messagebox\n",
    "\n",
    "\n",
    "def click():\n",
    "    tk.messagebox.showinfo(\"Click!\",\"I love clicks!\")\n",
    "\n",
    "\n",
    "window = tk.Tk()\n",
    "label = tk.Label(window, text=\"Label\")\n",
    "label.pack()\n",
    "\n",
    "button = tk.Button(window, text=\"Button\", command=click)\n",
    "button.pack(fill=tk.X)\n",
    "\n",
    "frame = tk.Frame(window, height=30, width=100, bg=\"#55BF40\")\n",
    "frame.pack();\n",
    "\n",
    "window.mainloop()\n"
   ]
  },
  {
   "cell_type": "markdown",
   "metadata": {},
   "source": [
    "---"
   ]
  },
  {
   "cell_type": "markdown",
   "metadata": {},
   "source": [
    "** 有一些 widget 是沒有 command 的 property 也沒有 constructor parameter，這時候就可以使用 `bind()`"
   ]
  },
  {
   "cell_type": "markdown",
   "metadata": {},
   "source": [
    "Some of the widgets (especially those that are not clickable by nature) **have neither a** `command` **property nor a constructor parameter of that name**.\n",
    "\n",
    "Fortunately, you’re still able to bind a callback to any of the events it may receive (including clicks, of course) and this is done with a method named – it couldn’t be anything else – `bind()`:"
   ]
  },
  {
   "cell_type": "code",
   "execution_count": null,
   "metadata": {},
   "outputs": [],
   "source": [
    "widget.bind(event, callback)"
   ]
  },
  {
   "cell_type": "markdown",
   "metadata": {},
   "source": [
    "The `bind()` method needs two arguments:\n",
    "\n",
    "- the `event` you want to launch your callback with;\n",
    "- the `callback` itself."
   ]
  },
  {
   "cell_type": "markdown",
   "metadata": {},
   "source": [
    "Of course, there are two questions that should be answered immediately:\n",
    "\n",
    "- Q: What is an event from the event controller’s point of view?\n",
    "- A: It’s an **object** carrying some useful info about what actually happens when the event has been induced (by the user or by another factor).\n",
    "- Q: How are the events identified?\n",
    "- A: By **unique names** – each event has its own name and the name is just a unified string."
   ]
  },
  {
   "cell_type": "markdown",
   "metadata": {},
   "source": [
    "---"
   ]
  },
  {
   "cell_type": "markdown",
   "metadata": {},
   "source": [
    "### Useful events"
   ]
  },
  {
   "cell_type": "markdown",
   "metadata": {},
   "source": [
    "![](./images/39_events_1.png)\n",
    "![](./images/40_events_2.png)\n",
    "![](./images/41_events_3.png)\n",
    "![](./images/42_events_4.png)\n",
    "![](./images/43_events_5.png)"
   ]
  },
  {
   "cell_type": "markdown",
   "metadata": {},
   "source": [
    "---"
   ]
  },
  {
   "cell_type": "code",
   "execution_count": 8,
   "metadata": {},
   "outputs": [],
   "source": [
    "import tkinter as tk\n",
    "from tkinter import messagebox\n",
    "\n",
    "\n",
    "def click(event=None):\n",
    "    tk.messagebox.showinfo(\"Click!\", \"I love clicks!\")\n",
    "\n",
    "\n",
    "window = tk.Tk()\n",
    "label = tk.Label(window, text=\"Label\")\n",
    "label.bind(\"<Button-1>\", click)   # Line I\n",
    "label.pack()\n",
    "\n",
    "button = tk.Button(window, text=\"Button\", command=click)\n",
    "button.pack(fill=tk.X)\n",
    "\n",
    "frame = tk.Frame(window, height=30, width=100, bg=\"#55BF40\")\n",
    "frame.bind(\"<Button-1>\", click)   # Line II\n",
    "frame.pack()\n",
    "\n",
    "window.mainloop()\n"
   ]
  },
  {
   "cell_type": "markdown",
   "metadata": {},
   "source": [
    "Note:\n",
    "\n",
    "- a callback designed for usage with the command property/parameter is a **parameterless** function;\n",
    "- a callback intended to cooperate with the `bind()` method is a **one-parameter function** (the callback’s argument carries some info about the captured event)\n",
    "- fortunately, it doesn’t mean that you have to define two different callbacks for those two applications, and this is how we’ll cope with the above requirements:"
   ]
  },
  {
   "cell_type": "code",
   "execution_count": null,
   "metadata": {},
   "outputs": [],
   "source": [
    "def callback(ev=None):\n",
    "    :\n",
    "    :"
   ]
  },
  {
   "cell_type": "markdown",
   "metadata": {},
   "source": [
    "- the callback will work flawlessly in both of these contexts, and moreover, it’ll give you the chance to identify which one of the two possible styles of launch has just occurred."
   ]
  },
  {
   "cell_type": "markdown",
   "metadata": {},
   "source": [
    "Pay attention to **Line I** and **Line II** in the above code. They show the way in which you can bind your callback to any of non-clickable widgets. The bind remains active to the end of the application’s work, but you can also manually unbind the event at any moment (and bind it again when you wish)."
   ]
  },
  {
   "cell_type": "markdown",
   "metadata": {},
   "source": [
    "---"
   ]
  },
  {
   "cell_type": "markdown",
   "metadata": {},
   "source": [
    "** event 是 object"
   ]
  },
  {
   "cell_type": "markdown",
   "metadata": {},
   "source": [
    "An event object is an instantiation of the `Event` class. Actually, it’s a container filled with some more or less helpful data. The data describe all the circumstances which are accompanied within the event, and it is dispatched to a number of the object’s properties."
   ]
  },
  {
   "cell_type": "code",
   "execution_count": null,
   "metadata": {},
   "outputs": [],
   "source": [
    "class Event:\n",
    "    :\n",
    "    :"
   ]
  },
  {
   "cell_type": "markdown",
   "metadata": {},
   "source": [
    "Note: not all properties have meaning for every event. If the event is related to some of the mouse actions, the object’s parts referring to the keyboard remain uninitialized, and vice versa.\n",
    "\n",
    "Let us show you some of the properties."
   ]
  },
  {
   "cell_type": "markdown",
   "metadata": {},
   "source": [
    "| Property name                | Property role|\n",
    "| :----------------------------:| :--------------:|\n",
    "| `widget`                     | The widget’s **object** (not the widget’s name!) to which the event is addressed |\n",
    "| `<x>`<br><br>`<y>`           | The mouse cursor’s **coordinates** at the moment of the event’s occurrence (both coordinates are counted relative to the target widget)|\n",
    "| `<x_root>`<br><br>`<y_root>` | As above, but relative to the **screen** |\n",
    "| `<char>`                     | The pressed key **character code** (only for keyboard events)|\n",
    "| `<keysym>`                   | The pressed key symbol (only for keyboard events)<br>The full list of all recognized key symbols is presented here: [https://www.tcl.tk/man/tcl8.4/TkCmd/keysyms.htm](https://www.tcl.tk/man/tcl8.4/TkCmd/keysyms.htm) |\n",
    "| `<keycode>`                  | The pressed key **numerical** code (only for keyboard events)<br>Don’t confuse this with `char`, which is the ASCII/UNICODE code of the character bound to the key|\n",
    "| `<num>`                      | The number of the clicked mouse **button** (only for mouse events)|\n",
    "| `<type>`                     | The event’s type  |"
   ]
  },
  {
   "cell_type": "markdown",
   "metadata": {},
   "source": [
    "---"
   ]
  },
  {
   "cell_type": "code",
   "execution_count": 13,
   "metadata": {},
   "outputs": [],
   "source": [
    "import tkinter as tk\n",
    "from tkinter import messagebox\n",
    "\n",
    "def click(event=None):\n",
    "    if event is None:\n",
    "        tk.messagebox.showinfo(\"Click!\", \"I love clicks!\")\n",
    "    else:\n",
    "        string = \"x=\" + str(event.x) + \",y=\" + str(event.y) + \\\n",
    "                \",num=\" + str(event.num) + \".type=\" + event.type\n",
    "        tk.messagebox.showinfo(\"Click\", string)\n",
    "        \n",
    "window = tk.Tk()\n",
    "label = tk.Label(window, text=\"Label\")\n",
    "label.bind(\"<Button-1>\", click)\n",
    "label.pack()\n",
    "\n",
    "button = tk.Button(window, text=\"Button\", command=click)\n",
    "button.pack(fill=tk.X)\n",
    "\n",
    "frame = tk.Frame(window, height=30, width=100, bg=\"#55BF40\")\n",
    "frame.bind(\"<Button-1>\", click)\n",
    "frame.pack()\n",
    "\n",
    "window.mainloop()"
   ]
  },
  {
   "cell_type": "markdown",
   "metadata": {},
   "source": [
    "A callback bound to a certain event may be **unbound** at any moment.\n",
    "\n",
    "Let’s analyze the process in relation to clickable widgets i.e., those having the command property and using the `command` constructor’s parameter.\n",
    "\n",
    "If you unbind a callback from an event, the widget **stops reacting** to the event. If you want to reverse this action, you must **bind the callback again**.\n",
    "\n",
    "We haven’t said a word on modifying a widget’s properties, and we’re going to discuss it thoroughly in the next section, so please forgive us for only doing it briefly now.\n",
    "\n",
    "If you want to modify a property named `prop`, existing within a widget named `wid`, and you’re going set its value to `val`, you can use the `config()` method, just like here:"
   ]
  },
  {
   "cell_type": "code",
   "execution_count": null,
   "metadata": {},
   "outputs": [],
   "source": [
    "wid.config(prop=val)"
   ]
  },
  {
   "cell_type": "markdown",
   "metadata": {},
   "source": [
    "This means that if you want to unbind your current callback from a `Button` named `b1`, you would use an invocation like this one:"
   ]
  },
  {
   "cell_type": "code",
   "execution_count": null,
   "metadata": {},
   "outputs": [],
   "source": [
    "b1.config(command=lambda:None)"
   ]
  },
  {
   "cell_type": "markdown",
   "metadata": {},
   "source": [
    "This binds an empty (i.e., doing absolutely nothing) function to the widget’s callback."
   ]
  },
  {
   "cell_type": "markdown",
   "metadata": {},
   "source": [
    "---"
   ]
  },
  {
   "cell_type": "markdown",
   "metadata": {},
   "source": [
    "Our application creates a window with two buttons in it. The first one works as an on/off switch, while the switch changes the behavior of the second button. When the switch is ON, clicking the second button activates a message box. When the switch if OFF, clicking the second button has no effect. Moreover, the second button’s title changes according to the switch’s state."
   ]
  },
  {
   "cell_type": "code",
   "execution_count": 22,
   "metadata": {},
   "outputs": [],
   "source": [
    "import tkinter as tk\n",
    "from tkinter import messagebox\n",
    "\n",
    "\n",
    "def on_off():\n",
    "    global switch\n",
    "    if switch:\n",
    "        button_2.config(command=lambda: None)\n",
    "        button_2.config(text=\"Gee!\")\n",
    "    else:\n",
    "        button_2.config(command=peekaboo)\n",
    "        button_2.config(text=\"Peekaboo!\")\n",
    "    switch = not switch\n",
    "\n",
    "\n",
    "def peekaboo():\n",
    "    messagebox.showinfo(\"\", \"PEEKABOO!\")\n",
    "\n",
    "\n",
    "def do_nothing():\n",
    "    pass\n",
    "\n",
    "\n",
    "switch = True\n",
    "window = tk.Tk()\n",
    "buton_1 = tk.Button(window, text=\"On/Off\", command=on_off)\n",
    "buton_1.pack()\n",
    "button_2 = tk.Button(window, text=\"Peekaboo!\", command=peekaboo)\n",
    "button_2.pack()\n",
    "window.mainloop()\n"
   ]
  },
  {
   "cell_type": "markdown",
   "metadata": {},
   "source": [
    "Now we’ll do the same trick again, but this time with the non-clickable widget.\n",
    "\n",
    "To unbind a callback previously bound with the `bind()` method invocation, you need to use the `unbind()` method:"
   ]
  },
  {
   "cell_type": "code",
   "execution_count": null,
   "metadata": {},
   "outputs": [],
   "source": [
    "widget.unbind(event)"
   ]
  },
  {
   "cell_type": "markdown",
   "metadata": {},
   "source": [
    "The method requires one argument identifying the event being unbound.\n",
    "\n",
    "Note: the information about a previously used callback is **lost**. You cannot retrieve it automatically and you must repeat the `bind()` invocation."
   ]
  },
  {
   "cell_type": "markdown",
   "metadata": {},
   "source": [
    "---"
   ]
  },
  {
   "cell_type": "code",
   "execution_count": 26,
   "metadata": {},
   "outputs": [],
   "source": [
    "import tkinter as tk\n",
    "\n",
    "\n",
    "def on_off():\n",
    "    global switch\n",
    "    if switch:\n",
    "        label.unbind(\"<Button-1>\")\n",
    "    else:\n",
    "        label.bind(\"<Button-1>\", rhyme)\n",
    "    switch = not switch\n",
    "\n",
    "\n",
    "def rhyme(dummy):\n",
    "    global word_no, words\n",
    "    word_no += 1\n",
    "    label.config(text=words[word_no % len(words)])\n",
    "\n",
    "\n",
    "switch = True\n",
    "words = [\"Old\", \"McDonald\", \"Had\", \"A\", \"Farm\"]\n",
    "word_no = 0\n",
    "window = tk.Tk()\n",
    "button = tk.Button(window, text=\"On/Off\", command=on_off)\n",
    "button.pack()\n",
    "label = tk.Label(window, text=words[0])\n",
    "label.bind(\"<Button-1>\", rhyme)\n",
    "label.pack()\n",
    "window.mainloop()\n"
   ]
  },
  {
   "cell_type": "markdown",
   "metadata": {},
   "source": [
    "The application contains two widgets: one `Button` (clickable) and one `Label` (non-clickable).\n",
    "\n",
    "We bind a callback to the `Label`, causing it to display (in a loop) the first five words of this old but good rhyme (please dive into the `rhyme()` function to check out how we’ve done it).\n",
    "\n",
    "This functionality can be turned off and on by clicking the button. As you can see, the `on_off()` callback binds and unbinds the label’s callback."
   ]
  },
  {
   "cell_type": "markdown",
   "metadata": {},
   "source": [
    "---"
   ]
  },
  {
   "cell_type": "code",
   "execution_count": 27,
   "metadata": {},
   "outputs": [],
   "source": [
    "import tkinter as tk\n",
    "from tkinter import messagebox\n",
    "\n",
    "\n",
    "def hello(dummy):\n",
    "    messagebox.showinfo(\"\", \"Hello!\")\n",
    "\n",
    "\n",
    "window = tk.Tk()\n",
    "button = tk.Button(window, text=\"On/Off\")\n",
    "button.pack()\n",
    "label = tk.Label(window, text=\"Label\")\n",
    "label.pack()\n",
    "frame = tk.Frame(window, bg=\"yellow\", width=100, height=20)\n",
    "frame.pack()\n",
    "window.bind_all(\"<Button-1>\", hello)\n",
    "window.mainloop()\n"
   ]
  },
  {
   "cell_type": "markdown",
   "metadata": {},
   "source": [
    "The main tkinter window has a method named `bind_all()` which binds a callback to all currently existing widgets.\n",
    "\n",
    "There is also a method named `unbind_all()` which reverts the first method’s effects."
   ]
  },
  {
   "cell_type": "markdown",
   "metadata": {},
   "source": [
    "### 1.7.1.1 Visiting widgets’ properties"
   ]
  },
  {
   "cell_type": "markdown",
   "metadata": {},
   "source": [
    "### Widget properties\n",
    "\n",
    "As you already know, every widget has a set of properties, and the widget’s user is able to **change** them by modifying the widget’s **appearance** and **behavior**. We’ll show you how to manipulate properties and present a basic set of the most usable widget properties.\n",
    "\n",
    "A widget's property is not just an **object property**. Although every widget is actually an object, you can access its properties by using the dot notation. You have to use one of two possible ways of reading and setting widget properties’ values."
   ]
  },
  {
   "cell_type": "markdown",
   "metadata": {},
   "source": [
    "---"
   ]
  },
  {
   "cell_type": "markdown",
   "metadata": {},
   "source": [
    "The first method is based on using a **dictionary** which exists inside every widget. Assuming that a widget named `Widget` has a property named `prop` and you want to read its value and then set it with a new value, you can do this in the following way:"
   ]
  },
  {
   "cell_type": "code",
   "execution_count": null,
   "metadata": {},
   "outputs": [],
   "source": [
    "old_val = Widget[\"prop\"]\n",
    "\n",
    "Widget[\"prop\"] = new_val"
   ]
  },
  {
   "cell_type": "markdown",
   "metadata": {},
   "source": [
    "Note: we use the text property to:\n",
    "\n",
    "- **diagnose** the current button’s state;\n",
    "- **change** the button’s state to the contrary one;\n",
    "- **update** the button’s title."
   ]
  },
  {
   "cell_type": "code",
   "execution_count": 33,
   "metadata": {},
   "outputs": [],
   "source": [
    "import tkinter as tk\n",
    "\n",
    "\n",
    "def on_off():\n",
    "    global button\n",
    "    state = button[\"text\"]\n",
    "    if state == \"ON\":\n",
    "        state = \"OFF\"\n",
    "    else:\n",
    "        state = \"ON\"\n",
    "    button[\"text\"] = state\n",
    "\n",
    "\n",
    "window = tk.Tk()\n",
    "button = tk.Button(window, text=\"OFF\", command=on_off)\n",
    "button.place(x=50, y=100, width=100)\n",
    "window.mainloop()\n"
   ]
  },
  {
   "cell_type": "markdown",
   "metadata": {},
   "source": [
    "---"
   ]
  },
  {
   "cell_type": "markdown",
   "metadata": {},
   "source": [
    "The second method relies on two specialized widget methods, the first named `cget()` designed to **read** the property’s value, and the second named `config()`, which allows you to **set** a new value to the property.\n",
    "\n",
    "This is what they look like:"
   ]
  },
  {
   "cell_type": "code",
   "execution_count": null,
   "metadata": {},
   "outputs": [],
   "source": [
    "old_val = Widget.cget(\"prop\")\n",
    "\n",
    "Widget.config(prop=new_val)"
   ]
  },
  {
   "cell_type": "markdown",
   "metadata": {},
   "source": [
    "Let’s rewrite our code to use this way of communicating with the widget’s properties."
   ]
  },
  {
   "cell_type": "code",
   "execution_count": 38,
   "metadata": {},
   "outputs": [],
   "source": [
    "import tkinter as tk\n",
    "\n",
    "\n",
    "def on_off():\n",
    "    global button\n",
    "    state = button.cget(\"text\")\n",
    "    if state == \"ON\":\n",
    "        state = \"OFF\"\n",
    "    else:\n",
    "        state = \"ON\"\n",
    "    button.config(text=state)\n",
    "\n",
    "\n",
    "window = tk.Tk()\n",
    "button = tk.Button(window, text=\"OFF\", command=on_off)\n",
    "button.place(x=50, y=100, width=100)\n",
    "window.mainloop()\n"
   ]
  },
  {
   "cell_type": "markdown",
   "metadata": {},
   "source": [
    "---"
   ]
  },
  {
   "cell_type": "markdown",
   "metadata": {},
   "source": [
    "One of the properties we want to tell you about is `font`. Every widget presenting a piece of text (e.g., `Button` and `Label` but not `Frame`) can be made to use a font ***different from the default***.\n",
    "\n",
    "Tkinter represents fonts as **tuples**. Surprised? Don’t be, it’s very simple.\n",
    "\n",
    "Any font can be described as two- or three-element tuples:"
   ]
  },
  {
   "cell_type": "code",
   "execution_count": null,
   "metadata": {},
   "outputs": [],
   "source": [
    "(\"font_family_name\", \"font_size\")\n",
    "\n",
    "(\"font_family_name\", \"font_size\", \"font_style\")"
   ]
  },
  {
   "cell_type": "markdown",
   "metadata": {},
   "source": [
    "- the two-element tuple contains two strings: the first containing the **font’s family name**, and the second carrying the **font’s size** measured in points; note: the second element has to be a string, although it specifies strictly numerical information;\n",
    "- the three-element tuple uses the third string to specify the font’s style, which can be expressed using the following strings:\n",
    "\n",
    "    - \"bold\"\n",
    "    - \"italic\"\n",
    "    - \"underline\"\n",
    "    - \"overstrike\"\n",
    "\n",
    "The property responsible for storing font information is – obviously – named `font`."
   ]
  },
  {
   "cell_type": "code",
   "execution_count": 41,
   "metadata": {},
   "outputs": [],
   "source": [
    "import tkinter as tk\n",
    "\n",
    "window = tk.Tk()\n",
    "label_1 = tk.Label(window, text=\"123 abc\")\n",
    "label_1.grid(column=0, row=0)\n",
    "label_2 = tk.Label(window, text=\"123 abc\", font=(\"Times\", \"12\"))\n",
    "label_2.grid(column=0, row=1)\n",
    "label_3 = tk.Label(window, text=\"123 abc\", font=(\"Arial\", \"16\", \"bold\"))\n",
    "label_3.grid(column=0, row=2)\n",
    "window.mainloop()"
   ]
  },
  {
   "cell_type": "markdown",
   "metadata": {},
   "source": [
    "---"
   ]
  },
  {
   "cell_type": "markdown",
   "metadata": {},
   "source": [
    "Every ***widget occupies a part of the window’s area***, thus it’s obvious the widgets must have **sizes**. Interestingly, widgets have properties describing many more sizes than just `width` (usually specified in pixels) and `height` (which can be specified in **rows of text** if the widget is able to present textual information).\n",
    "\n",
    "The list of widget sizes is gathered in the table:"
   ]
  },
  {
   "cell_type": "markdown",
   "metadata": {},
   "source": [
    "| Widget property name | Property role                                                                                                                                                                                                                                       |\n",
    "| :--------------------:| :----------------: |\n",
    "|  |\n",
    "| `borderwidth`        | The width of the **3D-frame** surrounding some widgets (e.g., `Button`)   |\n",
    "| `highlightthickness` | The width of the additional frame drawn around the widget when it gains the focus |\n",
    "| `padx`<br><br>`pady` | The width/height of an additional empty space/margin around the widget|\n",
    "| `wraplength`         | If the text filling the widget becomes longer than this property’s value, it will be wrapped (possibly more than once)|\n",
    "| `height`             | The height of the widget  |\n",
    "| `underline`          | The index of the character inside the widget’s text, which should be presented as underlined or `-1` otherwise (the underlined letter/digit can be used as a shortcut key, but it needs a specialized callback to work – no automation here, sorry) |\n",
    "| `width`              | The width of the widget |"
   ]
  },
  {
   "cell_type": "code",
   "execution_count": 45,
   "metadata": {},
   "outputs": [],
   "source": [
    "import tkinter as tk\n",
    "\n",
    "\n",
    "window = tk.Tk()\n",
    "button_1 = tk.Button(window, text=\"Ordinary button\");\n",
    "button_1.pack()\n",
    "button_2 = tk.Button(window, text=\"Exceptional button\")\n",
    "button_2.pack()\n",
    "button_2[\"borderwidth\"] = 10\n",
    "button_2[\"highlightthickness\"] = 10\n",
    "button_2[\"padx\"] = 10\n",
    "button_2[\"pady\"] = 5\n",
    "button_2[\"underline\"] = 1\n",
    "window.mainloop()\n"
   ]
  },
  {
   "cell_type": "markdown",
   "metadata": {},
   "source": [
    "---"
   ]
  },
  {
   "cell_type": "markdown",
   "metadata": {},
   "source": [
    "You already know the three alternative methods used to describe the **colors**. Now we’ll show you which parts of the widget can be **colorized**. There are more options than you may suspect:"
   ]
  },
  {
   "cell_type": "markdown",
   "metadata": {},
   "source": [
    "| Widget property name                         | Property role                                                                                                                               |\n",
    "| :--------------------------------------------: | :-------:|\n",
    "| `background`<br><br>`bg`                     | The color of the widget’s background (you can freely use either of these two forms)                                                         |\n",
    "| `foreground`<br><br>`fg`                     | The color of the widget’s foreground (note: it can mean different things in different widgets; in general, it’s used to specify text color) |\n",
    "| `activeforeground`<br><br>`activebackground` | Like `bg` and fg but used when the widget becomes active                                                                                    |\n",
    "| `disabledforeground`                         | The width of the widget                                                                                                                     |"
   ]
  },
  {
   "cell_type": "code",
   "execution_count": 46,
   "metadata": {},
   "outputs": [],
   "source": [
    "import tkinter as tk\n",
    "\n",
    "window = tk.Tk()\n",
    "button_1 = tk.Button(window, text=\"Ordinary button\");\n",
    "button_1.pack()\n",
    "button_2 = tk.Button(window, text=\"Colorful button\")\n",
    "button_2.pack()\n",
    "button_2.config(bg =\"#000000\")\n",
    "button_2.config(fg =\"yellow\")\n",
    "button_2.config(activeforeground =\"#FF0000\")\n",
    "button_2.config(activebackground =\"green\")\n",
    "window.mainloop()\n"
   ]
  },
  {
   "cell_type": "markdown",
   "metadata": {},
   "source": [
    "---"
   ]
  },
  {
   "cell_type": "markdown",
   "metadata": {},
   "source": [
    "Our next widget is an `anchor`. The anchor is an imaginary (invisible) **point** inside the widget to which the text (if any) is **anchored**. As you’ve probably noticed, widgets tend to put their text in the **middle** of themselves (both in horizontal and vertical directions). The location of the anchor can easily be changed, as there is a property of the same name.\n",
    "\n",
    "It seems to be obvious, but there’s one unobvious aspect – how to **name the anchors**.\n",
    "\n",
    "This is done by a set of predefined identifiers which make of use of the **compass coordinates** – take a look and everything will be clear at once:"
   ]
  },
  {
   "cell_type": "markdown",
   "metadata": {},
   "source": [
    "![](./images/44_compass_coordinates.png)"
   ]
  },
  {
   "cell_type": "markdown",
   "metadata": {},
   "source": [
    "As you can see, there are **nine anchors**, and the one placed in the middle is named `CENTER` (not a very compassey name, we admit). The `CENTER` anchor is the default one and is used when you don’t set the anchor property at all."
   ]
  },
  {
   "cell_type": "code",
   "execution_count": 56,
   "metadata": {},
   "outputs": [],
   "source": [
    "import tkinter as tk\n",
    "\n",
    "window = tk.Tk()\n",
    "button_1 = tk.Button(window, text=\"Regular button\");\n",
    "button_1[\"anchor\"] =\"e\"\n",
    "button_1[\"width\"] = 20  # pixels!\n",
    "button_1.pack()\n",
    "button_2 = tk.Button(window, text=\"Another button\")\n",
    "button_2[\"anchor\"] = \"sw\"\n",
    "button_2[\"width\"] = 20\n",
    "button_2[\"height\"] = 3  # rows\n",
    "button_2.pack()\n",
    "window.mainloop()\n"
   ]
  },
  {
   "cell_type": "markdown",
   "metadata": {},
   "source": [
    "---"
   ]
  },
  {
   "cell_type": "markdown",
   "metadata": {},
   "source": [
    "Our next property is the cursor.\n",
    "\n",
    "As you know, the default mouse cursor reveals itself as an **arrow**. Sometimes, when it enters a specific area, its shape can **change** (e.g., over input fields).\n",
    "\n",
    "You have the power to order the cursor to change to a **different** cursor over each of the widgets, as every widget has the property we’re talking about.\n",
    "\n",
    "Unfortunately, the repertoire of available cursors isn’t very impressive – all of them are described [here](https://www.tcl.tk/man/tcl8.4/TkCmd/cursors.htm)."
   ]
  },
  {
   "cell_type": "code",
   "execution_count": 57,
   "metadata": {},
   "outputs": [],
   "source": [
    "import tkinter as tk\n",
    "\n",
    "window = tk.Tk()\n",
    "label_1 = tk.Label(window, height=3, text=\"arrow\", cursor=\"arrow\")\n",
    "label_1.pack()\n",
    "label_2 = tk.Label(window, height=3, text=\"clock\", cursor=\"clock\")\n",
    "label_2.pack()\n",
    "label_3 = tk.Label(window, height=3, text=\"heart\", cursor=\"heart\")\n",
    "label_3.pack()\n",
    "window.mainloop()\n"
   ]
  },
  {
   "cell_type": "markdown",
   "metadata": {},
   "source": [
    "---"
   ]
  },
  {
   "cell_type": "markdown",
   "metadata": {},
   "source": [
    "### Widget methods\n",
    "\n",
    "Widgets have **methods** – you’ve met some of them already. Now we’re going to show you a few more of them, and we’ll start with two which seem to be very specific. We can even say that the sense of their existence is very closely bound to the unique features of **event programming**.\n",
    "\n",
    "The methods are named (assuming that `Widget` is an existing widget):"
   ]
  },
  {
   "cell_type": "code",
   "execution_count": null,
   "metadata": {},
   "outputs": [],
   "source": [
    "Widget.after(time_ms, function)\n",
    "\n",
    "Widget.after_cancel(id)"
   ]
  },
  {
   "cell_type": "markdown",
   "metadata": {},
   "source": [
    "- `after()` – this method expects two arguments: the first is a **time interval specification** (expressed in milliseconds: 1 s = 1000 ms) and the second **points to an existing function**; successful invocation of the method causes the event manager to change its plans; when the number of milliseconds elapses, the manager will **invoke the function** (only once); note: this the only possible way of controlling the **passage of time** when using an event-driven environment.\n",
    "\n",
    "- Why? Because you can’t just invoke the built-in `sleep()` function within any of your callbacks – it would **freeze** your application for the whole nap time; the `after()` method returns a value which is as specific as the method itself – it’s a unique **id** of the planned invocation; is it usable? Yes, it is, e.g., when you are going to **delete** the previously planned invocation from the manager’s calendar, which is done with a method named…\n",
    "\n",
    "- `after_cancel(id)` – the method cancels the planned invocation identified by the id argument."
   ]
  },
  {
   "cell_type": "code",
   "execution_count": 63,
   "metadata": {},
   "outputs": [],
   "source": [
    "import tkinter as tk\n",
    "\n",
    "\n",
    "def blink():\n",
    "    global is_white\n",
    "    if is_white:\n",
    "        color = 'black'\n",
    "    else:\n",
    "        color = 'white'\n",
    "    is_white = not is_white\n",
    "    frame.config(bg=color)\n",
    "    frame.after(500, blink)\n",
    "\n",
    "\n",
    "is_white = True\n",
    "window = tk.Tk()\n",
    "frame = tk.Frame(window, width=200, height=100, bg='white')\n",
    "frame.after(500, blink)\n",
    "frame.pack()\n",
    "window.mainloop()\n"
   ]
  },
  {
   "cell_type": "markdown",
   "metadata": {},
   "source": [
    "Note: there is no **explicit invocation** of the function inside the code. Moreover, it isn’t assigned as a callback. The question is – who invokes it?\n",
    "\n",
    "The event managers do, because:\n",
    "\n",
    "- we initially encourage it to make the invocation before the frame widget is packed into the main window;\n",
    "- we continue to encourage it every time the `blink()` function is invoked – this gives the application the ability to blink as long as the application is running."
   ]
  },
  {
   "cell_type": "markdown",
   "metadata": {},
   "source": [
    "### The destroy() method\n",
    "\n",
    "The `destroy()` method is very destructive. It removes the widget completely, not only from your sight, but also from the event manager’s memory, as the widget’s object is deleted and becomes inaccessible."
   ]
  },
  {
   "cell_type": "markdown",
   "metadata": {},
   "source": [
    "Note: if the widget you want to destroy has **children** (when other widgets are embedded inside it, which can happen with frames) the children will be destroyed, too (this rule works **recursively**)."
   ]
  },
  {
   "cell_type": "code",
   "execution_count": 68,
   "metadata": {},
   "outputs": [],
   "source": [
    "import tkinter as tk\n",
    "\n",
    "\n",
    "def suicide():\n",
    "    frame.destroy()\n",
    "\n",
    "\n",
    "window = tk.Tk()\n",
    "frame = tk.Frame(window, width=200, height=100, bg='green')\n",
    "button = tk.Button(frame, text=\"I'm a frame's child\")\n",
    "button.place(x=10, y=10)\n",
    "frame.after(5000, suicide)\n",
    "frame.pack()\n",
    "window.mainloop()\n"
   ]
  },
  {
   "cell_type": "markdown",
   "metadata": {},
   "source": [
    "#### Focus\n",
    "\n",
    "As you already know, widgets may or may not have the **focus**. At most one widget can have the focus. When you use a keyboard to interact with the application, you can use the Tab and Shift-Tab keys to move the focus forward and backward, but the focus can be controlled programmatically, too. There are two methods to help you cope with this issue. Assuming that `Wi` is an existing widget, the methods look as follows:"
   ]
  },
  {
   "cell_type": "code",
   "execution_count": null,
   "metadata": {},
   "outputs": [],
   "source": [
    "wi.focus_get()\n",
    "wi.focus_set()"
   ]
  },
  {
   "cell_type": "markdown",
   "metadata": {},
   "source": [
    "- the `focus_get()` method returns a reference to the **currently focused widget**, or `None` when no widget owns the focus (note: you can invoke the method from any widget, including the main window)\n",
    "- the `focus_set()` method **focuses** the widget from the method which was invoked, so you have to choose it carefully."
   ]
  },
  {
   "cell_type": "code",
   "execution_count": 71,
   "metadata": {},
   "outputs": [],
   "source": [
    "import tkinter as tk\n",
    "\n",
    "\n",
    "def flip_focus():\n",
    "    if window.focus_get() is button_1:\n",
    "        button_2.focus_set()\n",
    "    else:\n",
    "        button_1.focus_set()\n",
    "    window.after(1000, flip_focus)\n",
    "\n",
    "\n",
    "window = tk.Tk()\n",
    "button_1 = tk.Button(window, text=\"First\")\n",
    "button_1.pack()\n",
    "button_2 = tk.Button(window, text=\"Second\")\n",
    "button_2.pack()\n",
    "window.after(1000, flip_focus)\n",
    "window.mainloop()\n"
   ]
  },
  {
   "cell_type": "markdown",
   "metadata": {},
   "source": [
    "### 1.9.1.1 Looking at variables"
   ]
  },
  {
   "cell_type": "markdown",
   "metadata": {},
   "source": [
    "### Variables\n",
    "\n",
    "To implement some of its functions, Tkinter uses a very special kind of variable called an ***observable variable***. This variable works like a regular variable (i.e., it’s able to store values which are accessible to the outside world) but there is something more – any change of the variable’s state can be **observed** by a number of external agents. For example, the `Entry` widget can use its own observable variable to inform other objects that the contents of the input field have been changed.\n",
    "\n",
    "From a technical point of view, such a variable is an object of the **container class**. This means that a variable of that kind has to be **explicitly created and initialized**.\n",
    "\n",
    "There is another important difference – these variables are **typed**. You have to be aware of what type of value you want to store in them, and don’t change your mind during the variable’s life.\n",
    "\n",
    "Note: you can only create an observable variable **after the main window initialization**. Don’t forget this – you’ve been warned!"
   ]
  },
  {
   "cell_type": "markdown",
   "metadata": {},
   "source": [
    "---"
   ]
  },
  {
   "cell_type": "markdown",
   "metadata": {},
   "source": [
    "There are four kinds (types) of observable variable used by tkinter:\n",
    "\n",
    "- `BooleanVar`\n",
    "- `DoubleVar`\n",
    "- `IntVar`\n",
    "- `StringVar`\n",
    "\n",
    "The names you see are also the constructors’ names, so if you want to use any of the variables, you must invoke the proper constructor and save the returned object.\n",
    "\n",
    "Note: the newly created variables are set to:\n",
    "\n",
    "- integer `o` for `IntVar`;\n",
    "- float`0.0` for `DoubleVar`;\n",
    "- Boolean `False` for `BooleanVar`;\n",
    "- string `\"\"` for `StringVar.\n",
    "\n",
    "For example, if a widget is able to serve an observable variable of the string type, you’ll create it in the following way:"
   ]
  },
  {
   "cell_type": "code",
   "execution_count": 80,
   "metadata": {},
   "outputs": [
    {
     "name": "stdout",
     "output_type": "stream",
     "text": [
      "To be or not to be\n"
     ]
    }
   ],
   "source": [
    "import tkinter as tk\n",
    "\n",
    "window = tk.Tk()\n",
    "s = tk.StringVar()\n",
    "s.set(\"To be or not to be\")\n",
    "sn = s.get()\n",
    "print(sn)\n",
    "window.mainloop()"
   ]
  },
  {
   "cell_type": "markdown",
   "metadata": {},
   "source": [
    "---"
   ]
  },
  {
   "cell_type": "markdown",
   "metadata": {},
   "source": [
    "Each observable variable can be **enriched** with a number of **observers**. An observer is a **function** (a kind of callback) which will be invoked automatically each time a specified event occurs in the variable’s life.\n",
    "\n",
    "The number of observers is not limited.\n",
    "\n",
    "Adding an observer to a variable is done by a method named `trace()`:"
   ]
  },
  {
   "cell_type": "code",
   "execution_count": null,
   "metadata": {},
   "outputs": [],
   "source": [
    "obsid = variable.trace(trace_mode, observer)"
   ]
  },
  {
   "cell_type": "markdown",
   "metadata": {},
   "source": [
    "The method takes two arguments:\n",
    "\n",
    "- a string describing which events should **trigger an observer** – the possible values are:\n",
    "    - `\"r\"` – if you want to be aware of the variable reads (accessing its value through `get()`)\n",
    "    - `\"w\"` – if you want to be aware of the variable writes (changing its value through `set()`)\n",
    "    - `\"u\"` – if you want to be aware of the variable’s annihilation (removing the object through `del`)\n",
    "- a reference to a function which will be invoked when the specified event occurs.\n",
    "\n",
    "The function returns a string which is a unique observer **identifier**. Don’t try to interpret its contents. You don’t want to know its meaning."
   ]
  },
  {
   "cell_type": "markdown",
   "metadata": {},
   "source": [
    "---"
   ]
  },
  {
   "cell_type": "markdown",
   "metadata": {},
   "source": [
    "The observer should be declared as a **three-parameter function**:"
   ]
  },
  {
   "cell_type": "code",
   "execution_count": null,
   "metadata": {},
   "outputs": [],
   "source": [
    "def observer(id, ix, act):\n",
    ":\n",
    ":"
   ]
  },
  {
   "cell_type": "markdown",
   "metadata": {},
   "source": [
    "- `id` – an internal observable variable identifier (unusable for us);\n",
    "- `ix` – an empty string (always – don’t ask us why, it’s `tkinter`’s business)\n",
    "- `act` – a string informing us what happened to the variable or, in other words, what reason triggered the observer ('`r`', '`w`' or '`u`')"
   ]
  },
  {
   "cell_type": "markdown",
   "metadata": {},
   "source": [
    "If you don’t need any of the arguments, you can declare the observer as: `def obs(*):`\n",
    "\n",
    "**Removing** the observer is done with a method named `trace_vdelete()`:"
   ]
  },
  {
   "cell_type": "code",
   "execution_count": null,
   "metadata": {},
   "outputs": [],
   "source": [
    "variable.trace_vdelete(trace_mode,obsid)"
   ]
  },
  {
   "cell_type": "markdown",
   "metadata": {},
   "source": [
    "Its arguments’ meanings are as follows:\n",
    "\n",
    "- `trace_mode` – the mode in which the observer has been created;\n",
    "- `obsid` – the observer’s identifier obtained from the previous `trace()` invocation.\n",
    "\n",
    "We’ve prepared a simple snippet showing how the observable variables **cooperate** with their observers. Take a look at it, we've provided it in the editor.\n",
    "\n",
    "The code creates one observable variable of type `StringVar` and assigns two observers to it – one for reading and one for writing. The observers send a line to `stdout` when invoked."
   ]
  },
  {
   "cell_type": "code",
   "execution_count": 81,
   "metadata": {},
   "outputs": [
    {
     "name": "stdout",
     "output_type": "stream",
     "text": [
      "Reading\n",
      "Writing\n",
      "Writing\n",
      "abcdef\n"
     ]
    }
   ],
   "source": [
    "import tkinter as tk\n",
    "\n",
    "\n",
    "def r_observer(*args):\n",
    "    print(\"Reading\")\n",
    "\n",
    "\n",
    "def w_observer(*args):\n",
    "    print(\"Writing\")\n",
    "\n",
    "\n",
    "dummy = tk.Tk()    # we need this although we won't display any windows\n",
    "variable = tk.StringVar()\n",
    "variable.set(\"abc\")\n",
    "r_obsid = variable.trace(\"r\", r_observer)\n",
    "w_obsid = variable.trace(\"w\", w_observer)\n",
    "variable.set(variable.get() + 'd')  # read followed by write\n",
    "variable.trace_vdelete(\"r\", r_obsid)\n",
    "variable.set(variable.get() + 'e')\n",
    "variable.trace_vdelete(\"w\", w_obsid)\n",
    "variable.set(variable.get() + 'f')\n",
    "print(variable.get())\n"
   ]
  },
  {
   "cell_type": "markdown",
   "metadata": {},
   "source": [
    "### 2.1.1.1 A small lexicon of widgets - Part 1"
   ]
  },
  {
   "cell_type": "markdown",
   "metadata": {},
   "source": [
    "Each tkinter widget is created by a **constructor** of its class. The very first argument of the constructor invocation is always the **master widget** i.e., the widget that owns the newly created object."
   ]
  },
  {
   "cell_type": "code",
   "execution_count": null,
   "metadata": {},
   "outputs": [],
   "source": [
    "widget = Widget(master, option, ... )"
   ]
  },
  {
   "cell_type": "markdown",
   "metadata": {},
   "source": [
    "The master widget is just the main window in most cases, but can be also a `Frame` or a `LabelFrame` (described in the next section).\n",
    "\n",
    "The constructor accepts a set of arguments that configure the widget. Different widgets use different sets of arguments.\n",
    "\n",
    "As we mentioned before, all widgets fall into two categories: **clickable** and **non-clickable**. We’ll start with the first.\n",
    "\n",
    "#### Button\n",
    "We think the `Button` doesn’t require any special attention, as we’ve used it many times before. You already know what it looks like and how it works, so we’re going to limit ourselves to enumerating the most usable properties of the widget, along with its specific methods."
   ]
  },
  {
   "cell_type": "markdown",
   "metadata": {},
   "source": [
    "| Button property | Property meaning  |\n",
    "| :---------------: | :-------------------: |\n",
    "| `command`       | the **callback** being invoked when the button is clicked |\n",
    "| `justify`       | the way in which the inner text is justified: possible (self-describing) values are: `LEFT`, `CENTER`, and `RIGHT`|\n",
    "| `state`         | if you set the property to `DISABLED`, the button becomes deaf and doesn’t react to clicks, while its title is shown in gray; setting it to `NORMAL` restores normal button functioning; when the mouse is located above the button, the property changes its value to `ACTIVE` |"
   ]
  },
  {
   "cell_type": "markdown",
   "metadata": {},
   "source": [
    "| Button method | Method role |\n",
    "| :-------------: | :-------------: |\n",
    "| `flash()`     | the button **flashes** a few times but doesn’t change its |\n",
    "| `invoke()`    | activates the **callback** assigned to the widget and returns the same value the callback returned; note: this is the **only way** to invoke your own callback explicitly, as the event manager must be aware of the fact |"
   ]
  },
  {
   "cell_type": "code",
   "execution_count": 9,
   "metadata": {},
   "outputs": [],
   "source": [
    "import tkinter as tk\n",
    "\n",
    "\n",
    "def switch():\n",
    "    if button_1.cget('state') == tk.DISABLED:\n",
    "        button_1.config(state=tk.NORMAL)\n",
    "        button_1.flash()\n",
    "    else:\n",
    "        button_1.flash()\n",
    "        button_1.config(state=tk.DISABLED)\n",
    "\n",
    "\n",
    "def mouseover(ev):\n",
    "    button_1['bg'] = 'green'\n",
    "\n",
    "\n",
    "def mouseout(ev):\n",
    "    button_1['bg'] = 'red'\n",
    "\n",
    "\n",
    "window = tk.Tk()\n",
    "button_1 = tk.Button(window, text=\"Enabled\", bg=\"red\")\n",
    "button_1.bind(\"<Enter>\", mouseover)\n",
    "button_1.bind(\"<Leave>\", mouseout)\n",
    "button_1.pack()\n",
    "button_2 = tk.Button(window, text=\"Enable/Disable\", command=switch)\n",
    "button_2.pack()\n",
    "window.mainloop()\n"
   ]
  },
  {
   "cell_type": "markdown",
   "metadata": {},
   "source": [
    "#### Checkbutton"
   ]
  },
  {
   "cell_type": "markdown",
   "metadata": {},
   "source": [
    "The Checkbutton is a **two-state** switch that can be ticked (checked) or not; thus, it is a handy tool to represent yes/no user choices.\n",
    "\n",
    "\n",
    "Let's start with its properties:"
   ]
  },
  {
   "cell_type": "markdown",
   "metadata": {},
   "source": [
    "| Checkbutton property | Property meaning |\n",
    "| :--------------------: | :------------------: |\n",
    "| `bd`                 | the `checkbutton` frame **width** (default is two pixels)|\n",
    "| `command`            | the **callback** being invoked when the `checkbutton` changes its state|\n",
    "| `justify`            | the same as for `Button`  |\n",
    "| `state`              | the same as for `Button` |\n",
    "| `variable`           | an observable `IntVar` variable reflecting the widget’s state; defaultly it’s set to `1` when the `checkbutton` is checked, and to `0` otherwise |\n",
    "| `offvalue`           | the non-default value being assigned to a `variable` when the `checkbutton` is not checked |\n",
    "| `onvalue`            | the non-default value being assigned to a `variable` when the `checkbutton` is checked|"
   ]
  },
  {
   "cell_type": "markdown",
   "metadata": {},
   "source": [
    "And now some of its methods:"
   ]
  },
  {
   "cell_type": "markdown",
   "metadata": {},
   "source": [
    "| Checkbutton method | Method role|\n",
    "| :------------------: | :------------:|\n",
    "| `deselect()`       | **unchecks** the widget|\n",
    "| `flash()`          | the same as for `Button`|\n",
    "| `invoke()`         | the same as for `Button`|\n",
    "| `select()`         | **checks** the widget|\n",
    "| `toggle()`         | **toggles** the widget (changes its state to the opposite one)|"
   ]
  },
  {
   "cell_type": "markdown",
   "metadata": {},
   "source": [
    "Take a look at the code in the editor pane. The sample we’ve prepared for you makes use of the `checkbutton` and does two things:\n",
    "\n",
    "counts all the `checkbutton`’s state changes and stores the result in cnt variable;\n",
    "presents the current `cnt` value and the `checkbutton`’s state after clicking the `Show` button."
   ]
  },
  {
   "cell_type": "code",
   "execution_count": 11,
   "metadata": {},
   "outputs": [],
   "source": [
    "import tkinter as tk\n",
    "from tkinter import messagebox\n",
    "\n",
    "\n",
    "def count():\n",
    "    global counter\n",
    "    counter += 1\n",
    "\n",
    "def show():\n",
    "    messagebox.showinfo(\"\",\"counter=\" + str(counter) + \",state=\" + str(switch.get()))\n",
    "\n",
    "\n",
    "window = tk.Tk()\n",
    "switch = tk.IntVar()\n",
    "counter = 0\n",
    "button = tk.Button(window, text=\"Show\", command=show)\n",
    "button.pack()\n",
    "checkbutton = tk.Checkbutton(window, text=\"Tick\", variable=switch, command=count)\n",
    "checkbutton.pack()\n",
    "window.mainloop()\n"
   ]
  },
  {
   "cell_type": "markdown",
   "metadata": {},
   "source": [
    "#### Radiobutton"
   ]
  },
  {
   "cell_type": "markdown",
   "metadata": {},
   "source": [
    "The `Radiobutton` is usable when you **group** (couple) a number (>1) of these widgets – as only one of them can be **mutually selected** (checked), it’s a good tool to represent one of many user choices. Assigning the same observable variable to more than one `Radiobutton` creates a group.\n",
    "\n",
    "This also means that when two `Radiobuttons` use **different** observable variables, they belong to **different** groups by definition."
   ]
  },
  {
   "cell_type": "code",
   "execution_count": null,
   "metadata": {},
   "outputs": [],
   "source": [
    "rdbutton = Radiobutton(master, option, ...)"
   ]
  },
  {
   "cell_type": "markdown",
   "metadata": {},
   "source": [
    "Here are some of the `Radiobutton`’s properties:\n",
    "\n",
    "Let's start with its properties:"
   ]
  },
  {
   "cell_type": "markdown",
   "metadata": {},
   "source": [
    "| Radiobutton property | Property meaning  |\n",
    "| :--------------------: | :---------------------:|\n",
    "|  |\n",
    "| `command`            | the **callback** being invoked when the `Radiobutton` (not the group it belongs to!) changes its state                                                                                    |\n",
    "| `justify`            | the same as for `Button`                                                                                                                                                                  |\n",
    "| `state`              | the same as for `Button`                                                                                                                                                                  |\n",
    "| `variable`           | an observable `IntVar` or `StringVar` variable reflecting the **current** selection within the `Radiobutton`’s group; changing the variable’s value automatically `changes` the selection |\n",
    "| `value`              | a unique (inside the group) value **identifying** the `Radiobutton`; can be an integer value or a string, and should be compatible with the variable’s type                               |"
   ]
  },
  {
   "cell_type": "markdown",
   "metadata": {},
   "source": [
    "Some of the `Radiobutton`’s methods are shown here.\n",
    "\n",
    "Note: there is no `toggle()` method as a single `Radiobutton` performs such an operation."
   ]
  },
  {
   "cell_type": "markdown",
   "metadata": {},
   "source": [
    "| Radiobutton method | Method role                   |\n",
    "| :------------------: | :----------------------------: |\n",
    "|  |\n",
    "| `deselect()`       | **unchecks** the widget       |\n",
    "| `flash()`          | the same as for `Button`      |\n",
    "| `invoke()`         | the same as for `Button`      |\n",
    "| `select()`         | **checks** the widget<br><br> |"
   ]
  },
  {
   "cell_type": "code",
   "execution_count": 12,
   "metadata": {},
   "outputs": [],
   "source": [
    "import tkinter as tk\n",
    "from tkinter import messagebox\n",
    "\n",
    "\n",
    "def show():\n",
    "    messagebox.showinfo(\"\", \"radio_1=\" + str(radio_1_var.get()) +\n",
    "                        \",radio_2=\" + str(radio_2_var.get()))\n",
    "\n",
    "\n",
    "def command_1():\n",
    "    radio_2_var.set(radio_1_var.get())\n",
    "\n",
    "\n",
    "def command_2():\n",
    "    radio_1_var.set(radio_2_var.get())\n",
    "\n",
    "\n",
    "window = tk.Tk()\n",
    "button = tk.Button(window, text=\"Show\", command=show)\n",
    "button.pack()\n",
    "radio_1_var = tk.IntVar()\n",
    "radio_1_1 = tk.Radiobutton(window, text=\"pizza\", variable=radio_1_var, value=1, command=command_1)\n",
    "radio_1_1.select()\n",
    "radio_1_1.pack()\n",
    "radio_1_2 = tk.Radiobutton(window, text=\"clams\", variable=radio_1_var, value=2, command=command_1)\n",
    "radio_1_2.pack()\n",
    "radio_2_var = tk.IntVar()\n",
    "radio_2_1 = tk.Radiobutton(window, text=\"FR\", variable=radio_2_var, value=2, command=command_2)\n",
    "radio_2_1.pack()\n",
    "radio_2_2 = tk.Radiobutton(window, text=\"IT\", variable=radio_2_var, value=1, command=command_2)\n",
    "radio_2_2.select()\n",
    "radio_2_2.pack()\n",
    "window.mainloop()\n"
   ]
  },
  {
   "cell_type": "markdown",
   "metadata": {},
   "source": [
    "The program defines two separate Radiobutton groups, consisting of two Radiobuttons. These groups are **coupled**, as their callbacks change the opposite group to reflect the state of their own group. Thanks to that, you can choose a meal and change country, or you can change country and the meal will select itself automatically.\n",
    "\n"
   ]
  },
  {
   "cell_type": "code",
   "execution_count": null,
   "metadata": {},
   "outputs": [],
   "source": []
  },
  {
   "cell_type": "code",
   "execution_count": null,
   "metadata": {},
   "outputs": [],
   "source": []
  },
  {
   "cell_type": "code",
   "execution_count": null,
   "metadata": {},
   "outputs": [],
   "source": []
  },
  {
   "cell_type": "code",
   "execution_count": null,
   "metadata": {},
   "outputs": [],
   "source": []
  },
  {
   "cell_type": "code",
   "execution_count": null,
   "metadata": {},
   "outputs": [],
   "source": []
  },
  {
   "cell_type": "code",
   "execution_count": null,
   "metadata": {},
   "outputs": [],
   "source": []
  },
  {
   "cell_type": "code",
   "execution_count": null,
   "metadata": {},
   "outputs": [],
   "source": []
  },
  {
   "cell_type": "code",
   "execution_count": null,
   "metadata": {},
   "outputs": [],
   "source": []
  },
  {
   "cell_type": "code",
   "execution_count": null,
   "metadata": {},
   "outputs": [],
   "source": []
  },
  {
   "cell_type": "code",
   "execution_count": null,
   "metadata": {},
   "outputs": [],
   "source": []
  },
  {
   "cell_type": "code",
   "execution_count": null,
   "metadata": {},
   "outputs": [],
   "source": []
  },
  {
   "cell_type": "code",
   "execution_count": null,
   "metadata": {},
   "outputs": [],
   "source": []
  },
  {
   "cell_type": "code",
   "execution_count": null,
   "metadata": {},
   "outputs": [],
   "source": []
  },
  {
   "cell_type": "code",
   "execution_count": null,
   "metadata": {},
   "outputs": [],
   "source": []
  },
  {
   "cell_type": "code",
   "execution_count": null,
   "metadata": {},
   "outputs": [],
   "source": []
  },
  {
   "cell_type": "code",
   "execution_count": null,
   "metadata": {},
   "outputs": [],
   "source": []
  },
  {
   "cell_type": "code",
   "execution_count": null,
   "metadata": {},
   "outputs": [],
   "source": []
  },
  {
   "cell_type": "code",
   "execution_count": null,
   "metadata": {},
   "outputs": [],
   "source": []
  },
  {
   "cell_type": "code",
   "execution_count": null,
   "metadata": {},
   "outputs": [],
   "source": []
  },
  {
   "cell_type": "code",
   "execution_count": null,
   "metadata": {},
   "outputs": [],
   "source": []
  },
  {
   "cell_type": "code",
   "execution_count": null,
   "metadata": {},
   "outputs": [],
   "source": []
  },
  {
   "cell_type": "code",
   "execution_count": null,
   "metadata": {},
   "outputs": [],
   "source": []
  }
 ],
 "metadata": {
  "kernelspec": {
   "display_name": "Python 3",
   "language": "python",
   "name": "python3"
  },
  "language_info": {
   "codemirror_mode": {
    "name": "ipython",
    "version": 3
   },
   "file_extension": ".py",
   "mimetype": "text/x-python",
   "name": "python",
   "nbconvert_exporter": "python",
   "pygments_lexer": "ipython3",
   "version": "3.7.4"
  }
 },
 "nbformat": 4,
 "nbformat_minor": 2
}
