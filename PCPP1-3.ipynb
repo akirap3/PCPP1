{
 "cells": [
  {
   "cell_type": "markdown",
   "metadata": {},
   "source": [
    "## Python Professional Course Series: GUI Programming"
   ]
  },
  {
   "cell_type": "markdown",
   "metadata": {},
   "source": [
    "### Introduction to GUI Programming in Python: tkinter"
   ]
  },
  {
   "cell_type": "markdown",
   "metadata": {},
   "source": [
    "After completing this course you will know:\n",
    "\n",
    "- what GUI is and where it came from;\n",
    "- how to construct a GUI using basic blocks and conventions;\n",
    "- how event-driven programming works;\n",
    "- some popular and commonly used GUI environments and toolkits;\n",
    "- what tkinter is and how to build a GUI with its help;\n",
    "- how to use widgets, windows, and events, and how to create basic applications based on tkinter's application life cycle."
   ]
  },
  {
   "cell_type": "markdown",
   "metadata": {},
   "source": [
    "### 1.1.1.2 What is a GUI and why do we like it so much?"
   ]
  },
  {
   "cell_type": "markdown",
   "metadata": {},
   "source": [
    "### What is GUI?\n",
    "GUI is an acronym. Moreover, it’s a three-letter acronym, a representative of a well-known class of acronyms which plays a very important role in the IT industry. Okay, that’s enough jokes about TLA’s for one course, all the more that GUI is present nearly everywhere. Look around you – you’ll see a couple of different devices equipped with screens: phone, tablet, computer, TV set, fridge, oven, even washing machine or heating controller – all these things have a screen, most of them colored and many (more and more every year) use it to display a GUI and to communicate with the user. They communicate bidirectionally.\n",
    "\n",
    "GUI stands for **Graphical User Interface**. In this three-word acronym, the User seems to be the most obvious part. The word Interface needs some more reflection, but in fact, it is clear too – it’s a tool used by the user to command a device and to receive its responses.\n",
    "\n",
    "But what does it mean that the interface is graphical?"
   ]
  },
  {
   "cell_type": "markdown",
   "metadata": {},
   "source": [
    "### Terminals\n",
    "\n",
    "For a very long time (about 30 years or even longer) displays weren’t treated as a part of computers. A computer (sometimes called a mainframe) was a very big box (much, much bigger than the biggest refrigerator you ever had in your home) with thousands of colored lights, blinking all the time, and hundreds of switches (also colored).\n",
    "\n",
    "“Okay,” you may say, “nice image, but how could we control such a computer?”\n",
    "\n",
    "To control the computer, you needed to have a specialized and completely separate device called a terminal. The terminal needed to be wired to a computer (don’t forget that the Internet had not been invented yet) and was rarely placed in the same room. It could be placed in a different building, a different city or even on a different continent.\n",
    "\n",
    "But the most intriguing part of the story was that the terminal:\n",
    "\n",
    "- was monochrome (it could display either grey, amber, or green dots on a black or nearly black background);\n",
    "- wasn’t able to display anything but letters, digits, and a few other characters.\n",
    "\n",
    "The latter limitation is the most important as it dictated the way software was built for a very long time, almost an era in the history of IT technology.\n",
    "\n",
    "Think about it. Try to imagine what it was like to work with a computer without not being able to see a picture, not saying a word about movies or animations.\n",
    "\n",
    "No photographs, no selfies, no avatars, no animated banners and finally, no colors.\n",
    "\n",
    "How do you like it?\n",
    "\n",
    "Take a look at the two classical terminals which exerted the greatest influence on the construction of such equipment and became worldwide industry standards. The first of them is the **IBM 3270**, and the second is the Digital Equipment Corporation’s **VT100**.\n",
    "\n",
    "Now it’s time for the second part of our time travel adventure. Are you ready?"
   ]
  },
  {
   "cell_type": "markdown",
   "metadata": {},
   "source": [
    "### Visual programming"
   ]
  },
  {
   "cell_type": "markdown",
   "metadata": {},
   "source": [
    "Creating applications able to utilize GUI features is sometimes called visual programming.\n",
    "\n",
    "The term stresses the fact that an application's look is as important as its functionality, but it's not just a matter of what you see on the screen, but also what you can do to change its state, and how you force the application to submit to your will.\n",
    "\n",
    "The GUI created completely new possibilities unknown to users in previous eras: clicks and taps replaced keystrokes.\n",
    "\n",
    "We're going to show you that such programming demands a completely different approach, and a completely different understanding of application activities.\n",
    "\n",
    "Let's summarize some important aspects of visual programming.\n",
    "\n",
    "A working GUI application externalizes its existence by creating a window (or windows) visible on the screen.\n",
    "\n",
    "In some environments (e.g., on mobile devices) the window can occupy the whole screen, so not more than one application can be visible on screen at once.\n",
    "\n",
    "The application's window is usually equipped with certain decorations: a title bar, a frame, buttons, icons, etc. As you probably know, the style in which the decorations are visualized and placed within the window may be treated as an operating system's birthmark. We're sure that you can distinguish different MS Windows versions just by looking at the colors and shapes visible on the screen.\n",
    "\n",
    "Some operating environments completely disable a user's effect on the way in which the OS decorates application windows. Others don't – the user can define their own style and colors of virtually all the GUI elements.\n",
    "\n",
    "Some operating systems devote the whole screen to one application, so the decorations are extremely minimalistic or completely absent.\n",
    "\n",
    "Fortunately, it has very little effect on the developer's work."
   ]
  },
  {
   "cell_type": "markdown",
   "metadata": {},
   "source": [
    "### Widgets\n",
    "\n",
    "The user interacts with the GUI by using gestures: a mouse's movements, clicks targeting selected GUI elements, or by dragging other elements. Touch screens may offer something more: tapping (single or double or even more complex), swiping, and pinching.\n",
    "\n",
    "The GUI elements designed to receive such gestures are called ***controls*** or ***widgets***.\n",
    "\n"
   ]
  },
  {
   "cell_type": "markdown",
   "metadata": {},
   "source": [
    "![](./images/26_widget.png)"
   ]
  },
  {
   "cell_type": "markdown",
   "metadata": {},
   "source": [
    "Note that the whole GUI idea was inspired by electrical control panels – devices full of switches, gauges, and colored warning lights. You'll find some traces of these inspirations in widget names. Don't be surprised.\n",
    "\n",
    "One of the widgets living inside a particular window owns the focus. The widget (which is also called the **focused widget**) is the default recipient of some or all of the user's actions. Of course, the focus may change its owner, which is usually done by pressing the Tab key.\n",
    "\n",
    "For example, pressing the space bar may activate different activities depending on which of the window's widgets is currently focused.\n",
    "\n",
    "Now let's take a look at a very simple window."
   ]
  },
  {
   "cell_type": "markdown",
   "metadata": {},
   "source": [
    "Let's try to identify all visible window components. This is a very important distinction, as the window hides some of its secrets from the user. We can even say that each window comprises very complicated machinery driving all the window's behaviors. But we're not interested in that yet.\n",
    "\n",
    "First of all, the window has a **title bar**. It's one of the typical window decorations."
   ]
  },
  {
   "cell_type": "markdown",
   "metadata": {},
   "source": [
    "![](./images/27_title_bar.png)"
   ]
  },
  {
   "cell_type": "markdown",
   "metadata": {},
   "source": [
    "Inside the title bar there is (or can be) a set of control buttons. Our sample window contains only one: the **closing button**. Note that the location of these buttons is OS-dependent."
   ]
  },
  {
   "cell_type": "markdown",
   "metadata": {},
   "source": [
    "![](./images/28_closing_button.png)"
   ]
  },
  {
   "cell_type": "markdown",
   "metadata": {},
   "source": [
    "Inside the title bar (as the name suggests) there is a window **title**. Of course, some of the windows may also be untitled."
   ]
  },
  {
   "cell_type": "markdown",
   "metadata": {},
   "source": [
    "![](./images/29_title.png)"
   ]
  },
  {
   "cell_type": "markdown",
   "metadata": {},
   "source": [
    "The window's interior is equipped with a set of widgets responsible for implementing the window's functionalities. Some of them are active (they can receive a user's clicks or, in other words, they are clickable) while others aren't.\n",
    "\n",
    "One of these non-clickables is an **icon** – a small picture that usually helps the user to quickly identify the issue."
   ]
  },
  {
   "cell_type": "markdown",
   "metadata": {},
   "source": [
    "![](./images/30_icon.png)"
   ]
  },
  {
   "cell_type": "markdown",
   "metadata": {},
   "source": [
    "Another non-clickable member of the window's team is a **label** – a piece of text inside a window which literally explains the window's purpose."
   ]
  },
  {
   "cell_type": "markdown",
   "metadata": {},
   "source": [
    "![](./images/31_label.png)"
   ]
  },
  {
   "cell_type": "markdown",
   "metadata": {},
   "source": [
    "As our sample window performs a very specific task (it asks a question and forces the user to reply), it needs two buttons assigned to the user's possible answers.\n",
    "\n",
    "The first of them is titled Yes and – look carefully! – it's currently focused!"
   ]
  },
  {
   "cell_type": "markdown",
   "metadata": {},
   "source": [
    "![](./images/32_button.png)"
   ]
  },
  {
   "cell_type": "markdown",
   "metadata": {},
   "source": [
    "Can you guess how we know that?\n",
    "\n",
    "Yes, it's shown by the thin dotted line drawn around the button. If you press the space bar now, it will be taken as an affirmative answer.\n",
    "\n"
   ]
  },
  {
   "cell_type": "markdown",
   "metadata": {},
   "source": [
    "The second of the buttons is not focused yet.\n",
    "\n",
    "What can we do to move the focus to the button?\n",
    "\n",
    "Yes, we can press the Tab key."
   ]
  },
  {
   "cell_type": "markdown",
   "metadata": {},
   "source": [
    "![](./images/33_button.png)"
   ]
  },
  {
   "cell_type": "markdown",
   "metadata": {},
   "source": [
    "Note: the underlined letters within the buttons' title show the shortcuts. Pressing these keys has the same effect as clicking one of the buttons.\n",
    "\n",
    "And what does all this mean?\n",
    "\n",
    "This means something very important to us. You may not want to believe us at the moment, but the traditional programming paradigm in which the programmer is responsible for responding to literally all the user's actions is completely useless in visual programming.\n",
    "\n",
    "Why?\n",
    "\n",
    "Because the number of all possible user moves is so substantial that continuous checking of the window's state changes, along with controlling all widget behavior, making the coding extremely heavy, and the code becomes badly bloated.\n",
    "\n",
    "In a slightly more suggestive way, you could also say that widgets aren't introverts. They are not in the habit of concealing their emotions, and like very much to influence other widgets (e.g., moving the focus always engages two widgets: the one that loses the focus and the one that gains it). This means that the programmer is obliged not only to control each of the widgets separately, but also their pair, triple, and so on.\n",
    "\n",
    "Let's try to imagine it."
   ]
  },
  {
   "cell_type": "markdown",
   "metadata": {},
   "source": [
    "Look at the pseudo-code below:"
   ]
  },
  {
   "cell_type": "code",
   "execution_count": null,
   "metadata": {},
   "outputs": [],
   "source": [
    "while True:\n",
    "    wait_for_user_action()\n",
    "    if user_pressed_button_yes():\n",
    "    :\n",
    "    elif user_pressed_button_no():\n",
    "    :\n",
    "    elif user_move_mouse_coursor_over_button_yes():\n",
    "    :\n",
    "    elif user_move_mouse_coursor_over_button_no():\n",
    "    :\n",
    "    elif user_pressed_Tab_key():\n",
    "        if isfocused(button_yes):\n",
    "        :\n",
    "        elif isfocused(button_no):\n",
    "       :\n",
    "    :\n",
    "    :"
   ]
  },
  {
   "cell_type": "markdown",
   "metadata": {},
   "source": [
    "Note: The pseudo-code is deprived of all details. Moreover, it's not complete. It covers less than about 10 % of all possible events, and should be heavily developed to behave in a reasonable way.\n",
    "\n",
    "Believe us: you don't want to write a code like this one. Fortunately, you don't need to.\n",
    "\n",
    "Visual programming demands a completely different philosophy, or (expressing this thought in a more fashionable way) it needs a different paradigm.\n",
    "\n",
    "This paradigm exists, and is widely applied to create GUI applications.\n",
    "\n",
    "It's called **event-driven programming**."
   ]
  },
  {
   "cell_type": "markdown",
   "metadata": {},
   "source": [
    "### Classical vs. event-driven paradigm"
   ]
  },
  {
   "cell_type": "markdown",
   "metadata": {},
   "source": [
    "What is EDP like? Or rather, what is EDP unlike?\n",
    "\n",
    "First of all, detecting, registering and classifying all of a user's actions is beyond the programmer's control – there is a dedicated component called the event controller which takes care of this. It's automatic and completely opaque. You don't need to do anything (or almost anything) to make the machinery run, but you are obliged to do something else.\n",
    "\n",
    "You have to inform the event controller what you want to perform when a particular event (e.g., a mouse click). This is done by writing specialized functions called event handlers. You write these handlers only for the events you want to serve – all other events will activate default behaviors (e.g., focus moving and window closing).\n",
    "\n",
    "Of course, just implementing an event handler is not enough – you also have to make the event controller aware of it.\n",
    "\n",
    "Let's imagine that we have a function named DoSomething() which... does something. We want the function to be invoked when a user clicks a button called DO IT!.\n",
    "\n",
    "In the classical paradigm we would have to:\n",
    "\n",
    "- discover the click and check if it happened over our button;\n",
    "- redraw the button to reflect the click (e.g., to show that it is actually pressed)\n",
    "- invoke the function.\n",
    "\n",
    "In the event-driven paradigm our duties look completely different:\n",
    "\n",
    "- the event controller detects the clicks on its own;\n",
    "- it identifies the target of the click on its own;\n",
    "- it invokes the desired function on its own;\n",
    "- all these actions take place behind the scenes! Really!\n"
   ]
  },
  {
   "cell_type": "markdown",
   "metadata": {},
   "source": [
    "### Events\n",
    "Have you noticed? We silently introduced a new word into our discussion. It’s the event.\n",
    "\n",
    "What it is? Or rather, what could it be?\n",
    "\n",
    "There are lots of events which an event manager is committed to recognizing, discovering, and serving. Here are some of them:\n",
    "\n",
    "- pressing the mouse button;\n",
    "- releasing the mouse button (actually, an ordinary mouse click consists of these two subsequent events)\n",
    "- moving the mouse cursor;\n",
    "- dragging something under the mouse cursor;\n",
    "- pressing and releasing a key;\n",
    "- tapping a screen;\n",
    "- tracking the passage of time;\n",
    "- monitoring a widget’s state change;\n",
    "- and many, many more..."
   ]
  },
  {
   "cell_type": "markdown",
   "metadata": {},
   "source": [
    "### TkInter\n",
    "Unfortunately, each operating system delivers its own set of services designed to operate with its native GUI. Moreover, some of them (e.g., Linux) may define more than one standard for visual programming (two of the most widespread in the U*x world are named GTK and Qt).\n",
    "\n",
    "This means that if we want to build portable GUI applications (i.e., apps able to work under different operating environments that always look the same) we need something more – we need an adapter. A set of uniform facilities enables us, the programmers, to write one code and not worry about portability.\n",
    "\n",
    "Such an adapter is called a ***widget toolkit***, a ***GUI toolkit***, or a ***UX library***.\n",
    "\n",
    "One of these toolkits, which is very attractive to us, is Tk."
   ]
  },
  {
   "cell_type": "markdown",
   "metadata": {},
   "source": [
    "Here are some of its features:\n",
    "\n",
    "- it’s free and open (we don’t need to pay for anything)\n",
    "- it has been developed since 1991 (which means it’s stable and mature)\n",
    "- it defines and serves more than thirty different universal widgets (which is enough even for quite complex applications)\n",
    "- its implementation is available for many programming languages (of course, for Python too)\n",
    "\n",
    "The module that brings Tk to the Python world is named TkInter, which is short for Tk Interface. It’s free and open, too.\n",
    "\n",
    "You may have some trouble believing that you’ve been using TkInter for a long time, actually since your very first encounter with programming in Python.\n",
    "\n",
    "Yes, it’s true – IDLE, the very first Python IDE, is written using TkInter.\n",
    "\n",
    "We think this is the best recommendation – don’t you?"
   ]
  },
  {
   "cell_type": "markdown",
   "metadata": {},
   "source": [
    "### Importing TkInter\n",
    "As you already know, from Python's point of view TkInter is a package named tkinter. The package contains a bunch of functions, constants, classes, objects, and modules used to build GUI applications.\n",
    "\n",
    "The GUI application itself consists of four essential elements:\n",
    "\n",
    "- importing the needed tkinter components;\n",
    "- creating an application’s main window;\n",
    "- adding a set of necessary widgets to the window;\n",
    "- launching the event controller.\n",
    "\n",
    "That’s all. Really. Looks too good to be true? Let us show how it works. We’ll do it step-by-step. Ready?"
   ]
  },
  {
   "cell_type": "markdown",
   "metadata": {},
   "source": [
    "The simplest (and at the same time the less controllable) way of importing tkinter facilities is to import the package as a whole:"
   ]
  },
  {
   "cell_type": "code",
   "execution_count": null,
   "metadata": {},
   "outputs": [],
   "source": [
    "import tkinter"
   ]
  },
  {
   "cell_type": "markdown",
   "metadata": {},
   "source": [
    "Note: it won’t allow you to access some modules built-in within the package and you will still have to import them separately. As you already now, such an import will force you to use the qualified names of tkinter’s components.\n",
    "\n",
    "If you don’t like to write long package names each time you make use of their contents, you can perform an import which renames the package (precisely: which creates an alias of its original name) at the time of import.\n",
    "\n",
    "`tk` looks shorter than `tkinter`, doesn’t it?"
   ]
  },
  {
   "cell_type": "code",
   "execution_count": null,
   "metadata": {},
   "outputs": [],
   "source": [
    "import tkinter as tk"
   ]
  },
  {
   "cell_type": "markdown",
   "metadata": {},
   "source": [
    "### 1.2.1.2 Let TkInter speak!"
   ]
  },
  {
   "cell_type": "markdown",
   "metadata": {},
   "source": [
    "If you like to have full control over all your source code, you can make the import process **extremely itemized** by importing each of the facilities separately – just like this:"
   ]
  },
  {
   "cell_type": "code",
   "execution_count": null,
   "metadata": {},
   "outputs": [],
   "source": [
    "from tkinter import Button"
   ]
  },
  {
   "cell_type": "markdown",
   "metadata": {},
   "source": [
    "If you're an enthusiast of living life on the edge, you can simplify your import (but not the rest of your work) by using the star as a component name:"
   ]
  },
  {
   "cell_type": "code",
   "execution_count": null,
   "metadata": {},
   "outputs": [],
   "source": [
    "from tkinter import *"
   ]
  },
  {
   "cell_type": "markdown",
   "metadata": {},
   "source": [
    "It's handy when you write it, but it can bring some cumbersome troubles when names from the package's namespace cross with some of your private names.\n",
    "\n",
    "Don't think we're going to discourage you from using this form. It's only a warning. Or rather a piece of friendly advice.\n",
    "\n",
    "Now we're ready to create our first application. The application will be completely mute, deaf to the same extent as it is mute, and thus completely indifferent to any input. Don't worry, we'll breathe some life into it soon – it's only a very first step.\n",
    "\n",
    "Look at the code in the editor.\n",
    "\n",
    "The main application window (which is often the only window being used by the application) is created by the tkinter method named Tk(). In its most commonly used form, it needs no arguments. The object returned by the method is complete, but at the same time, completely **invisible**. Moreover, it won't be visible until the event controller starts.\n",
    "\n",
    "To start the controller, you have to invoke the main window's method, named `mainloop()`.\n",
    "\n",
    "The name is significant because – as you can see – there is nothing more you can do in your code. Entering the controller's main loop **deprives you** of the possibility of direct control over the code's execution. Now you're fully at the mercy of the controller. Exiting the main loop is equivalent to finishing the application, as without the controller's companion there is nothing more you can do.\n",
    "\n",
    "Let's run the code now."
   ]
  },
  {
   "cell_type": "code",
   "execution_count": 2,
   "metadata": {},
   "outputs": [],
   "source": [
    "import tkinter\n",
    "\n",
    "skylight = tkinter.Tk()\n",
    "skylight.mainloop()\n"
   ]
  },
  {
   "cell_type": "markdown",
   "metadata": {},
   "source": [
    "可以加上 title "
   ]
  },
  {
   "cell_type": "code",
   "execution_count": 1,
   "metadata": {},
   "outputs": [],
   "source": [
    "import tkinter\n",
    "\n",
    "skylight = tkinter.Tk()\n",
    "skylight.title(\"Skylight\")\n",
    "skylight.mainloop()\n"
   ]
  },
  {
   "cell_type": "code",
   "execution_count": null,
   "metadata": {},
   "outputs": [],
   "source": [
    "加上 button"
   ]
  },
  {
   "cell_type": "code",
   "execution_count": 3,
   "metadata": {},
   "outputs": [],
   "source": [
    "import tkinter\n",
    "\n",
    "skylight = tkinter.Tk()\n",
    "skylight.title(\"Skylight\")\n",
    "button = tkinter.Button(skylight, text=\"Bye!\")\n",
    "button.place(x=10, y=10)\n",
    "skylight.mainloop()\n"
   ]
  },
  {
   "cell_type": "markdown",
   "metadata": {},
   "source": [
    "- the widget's coordinates refer defaultly to the pixel occupied by the upper-left corner;\n",
    "- the widget's size is **defaultly determined** by the constructor in order to fit the widget's content (the title's length and height in this case)\n",
    "- the widget's location is **measured in pixels**, but there is one important issue which distinguishes the screen coordinates from the ones used by the geometry; look: this is what the Cartesian two-dimensional coordinates system looks like:"
   ]
  },
  {
   "cell_type": "markdown",
   "metadata": {},
   "source": [
    "![](./images/34_Cartesian_coordinates.png)"
   ]
  },
  {
   "cell_type": "markdown",
   "metadata": {},
   "source": [
    "while the screen coordinates look as follows:"
   ]
  },
  {
   "cell_type": "markdown",
   "metadata": {},
   "source": [
    "![](./images/35_Screen_coordinates.png)"
   ]
  },
  {
   "cell_type": "markdown",
   "metadata": {},
   "source": [
    "- This means that a pixel described as (x=10,y=10) is located near the **top-left window corner**. Be aware of this!"
   ]
  },
  {
   "cell_type": "markdown",
   "metadata": {},
   "source": [
    "### Event handler"
   ]
  },
  {
   "cell_type": "code",
   "execution_count": 1,
   "metadata": {},
   "outputs": [],
   "source": [
    "import tkinter\n",
    "\n",
    "def Click():\n",
    "    skylight.destroy();\n",
    "    \n",
    "skylight = tkinter.Tk()\n",
    "skylight.title(\"Skylight\")\n",
    "button = tkinter.Button(skylight, text=\"Bye!\", command=Click)\n",
    "button.place(x=10, y=10)\n",
    "skylight.mainloop()"
   ]
  },
  {
   "cell_type": "markdown",
   "metadata": {},
   "source": [
    "An event handler is a piece of code responsible for ***responding to all clicks addressed to our button***.\n",
    "\n",
    "The event handler we need has a simple assignment – we want it to just terminate our application. This crucial operation is done with a main window method called – don't be afraid – `destroy()`. It's a parameterless method, as destroying needs (in contrast to creation) no arguments at all.\n",
    "\n",
    "How do we write the event handler?\n",
    "\n",
    "It's a **function**. Just a simple function. The handler used by the button has to be a parameterless function of any name. Don't forget that the function will be invoked, not by us, but **only by the controller**.\n",
    "\n",
    "Furthermore, invoking your own handler is strictly prohibited, as it can completely confuse the event controller."
   ]
  },
  {
   "cell_type": "markdown",
   "metadata": {},
   "source": [
    "Note: a function designed to be invoked by someone/something else (not us!) is often called a callback. We'll use the names handler and callback interchangeably."
   ]
  },
  {
   "cell_type": "markdown",
   "metadata": {},
   "source": [
    "Two remarks should be made here:\n",
    "\n",
    "binding the callback with the widget by using the `command` constructor's parameter is not the only way offered by `tkinter` for this purpose; moreover, **callbacks can be replaced** during program execution – we'll tell you more about that soon;\n",
    "the one and same **callback can be bound with more than one widget** – it's a very useful solution in some cases."
   ]
  },
  {
   "cell_type": "markdown",
   "metadata": {},
   "source": [
    "---"
   ]
  },
  {
   "cell_type": "markdown",
   "metadata": {},
   "source": [
    "Of course, closing the window without asking the user if they are really sure that this is exactly what they want to do isn't a good way to build up a relationship with them.\n",
    "\n",
    "We definitely want to ask the user before we permanently remove their window from sight.\n",
    "\n",
    "Fortunately, `tkinter` is very helpful with this issue. There is a module named `messagebox` (the name speaks for itself) which is your great companion in this and similar matters.\n",
    "\n",
    "`messagebox` is able to create **dialog boxes** intended to ask questions, display messages, and to receive a user's reply.\n",
    "\n",
    "The dialog box is an example of a **modal window** – a window which **grabs the whole of the application's focus**. It means that all other application widgets become deaf as long as the modal window is present."
   ]
  },
  {
   "cell_type": "code",
   "execution_count": 4,
   "metadata": {},
   "outputs": [],
   "source": [
    "import tkinter\n",
    "from tkinter import messagebox\n",
    "\n",
    "def Click():\n",
    "    replay = messagebox.askquestion(\"Quit?\", \"Are you sure?\")\n",
    "    if replay == \"yes\":\n",
    "        skylight.destroy();\n",
    "        \n",
    "skylight = tkinter.Tk()\n",
    "skylight.title(\"Skylight\")\n",
    "button = tkinter.Button(skylight, text=\"Bye!\", command=Click)\n",
    "button.place(x=10, y=10)\n",
    "skylight.mainloop()\n",
    "        "
   ]
  },
  {
   "cell_type": "markdown",
   "metadata": {},
   "source": [
    "### 1.3.1.1 Settling widgets in the window's interior"
   ]
  },
  {
   "cell_type": "markdown",
   "metadata": {},
   "source": [
    "### Settling widgets"
   ]
  },
  {
   "cell_type": "markdown",
   "metadata": {},
   "source": [
    "A familiarity with the `Button` widget allows us to show you some ways of putting the widgets (not only the buttons) inside windows. There are more of them than just `place()`, which you learned about in the previous section. To be precise, there are ***three different methods***.\n",
    "\n",
    "These methods are implemented by ***geometry managers***.\n",
    "\n",
    "\n",
    "#### place\n",
    "`Place` is the most detailed one. It forces you to ***precisely declare a widget's location***, pixel by pixel. It won't, however, protect you from some common mistakes causing the widgets to overlap each other or to place some of them, partially or fully, outside the window.\n",
    "\n",
    "#### pack\n",
    "If you don't want to deploy the widgets manually and worry about possible conflicts and failures, you may entrust the whole problem to tkinter. It'll try to guess your intentions and to ***find the best location*** for each widget. Unfortunately, its assumptions may not live up to your expectations, and the final result can be really disappointing. This method of settling widgets is implemented by the `pack` geometry manager.\n",
    "\n",
    "#### grid\n",
    "The `grid` geometry manager is in the middle, in between the other two geometry managers. It gives you a chance to express your ***general wishes*** and tries to deploy the widgets according to them. Note the word general – they aren't as precise as the ones used by `place`, but are far more detailed than those utilized by pack.\n",
    "\n",
    "There is one very important aspect of the issue that must be mentioned here: ***these managers cannot be mixed***. Only one of them can be used in one application, unless you want to turn your window into a big mess.\n",
    "\n",
    "We're talking seriously about it. Don't take it as a joke."
   ]
  },
  {
   "cell_type": "markdown",
   "metadata": {},
   "source": [
    "---"
   ]
  },
  {
   "cell_type": "markdown",
   "metadata": {},
   "source": [
    "The place geometry manager demands the usage of the `place()` method. Note: the method is invoked ***from within the widget's object***, not the window, as the widget is always aware of the window it belongs to (it gets the information from the constructor's very first argument).\n",
    "\n",
    "The most usable `place()` method parameters are as follows (all of them are passed as keyword arguments):\n",
    "\n",
    "- `height=h` – the widget's desired **height** measured in pixels; if the parameter is omitted, the widget's height will be determined automatically;\n",
    "- `width=w `– the widget's desired **width** measured in pixels; if the parameter is omitted, the widget's width will be determined automatically;\n",
    "- `x=x` – the widget's top-left pixel's **horizontal coordinate** measured relative to the home window's top-left corner;\n",
    "- `y=y` – the widget's top-left pixel's **vertical coordinate** measured relative to the home window's top-left corner."
   ]
  },
  {
   "cell_type": "code",
   "execution_count": 6,
   "metadata": {},
   "outputs": [],
   "source": [
    "import tkinter as tk\n",
    "\n",
    "window = tk.Tk()\n",
    "button_1 = tk.Button(window, text=\"Button #1\")\n",
    "button_2 = tk.Button(window, text=\"Button #2\")\n",
    "button_3 = tk.Button(window, text=\"Button #3\")\n",
    "button_1.place(x=10, y=10)\n",
    "button_2.place(x=20, y=40)\n",
    "button_3.place(x=30, y=70)\n",
    "window.mainloop()"
   ]
  },
  {
   "cell_type": "code",
   "execution_count": null,
   "metadata": {},
   "outputs": [],
   "source": []
  },
  {
   "cell_type": "code",
   "execution_count": null,
   "metadata": {},
   "outputs": [],
   "source": []
  },
  {
   "cell_type": "code",
   "execution_count": null,
   "metadata": {},
   "outputs": [],
   "source": []
  },
  {
   "cell_type": "code",
   "execution_count": null,
   "metadata": {},
   "outputs": [],
   "source": []
  },
  {
   "cell_type": "code",
   "execution_count": null,
   "metadata": {},
   "outputs": [],
   "source": []
  },
  {
   "cell_type": "code",
   "execution_count": null,
   "metadata": {},
   "outputs": [],
   "source": []
  },
  {
   "cell_type": "code",
   "execution_count": null,
   "metadata": {},
   "outputs": [],
   "source": []
  },
  {
   "cell_type": "code",
   "execution_count": null,
   "metadata": {},
   "outputs": [],
   "source": []
  },
  {
   "cell_type": "code",
   "execution_count": null,
   "metadata": {},
   "outputs": [],
   "source": []
  },
  {
   "cell_type": "code",
   "execution_count": null,
   "metadata": {},
   "outputs": [],
   "source": []
  },
  {
   "cell_type": "code",
   "execution_count": null,
   "metadata": {},
   "outputs": [],
   "source": []
  },
  {
   "cell_type": "code",
   "execution_count": null,
   "metadata": {},
   "outputs": [],
   "source": []
  }
 ],
 "metadata": {
  "kernelspec": {
   "display_name": "Python 3",
   "language": "python",
   "name": "python3"
  },
  "language_info": {
   "codemirror_mode": {
    "name": "ipython",
    "version": 3
   },
   "file_extension": ".py",
   "mimetype": "text/x-python",
   "name": "python",
   "nbconvert_exporter": "python",
   "pygments_lexer": "ipython3",
   "version": "3.7.4"
  }
 },
 "nbformat": 4,
 "nbformat_minor": 2
}
